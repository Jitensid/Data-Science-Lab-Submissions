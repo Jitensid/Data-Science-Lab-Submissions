{
 "cells": [
  {
   "cell_type": "markdown",
   "metadata": {
    "id": "lmllge9nfcaM"
   },
   "source": [
    "### Name: Jiten Sidhpura \n",
    "### UID: 2018130051\n",
    "### Batch B\n",
    "### BE COMPS\n",
    "\n",
    "### Objective: To implement and use Principal Component Analysis using Python Platform"
   ]
  },
  {
   "cell_type": "markdown",
   "metadata": {
    "id": "L-MkNFNVOmMf"
   },
   "source": [
    "## Import Necessary Packages"
   ]
  },
  {
   "cell_type": "code",
   "execution_count": 1,
   "metadata": {
    "id": "qxjfKd90SS-R"
   },
   "outputs": [],
   "source": [
    "import pandas as pd\n",
    "import numpy as np\n",
    "import seaborn as sns\n",
    "from matplotlib import pyplot as plt"
   ]
  },
  {
   "cell_type": "markdown",
   "metadata": {
    "id": "b-ZGrMrDOpNb"
   },
   "source": [
    "## Load Abalone Dataset into Pandas DataFrame"
   ]
  },
  {
   "cell_type": "code",
   "execution_count": 49,
   "metadata": {
    "colab": {
     "base_uri": "https://localhost:8080/",
     "height": 206
    },
    "id": "hcU3pCAJSbNC",
    "outputId": "c4459450-b48e-48b0-86b4-99eb7f63ca63"
   },
   "outputs": [
    {
     "data": {
      "text/html": [
       "<div>\n",
       "<style scoped>\n",
       "    .dataframe tbody tr th:only-of-type {\n",
       "        vertical-align: middle;\n",
       "    }\n",
       "\n",
       "    .dataframe tbody tr th {\n",
       "        vertical-align: top;\n",
       "    }\n",
       "\n",
       "    .dataframe thead th {\n",
       "        text-align: right;\n",
       "    }\n",
       "</style>\n",
       "<table border=\"1\" class=\"dataframe\">\n",
       "  <thead>\n",
       "    <tr style=\"text-align: right;\">\n",
       "      <th></th>\n",
       "      <th>M</th>\n",
       "      <th>0.455</th>\n",
       "      <th>0.365</th>\n",
       "      <th>0.095</th>\n",
       "      <th>0.514</th>\n",
       "      <th>0.2245</th>\n",
       "      <th>0.101</th>\n",
       "      <th>0.15</th>\n",
       "      <th>15</th>\n",
       "    </tr>\n",
       "  </thead>\n",
       "  <tbody>\n",
       "    <tr>\n",
       "      <th>0</th>\n",
       "      <td>M</td>\n",
       "      <td>0.350</td>\n",
       "      <td>0.265</td>\n",
       "      <td>0.090</td>\n",
       "      <td>0.2255</td>\n",
       "      <td>0.0995</td>\n",
       "      <td>0.0485</td>\n",
       "      <td>0.070</td>\n",
       "      <td>7</td>\n",
       "    </tr>\n",
       "    <tr>\n",
       "      <th>1</th>\n",
       "      <td>F</td>\n",
       "      <td>0.530</td>\n",
       "      <td>0.420</td>\n",
       "      <td>0.135</td>\n",
       "      <td>0.6770</td>\n",
       "      <td>0.2565</td>\n",
       "      <td>0.1415</td>\n",
       "      <td>0.210</td>\n",
       "      <td>9</td>\n",
       "    </tr>\n",
       "    <tr>\n",
       "      <th>2</th>\n",
       "      <td>M</td>\n",
       "      <td>0.440</td>\n",
       "      <td>0.365</td>\n",
       "      <td>0.125</td>\n",
       "      <td>0.5160</td>\n",
       "      <td>0.2155</td>\n",
       "      <td>0.1140</td>\n",
       "      <td>0.155</td>\n",
       "      <td>10</td>\n",
       "    </tr>\n",
       "    <tr>\n",
       "      <th>3</th>\n",
       "      <td>I</td>\n",
       "      <td>0.330</td>\n",
       "      <td>0.255</td>\n",
       "      <td>0.080</td>\n",
       "      <td>0.2050</td>\n",
       "      <td>0.0895</td>\n",
       "      <td>0.0395</td>\n",
       "      <td>0.055</td>\n",
       "      <td>7</td>\n",
       "    </tr>\n",
       "    <tr>\n",
       "      <th>4</th>\n",
       "      <td>I</td>\n",
       "      <td>0.425</td>\n",
       "      <td>0.300</td>\n",
       "      <td>0.095</td>\n",
       "      <td>0.3515</td>\n",
       "      <td>0.1410</td>\n",
       "      <td>0.0775</td>\n",
       "      <td>0.120</td>\n",
       "      <td>8</td>\n",
       "    </tr>\n",
       "  </tbody>\n",
       "</table>\n",
       "</div>"
      ],
      "text/plain": [
       "   M  0.455  0.365  0.095   0.514  0.2245   0.101   0.15  15\n",
       "0  M  0.350  0.265  0.090  0.2255  0.0995  0.0485  0.070   7\n",
       "1  F  0.530  0.420  0.135  0.6770  0.2565  0.1415  0.210   9\n",
       "2  M  0.440  0.365  0.125  0.5160  0.2155  0.1140  0.155  10\n",
       "3  I  0.330  0.255  0.080  0.2050  0.0895  0.0395  0.055   7\n",
       "4  I  0.425  0.300  0.095  0.3515  0.1410  0.0775  0.120   8"
      ]
     },
     "execution_count": 49,
     "metadata": {},
     "output_type": "execute_result"
    }
   ],
   "source": [
    "dataset = pd.read_csv('abalone.data')\n",
    "dataset.head()"
   ]
  },
  {
   "cell_type": "markdown",
   "metadata": {
    "id": "JoLAJYyLOuDS"
   },
   "source": [
    "## Add header into the Dataset"
   ]
  },
  {
   "cell_type": "code",
   "execution_count": 50,
   "metadata": {
    "id": "iboiUA1Edu9J"
   },
   "outputs": [],
   "source": [
    "dataset.columns = ['Sex', 'Length', 'Diameter', 'Height',\n",
    "                   'Whole weight', 'Shucked weight',\n",
    "                    'Viscera weight', 'Shell weight', 'Rings'\n",
    "                ]"
   ]
  },
  {
   "cell_type": "code",
   "execution_count": 51,
   "metadata": {
    "colab": {
     "base_uri": "https://localhost:8080/",
     "height": 206
    },
    "id": "oEn1TrzrhNHy",
    "outputId": "22dacd86-79ab-440d-e7fd-0eafc7c9ee09"
   },
   "outputs": [
    {
     "data": {
      "text/html": [
       "<div>\n",
       "<style scoped>\n",
       "    .dataframe tbody tr th:only-of-type {\n",
       "        vertical-align: middle;\n",
       "    }\n",
       "\n",
       "    .dataframe tbody tr th {\n",
       "        vertical-align: top;\n",
       "    }\n",
       "\n",
       "    .dataframe thead th {\n",
       "        text-align: right;\n",
       "    }\n",
       "</style>\n",
       "<table border=\"1\" class=\"dataframe\">\n",
       "  <thead>\n",
       "    <tr style=\"text-align: right;\">\n",
       "      <th></th>\n",
       "      <th>Sex</th>\n",
       "      <th>Length</th>\n",
       "      <th>Diameter</th>\n",
       "      <th>Height</th>\n",
       "      <th>Whole weight</th>\n",
       "      <th>Shucked weight</th>\n",
       "      <th>Viscera weight</th>\n",
       "      <th>Shell weight</th>\n",
       "      <th>Rings</th>\n",
       "    </tr>\n",
       "  </thead>\n",
       "  <tbody>\n",
       "    <tr>\n",
       "      <th>0</th>\n",
       "      <td>M</td>\n",
       "      <td>0.350</td>\n",
       "      <td>0.265</td>\n",
       "      <td>0.090</td>\n",
       "      <td>0.2255</td>\n",
       "      <td>0.0995</td>\n",
       "      <td>0.0485</td>\n",
       "      <td>0.070</td>\n",
       "      <td>7</td>\n",
       "    </tr>\n",
       "    <tr>\n",
       "      <th>1</th>\n",
       "      <td>F</td>\n",
       "      <td>0.530</td>\n",
       "      <td>0.420</td>\n",
       "      <td>0.135</td>\n",
       "      <td>0.6770</td>\n",
       "      <td>0.2565</td>\n",
       "      <td>0.1415</td>\n",
       "      <td>0.210</td>\n",
       "      <td>9</td>\n",
       "    </tr>\n",
       "    <tr>\n",
       "      <th>2</th>\n",
       "      <td>M</td>\n",
       "      <td>0.440</td>\n",
       "      <td>0.365</td>\n",
       "      <td>0.125</td>\n",
       "      <td>0.5160</td>\n",
       "      <td>0.2155</td>\n",
       "      <td>0.1140</td>\n",
       "      <td>0.155</td>\n",
       "      <td>10</td>\n",
       "    </tr>\n",
       "    <tr>\n",
       "      <th>3</th>\n",
       "      <td>I</td>\n",
       "      <td>0.330</td>\n",
       "      <td>0.255</td>\n",
       "      <td>0.080</td>\n",
       "      <td>0.2050</td>\n",
       "      <td>0.0895</td>\n",
       "      <td>0.0395</td>\n",
       "      <td>0.055</td>\n",
       "      <td>7</td>\n",
       "    </tr>\n",
       "    <tr>\n",
       "      <th>4</th>\n",
       "      <td>I</td>\n",
       "      <td>0.425</td>\n",
       "      <td>0.300</td>\n",
       "      <td>0.095</td>\n",
       "      <td>0.3515</td>\n",
       "      <td>0.1410</td>\n",
       "      <td>0.0775</td>\n",
       "      <td>0.120</td>\n",
       "      <td>8</td>\n",
       "    </tr>\n",
       "  </tbody>\n",
       "</table>\n",
       "</div>"
      ],
      "text/plain": [
       "  Sex  Length  Diameter  Height  Whole weight  Shucked weight  Viscera weight  \\\n",
       "0   M   0.350     0.265   0.090        0.2255          0.0995          0.0485   \n",
       "1   F   0.530     0.420   0.135        0.6770          0.2565          0.1415   \n",
       "2   M   0.440     0.365   0.125        0.5160          0.2155          0.1140   \n",
       "3   I   0.330     0.255   0.080        0.2050          0.0895          0.0395   \n",
       "4   I   0.425     0.300   0.095        0.3515          0.1410          0.0775   \n",
       "\n",
       "   Shell weight  Rings  \n",
       "0         0.070      7  \n",
       "1         0.210      9  \n",
       "2         0.155     10  \n",
       "3         0.055      7  \n",
       "4         0.120      8  "
      ]
     },
     "execution_count": 51,
     "metadata": {},
     "output_type": "execute_result"
    }
   ],
   "source": [
    "dataset.head()"
   ]
  },
  {
   "cell_type": "markdown",
   "metadata": {
    "id": "Fi6Yyt_aVchL"
   },
   "source": [
    "## Delete Duplicate Rows if Present"
   ]
  },
  {
   "cell_type": "code",
   "execution_count": 52,
   "metadata": {
    "id": "gAeD7SD5VZaI"
   },
   "outputs": [],
   "source": [
    "dataset = dataset.drop_duplicates()"
   ]
  },
  {
   "cell_type": "markdown",
   "metadata": {
    "id": "gihxYHz8OxWQ"
   },
   "source": [
    "## Check for Missing Values"
   ]
  },
  {
   "cell_type": "code",
   "execution_count": 53,
   "metadata": {
    "colab": {
     "base_uri": "https://localhost:8080/",
     "height": 588
    },
    "id": "mhWiFMy8SbPA",
    "outputId": "b7926a13-29c3-412e-a9b0-22a985635b15"
   },
   "outputs": [
    {
     "data": {
      "text/plain": [
       "<AxesSubplot:>"
      ]
     },
     "execution_count": 53,
     "metadata": {},
     "output_type": "execute_result"
    },
    {
     "data": {
      "image/png": "[encoded data removed]",
      "text/plain": [
       "<Figure size 1728x720 with 3 Axes>"
      ]
     },
     "metadata": {
      "needs_background": "light"
     },
     "output_type": "display_data"
    }
   ],
   "source": [
    "import missingno\n",
    "missingno.bar(dataset)"
   ]
  },
  {
   "cell_type": "markdown",
   "metadata": {
    "id": "hcZvtsYI_Mhh"
   },
   "source": [
    "## Summary of Research Paper on PCA"
   ]
  },
  {
   "cell_type": "markdown",
   "metadata": {
    "id": "ozg4ZAD8SbTZ"
   },
   "source": [
    "\n",
    "1.   PCA Rank gives actual number of independent features.\n",
    "2.   Classical PCA deals with normed variables (data that is centered and reduced)\n",
    "\n"
   ]
  },
  {
   "cell_type": "code",
   "execution_count": 54,
   "metadata": {
    "colab": {
     "base_uri": "https://localhost:8080/",
     "height": 206
    },
    "id": "KR0ei12Xchri",
    "outputId": "b93c1b66-ce9a-4daf-9236-2a204daba2c5"
   },
   "outputs": [
    {
     "data": {
      "text/html": [
       "<div>\n",
       "<style scoped>\n",
       "    .dataframe tbody tr th:only-of-type {\n",
       "        vertical-align: middle;\n",
       "    }\n",
       "\n",
       "    .dataframe tbody tr th {\n",
       "        vertical-align: top;\n",
       "    }\n",
       "\n",
       "    .dataframe thead th {\n",
       "        text-align: right;\n",
       "    }\n",
       "</style>\n",
       "<table border=\"1\" class=\"dataframe\">\n",
       "  <thead>\n",
       "    <tr style=\"text-align: right;\">\n",
       "      <th></th>\n",
       "      <th>Sex</th>\n",
       "      <th>Length</th>\n",
       "      <th>Diameter</th>\n",
       "      <th>Height</th>\n",
       "      <th>Whole weight</th>\n",
       "      <th>Shucked weight</th>\n",
       "      <th>Viscera weight</th>\n",
       "      <th>Shell weight</th>\n",
       "      <th>Rings</th>\n",
       "    </tr>\n",
       "  </thead>\n",
       "  <tbody>\n",
       "    <tr>\n",
       "      <th>0</th>\n",
       "      <td>M</td>\n",
       "      <td>0.350</td>\n",
       "      <td>0.265</td>\n",
       "      <td>0.090</td>\n",
       "      <td>0.2255</td>\n",
       "      <td>0.0995</td>\n",
       "      <td>0.0485</td>\n",
       "      <td>0.070</td>\n",
       "      <td>7</td>\n",
       "    </tr>\n",
       "    <tr>\n",
       "      <th>1</th>\n",
       "      <td>F</td>\n",
       "      <td>0.530</td>\n",
       "      <td>0.420</td>\n",
       "      <td>0.135</td>\n",
       "      <td>0.6770</td>\n",
       "      <td>0.2565</td>\n",
       "      <td>0.1415</td>\n",
       "      <td>0.210</td>\n",
       "      <td>9</td>\n",
       "    </tr>\n",
       "    <tr>\n",
       "      <th>2</th>\n",
       "      <td>M</td>\n",
       "      <td>0.440</td>\n",
       "      <td>0.365</td>\n",
       "      <td>0.125</td>\n",
       "      <td>0.5160</td>\n",
       "      <td>0.2155</td>\n",
       "      <td>0.1140</td>\n",
       "      <td>0.155</td>\n",
       "      <td>10</td>\n",
       "    </tr>\n",
       "    <tr>\n",
       "      <th>3</th>\n",
       "      <td>I</td>\n",
       "      <td>0.330</td>\n",
       "      <td>0.255</td>\n",
       "      <td>0.080</td>\n",
       "      <td>0.2050</td>\n",
       "      <td>0.0895</td>\n",
       "      <td>0.0395</td>\n",
       "      <td>0.055</td>\n",
       "      <td>7</td>\n",
       "    </tr>\n",
       "    <tr>\n",
       "      <th>4</th>\n",
       "      <td>I</td>\n",
       "      <td>0.425</td>\n",
       "      <td>0.300</td>\n",
       "      <td>0.095</td>\n",
       "      <td>0.3515</td>\n",
       "      <td>0.1410</td>\n",
       "      <td>0.0775</td>\n",
       "      <td>0.120</td>\n",
       "      <td>8</td>\n",
       "    </tr>\n",
       "  </tbody>\n",
       "</table>\n",
       "</div>"
      ],
      "text/plain": [
       "  Sex  Length  Diameter  Height  Whole weight  Shucked weight  Viscera weight  \\\n",
       "0   M   0.350     0.265   0.090        0.2255          0.0995          0.0485   \n",
       "1   F   0.530     0.420   0.135        0.6770          0.2565          0.1415   \n",
       "2   M   0.440     0.365   0.125        0.5160          0.2155          0.1140   \n",
       "3   I   0.330     0.255   0.080        0.2050          0.0895          0.0395   \n",
       "4   I   0.425     0.300   0.095        0.3515          0.1410          0.0775   \n",
       "\n",
       "   Shell weight  Rings  \n",
       "0         0.070      7  \n",
       "1         0.210      9  \n",
       "2         0.155     10  \n",
       "3         0.055      7  \n",
       "4         0.120      8  "
      ]
     },
     "execution_count": 54,
     "metadata": {},
     "output_type": "execute_result"
    }
   ],
   "source": [
    "dataset.head()"
   ]
  },
  {
   "cell_type": "markdown",
   "metadata": {
    "id": "dRQGzpKpch3C"
   },
   "source": [
    "## Rings Feature"
   ]
  },
  {
   "cell_type": "markdown",
   "metadata": {
    "id": "mFHpBVRZ_lIc"
   },
   "source": [
    "### Values are continuous integers so we can treat this problem as Regression"
   ]
  },
  {
   "cell_type": "code",
   "execution_count": 55,
   "metadata": {
    "colab": {
     "base_uri": "https://localhost:8080/"
    },
    "id": "MxITTYbzch5i",
    "outputId": "2d659842-3501-4c7d-9a72-0008d5db868f"
   },
   "outputs": [
    {
     "data": {
      "text/plain": [
       "array([ 7,  9, 10,  8, 20, 16, 19, 14, 11, 12, 15, 18, 13,  5,  4,  6, 21,\n",
       "       17, 22,  1,  3, 26, 23, 29,  2, 27, 25, 24], dtype=int64)"
      ]
     },
     "execution_count": 55,
     "metadata": {},
     "output_type": "execute_result"
    }
   ],
   "source": [
    "dataset['Rings'].unique()"
   ]
  },
  {
   "cell_type": "code",
   "execution_count": 56,
   "metadata": {
    "colab": {
     "base_uri": "https://localhost:8080/"
    },
    "id": "SswXKcK8ch-i",
    "outputId": "51a6b5cc-537a-4501-e29c-ce6baef7e99a"
   },
   "outputs": [
    {
     "data": {
      "text/plain": [
       "9     689\n",
       "10    634\n",
       "8     568\n",
       "11    487\n",
       "7     391\n",
       "12    267\n",
       "6     259\n",
       "13    203\n",
       "14    126\n",
       "5     115\n",
       "15    102\n",
       "16     67\n",
       "17     58\n",
       "4      57\n",
       "18     42\n",
       "19     32\n",
       "20     26\n",
       "3      15\n",
       "21     14\n",
       "23      9\n",
       "22      6\n",
       "27      2\n",
       "24      2\n",
       "1       1\n",
       "26      1\n",
       "29      1\n",
       "2       1\n",
       "25      1\n",
       "Name: Rings, dtype: int64"
      ]
     },
     "execution_count": 56,
     "metadata": {},
     "output_type": "execute_result"
    }
   ],
   "source": [
    "dataset['Rings'].value_counts()"
   ]
  },
  {
   "cell_type": "markdown",
   "metadata": {
    "id": "fx5KMl5WciCj"
   },
   "source": [
    "## Sex Attribute"
   ]
  },
  {
   "cell_type": "code",
   "execution_count": 57,
   "metadata": {
    "colab": {
     "base_uri": "https://localhost:8080/"
    },
    "id": "7_XG42KrciEi",
    "outputId": "9ea571a0-0665-4480-d7f8-ee9420299af3"
   },
   "outputs": [
    {
     "data": {
      "text/plain": [
       "M    1527\n",
       "I    1342\n",
       "F    1307\n",
       "Name: Sex, dtype: int64"
      ]
     },
     "execution_count": 57,
     "metadata": {},
     "output_type": "execute_result"
    }
   ],
   "source": [
    "dataset['Sex'].value_counts()"
   ]
  },
  {
   "cell_type": "markdown",
   "metadata": {
    "id": "Jva0p6CzciIq"
   },
   "source": [
    "### There are three types Male, Female and Infant\n",
    "### Lets encode them as \n",
    "### M ==> 0\n",
    "### I ==> 1\n",
    "### F ==> 2"
   ]
  },
  {
   "cell_type": "code",
   "execution_count": 58,
   "metadata": {
    "colab": {
     "base_uri": "https://localhost:8080/",
     "height": 206
    },
    "id": "hZJchSGmciLy",
    "outputId": "34e641a5-9c91-4c6b-ae26-c1fac5da2f5b"
   },
   "outputs": [
    {
     "data": {
      "text/html": [
       "<div>\n",
       "<style scoped>\n",
       "    .dataframe tbody tr th:only-of-type {\n",
       "        vertical-align: middle;\n",
       "    }\n",
       "\n",
       "    .dataframe tbody tr th {\n",
       "        vertical-align: top;\n",
       "    }\n",
       "\n",
       "    .dataframe thead th {\n",
       "        text-align: right;\n",
       "    }\n",
       "</style>\n",
       "<table border=\"1\" class=\"dataframe\">\n",
       "  <thead>\n",
       "    <tr style=\"text-align: right;\">\n",
       "      <th></th>\n",
       "      <th>Sex</th>\n",
       "      <th>Length</th>\n",
       "      <th>Diameter</th>\n",
       "      <th>Height</th>\n",
       "      <th>Whole weight</th>\n",
       "      <th>Shucked weight</th>\n",
       "      <th>Viscera weight</th>\n",
       "      <th>Shell weight</th>\n",
       "      <th>Rings</th>\n",
       "      <th>Sex_Transformed</th>\n",
       "    </tr>\n",
       "  </thead>\n",
       "  <tbody>\n",
       "    <tr>\n",
       "      <th>0</th>\n",
       "      <td>M</td>\n",
       "      <td>0.350</td>\n",
       "      <td>0.265</td>\n",
       "      <td>0.090</td>\n",
       "      <td>0.2255</td>\n",
       "      <td>0.0995</td>\n",
       "      <td>0.0485</td>\n",
       "      <td>0.070</td>\n",
       "      <td>7</td>\n",
       "      <td>0</td>\n",
       "    </tr>\n",
       "    <tr>\n",
       "      <th>1</th>\n",
       "      <td>F</td>\n",
       "      <td>0.530</td>\n",
       "      <td>0.420</td>\n",
       "      <td>0.135</td>\n",
       "      <td>0.6770</td>\n",
       "      <td>0.2565</td>\n",
       "      <td>0.1415</td>\n",
       "      <td>0.210</td>\n",
       "      <td>9</td>\n",
       "      <td>2</td>\n",
       "    </tr>\n",
       "    <tr>\n",
       "      <th>2</th>\n",
       "      <td>M</td>\n",
       "      <td>0.440</td>\n",
       "      <td>0.365</td>\n",
       "      <td>0.125</td>\n",
       "      <td>0.5160</td>\n",
       "      <td>0.2155</td>\n",
       "      <td>0.1140</td>\n",
       "      <td>0.155</td>\n",
       "      <td>10</td>\n",
       "      <td>0</td>\n",
       "    </tr>\n",
       "    <tr>\n",
       "      <th>3</th>\n",
       "      <td>I</td>\n",
       "      <td>0.330</td>\n",
       "      <td>0.255</td>\n",
       "      <td>0.080</td>\n",
       "      <td>0.2050</td>\n",
       "      <td>0.0895</td>\n",
       "      <td>0.0395</td>\n",
       "      <td>0.055</td>\n",
       "      <td>7</td>\n",
       "      <td>1</td>\n",
       "    </tr>\n",
       "    <tr>\n",
       "      <th>4</th>\n",
       "      <td>I</td>\n",
       "      <td>0.425</td>\n",
       "      <td>0.300</td>\n",
       "      <td>0.095</td>\n",
       "      <td>0.3515</td>\n",
       "      <td>0.1410</td>\n",
       "      <td>0.0775</td>\n",
       "      <td>0.120</td>\n",
       "      <td>8</td>\n",
       "      <td>1</td>\n",
       "    </tr>\n",
       "  </tbody>\n",
       "</table>\n",
       "</div>"
      ],
      "text/plain": [
       "  Sex  Length  Diameter  Height  Whole weight  Shucked weight  Viscera weight  \\\n",
       "0   M   0.350     0.265   0.090        0.2255          0.0995          0.0485   \n",
       "1   F   0.530     0.420   0.135        0.6770          0.2565          0.1415   \n",
       "2   M   0.440     0.365   0.125        0.5160          0.2155          0.1140   \n",
       "3   I   0.330     0.255   0.080        0.2050          0.0895          0.0395   \n",
       "4   I   0.425     0.300   0.095        0.3515          0.1410          0.0775   \n",
       "\n",
       "   Shell weight  Rings  Sex_Transformed  \n",
       "0         0.070      7                0  \n",
       "1         0.210      9                2  \n",
       "2         0.155     10                0  \n",
       "3         0.055      7                1  \n",
       "4         0.120      8                1  "
      ]
     },
     "execution_count": 58,
     "metadata": {},
     "output_type": "execute_result"
    }
   ],
   "source": [
    "sex_to_numeric_dict = {\n",
    "    'M': 0,\n",
    "    'I': 1,\n",
    "    'F': 2\n",
    "}\n",
    "\n",
    "dataset['Sex_Transformed'] = dataset['Sex'].map(sex_to_numeric_dict)\n",
    "\n",
    "dataset.head()"
   ]
  },
  {
   "cell_type": "markdown",
   "metadata": {
    "id": "dl3N854M_7Xz"
   },
   "source": [
    "## Skewness of All Numerical Vars"
   ]
  },
  {
   "cell_type": "code",
   "execution_count": 59,
   "metadata": {
    "colab": {
     "base_uri": "https://localhost:8080/"
    },
    "id": "655uiwjb_-Np",
    "outputId": "9ca5e3c8-776a-4fe1-c56c-279f23c254b4"
   },
   "outputs": [
    {
     "name": "stderr",
     "output_type": "stream",
     "text": [
      "C:\\Users\\jiten\\AppData\\Local\\Temp/ipykernel_708/4231230252.py:1: FutureWarning: Dropping of nuisance columns in DataFrame reductions (with 'numeric_only=None') is deprecated; in a future version this will raise TypeError.  Select only valid columns before calling the reduction.\n",
      "  dataset.skew()\n"
     ]
    },
    {
     "data": {
      "text/plain": [
       "Length            -0.640240\n",
       "Diameter          -0.609457\n",
       "Height             3.129241\n",
       "Whole weight       0.530576\n",
       "Shucked weight     0.718724\n",
       "Viscera weight     0.591463\n",
       "Shell weight       0.620547\n",
       "Rings              1.115157\n",
       "Sex_Transformed    0.097729\n",
       "dtype: float64"
      ]
     },
     "execution_count": 59,
     "metadata": {},
     "output_type": "execute_result"
    }
   ],
   "source": [
    "dataset.skew()"
   ]
  },
  {
   "cell_type": "markdown",
   "metadata": {
    "id": "DarYfcgdAePK"
   },
   "source": [
    "### Significant amount of data is skewed so to reduce it we can normalize these variables"
   ]
  },
  {
   "cell_type": "code",
   "execution_count": 60,
   "metadata": {
    "id": "h7mignS5Am_K"
   },
   "outputs": [],
   "source": [
    "numerical_cols = [\n",
    "    'Length', 'Diameter', 'Height',\n",
    "    'Whole weight', 'Shucked weight',\n",
    "    'Viscera weight', 'Shell weight',\n",
    "]\n"
   ]
  },
  {
   "cell_type": "code",
   "execution_count": 61,
   "metadata": {
    "id": "miZSXHd0A_YY"
   },
   "outputs": [],
   "source": [
    "normalized_dataset = dataset.copy()"
   ]
  },
  {
   "cell_type": "markdown",
   "metadata": {
    "id": "eInmJ63zhD6p"
   },
   "source": [
    "## Normalizing Dataset using sklearn's Normalizer"
   ]
  },
  {
   "cell_type": "code",
   "execution_count": 62,
   "metadata": {
    "id": "wdNI6M5dA0ep"
   },
   "outputs": [],
   "source": [
    "from sklearn.preprocessing import Normalizer\n",
    "\n",
    "normalizer = Normalizer()\n",
    "\n",
    "normalized_dataset[numerical_cols] = normalizer.fit_transform(normalized_dataset[numerical_cols])"
   ]
  },
  {
   "cell_type": "code",
   "execution_count": 63,
   "metadata": {
    "colab": {
     "base_uri": "https://localhost:8080/"
    },
    "id": "jMBgfTXBBZWt",
    "outputId": "1434bd77-0e7e-4c00-b2dc-522233bbef8d"
   },
   "outputs": [
    {
     "name": "stderr",
     "output_type": "stream",
     "text": [
      "C:\\Users\\jiten\\AppData\\Local\\Temp/ipykernel_708/1718646135.py:1: FutureWarning: Dropping of nuisance columns in DataFrame reductions (with 'numeric_only=None') is deprecated; in a future version this will raise TypeError.  Select only valid columns before calling the reduction.\n",
      "  normalized_dataset.skew()\n"
     ]
    },
    {
     "data": {
      "text/plain": [
       "Length             0.458115\n",
       "Diameter           0.331206\n",
       "Height             2.295045\n",
       "Whole weight      -1.344990\n",
       "Shucked weight    -0.608027\n",
       "Viscera weight    -0.632647\n",
       "Shell weight      -0.323576\n",
       "Rings              1.115157\n",
       "Sex_Transformed    0.097729\n",
       "dtype: float64"
      ]
     },
     "execution_count": 63,
     "metadata": {},
     "output_type": "execute_result"
    }
   ],
   "source": [
    "normalized_dataset.skew()"
   ]
  },
  {
   "cell_type": "markdown",
   "metadata": {
    "id": "6l3J0qWD_zaE"
   },
   "source": [
    "## Length Feature"
   ]
  },
  {
   "cell_type": "code",
   "execution_count": 64,
   "metadata": {
    "colab": {
     "base_uri": "https://localhost:8080/",
     "height": 351
    },
    "id": "Q2wIfpmX_1r6",
    "outputId": "8a6e0a99-8e53-4810-fea2-51d8932cd8ef"
   },
   "outputs": [
    {
     "name": "stderr",
     "output_type": "stream",
     "text": [
      "C:\\Users\\jiten\\anaconda3\\lib\\site-packages\\seaborn\\distributions.py:2619: FutureWarning: `distplot` is a deprecated function and will be removed in a future version. Please adapt your code to use either `displot` (a figure-level function with similar flexibility) or `histplot` (an axes-level function for histograms).\n",
      "  warnings.warn(msg, FutureWarning)\n"
     ]
    },
    {
     "data": {
      "text/plain": [
       "<AxesSubplot:xlabel='Length', ylabel='Density'>"
      ]
     },
     "execution_count": 64,
     "metadata": {},
     "output_type": "execute_result"
    },
    {
     "data": {
      "image/png": "[encoded data removed]",
      "text/plain": [
       "<Figure size 432x288 with 1 Axes>"
      ]
     },
     "metadata": {
      "needs_background": "light"
     },
     "output_type": "display_data"
    }
   ],
   "source": [
    "sns.distplot(normalized_dataset['Length'])"
   ]
  },
  {
   "cell_type": "markdown",
   "metadata": {
    "id": "DoSzQAuZD5B3"
   },
   "source": [
    "## Diameter Feature"
   ]
  },
  {
   "cell_type": "code",
   "execution_count": 65,
   "metadata": {
    "colab": {
     "base_uri": "https://localhost:8080/",
     "height": 351
    },
    "id": "T2Ej0gCWD7fq",
    "outputId": "5deff2f9-6c9e-4451-f22e-88897c3aa591"
   },
   "outputs": [
    {
     "name": "stderr",
     "output_type": "stream",
     "text": [
      "C:\\Users\\jiten\\anaconda3\\lib\\site-packages\\seaborn\\distributions.py:2619: FutureWarning: `distplot` is a deprecated function and will be removed in a future version. Please adapt your code to use either `displot` (a figure-level function with similar flexibility) or `histplot` (an axes-level function for histograms).\n",
      "  warnings.warn(msg, FutureWarning)\n"
     ]
    },
    {
     "data": {
      "text/plain": [
       "<AxesSubplot:xlabel='Diameter', ylabel='Density'>"
      ]
     },
     "execution_count": 65,
     "metadata": {},
     "output_type": "execute_result"
    },
    {
     "data": {
      "image/png": "[encoded data removed]",
      "text/plain": [
       "<Figure size 432x288 with 1 Axes>"
      ]
     },
     "metadata": {
      "needs_background": "light"
     },
     "output_type": "display_data"
    }
   ],
   "source": [
    "sns.distplot(normalized_dataset['Diameter'])"
   ]
  },
  {
   "cell_type": "markdown",
   "metadata": {
    "id": "dcIN714JD9qD"
   },
   "source": [
    "## Height Feature"
   ]
  },
  {
   "cell_type": "markdown",
   "metadata": {
    "id": "uXfLYCvmEEO5"
   },
   "source": [
    "## After normalization this feature is still skewed"
   ]
  },
  {
   "cell_type": "code",
   "execution_count": 66,
   "metadata": {
    "colab": {
     "base_uri": "https://localhost:8080/",
     "height": 355
    },
    "id": "SnCAAasID9wP",
    "outputId": "647316b0-964d-4a3d-e49c-5767d21bdcfa"
   },
   "outputs": [
    {
     "name": "stderr",
     "output_type": "stream",
     "text": [
      "C:\\Users\\jiten\\anaconda3\\lib\\site-packages\\seaborn\\distributions.py:2619: FutureWarning: `distplot` is a deprecated function and will be removed in a future version. Please adapt your code to use either `displot` (a figure-level function with similar flexibility) or `histplot` (an axes-level function for histograms).\n",
      "  warnings.warn(msg, FutureWarning)\n"
     ]
    },
    {
     "data": {
      "text/plain": [
       "<AxesSubplot:xlabel='Height', ylabel='Density'>"
      ]
     },
     "execution_count": 66,
     "metadata": {},
     "output_type": "execute_result"
    },
    {
     "data": {
      "image/png": "[encoded data removed]",
      "text/plain": [
       "<Figure size 432x288 with 1 Axes>"
      ]
     },
     "metadata": {
      "needs_background": "light"
     },
     "output_type": "display_data"
    }
   ],
   "source": [
    "sns.distplot(normalized_dataset['Height'])"
   ]
  },
  {
   "cell_type": "markdown",
   "metadata": {
    "id": "ZN3cFCQZhLNy"
   },
   "source": [
    "## Applying Boxcox Transformation to reduce skewness in the Height Feature"
   ]
  },
  {
   "cell_type": "code",
   "execution_count": 67,
   "metadata": {
    "id": "NTAC6f0pD90-"
   },
   "outputs": [],
   "source": [
    "from scipy.special import boxcox, inv_boxcox\n",
    "\n",
    "def apply_boxcox_transformation(dataset_feature, x):\n",
    "    print(f'Before ==> {dataset_feature.skew()}')\n",
    "    \n",
    "    sns.distplot(dataset_feature)\n",
    "    plt.show()\n",
    "\n",
    "    tranformed_dataset_feature = boxcox(dataset_feature, x)\n",
    "\n",
    "    print(f'After ==> {tranformed_dataset_feature.skew()}')\n",
    "\n",
    "    sns.distplot(tranformed_dataset_feature)\n",
    "    plt.show()"
   ]
  },
  {
   "cell_type": "code",
   "execution_count": 68,
   "metadata": {
    "colab": {
     "base_uri": "https://localhost:8080/",
     "height": 669
    },
    "id": "BhKxAexpEljZ",
    "outputId": "fc98df1f-a0d3-461a-f837-4da31cfc2f25"
   },
   "outputs": [
    {
     "name": "stdout",
     "output_type": "stream",
     "text": [
      "Before ==> 2.295044653196873\n"
     ]
    },
    {
     "name": "stderr",
     "output_type": "stream",
     "text": [
      "C:\\Users\\jiten\\anaconda3\\lib\\site-packages\\seaborn\\distributions.py:2619: FutureWarning: `distplot` is a deprecated function and will be removed in a future version. Please adapt your code to use either `displot` (a figure-level function with similar flexibility) or `histplot` (an axes-level function for histograms).\n",
      "  warnings.warn(msg, FutureWarning)\n"
     ]
    },
    {
     "data": {
      "image/png": "[encoded data removed]",
      "text/plain": [
       "<Figure size 432x288 with 1 Axes>"
      ]
     },
     "metadata": {
      "needs_background": "light"
     },
     "output_type": "display_data"
    },
    {
     "name": "stderr",
     "output_type": "stream",
     "text": [
      "C:\\Users\\jiten\\anaconda3\\lib\\site-packages\\seaborn\\distributions.py:2619: FutureWarning: `distplot` is a deprecated function and will be removed in a future version. Please adapt your code to use either `displot` (a figure-level function with similar flexibility) or `histplot` (an axes-level function for histograms).\n",
      "  warnings.warn(msg, FutureWarning)\n"
     ]
    },
    {
     "name": "stdout",
     "output_type": "stream",
     "text": [
      "After ==> 0.10575339899587774\n"
     ]
    },
    {
     "data": {
      "image/png": "[encoded data removed]",
      "text/plain": [
       "<Figure size 432x288 with 1 Axes>"
      ]
     },
     "metadata": {
      "needs_background": "light"
     },
     "output_type": "display_data"
    }
   ],
   "source": [
    "apply_boxcox_transformation(normalized_dataset['Height'], 0.4)"
   ]
  },
  {
   "cell_type": "code",
   "execution_count": 69,
   "metadata": {
    "id": "AbQxmjwcF82N"
   },
   "outputs": [],
   "source": [
    "normalized_dataset['Height'] = boxcox(normalized_dataset['Height'], 0.4)"
   ]
  },
  {
   "cell_type": "markdown",
   "metadata": {
    "id": "d5XPLrptkJT2"
   },
   "source": [
    "## Get Dataset for Models without PCA "
   ]
  },
  {
   "cell_type": "code",
   "execution_count": 70,
   "metadata": {
    "colab": {
     "base_uri": "https://localhost:8080/"
    },
    "id": "Dmx_TwQokk02",
    "outputId": "c17f3ccd-7038-4fe3-a649-a420dd15432e"
   },
   "outputs": [
    {
     "data": {
      "text/plain": [
       "Index(['Sex', 'Length', 'Diameter', 'Height', 'Whole weight', 'Shucked weight',\n",
       "       'Viscera weight', 'Shell weight', 'Rings', 'Sex_Transformed'],\n",
       "      dtype='object')"
      ]
     },
     "execution_count": 70,
     "metadata": {},
     "output_type": "execute_result"
    }
   ],
   "source": [
    "dataset.columns"
   ]
  },
  {
   "cell_type": "code",
   "execution_count": 71,
   "metadata": {
    "colab": {
     "base_uri": "https://localhost:8080/",
     "height": 206
    },
    "id": "1E94X3dgkJdK",
    "outputId": "51ceeed9-ceb4-46cb-f1cb-4e6165a1e298"
   },
   "outputs": [
    {
     "data": {
      "text/html": [
       "<div>\n",
       "<style scoped>\n",
       "    .dataframe tbody tr th:only-of-type {\n",
       "        vertical-align: middle;\n",
       "    }\n",
       "\n",
       "    .dataframe tbody tr th {\n",
       "        vertical-align: top;\n",
       "    }\n",
       "\n",
       "    .dataframe thead th {\n",
       "        text-align: right;\n",
       "    }\n",
       "</style>\n",
       "<table border=\"1\" class=\"dataframe\">\n",
       "  <thead>\n",
       "    <tr style=\"text-align: right;\">\n",
       "      <th></th>\n",
       "      <th>Length</th>\n",
       "      <th>Diameter</th>\n",
       "      <th>Height</th>\n",
       "      <th>Whole weight</th>\n",
       "      <th>Shucked weight</th>\n",
       "      <th>Viscera weight</th>\n",
       "      <th>Shell weight</th>\n",
       "      <th>Sex_Transformed</th>\n",
       "      <th>Rings</th>\n",
       "    </tr>\n",
       "  </thead>\n",
       "  <tbody>\n",
       "    <tr>\n",
       "      <th>0</th>\n",
       "      <td>0.675042</td>\n",
       "      <td>0.511103</td>\n",
       "      <td>-1.259085</td>\n",
       "      <td>0.434920</td>\n",
       "      <td>0.191905</td>\n",
       "      <td>0.093542</td>\n",
       "      <td>0.135008</td>\n",
       "      <td>0</td>\n",
       "      <td>7</td>\n",
       "    </tr>\n",
       "    <tr>\n",
       "      <th>1</th>\n",
       "      <td>0.513869</td>\n",
       "      <td>0.407217</td>\n",
       "      <td>-1.391581</td>\n",
       "      <td>0.656395</td>\n",
       "      <td>0.248693</td>\n",
       "      <td>0.137193</td>\n",
       "      <td>0.203608</td>\n",
       "      <td>2</td>\n",
       "      <td>9</td>\n",
       "    </tr>\n",
       "    <tr>\n",
       "      <th>2</th>\n",
       "      <td>0.528868</td>\n",
       "      <td>0.438720</td>\n",
       "      <td>-1.328717</td>\n",
       "      <td>0.620218</td>\n",
       "      <td>0.259025</td>\n",
       "      <td>0.137025</td>\n",
       "      <td>0.186306</td>\n",
       "      <td>0</td>\n",
       "      <td>10</td>\n",
       "    </tr>\n",
       "    <tr>\n",
       "      <th>3</th>\n",
       "      <td>0.680817</td>\n",
       "      <td>0.526086</td>\n",
       "      <td>-1.283863</td>\n",
       "      <td>0.422932</td>\n",
       "      <td>0.184646</td>\n",
       "      <td>0.081492</td>\n",
       "      <td>0.113469</td>\n",
       "      <td>1</td>\n",
       "      <td>7</td>\n",
       "    </tr>\n",
       "    <tr>\n",
       "      <th>4</th>\n",
       "      <td>0.638186</td>\n",
       "      <td>0.450484</td>\n",
       "      <td>-1.352764</td>\n",
       "      <td>0.527817</td>\n",
       "      <td>0.211728</td>\n",
       "      <td>0.116375</td>\n",
       "      <td>0.180194</td>\n",
       "      <td>1</td>\n",
       "      <td>8</td>\n",
       "    </tr>\n",
       "  </tbody>\n",
       "</table>\n",
       "</div>"
      ],
      "text/plain": [
       "     Length  Diameter    Height  Whole weight  Shucked weight  Viscera weight  \\\n",
       "0  0.675042  0.511103 -1.259085      0.434920        0.191905        0.093542   \n",
       "1  0.513869  0.407217 -1.391581      0.656395        0.248693        0.137193   \n",
       "2  0.528868  0.438720 -1.328717      0.620218        0.259025        0.137025   \n",
       "3  0.680817  0.526086 -1.283863      0.422932        0.184646        0.081492   \n",
       "4  0.638186  0.450484 -1.352764      0.527817        0.211728        0.116375   \n",
       "\n",
       "   Shell weight  Sex_Transformed  Rings  \n",
       "0      0.135008                0      7  \n",
       "1      0.203608                2      9  \n",
       "2      0.186306                0     10  \n",
       "3      0.113469                1      7  \n",
       "4      0.180194                1      8  "
      ]
     },
     "execution_count": 71,
     "metadata": {},
     "output_type": "execute_result"
    }
   ],
   "source": [
    "features_for_without_PCA_model = [\n",
    "    'Length', 'Diameter', 'Height',\n",
    "    'Whole weight', 'Shucked weight', 'Viscera weight',\n",
    "    'Shell weight', 'Sex_Transformed', 'Rings'\n",
    "]\n",
    "\n",
    "modelling_dataset_without_pca = normalized_dataset[features_for_without_PCA_model]\n",
    "\n",
    "modelling_dataset_without_pca.head()"
   ]
  },
  {
   "cell_type": "markdown",
   "metadata": {},
   "source": [
    "## Correlation Matrix"
   ]
  },
  {
   "cell_type": "code",
   "execution_count": 72,
   "metadata": {},
   "outputs": [
    {
     "data": {
      "text/html": [
       "<div>\n",
       "<style scoped>\n",
       "    .dataframe tbody tr th:only-of-type {\n",
       "        vertical-align: middle;\n",
       "    }\n",
       "\n",
       "    .dataframe tbody tr th {\n",
       "        vertical-align: top;\n",
       "    }\n",
       "\n",
       "    .dataframe thead th {\n",
       "        text-align: right;\n",
       "    }\n",
       "</style>\n",
       "<table border=\"1\" class=\"dataframe\">\n",
       "  <thead>\n",
       "    <tr style=\"text-align: right;\">\n",
       "      <th></th>\n",
       "      <th>Length</th>\n",
       "      <th>Diameter</th>\n",
       "      <th>Height</th>\n",
       "      <th>Whole weight</th>\n",
       "      <th>Shucked weight</th>\n",
       "      <th>Viscera weight</th>\n",
       "      <th>Shell weight</th>\n",
       "      <th>Sex_Transformed</th>\n",
       "      <th>Rings</th>\n",
       "    </tr>\n",
       "  </thead>\n",
       "  <tbody>\n",
       "    <tr>\n",
       "      <th>Length</th>\n",
       "      <td>1.000000</td>\n",
       "      <td>0.983396</td>\n",
       "      <td>0.824938</td>\n",
       "      <td>-0.957107</td>\n",
       "      <td>-0.856686</td>\n",
       "      <td>-0.820205</td>\n",
       "      <td>-0.751495</td>\n",
       "      <td>-0.023530</td>\n",
       "      <td>-0.579459</td>\n",
       "    </tr>\n",
       "    <tr>\n",
       "      <th>Diameter</th>\n",
       "      <td>0.983396</td>\n",
       "      <td>1.000000</td>\n",
       "      <td>0.830269</td>\n",
       "      <td>-0.938888</td>\n",
       "      <td>-0.851128</td>\n",
       "      <td>-0.808733</td>\n",
       "      <td>-0.718139</td>\n",
       "      <td>-0.019625</td>\n",
       "      <td>-0.555678</td>\n",
       "    </tr>\n",
       "    <tr>\n",
       "      <th>Height</th>\n",
       "      <td>0.824938</td>\n",
       "      <td>0.830269</td>\n",
       "      <td>1.000000</td>\n",
       "      <td>-0.779709</td>\n",
       "      <td>-0.754910</td>\n",
       "      <td>-0.659325</td>\n",
       "      <td>-0.571959</td>\n",
       "      <td>-0.009542</td>\n",
       "      <td>-0.399006</td>\n",
       "    </tr>\n",
       "    <tr>\n",
       "      <th>Whole weight</th>\n",
       "      <td>-0.957107</td>\n",
       "      <td>-0.938888</td>\n",
       "      <td>-0.779709</td>\n",
       "      <td>1.000000</td>\n",
       "      <td>0.856499</td>\n",
       "      <td>0.857364</td>\n",
       "      <td>0.804319</td>\n",
       "      <td>0.031319</td>\n",
       "      <td>0.596646</td>\n",
       "    </tr>\n",
       "    <tr>\n",
       "      <th>Shucked weight</th>\n",
       "      <td>-0.856686</td>\n",
       "      <td>-0.851128</td>\n",
       "      <td>-0.754910</td>\n",
       "      <td>0.856499</td>\n",
       "      <td>1.000000</td>\n",
       "      <td>0.701145</td>\n",
       "      <td>0.527114</td>\n",
       "      <td>-0.004048</td>\n",
       "      <td>0.314927</td>\n",
       "    </tr>\n",
       "    <tr>\n",
       "      <th>Viscera weight</th>\n",
       "      <td>-0.820205</td>\n",
       "      <td>-0.808733</td>\n",
       "      <td>-0.659325</td>\n",
       "      <td>0.857364</td>\n",
       "      <td>0.701145</td>\n",
       "      <td>1.000000</td>\n",
       "      <td>0.641723</td>\n",
       "      <td>0.047791</td>\n",
       "      <td>0.480590</td>\n",
       "    </tr>\n",
       "    <tr>\n",
       "      <th>Shell weight</th>\n",
       "      <td>-0.751495</td>\n",
       "      <td>-0.718139</td>\n",
       "      <td>-0.571959</td>\n",
       "      <td>0.804319</td>\n",
       "      <td>0.527114</td>\n",
       "      <td>0.641723</td>\n",
       "      <td>1.000000</td>\n",
       "      <td>0.044616</td>\n",
       "      <td>0.684101</td>\n",
       "    </tr>\n",
       "    <tr>\n",
       "      <th>Sex_Transformed</th>\n",
       "      <td>-0.023530</td>\n",
       "      <td>-0.019625</td>\n",
       "      <td>-0.009542</td>\n",
       "      <td>0.031319</td>\n",
       "      <td>-0.004048</td>\n",
       "      <td>0.047791</td>\n",
       "      <td>0.044616</td>\n",
       "      <td>1.000000</td>\n",
       "      <td>0.035076</td>\n",
       "    </tr>\n",
       "    <tr>\n",
       "      <th>Rings</th>\n",
       "      <td>-0.579459</td>\n",
       "      <td>-0.555678</td>\n",
       "      <td>-0.399006</td>\n",
       "      <td>0.596646</td>\n",
       "      <td>0.314927</td>\n",
       "      <td>0.480590</td>\n",
       "      <td>0.684101</td>\n",
       "      <td>0.035076</td>\n",
       "      <td>1.000000</td>\n",
       "    </tr>\n",
       "  </tbody>\n",
       "</table>\n",
       "</div>"
      ],
      "text/plain": [
       "                   Length  Diameter    Height  Whole weight  Shucked weight  \\\n",
       "Length           1.000000  0.983396  0.824938     -0.957107       -0.856686   \n",
       "Diameter         0.983396  1.000000  0.830269     -0.938888       -0.851128   \n",
       "Height           0.824938  0.830269  1.000000     -0.779709       -0.754910   \n",
       "Whole weight    -0.957107 -0.938888 -0.779709      1.000000        0.856499   \n",
       "Shucked weight  -0.856686 -0.851128 -0.754910      0.856499        1.000000   \n",
       "Viscera weight  -0.820205 -0.808733 -0.659325      0.857364        0.701145   \n",
       "Shell weight    -0.751495 -0.718139 -0.571959      0.804319        0.527114   \n",
       "Sex_Transformed -0.023530 -0.019625 -0.009542      0.031319       -0.004048   \n",
       "Rings           -0.579459 -0.555678 -0.399006      0.596646        0.314927   \n",
       "\n",
       "                 Viscera weight  Shell weight  Sex_Transformed     Rings  \n",
       "Length                -0.820205     -0.751495        -0.023530 -0.579459  \n",
       "Diameter              -0.808733     -0.718139        -0.019625 -0.555678  \n",
       "Height                -0.659325     -0.571959        -0.009542 -0.399006  \n",
       "Whole weight           0.857364      0.804319         0.031319  0.596646  \n",
       "Shucked weight         0.701145      0.527114        -0.004048  0.314927  \n",
       "Viscera weight         1.000000      0.641723         0.047791  0.480590  \n",
       "Shell weight           0.641723      1.000000         0.044616  0.684101  \n",
       "Sex_Transformed        0.047791      0.044616         1.000000  0.035076  \n",
       "Rings                  0.480590      0.684101         0.035076  1.000000  "
      ]
     },
     "execution_count": 72,
     "metadata": {},
     "output_type": "execute_result"
    }
   ],
   "source": [
    "modelling_dataset_without_pca.corr()"
   ]
  },
  {
   "cell_type": "code",
   "execution_count": 73,
   "metadata": {},
   "outputs": [
    {
     "data": {
      "text/plain": [
       "<AxesSubplot:>"
      ]
     },
     "execution_count": 73,
     "metadata": {},
     "output_type": "execute_result"
    },
    {
     "data": {
      "image/png": "[encoded data removed]",
      "text/plain": [
       "<Figure size 432x288 with 2 Axes>"
      ]
     },
     "metadata": {
      "needs_background": "light"
     },
     "output_type": "display_data"
    }
   ],
   "source": [
    "sns.heatmap(modelling_dataset_without_pca.corr())"
   ]
  },
  {
   "cell_type": "markdown",
   "metadata": {
    "id": "esYijmhIomjU"
   },
   "source": [
    "## Train Test Split Dataset"
   ]
  },
  {
   "cell_type": "code",
   "execution_count": 74,
   "metadata": {
    "id": "O_1W3bximsNP"
   },
   "outputs": [],
   "source": [
    "from sklearn.model_selection import train_test_split\n",
    "\n",
    "modelling_X_train, modelling_X_test, modelling_y_train, modelling_y_test = train_test_split(modelling_dataset_without_pca.drop('Rings', axis=1), \n",
    "                                                    modelling_dataset_without_pca['Rings'], test_size=0.2, random_state=42)"
   ]
  },
  {
   "cell_type": "markdown",
   "metadata": {
    "id": "H4MUrrZSmFub"
   },
   "source": [
    "## Applying Linear Regression on modelling_dataset_without_pca dataset"
   ]
  },
  {
   "cell_type": "code",
   "execution_count": 75,
   "metadata": {
    "id": "PyT-w3Y9kJt5"
   },
   "outputs": [],
   "source": [
    "from sklearn.linear_model import LinearRegression"
   ]
  },
  {
   "cell_type": "code",
   "execution_count": 76,
   "metadata": {
    "id": "S9PwiE3hmT5m"
   },
   "outputs": [],
   "source": [
    "reg_without_pca = LinearRegression().fit(modelling_X_train, modelling_y_train)"
   ]
  },
  {
   "cell_type": "code",
   "execution_count": 77,
   "metadata": {
    "colab": {
     "base_uri": "https://localhost:8080/"
    },
    "id": "7mGUrywQncgF",
    "outputId": "41b98b25-43c7-4593-833d-224c0ea5dd04"
   },
   "outputs": [
    {
     "data": {
      "text/plain": [
       "4.501579952986513"
      ]
     },
     "execution_count": 77,
     "metadata": {},
     "output_type": "execute_result"
    }
   ],
   "source": [
    "from sklearn.metrics import mean_squared_error\n",
    "\n",
    "mse_without_pca = mean_squared_error(reg_without_pca.predict(modelling_X_test), modelling_y_test)\n",
    "\n",
    "mse_without_pca"
   ]
  },
  {
   "cell_type": "markdown",
   "metadata": {
    "id": "k2CBeWZ0Hs_a"
   },
   "source": [
    "## Regression Coefficients without PCA "
   ]
  },
  {
   "cell_type": "code",
   "execution_count": 78,
   "metadata": {
    "colab": {
     "base_uri": "https://localhost:8080/"
    },
    "id": "mvJxkxwEGlp5",
    "outputId": "90d561fc-f343-4c16-9708-60edd00a4d9f"
   },
   "outputs": [
    {
     "data": {
      "text/plain": [
       "array([-12.71443678,  -0.65260545,   3.10426611,  12.042512  ,\n",
       "       -25.21786555, -11.21101898,  18.55342048,  -0.02702852])"
      ]
     },
     "execution_count": 78,
     "metadata": {},
     "output_type": "execute_result"
    }
   ],
   "source": [
    "reg_without_pca.coef_"
   ]
  },
  {
   "cell_type": "markdown",
   "metadata": {
    "id": "fLBo80KomT_e"
   },
   "source": [
    "## Applying PCA to Dataset\n"
   ]
  },
  {
   "cell_type": "code",
   "execution_count": 79,
   "metadata": {
    "colab": {
     "base_uri": "https://localhost:8080/",
     "height": 206
    },
    "id": "1UaEffiCpx-M",
    "outputId": "cc18b0a6-ec5d-4ecd-edff-b0690d3de0b2"
   },
   "outputs": [
    {
     "data": {
      "text/html": [
       "<div>\n",
       "<style scoped>\n",
       "    .dataframe tbody tr th:only-of-type {\n",
       "        vertical-align: middle;\n",
       "    }\n",
       "\n",
       "    .dataframe tbody tr th {\n",
       "        vertical-align: top;\n",
       "    }\n",
       "\n",
       "    .dataframe thead th {\n",
       "        text-align: right;\n",
       "    }\n",
       "</style>\n",
       "<table border=\"1\" class=\"dataframe\">\n",
       "  <thead>\n",
       "    <tr style=\"text-align: right;\">\n",
       "      <th></th>\n",
       "      <th>Length</th>\n",
       "      <th>Diameter</th>\n",
       "      <th>Height</th>\n",
       "      <th>Whole weight</th>\n",
       "      <th>Shucked weight</th>\n",
       "      <th>Viscera weight</th>\n",
       "      <th>Shell weight</th>\n",
       "      <th>Sex_Transformed</th>\n",
       "      <th>Rings</th>\n",
       "    </tr>\n",
       "  </thead>\n",
       "  <tbody>\n",
       "    <tr>\n",
       "      <th>0</th>\n",
       "      <td>0.675042</td>\n",
       "      <td>0.511103</td>\n",
       "      <td>-1.259085</td>\n",
       "      <td>0.434920</td>\n",
       "      <td>0.191905</td>\n",
       "      <td>0.093542</td>\n",
       "      <td>0.135008</td>\n",
       "      <td>0</td>\n",
       "      <td>7</td>\n",
       "    </tr>\n",
       "    <tr>\n",
       "      <th>1</th>\n",
       "      <td>0.513869</td>\n",
       "      <td>0.407217</td>\n",
       "      <td>-1.391581</td>\n",
       "      <td>0.656395</td>\n",
       "      <td>0.248693</td>\n",
       "      <td>0.137193</td>\n",
       "      <td>0.203608</td>\n",
       "      <td>2</td>\n",
       "      <td>9</td>\n",
       "    </tr>\n",
       "    <tr>\n",
       "      <th>2</th>\n",
       "      <td>0.528868</td>\n",
       "      <td>0.438720</td>\n",
       "      <td>-1.328717</td>\n",
       "      <td>0.620218</td>\n",
       "      <td>0.259025</td>\n",
       "      <td>0.137025</td>\n",
       "      <td>0.186306</td>\n",
       "      <td>0</td>\n",
       "      <td>10</td>\n",
       "    </tr>\n",
       "    <tr>\n",
       "      <th>3</th>\n",
       "      <td>0.680817</td>\n",
       "      <td>0.526086</td>\n",
       "      <td>-1.283863</td>\n",
       "      <td>0.422932</td>\n",
       "      <td>0.184646</td>\n",
       "      <td>0.081492</td>\n",
       "      <td>0.113469</td>\n",
       "      <td>1</td>\n",
       "      <td>7</td>\n",
       "    </tr>\n",
       "    <tr>\n",
       "      <th>4</th>\n",
       "      <td>0.638186</td>\n",
       "      <td>0.450484</td>\n",
       "      <td>-1.352764</td>\n",
       "      <td>0.527817</td>\n",
       "      <td>0.211728</td>\n",
       "      <td>0.116375</td>\n",
       "      <td>0.180194</td>\n",
       "      <td>1</td>\n",
       "      <td>8</td>\n",
       "    </tr>\n",
       "  </tbody>\n",
       "</table>\n",
       "</div>"
      ],
      "text/plain": [
       "     Length  Diameter    Height  Whole weight  Shucked weight  Viscera weight  \\\n",
       "0  0.675042  0.511103 -1.259085      0.434920        0.191905        0.093542   \n",
       "1  0.513869  0.407217 -1.391581      0.656395        0.248693        0.137193   \n",
       "2  0.528868  0.438720 -1.328717      0.620218        0.259025        0.137025   \n",
       "3  0.680817  0.526086 -1.283863      0.422932        0.184646        0.081492   \n",
       "4  0.638186  0.450484 -1.352764      0.527817        0.211728        0.116375   \n",
       "\n",
       "   Shell weight  Sex_Transformed  Rings  \n",
       "0      0.135008                0      7  \n",
       "1      0.203608                2      9  \n",
       "2      0.186306                0     10  \n",
       "3      0.113469                1      7  \n",
       "4      0.180194                1      8  "
      ]
     },
     "execution_count": 79,
     "metadata": {},
     "output_type": "execute_result"
    }
   ],
   "source": [
    "PCA_features = [\n",
    "    'Length', 'Diameter', 'Height',\n",
    "    'Whole weight', 'Shucked weight', 'Viscera weight',\n",
    "    'Shell weight'\n",
    "]\n",
    "\n",
    "non_PCA_features = [column for column in modelling_dataset_without_pca.columns if column not in PCA_features]\n",
    "\n",
    "pca_dataset = modelling_dataset_without_pca.copy()\n",
    "\n",
    "pca_dataset.head()"
   ]
  },
  {
   "cell_type": "markdown",
   "metadata": {
    "id": "tOIJvYjlcaBV"
   },
   "source": [
    "## Performing Feature Selection using PCA "
   ]
  },
  {
   "cell_type": "code",
   "execution_count": 80,
   "metadata": {
    "id": "qZ3KzWLSmUEQ"
   },
   "outputs": [],
   "source": [
    "from sklearn.decomposition import PCA\n",
    "\n",
    "number_of_components = 6\n",
    "\n",
    "pca = PCA(n_components=number_of_components)\n",
    "\n",
    "pca_modified_dataset = pca.fit_transform(pca_dataset[PCA_features])"
   ]
  },
  {
   "cell_type": "markdown",
   "metadata": {
    "id": "cjf2Z6Wzcfhi"
   },
   "source": [
    "## Creating DataFrame of PCA Values"
   ]
  },
  {
   "cell_type": "code",
   "execution_count": 81,
   "metadata": {
    "colab": {
     "base_uri": "https://localhost:8080/",
     "height": 206
    },
    "id": "6KHUyZurmURa",
    "outputId": "c2afce62-4528-4869-ddf9-b0f864c7aacf"
   },
   "outputs": [
    {
     "data": {
      "text/html": [
       "<div>\n",
       "<style scoped>\n",
       "    .dataframe tbody tr th:only-of-type {\n",
       "        vertical-align: middle;\n",
       "    }\n",
       "\n",
       "    .dataframe tbody tr th {\n",
       "        vertical-align: top;\n",
       "    }\n",
       "\n",
       "    .dataframe thead th {\n",
       "        text-align: right;\n",
       "    }\n",
       "</style>\n",
       "<table border=\"1\" class=\"dataframe\">\n",
       "  <thead>\n",
       "    <tr style=\"text-align: right;\">\n",
       "      <th></th>\n",
       "      <th>PCA_1</th>\n",
       "      <th>PCA_2</th>\n",
       "      <th>PCA_3</th>\n",
       "      <th>PCA_4</th>\n",
       "      <th>PCA_5</th>\n",
       "      <th>PCA_6</th>\n",
       "    </tr>\n",
       "  </thead>\n",
       "  <tbody>\n",
       "    <tr>\n",
       "      <th>0</th>\n",
       "      <td>0.348633</td>\n",
       "      <td>-0.010547</td>\n",
       "      <td>-0.009722</td>\n",
       "      <td>-0.009438</td>\n",
       "      <td>0.002985</td>\n",
       "      <td>0.000682</td>\n",
       "    </tr>\n",
       "    <tr>\n",
       "      <th>1</th>\n",
       "      <td>0.015591</td>\n",
       "      <td>-0.022212</td>\n",
       "      <td>0.031052</td>\n",
       "      <td>-0.027271</td>\n",
       "      <td>-0.002737</td>\n",
       "      <td>-0.010109</td>\n",
       "    </tr>\n",
       "    <tr>\n",
       "      <th>2</th>\n",
       "      <td>0.080286</td>\n",
       "      <td>-0.055954</td>\n",
       "      <td>-0.002687</td>\n",
       "      <td>-0.022802</td>\n",
       "      <td>-0.001240</td>\n",
       "      <td>0.000472</td>\n",
       "    </tr>\n",
       "    <tr>\n",
       "      <th>3</th>\n",
       "      <td>0.361054</td>\n",
       "      <td>0.022659</td>\n",
       "      <td>-0.011328</td>\n",
       "      <td>-0.012212</td>\n",
       "      <td>-0.002775</td>\n",
       "      <td>-0.015295</td>\n",
       "    </tr>\n",
       "    <tr>\n",
       "      <th>4</th>\n",
       "      <td>0.201564</td>\n",
       "      <td>0.016547</td>\n",
       "      <td>0.027548</td>\n",
       "      <td>-0.035239</td>\n",
       "      <td>0.001706</td>\n",
       "      <td>0.004153</td>\n",
       "    </tr>\n",
       "  </tbody>\n",
       "</table>\n",
       "</div>"
      ],
      "text/plain": [
       "      PCA_1     PCA_2     PCA_3     PCA_4     PCA_5     PCA_6\n",
       "0  0.348633 -0.010547 -0.009722 -0.009438  0.002985  0.000682\n",
       "1  0.015591 -0.022212  0.031052 -0.027271 -0.002737 -0.010109\n",
       "2  0.080286 -0.055954 -0.002687 -0.022802 -0.001240  0.000472\n",
       "3  0.361054  0.022659 -0.011328 -0.012212 -0.002775 -0.015295\n",
       "4  0.201564  0.016547  0.027548 -0.035239  0.001706  0.004153"
      ]
     },
     "execution_count": 81,
     "metadata": {},
     "output_type": "execute_result"
    }
   ],
   "source": [
    "pca_columns = [f'PCA_{i}' for i in range(1, number_of_components + 1)] \n",
    "pca_modelling_dataset = pd.DataFrame(pca_modified_dataset, columns=pca_columns)\n",
    "\n",
    "pca_modelling_dataset.head()"
   ]
  },
  {
   "cell_type": "markdown",
   "metadata": {
    "id": "VLf5QpsnciSP"
   },
   "source": [
    "## Creating Dataframe for Modelling"
   ]
  },
  {
   "cell_type": "code",
   "execution_count": 82,
   "metadata": {
    "colab": {
     "base_uri": "https://localhost:8080/",
     "height": 206
    },
    "id": "b_V11S1EmUVk",
    "outputId": "0db4fa53-12ca-4555-a477-51688f42fe0e"
   },
   "outputs": [
    {
     "data": {
      "text/html": [
       "<div>\n",
       "<style scoped>\n",
       "    .dataframe tbody tr th:only-of-type {\n",
       "        vertical-align: middle;\n",
       "    }\n",
       "\n",
       "    .dataframe tbody tr th {\n",
       "        vertical-align: top;\n",
       "    }\n",
       "\n",
       "    .dataframe thead th {\n",
       "        text-align: right;\n",
       "    }\n",
       "</style>\n",
       "<table border=\"1\" class=\"dataframe\">\n",
       "  <thead>\n",
       "    <tr style=\"text-align: right;\">\n",
       "      <th></th>\n",
       "      <th>PCA_1</th>\n",
       "      <th>PCA_2</th>\n",
       "      <th>PCA_3</th>\n",
       "      <th>PCA_4</th>\n",
       "      <th>PCA_5</th>\n",
       "      <th>PCA_6</th>\n",
       "      <th>Sex_Transformed</th>\n",
       "      <th>Rings</th>\n",
       "    </tr>\n",
       "  </thead>\n",
       "  <tbody>\n",
       "    <tr>\n",
       "      <th>0</th>\n",
       "      <td>0.348633</td>\n",
       "      <td>-0.010547</td>\n",
       "      <td>-0.009722</td>\n",
       "      <td>-0.009438</td>\n",
       "      <td>0.002985</td>\n",
       "      <td>0.000682</td>\n",
       "      <td>0</td>\n",
       "      <td>7</td>\n",
       "    </tr>\n",
       "    <tr>\n",
       "      <th>1</th>\n",
       "      <td>0.015591</td>\n",
       "      <td>-0.022212</td>\n",
       "      <td>0.031052</td>\n",
       "      <td>-0.027271</td>\n",
       "      <td>-0.002737</td>\n",
       "      <td>-0.010109</td>\n",
       "      <td>2</td>\n",
       "      <td>9</td>\n",
       "    </tr>\n",
       "    <tr>\n",
       "      <th>2</th>\n",
       "      <td>0.080286</td>\n",
       "      <td>-0.055954</td>\n",
       "      <td>-0.002687</td>\n",
       "      <td>-0.022802</td>\n",
       "      <td>-0.001240</td>\n",
       "      <td>0.000472</td>\n",
       "      <td>0</td>\n",
       "      <td>10</td>\n",
       "    </tr>\n",
       "    <tr>\n",
       "      <th>3</th>\n",
       "      <td>0.361054</td>\n",
       "      <td>0.022659</td>\n",
       "      <td>-0.011328</td>\n",
       "      <td>-0.012212</td>\n",
       "      <td>-0.002775</td>\n",
       "      <td>-0.015295</td>\n",
       "      <td>1</td>\n",
       "      <td>7</td>\n",
       "    </tr>\n",
       "    <tr>\n",
       "      <th>4</th>\n",
       "      <td>0.201564</td>\n",
       "      <td>0.016547</td>\n",
       "      <td>0.027548</td>\n",
       "      <td>-0.035239</td>\n",
       "      <td>0.001706</td>\n",
       "      <td>0.004153</td>\n",
       "      <td>1</td>\n",
       "      <td>8</td>\n",
       "    </tr>\n",
       "  </tbody>\n",
       "</table>\n",
       "</div>"
      ],
      "text/plain": [
       "      PCA_1     PCA_2     PCA_3     PCA_4     PCA_5     PCA_6  \\\n",
       "0  0.348633 -0.010547 -0.009722 -0.009438  0.002985  0.000682   \n",
       "1  0.015591 -0.022212  0.031052 -0.027271 -0.002737 -0.010109   \n",
       "2  0.080286 -0.055954 -0.002687 -0.022802 -0.001240  0.000472   \n",
       "3  0.361054  0.022659 -0.011328 -0.012212 -0.002775 -0.015295   \n",
       "4  0.201564  0.016547  0.027548 -0.035239  0.001706  0.004153   \n",
       "\n",
       "   Sex_Transformed  Rings  \n",
       "0                0      7  \n",
       "1                2      9  \n",
       "2                0     10  \n",
       "3                1      7  \n",
       "4                1      8  "
      ]
     },
     "execution_count": 82,
     "metadata": {},
     "output_type": "execute_result"
    }
   ],
   "source": [
    "pca_modelling_dataset[non_PCA_features] = modelling_dataset_without_pca[non_PCA_features]\n",
    "\n",
    "pca_modelling_dataset.head()"
   ]
  },
  {
   "cell_type": "markdown",
   "metadata": {},
   "source": [
    "## Correlation Matrix"
   ]
  },
  {
   "cell_type": "code",
   "execution_count": 83,
   "metadata": {},
   "outputs": [
    {
     "data": {
      "text/html": [
       "<div>\n",
       "<style scoped>\n",
       "    .dataframe tbody tr th:only-of-type {\n",
       "        vertical-align: middle;\n",
       "    }\n",
       "\n",
       "    .dataframe tbody tr th {\n",
       "        vertical-align: top;\n",
       "    }\n",
       "\n",
       "    .dataframe thead th {\n",
       "        text-align: right;\n",
       "    }\n",
       "</style>\n",
       "<table border=\"1\" class=\"dataframe\">\n",
       "  <thead>\n",
       "    <tr style=\"text-align: right;\">\n",
       "      <th></th>\n",
       "      <th>PCA_1</th>\n",
       "      <th>PCA_2</th>\n",
       "      <th>PCA_3</th>\n",
       "      <th>PCA_4</th>\n",
       "      <th>PCA_5</th>\n",
       "      <th>PCA_6</th>\n",
       "      <th>Sex_Transformed</th>\n",
       "      <th>Rings</th>\n",
       "    </tr>\n",
       "  </thead>\n",
       "  <tbody>\n",
       "    <tr>\n",
       "      <th>PCA_1</th>\n",
       "      <td>1.000000e+00</td>\n",
       "      <td>1.261966e-16</td>\n",
       "      <td>1.153724e-17</td>\n",
       "      <td>-4.672648e-17</td>\n",
       "      <td>-1.540530e-18</td>\n",
       "      <td>-6.895360e-17</td>\n",
       "      <td>-0.023534</td>\n",
       "      <td>-0.563074</td>\n",
       "    </tr>\n",
       "    <tr>\n",
       "      <th>PCA_2</th>\n",
       "      <td>1.261966e-16</td>\n",
       "      <td>1.000000e+00</td>\n",
       "      <td>9.582873e-17</td>\n",
       "      <td>1.235188e-16</td>\n",
       "      <td>1.002008e-16</td>\n",
       "      <td>3.317037e-17</td>\n",
       "      <td>-0.032818</td>\n",
       "      <td>-0.246015</td>\n",
       "    </tr>\n",
       "    <tr>\n",
       "      <th>PCA_3</th>\n",
       "      <td>1.153724e-17</td>\n",
       "      <td>9.582873e-17</td>\n",
       "      <td>1.000000e+00</td>\n",
       "      <td>-4.664165e-17</td>\n",
       "      <td>-2.902042e-16</td>\n",
       "      <td>-1.849964e-16</td>\n",
       "      <td>0.052478</td>\n",
       "      <td>0.399485</td>\n",
       "    </tr>\n",
       "    <tr>\n",
       "      <th>PCA_4</th>\n",
       "      <td>-4.672648e-17</td>\n",
       "      <td>1.235188e-16</td>\n",
       "      <td>-4.664165e-17</td>\n",
       "      <td>1.000000e+00</td>\n",
       "      <td>3.799964e-17</td>\n",
       "      <td>6.521303e-17</td>\n",
       "      <td>-0.008832</td>\n",
       "      <td>0.072989</td>\n",
       "    </tr>\n",
       "    <tr>\n",
       "      <th>PCA_5</th>\n",
       "      <td>-1.540530e-18</td>\n",
       "      <td>1.002008e-16</td>\n",
       "      <td>-2.902042e-16</td>\n",
       "      <td>3.799964e-17</td>\n",
       "      <td>1.000000e+00</td>\n",
       "      <td>-1.254347e-16</td>\n",
       "      <td>-0.034934</td>\n",
       "      <td>0.070745</td>\n",
       "    </tr>\n",
       "    <tr>\n",
       "      <th>PCA_6</th>\n",
       "      <td>-6.895360e-17</td>\n",
       "      <td>3.317037e-17</td>\n",
       "      <td>-1.849964e-16</td>\n",
       "      <td>6.521303e-17</td>\n",
       "      <td>-1.254347e-16</td>\n",
       "      <td>1.000000e+00</td>\n",
       "      <td>0.016181</td>\n",
       "      <td>-0.061763</td>\n",
       "    </tr>\n",
       "    <tr>\n",
       "      <th>Sex_Transformed</th>\n",
       "      <td>-2.353434e-02</td>\n",
       "      <td>-3.281797e-02</td>\n",
       "      <td>5.247754e-02</td>\n",
       "      <td>-8.832398e-03</td>\n",
       "      <td>-3.493362e-02</td>\n",
       "      <td>1.618102e-02</td>\n",
       "      <td>1.000000</td>\n",
       "      <td>0.035076</td>\n",
       "    </tr>\n",
       "    <tr>\n",
       "      <th>Rings</th>\n",
       "      <td>-5.630739e-01</td>\n",
       "      <td>-2.460153e-01</td>\n",
       "      <td>3.994854e-01</td>\n",
       "      <td>7.298889e-02</td>\n",
       "      <td>7.074495e-02</td>\n",
       "      <td>-6.176325e-02</td>\n",
       "      <td>0.035076</td>\n",
       "      <td>1.000000</td>\n",
       "    </tr>\n",
       "  </tbody>\n",
       "</table>\n",
       "</div>"
      ],
      "text/plain": [
       "                        PCA_1         PCA_2         PCA_3         PCA_4  \\\n",
       "PCA_1            1.000000e+00  1.261966e-16  1.153724e-17 -4.672648e-17   \n",
       "PCA_2            1.261966e-16  1.000000e+00  9.582873e-17  1.235188e-16   \n",
       "PCA_3            1.153724e-17  9.582873e-17  1.000000e+00 -4.664165e-17   \n",
       "PCA_4           -4.672648e-17  1.235188e-16 -4.664165e-17  1.000000e+00   \n",
       "PCA_5           -1.540530e-18  1.002008e-16 -2.902042e-16  3.799964e-17   \n",
       "PCA_6           -6.895360e-17  3.317037e-17 -1.849964e-16  6.521303e-17   \n",
       "Sex_Transformed -2.353434e-02 -3.281797e-02  5.247754e-02 -8.832398e-03   \n",
       "Rings           -5.630739e-01 -2.460153e-01  3.994854e-01  7.298889e-02   \n",
       "\n",
       "                        PCA_5         PCA_6  Sex_Transformed     Rings  \n",
       "PCA_1           -1.540530e-18 -6.895360e-17        -0.023534 -0.563074  \n",
       "PCA_2            1.002008e-16  3.317037e-17        -0.032818 -0.246015  \n",
       "PCA_3           -2.902042e-16 -1.849964e-16         0.052478  0.399485  \n",
       "PCA_4            3.799964e-17  6.521303e-17        -0.008832  0.072989  \n",
       "PCA_5            1.000000e+00 -1.254347e-16        -0.034934  0.070745  \n",
       "PCA_6           -1.254347e-16  1.000000e+00         0.016181 -0.061763  \n",
       "Sex_Transformed -3.493362e-02  1.618102e-02         1.000000  0.035076  \n",
       "Rings            7.074495e-02 -6.176325e-02         0.035076  1.000000  "
      ]
     },
     "execution_count": 83,
     "metadata": {},
     "output_type": "execute_result"
    }
   ],
   "source": [
    "pca_modelling_dataset.corr()"
   ]
  },
  {
   "cell_type": "code",
   "execution_count": 84,
   "metadata": {},
   "outputs": [
    {
     "data": {
      "text/plain": [
       "<AxesSubplot:>"
      ]
     },
     "execution_count": 84,
     "metadata": {},
     "output_type": "execute_result"
    },
    {
     "data": {
      "image/png": "[encoded data removed]",
      "text/plain": [
       "<Figure size 432x288 with 2 Axes>"
      ]
     },
     "metadata": {
      "needs_background": "light"
     },
     "output_type": "display_data"
    }
   ],
   "source": [
    "sns.heatmap(pca_modelling_dataset.corr())"
   ]
  },
  {
   "cell_type": "markdown",
   "metadata": {
    "id": "hD8xlBqWmUZ8"
   },
   "source": [
    "## Train Test Split"
   ]
  },
  {
   "cell_type": "code",
   "execution_count": 85,
   "metadata": {
    "id": "sYvb4vXcmUe0"
   },
   "outputs": [],
   "source": [
    "from sklearn.model_selection import train_test_split\n",
    "\n",
    "pca_modelling_dataset_X_train, pca_modelling_dataset_X_test, pca_modelling_dataset_y_train, pca_modelling_dataset_y_test = train_test_split(pca_modelling_dataset.drop('Rings', axis=1), \n",
    "                                                    pca_modelling_dataset['Rings'], test_size=0.2, random_state=42)\n",
    "\n"
   ]
  },
  {
   "cell_type": "markdown",
   "metadata": {
    "id": "8ROgOlyec5TF"
   },
   "source": [
    "## Linear Regression after PCA "
   ]
  },
  {
   "cell_type": "code",
   "execution_count": 86,
   "metadata": {
    "id": "cmY_WDQ2mUjj"
   },
   "outputs": [],
   "source": [
    "reg_with_pca = LinearRegression().fit(pca_modelling_dataset_X_train, pca_modelling_dataset_y_train)"
   ]
  },
  {
   "cell_type": "code",
   "execution_count": 87,
   "metadata": {
    "colab": {
     "base_uri": "https://localhost:8080/"
    },
    "id": "HypF1h9_mUnO",
    "outputId": "a8bd9057-a5f4-4156-b2f1-272230ec61aa"
   },
   "outputs": [
    {
     "data": {
      "text/plain": [
       "4.505471008250627"
      ]
     },
     "execution_count": 87,
     "metadata": {},
     "output_type": "execute_result"
    }
   ],
   "source": [
    "from sklearn.metrics import mean_squared_error\n",
    "\n",
    "mse_after_pca = mean_squared_error(reg_with_pca.predict(pca_modelling_dataset_X_test), pca_modelling_dataset_y_test)\n",
    "\n",
    "mse_after_pca"
   ]
  },
  {
   "cell_type": "markdown",
   "metadata": {
    "id": "McWWiJKRmUrL"
   },
   "source": [
    "## Let's Try PCA with different number of components"
   ]
  },
  {
   "cell_type": "code",
   "execution_count": 88,
   "metadata": {
    "id": "JbQ1rov0mUvU"
   },
   "outputs": [],
   "source": [
    "def apply_PCA(modelling_dataset_without_pca, lower = 3, upper=None):\n",
    "\n",
    "    pca_errors_list = []\n",
    "\n",
    "    for component_value in range(lower, 1 + upper):\n",
    "        \n",
    "        pca = PCA(n_components=component_value)\n",
    "\n",
    "        pca_transformed_data = pca.fit_transform(modelling_dataset_without_pca[PCA_features])\n",
    "\n",
    "        pca_columns = [f'PCA_{i}' for i in range(1, component_value + 1)] \n",
    "        \n",
    "        pca_modelling_dataset = pd.DataFrame(pca_transformed_data, columns=pca_columns)\n",
    "\n",
    "        pca_modelling_dataset[non_PCA_features] = modelling_dataset_without_pca[non_PCA_features]\n",
    "\n",
    "        pca_modelling_dataset_X_train, pca_modelling_dataset_X_test, pca_modelling_dataset_y_train, pca_modelling_dataset_y_test = train_test_split(pca_modelling_dataset.drop('Rings', axis=1), \n",
    "                                                            pca_modelling_dataset['Rings'], test_size=0.2, random_state=42)      \n",
    "\n",
    "        reg_with_pca = LinearRegression().fit(pca_modelling_dataset_X_train, pca_modelling_dataset_y_train)\n",
    "\n",
    "        mse_after_pca = mean_squared_error(reg_with_pca.predict(pca_modelling_dataset_X_test), pca_modelling_dataset_y_test)\n",
    "\n",
    "        print(f'MSE on TEST SET with {component_value} in PCA ==> {mse_after_pca}')\n",
    "\n",
    "        pca_errors_list.append((component_value, mse_after_pca))\n",
    "\n",
    "    return pca_errors_list"
   ]
  },
  {
   "cell_type": "code",
   "execution_count": 89,
   "metadata": {
    "colab": {
     "base_uri": "https://localhost:8080/"
    },
    "id": "TNsM5WBSmUyb",
    "outputId": "b42cd48d-42a2-4178-dc27-0fc4cd77ed79"
   },
   "outputs": [
    {
     "name": "stdout",
     "output_type": "stream",
     "text": [
      "MSE on TEST SET with 3 in PCA ==> 4.695495055848563\n",
      "MSE on TEST SET with 4 in PCA ==> 4.642977663521206\n",
      "MSE on TEST SET with 5 in PCA ==> 4.56747898725485\n",
      "MSE on TEST SET with 6 in PCA ==> 4.505471008250627\n"
     ]
    }
   ],
   "source": [
    "pca_errors_list = apply_PCA(modelling_dataset_without_pca, lower=3, upper=6)"
   ]
  },
  {
   "cell_type": "code",
   "execution_count": 90,
   "metadata": {
    "colab": {
     "base_uri": "https://localhost:8080/",
     "height": 175
    },
    "id": "YgmuA-bHmU13",
    "outputId": "84e4fdec-e9b6-4592-eb88-454f6894ff76"
   },
   "outputs": [
    {
     "data": {
      "text/html": [
       "<div>\n",
       "<style scoped>\n",
       "    .dataframe tbody tr th:only-of-type {\n",
       "        vertical-align: middle;\n",
       "    }\n",
       "\n",
       "    .dataframe tbody tr th {\n",
       "        vertical-align: top;\n",
       "    }\n",
       "\n",
       "    .dataframe thead th {\n",
       "        text-align: right;\n",
       "    }\n",
       "</style>\n",
       "<table border=\"1\" class=\"dataframe\">\n",
       "  <thead>\n",
       "    <tr style=\"text-align: right;\">\n",
       "      <th></th>\n",
       "      <th>PCA_components</th>\n",
       "      <th>MSE</th>\n",
       "    </tr>\n",
       "  </thead>\n",
       "  <tbody>\n",
       "    <tr>\n",
       "      <th>0</th>\n",
       "      <td>3</td>\n",
       "      <td>4.695495</td>\n",
       "    </tr>\n",
       "    <tr>\n",
       "      <th>1</th>\n",
       "      <td>4</td>\n",
       "      <td>4.642978</td>\n",
       "    </tr>\n",
       "    <tr>\n",
       "      <th>2</th>\n",
       "      <td>5</td>\n",
       "      <td>4.567479</td>\n",
       "    </tr>\n",
       "    <tr>\n",
       "      <th>3</th>\n",
       "      <td>6</td>\n",
       "      <td>4.505471</td>\n",
       "    </tr>\n",
       "  </tbody>\n",
       "</table>\n",
       "</div>"
      ],
      "text/plain": [
       "   PCA_components       MSE\n",
       "0               3  4.695495\n",
       "1               4  4.642978\n",
       "2               5  4.567479\n",
       "3               6  4.505471"
      ]
     },
     "execution_count": 90,
     "metadata": {},
     "output_type": "execute_result"
    }
   ],
   "source": [
    "pca_results_df = pd.DataFrame(pca_errors_list, columns=['PCA_components', 'MSE'])\n",
    "pca_results_df.head()"
   ]
  },
  {
   "cell_type": "markdown",
   "metadata": {
    "id": "Qz3e6K0hIWN4"
   },
   "source": [
    "## Plot of MSE values for different PCA Components"
   ]
  },
  {
   "cell_type": "code",
   "execution_count": 91,
   "metadata": {
    "colab": {
     "base_uri": "https://localhost:8080/",
     "height": 313
    },
    "id": "N3ZDwOXSmU5c",
    "outputId": "28aba1a7-1632-47c7-95c9-3c6e1376514e"
   },
   "outputs": [
    {
     "data": {
      "text/plain": [
       "<AxesSubplot:title={'center':'Barplot of mean square error and PCA_components Value'}, xlabel='PCA_components', ylabel='MSE'>"
      ]
     },
     "execution_count": 91,
     "metadata": {},
     "output_type": "execute_result"
    },
    {
     "data": {
      "image/png": "[encoded data removed]",
      "text/plain": [
       "<Figure size 432x288 with 1 Axes>"
      ]
     },
     "metadata": {
      "needs_background": "light"
     },
     "output_type": "display_data"
    }
   ],
   "source": [
    "plt.title('Barplot of mean square error and PCA_components Value')\n",
    "plt.ylim([4.3, 4.8])\n",
    "sns.lineplot(x='PCA_components', y='MSE', data=pca_results_df)"
   ]
  },
  {
   "cell_type": "markdown",
   "metadata": {
    "id": "cIMEW5akhiMt"
   },
   "source": [
    "### MSE reduces when PCA components value increases"
   ]
  },
  {
   "cell_type": "markdown",
   "metadata": {
    "id": "2q_drXF7IbSv"
   },
   "source": [
    "## Comparing Without PCA and Best PCA "
   ]
  },
  {
   "cell_type": "code",
   "execution_count": 92,
   "metadata": {
    "colab": {
     "base_uri": "https://localhost:8080/",
     "height": 299
    },
    "id": "7QsxGzMTIees",
    "outputId": "2a9656cd-e7bf-4586-e4ea-2c2adf094e20"
   },
   "outputs": [
    {
     "data": {
      "text/plain": [
       "<AxesSubplot:title={'center':'Comparison of MSE of Without PCA and Best PCA'}>"
      ]
     },
     "execution_count": 92,
     "metadata": {},
     "output_type": "execute_result"
    },
    {
     "data": {
      "image/png": "[encoded data removed]",
      "text/plain": [
       "<Figure size 432x288 with 1 Axes>"
      ]
     },
     "metadata": {
      "needs_background": "light"
     },
     "output_type": "display_data"
    }
   ],
   "source": [
    "plt.title('Comparison of MSE of Without PCA and Best PCA')\n",
    "\n",
    "row_index_of_best_pca = pca_results_df[['MSE']].idxmin()\n",
    "\n",
    "number_of_components_in_without_pca = len(modelling_dataset_without_pca.columns) - 1\n",
    "\n",
    "number_of_components_of_best_pca = pca_results_df.iloc[3]['PCA_components']\n",
    "\n",
    "best_pca_error = pca_results_df.iloc[3]['MSE']\n",
    "\n",
    "plt.ylim([4.4, 4.6])\n",
    "sns.barplot(x=[number_of_components_in_without_pca, number_of_components_of_best_pca], y=[mse_without_pca, best_pca_error])"
   ]
  },
  {
   "cell_type": "markdown",
   "metadata": {
    "id": "AYRqf9PBmU88"
   },
   "source": [
    "## Conclusion"
   ]
  },
  {
   "cell_type": "markdown",
   "metadata": {
    "id": "YuUPuGcXJfRd"
   },
   "source": [
    "1. Successfully Understood PCA after going thorugh the research paper and why data needs to be reduced and centered before applying PCA.\n",
    "2. Implemented PCA using Sklearn Python module on Abalone Dataset (Regression Problem).\n",
    "3. Mean Square Error after PCA (n_components = 6) is almost same as when all features are considered\n",
    "4. Thus with the help of PCA without compromising much model performance we dropped some features and it made our model simpler and faster"
   ]
  },
  {
   "cell_type": "markdown",
   "metadata": {
    "id": "jxMOhv_DmVEz"
   },
   "source": [
    "### References\n",
    "\n",
    "\n",
    "\n",
    "1.   [Sklearn PCA](https://scikit-learn.org/stable/modules/generated/sklearn.decomposition.PCA.html)\n",
    "2.   [PCA Research Paper](https://e.edim.co/30264616/qlFg8ZRxu6A2aTLL.pdf?response-content-disposition=filename%3D%22Principal_Component_Analysis_PCA.pdf%22%3B%20filename%2A%3DUTF-8%27%27Principal_Component_Analysis_PCA.pdf&Expires=1645436500&Signature=C3NTzXyDUKi20F6VpmIFcHP2MZStD6BDHAzHK-du1~kJKo3CVyS~WaFCJRuHvo4J6GO~ccNNvaNXOooqb18oKmhcaTc5WuoR07RSTTFwkTPKKyWJCxb1cNwZF~PRxdLKam5lsHM~wUlXQPckuA8Ee0th8B0ZY3jkNiy0tN83CYOTzowMyooptX5sSym~WC2rCxcUHXG9rLEAdSyaehxhhVTRtFJu8tbnokX25tRsmFrV0hP2Km5LiWo9GdfY1b2~-bC5T-~JTFV4hnv-8GZVQpJhJUHifUwK8Jr9nfOIVKSKvmY8GP4aR7RQxGF1N~iD5e7hj6-FogJHPnWZGKbLFA__&Key-Pair-Id=APKAJMSU6JYPN6FG5PBQ)\n",
    "3. [Abalone Dataset](https://archive.ics.uci.edu/ml/datasets/Abalone)\n",
    "\n",
    "4. [Sklearn Python Package](https://scikit-learn.org/stable/index.html)\n",
    "\n",
    "\n"
   ]
  }
 ],
 "metadata": {
  "colab": {
   "collapsed_sections": [],
   "name": "DS Lab Exp 2",
   "provenance": []
  },
  "kernelspec": {
   "display_name": "Python 3 (ipykernel)",
   "language": "python",
   "name": "python3"
  },
  "language_info": {
   "codemirror_mode": {
    "name": "ipython",
    "version": 3
   },
   "file_extension": ".py",
   "mimetype": "text/x-python",
   "name": "python",
   "nbconvert_exporter": "python",
   "pygments_lexer": "ipython3",
   "version": "3.9.7"
  }
 },
 "nbformat": 4,
 "nbformat_minor": 1
}
