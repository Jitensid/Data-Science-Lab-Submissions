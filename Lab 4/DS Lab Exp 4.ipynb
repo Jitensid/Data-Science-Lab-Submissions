{
 "cells": [
  {
   "cell_type": "markdown",
   "id": "1311c0cd",
   "metadata": {},
   "source": [
    "### Name: Jiten Sidhpura \n",
    "### UID: 2018130051\n",
    "### Batch B\n",
    "### BE COMPS\n",
    "\n",
    "### Objective: \n",
    "### 1. Implement Hypothesis Testing"
   ]
  },
  {
   "cell_type": "markdown",
   "id": "836b5e1d",
   "metadata": {},
   "source": [
    "### Import Necessary Packages"
   ]
  },
  {
   "cell_type": "code",
   "execution_count": 13,
   "id": "94f4675b",
   "metadata": {},
   "outputs": [],
   "source": [
    "import numpy as np\n",
    "import pandas as pd\n",
    "import seaborn as sns\n",
    "import missingno\n",
    "from matplotlib import pyplot as plt"
   ]
  },
  {
   "cell_type": "markdown",
   "id": "1c064f10",
   "metadata": {},
   "source": [
    "###  Iris dataset"
   ]
  },
  {
   "cell_type": "code",
   "execution_count": 9,
   "id": "7b187359",
   "metadata": {},
   "outputs": [
    {
     "data": {
      "text/html": [
       "<div>\n",
       "<style scoped>\n",
       "    .dataframe tbody tr th:only-of-type {\n",
       "        vertical-align: middle;\n",
       "    }\n",
       "\n",
       "    .dataframe tbody tr th {\n",
       "        vertical-align: top;\n",
       "    }\n",
       "\n",
       "    .dataframe thead th {\n",
       "        text-align: right;\n",
       "    }\n",
       "</style>\n",
       "<table border=\"1\" class=\"dataframe\">\n",
       "  <thead>\n",
       "    <tr style=\"text-align: right;\">\n",
       "      <th></th>\n",
       "      <th>sepal_length</th>\n",
       "      <th>sepal_width</th>\n",
       "      <th>petal_length</th>\n",
       "      <th>petal_width</th>\n",
       "      <th>class</th>\n",
       "    </tr>\n",
       "  </thead>\n",
       "  <tbody>\n",
       "    <tr>\n",
       "      <th>0</th>\n",
       "      <td>5.1</td>\n",
       "      <td>3.5</td>\n",
       "      <td>1.4</td>\n",
       "      <td>0.2</td>\n",
       "      <td>Iris-setosa</td>\n",
       "    </tr>\n",
       "    <tr>\n",
       "      <th>1</th>\n",
       "      <td>4.9</td>\n",
       "      <td>3.0</td>\n",
       "      <td>1.4</td>\n",
       "      <td>0.2</td>\n",
       "      <td>Iris-setosa</td>\n",
       "    </tr>\n",
       "    <tr>\n",
       "      <th>2</th>\n",
       "      <td>4.7</td>\n",
       "      <td>3.2</td>\n",
       "      <td>1.3</td>\n",
       "      <td>0.2</td>\n",
       "      <td>Iris-setosa</td>\n",
       "    </tr>\n",
       "    <tr>\n",
       "      <th>3</th>\n",
       "      <td>4.6</td>\n",
       "      <td>3.1</td>\n",
       "      <td>1.5</td>\n",
       "      <td>0.2</td>\n",
       "      <td>Iris-setosa</td>\n",
       "    </tr>\n",
       "    <tr>\n",
       "      <th>4</th>\n",
       "      <td>5.0</td>\n",
       "      <td>3.6</td>\n",
       "      <td>1.4</td>\n",
       "      <td>0.2</td>\n",
       "      <td>Iris-setosa</td>\n",
       "    </tr>\n",
       "  </tbody>\n",
       "</table>\n",
       "</div>"
      ],
      "text/plain": [
       "   sepal_length  sepal_width  petal_length  petal_width        class\n",
       "0           5.1          3.5           1.4          0.2  Iris-setosa\n",
       "1           4.9          3.0           1.4          0.2  Iris-setosa\n",
       "2           4.7          3.2           1.3          0.2  Iris-setosa\n",
       "3           4.6          3.1           1.5          0.2  Iris-setosa\n",
       "4           5.0          3.6           1.4          0.2  Iris-setosa"
      ]
     },
     "execution_count": 9,
     "metadata": {},
     "output_type": "execute_result"
    }
   ],
   "source": [
    "col_names = ['sepal_length', 'sepal_width', 'petal_length', 'petal_width','class']\n",
    "\n",
    "df = pd.read_csv('iris.data', names=col_names)\n",
    "\n",
    "df.head()"
   ]
  },
  {
   "cell_type": "code",
   "execution_count": 14,
   "id": "ab746ab4",
   "metadata": {},
   "outputs": [
    {
     "data": {
      "text/plain": [
       "<AxesSubplot:>"
      ]
     },
     "execution_count": 14,
     "metadata": {},
     "output_type": "execute_result"
    },
    {
     "data": {
      "image/png": "[encoded data removed]",
      "text/plain": [
       "<Figure size 1800x720 with 3 Axes>"
      ]
     },
     "metadata": {
      "needs_background": "light"
     },
     "output_type": "display_data"
    }
   ],
   "source": [
    "missingno.bar(df)"
   ]
  },
  {
   "cell_type": "markdown",
   "id": "9b63ebc6",
   "metadata": {},
   "source": [
    "### no missing Data"
   ]
  },
  {
   "cell_type": "code",
   "execution_count": 10,
   "id": "b22ca55e",
   "metadata": {},
   "outputs": [
    {
     "data": {
      "text/plain": [
       "Iris-setosa        50\n",
       "Iris-versicolor    50\n",
       "Iris-virginica     50\n",
       "Name: class, dtype: int64"
      ]
     },
     "execution_count": 10,
     "metadata": {},
     "output_type": "execute_result"
    }
   ],
   "source": [
    "df['class'].value_counts()"
   ]
  },
  {
   "cell_type": "markdown",
   "id": "2abcc432",
   "metadata": {},
   "source": [
    "### Grab all Iris-setosa samples"
   ]
  },
  {
   "cell_type": "code",
   "execution_count": 15,
   "id": "5e5ca869",
   "metadata": {},
   "outputs": [
    {
     "data": {
      "text/html": [
       "<div>\n",
       "<style scoped>\n",
       "    .dataframe tbody tr th:only-of-type {\n",
       "        vertical-align: middle;\n",
       "    }\n",
       "\n",
       "    .dataframe tbody tr th {\n",
       "        vertical-align: top;\n",
       "    }\n",
       "\n",
       "    .dataframe thead th {\n",
       "        text-align: right;\n",
       "    }\n",
       "</style>\n",
       "<table border=\"1\" class=\"dataframe\">\n",
       "  <thead>\n",
       "    <tr style=\"text-align: right;\">\n",
       "      <th></th>\n",
       "      <th>sepal_length</th>\n",
       "      <th>sepal_width</th>\n",
       "      <th>petal_length</th>\n",
       "      <th>petal_width</th>\n",
       "      <th>class</th>\n",
       "    </tr>\n",
       "  </thead>\n",
       "  <tbody>\n",
       "    <tr>\n",
       "      <th>0</th>\n",
       "      <td>5.1</td>\n",
       "      <td>3.5</td>\n",
       "      <td>1.4</td>\n",
       "      <td>0.2</td>\n",
       "      <td>Iris-setosa</td>\n",
       "    </tr>\n",
       "    <tr>\n",
       "      <th>1</th>\n",
       "      <td>4.9</td>\n",
       "      <td>3.0</td>\n",
       "      <td>1.4</td>\n",
       "      <td>0.2</td>\n",
       "      <td>Iris-setosa</td>\n",
       "    </tr>\n",
       "    <tr>\n",
       "      <th>2</th>\n",
       "      <td>4.7</td>\n",
       "      <td>3.2</td>\n",
       "      <td>1.3</td>\n",
       "      <td>0.2</td>\n",
       "      <td>Iris-setosa</td>\n",
       "    </tr>\n",
       "    <tr>\n",
       "      <th>3</th>\n",
       "      <td>4.6</td>\n",
       "      <td>3.1</td>\n",
       "      <td>1.5</td>\n",
       "      <td>0.2</td>\n",
       "      <td>Iris-setosa</td>\n",
       "    </tr>\n",
       "    <tr>\n",
       "      <th>4</th>\n",
       "      <td>5.0</td>\n",
       "      <td>3.6</td>\n",
       "      <td>1.4</td>\n",
       "      <td>0.2</td>\n",
       "      <td>Iris-setosa</td>\n",
       "    </tr>\n",
       "  </tbody>\n",
       "</table>\n",
       "</div>"
      ],
      "text/plain": [
       "   sepal_length  sepal_width  petal_length  petal_width        class\n",
       "0           5.1          3.5           1.4          0.2  Iris-setosa\n",
       "1           4.9          3.0           1.4          0.2  Iris-setosa\n",
       "2           4.7          3.2           1.3          0.2  Iris-setosa\n",
       "3           4.6          3.1           1.5          0.2  Iris-setosa\n",
       "4           5.0          3.6           1.4          0.2  Iris-setosa"
      ]
     },
     "execution_count": 15,
     "metadata": {},
     "output_type": "execute_result"
    }
   ],
   "source": [
    "class_1_sepals = df[df['class'] == 'Iris-setosa']\n",
    "class_1_sepals.head()"
   ]
  },
  {
   "cell_type": "markdown",
   "id": "2d6846bc",
   "metadata": {},
   "source": [
    "### Consider first 30 samples and find average sepal_length"
   ]
  },
  {
   "cell_type": "markdown",
   "id": "35c4b864",
   "metadata": {},
   "source": [
    "### Average Sepal Length for Iris-setosa is found to be 5.0266666666666655"
   ]
  },
  {
   "cell_type": "code",
   "execution_count": 19,
   "id": "d9b6fa1d",
   "metadata": {},
   "outputs": [
    {
     "data": {
      "text/plain": [
       "5.0266666666666655"
      ]
     },
     "execution_count": 19,
     "metadata": {},
     "output_type": "execute_result"
    }
   ],
   "source": [
    "avg_sepal_length = np.mean(class_1_sepals['sepal_length'].values[:30])\n",
    "avg_sepal_length"
   ]
  },
  {
   "cell_type": "markdown",
   "id": "3b79a933",
   "metadata": {},
   "source": [
    "### Based on this data we can say that the average sepal length for Iris-setosa is 5.0266666666666655\n",
    "### So let us consider this as our Null Hypothesis"
   ]
  },
  {
   "cell_type": "markdown",
   "id": "ca15befa",
   "metadata": {},
   "source": [
    "### Now we have remainig 20 samples and we have an alternative hypothesis that the average sepal length is not equal to 5.0266666666666655"
   ]
  },
  {
   "cell_type": "code",
   "execution_count": 28,
   "id": "b12f07b7",
   "metadata": {},
   "outputs": [
    {
     "name": "stdout",
     "output_type": "stream",
     "text": [
      "0.489003561241416\n"
     ]
    }
   ],
   "source": [
    "from scipy.stats import ttest_1samp\n",
    "\n",
    "new_sample_data = class_1_sepals['sepal_length'].values[30:]\n",
    "\n",
    "tset, pval = ttest_1samp(new_sample_data, avg_sepal_length)\n",
    "\n",
    "print(pval)"
   ]
  },
  {
   "cell_type": "markdown",
   "id": "9862961b",
   "metadata": {},
   "source": [
    "### Here since the pval value is greater than the threshold of 0.05 we can say that we failed to reject the null hypothesis"
   ]
  },
  {
   "cell_type": "code",
   "execution_count": 32,
   "id": "9cc7b865",
   "metadata": {},
   "outputs": [
    {
     "data": {
      "text/plain": [
       "0.4691137707471741"
      ]
     },
     "execution_count": 32,
     "metadata": {},
     "output_type": "execute_result"
    }
   ],
   "source": [
    "def find_t_value(X, h_0):\n",
    "    se = np.sqrt(np.var(X) / len(X))\n",
    "    return (np.mean(X) - h_0) / se\n",
    "\n",
    "def find_p_value(t):\n",
    "    return stats.norm.sf(abs(t))*2\n",
    "\n",
    "t = find_t_value(new_sample_data, avg_sepal_length)\n",
    "p = find_p_value(t)\n",
    "\n",
    "p"
   ]
  },
  {
   "cell_type": "markdown",
   "id": "a3416116",
   "metadata": {},
   "source": [
    "### Conclusion"
   ]
  },
  {
   "cell_type": "markdown",
   "id": "5cef054f",
   "metadata": {},
   "source": [
    "1. Understood the need and importance of Hypothesis Testing.\n",
    "2. Understood difference between null and alternative hypothesis.\n",
    "3. Understood when to reject or not to reject null Hypothesis\n",
    "4. Understood about the t-test to find whether null hypothesis needs to be rejected or not."
   ]
  }
 ],
 "metadata": {
  "kernelspec": {
   "display_name": "Python 3 (ipykernel)",
   "language": "python",
   "name": "python3"
  },
  "language_info": {
   "codemirror_mode": {
    "name": "ipython",
    "version": 3
   },
   "file_extension": ".py",
   "mimetype": "text/x-python",
   "name": "python",
   "nbconvert_exporter": "python",
   "pygments_lexer": "ipython3",
   "version": "3.9.7"
  }
 },
 "nbformat": 4,
 "nbformat_minor": 5
}
