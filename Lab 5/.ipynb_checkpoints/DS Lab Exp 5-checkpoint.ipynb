{
 "cells": [
  {
   "cell_type": "code",
   "execution_count": 48,
   "metadata": {
    "_cell_guid": "b1076dfc-b9ad-4769-8c92-a6c4dae69d19",
    "_uuid": "8f2839f25d086af736a60e9eeb907d3b93b6e0e5",
    "execution": {
     "iopub.execute_input": "2022-04-05T10:08:04.111633Z",
     "iopub.status.busy": "2022-04-05T10:08:04.111328Z",
     "iopub.status.idle": "2022-04-05T10:08:04.117262Z",
     "shell.execute_reply": "2022-04-05T10:08:04.116399Z",
     "shell.execute_reply.started": "2022-04-05T10:08:04.111603Z"
    }
   },
   "outputs": [],
   "source": [
    "import numpy as np\n",
    "import pandas as pd\n",
    "import seaborn as sns\n",
    "from scipy.special import boxcox, inv_boxcox"
   ]
  },
  {
   "cell_type": "code",
   "execution_count": 49,
   "metadata": {
    "execution": {
     "iopub.execute_input": "2022-04-05T10:08:04.175309Z",
     "iopub.status.busy": "2022-04-05T10:08:04.174554Z",
     "iopub.status.idle": "2022-04-05T10:08:04.225763Z",
     "shell.execute_reply": "2022-04-05T10:08:04.225061Z",
     "shell.execute_reply.started": "2022-04-05T10:08:04.175263Z"
    }
   },
   "outputs": [],
   "source": [
    "train_df = pd.read_csv('../input/house-prices-advanced-regression-techniques/train.csv')\n",
    "\n",
    "test_df = pd.read_csv('../input/house-prices-advanced-regression-techniques/test.csv')"
   ]
  },
  {
   "cell_type": "code",
   "execution_count": 50,
   "metadata": {
    "execution": {
     "iopub.execute_input": "2022-04-05T10:08:04.228052Z",
     "iopub.status.busy": "2022-04-05T10:08:04.227315Z",
     "iopub.status.idle": "2022-04-05T10:08:04.254643Z",
     "shell.execute_reply": "2022-04-05T10:08:04.253725Z",
     "shell.execute_reply.started": "2022-04-05T10:08:04.228011Z"
    }
   },
   "outputs": [],
   "source": [
    "train_df.head()"
   ]
  },
  {
   "cell_type": "code",
   "execution_count": 51,
   "metadata": {
    "execution": {
     "iopub.execute_input": "2022-04-05T10:08:04.283729Z",
     "iopub.status.busy": "2022-04-05T10:08:04.283441Z",
     "iopub.status.idle": "2022-04-05T10:08:04.310230Z",
     "shell.execute_reply": "2022-04-05T10:08:04.309409Z",
     "shell.execute_reply.started": "2022-04-05T10:08:04.283693Z"
    }
   },
   "outputs": [],
   "source": [
    "test_df.head()"
   ]
  },
  {
   "cell_type": "code",
   "execution_count": 52,
   "metadata": {
    "execution": {
     "iopub.execute_input": "2022-04-05T10:08:04.333996Z",
     "iopub.status.busy": "2022-04-05T10:08:04.333398Z",
     "iopub.status.idle": "2022-04-05T10:08:04.340664Z",
     "shell.execute_reply": "2022-04-05T10:08:04.339701Z",
     "shell.execute_reply.started": "2022-04-05T10:08:04.333957Z"
    }
   },
   "outputs": [],
   "source": [
    "len(train_df)"
   ]
  },
  {
   "cell_type": "code",
   "execution_count": 53,
   "metadata": {
    "execution": {
     "iopub.execute_input": "2022-04-05T10:08:04.375404Z",
     "iopub.status.busy": "2022-04-05T10:08:04.374751Z",
     "iopub.status.idle": "2022-04-05T10:08:04.381889Z",
     "shell.execute_reply": "2022-04-05T10:08:04.381275Z",
     "shell.execute_reply.started": "2022-04-05T10:08:04.375363Z"
    }
   },
   "outputs": [],
   "source": [
    "len(test_df)"
   ]
  },
  {
   "cell_type": "code",
   "execution_count": 54,
   "metadata": {
    "execution": {
     "iopub.execute_input": "2022-04-05T10:08:04.417478Z",
     "iopub.status.busy": "2022-04-05T10:08:04.416709Z",
     "iopub.status.idle": "2022-04-05T10:08:04.421314Z",
     "shell.execute_reply": "2022-04-05T10:08:04.420407Z",
     "shell.execute_reply.started": "2022-04-05T10:08:04.417441Z"
    }
   },
   "outputs": [],
   "source": [
    "target_feature = 'SalePrice'"
   ]
  },
  {
   "cell_type": "code",
   "execution_count": 55,
   "metadata": {
    "execution": {
     "iopub.execute_input": "2022-04-05T10:08:04.463755Z",
     "iopub.status.busy": "2022-04-05T10:08:04.462906Z",
     "iopub.status.idle": "2022-04-05T10:08:04.506519Z",
     "shell.execute_reply": "2022-04-05T10:08:04.505651Z",
     "shell.execute_reply.started": "2022-04-05T10:08:04.463712Z"
    }
   },
   "outputs": [],
   "source": [
    "df = pd.concat([train_df.drop(target_feature, axis=1), test_df])\n",
    "\n",
    "df.head()"
   ]
  },
  {
   "cell_type": "code",
   "execution_count": 56,
   "metadata": {
    "execution": {
     "iopub.execute_input": "2022-04-05T10:08:04.511268Z",
     "iopub.status.busy": "2022-04-05T10:08:04.510999Z",
     "iopub.status.idle": "2022-04-05T10:08:04.517858Z",
     "shell.execute_reply": "2022-04-05T10:08:04.516921Z",
     "shell.execute_reply.started": "2022-04-05T10:08:04.511237Z"
    }
   },
   "outputs": [],
   "source": [
    "len(df)"
   ]
  },
  {
   "cell_type": "code",
   "execution_count": 57,
   "metadata": {
    "execution": {
     "iopub.execute_input": "2022-04-05T10:08:04.550081Z",
     "iopub.status.busy": "2022-04-05T10:08:04.549669Z",
     "iopub.status.idle": "2022-04-05T10:08:04.575379Z",
     "shell.execute_reply": "2022-04-05T10:08:04.574583Z",
     "shell.execute_reply.started": "2022-04-05T10:08:04.550043Z"
    }
   },
   "outputs": [],
   "source": [
    "train_df.info()"
   ]
  },
  {
   "cell_type": "markdown",
   "metadata": {},
   "source": [
    "## Check Missing Values"
   ]
  },
  {
   "cell_type": "code",
   "execution_count": 58,
   "metadata": {
    "execution": {
     "iopub.execute_input": "2022-04-05T10:08:04.587496Z",
     "iopub.status.busy": "2022-04-05T10:08:04.586598Z",
     "iopub.status.idle": "2022-04-05T10:08:08.373880Z",
     "shell.execute_reply": "2022-04-05T10:08:08.373017Z",
     "shell.execute_reply.started": "2022-04-05T10:08:04.587455Z"
    }
   },
   "outputs": [],
   "source": [
    "import missingno\n",
    "missingno.bar(df.iloc[:, : 40])"
   ]
  },
  {
   "cell_type": "code",
   "execution_count": 59,
   "metadata": {
    "execution": {
     "iopub.execute_input": "2022-04-05T10:08:08.376193Z",
     "iopub.status.busy": "2022-04-05T10:08:08.375743Z",
     "iopub.status.idle": "2022-04-05T10:08:12.143337Z",
     "shell.execute_reply": "2022-04-05T10:08:12.142474Z",
     "shell.execute_reply.started": "2022-04-05T10:08:08.376159Z"
    }
   },
   "outputs": [],
   "source": [
    "missingno.bar(df.iloc[:, 40 : 80])"
   ]
  },
  {
   "cell_type": "code",
   "execution_count": 60,
   "metadata": {
    "execution": {
     "iopub.execute_input": "2022-04-05T10:08:12.144718Z",
     "iopub.status.busy": "2022-04-05T10:08:12.144507Z",
     "iopub.status.idle": "2022-04-05T10:08:12.163597Z",
     "shell.execute_reply": "2022-04-05T10:08:12.162702Z",
     "shell.execute_reply.started": "2022-04-05T10:08:12.144692Z"
    }
   },
   "outputs": [],
   "source": [
    "train_df.isna().sum().sort_values(ascending=False) * 100 / len(train_df)"
   ]
  },
  {
   "cell_type": "code",
   "execution_count": 61,
   "metadata": {
    "execution": {
     "iopub.execute_input": "2022-04-05T10:08:12.166699Z",
     "iopub.status.busy": "2022-04-05T10:08:12.166349Z",
     "iopub.status.idle": "2022-04-05T10:08:12.184267Z",
     "shell.execute_reply": "2022-04-05T10:08:12.183336Z",
     "shell.execute_reply.started": "2022-04-05T10:08:12.166664Z"
    }
   },
   "outputs": [],
   "source": [
    "test_df.isna().sum().sort_values(ascending=False) * 100 / len(train_df)"
   ]
  },
  {
   "cell_type": "markdown",
   "metadata": {},
   "source": [
    "## Analyzing Target Feature"
   ]
  },
  {
   "cell_type": "code",
   "execution_count": 62,
   "metadata": {
    "execution": {
     "iopub.execute_input": "2022-04-05T10:08:12.185679Z",
     "iopub.status.busy": "2022-04-05T10:08:12.185446Z",
     "iopub.status.idle": "2022-04-05T10:08:12.510160Z",
     "shell.execute_reply": "2022-04-05T10:08:12.509302Z",
     "shell.execute_reply.started": "2022-04-05T10:08:12.185651Z"
    }
   },
   "outputs": [],
   "source": [
    "sns.distplot(train_df[target_feature])"
   ]
  },
  {
   "cell_type": "markdown",
   "metadata": {},
   "source": [
    "### Since this feature is hghly skewed and for Linear Regression skewed data is not good\n",
    "### transform it into a scale so skewness is close to 0"
   ]
  },
  {
   "cell_type": "code",
   "execution_count": 63,
   "metadata": {
    "execution": {
     "iopub.execute_input": "2022-04-05T10:08:12.511605Z",
     "iopub.status.busy": "2022-04-05T10:08:12.511366Z",
     "iopub.status.idle": "2022-04-05T10:08:12.517791Z",
     "shell.execute_reply": "2022-04-05T10:08:12.517000Z",
     "shell.execute_reply.started": "2022-04-05T10:08:12.511576Z"
    }
   },
   "outputs": [],
   "source": [
    "train_df[target_feature].skew()"
   ]
  },
  {
   "cell_type": "markdown",
   "metadata": {},
   "source": [
    "### Boxcox == 0  meaning log"
   ]
  },
  {
   "cell_type": "code",
   "execution_count": 64,
   "metadata": {
    "execution": {
     "iopub.execute_input": "2022-04-05T10:08:12.519297Z",
     "iopub.status.busy": "2022-04-05T10:08:12.519036Z",
     "iopub.status.idle": "2022-04-05T10:08:12.534218Z",
     "shell.execute_reply": "2022-04-05T10:08:12.533619Z",
     "shell.execute_reply.started": "2022-04-05T10:08:12.519267Z"
    }
   },
   "outputs": [],
   "source": [
    "target_boxcox_val = 0\n",
    "boxcox(train_df[target_feature], target_boxcox_val).skew()"
   ]
  },
  {
   "cell_type": "code",
   "execution_count": 65,
   "metadata": {
    "execution": {
     "iopub.execute_input": "2022-04-05T10:08:12.535739Z",
     "iopub.status.busy": "2022-04-05T10:08:12.535408Z",
     "iopub.status.idle": "2022-04-05T10:08:12.543079Z",
     "shell.execute_reply": "2022-04-05T10:08:12.542461Z",
     "shell.execute_reply.started": "2022-04-05T10:08:12.535711Z"
    }
   },
   "outputs": [],
   "source": [
    "train_df[target_feature] = boxcox(train_df[target_feature], target_boxcox_val)"
   ]
  },
  {
   "cell_type": "code",
   "execution_count": 66,
   "metadata": {
    "execution": {
     "iopub.execute_input": "2022-04-05T10:08:12.544530Z",
     "iopub.status.busy": "2022-04-05T10:08:12.544201Z",
     "iopub.status.idle": "2022-04-05T10:08:12.854926Z",
     "shell.execute_reply": "2022-04-05T10:08:12.854042Z",
     "shell.execute_reply.started": "2022-04-05T10:08:12.544495Z"
    }
   },
   "outputs": [],
   "source": [
    "sns.distplot(train_df[target_feature])"
   ]
  },
  {
   "cell_type": "markdown",
   "metadata": {},
   "source": [
    "###  Id "
   ]
  },
  {
   "cell_type": "code",
   "execution_count": 67,
   "metadata": {
    "execution": {
     "iopub.execute_input": "2022-04-05T10:08:12.858144Z",
     "iopub.status.busy": "2022-04-05T10:08:12.857875Z",
     "iopub.status.idle": "2022-04-05T10:08:12.864836Z",
     "shell.execute_reply": "2022-04-05T10:08:12.863944Z",
     "shell.execute_reply.started": "2022-04-05T10:08:12.858096Z"
    }
   },
   "outputs": [],
   "source": [
    "df['Id'].nunique()"
   ]
  },
  {
   "cell_type": "code",
   "execution_count": 68,
   "metadata": {
    "execution": {
     "iopub.execute_input": "2022-04-05T10:08:12.866164Z",
     "iopub.status.busy": "2022-04-05T10:08:12.865917Z",
     "iopub.status.idle": "2022-04-05T10:08:12.876779Z",
     "shell.execute_reply": "2022-04-05T10:08:12.875930Z",
     "shell.execute_reply.started": "2022-04-05T10:08:12.866105Z"
    }
   },
   "outputs": [],
   "source": [
    "len(df)"
   ]
  },
  {
   "cell_type": "markdown",
   "metadata": {},
   "source": [
    "## All the id values are unique so we need to drop it because it won't provide any necessary info to the model"
   ]
  },
  {
   "cell_type": "markdown",
   "metadata": {
    "execution": {
     "iopub.execute_input": "2022-03-03T06:55:48.902104Z",
     "iopub.status.busy": "2022-03-03T06:55:48.901559Z",
     "iopub.status.idle": "2022-03-03T06:55:48.905944Z",
     "shell.execute_reply": "2022-03-03T06:55:48.905351Z",
     "shell.execute_reply.started": "2022-03-03T06:55:48.902057Z"
    }
   },
   "source": [
    "## MSSubClass"
   ]
  },
  {
   "cell_type": "code",
   "execution_count": 69,
   "metadata": {
    "execution": {
     "iopub.execute_input": "2022-04-05T10:08:12.878586Z",
     "iopub.status.busy": "2022-04-05T10:08:12.878325Z",
     "iopub.status.idle": "2022-04-05T10:08:12.890533Z",
     "shell.execute_reply": "2022-04-05T10:08:12.889723Z",
     "shell.execute_reply.started": "2022-04-05T10:08:12.878559Z"
    }
   },
   "outputs": [],
   "source": [
    "df['MSSubClass'].isnull().sum()"
   ]
  },
  {
   "cell_type": "code",
   "execution_count": 70,
   "metadata": {
    "execution": {
     "iopub.execute_input": "2022-04-05T10:08:12.892156Z",
     "iopub.status.busy": "2022-04-05T10:08:12.891706Z",
     "iopub.status.idle": "2022-04-05T10:08:12.902423Z",
     "shell.execute_reply": "2022-04-05T10:08:12.901626Z",
     "shell.execute_reply.started": "2022-04-05T10:08:12.892063Z"
    }
   },
   "outputs": [],
   "source": [
    "train_df['MSSubClass'].value_counts()"
   ]
  },
  {
   "cell_type": "code",
   "execution_count": 71,
   "metadata": {
    "execution": {
     "iopub.execute_input": "2022-04-05T10:08:12.904346Z",
     "iopub.status.busy": "2022-04-05T10:08:12.903912Z",
     "iopub.status.idle": "2022-04-05T10:08:12.914811Z",
     "shell.execute_reply": "2022-04-05T10:08:12.913976Z",
     "shell.execute_reply.started": "2022-04-05T10:08:12.904310Z"
    }
   },
   "outputs": [],
   "source": [
    "test_df['MSSubClass'].value_counts()"
   ]
  },
  {
   "cell_type": "code",
   "execution_count": 72,
   "metadata": {
    "execution": {
     "iopub.execute_input": "2022-04-05T10:08:12.916654Z",
     "iopub.status.busy": "2022-04-05T10:08:12.916415Z",
     "iopub.status.idle": "2022-04-05T10:08:12.924889Z",
     "shell.execute_reply": "2022-04-05T10:08:12.924292Z",
     "shell.execute_reply.started": "2022-04-05T10:08:12.916627Z"
    }
   },
   "outputs": [],
   "source": [
    "df['MSSubClass'].median()"
   ]
  },
  {
   "cell_type": "code",
   "execution_count": 73,
   "metadata": {
    "execution": {
     "iopub.execute_input": "2022-04-05T10:08:12.926765Z",
     "iopub.status.busy": "2022-04-05T10:08:12.925874Z",
     "iopub.status.idle": "2022-04-05T10:08:13.195468Z",
     "shell.execute_reply": "2022-04-05T10:08:13.194736Z",
     "shell.execute_reply.started": "2022-04-05T10:08:12.926716Z"
    }
   },
   "outputs": [],
   "source": [
    "sns.distplot(df['MSSubClass'])"
   ]
  },
  {
   "cell_type": "code",
   "execution_count": 74,
   "metadata": {
    "execution": {
     "iopub.execute_input": "2022-04-05T10:08:13.197459Z",
     "iopub.status.busy": "2022-04-05T10:08:13.196595Z",
     "iopub.status.idle": "2022-04-05T10:08:13.203265Z",
     "shell.execute_reply": "2022-04-05T10:08:13.202424Z",
     "shell.execute_reply.started": "2022-04-05T10:08:13.197417Z"
    }
   },
   "outputs": [],
   "source": [
    "subclass_median = df['MSSubClass'].median()\n",
    "subclass_median"
   ]
  },
  {
   "cell_type": "code",
   "execution_count": 75,
   "metadata": {
    "execution": {
     "iopub.execute_input": "2022-04-05T10:08:13.204640Z",
     "iopub.status.busy": "2022-04-05T10:08:13.204405Z",
     "iopub.status.idle": "2022-04-05T10:08:13.215842Z",
     "shell.execute_reply": "2022-04-05T10:08:13.215078Z",
     "shell.execute_reply.started": "2022-04-05T10:08:13.204611Z"
    }
   },
   "outputs": [],
   "source": [
    "def remove_subclass_outliers(x):\n",
    "    if x > 100:\n",
    "        x = subclass_median\n",
    "    elif x < 20:\n",
    "        x = subclass_median\n",
    "    return x"
   ]
  },
  {
   "cell_type": "code",
   "execution_count": 76,
   "metadata": {
    "execution": {
     "iopub.execute_input": "2022-04-05T10:08:13.217589Z",
     "iopub.status.busy": "2022-04-05T10:08:13.217002Z",
     "iopub.status.idle": "2022-04-05T10:08:13.255387Z",
     "shell.execute_reply": "2022-04-05T10:08:13.254475Z",
     "shell.execute_reply.started": "2022-04-05T10:08:13.217541Z"
    }
   },
   "outputs": [],
   "source": [
    "train_df.select_dtypes(include = ['object'])"
   ]
  },
  {
   "cell_type": "code",
   "execution_count": 77,
   "metadata": {
    "execution": {
     "iopub.execute_input": "2022-04-05T10:08:13.257488Z",
     "iopub.status.busy": "2022-04-05T10:08:13.256652Z",
     "iopub.status.idle": "2022-04-05T10:08:13.261717Z",
     "shell.execute_reply": "2022-04-05T10:08:13.260910Z",
     "shell.execute_reply.started": "2022-04-05T10:08:13.257441Z"
    }
   },
   "outputs": [],
   "source": [
    "# train_df['MSSubClass'] = train_df['MSSubClass'].apply(remove_subclass_outliers)\n",
    "# test_df['MSSubClass'] = test_df['MSSubClass'].apply(remove_subclass_outliers)\n",
    "# df['MSSubClass'] = df['MSSubClass'].apply(remove_subclass_outliers)"
   ]
  },
  {
   "cell_type": "markdown",
   "metadata": {},
   "source": [
    "## SaleCondition"
   ]
  },
  {
   "cell_type": "code",
   "execution_count": 78,
   "metadata": {
    "execution": {
     "iopub.execute_input": "2022-04-05T10:08:13.263638Z",
     "iopub.status.busy": "2022-04-05T10:08:13.263186Z",
     "iopub.status.idle": "2022-04-05T10:08:13.277173Z",
     "shell.execute_reply": "2022-04-05T10:08:13.276270Z",
     "shell.execute_reply.started": "2022-04-05T10:08:13.263596Z"
    }
   },
   "outputs": [],
   "source": [
    "df['SaleCondition'].isnull().sum()"
   ]
  },
  {
   "cell_type": "code",
   "execution_count": 79,
   "metadata": {
    "execution": {
     "iopub.execute_input": "2022-04-05T10:08:13.279227Z",
     "iopub.status.busy": "2022-04-05T10:08:13.278717Z",
     "iopub.status.idle": "2022-04-05T10:08:13.291041Z",
     "shell.execute_reply": "2022-04-05T10:08:13.290436Z",
     "shell.execute_reply.started": "2022-04-05T10:08:13.279168Z"
    }
   },
   "outputs": [],
   "source": [
    "df['SaleCondition'].value_counts()"
   ]
  },
  {
   "cell_type": "code",
   "execution_count": 80,
   "metadata": {
    "execution": {
     "iopub.execute_input": "2022-04-05T10:08:13.292586Z",
     "iopub.status.busy": "2022-04-05T10:08:13.292132Z",
     "iopub.status.idle": "2022-04-05T10:08:13.304029Z",
     "shell.execute_reply": "2022-04-05T10:08:13.303320Z",
     "shell.execute_reply.started": "2022-04-05T10:08:13.292558Z"
    }
   },
   "outputs": [],
   "source": [
    "train_df['SaleCondition'].value_counts()"
   ]
  },
  {
   "cell_type": "code",
   "execution_count": 81,
   "metadata": {
    "execution": {
     "iopub.execute_input": "2022-04-05T10:08:13.305586Z",
     "iopub.status.busy": "2022-04-05T10:08:13.305011Z",
     "iopub.status.idle": "2022-04-05T10:08:13.318835Z",
     "shell.execute_reply": "2022-04-05T10:08:13.318241Z",
     "shell.execute_reply.started": "2022-04-05T10:08:13.305545Z"
    }
   },
   "outputs": [],
   "source": [
    "test_df['SaleCondition'].value_counts()"
   ]
  },
  {
   "cell_type": "code",
   "execution_count": 82,
   "metadata": {
    "execution": {
     "iopub.execute_input": "2022-04-05T10:08:13.320131Z",
     "iopub.status.busy": "2022-04-05T10:08:13.319906Z",
     "iopub.status.idle": "2022-04-05T10:08:13.539011Z",
     "shell.execute_reply": "2022-04-05T10:08:13.538196Z",
     "shell.execute_reply.started": "2022-04-05T10:08:13.320087Z"
    }
   },
   "outputs": [],
   "source": [
    "sns.stripplot(x='SaleCondition', y=target_feature, data=train_df)"
   ]
  },
  {
   "cell_type": "markdown",
   "metadata": {},
   "source": [
    "## BaseLine Model\n",
    "\n",
    "### Ignore ID col and take all remaining numerical data only \n",
    "\n",
    "### Drop Missing data cols from the dataset"
   ]
  },
  {
   "cell_type": "code",
   "execution_count": 83,
   "metadata": {
    "execution": {
     "iopub.execute_input": "2022-04-05T10:08:13.540507Z",
     "iopub.status.busy": "2022-04-05T10:08:13.540272Z",
     "iopub.status.idle": "2022-04-05T10:08:13.549630Z",
     "shell.execute_reply": "2022-04-05T10:08:13.548749Z",
     "shell.execute_reply.started": "2022-04-05T10:08:13.540478Z"
    }
   },
   "outputs": [],
   "source": [
    "baseline_train_df = train_df.copy()\n",
    "baseline_test_df = test_df.copy()\n",
    "baseline_df = df.copy()"
   ]
  },
  {
   "cell_type": "markdown",
   "metadata": {},
   "source": [
    "### Drop Missing Value Features"
   ]
  },
  {
   "cell_type": "code",
   "execution_count": 84,
   "metadata": {
    "execution": {
     "iopub.execute_input": "2022-04-05T10:08:13.551142Z",
     "iopub.status.busy": "2022-04-05T10:08:13.550908Z",
     "iopub.status.idle": "2022-04-05T10:08:13.595675Z",
     "shell.execute_reply": "2022-04-05T10:08:13.594893Z",
     "shell.execute_reply.started": "2022-04-05T10:08:13.551107Z"
    }
   },
   "outputs": [],
   "source": [
    "baseline_df.dropna(inplace=True, axis=1)\n",
    "baseline_train_df.dropna(inplace=True, axis=1)\n",
    "baseline_test_df.dropna(inplace=True, axis=1)"
   ]
  },
  {
   "cell_type": "code",
   "execution_count": 85,
   "metadata": {
    "execution": {
     "iopub.execute_input": "2022-04-05T10:08:13.599901Z",
     "iopub.status.busy": "2022-04-05T10:08:13.599667Z",
     "iopub.status.idle": "2022-04-05T10:08:13.605692Z",
     "shell.execute_reply": "2022-04-05T10:08:13.604932Z",
     "shell.execute_reply.started": "2022-04-05T10:08:13.599874Z"
    }
   },
   "outputs": [],
   "source": [
    "baseline_df.columns"
   ]
  },
  {
   "cell_type": "code",
   "execution_count": 86,
   "metadata": {
    "execution": {
     "iopub.execute_input": "2022-04-05T10:08:13.606959Z",
     "iopub.status.busy": "2022-04-05T10:08:13.606757Z",
     "iopub.status.idle": "2022-04-05T10:08:13.620779Z",
     "shell.execute_reply": "2022-04-05T10:08:13.619920Z",
     "shell.execute_reply.started": "2022-04-05T10:08:13.606933Z"
    }
   },
   "outputs": [],
   "source": [
    "set(baseline_test_df.columns) == set(baseline_train_df.columns)"
   ]
  },
  {
   "cell_type": "code",
   "execution_count": 87,
   "metadata": {
    "execution": {
     "iopub.execute_input": "2022-04-05T10:08:13.622303Z",
     "iopub.status.busy": "2022-04-05T10:08:13.621899Z",
     "iopub.status.idle": "2022-04-05T10:08:13.634045Z",
     "shell.execute_reply": "2022-04-05T10:08:13.632675Z",
     "shell.execute_reply.started": "2022-04-05T10:08:13.622263Z"
    }
   },
   "outputs": [],
   "source": [
    "set(baseline_train_df.columns) - set(baseline_test_df.columns)"
   ]
  },
  {
   "cell_type": "code",
   "execution_count": 88,
   "metadata": {
    "execution": {
     "iopub.execute_input": "2022-04-05T10:08:13.635574Z",
     "iopub.status.busy": "2022-04-05T10:08:13.635032Z",
     "iopub.status.idle": "2022-04-05T10:08:13.647731Z",
     "shell.execute_reply": "2022-04-05T10:08:13.647089Z",
     "shell.execute_reply.started": "2022-04-05T10:08:13.635543Z"
    }
   },
   "outputs": [],
   "source": [
    "commmon_features = list(set(baseline_test_df.columns).intersection(set(baseline_train_df.columns)))\n",
    "\n",
    "commmon_features"
   ]
  },
  {
   "cell_type": "code",
   "execution_count": 89,
   "metadata": {
    "execution": {
     "iopub.execute_input": "2022-04-05T10:08:13.649072Z",
     "iopub.status.busy": "2022-04-05T10:08:13.648762Z",
     "iopub.status.idle": "2022-04-05T10:08:13.679370Z",
     "shell.execute_reply": "2022-04-05T10:08:13.678602Z",
     "shell.execute_reply.started": "2022-04-05T10:08:13.649046Z"
    }
   },
   "outputs": [],
   "source": [
    "baseline_train_df.head()"
   ]
  },
  {
   "cell_type": "code",
   "execution_count": 90,
   "metadata": {
    "execution": {
     "iopub.execute_input": "2022-04-05T10:08:13.681549Z",
     "iopub.status.busy": "2022-04-05T10:08:13.680730Z",
     "iopub.status.idle": "2022-04-05T10:08:13.858934Z",
     "shell.execute_reply": "2022-04-05T10:08:13.858015Z",
     "shell.execute_reply.started": "2022-04-05T10:08:13.681496Z"
    }
   },
   "outputs": [],
   "source": [
    "baseline_test_df.head()"
   ]
  },
  {
   "cell_type": "code",
   "execution_count": 91,
   "metadata": {
    "execution": {
     "iopub.execute_input": "2022-04-05T10:08:13.861027Z",
     "iopub.status.busy": "2022-04-05T10:08:13.860265Z",
     "iopub.status.idle": "2022-04-05T10:08:13.874598Z",
     "shell.execute_reply": "2022-04-05T10:08:13.873950Z",
     "shell.execute_reply.started": "2022-04-05T10:08:13.860990Z"
    }
   },
   "outputs": [],
   "source": [
    "baseline_train_df = baseline_train_df[commmon_features]\n",
    "baseline_test_df = baseline_test_df[commmon_features]\n",
    "baseline_df = baseline_df[commmon_features]"
   ]
  },
  {
   "cell_type": "code",
   "execution_count": 92,
   "metadata": {
    "execution": {
     "iopub.execute_input": "2022-04-05T10:08:13.876324Z",
     "iopub.status.busy": "2022-04-05T10:08:13.875915Z",
     "iopub.status.idle": "2022-04-05T10:08:13.884700Z",
     "shell.execute_reply": "2022-04-05T10:08:13.883983Z",
     "shell.execute_reply.started": "2022-04-05T10:08:13.876281Z"
    }
   },
   "outputs": [],
   "source": [
    "common_categorical = baseline_df.select_dtypes(include=['object']).columns"
   ]
  },
  {
   "cell_type": "code",
   "execution_count": 93,
   "metadata": {
    "execution": {
     "iopub.execute_input": "2022-04-05T10:08:13.886505Z",
     "iopub.status.busy": "2022-04-05T10:08:13.886088Z",
     "iopub.status.idle": "2022-04-05T10:08:13.930089Z",
     "shell.execute_reply": "2022-04-05T10:08:13.929463Z",
     "shell.execute_reply.started": "2022-04-05T10:08:13.886476Z"
    }
   },
   "outputs": [],
   "source": [
    "from sklearn.preprocessing import LabelEncoder\n",
    "\n",
    "for col in common_categorical:\n",
    "    le = LabelEncoder()\n",
    "    le.fit(baseline_df[col])\n",
    "    baseline_train_df[col] = le.transform(baseline_train_df[col])\n",
    "    baseline_test_df[col] = le.transform(baseline_test_df[col])"
   ]
  },
  {
   "cell_type": "code",
   "execution_count": 94,
   "metadata": {
    "execution": {
     "iopub.execute_input": "2022-04-05T10:08:13.931481Z",
     "iopub.status.busy": "2022-04-05T10:08:13.931159Z",
     "iopub.status.idle": "2022-04-05T10:08:13.939145Z",
     "shell.execute_reply": "2022-04-05T10:08:13.938473Z",
     "shell.execute_reply.started": "2022-04-05T10:08:13.931454Z"
    }
   },
   "outputs": [],
   "source": [
    "baseline_train_df.select_dtypes(include='object').columns"
   ]
  },
  {
   "cell_type": "code",
   "execution_count": 95,
   "metadata": {
    "execution": {
     "iopub.execute_input": "2022-04-05T10:08:13.940676Z",
     "iopub.status.busy": "2022-04-05T10:08:13.940309Z",
     "iopub.status.idle": "2022-04-05T10:08:13.953001Z",
     "shell.execute_reply": "2022-04-05T10:08:13.952106Z",
     "shell.execute_reply.started": "2022-04-05T10:08:13.940642Z"
    }
   },
   "outputs": [],
   "source": [
    "baseline_test_df.select_dtypes(include='object').columns"
   ]
  },
  {
   "cell_type": "code",
   "execution_count": 96,
   "metadata": {
    "execution": {
     "iopub.execute_input": "2022-04-05T10:08:13.954851Z",
     "iopub.status.busy": "2022-04-05T10:08:13.954451Z",
     "iopub.status.idle": "2022-04-05T10:08:13.963202Z",
     "shell.execute_reply": "2022-04-05T10:08:13.962295Z",
     "shell.execute_reply.started": "2022-04-05T10:08:13.954820Z"
    }
   },
   "outputs": [],
   "source": [
    "features_to_ignore =  ['Id']\n",
    "\n",
    "baseline_train_df.drop(features_to_ignore, axis=1, inplace=True)\n",
    "baseline_test_df.drop(features_to_ignore, axis=1, inplace=True)"
   ]
  },
  {
   "cell_type": "code",
   "execution_count": 97,
   "metadata": {
    "execution": {
     "iopub.execute_input": "2022-04-05T10:08:13.965171Z",
     "iopub.status.busy": "2022-04-05T10:08:13.964597Z",
     "iopub.status.idle": "2022-04-05T10:08:13.975827Z",
     "shell.execute_reply": "2022-04-05T10:08:13.975068Z",
     "shell.execute_reply.started": "2022-04-05T10:08:13.965101Z"
    }
   },
   "outputs": [],
   "source": [
    "baseline_train_df.shape"
   ]
  },
  {
   "cell_type": "code",
   "execution_count": 98,
   "metadata": {
    "execution": {
     "iopub.execute_input": "2022-04-05T10:08:13.977160Z",
     "iopub.status.busy": "2022-04-05T10:08:13.976912Z",
     "iopub.status.idle": "2022-04-05T10:08:13.988619Z",
     "shell.execute_reply": "2022-04-05T10:08:13.987601Z",
     "shell.execute_reply.started": "2022-04-05T10:08:13.977106Z"
    }
   },
   "outputs": [],
   "source": [
    "baseline_test_df.shape"
   ]
  },
  {
   "cell_type": "code",
   "execution_count": 99,
   "metadata": {
    "execution": {
     "iopub.execute_input": "2022-04-05T10:08:13.990913Z",
     "iopub.status.busy": "2022-04-05T10:08:13.990221Z",
     "iopub.status.idle": "2022-04-05T10:08:13.999596Z",
     "shell.execute_reply": "2022-04-05T10:08:13.998723Z",
     "shell.execute_reply.started": "2022-04-05T10:08:13.990869Z"
    }
   },
   "outputs": [],
   "source": [
    "baseline_train_df[target_feature] = train_df[target_feature]"
   ]
  },
  {
   "cell_type": "code",
   "execution_count": 100,
   "metadata": {
    "execution": {
     "iopub.execute_input": "2022-04-05T10:08:14.001537Z",
     "iopub.status.busy": "2022-04-05T10:08:14.001033Z",
     "iopub.status.idle": "2022-04-05T10:08:14.059207Z",
     "shell.execute_reply": "2022-04-05T10:08:14.058483Z",
     "shell.execute_reply.started": "2022-04-05T10:08:14.001493Z"
    }
   },
   "outputs": [],
   "source": [
    "from sklearn.model_selection import train_test_split\n",
    "\n",
    "X_train, X_test, y_train, y_test = train_test_split(baseline_train_df.drop(target_feature,axis=1), \n",
    "                                                   baseline_train_df[target_feature] , test_size=0.1, random_state=42)"
   ]
  },
  {
   "cell_type": "code",
   "execution_count": 101,
   "metadata": {
    "execution": {
     "iopub.execute_input": "2022-04-05T10:08:14.061138Z",
     "iopub.status.busy": "2022-04-05T10:08:14.060649Z",
     "iopub.status.idle": "2022-04-05T10:08:14.067561Z",
     "shell.execute_reply": "2022-04-05T10:08:14.066633Z",
     "shell.execute_reply.started": "2022-04-05T10:08:14.061072Z"
    }
   },
   "outputs": [],
   "source": [
    "X_train.shape"
   ]
  },
  {
   "cell_type": "code",
   "execution_count": 102,
   "metadata": {
    "execution": {
     "iopub.execute_input": "2022-04-05T10:08:14.069566Z",
     "iopub.status.busy": "2022-04-05T10:08:14.069084Z",
     "iopub.status.idle": "2022-04-05T10:08:14.078703Z",
     "shell.execute_reply": "2022-04-05T10:08:14.078023Z",
     "shell.execute_reply.started": "2022-04-05T10:08:14.069525Z"
    }
   },
   "outputs": [],
   "source": [
    "y_train.shape"
   ]
  },
  {
   "cell_type": "code",
   "execution_count": 103,
   "metadata": {
    "execution": {
     "iopub.execute_input": "2022-04-05T10:08:14.080493Z",
     "iopub.status.busy": "2022-04-05T10:08:14.079793Z",
     "iopub.status.idle": "2022-04-05T10:08:14.090599Z",
     "shell.execute_reply": "2022-04-05T10:08:14.089712Z",
     "shell.execute_reply.started": "2022-04-05T10:08:14.080451Z"
    }
   },
   "outputs": [],
   "source": [
    "X_test.shape"
   ]
  },
  {
   "cell_type": "code",
   "execution_count": 104,
   "metadata": {
    "execution": {
     "iopub.execute_input": "2022-04-05T10:08:14.092490Z",
     "iopub.status.busy": "2022-04-05T10:08:14.092005Z",
     "iopub.status.idle": "2022-04-05T10:08:14.101958Z",
     "shell.execute_reply": "2022-04-05T10:08:14.101408Z",
     "shell.execute_reply.started": "2022-04-05T10:08:14.092449Z"
    }
   },
   "outputs": [],
   "source": [
    "y_test.shape"
   ]
  },
  {
   "cell_type": "markdown",
   "metadata": {},
   "source": [
    "## Base line model"
   ]
  },
  {
   "cell_type": "code",
   "execution_count": 105,
   "metadata": {
    "execution": {
     "iopub.execute_input": "2022-04-05T10:08:14.103425Z",
     "iopub.status.busy": "2022-04-05T10:08:14.103052Z",
     "iopub.status.idle": "2022-04-05T10:08:14.197547Z",
     "shell.execute_reply": "2022-04-05T10:08:14.196339Z",
     "shell.execute_reply.started": "2022-04-05T10:08:14.103384Z"
    }
   },
   "outputs": [],
   "source": [
    "from sklearn.linear_model import LinearRegression\n",
    "\n",
    "baseline_model = LinearRegression().fit(X_train, y_train)"
   ]
  },
  {
   "cell_type": "markdown",
   "metadata": {},
   "source": [
    "## Eval on Validation Set "
   ]
  },
  {
   "cell_type": "code",
   "execution_count": 106,
   "metadata": {
    "execution": {
     "iopub.execute_input": "2022-04-05T10:08:14.199495Z",
     "iopub.status.busy": "2022-04-05T10:08:14.199072Z",
     "iopub.status.idle": "2022-04-05T10:08:14.212996Z",
     "shell.execute_reply": "2022-04-05T10:08:14.212096Z",
     "shell.execute_reply.started": "2022-04-05T10:08:14.199449Z"
    }
   },
   "outputs": [],
   "source": [
    "from sklearn.metrics import mean_squared_error\n",
    "\n",
    "preds = baseline_model.predict(X_test)\n",
    "\n",
    "np.log(mean_squared_error(inv_boxcox(y_test, target_boxcox_val), inv_boxcox(preds, target_boxcox_val))) "
   ]
  },
  {
   "cell_type": "markdown",
   "metadata": {},
   "source": [
    "##  EVAL ON Testing SET "
   ]
  },
  {
   "cell_type": "code",
   "execution_count": 107,
   "metadata": {
    "execution": {
     "iopub.execute_input": "2022-04-05T10:08:14.215360Z",
     "iopub.status.busy": "2022-04-05T10:08:14.214377Z",
     "iopub.status.idle": "2022-04-05T10:08:14.228892Z",
     "shell.execute_reply": "2022-04-05T10:08:14.227991Z",
     "shell.execute_reply.started": "2022-04-05T10:08:14.215305Z"
    }
   },
   "outputs": [],
   "source": [
    "baseline_train_df.columns"
   ]
  },
  {
   "cell_type": "code",
   "execution_count": 108,
   "metadata": {
    "execution": {
     "iopub.execute_input": "2022-04-05T10:08:14.231075Z",
     "iopub.status.busy": "2022-04-05T10:08:14.230554Z",
     "iopub.status.idle": "2022-04-05T10:08:14.242976Z",
     "shell.execute_reply": "2022-04-05T10:08:14.242162Z",
     "shell.execute_reply.started": "2022-04-05T10:08:14.231028Z"
    }
   },
   "outputs": [],
   "source": [
    "baseline_test_df.columns"
   ]
  },
  {
   "cell_type": "code",
   "execution_count": 109,
   "metadata": {
    "execution": {
     "iopub.execute_input": "2022-04-05T10:08:14.245179Z",
     "iopub.status.busy": "2022-04-05T10:08:14.244649Z",
     "iopub.status.idle": "2022-04-05T10:08:14.258732Z",
     "shell.execute_reply": "2022-04-05T10:08:14.257911Z",
     "shell.execute_reply.started": "2022-04-05T10:08:14.245131Z"
    }
   },
   "outputs": [],
   "source": [
    "set(baseline_train_df.columns) - set(baseline_test_df.columns)"
   ]
  },
  {
   "cell_type": "code",
   "execution_count": 110,
   "metadata": {
    "execution": {
     "iopub.execute_input": "2022-04-05T10:08:14.260816Z",
     "iopub.status.busy": "2022-04-05T10:08:14.260324Z",
     "iopub.status.idle": "2022-04-05T10:08:14.300416Z",
     "shell.execute_reply": "2022-04-05T10:08:14.299587Z",
     "shell.execute_reply.started": "2022-04-05T10:08:14.260771Z"
    }
   },
   "outputs": [],
   "source": [
    "baseline_test_submission_df = pd.DataFrame()\n",
    "\n",
    "baseline_test_submission_df['Id'] = test_df['Id']\n",
    "\n",
    "baseline_test_submission_df['SalePrice'] = inv_boxcox(baseline_model.predict(baseline_test_df), target_boxcox_val)\n",
    "\n",
    "baseline_test_submission_df.to_csv('final_submission.csv', index=False)\n",
    "\n",
    "baseline_test_submission_df.head()"
   ]
  }
 ],
 "metadata": {
  "kernelspec": {
   "display_name": "Python 3 (ipykernel)",
   "language": "python",
   "name": "python3"
  },
  "language_info": {
   "codemirror_mode": {
    "name": "ipython",
    "version": 3
   },
   "file_extension": ".py",
   "mimetype": "text/x-python",
   "name": "python",
   "nbconvert_exporter": "python",
   "pygments_lexer": "ipython3",
   "version": "3.9.7"
  }
 },
 "nbformat": 4,
 "nbformat_minor": 4
}
