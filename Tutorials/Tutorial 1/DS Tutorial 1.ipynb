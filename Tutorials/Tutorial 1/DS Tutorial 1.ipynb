{
 "cells": [
  {
   "cell_type": "markdown",
   "metadata": {},
   "source": [
    "### Name: Jiten Sidhpura \n",
    "### UID: 2018130051\n",
    "### Batch B\n",
    "### BE COMPS\n",
    "\n",
    "### Objective: Exploratory Data Analysis"
   ]
  },
  {
   "cell_type": "markdown",
   "metadata": {},
   "source": [
    "## Imports"
   ]
  },
  {
   "cell_type": "code",
   "execution_count": 605,
   "metadata": {},
   "outputs": [],
   "source": [
    "import numpy as np \n",
    "import pandas as pd \n",
    "import seaborn as sns\n",
    "from matplotlib import pyplot as plt"
   ]
  },
  {
   "cell_type": "markdown",
   "metadata": {},
   "source": [
    "## Read data file and create pandas data frame\n"
   ]
  },
  {
   "cell_type": "code",
   "execution_count": 606,
   "metadata": {
    "_cell_guid": "79c7e3d0-c299-4dcb-8224-4455121ee9b0",
    "_uuid": "d629ff2d2480ee46fbb7e2d37f6b5fab8052498a"
   },
   "outputs": [
    {
     "data": {
      "text/html": [
       "<div>\n",
       "<style scoped>\n",
       "    .dataframe tbody tr th:only-of-type {\n",
       "        vertical-align: middle;\n",
       "    }\n",
       "\n",
       "    .dataframe tbody tr th {\n",
       "        vertical-align: top;\n",
       "    }\n",
       "\n",
       "    .dataframe thead th {\n",
       "        text-align: right;\n",
       "    }\n",
       "</style>\n",
       "<table border=\"1\" class=\"dataframe\">\n",
       "  <thead>\n",
       "    <tr style=\"text-align: right;\">\n",
       "      <th></th>\n",
       "      <th>AcresBurned</th>\n",
       "      <th>Active</th>\n",
       "      <th>AdminUnit</th>\n",
       "      <th>AirTankers</th>\n",
       "      <th>ArchiveYear</th>\n",
       "      <th>CalFireIncident</th>\n",
       "      <th>CanonicalUrl</th>\n",
       "      <th>ConditionStatement</th>\n",
       "      <th>ControlStatement</th>\n",
       "      <th>Counties</th>\n",
       "      <th>...</th>\n",
       "      <th>SearchKeywords</th>\n",
       "      <th>Started</th>\n",
       "      <th>Status</th>\n",
       "      <th>StructuresDamaged</th>\n",
       "      <th>StructuresDestroyed</th>\n",
       "      <th>StructuresEvacuated</th>\n",
       "      <th>StructuresThreatened</th>\n",
       "      <th>UniqueId</th>\n",
       "      <th>Updated</th>\n",
       "      <th>WaterTenders</th>\n",
       "    </tr>\n",
       "  </thead>\n",
       "  <tbody>\n",
       "    <tr>\n",
       "      <th>0</th>\n",
       "      <td>257314.0</td>\n",
       "      <td>False</td>\n",
       "      <td>Stanislaus National Forest/Yosemite National Park</td>\n",
       "      <td>NaN</td>\n",
       "      <td>2013</td>\n",
       "      <td>True</td>\n",
       "      <td>/incidents/2013/8/17/rim-fire/</td>\n",
       "      <td>NaN</td>\n",
       "      <td>NaN</td>\n",
       "      <td>Tuolumne</td>\n",
       "      <td>...</td>\n",
       "      <td>Rim Fire, Stanislaus National Forest, Yosemite...</td>\n",
       "      <td>2013-08-17T15:25:00Z</td>\n",
       "      <td>Finalized</td>\n",
       "      <td>NaN</td>\n",
       "      <td>NaN</td>\n",
       "      <td>NaN</td>\n",
       "      <td>NaN</td>\n",
       "      <td>5fb18d4d-213f-4d83-a179-daaf11939e78</td>\n",
       "      <td>2013-09-06T18:30:00Z</td>\n",
       "      <td>NaN</td>\n",
       "    </tr>\n",
       "    <tr>\n",
       "      <th>1</th>\n",
       "      <td>30274.0</td>\n",
       "      <td>False</td>\n",
       "      <td>USFS Angeles National Forest/Los Angeles Count...</td>\n",
       "      <td>NaN</td>\n",
       "      <td>2013</td>\n",
       "      <td>True</td>\n",
       "      <td>/incidents/2013/5/30/powerhouse-fire/</td>\n",
       "      <td>NaN</td>\n",
       "      <td>NaN</td>\n",
       "      <td>Los Angeles</td>\n",
       "      <td>...</td>\n",
       "      <td>Powerhouse Fire, May 2013, June 2013, Angeles ...</td>\n",
       "      <td>2013-05-30T15:28:00Z</td>\n",
       "      <td>Finalized</td>\n",
       "      <td>NaN</td>\n",
       "      <td>NaN</td>\n",
       "      <td>NaN</td>\n",
       "      <td>NaN</td>\n",
       "      <td>bf37805e-1cc2-4208-9972-753e47874c87</td>\n",
       "      <td>2013-06-08T18:30:00Z</td>\n",
       "      <td>NaN</td>\n",
       "    </tr>\n",
       "    <tr>\n",
       "      <th>2</th>\n",
       "      <td>27531.0</td>\n",
       "      <td>False</td>\n",
       "      <td>CAL FIRE Riverside Unit / San Bernardino Natio...</td>\n",
       "      <td>NaN</td>\n",
       "      <td>2013</td>\n",
       "      <td>True</td>\n",
       "      <td>/incidents/2013/7/15/mountain-fire/</td>\n",
       "      <td>NaN</td>\n",
       "      <td>NaN</td>\n",
       "      <td>Riverside</td>\n",
       "      <td>...</td>\n",
       "      <td>Mountain Fire, July 2013, Highway 243, Highway...</td>\n",
       "      <td>2013-07-15T13:43:00Z</td>\n",
       "      <td>Finalized</td>\n",
       "      <td>NaN</td>\n",
       "      <td>NaN</td>\n",
       "      <td>NaN</td>\n",
       "      <td>NaN</td>\n",
       "      <td>a3149fec-4d48-427c-8b2c-59e8b79d59db</td>\n",
       "      <td>2013-07-30T18:00:00Z</td>\n",
       "      <td>NaN</td>\n",
       "    </tr>\n",
       "    <tr>\n",
       "      <th>3</th>\n",
       "      <td>27440.0</td>\n",
       "      <td>False</td>\n",
       "      <td>Tahoe National Forest</td>\n",
       "      <td>NaN</td>\n",
       "      <td>2013</td>\n",
       "      <td>False</td>\n",
       "      <td>/incidents/2013/8/10/american-fire/</td>\n",
       "      <td>NaN</td>\n",
       "      <td>NaN</td>\n",
       "      <td>Placer</td>\n",
       "      <td>...</td>\n",
       "      <td>American Fire, August 2013, Deadwood Ridge, Fo...</td>\n",
       "      <td>2013-08-10T16:30:00Z</td>\n",
       "      <td>Finalized</td>\n",
       "      <td>NaN</td>\n",
       "      <td>NaN</td>\n",
       "      <td>NaN</td>\n",
       "      <td>NaN</td>\n",
       "      <td>8213f5c7-34fa-403b-a4bc-da2ace6e6625</td>\n",
       "      <td>2013-08-30T08:00:00Z</td>\n",
       "      <td>NaN</td>\n",
       "    </tr>\n",
       "    <tr>\n",
       "      <th>4</th>\n",
       "      <td>24251.0</td>\n",
       "      <td>False</td>\n",
       "      <td>Ventura County Fire/CAL FIRE</td>\n",
       "      <td>NaN</td>\n",
       "      <td>2013</td>\n",
       "      <td>True</td>\n",
       "      <td>/incidents/2013/5/2/springs-fire/</td>\n",
       "      <td>Acreage has been reduced based upon more accur...</td>\n",
       "      <td>NaN</td>\n",
       "      <td>Ventura</td>\n",
       "      <td>...</td>\n",
       "      <td>Springs Fire, May 2013, Highway 101, Camarillo...</td>\n",
       "      <td>2013-05-02T07:01:00Z</td>\n",
       "      <td>Finalized</td>\n",
       "      <td>6.0</td>\n",
       "      <td>10.0</td>\n",
       "      <td>NaN</td>\n",
       "      <td>NaN</td>\n",
       "      <td>46731fb8-3350-4920-bdf7-910ac0eb715c</td>\n",
       "      <td>2013-05-11T06:30:00Z</td>\n",
       "      <td>11.0</td>\n",
       "    </tr>\n",
       "  </tbody>\n",
       "</table>\n",
       "<p>5 rows × 40 columns</p>\n",
       "</div>"
      ],
      "text/plain": [
       "   AcresBurned  Active                                          AdminUnit  \\\n",
       "0     257314.0   False  Stanislaus National Forest/Yosemite National Park   \n",
       "1      30274.0   False  USFS Angeles National Forest/Los Angeles Count...   \n",
       "2      27531.0   False  CAL FIRE Riverside Unit / San Bernardino Natio...   \n",
       "3      27440.0   False                              Tahoe National Forest   \n",
       "4      24251.0   False                       Ventura County Fire/CAL FIRE   \n",
       "\n",
       "   AirTankers  ArchiveYear  CalFireIncident  \\\n",
       "0         NaN         2013             True   \n",
       "1         NaN         2013             True   \n",
       "2         NaN         2013             True   \n",
       "3         NaN         2013            False   \n",
       "4         NaN         2013             True   \n",
       "\n",
       "                            CanonicalUrl  \\\n",
       "0         /incidents/2013/8/17/rim-fire/   \n",
       "1  /incidents/2013/5/30/powerhouse-fire/   \n",
       "2    /incidents/2013/7/15/mountain-fire/   \n",
       "3    /incidents/2013/8/10/american-fire/   \n",
       "4      /incidents/2013/5/2/springs-fire/   \n",
       "\n",
       "                                  ConditionStatement ControlStatement  \\\n",
       "0                                                NaN              NaN   \n",
       "1                                                NaN              NaN   \n",
       "2                                                NaN              NaN   \n",
       "3                                                NaN              NaN   \n",
       "4  Acreage has been reduced based upon more accur...              NaN   \n",
       "\n",
       "      Counties  ...                                     SearchKeywords  \\\n",
       "0     Tuolumne  ...  Rim Fire, Stanislaus National Forest, Yosemite...   \n",
       "1  Los Angeles  ...  Powerhouse Fire, May 2013, June 2013, Angeles ...   \n",
       "2    Riverside  ...  Mountain Fire, July 2013, Highway 243, Highway...   \n",
       "3       Placer  ...  American Fire, August 2013, Deadwood Ridge, Fo...   \n",
       "4      Ventura  ...  Springs Fire, May 2013, Highway 101, Camarillo...   \n",
       "\n",
       "                Started     Status  StructuresDamaged StructuresDestroyed  \\\n",
       "0  2013-08-17T15:25:00Z  Finalized                NaN                 NaN   \n",
       "1  2013-05-30T15:28:00Z  Finalized                NaN                 NaN   \n",
       "2  2013-07-15T13:43:00Z  Finalized                NaN                 NaN   \n",
       "3  2013-08-10T16:30:00Z  Finalized                NaN                 NaN   \n",
       "4  2013-05-02T07:01:00Z  Finalized                6.0                10.0   \n",
       "\n",
       "   StructuresEvacuated  StructuresThreatened  \\\n",
       "0                  NaN                   NaN   \n",
       "1                  NaN                   NaN   \n",
       "2                  NaN                   NaN   \n",
       "3                  NaN                   NaN   \n",
       "4                  NaN                   NaN   \n",
       "\n",
       "                               UniqueId               Updated  WaterTenders  \n",
       "0  5fb18d4d-213f-4d83-a179-daaf11939e78  2013-09-06T18:30:00Z           NaN  \n",
       "1  bf37805e-1cc2-4208-9972-753e47874c87  2013-06-08T18:30:00Z           NaN  \n",
       "2  a3149fec-4d48-427c-8b2c-59e8b79d59db  2013-07-30T18:00:00Z           NaN  \n",
       "3  8213f5c7-34fa-403b-a4bc-da2ace6e6625  2013-08-30T08:00:00Z           NaN  \n",
       "4  46731fb8-3350-4920-bdf7-910ac0eb715c  2013-05-11T06:30:00Z          11.0  \n",
       "\n",
       "[5 rows x 40 columns]"
      ]
     },
     "execution_count": 606,
     "metadata": {},
     "output_type": "execute_result"
    }
   ],
   "source": [
    "filename = 'California_Fire_Incidents.csv'\n",
    "df = pd.read_csv(filename)\n",
    "\n",
    "df.head()"
   ]
  },
  {
   "cell_type": "code",
   "execution_count": 607,
   "metadata": {},
   "outputs": [
    {
     "name": "stdout",
     "output_type": "stream",
     "text": [
      "Shape of Dataset: (1636, 40)\n"
     ]
    }
   ],
   "source": [
    "print(f\"Shape of Dataset: {df.shape}\")"
   ]
  },
  {
   "cell_type": "markdown",
   "metadata": {},
   "source": [
    "### Random Samples of Dataset"
   ]
  },
  {
   "cell_type": "code",
   "execution_count": 608,
   "metadata": {},
   "outputs": [
    {
     "data": {
      "text/html": [
       "<div>\n",
       "<style scoped>\n",
       "    .dataframe tbody tr th:only-of-type {\n",
       "        vertical-align: middle;\n",
       "    }\n",
       "\n",
       "    .dataframe tbody tr th {\n",
       "        vertical-align: top;\n",
       "    }\n",
       "\n",
       "    .dataframe thead th {\n",
       "        text-align: right;\n",
       "    }\n",
       "</style>\n",
       "<table border=\"1\" class=\"dataframe\">\n",
       "  <thead>\n",
       "    <tr style=\"text-align: right;\">\n",
       "      <th></th>\n",
       "      <th>AcresBurned</th>\n",
       "      <th>Active</th>\n",
       "      <th>AdminUnit</th>\n",
       "      <th>AirTankers</th>\n",
       "      <th>ArchiveYear</th>\n",
       "      <th>CalFireIncident</th>\n",
       "      <th>CanonicalUrl</th>\n",
       "      <th>ConditionStatement</th>\n",
       "      <th>ControlStatement</th>\n",
       "      <th>Counties</th>\n",
       "      <th>...</th>\n",
       "      <th>SearchKeywords</th>\n",
       "      <th>Started</th>\n",
       "      <th>Status</th>\n",
       "      <th>StructuresDamaged</th>\n",
       "      <th>StructuresDestroyed</th>\n",
       "      <th>StructuresEvacuated</th>\n",
       "      <th>StructuresThreatened</th>\n",
       "      <th>UniqueId</th>\n",
       "      <th>Updated</th>\n",
       "      <th>WaterTenders</th>\n",
       "    </tr>\n",
       "  </thead>\n",
       "  <tbody>\n",
       "    <tr>\n",
       "      <th>1346</th>\n",
       "      <td>12.0</td>\n",
       "      <td>False</td>\n",
       "      <td>CAL FIRE San Diego Unit</td>\n",
       "      <td>NaN</td>\n",
       "      <td>2018</td>\n",
       "      <td>True</td>\n",
       "      <td>/incidents/2018/5/10/volcan-fire/</td>\n",
       "      <td>NaN</td>\n",
       "      <td>NaN</td>\n",
       "      <td>San Diego</td>\n",
       "      <td>...</td>\n",
       "      <td>Volcan Fire, Volcan Road, Farmer Road, Julian,...</td>\n",
       "      <td>2018-05-10T20:41:00Z</td>\n",
       "      <td>Finalized</td>\n",
       "      <td>NaN</td>\n",
       "      <td>NaN</td>\n",
       "      <td>NaN</td>\n",
       "      <td>NaN</td>\n",
       "      <td>81cf4d22-336d-4035-b2c3-5b5a8cf2fcc2</td>\n",
       "      <td>2019-01-04T10:25:00Z</td>\n",
       "      <td>NaN</td>\n",
       "    </tr>\n",
       "    <tr>\n",
       "      <th>53</th>\n",
       "      <td>243.0</td>\n",
       "      <td>False</td>\n",
       "      <td>Angeles National Forest</td>\n",
       "      <td>NaN</td>\n",
       "      <td>2013</td>\n",
       "      <td>False</td>\n",
       "      <td>/incidents/2013/8/8/sharp-fire/</td>\n",
       "      <td>NaN</td>\n",
       "      <td>NaN</td>\n",
       "      <td>San Bernardino</td>\n",
       "      <td>...</td>\n",
       "      <td>Sharp Fire, August 2013, Sheep Canyon, Wrightw...</td>\n",
       "      <td>2013-08-08T12:15:00Z</td>\n",
       "      <td>Finalized</td>\n",
       "      <td>NaN</td>\n",
       "      <td>NaN</td>\n",
       "      <td>NaN</td>\n",
       "      <td>NaN</td>\n",
       "      <td>62eabea3-40be-497d-94e4-150f011b925f</td>\n",
       "      <td>2013-08-13T23:45:00Z</td>\n",
       "      <td>NaN</td>\n",
       "    </tr>\n",
       "    <tr>\n",
       "      <th>271</th>\n",
       "      <td>20.0</td>\n",
       "      <td>False</td>\n",
       "      <td>CAL FIRE San Diego Unit</td>\n",
       "      <td>NaN</td>\n",
       "      <td>2014</td>\n",
       "      <td>True</td>\n",
       "      <td>/incidents/2014/8/16/border-fire/</td>\n",
       "      <td>NaN</td>\n",
       "      <td>NaN</td>\n",
       "      <td>San Diego</td>\n",
       "      <td>...</td>\n",
       "      <td>Border Fire, CAL FIRE San Diego Unit, San Dieg...</td>\n",
       "      <td>2014-08-16T16:22:00Z</td>\n",
       "      <td>Finalized</td>\n",
       "      <td>NaN</td>\n",
       "      <td>NaN</td>\n",
       "      <td>NaN</td>\n",
       "      <td>NaN</td>\n",
       "      <td>64812487-ac4c-40da-b069-2884d7a04675</td>\n",
       "      <td>2014-08-17T07:45:00Z</td>\n",
       "      <td>NaN</td>\n",
       "    </tr>\n",
       "    <tr>\n",
       "      <th>995</th>\n",
       "      <td>17.0</td>\n",
       "      <td>False</td>\n",
       "      <td>CAL FIRE San Benito Monterey Unit</td>\n",
       "      <td>NaN</td>\n",
       "      <td>2017</td>\n",
       "      <td>True</td>\n",
       "      <td>/incidents/2017/5/17/lonoak-fire/</td>\n",
       "      <td>NaN</td>\n",
       "      <td>NaN</td>\n",
       "      <td>Monterey</td>\n",
       "      <td>...</td>\n",
       "      <td>Lonoak Fire, Lonoak Road, Airline Road, east o...</td>\n",
       "      <td>2017-05-17T15:18:00Z</td>\n",
       "      <td>Finalized</td>\n",
       "      <td>NaN</td>\n",
       "      <td>NaN</td>\n",
       "      <td>NaN</td>\n",
       "      <td>NaN</td>\n",
       "      <td>2d12b95c-3f4e-41bc-a771-8ae2cb80b99e</td>\n",
       "      <td>2018-01-09T09:59:00Z</td>\n",
       "      <td>NaN</td>\n",
       "    </tr>\n",
       "    <tr>\n",
       "      <th>870</th>\n",
       "      <td>50.0</td>\n",
       "      <td>False</td>\n",
       "      <td>Kern County Fire</td>\n",
       "      <td>NaN</td>\n",
       "      <td>2017</td>\n",
       "      <td>True</td>\n",
       "      <td>/incidents/2017/10/26/tank-fire/</td>\n",
       "      <td>NaN</td>\n",
       "      <td>NaN</td>\n",
       "      <td>Kern</td>\n",
       "      <td>...</td>\n",
       "      <td>Tank, Fire, October, 2017, Kern, County, Hwy, ...</td>\n",
       "      <td>2017-10-26T11:55:00Z</td>\n",
       "      <td>Finalized</td>\n",
       "      <td>NaN</td>\n",
       "      <td>NaN</td>\n",
       "      <td>NaN</td>\n",
       "      <td>NaN</td>\n",
       "      <td>fb042e0f-1aab-4ac4-9d09-947c9b9f14b6</td>\n",
       "      <td>2018-01-09T13:45:00Z</td>\n",
       "      <td>NaN</td>\n",
       "    </tr>\n",
       "    <tr>\n",
       "      <th>310</th>\n",
       "      <td>860.0</td>\n",
       "      <td>False</td>\n",
       "      <td>CAL FIRE Butte Unit / Butte County Fire</td>\n",
       "      <td>NaN</td>\n",
       "      <td>2015</td>\n",
       "      <td>True</td>\n",
       "      <td>/incidents/2015/10/3/meridian-fire/</td>\n",
       "      <td>NaN</td>\n",
       "      <td>NaN</td>\n",
       "      <td>Butte</td>\n",
       "      <td>...</td>\n",
       "      <td>Meridian Fire, off Hwy 99 &amp; Meridian Rd, north...</td>\n",
       "      <td>2015-10-03T21:15:00Z</td>\n",
       "      <td>Finalized</td>\n",
       "      <td>NaN</td>\n",
       "      <td>NaN</td>\n",
       "      <td>NaN</td>\n",
       "      <td>NaN</td>\n",
       "      <td>88e1ae5b-593f-4d0d-958d-bd56a877a535</td>\n",
       "      <td>2015-10-04T18:40:00Z</td>\n",
       "      <td>2.0</td>\n",
       "    </tr>\n",
       "    <tr>\n",
       "      <th>1345</th>\n",
       "      <td>12.0</td>\n",
       "      <td>False</td>\n",
       "      <td>CAL FIRE Santa Clara Unit</td>\n",
       "      <td>NaN</td>\n",
       "      <td>2018</td>\n",
       "      <td>True</td>\n",
       "      <td>/incidents/2018/5/14/grant-fire/</td>\n",
       "      <td>NaN</td>\n",
       "      <td>NaN</td>\n",
       "      <td>Alameda</td>\n",
       "      <td>...</td>\n",
       "      <td>Grant Fire, Alameda County, May 14, 2018</td>\n",
       "      <td>2018-05-14T13:06:00Z</td>\n",
       "      <td>Finalized</td>\n",
       "      <td>NaN</td>\n",
       "      <td>NaN</td>\n",
       "      <td>NaN</td>\n",
       "      <td>NaN</td>\n",
       "      <td>f78b2acd-fff2-413a-93d6-8479e138120b</td>\n",
       "      <td>2019-01-04T10:25:00Z</td>\n",
       "      <td>NaN</td>\n",
       "    </tr>\n",
       "  </tbody>\n",
       "</table>\n",
       "<p>7 rows × 40 columns</p>\n",
       "</div>"
      ],
      "text/plain": [
       "      AcresBurned  Active                                AdminUnit  \\\n",
       "1346         12.0   False                  CAL FIRE San Diego Unit   \n",
       "53          243.0   False                  Angeles National Forest   \n",
       "271          20.0   False                  CAL FIRE San Diego Unit   \n",
       "995          17.0   False        CAL FIRE San Benito Monterey Unit   \n",
       "870          50.0   False                        Kern County Fire    \n",
       "310         860.0   False  CAL FIRE Butte Unit / Butte County Fire   \n",
       "1345         12.0   False                CAL FIRE Santa Clara Unit   \n",
       "\n",
       "      AirTankers  ArchiveYear  CalFireIncident  \\\n",
       "1346         NaN         2018             True   \n",
       "53           NaN         2013            False   \n",
       "271          NaN         2014             True   \n",
       "995          NaN         2017             True   \n",
       "870          NaN         2017             True   \n",
       "310          NaN         2015             True   \n",
       "1345         NaN         2018             True   \n",
       "\n",
       "                             CanonicalUrl ConditionStatement ControlStatement  \\\n",
       "1346    /incidents/2018/5/10/volcan-fire/                NaN              NaN   \n",
       "53        /incidents/2013/8/8/sharp-fire/                NaN              NaN   \n",
       "271     /incidents/2014/8/16/border-fire/                NaN              NaN   \n",
       "995     /incidents/2017/5/17/lonoak-fire/                NaN              NaN   \n",
       "870      /incidents/2017/10/26/tank-fire/                NaN              NaN   \n",
       "310   /incidents/2015/10/3/meridian-fire/                NaN              NaN   \n",
       "1345     /incidents/2018/5/14/grant-fire/                NaN              NaN   \n",
       "\n",
       "            Counties  ...                                     SearchKeywords  \\\n",
       "1346       San Diego  ...  Volcan Fire, Volcan Road, Farmer Road, Julian,...   \n",
       "53    San Bernardino  ...  Sharp Fire, August 2013, Sheep Canyon, Wrightw...   \n",
       "271        San Diego  ...  Border Fire, CAL FIRE San Diego Unit, San Dieg...   \n",
       "995         Monterey  ...  Lonoak Fire, Lonoak Road, Airline Road, east o...   \n",
       "870             Kern  ...  Tank, Fire, October, 2017, Kern, County, Hwy, ...   \n",
       "310            Butte  ...  Meridian Fire, off Hwy 99 & Meridian Rd, north...   \n",
       "1345         Alameda  ...           Grant Fire, Alameda County, May 14, 2018   \n",
       "\n",
       "                   Started     Status  StructuresDamaged StructuresDestroyed  \\\n",
       "1346  2018-05-10T20:41:00Z  Finalized                NaN                 NaN   \n",
       "53    2013-08-08T12:15:00Z  Finalized                NaN                 NaN   \n",
       "271   2014-08-16T16:22:00Z  Finalized                NaN                 NaN   \n",
       "995   2017-05-17T15:18:00Z  Finalized                NaN                 NaN   \n",
       "870   2017-10-26T11:55:00Z  Finalized                NaN                 NaN   \n",
       "310   2015-10-03T21:15:00Z  Finalized                NaN                 NaN   \n",
       "1345  2018-05-14T13:06:00Z  Finalized                NaN                 NaN   \n",
       "\n",
       "      StructuresEvacuated  StructuresThreatened  \\\n",
       "1346                  NaN                   NaN   \n",
       "53                    NaN                   NaN   \n",
       "271                   NaN                   NaN   \n",
       "995                   NaN                   NaN   \n",
       "870                   NaN                   NaN   \n",
       "310                   NaN                   NaN   \n",
       "1345                  NaN                   NaN   \n",
       "\n",
       "                                  UniqueId               Updated  WaterTenders  \n",
       "1346  81cf4d22-336d-4035-b2c3-5b5a8cf2fcc2  2019-01-04T10:25:00Z           NaN  \n",
       "53    62eabea3-40be-497d-94e4-150f011b925f  2013-08-13T23:45:00Z           NaN  \n",
       "271   64812487-ac4c-40da-b069-2884d7a04675  2014-08-17T07:45:00Z           NaN  \n",
       "995   2d12b95c-3f4e-41bc-a771-8ae2cb80b99e  2018-01-09T09:59:00Z           NaN  \n",
       "870   fb042e0f-1aab-4ac4-9d09-947c9b9f14b6  2018-01-09T13:45:00Z           NaN  \n",
       "310   88e1ae5b-593f-4d0d-958d-bd56a877a535  2015-10-04T18:40:00Z           2.0  \n",
       "1345  f78b2acd-fff2-413a-93d6-8479e138120b  2019-01-04T10:25:00Z           NaN  \n",
       "\n",
       "[7 rows x 40 columns]"
      ]
     },
     "execution_count": 608,
     "metadata": {},
     "output_type": "execute_result"
    }
   ],
   "source": [
    "df.sample(7)"
   ]
  },
  {
   "cell_type": "code",
   "execution_count": 609,
   "metadata": {},
   "outputs": [
    {
     "name": "stdout",
     "output_type": "stream",
     "text": [
      "<class 'pandas.core.frame.DataFrame'>\n",
      "RangeIndex: 1636 entries, 0 to 1635\n",
      "Data columns (total 40 columns):\n",
      " #   Column                Non-Null Count  Dtype  \n",
      "---  ------                --------------  -----  \n",
      " 0   AcresBurned           1633 non-null   float64\n",
      " 1   Active                1636 non-null   bool   \n",
      " 2   AdminUnit             1636 non-null   object \n",
      " 3   AirTankers            28 non-null     float64\n",
      " 4   ArchiveYear           1636 non-null   int64  \n",
      " 5   CalFireIncident       1636 non-null   bool   \n",
      " 6   CanonicalUrl          1636 non-null   object \n",
      " 7   ConditionStatement    284 non-null    object \n",
      " 8   ControlStatement      111 non-null    object \n",
      " 9   Counties              1636 non-null   object \n",
      " 10  CountyIds             1636 non-null   object \n",
      " 11  CrewsInvolved         171 non-null    float64\n",
      " 12  Dozers                123 non-null    float64\n",
      " 13  Engines               191 non-null    float64\n",
      " 14  Extinguished          1577 non-null   object \n",
      " 15  Fatalities            21 non-null     float64\n",
      " 16  Featured              1636 non-null   bool   \n",
      " 17  Final                 1636 non-null   bool   \n",
      " 18  FuelType              12 non-null     object \n",
      " 19  Helicopters           84 non-null     float64\n",
      " 20  Injuries              120 non-null    float64\n",
      " 21  Latitude              1636 non-null   float64\n",
      " 22  Location              1636 non-null   object \n",
      " 23  Longitude             1636 non-null   float64\n",
      " 24  MajorIncident         1636 non-null   bool   \n",
      " 25  Name                  1636 non-null   object \n",
      " 26  PercentContained      1633 non-null   float64\n",
      " 27  PersonnelInvolved     204 non-null    float64\n",
      " 28  Public                1636 non-null   bool   \n",
      " 29  SearchDescription     1619 non-null   object \n",
      " 30  SearchKeywords        1433 non-null   object \n",
      " 31  Started               1636 non-null   object \n",
      " 32  Status                1636 non-null   object \n",
      " 33  StructuresDamaged     67 non-null     float64\n",
      " 34  StructuresDestroyed   175 non-null    float64\n",
      " 35  StructuresEvacuated   0 non-null      float64\n",
      " 36  StructuresThreatened  30 non-null     float64\n",
      " 37  UniqueId              1636 non-null   object \n",
      " 38  Updated               1636 non-null   object \n",
      " 39  WaterTenders          146 non-null    float64\n",
      "dtypes: bool(6), float64(17), int64(1), object(16)\n",
      "memory usage: 444.3+ KB\n"
     ]
    }
   ],
   "source": [
    "df.info()"
   ]
  },
  {
   "cell_type": "markdown",
   "metadata": {},
   "source": [
    "### Length of Dataset"
   ]
  },
  {
   "cell_type": "code",
   "execution_count": 610,
   "metadata": {},
   "outputs": [
    {
     "data": {
      "text/plain": [
       "1636"
      ]
     },
     "execution_count": 610,
     "metadata": {},
     "output_type": "execute_result"
    }
   ],
   "source": [
    "DATASET_LEN = len(df)\n",
    "\n",
    "DATASET_LEN"
   ]
  },
  {
   "cell_type": "markdown",
   "metadata": {},
   "source": [
    "## Check for Missing Numbers"
   ]
  },
  {
   "cell_type": "code",
   "execution_count": 611,
   "metadata": {},
   "outputs": [
    {
     "data": {
      "text/plain": [
       "<AxesSubplot:>"
      ]
     },
     "execution_count": 611,
     "metadata": {},
     "output_type": "execute_result"
    },
    {
     "data": {
      "image/png": "[encoded data removed]",
      "text/plain": [
       "<Figure size 1728x720 with 3 Axes>"
      ]
     },
     "metadata": {
      "needs_background": "light"
     },
     "output_type": "display_data"
    }
   ],
   "source": [
    "import missingno\n",
    "missingno.bar(df)"
   ]
  },
  {
   "cell_type": "markdown",
   "metadata": {},
   "source": [
    "## Function for Feature Scaling"
   ]
  },
  {
   "cell_type": "code",
   "execution_count": 612,
   "metadata": {},
   "outputs": [],
   "source": [
    "from scipy.special import boxcox, inv_boxcox\n",
    "\n",
    "def apply_boxcox_transformation(dataset_feature, x):\n",
    "    print(dataset_feature.skew())\n",
    "    sns.distplot(dataset_feature)\n",
    "    plt.show()\n",
    "    \n",
    "    transformed_feature = boxcox(dataset_feature, x)\n",
    "    print(transformed_feature.skew())\n",
    "    sns.distplot(transformed_feature)\n",
    "    plt.show()"
   ]
  },
  {
   "cell_type": "markdown",
   "metadata": {},
   "source": [
    "# Exploratory Data Analysis"
   ]
  },
  {
   "cell_type": "markdown",
   "metadata": {},
   "source": [
    "## AcresBurned"
   ]
  },
  {
   "cell_type": "code",
   "execution_count": 613,
   "metadata": {},
   "outputs": [
    {
     "data": {
      "text/plain": [
       "4589.4439681567665"
      ]
     },
     "execution_count": 613,
     "metadata": {},
     "output_type": "execute_result"
    }
   ],
   "source": [
    "df['AcresBurned'].mean()"
   ]
  },
  {
   "cell_type": "code",
   "execution_count": 614,
   "metadata": {},
   "outputs": [
    {
     "data": {
      "text/plain": [
       "100.0"
      ]
     },
     "execution_count": 614,
     "metadata": {},
     "output_type": "execute_result"
    }
   ],
   "source": [
    "df['AcresBurned'].median()"
   ]
  },
  {
   "cell_type": "code",
   "execution_count": 615,
   "metadata": {},
   "outputs": [
    {
     "name": "stdout",
     "output_type": "stream",
     "text": [
      "11.097166060441305\n"
     ]
    },
    {
     "name": "stderr",
     "output_type": "stream",
     "text": [
      "C:\\Users\\jiten\\anaconda3\\lib\\site-packages\\seaborn\\distributions.py:2619: FutureWarning: `distplot` is a deprecated function and will be removed in a future version. Please adapt your code to use either `displot` (a figure-level function with similar flexibility) or `histplot` (an axes-level function for histograms).\n",
      "  warnings.warn(msg, FutureWarning)\n"
     ]
    },
    {
     "data": {
      "image/png": "[encoded data removed]",
      "text/plain": [
       "<Figure size 432x288 with 1 Axes>"
      ]
     },
     "metadata": {
      "needs_background": "light"
     },
     "output_type": "display_data"
    },
    {
     "name": "stdout",
     "output_type": "stream",
     "text": [
      "0.15393407134888087\n"
     ]
    },
    {
     "name": "stderr",
     "output_type": "stream",
     "text": [
      "C:\\Users\\jiten\\anaconda3\\lib\\site-packages\\seaborn\\distributions.py:2619: FutureWarning: `distplot` is a deprecated function and will be removed in a future version. Please adapt your code to use either `displot` (a figure-level function with similar flexibility) or `histplot` (an axes-level function for histograms).\n",
      "  warnings.warn(msg, FutureWarning)\n"
     ]
    },
    {
     "data": {
      "image/png": "[encoded data removed]",
      "text/plain": [
       "<Figure size 432x288 with 1 Axes>"
      ]
     },
     "metadata": {
      "needs_background": "light"
     },
     "output_type": "display_data"
    }
   ],
   "source": [
    "apply_boxcox_transformation(df['AcresBurned'], 0.09)"
   ]
  },
  {
   "cell_type": "code",
   "execution_count": 616,
   "metadata": {},
   "outputs": [],
   "source": [
    "df = df[df['AcresBurned'].notna()]"
   ]
  },
  {
   "cell_type": "markdown",
   "metadata": {},
   "source": [
    "### Transforming The AcresBurned Feature"
   ]
  },
  {
   "cell_type": "code",
   "execution_count": 617,
   "metadata": {},
   "outputs": [],
   "source": [
    "df['Transformed_AcresBurned'] = boxcox(df['AcresBurned'], 0.09)"
   ]
  },
  {
   "cell_type": "code",
   "execution_count": 618,
   "metadata": {},
   "outputs": [
    {
     "data": {
      "text/html": [
       "<div>\n",
       "<style scoped>\n",
       "    .dataframe tbody tr th:only-of-type {\n",
       "        vertical-align: middle;\n",
       "    }\n",
       "\n",
       "    .dataframe tbody tr th {\n",
       "        vertical-align: top;\n",
       "    }\n",
       "\n",
       "    .dataframe thead th {\n",
       "        text-align: right;\n",
       "    }\n",
       "</style>\n",
       "<table border=\"1\" class=\"dataframe\">\n",
       "  <thead>\n",
       "    <tr style=\"text-align: right;\">\n",
       "      <th></th>\n",
       "      <th>AcresBurned</th>\n",
       "      <th>Active</th>\n",
       "      <th>AdminUnit</th>\n",
       "      <th>AirTankers</th>\n",
       "      <th>ArchiveYear</th>\n",
       "      <th>CalFireIncident</th>\n",
       "      <th>CanonicalUrl</th>\n",
       "      <th>ConditionStatement</th>\n",
       "      <th>ControlStatement</th>\n",
       "      <th>Counties</th>\n",
       "      <th>...</th>\n",
       "      <th>Started</th>\n",
       "      <th>Status</th>\n",
       "      <th>StructuresDamaged</th>\n",
       "      <th>StructuresDestroyed</th>\n",
       "      <th>StructuresEvacuated</th>\n",
       "      <th>StructuresThreatened</th>\n",
       "      <th>UniqueId</th>\n",
       "      <th>Updated</th>\n",
       "      <th>WaterTenders</th>\n",
       "      <th>Transformed_AcresBurned</th>\n",
       "    </tr>\n",
       "  </thead>\n",
       "  <tbody>\n",
       "    <tr>\n",
       "      <th>0</th>\n",
       "      <td>257314.0</td>\n",
       "      <td>False</td>\n",
       "      <td>Stanislaus National Forest/Yosemite National Park</td>\n",
       "      <td>NaN</td>\n",
       "      <td>2013</td>\n",
       "      <td>True</td>\n",
       "      <td>/incidents/2013/8/17/rim-fire/</td>\n",
       "      <td>NaN</td>\n",
       "      <td>NaN</td>\n",
       "      <td>Tuolumne</td>\n",
       "      <td>...</td>\n",
       "      <td>2013-08-17T15:25:00Z</td>\n",
       "      <td>Finalized</td>\n",
       "      <td>NaN</td>\n",
       "      <td>NaN</td>\n",
       "      <td>NaN</td>\n",
       "      <td>NaN</td>\n",
       "      <td>5fb18d4d-213f-4d83-a179-daaf11939e78</td>\n",
       "      <td>2013-09-06T18:30:00Z</td>\n",
       "      <td>NaN</td>\n",
       "      <td>22.984556</td>\n",
       "    </tr>\n",
       "    <tr>\n",
       "      <th>1</th>\n",
       "      <td>30274.0</td>\n",
       "      <td>False</td>\n",
       "      <td>USFS Angeles National Forest/Los Angeles Count...</td>\n",
       "      <td>NaN</td>\n",
       "      <td>2013</td>\n",
       "      <td>True</td>\n",
       "      <td>/incidents/2013/5/30/powerhouse-fire/</td>\n",
       "      <td>NaN</td>\n",
       "      <td>NaN</td>\n",
       "      <td>Los Angeles</td>\n",
       "      <td>...</td>\n",
       "      <td>2013-05-30T15:28:00Z</td>\n",
       "      <td>Finalized</td>\n",
       "      <td>NaN</td>\n",
       "      <td>NaN</td>\n",
       "      <td>NaN</td>\n",
       "      <td>NaN</td>\n",
       "      <td>bf37805e-1cc2-4208-9972-753e47874c87</td>\n",
       "      <td>2013-06-08T18:30:00Z</td>\n",
       "      <td>NaN</td>\n",
       "      <td>17.011379</td>\n",
       "    </tr>\n",
       "    <tr>\n",
       "      <th>2</th>\n",
       "      <td>27531.0</td>\n",
       "      <td>False</td>\n",
       "      <td>CAL FIRE Riverside Unit / San Bernardino Natio...</td>\n",
       "      <td>NaN</td>\n",
       "      <td>2013</td>\n",
       "      <td>True</td>\n",
       "      <td>/incidents/2013/7/15/mountain-fire/</td>\n",
       "      <td>NaN</td>\n",
       "      <td>NaN</td>\n",
       "      <td>Riverside</td>\n",
       "      <td>...</td>\n",
       "      <td>2013-07-15T13:43:00Z</td>\n",
       "      <td>Finalized</td>\n",
       "      <td>NaN</td>\n",
       "      <td>NaN</td>\n",
       "      <td>NaN</td>\n",
       "      <td>NaN</td>\n",
       "      <td>a3149fec-4d48-427c-8b2c-59e8b79d59db</td>\n",
       "      <td>2013-07-30T18:00:00Z</td>\n",
       "      <td>NaN</td>\n",
       "      <td>16.772015</td>\n",
       "    </tr>\n",
       "    <tr>\n",
       "      <th>3</th>\n",
       "      <td>27440.0</td>\n",
       "      <td>False</td>\n",
       "      <td>Tahoe National Forest</td>\n",
       "      <td>NaN</td>\n",
       "      <td>2013</td>\n",
       "      <td>False</td>\n",
       "      <td>/incidents/2013/8/10/american-fire/</td>\n",
       "      <td>NaN</td>\n",
       "      <td>NaN</td>\n",
       "      <td>Placer</td>\n",
       "      <td>...</td>\n",
       "      <td>2013-08-10T16:30:00Z</td>\n",
       "      <td>Finalized</td>\n",
       "      <td>NaN</td>\n",
       "      <td>NaN</td>\n",
       "      <td>NaN</td>\n",
       "      <td>NaN</td>\n",
       "      <td>8213f5c7-34fa-403b-a4bc-da2ace6e6625</td>\n",
       "      <td>2013-08-30T08:00:00Z</td>\n",
       "      <td>NaN</td>\n",
       "      <td>16.763708</td>\n",
       "    </tr>\n",
       "    <tr>\n",
       "      <th>4</th>\n",
       "      <td>24251.0</td>\n",
       "      <td>False</td>\n",
       "      <td>Ventura County Fire/CAL FIRE</td>\n",
       "      <td>NaN</td>\n",
       "      <td>2013</td>\n",
       "      <td>True</td>\n",
       "      <td>/incidents/2013/5/2/springs-fire/</td>\n",
       "      <td>Acreage has been reduced based upon more accur...</td>\n",
       "      <td>NaN</td>\n",
       "      <td>Ventura</td>\n",
       "      <td>...</td>\n",
       "      <td>2013-05-02T07:01:00Z</td>\n",
       "      <td>Finalized</td>\n",
       "      <td>6.0</td>\n",
       "      <td>10.0</td>\n",
       "      <td>NaN</td>\n",
       "      <td>NaN</td>\n",
       "      <td>46731fb8-3350-4920-bdf7-910ac0eb715c</td>\n",
       "      <td>2013-05-11T06:30:00Z</td>\n",
       "      <td>11.0</td>\n",
       "      <td>16.455486</td>\n",
       "    </tr>\n",
       "  </tbody>\n",
       "</table>\n",
       "<p>5 rows × 41 columns</p>\n",
       "</div>"
      ],
      "text/plain": [
       "   AcresBurned  Active                                          AdminUnit  \\\n",
       "0     257314.0   False  Stanislaus National Forest/Yosemite National Park   \n",
       "1      30274.0   False  USFS Angeles National Forest/Los Angeles Count...   \n",
       "2      27531.0   False  CAL FIRE Riverside Unit / San Bernardino Natio...   \n",
       "3      27440.0   False                              Tahoe National Forest   \n",
       "4      24251.0   False                       Ventura County Fire/CAL FIRE   \n",
       "\n",
       "   AirTankers  ArchiveYear  CalFireIncident  \\\n",
       "0         NaN         2013             True   \n",
       "1         NaN         2013             True   \n",
       "2         NaN         2013             True   \n",
       "3         NaN         2013            False   \n",
       "4         NaN         2013             True   \n",
       "\n",
       "                            CanonicalUrl  \\\n",
       "0         /incidents/2013/8/17/rim-fire/   \n",
       "1  /incidents/2013/5/30/powerhouse-fire/   \n",
       "2    /incidents/2013/7/15/mountain-fire/   \n",
       "3    /incidents/2013/8/10/american-fire/   \n",
       "4      /incidents/2013/5/2/springs-fire/   \n",
       "\n",
       "                                  ConditionStatement ControlStatement  \\\n",
       "0                                                NaN              NaN   \n",
       "1                                                NaN              NaN   \n",
       "2                                                NaN              NaN   \n",
       "3                                                NaN              NaN   \n",
       "4  Acreage has been reduced based upon more accur...              NaN   \n",
       "\n",
       "      Counties  ...               Started     Status  StructuresDamaged  \\\n",
       "0     Tuolumne  ...  2013-08-17T15:25:00Z  Finalized                NaN   \n",
       "1  Los Angeles  ...  2013-05-30T15:28:00Z  Finalized                NaN   \n",
       "2    Riverside  ...  2013-07-15T13:43:00Z  Finalized                NaN   \n",
       "3       Placer  ...  2013-08-10T16:30:00Z  Finalized                NaN   \n",
       "4      Ventura  ...  2013-05-02T07:01:00Z  Finalized                6.0   \n",
       "\n",
       "   StructuresDestroyed StructuresEvacuated  StructuresThreatened  \\\n",
       "0                  NaN                 NaN                   NaN   \n",
       "1                  NaN                 NaN                   NaN   \n",
       "2                  NaN                 NaN                   NaN   \n",
       "3                  NaN                 NaN                   NaN   \n",
       "4                 10.0                 NaN                   NaN   \n",
       "\n",
       "                               UniqueId               Updated WaterTenders  \\\n",
       "0  5fb18d4d-213f-4d83-a179-daaf11939e78  2013-09-06T18:30:00Z          NaN   \n",
       "1  bf37805e-1cc2-4208-9972-753e47874c87  2013-06-08T18:30:00Z          NaN   \n",
       "2  a3149fec-4d48-427c-8b2c-59e8b79d59db  2013-07-30T18:00:00Z          NaN   \n",
       "3  8213f5c7-34fa-403b-a4bc-da2ace6e6625  2013-08-30T08:00:00Z          NaN   \n",
       "4  46731fb8-3350-4920-bdf7-910ac0eb715c  2013-05-11T06:30:00Z         11.0   \n",
       "\n",
       "   Transformed_AcresBurned  \n",
       "0                22.984556  \n",
       "1                17.011379  \n",
       "2                16.772015  \n",
       "3                16.763708  \n",
       "4                16.455486  \n",
       "\n",
       "[5 rows x 41 columns]"
      ]
     },
     "execution_count": 618,
     "metadata": {},
     "output_type": "execute_result"
    }
   ],
   "source": [
    "df.head()"
   ]
  },
  {
   "cell_type": "markdown",
   "metadata": {},
   "source": [
    "## Active "
   ]
  },
  {
   "cell_type": "code",
   "execution_count": 619,
   "metadata": {},
   "outputs": [
    {
     "data": {
      "text/plain": [
       "array([False])"
      ]
     },
     "execution_count": 619,
     "metadata": {},
     "output_type": "execute_result"
    }
   ],
   "source": [
    "df['Active'].unique()"
   ]
  },
  {
   "cell_type": "markdown",
   "metadata": {},
   "source": [
    "### All values are False for the Active Feature\n",
    "### We can ignore it since it does not provide any new information to the model"
   ]
  },
  {
   "cell_type": "code",
   "execution_count": 620,
   "metadata": {},
   "outputs": [
    {
     "name": "stderr",
     "output_type": "stream",
     "text": [
      "C:\\Users\\jiten\\anaconda3\\lib\\site-packages\\seaborn\\_decorators.py:36: FutureWarning: Pass the following variable as a keyword arg: x. From version 0.12, the only valid positional argument will be `data`, and passing other arguments without an explicit keyword will result in an error or misinterpretation.\n",
      "  warnings.warn(\n"
     ]
    },
    {
     "data": {
      "text/plain": [
       "<AxesSubplot:xlabel='Active', ylabel='count'>"
      ]
     },
     "execution_count": 620,
     "metadata": {},
     "output_type": "execute_result"
    },
    {
     "data": {
      "image/png": "[encoded data removed]",
      "text/plain": [
       "<Figure size 432x288 with 1 Axes>"
      ]
     },
     "metadata": {
      "needs_background": "light"
     },
     "output_type": "display_data"
    }
   ],
   "source": [
    "sns.countplot(df['Active'])"
   ]
  },
  {
   "cell_type": "markdown",
   "metadata": {},
   "source": [
    "## AdminUnit"
   ]
  },
  {
   "cell_type": "code",
   "execution_count": 621,
   "metadata": {},
   "outputs": [
    {
     "data": {
      "text/plain": [
       "0"
      ]
     },
     "execution_count": 621,
     "metadata": {},
     "output_type": "execute_result"
    }
   ],
   "source": [
    "df['AdminUnit'].isna().sum()"
   ]
  },
  {
   "cell_type": "code",
   "execution_count": 622,
   "metadata": {},
   "outputs": [
    {
     "data": {
      "text/plain": [
       "493"
      ]
     },
     "execution_count": 622,
     "metadata": {},
     "output_type": "execute_result"
    }
   ],
   "source": [
    "df['AdminUnit'].nunique()"
   ]
  },
  {
   "cell_type": "code",
   "execution_count": 623,
   "metadata": {},
   "outputs": [
    {
     "data": {
      "text/plain": [
       "CAL FIRE Sonoma-Lake-Napa Unit                                                                                                                       89\n",
       "CAL FIRE Santa Clara Unit                                                                                                                            80\n",
       "CAL FIRE Madera-Mariposa-Merced Unit                                                                                                                 48\n",
       "CAL FIRE Shasta-Trinity Unit                                                                                                                         47\n",
       "CAL FIRE San Luis Obispo Unit                                                                                                                        45\n",
       "                                                                                                                                                     ..\n",
       "Bureau of Land Mangement                                                                                                                              1\n",
       "Unified Command: CAL FIRE, Los Angeles County Fire, Ventura County Fire, Los Angeles County Sheriff's Office, and Ventura County Sheriff's Office     1\n",
       "Yosemite National Park                                                                                                                                1\n",
       "LA City, Burbank Fire Department                                                                                                                      1\n",
       "CAL FIRE Butte County Fire Department                                                                                                                 1\n",
       "Name: AdminUnit, Length: 493, dtype: int64"
      ]
     },
     "execution_count": 623,
     "metadata": {},
     "output_type": "execute_result"
    }
   ],
   "source": [
    "df['AdminUnit'].value_counts()"
   ]
  },
  {
   "cell_type": "markdown",
   "metadata": {},
   "source": [
    "### Most of the Admin Units come under CAL FIRE Department or it's subdepartment\n",
    "### Create a col belonging to CAL Fire Department or not."
   ]
  },
  {
   "cell_type": "code",
   "execution_count": 624,
   "metadata": {},
   "outputs": [],
   "source": [
    "cal_fire_substring = 'CAL FIRE'\n",
    "\n",
    "df['CALFIRE_AdminUnit'] = df['AdminUnit'].apply(lambda x: 1 if x.find(cal_fire_substring) >= 0 else 0)"
   ]
  },
  {
   "cell_type": "code",
   "execution_count": 625,
   "metadata": {},
   "outputs": [
    {
     "data": {
      "text/html": [
       "<div>\n",
       "<style scoped>\n",
       "    .dataframe tbody tr th:only-of-type {\n",
       "        vertical-align: middle;\n",
       "    }\n",
       "\n",
       "    .dataframe tbody tr th {\n",
       "        vertical-align: top;\n",
       "    }\n",
       "\n",
       "    .dataframe thead th {\n",
       "        text-align: right;\n",
       "    }\n",
       "</style>\n",
       "<table border=\"1\" class=\"dataframe\">\n",
       "  <thead>\n",
       "    <tr style=\"text-align: right;\">\n",
       "      <th></th>\n",
       "      <th>AcresBurned</th>\n",
       "      <th>Active</th>\n",
       "      <th>AdminUnit</th>\n",
       "      <th>AirTankers</th>\n",
       "      <th>ArchiveYear</th>\n",
       "      <th>CalFireIncident</th>\n",
       "      <th>CanonicalUrl</th>\n",
       "      <th>ConditionStatement</th>\n",
       "      <th>ControlStatement</th>\n",
       "      <th>Counties</th>\n",
       "      <th>...</th>\n",
       "      <th>Status</th>\n",
       "      <th>StructuresDamaged</th>\n",
       "      <th>StructuresDestroyed</th>\n",
       "      <th>StructuresEvacuated</th>\n",
       "      <th>StructuresThreatened</th>\n",
       "      <th>UniqueId</th>\n",
       "      <th>Updated</th>\n",
       "      <th>WaterTenders</th>\n",
       "      <th>Transformed_AcresBurned</th>\n",
       "      <th>CALFIRE_AdminUnit</th>\n",
       "    </tr>\n",
       "  </thead>\n",
       "  <tbody>\n",
       "    <tr>\n",
       "      <th>0</th>\n",
       "      <td>257314.0</td>\n",
       "      <td>False</td>\n",
       "      <td>Stanislaus National Forest/Yosemite National Park</td>\n",
       "      <td>NaN</td>\n",
       "      <td>2013</td>\n",
       "      <td>True</td>\n",
       "      <td>/incidents/2013/8/17/rim-fire/</td>\n",
       "      <td>NaN</td>\n",
       "      <td>NaN</td>\n",
       "      <td>Tuolumne</td>\n",
       "      <td>...</td>\n",
       "      <td>Finalized</td>\n",
       "      <td>NaN</td>\n",
       "      <td>NaN</td>\n",
       "      <td>NaN</td>\n",
       "      <td>NaN</td>\n",
       "      <td>5fb18d4d-213f-4d83-a179-daaf11939e78</td>\n",
       "      <td>2013-09-06T18:30:00Z</td>\n",
       "      <td>NaN</td>\n",
       "      <td>22.984556</td>\n",
       "      <td>0</td>\n",
       "    </tr>\n",
       "    <tr>\n",
       "      <th>1</th>\n",
       "      <td>30274.0</td>\n",
       "      <td>False</td>\n",
       "      <td>USFS Angeles National Forest/Los Angeles Count...</td>\n",
       "      <td>NaN</td>\n",
       "      <td>2013</td>\n",
       "      <td>True</td>\n",
       "      <td>/incidents/2013/5/30/powerhouse-fire/</td>\n",
       "      <td>NaN</td>\n",
       "      <td>NaN</td>\n",
       "      <td>Los Angeles</td>\n",
       "      <td>...</td>\n",
       "      <td>Finalized</td>\n",
       "      <td>NaN</td>\n",
       "      <td>NaN</td>\n",
       "      <td>NaN</td>\n",
       "      <td>NaN</td>\n",
       "      <td>bf37805e-1cc2-4208-9972-753e47874c87</td>\n",
       "      <td>2013-06-08T18:30:00Z</td>\n",
       "      <td>NaN</td>\n",
       "      <td>17.011379</td>\n",
       "      <td>1</td>\n",
       "    </tr>\n",
       "    <tr>\n",
       "      <th>2</th>\n",
       "      <td>27531.0</td>\n",
       "      <td>False</td>\n",
       "      <td>CAL FIRE Riverside Unit / San Bernardino Natio...</td>\n",
       "      <td>NaN</td>\n",
       "      <td>2013</td>\n",
       "      <td>True</td>\n",
       "      <td>/incidents/2013/7/15/mountain-fire/</td>\n",
       "      <td>NaN</td>\n",
       "      <td>NaN</td>\n",
       "      <td>Riverside</td>\n",
       "      <td>...</td>\n",
       "      <td>Finalized</td>\n",
       "      <td>NaN</td>\n",
       "      <td>NaN</td>\n",
       "      <td>NaN</td>\n",
       "      <td>NaN</td>\n",
       "      <td>a3149fec-4d48-427c-8b2c-59e8b79d59db</td>\n",
       "      <td>2013-07-30T18:00:00Z</td>\n",
       "      <td>NaN</td>\n",
       "      <td>16.772015</td>\n",
       "      <td>1</td>\n",
       "    </tr>\n",
       "    <tr>\n",
       "      <th>3</th>\n",
       "      <td>27440.0</td>\n",
       "      <td>False</td>\n",
       "      <td>Tahoe National Forest</td>\n",
       "      <td>NaN</td>\n",
       "      <td>2013</td>\n",
       "      <td>False</td>\n",
       "      <td>/incidents/2013/8/10/american-fire/</td>\n",
       "      <td>NaN</td>\n",
       "      <td>NaN</td>\n",
       "      <td>Placer</td>\n",
       "      <td>...</td>\n",
       "      <td>Finalized</td>\n",
       "      <td>NaN</td>\n",
       "      <td>NaN</td>\n",
       "      <td>NaN</td>\n",
       "      <td>NaN</td>\n",
       "      <td>8213f5c7-34fa-403b-a4bc-da2ace6e6625</td>\n",
       "      <td>2013-08-30T08:00:00Z</td>\n",
       "      <td>NaN</td>\n",
       "      <td>16.763708</td>\n",
       "      <td>0</td>\n",
       "    </tr>\n",
       "    <tr>\n",
       "      <th>4</th>\n",
       "      <td>24251.0</td>\n",
       "      <td>False</td>\n",
       "      <td>Ventura County Fire/CAL FIRE</td>\n",
       "      <td>NaN</td>\n",
       "      <td>2013</td>\n",
       "      <td>True</td>\n",
       "      <td>/incidents/2013/5/2/springs-fire/</td>\n",
       "      <td>Acreage has been reduced based upon more accur...</td>\n",
       "      <td>NaN</td>\n",
       "      <td>Ventura</td>\n",
       "      <td>...</td>\n",
       "      <td>Finalized</td>\n",
       "      <td>6.0</td>\n",
       "      <td>10.0</td>\n",
       "      <td>NaN</td>\n",
       "      <td>NaN</td>\n",
       "      <td>46731fb8-3350-4920-bdf7-910ac0eb715c</td>\n",
       "      <td>2013-05-11T06:30:00Z</td>\n",
       "      <td>11.0</td>\n",
       "      <td>16.455486</td>\n",
       "      <td>1</td>\n",
       "    </tr>\n",
       "  </tbody>\n",
       "</table>\n",
       "<p>5 rows × 42 columns</p>\n",
       "</div>"
      ],
      "text/plain": [
       "   AcresBurned  Active                                          AdminUnit  \\\n",
       "0     257314.0   False  Stanislaus National Forest/Yosemite National Park   \n",
       "1      30274.0   False  USFS Angeles National Forest/Los Angeles Count...   \n",
       "2      27531.0   False  CAL FIRE Riverside Unit / San Bernardino Natio...   \n",
       "3      27440.0   False                              Tahoe National Forest   \n",
       "4      24251.0   False                       Ventura County Fire/CAL FIRE   \n",
       "\n",
       "   AirTankers  ArchiveYear  CalFireIncident  \\\n",
       "0         NaN         2013             True   \n",
       "1         NaN         2013             True   \n",
       "2         NaN         2013             True   \n",
       "3         NaN         2013            False   \n",
       "4         NaN         2013             True   \n",
       "\n",
       "                            CanonicalUrl  \\\n",
       "0         /incidents/2013/8/17/rim-fire/   \n",
       "1  /incidents/2013/5/30/powerhouse-fire/   \n",
       "2    /incidents/2013/7/15/mountain-fire/   \n",
       "3    /incidents/2013/8/10/american-fire/   \n",
       "4      /incidents/2013/5/2/springs-fire/   \n",
       "\n",
       "                                  ConditionStatement ControlStatement  \\\n",
       "0                                                NaN              NaN   \n",
       "1                                                NaN              NaN   \n",
       "2                                                NaN              NaN   \n",
       "3                                                NaN              NaN   \n",
       "4  Acreage has been reduced based upon more accur...              NaN   \n",
       "\n",
       "      Counties  ...     Status  StructuresDamaged  StructuresDestroyed  \\\n",
       "0     Tuolumne  ...  Finalized                NaN                  NaN   \n",
       "1  Los Angeles  ...  Finalized                NaN                  NaN   \n",
       "2    Riverside  ...  Finalized                NaN                  NaN   \n",
       "3       Placer  ...  Finalized                NaN                  NaN   \n",
       "4      Ventura  ...  Finalized                6.0                 10.0   \n",
       "\n",
       "   StructuresEvacuated StructuresThreatened  \\\n",
       "0                  NaN                  NaN   \n",
       "1                  NaN                  NaN   \n",
       "2                  NaN                  NaN   \n",
       "3                  NaN                  NaN   \n",
       "4                  NaN                  NaN   \n",
       "\n",
       "                               UniqueId               Updated  WaterTenders  \\\n",
       "0  5fb18d4d-213f-4d83-a179-daaf11939e78  2013-09-06T18:30:00Z           NaN   \n",
       "1  bf37805e-1cc2-4208-9972-753e47874c87  2013-06-08T18:30:00Z           NaN   \n",
       "2  a3149fec-4d48-427c-8b2c-59e8b79d59db  2013-07-30T18:00:00Z           NaN   \n",
       "3  8213f5c7-34fa-403b-a4bc-da2ace6e6625  2013-08-30T08:00:00Z           NaN   \n",
       "4  46731fb8-3350-4920-bdf7-910ac0eb715c  2013-05-11T06:30:00Z          11.0   \n",
       "\n",
       "  Transformed_AcresBurned  CALFIRE_AdminUnit  \n",
       "0               22.984556                  0  \n",
       "1               17.011379                  1  \n",
       "2               16.772015                  1  \n",
       "3               16.763708                  0  \n",
       "4               16.455486                  1  \n",
       "\n",
       "[5 rows x 42 columns]"
      ]
     },
     "execution_count": 625,
     "metadata": {},
     "output_type": "execute_result"
    }
   ],
   "source": [
    "df.head()"
   ]
  },
  {
   "cell_type": "code",
   "execution_count": 626,
   "metadata": {},
   "outputs": [
    {
     "name": "stderr",
     "output_type": "stream",
     "text": [
      "C:\\Users\\jiten\\anaconda3\\lib\\site-packages\\seaborn\\_decorators.py:36: FutureWarning: Pass the following variable as a keyword arg: x. From version 0.12, the only valid positional argument will be `data`, and passing other arguments without an explicit keyword will result in an error or misinterpretation.\n",
      "  warnings.warn(\n"
     ]
    },
    {
     "data": {
      "text/plain": [
       "<AxesSubplot:xlabel='CALFIRE_AdminUnit', ylabel='count'>"
      ]
     },
     "execution_count": 626,
     "metadata": {},
     "output_type": "execute_result"
    },
    {
     "data": {
      "image/png": "[encoded data removed]",
      "text/plain": [
       "<Figure size 432x288 with 1 Axes>"
      ]
     },
     "metadata": {
      "needs_background": "light"
     },
     "output_type": "display_data"
    }
   ],
   "source": [
    "sns.countplot(df['CALFIRE_AdminUnit'])"
   ]
  },
  {
   "cell_type": "markdown",
   "metadata": {},
   "source": [
    "###  CALFIRE_AdminUnit value = 1 is more than twice of CALFIRE_AdminUnit = 0"
   ]
  },
  {
   "cell_type": "markdown",
   "metadata": {},
   "source": [
    "## AirTankers"
   ]
  },
  {
   "cell_type": "code",
   "execution_count": 627,
   "metadata": {},
   "outputs": [
    {
     "data": {
      "text/plain": [
       "0.9810513447432763"
      ]
     },
     "execution_count": 627,
     "metadata": {},
     "output_type": "execute_result"
    }
   ],
   "source": [
    "df['AirTankers'].isna().sum() / DATASET_LEN"
   ]
  },
  {
   "cell_type": "markdown",
   "metadata": {},
   "source": [
    "### Most of the AirTankers are missing"
   ]
  },
  {
   "cell_type": "code",
   "execution_count": 628,
   "metadata": {},
   "outputs": [
    {
     "data": {
      "text/html": [
       "<div>\n",
       "<style scoped>\n",
       "    .dataframe tbody tr th:only-of-type {\n",
       "        vertical-align: middle;\n",
       "    }\n",
       "\n",
       "    .dataframe tbody tr th {\n",
       "        vertical-align: top;\n",
       "    }\n",
       "\n",
       "    .dataframe thead th {\n",
       "        text-align: right;\n",
       "    }\n",
       "</style>\n",
       "<table border=\"1\" class=\"dataframe\">\n",
       "  <thead>\n",
       "    <tr style=\"text-align: right;\">\n",
       "      <th></th>\n",
       "      <th>AcresBurned</th>\n",
       "      <th>Active</th>\n",
       "      <th>AdminUnit</th>\n",
       "      <th>AirTankers</th>\n",
       "      <th>ArchiveYear</th>\n",
       "      <th>CalFireIncident</th>\n",
       "      <th>CanonicalUrl</th>\n",
       "      <th>ConditionStatement</th>\n",
       "      <th>ControlStatement</th>\n",
       "      <th>Counties</th>\n",
       "      <th>...</th>\n",
       "      <th>Status</th>\n",
       "      <th>StructuresDamaged</th>\n",
       "      <th>StructuresDestroyed</th>\n",
       "      <th>StructuresEvacuated</th>\n",
       "      <th>StructuresThreatened</th>\n",
       "      <th>UniqueId</th>\n",
       "      <th>Updated</th>\n",
       "      <th>WaterTenders</th>\n",
       "      <th>Transformed_AcresBurned</th>\n",
       "      <th>CALFIRE_AdminUnit</th>\n",
       "    </tr>\n",
       "  </thead>\n",
       "  <tbody>\n",
       "    <tr>\n",
       "      <th>0</th>\n",
       "      <td>257314.0</td>\n",
       "      <td>False</td>\n",
       "      <td>Stanislaus National Forest/Yosemite National Park</td>\n",
       "      <td>NaN</td>\n",
       "      <td>2013</td>\n",
       "      <td>True</td>\n",
       "      <td>/incidents/2013/8/17/rim-fire/</td>\n",
       "      <td>NaN</td>\n",
       "      <td>NaN</td>\n",
       "      <td>Tuolumne</td>\n",
       "      <td>...</td>\n",
       "      <td>Finalized</td>\n",
       "      <td>NaN</td>\n",
       "      <td>NaN</td>\n",
       "      <td>NaN</td>\n",
       "      <td>NaN</td>\n",
       "      <td>5fb18d4d-213f-4d83-a179-daaf11939e78</td>\n",
       "      <td>2013-09-06T18:30:00Z</td>\n",
       "      <td>NaN</td>\n",
       "      <td>22.984556</td>\n",
       "      <td>0</td>\n",
       "    </tr>\n",
       "    <tr>\n",
       "      <th>1</th>\n",
       "      <td>30274.0</td>\n",
       "      <td>False</td>\n",
       "      <td>USFS Angeles National Forest/Los Angeles Count...</td>\n",
       "      <td>NaN</td>\n",
       "      <td>2013</td>\n",
       "      <td>True</td>\n",
       "      <td>/incidents/2013/5/30/powerhouse-fire/</td>\n",
       "      <td>NaN</td>\n",
       "      <td>NaN</td>\n",
       "      <td>Los Angeles</td>\n",
       "      <td>...</td>\n",
       "      <td>Finalized</td>\n",
       "      <td>NaN</td>\n",
       "      <td>NaN</td>\n",
       "      <td>NaN</td>\n",
       "      <td>NaN</td>\n",
       "      <td>bf37805e-1cc2-4208-9972-753e47874c87</td>\n",
       "      <td>2013-06-08T18:30:00Z</td>\n",
       "      <td>NaN</td>\n",
       "      <td>17.011379</td>\n",
       "      <td>1</td>\n",
       "    </tr>\n",
       "    <tr>\n",
       "      <th>2</th>\n",
       "      <td>27531.0</td>\n",
       "      <td>False</td>\n",
       "      <td>CAL FIRE Riverside Unit / San Bernardino Natio...</td>\n",
       "      <td>NaN</td>\n",
       "      <td>2013</td>\n",
       "      <td>True</td>\n",
       "      <td>/incidents/2013/7/15/mountain-fire/</td>\n",
       "      <td>NaN</td>\n",
       "      <td>NaN</td>\n",
       "      <td>Riverside</td>\n",
       "      <td>...</td>\n",
       "      <td>Finalized</td>\n",
       "      <td>NaN</td>\n",
       "      <td>NaN</td>\n",
       "      <td>NaN</td>\n",
       "      <td>NaN</td>\n",
       "      <td>a3149fec-4d48-427c-8b2c-59e8b79d59db</td>\n",
       "      <td>2013-07-30T18:00:00Z</td>\n",
       "      <td>NaN</td>\n",
       "      <td>16.772015</td>\n",
       "      <td>1</td>\n",
       "    </tr>\n",
       "    <tr>\n",
       "      <th>3</th>\n",
       "      <td>27440.0</td>\n",
       "      <td>False</td>\n",
       "      <td>Tahoe National Forest</td>\n",
       "      <td>NaN</td>\n",
       "      <td>2013</td>\n",
       "      <td>False</td>\n",
       "      <td>/incidents/2013/8/10/american-fire/</td>\n",
       "      <td>NaN</td>\n",
       "      <td>NaN</td>\n",
       "      <td>Placer</td>\n",
       "      <td>...</td>\n",
       "      <td>Finalized</td>\n",
       "      <td>NaN</td>\n",
       "      <td>NaN</td>\n",
       "      <td>NaN</td>\n",
       "      <td>NaN</td>\n",
       "      <td>8213f5c7-34fa-403b-a4bc-da2ace6e6625</td>\n",
       "      <td>2013-08-30T08:00:00Z</td>\n",
       "      <td>NaN</td>\n",
       "      <td>16.763708</td>\n",
       "      <td>0</td>\n",
       "    </tr>\n",
       "    <tr>\n",
       "      <th>4</th>\n",
       "      <td>24251.0</td>\n",
       "      <td>False</td>\n",
       "      <td>Ventura County Fire/CAL FIRE</td>\n",
       "      <td>NaN</td>\n",
       "      <td>2013</td>\n",
       "      <td>True</td>\n",
       "      <td>/incidents/2013/5/2/springs-fire/</td>\n",
       "      <td>Acreage has been reduced based upon more accur...</td>\n",
       "      <td>NaN</td>\n",
       "      <td>Ventura</td>\n",
       "      <td>...</td>\n",
       "      <td>Finalized</td>\n",
       "      <td>6.0</td>\n",
       "      <td>10.0</td>\n",
       "      <td>NaN</td>\n",
       "      <td>NaN</td>\n",
       "      <td>46731fb8-3350-4920-bdf7-910ac0eb715c</td>\n",
       "      <td>2013-05-11T06:30:00Z</td>\n",
       "      <td>11.0</td>\n",
       "      <td>16.455486</td>\n",
       "      <td>1</td>\n",
       "    </tr>\n",
       "  </tbody>\n",
       "</table>\n",
       "<p>5 rows × 42 columns</p>\n",
       "</div>"
      ],
      "text/plain": [
       "   AcresBurned  Active                                          AdminUnit  \\\n",
       "0     257314.0   False  Stanislaus National Forest/Yosemite National Park   \n",
       "1      30274.0   False  USFS Angeles National Forest/Los Angeles Count...   \n",
       "2      27531.0   False  CAL FIRE Riverside Unit / San Bernardino Natio...   \n",
       "3      27440.0   False                              Tahoe National Forest   \n",
       "4      24251.0   False                       Ventura County Fire/CAL FIRE   \n",
       "\n",
       "   AirTankers  ArchiveYear  CalFireIncident  \\\n",
       "0         NaN         2013             True   \n",
       "1         NaN         2013             True   \n",
       "2         NaN         2013             True   \n",
       "3         NaN         2013            False   \n",
       "4         NaN         2013             True   \n",
       "\n",
       "                            CanonicalUrl  \\\n",
       "0         /incidents/2013/8/17/rim-fire/   \n",
       "1  /incidents/2013/5/30/powerhouse-fire/   \n",
       "2    /incidents/2013/7/15/mountain-fire/   \n",
       "3    /incidents/2013/8/10/american-fire/   \n",
       "4      /incidents/2013/5/2/springs-fire/   \n",
       "\n",
       "                                  ConditionStatement ControlStatement  \\\n",
       "0                                                NaN              NaN   \n",
       "1                                                NaN              NaN   \n",
       "2                                                NaN              NaN   \n",
       "3                                                NaN              NaN   \n",
       "4  Acreage has been reduced based upon more accur...              NaN   \n",
       "\n",
       "      Counties  ...     Status  StructuresDamaged  StructuresDestroyed  \\\n",
       "0     Tuolumne  ...  Finalized                NaN                  NaN   \n",
       "1  Los Angeles  ...  Finalized                NaN                  NaN   \n",
       "2    Riverside  ...  Finalized                NaN                  NaN   \n",
       "3       Placer  ...  Finalized                NaN                  NaN   \n",
       "4      Ventura  ...  Finalized                6.0                 10.0   \n",
       "\n",
       "   StructuresEvacuated StructuresThreatened  \\\n",
       "0                  NaN                  NaN   \n",
       "1                  NaN                  NaN   \n",
       "2                  NaN                  NaN   \n",
       "3                  NaN                  NaN   \n",
       "4                  NaN                  NaN   \n",
       "\n",
       "                               UniqueId               Updated  WaterTenders  \\\n",
       "0  5fb18d4d-213f-4d83-a179-daaf11939e78  2013-09-06T18:30:00Z           NaN   \n",
       "1  bf37805e-1cc2-4208-9972-753e47874c87  2013-06-08T18:30:00Z           NaN   \n",
       "2  a3149fec-4d48-427c-8b2c-59e8b79d59db  2013-07-30T18:00:00Z           NaN   \n",
       "3  8213f5c7-34fa-403b-a4bc-da2ace6e6625  2013-08-30T08:00:00Z           NaN   \n",
       "4  46731fb8-3350-4920-bdf7-910ac0eb715c  2013-05-11T06:30:00Z          11.0   \n",
       "\n",
       "  Transformed_AcresBurned  CALFIRE_AdminUnit  \n",
       "0               22.984556                  0  \n",
       "1               17.011379                  1  \n",
       "2               16.772015                  1  \n",
       "3               16.763708                  0  \n",
       "4               16.455486                  1  \n",
       "\n",
       "[5 rows x 42 columns]"
      ]
     },
     "execution_count": 628,
     "metadata": {},
     "output_type": "execute_result"
    }
   ],
   "source": [
    "df.head()"
   ]
  },
  {
   "cell_type": "code",
   "execution_count": 629,
   "metadata": {},
   "outputs": [
    {
     "name": "stderr",
     "output_type": "stream",
     "text": [
      "C:\\Users\\jiten\\anaconda3\\lib\\site-packages\\seaborn\\_decorators.py:36: FutureWarning: Pass the following variable as a keyword arg: x. From version 0.12, the only valid positional argument will be `data`, and passing other arguments without an explicit keyword will result in an error or misinterpretation.\n",
      "  warnings.warn(\n"
     ]
    },
    {
     "data": {
      "text/plain": [
       "<AxesSubplot:xlabel='AirTankers', ylabel='count'>"
      ]
     },
     "execution_count": 629,
     "metadata": {},
     "output_type": "execute_result"
    },
    {
     "data": {
      "image/png": "[encoded data removed]",
      "text/plain": [
       "<Figure size 432x288 with 1 Axes>"
      ]
     },
     "metadata": {
      "needs_background": "light"
     },
     "output_type": "display_data"
    }
   ],
   "source": [
    "sns.countplot(df['AirTankers'])"
   ]
  },
  {
   "cell_type": "markdown",
   "metadata": {},
   "source": [
    "### Sometimes 25 AirTankers were deployed for small fires\n",
    "\n",
    "### 5 AirTankers were used for Large fires that covered 8000+ acres of fire land"
   ]
  },
  {
   "cell_type": "code",
   "execution_count": 630,
   "metadata": {},
   "outputs": [
    {
     "data": {
      "text/plain": [
       "<AxesSubplot:xlabel='AirTankers', ylabel='AcresBurned'>"
      ]
     },
     "execution_count": 630,
     "metadata": {},
     "output_type": "execute_result"
    },
    {
     "data": {
      "image/png": "[encoded data removed]",
      "text/plain": [
       "<Figure size 432x288 with 1 Axes>"
      ]
     },
     "metadata": {
      "needs_background": "light"
     },
     "output_type": "display_data"
    }
   ],
   "source": [
    "sns.scatterplot(x='AirTankers', y='AcresBurned', data=df)"
   ]
  },
  {
   "cell_type": "code",
   "execution_count": 631,
   "metadata": {},
   "outputs": [
    {
     "data": {
      "text/plain": [
       "2.0     9\n",
       "4.0     7\n",
       "0.0     6\n",
       "5.0     2\n",
       "3.0     2\n",
       "25.0    1\n",
       "27.0    1\n",
       "Name: AirTankers, dtype: int64"
      ]
     },
     "execution_count": 631,
     "metadata": {},
     "output_type": "execute_result"
    }
   ],
   "source": [
    "## has many nan values and there are some samples with very high air tankers (Maybe Outliers ? )\n",
    "df['AirTankers'].value_counts()"
   ]
  },
  {
   "cell_type": "code",
   "execution_count": 632,
   "metadata": {},
   "outputs": [
    {
     "data": {
      "text/plain": [
       "0.01589242053789731"
      ]
     },
     "execution_count": 632,
     "metadata": {},
     "output_type": "execute_result"
    }
   ],
   "source": [
    "len(df[df['AirTankers'] <= 5]) / DATASET_LEN"
   ]
  },
  {
   "cell_type": "markdown",
   "metadata": {},
   "source": [
    "### As only 1.5% of the data of this feature seems apppropriate. This feature should be removed"
   ]
  },
  {
   "cell_type": "code",
   "execution_count": 633,
   "metadata": {},
   "outputs": [
    {
     "data": {
      "text/html": [
       "<div>\n",
       "<style scoped>\n",
       "    .dataframe tbody tr th:only-of-type {\n",
       "        vertical-align: middle;\n",
       "    }\n",
       "\n",
       "    .dataframe tbody tr th {\n",
       "        vertical-align: top;\n",
       "    }\n",
       "\n",
       "    .dataframe thead th {\n",
       "        text-align: right;\n",
       "    }\n",
       "</style>\n",
       "<table border=\"1\" class=\"dataframe\">\n",
       "  <thead>\n",
       "    <tr style=\"text-align: right;\">\n",
       "      <th></th>\n",
       "      <th>AcresBurned</th>\n",
       "      <th>Active</th>\n",
       "      <th>AdminUnit</th>\n",
       "      <th>AirTankers</th>\n",
       "      <th>ArchiveYear</th>\n",
       "      <th>CalFireIncident</th>\n",
       "      <th>CanonicalUrl</th>\n",
       "      <th>ConditionStatement</th>\n",
       "      <th>ControlStatement</th>\n",
       "      <th>Counties</th>\n",
       "      <th>...</th>\n",
       "      <th>Status</th>\n",
       "      <th>StructuresDamaged</th>\n",
       "      <th>StructuresDestroyed</th>\n",
       "      <th>StructuresEvacuated</th>\n",
       "      <th>StructuresThreatened</th>\n",
       "      <th>UniqueId</th>\n",
       "      <th>Updated</th>\n",
       "      <th>WaterTenders</th>\n",
       "      <th>Transformed_AcresBurned</th>\n",
       "      <th>CALFIRE_AdminUnit</th>\n",
       "    </tr>\n",
       "  </thead>\n",
       "  <tbody>\n",
       "    <tr>\n",
       "      <th>0</th>\n",
       "      <td>257314.0</td>\n",
       "      <td>False</td>\n",
       "      <td>Stanislaus National Forest/Yosemite National Park</td>\n",
       "      <td>NaN</td>\n",
       "      <td>2013</td>\n",
       "      <td>True</td>\n",
       "      <td>/incidents/2013/8/17/rim-fire/</td>\n",
       "      <td>NaN</td>\n",
       "      <td>NaN</td>\n",
       "      <td>Tuolumne</td>\n",
       "      <td>...</td>\n",
       "      <td>Finalized</td>\n",
       "      <td>NaN</td>\n",
       "      <td>NaN</td>\n",
       "      <td>NaN</td>\n",
       "      <td>NaN</td>\n",
       "      <td>5fb18d4d-213f-4d83-a179-daaf11939e78</td>\n",
       "      <td>2013-09-06T18:30:00Z</td>\n",
       "      <td>NaN</td>\n",
       "      <td>22.984556</td>\n",
       "      <td>0</td>\n",
       "    </tr>\n",
       "    <tr>\n",
       "      <th>1</th>\n",
       "      <td>30274.0</td>\n",
       "      <td>False</td>\n",
       "      <td>USFS Angeles National Forest/Los Angeles Count...</td>\n",
       "      <td>NaN</td>\n",
       "      <td>2013</td>\n",
       "      <td>True</td>\n",
       "      <td>/incidents/2013/5/30/powerhouse-fire/</td>\n",
       "      <td>NaN</td>\n",
       "      <td>NaN</td>\n",
       "      <td>Los Angeles</td>\n",
       "      <td>...</td>\n",
       "      <td>Finalized</td>\n",
       "      <td>NaN</td>\n",
       "      <td>NaN</td>\n",
       "      <td>NaN</td>\n",
       "      <td>NaN</td>\n",
       "      <td>bf37805e-1cc2-4208-9972-753e47874c87</td>\n",
       "      <td>2013-06-08T18:30:00Z</td>\n",
       "      <td>NaN</td>\n",
       "      <td>17.011379</td>\n",
       "      <td>1</td>\n",
       "    </tr>\n",
       "    <tr>\n",
       "      <th>2</th>\n",
       "      <td>27531.0</td>\n",
       "      <td>False</td>\n",
       "      <td>CAL FIRE Riverside Unit / San Bernardino Natio...</td>\n",
       "      <td>NaN</td>\n",
       "      <td>2013</td>\n",
       "      <td>True</td>\n",
       "      <td>/incidents/2013/7/15/mountain-fire/</td>\n",
       "      <td>NaN</td>\n",
       "      <td>NaN</td>\n",
       "      <td>Riverside</td>\n",
       "      <td>...</td>\n",
       "      <td>Finalized</td>\n",
       "      <td>NaN</td>\n",
       "      <td>NaN</td>\n",
       "      <td>NaN</td>\n",
       "      <td>NaN</td>\n",
       "      <td>a3149fec-4d48-427c-8b2c-59e8b79d59db</td>\n",
       "      <td>2013-07-30T18:00:00Z</td>\n",
       "      <td>NaN</td>\n",
       "      <td>16.772015</td>\n",
       "      <td>1</td>\n",
       "    </tr>\n",
       "    <tr>\n",
       "      <th>3</th>\n",
       "      <td>27440.0</td>\n",
       "      <td>False</td>\n",
       "      <td>Tahoe National Forest</td>\n",
       "      <td>NaN</td>\n",
       "      <td>2013</td>\n",
       "      <td>False</td>\n",
       "      <td>/incidents/2013/8/10/american-fire/</td>\n",
       "      <td>NaN</td>\n",
       "      <td>NaN</td>\n",
       "      <td>Placer</td>\n",
       "      <td>...</td>\n",
       "      <td>Finalized</td>\n",
       "      <td>NaN</td>\n",
       "      <td>NaN</td>\n",
       "      <td>NaN</td>\n",
       "      <td>NaN</td>\n",
       "      <td>8213f5c7-34fa-403b-a4bc-da2ace6e6625</td>\n",
       "      <td>2013-08-30T08:00:00Z</td>\n",
       "      <td>NaN</td>\n",
       "      <td>16.763708</td>\n",
       "      <td>0</td>\n",
       "    </tr>\n",
       "    <tr>\n",
       "      <th>4</th>\n",
       "      <td>24251.0</td>\n",
       "      <td>False</td>\n",
       "      <td>Ventura County Fire/CAL FIRE</td>\n",
       "      <td>NaN</td>\n",
       "      <td>2013</td>\n",
       "      <td>True</td>\n",
       "      <td>/incidents/2013/5/2/springs-fire/</td>\n",
       "      <td>Acreage has been reduced based upon more accur...</td>\n",
       "      <td>NaN</td>\n",
       "      <td>Ventura</td>\n",
       "      <td>...</td>\n",
       "      <td>Finalized</td>\n",
       "      <td>6.0</td>\n",
       "      <td>10.0</td>\n",
       "      <td>NaN</td>\n",
       "      <td>NaN</td>\n",
       "      <td>46731fb8-3350-4920-bdf7-910ac0eb715c</td>\n",
       "      <td>2013-05-11T06:30:00Z</td>\n",
       "      <td>11.0</td>\n",
       "      <td>16.455486</td>\n",
       "      <td>1</td>\n",
       "    </tr>\n",
       "  </tbody>\n",
       "</table>\n",
       "<p>5 rows × 42 columns</p>\n",
       "</div>"
      ],
      "text/plain": [
       "   AcresBurned  Active                                          AdminUnit  \\\n",
       "0     257314.0   False  Stanislaus National Forest/Yosemite National Park   \n",
       "1      30274.0   False  USFS Angeles National Forest/Los Angeles Count...   \n",
       "2      27531.0   False  CAL FIRE Riverside Unit / San Bernardino Natio...   \n",
       "3      27440.0   False                              Tahoe National Forest   \n",
       "4      24251.0   False                       Ventura County Fire/CAL FIRE   \n",
       "\n",
       "   AirTankers  ArchiveYear  CalFireIncident  \\\n",
       "0         NaN         2013             True   \n",
       "1         NaN         2013             True   \n",
       "2         NaN         2013             True   \n",
       "3         NaN         2013            False   \n",
       "4         NaN         2013             True   \n",
       "\n",
       "                            CanonicalUrl  \\\n",
       "0         /incidents/2013/8/17/rim-fire/   \n",
       "1  /incidents/2013/5/30/powerhouse-fire/   \n",
       "2    /incidents/2013/7/15/mountain-fire/   \n",
       "3    /incidents/2013/8/10/american-fire/   \n",
       "4      /incidents/2013/5/2/springs-fire/   \n",
       "\n",
       "                                  ConditionStatement ControlStatement  \\\n",
       "0                                                NaN              NaN   \n",
       "1                                                NaN              NaN   \n",
       "2                                                NaN              NaN   \n",
       "3                                                NaN              NaN   \n",
       "4  Acreage has been reduced based upon more accur...              NaN   \n",
       "\n",
       "      Counties  ...     Status  StructuresDamaged  StructuresDestroyed  \\\n",
       "0     Tuolumne  ...  Finalized                NaN                  NaN   \n",
       "1  Los Angeles  ...  Finalized                NaN                  NaN   \n",
       "2    Riverside  ...  Finalized                NaN                  NaN   \n",
       "3       Placer  ...  Finalized                NaN                  NaN   \n",
       "4      Ventura  ...  Finalized                6.0                 10.0   \n",
       "\n",
       "   StructuresEvacuated StructuresThreatened  \\\n",
       "0                  NaN                  NaN   \n",
       "1                  NaN                  NaN   \n",
       "2                  NaN                  NaN   \n",
       "3                  NaN                  NaN   \n",
       "4                  NaN                  NaN   \n",
       "\n",
       "                               UniqueId               Updated  WaterTenders  \\\n",
       "0  5fb18d4d-213f-4d83-a179-daaf11939e78  2013-09-06T18:30:00Z           NaN   \n",
       "1  bf37805e-1cc2-4208-9972-753e47874c87  2013-06-08T18:30:00Z           NaN   \n",
       "2  a3149fec-4d48-427c-8b2c-59e8b79d59db  2013-07-30T18:00:00Z           NaN   \n",
       "3  8213f5c7-34fa-403b-a4bc-da2ace6e6625  2013-08-30T08:00:00Z           NaN   \n",
       "4  46731fb8-3350-4920-bdf7-910ac0eb715c  2013-05-11T06:30:00Z          11.0   \n",
       "\n",
       "  Transformed_AcresBurned  CALFIRE_AdminUnit  \n",
       "0               22.984556                  0  \n",
       "1               17.011379                  1  \n",
       "2               16.772015                  1  \n",
       "3               16.763708                  0  \n",
       "4               16.455486                  1  \n",
       "\n",
       "[5 rows x 42 columns]"
      ]
     },
     "execution_count": 633,
     "metadata": {},
     "output_type": "execute_result"
    }
   ],
   "source": [
    "df.head()"
   ]
  },
  {
   "cell_type": "markdown",
   "metadata": {},
   "source": [
    "## ArchiveYear "
   ]
  },
  {
   "cell_type": "code",
   "execution_count": 634,
   "metadata": {},
   "outputs": [
    {
     "data": {
      "text/plain": [
       "0"
      ]
     },
     "execution_count": 634,
     "metadata": {},
     "output_type": "execute_result"
    }
   ],
   "source": [
    "df['ArchiveYear'].isna().sum()"
   ]
  },
  {
   "cell_type": "code",
   "execution_count": 635,
   "metadata": {},
   "outputs": [
    {
     "name": "stderr",
     "output_type": "stream",
     "text": [
      "C:\\Users\\jiten\\anaconda3\\lib\\site-packages\\seaborn\\_decorators.py:36: FutureWarning: Pass the following variable as a keyword arg: x. From version 0.12, the only valid positional argument will be `data`, and passing other arguments without an explicit keyword will result in an error or misinterpretation.\n",
      "  warnings.warn(\n"
     ]
    },
    {
     "data": {
      "text/plain": [
       "<AxesSubplot:xlabel='ArchiveYear', ylabel='count'>"
      ]
     },
     "execution_count": 635,
     "metadata": {},
     "output_type": "execute_result"
    },
    {
     "data": {
      "image/png": "[encoded data removed]",
      "text/plain": [
       "<Figure size 432x288 with 1 Axes>"
      ]
     },
     "metadata": {
      "needs_background": "light"
     },
     "output_type": "display_data"
    }
   ],
   "source": [
    "sns.countplot(df['ArchiveYear'])"
   ]
  },
  {
   "cell_type": "markdown",
   "metadata": {},
   "source": [
    "### Analyzing all the features by Aggregating them Year Wise"
   ]
  },
  {
   "cell_type": "code",
   "execution_count": 636,
   "metadata": {},
   "outputs": [
    {
     "data": {
      "text/plain": [
       "Index(['AcresBurned', 'Active', 'AdminUnit', 'AirTankers', 'ArchiveYear',\n",
       "       'CalFireIncident', 'CanonicalUrl', 'ConditionStatement',\n",
       "       'ControlStatement', 'Counties', 'CountyIds', 'CrewsInvolved', 'Dozers',\n",
       "       'Engines', 'Extinguished', 'Fatalities', 'Featured', 'Final',\n",
       "       'FuelType', 'Helicopters', 'Injuries', 'Latitude', 'Location',\n",
       "       'Longitude', 'MajorIncident', 'Name', 'PercentContained',\n",
       "       'PersonnelInvolved', 'Public', 'SearchDescription', 'SearchKeywords',\n",
       "       'Started', 'Status', 'StructuresDamaged', 'StructuresDestroyed',\n",
       "       'StructuresEvacuated', 'StructuresThreatened', 'UniqueId', 'Updated',\n",
       "       'WaterTenders', 'Transformed_AcresBurned', 'CALFIRE_AdminUnit'],\n",
       "      dtype='object')"
      ]
     },
     "execution_count": 636,
     "metadata": {},
     "output_type": "execute_result"
    }
   ],
   "source": [
    "df.columns"
   ]
  },
  {
   "cell_type": "code",
   "execution_count": 637,
   "metadata": {},
   "outputs": [
    {
     "name": "stdout",
     "output_type": "stream",
     "text": [
      "Number of unique years in dataset: [2013 2014 2015 2016 2017 2018 2019]\n"
     ]
    },
    {
     "data": {
      "text/html": [
       "<div>\n",
       "<style scoped>\n",
       "    .dataframe tbody tr th:only-of-type {\n",
       "        vertical-align: middle;\n",
       "    }\n",
       "\n",
       "    .dataframe tbody tr th {\n",
       "        vertical-align: top;\n",
       "    }\n",
       "\n",
       "    .dataframe thead th {\n",
       "        text-align: right;\n",
       "    }\n",
       "</style>\n",
       "<table border=\"1\" class=\"dataframe\">\n",
       "  <thead>\n",
       "    <tr style=\"text-align: right;\">\n",
       "      <th></th>\n",
       "      <th>AcresBurned</th>\n",
       "      <th>Active</th>\n",
       "      <th>AirTankers</th>\n",
       "      <th>CalFireIncident</th>\n",
       "      <th>CrewsInvolved</th>\n",
       "      <th>Dozers</th>\n",
       "      <th>Engines</th>\n",
       "      <th>Fatalities</th>\n",
       "      <th>Featured</th>\n",
       "      <th>Final</th>\n",
       "      <th>...</th>\n",
       "      <th>PercentContained</th>\n",
       "      <th>PersonnelInvolved</th>\n",
       "      <th>Public</th>\n",
       "      <th>StructuresDamaged</th>\n",
       "      <th>StructuresDestroyed</th>\n",
       "      <th>StructuresEvacuated</th>\n",
       "      <th>StructuresThreatened</th>\n",
       "      <th>WaterTenders</th>\n",
       "      <th>Transformed_AcresBurned</th>\n",
       "      <th>CALFIRE_AdminUnit</th>\n",
       "    </tr>\n",
       "    <tr>\n",
       "      <th>ArchiveYear</th>\n",
       "      <th></th>\n",
       "      <th></th>\n",
       "      <th></th>\n",
       "      <th></th>\n",
       "      <th></th>\n",
       "      <th></th>\n",
       "      <th></th>\n",
       "      <th></th>\n",
       "      <th></th>\n",
       "      <th></th>\n",
       "      <th></th>\n",
       "      <th></th>\n",
       "      <th></th>\n",
       "      <th></th>\n",
       "      <th></th>\n",
       "      <th></th>\n",
       "      <th></th>\n",
       "      <th></th>\n",
       "      <th></th>\n",
       "      <th></th>\n",
       "      <th></th>\n",
       "    </tr>\n",
       "  </thead>\n",
       "  <tbody>\n",
       "    <tr>\n",
       "      <th>2013</th>\n",
       "      <td>527745.0</td>\n",
       "      <td>0</td>\n",
       "      <td>66.0</td>\n",
       "      <td>132</td>\n",
       "      <td>703.0</td>\n",
       "      <td>335.0</td>\n",
       "      <td>1459.0</td>\n",
       "      <td>0.0</td>\n",
       "      <td>0</td>\n",
       "      <td>162</td>\n",
       "      <td>...</td>\n",
       "      <td>16200.0</td>\n",
       "      <td>20288.0</td>\n",
       "      <td>162</td>\n",
       "      <td>34.0</td>\n",
       "      <td>428.0</td>\n",
       "      <td>0.0</td>\n",
       "      <td>176.0</td>\n",
       "      <td>403.0</td>\n",
       "      <td>1110.300439</td>\n",
       "      <td>127</td>\n",
       "    </tr>\n",
       "    <tr>\n",
       "      <th>2014</th>\n",
       "      <td>448715.0</td>\n",
       "      <td>0</td>\n",
       "      <td>4.0</td>\n",
       "      <td>85</td>\n",
       "      <td>244.0</td>\n",
       "      <td>21.0</td>\n",
       "      <td>230.0</td>\n",
       "      <td>0.0</td>\n",
       "      <td>0</td>\n",
       "      <td>117</td>\n",
       "      <td>...</td>\n",
       "      <td>11700.0</td>\n",
       "      <td>5620.0</td>\n",
       "      <td>117</td>\n",
       "      <td>10.0</td>\n",
       "      <td>634.0</td>\n",
       "      <td>0.0</td>\n",
       "      <td>2390.0</td>\n",
       "      <td>53.0</td>\n",
       "      <td>918.186165</td>\n",
       "      <td>80</td>\n",
       "    </tr>\n",
       "    <tr>\n",
       "      <th>2015</th>\n",
       "      <td>574503.0</td>\n",
       "      <td>0</td>\n",
       "      <td>20.0</td>\n",
       "      <td>113</td>\n",
       "      <td>211.0</td>\n",
       "      <td>88.0</td>\n",
       "      <td>421.0</td>\n",
       "      <td>1.0</td>\n",
       "      <td>0</td>\n",
       "      <td>152</td>\n",
       "      <td>...</td>\n",
       "      <td>15200.0</td>\n",
       "      <td>6394.0</td>\n",
       "      <td>152</td>\n",
       "      <td>25.0</td>\n",
       "      <td>381.0</td>\n",
       "      <td>0.0</td>\n",
       "      <td>54.0</td>\n",
       "      <td>105.0</td>\n",
       "      <td>1060.517940</td>\n",
       "      <td>107</td>\n",
       "    </tr>\n",
       "    <tr>\n",
       "      <th>2016</th>\n",
       "      <td>505927.0</td>\n",
       "      <td>0</td>\n",
       "      <td>11.0</td>\n",
       "      <td>150</td>\n",
       "      <td>127.0</td>\n",
       "      <td>33.0</td>\n",
       "      <td>262.0</td>\n",
       "      <td>0.0</td>\n",
       "      <td>0</td>\n",
       "      <td>185</td>\n",
       "      <td>...</td>\n",
       "      <td>18500.0</td>\n",
       "      <td>4293.0</td>\n",
       "      <td>185</td>\n",
       "      <td>47.0</td>\n",
       "      <td>774.0</td>\n",
       "      <td>0.0</td>\n",
       "      <td>5200.0</td>\n",
       "      <td>68.0</td>\n",
       "      <td>1208.201240</td>\n",
       "      <td>125</td>\n",
       "    </tr>\n",
       "    <tr>\n",
       "      <th>2017</th>\n",
       "      <td>1793915.0</td>\n",
       "      <td>0</td>\n",
       "      <td>0.0</td>\n",
       "      <td>338</td>\n",
       "      <td>221.0</td>\n",
       "      <td>61.0</td>\n",
       "      <td>625.0</td>\n",
       "      <td>75.0</td>\n",
       "      <td>0</td>\n",
       "      <td>438</td>\n",
       "      <td>...</td>\n",
       "      <td>43800.0</td>\n",
       "      <td>8468.0</td>\n",
       "      <td>438</td>\n",
       "      <td>3408.0</td>\n",
       "      <td>17961.0</td>\n",
       "      <td>0.0</td>\n",
       "      <td>545.0</td>\n",
       "      <td>85.0</td>\n",
       "      <td>2717.673585</td>\n",
       "      <td>301</td>\n",
       "    </tr>\n",
       "    <tr>\n",
       "      <th>2018</th>\n",
       "      <td>3358049.0</td>\n",
       "      <td>0</td>\n",
       "      <td>0.0</td>\n",
       "      <td>245</td>\n",
       "      <td>283.0</td>\n",
       "      <td>345.0</td>\n",
       "      <td>1053.0</td>\n",
       "      <td>102.0</td>\n",
       "      <td>0</td>\n",
       "      <td>315</td>\n",
       "      <td>...</td>\n",
       "      <td>31600.0</td>\n",
       "      <td>13768.0</td>\n",
       "      <td>316</td>\n",
       "      <td>828.0</td>\n",
       "      <td>26855.0</td>\n",
       "      <td>0.0</td>\n",
       "      <td>7285.0</td>\n",
       "      <td>348.0</td>\n",
       "      <td>2125.846172</td>\n",
       "      <td>221</td>\n",
       "    </tr>\n",
       "    <tr>\n",
       "      <th>2019</th>\n",
       "      <td>285708.0</td>\n",
       "      <td>0</td>\n",
       "      <td>13.0</td>\n",
       "      <td>188</td>\n",
       "      <td>188.0</td>\n",
       "      <td>50.0</td>\n",
       "      <td>451.0</td>\n",
       "      <td>3.0</td>\n",
       "      <td>26</td>\n",
       "      <td>263</td>\n",
       "      <td>...</td>\n",
       "      <td>26300.0</td>\n",
       "      <td>8194.0</td>\n",
       "      <td>263</td>\n",
       "      <td>202.0</td>\n",
       "      <td>530.0</td>\n",
       "      <td>0.0</td>\n",
       "      <td>34.0</td>\n",
       "      <td>79.0</td>\n",
       "      <td>1622.993828</td>\n",
       "      <td>180</td>\n",
       "    </tr>\n",
       "  </tbody>\n",
       "</table>\n",
       "<p>7 rows × 25 columns</p>\n",
       "</div>"
      ],
      "text/plain": [
       "             AcresBurned  Active  AirTankers  CalFireIncident  CrewsInvolved  \\\n",
       "ArchiveYear                                                                    \n",
       "2013            527745.0       0        66.0              132          703.0   \n",
       "2014            448715.0       0         4.0               85          244.0   \n",
       "2015            574503.0       0        20.0              113          211.0   \n",
       "2016            505927.0       0        11.0              150          127.0   \n",
       "2017           1793915.0       0         0.0              338          221.0   \n",
       "2018           3358049.0       0         0.0              245          283.0   \n",
       "2019            285708.0       0        13.0              188          188.0   \n",
       "\n",
       "             Dozers  Engines  Fatalities  Featured  Final  ...  \\\n",
       "ArchiveYear                                                ...   \n",
       "2013          335.0   1459.0         0.0         0    162  ...   \n",
       "2014           21.0    230.0         0.0         0    117  ...   \n",
       "2015           88.0    421.0         1.0         0    152  ...   \n",
       "2016           33.0    262.0         0.0         0    185  ...   \n",
       "2017           61.0    625.0        75.0         0    438  ...   \n",
       "2018          345.0   1053.0       102.0         0    315  ...   \n",
       "2019           50.0    451.0         3.0        26    263  ...   \n",
       "\n",
       "             PercentContained  PersonnelInvolved  Public  StructuresDamaged  \\\n",
       "ArchiveYear                                                                   \n",
       "2013                  16200.0            20288.0     162               34.0   \n",
       "2014                  11700.0             5620.0     117               10.0   \n",
       "2015                  15200.0             6394.0     152               25.0   \n",
       "2016                  18500.0             4293.0     185               47.0   \n",
       "2017                  43800.0             8468.0     438             3408.0   \n",
       "2018                  31600.0            13768.0     316              828.0   \n",
       "2019                  26300.0             8194.0     263              202.0   \n",
       "\n",
       "             StructuresDestroyed  StructuresEvacuated  StructuresThreatened  \\\n",
       "ArchiveYear                                                                   \n",
       "2013                       428.0                  0.0                 176.0   \n",
       "2014                       634.0                  0.0                2390.0   \n",
       "2015                       381.0                  0.0                  54.0   \n",
       "2016                       774.0                  0.0                5200.0   \n",
       "2017                     17961.0                  0.0                 545.0   \n",
       "2018                     26855.0                  0.0                7285.0   \n",
       "2019                       530.0                  0.0                  34.0   \n",
       "\n",
       "             WaterTenders  Transformed_AcresBurned  CALFIRE_AdminUnit  \n",
       "ArchiveYear                                                            \n",
       "2013                403.0              1110.300439                127  \n",
       "2014                 53.0               918.186165                 80  \n",
       "2015                105.0              1060.517940                107  \n",
       "2016                 68.0              1208.201240                125  \n",
       "2017                 85.0              2717.673585                301  \n",
       "2018                348.0              2125.846172                221  \n",
       "2019                 79.0              1622.993828                180  \n",
       "\n",
       "[7 rows x 25 columns]"
      ]
     },
     "execution_count": 637,
     "metadata": {},
     "output_type": "execute_result"
    }
   ],
   "source": [
    "# Create year wise data\n",
    "fire_year_df = df.groupby(['ArchiveYear']).sum()\n",
    "years = df['ArchiveYear'].unique()\n",
    "print(f\"Number of unique years in dataset: {years}\")\n",
    "fire_year_df.head(10)"
   ]
  },
  {
   "cell_type": "markdown",
   "metadata": {},
   "source": [
    "### AcresBurned, CalFireIncident, Fatalities, Structures Destroyed, PercentContained, Final, Public, StructuresDamaged\n",
    "### Above Features are max in the years of 2018 and 2017"
   ]
  },
  {
   "cell_type": "code",
   "execution_count": 638,
   "metadata": {},
   "outputs": [
    {
     "data": {
      "text/html": [
       "<div>\n",
       "<style scoped>\n",
       "    .dataframe tbody tr th:only-of-type {\n",
       "        vertical-align: middle;\n",
       "    }\n",
       "\n",
       "    .dataframe tbody tr th {\n",
       "        vertical-align: top;\n",
       "    }\n",
       "\n",
       "    .dataframe thead th {\n",
       "        text-align: right;\n",
       "    }\n",
       "</style>\n",
       "<table border=\"1\" class=\"dataframe\">\n",
       "  <thead>\n",
       "    <tr style=\"text-align: right;\">\n",
       "      <th></th>\n",
       "      <th>AcresBurned</th>\n",
       "      <th>Active</th>\n",
       "      <th>AdminUnit</th>\n",
       "      <th>AirTankers</th>\n",
       "      <th>ArchiveYear</th>\n",
       "      <th>CalFireIncident</th>\n",
       "      <th>CanonicalUrl</th>\n",
       "      <th>ConditionStatement</th>\n",
       "      <th>ControlStatement</th>\n",
       "      <th>Counties</th>\n",
       "      <th>...</th>\n",
       "      <th>Status</th>\n",
       "      <th>StructuresDamaged</th>\n",
       "      <th>StructuresDestroyed</th>\n",
       "      <th>StructuresEvacuated</th>\n",
       "      <th>StructuresThreatened</th>\n",
       "      <th>UniqueId</th>\n",
       "      <th>Updated</th>\n",
       "      <th>WaterTenders</th>\n",
       "      <th>Transformed_AcresBurned</th>\n",
       "      <th>CALFIRE_AdminUnit</th>\n",
       "    </tr>\n",
       "  </thead>\n",
       "  <tbody>\n",
       "    <tr>\n",
       "      <th>0</th>\n",
       "      <td>257314.0</td>\n",
       "      <td>False</td>\n",
       "      <td>Stanislaus National Forest/Yosemite National Park</td>\n",
       "      <td>NaN</td>\n",
       "      <td>2013</td>\n",
       "      <td>True</td>\n",
       "      <td>/incidents/2013/8/17/rim-fire/</td>\n",
       "      <td>NaN</td>\n",
       "      <td>NaN</td>\n",
       "      <td>Tuolumne</td>\n",
       "      <td>...</td>\n",
       "      <td>Finalized</td>\n",
       "      <td>NaN</td>\n",
       "      <td>NaN</td>\n",
       "      <td>NaN</td>\n",
       "      <td>NaN</td>\n",
       "      <td>5fb18d4d-213f-4d83-a179-daaf11939e78</td>\n",
       "      <td>2013-09-06T18:30:00Z</td>\n",
       "      <td>NaN</td>\n",
       "      <td>22.984556</td>\n",
       "      <td>0</td>\n",
       "    </tr>\n",
       "    <tr>\n",
       "      <th>1</th>\n",
       "      <td>30274.0</td>\n",
       "      <td>False</td>\n",
       "      <td>USFS Angeles National Forest/Los Angeles Count...</td>\n",
       "      <td>NaN</td>\n",
       "      <td>2013</td>\n",
       "      <td>True</td>\n",
       "      <td>/incidents/2013/5/30/powerhouse-fire/</td>\n",
       "      <td>NaN</td>\n",
       "      <td>NaN</td>\n",
       "      <td>Los Angeles</td>\n",
       "      <td>...</td>\n",
       "      <td>Finalized</td>\n",
       "      <td>NaN</td>\n",
       "      <td>NaN</td>\n",
       "      <td>NaN</td>\n",
       "      <td>NaN</td>\n",
       "      <td>bf37805e-1cc2-4208-9972-753e47874c87</td>\n",
       "      <td>2013-06-08T18:30:00Z</td>\n",
       "      <td>NaN</td>\n",
       "      <td>17.011379</td>\n",
       "      <td>1</td>\n",
       "    </tr>\n",
       "    <tr>\n",
       "      <th>2</th>\n",
       "      <td>27531.0</td>\n",
       "      <td>False</td>\n",
       "      <td>CAL FIRE Riverside Unit / San Bernardino Natio...</td>\n",
       "      <td>NaN</td>\n",
       "      <td>2013</td>\n",
       "      <td>True</td>\n",
       "      <td>/incidents/2013/7/15/mountain-fire/</td>\n",
       "      <td>NaN</td>\n",
       "      <td>NaN</td>\n",
       "      <td>Riverside</td>\n",
       "      <td>...</td>\n",
       "      <td>Finalized</td>\n",
       "      <td>NaN</td>\n",
       "      <td>NaN</td>\n",
       "      <td>NaN</td>\n",
       "      <td>NaN</td>\n",
       "      <td>a3149fec-4d48-427c-8b2c-59e8b79d59db</td>\n",
       "      <td>2013-07-30T18:00:00Z</td>\n",
       "      <td>NaN</td>\n",
       "      <td>16.772015</td>\n",
       "      <td>1</td>\n",
       "    </tr>\n",
       "    <tr>\n",
       "      <th>3</th>\n",
       "      <td>27440.0</td>\n",
       "      <td>False</td>\n",
       "      <td>Tahoe National Forest</td>\n",
       "      <td>NaN</td>\n",
       "      <td>2013</td>\n",
       "      <td>False</td>\n",
       "      <td>/incidents/2013/8/10/american-fire/</td>\n",
       "      <td>NaN</td>\n",
       "      <td>NaN</td>\n",
       "      <td>Placer</td>\n",
       "      <td>...</td>\n",
       "      <td>Finalized</td>\n",
       "      <td>NaN</td>\n",
       "      <td>NaN</td>\n",
       "      <td>NaN</td>\n",
       "      <td>NaN</td>\n",
       "      <td>8213f5c7-34fa-403b-a4bc-da2ace6e6625</td>\n",
       "      <td>2013-08-30T08:00:00Z</td>\n",
       "      <td>NaN</td>\n",
       "      <td>16.763708</td>\n",
       "      <td>0</td>\n",
       "    </tr>\n",
       "    <tr>\n",
       "      <th>4</th>\n",
       "      <td>24251.0</td>\n",
       "      <td>False</td>\n",
       "      <td>Ventura County Fire/CAL FIRE</td>\n",
       "      <td>NaN</td>\n",
       "      <td>2013</td>\n",
       "      <td>True</td>\n",
       "      <td>/incidents/2013/5/2/springs-fire/</td>\n",
       "      <td>Acreage has been reduced based upon more accur...</td>\n",
       "      <td>NaN</td>\n",
       "      <td>Ventura</td>\n",
       "      <td>...</td>\n",
       "      <td>Finalized</td>\n",
       "      <td>6.0</td>\n",
       "      <td>10.0</td>\n",
       "      <td>NaN</td>\n",
       "      <td>NaN</td>\n",
       "      <td>46731fb8-3350-4920-bdf7-910ac0eb715c</td>\n",
       "      <td>2013-05-11T06:30:00Z</td>\n",
       "      <td>11.0</td>\n",
       "      <td>16.455486</td>\n",
       "      <td>1</td>\n",
       "    </tr>\n",
       "  </tbody>\n",
       "</table>\n",
       "<p>5 rows × 42 columns</p>\n",
       "</div>"
      ],
      "text/plain": [
       "   AcresBurned  Active                                          AdminUnit  \\\n",
       "0     257314.0   False  Stanislaus National Forest/Yosemite National Park   \n",
       "1      30274.0   False  USFS Angeles National Forest/Los Angeles Count...   \n",
       "2      27531.0   False  CAL FIRE Riverside Unit / San Bernardino Natio...   \n",
       "3      27440.0   False                              Tahoe National Forest   \n",
       "4      24251.0   False                       Ventura County Fire/CAL FIRE   \n",
       "\n",
       "   AirTankers  ArchiveYear  CalFireIncident  \\\n",
       "0         NaN         2013             True   \n",
       "1         NaN         2013             True   \n",
       "2         NaN         2013             True   \n",
       "3         NaN         2013            False   \n",
       "4         NaN         2013             True   \n",
       "\n",
       "                            CanonicalUrl  \\\n",
       "0         /incidents/2013/8/17/rim-fire/   \n",
       "1  /incidents/2013/5/30/powerhouse-fire/   \n",
       "2    /incidents/2013/7/15/mountain-fire/   \n",
       "3    /incidents/2013/8/10/american-fire/   \n",
       "4      /incidents/2013/5/2/springs-fire/   \n",
       "\n",
       "                                  ConditionStatement ControlStatement  \\\n",
       "0                                                NaN              NaN   \n",
       "1                                                NaN              NaN   \n",
       "2                                                NaN              NaN   \n",
       "3                                                NaN              NaN   \n",
       "4  Acreage has been reduced based upon more accur...              NaN   \n",
       "\n",
       "      Counties  ...     Status  StructuresDamaged  StructuresDestroyed  \\\n",
       "0     Tuolumne  ...  Finalized                NaN                  NaN   \n",
       "1  Los Angeles  ...  Finalized                NaN                  NaN   \n",
       "2    Riverside  ...  Finalized                NaN                  NaN   \n",
       "3       Placer  ...  Finalized                NaN                  NaN   \n",
       "4      Ventura  ...  Finalized                6.0                 10.0   \n",
       "\n",
       "   StructuresEvacuated StructuresThreatened  \\\n",
       "0                  NaN                  NaN   \n",
       "1                  NaN                  NaN   \n",
       "2                  NaN                  NaN   \n",
       "3                  NaN                  NaN   \n",
       "4                  NaN                  NaN   \n",
       "\n",
       "                               UniqueId               Updated  WaterTenders  \\\n",
       "0  5fb18d4d-213f-4d83-a179-daaf11939e78  2013-09-06T18:30:00Z           NaN   \n",
       "1  bf37805e-1cc2-4208-9972-753e47874c87  2013-06-08T18:30:00Z           NaN   \n",
       "2  a3149fec-4d48-427c-8b2c-59e8b79d59db  2013-07-30T18:00:00Z           NaN   \n",
       "3  8213f5c7-34fa-403b-a4bc-da2ace6e6625  2013-08-30T08:00:00Z           NaN   \n",
       "4  46731fb8-3350-4920-bdf7-910ac0eb715c  2013-05-11T06:30:00Z          11.0   \n",
       "\n",
       "  Transformed_AcresBurned  CALFIRE_AdminUnit  \n",
       "0               22.984556                  0  \n",
       "1               17.011379                  1  \n",
       "2               16.772015                  1  \n",
       "3               16.763708                  0  \n",
       "4               16.455486                  1  \n",
       "\n",
       "[5 rows x 42 columns]"
      ]
     },
     "execution_count": 638,
     "metadata": {},
     "output_type": "execute_result"
    }
   ],
   "source": [
    "df.head()"
   ]
  },
  {
   "cell_type": "markdown",
   "metadata": {},
   "source": [
    "## CalFireIncident"
   ]
  },
  {
   "cell_type": "code",
   "execution_count": 639,
   "metadata": {},
   "outputs": [
    {
     "data": {
      "text/plain": [
       "0"
      ]
     },
     "execution_count": 639,
     "metadata": {},
     "output_type": "execute_result"
    }
   ],
   "source": [
    "df['CalFireIncident'].isna().sum()"
   ]
  },
  {
   "cell_type": "code",
   "execution_count": 640,
   "metadata": {},
   "outputs": [
    {
     "name": "stderr",
     "output_type": "stream",
     "text": [
      "C:\\Users\\jiten\\anaconda3\\lib\\site-packages\\seaborn\\_decorators.py:36: FutureWarning: Pass the following variable as a keyword arg: x. From version 0.12, the only valid positional argument will be `data`, and passing other arguments without an explicit keyword will result in an error or misinterpretation.\n",
      "  warnings.warn(\n"
     ]
    },
    {
     "data": {
      "text/plain": [
       "<AxesSubplot:xlabel='CalFireIncident', ylabel='count'>"
      ]
     },
     "execution_count": 640,
     "metadata": {},
     "output_type": "execute_result"
    },
    {
     "data": {
      "image/png": "[encoded data removed]",
      "text/plain": [
       "<Figure size 432x288 with 1 Axes>"
      ]
     },
     "metadata": {
      "needs_background": "light"
     },
     "output_type": "display_data"
    }
   ],
   "source": [
    "sns.countplot(df['CalFireIncident'])"
   ]
  },
  {
   "cell_type": "markdown",
   "metadata": {},
   "source": [
    "### Crews incase of CalFireIncident are involved slightly less than non CalFireIncident"
   ]
  },
  {
   "cell_type": "code",
   "execution_count": 641,
   "metadata": {},
   "outputs": [
    {
     "data": {
      "text/plain": [
       "<AxesSubplot:xlabel='CalFireIncident', ylabel='CrewsInvolved'>"
      ]
     },
     "execution_count": 641,
     "metadata": {},
     "output_type": "execute_result"
    },
    {
     "data": {
      "image/png": "[encoded data removed]",
      "text/plain": [
       "<Figure size 432x288 with 1 Axes>"
      ]
     },
     "metadata": {
      "needs_background": "light"
     },
     "output_type": "display_data"
    }
   ],
   "source": [
    "sns.barplot(x='CalFireIncident', y='CrewsInvolved', data=df)"
   ]
  },
  {
   "cell_type": "code",
   "execution_count": 642,
   "metadata": {},
   "outputs": [
    {
     "data": {
      "text/html": [
       "<div>\n",
       "<style scoped>\n",
       "    .dataframe tbody tr th:only-of-type {\n",
       "        vertical-align: middle;\n",
       "    }\n",
       "\n",
       "    .dataframe tbody tr th {\n",
       "        vertical-align: top;\n",
       "    }\n",
       "\n",
       "    .dataframe thead th {\n",
       "        text-align: right;\n",
       "    }\n",
       "</style>\n",
       "<table border=\"1\" class=\"dataframe\">\n",
       "  <thead>\n",
       "    <tr style=\"text-align: right;\">\n",
       "      <th></th>\n",
       "      <th>AcresBurned</th>\n",
       "      <th>Active</th>\n",
       "      <th>AdminUnit</th>\n",
       "      <th>AirTankers</th>\n",
       "      <th>ArchiveYear</th>\n",
       "      <th>CalFireIncident</th>\n",
       "      <th>CanonicalUrl</th>\n",
       "      <th>ConditionStatement</th>\n",
       "      <th>ControlStatement</th>\n",
       "      <th>Counties</th>\n",
       "      <th>...</th>\n",
       "      <th>Status</th>\n",
       "      <th>StructuresDamaged</th>\n",
       "      <th>StructuresDestroyed</th>\n",
       "      <th>StructuresEvacuated</th>\n",
       "      <th>StructuresThreatened</th>\n",
       "      <th>UniqueId</th>\n",
       "      <th>Updated</th>\n",
       "      <th>WaterTenders</th>\n",
       "      <th>Transformed_AcresBurned</th>\n",
       "      <th>CALFIRE_AdminUnit</th>\n",
       "    </tr>\n",
       "  </thead>\n",
       "  <tbody>\n",
       "    <tr>\n",
       "      <th>0</th>\n",
       "      <td>257314.0</td>\n",
       "      <td>False</td>\n",
       "      <td>Stanislaus National Forest/Yosemite National Park</td>\n",
       "      <td>NaN</td>\n",
       "      <td>2013</td>\n",
       "      <td>True</td>\n",
       "      <td>/incidents/2013/8/17/rim-fire/</td>\n",
       "      <td>NaN</td>\n",
       "      <td>NaN</td>\n",
       "      <td>Tuolumne</td>\n",
       "      <td>...</td>\n",
       "      <td>Finalized</td>\n",
       "      <td>NaN</td>\n",
       "      <td>NaN</td>\n",
       "      <td>NaN</td>\n",
       "      <td>NaN</td>\n",
       "      <td>5fb18d4d-213f-4d83-a179-daaf11939e78</td>\n",
       "      <td>2013-09-06T18:30:00Z</td>\n",
       "      <td>NaN</td>\n",
       "      <td>22.984556</td>\n",
       "      <td>0</td>\n",
       "    </tr>\n",
       "    <tr>\n",
       "      <th>1</th>\n",
       "      <td>30274.0</td>\n",
       "      <td>False</td>\n",
       "      <td>USFS Angeles National Forest/Los Angeles Count...</td>\n",
       "      <td>NaN</td>\n",
       "      <td>2013</td>\n",
       "      <td>True</td>\n",
       "      <td>/incidents/2013/5/30/powerhouse-fire/</td>\n",
       "      <td>NaN</td>\n",
       "      <td>NaN</td>\n",
       "      <td>Los Angeles</td>\n",
       "      <td>...</td>\n",
       "      <td>Finalized</td>\n",
       "      <td>NaN</td>\n",
       "      <td>NaN</td>\n",
       "      <td>NaN</td>\n",
       "      <td>NaN</td>\n",
       "      <td>bf37805e-1cc2-4208-9972-753e47874c87</td>\n",
       "      <td>2013-06-08T18:30:00Z</td>\n",
       "      <td>NaN</td>\n",
       "      <td>17.011379</td>\n",
       "      <td>1</td>\n",
       "    </tr>\n",
       "    <tr>\n",
       "      <th>2</th>\n",
       "      <td>27531.0</td>\n",
       "      <td>False</td>\n",
       "      <td>CAL FIRE Riverside Unit / San Bernardino Natio...</td>\n",
       "      <td>NaN</td>\n",
       "      <td>2013</td>\n",
       "      <td>True</td>\n",
       "      <td>/incidents/2013/7/15/mountain-fire/</td>\n",
       "      <td>NaN</td>\n",
       "      <td>NaN</td>\n",
       "      <td>Riverside</td>\n",
       "      <td>...</td>\n",
       "      <td>Finalized</td>\n",
       "      <td>NaN</td>\n",
       "      <td>NaN</td>\n",
       "      <td>NaN</td>\n",
       "      <td>NaN</td>\n",
       "      <td>a3149fec-4d48-427c-8b2c-59e8b79d59db</td>\n",
       "      <td>2013-07-30T18:00:00Z</td>\n",
       "      <td>NaN</td>\n",
       "      <td>16.772015</td>\n",
       "      <td>1</td>\n",
       "    </tr>\n",
       "    <tr>\n",
       "      <th>3</th>\n",
       "      <td>27440.0</td>\n",
       "      <td>False</td>\n",
       "      <td>Tahoe National Forest</td>\n",
       "      <td>NaN</td>\n",
       "      <td>2013</td>\n",
       "      <td>False</td>\n",
       "      <td>/incidents/2013/8/10/american-fire/</td>\n",
       "      <td>NaN</td>\n",
       "      <td>NaN</td>\n",
       "      <td>Placer</td>\n",
       "      <td>...</td>\n",
       "      <td>Finalized</td>\n",
       "      <td>NaN</td>\n",
       "      <td>NaN</td>\n",
       "      <td>NaN</td>\n",
       "      <td>NaN</td>\n",
       "      <td>8213f5c7-34fa-403b-a4bc-da2ace6e6625</td>\n",
       "      <td>2013-08-30T08:00:00Z</td>\n",
       "      <td>NaN</td>\n",
       "      <td>16.763708</td>\n",
       "      <td>0</td>\n",
       "    </tr>\n",
       "    <tr>\n",
       "      <th>4</th>\n",
       "      <td>24251.0</td>\n",
       "      <td>False</td>\n",
       "      <td>Ventura County Fire/CAL FIRE</td>\n",
       "      <td>NaN</td>\n",
       "      <td>2013</td>\n",
       "      <td>True</td>\n",
       "      <td>/incidents/2013/5/2/springs-fire/</td>\n",
       "      <td>Acreage has been reduced based upon more accur...</td>\n",
       "      <td>NaN</td>\n",
       "      <td>Ventura</td>\n",
       "      <td>...</td>\n",
       "      <td>Finalized</td>\n",
       "      <td>6.0</td>\n",
       "      <td>10.0</td>\n",
       "      <td>NaN</td>\n",
       "      <td>NaN</td>\n",
       "      <td>46731fb8-3350-4920-bdf7-910ac0eb715c</td>\n",
       "      <td>2013-05-11T06:30:00Z</td>\n",
       "      <td>11.0</td>\n",
       "      <td>16.455486</td>\n",
       "      <td>1</td>\n",
       "    </tr>\n",
       "  </tbody>\n",
       "</table>\n",
       "<p>5 rows × 42 columns</p>\n",
       "</div>"
      ],
      "text/plain": [
       "   AcresBurned  Active                                          AdminUnit  \\\n",
       "0     257314.0   False  Stanislaus National Forest/Yosemite National Park   \n",
       "1      30274.0   False  USFS Angeles National Forest/Los Angeles Count...   \n",
       "2      27531.0   False  CAL FIRE Riverside Unit / San Bernardino Natio...   \n",
       "3      27440.0   False                              Tahoe National Forest   \n",
       "4      24251.0   False                       Ventura County Fire/CAL FIRE   \n",
       "\n",
       "   AirTankers  ArchiveYear  CalFireIncident  \\\n",
       "0         NaN         2013             True   \n",
       "1         NaN         2013             True   \n",
       "2         NaN         2013             True   \n",
       "3         NaN         2013            False   \n",
       "4         NaN         2013             True   \n",
       "\n",
       "                            CanonicalUrl  \\\n",
       "0         /incidents/2013/8/17/rim-fire/   \n",
       "1  /incidents/2013/5/30/powerhouse-fire/   \n",
       "2    /incidents/2013/7/15/mountain-fire/   \n",
       "3    /incidents/2013/8/10/american-fire/   \n",
       "4      /incidents/2013/5/2/springs-fire/   \n",
       "\n",
       "                                  ConditionStatement ControlStatement  \\\n",
       "0                                                NaN              NaN   \n",
       "1                                                NaN              NaN   \n",
       "2                                                NaN              NaN   \n",
       "3                                                NaN              NaN   \n",
       "4  Acreage has been reduced based upon more accur...              NaN   \n",
       "\n",
       "      Counties  ...     Status  StructuresDamaged  StructuresDestroyed  \\\n",
       "0     Tuolumne  ...  Finalized                NaN                  NaN   \n",
       "1  Los Angeles  ...  Finalized                NaN                  NaN   \n",
       "2    Riverside  ...  Finalized                NaN                  NaN   \n",
       "3       Placer  ...  Finalized                NaN                  NaN   \n",
       "4      Ventura  ...  Finalized                6.0                 10.0   \n",
       "\n",
       "   StructuresEvacuated StructuresThreatened  \\\n",
       "0                  NaN                  NaN   \n",
       "1                  NaN                  NaN   \n",
       "2                  NaN                  NaN   \n",
       "3                  NaN                  NaN   \n",
       "4                  NaN                  NaN   \n",
       "\n",
       "                               UniqueId               Updated  WaterTenders  \\\n",
       "0  5fb18d4d-213f-4d83-a179-daaf11939e78  2013-09-06T18:30:00Z           NaN   \n",
       "1  bf37805e-1cc2-4208-9972-753e47874c87  2013-06-08T18:30:00Z           NaN   \n",
       "2  a3149fec-4d48-427c-8b2c-59e8b79d59db  2013-07-30T18:00:00Z           NaN   \n",
       "3  8213f5c7-34fa-403b-a4bc-da2ace6e6625  2013-08-30T08:00:00Z           NaN   \n",
       "4  46731fb8-3350-4920-bdf7-910ac0eb715c  2013-05-11T06:30:00Z          11.0   \n",
       "\n",
       "  Transformed_AcresBurned  CALFIRE_AdminUnit  \n",
       "0               22.984556                  0  \n",
       "1               17.011379                  1  \n",
       "2               16.772015                  1  \n",
       "3               16.763708                  0  \n",
       "4               16.455486                  1  \n",
       "\n",
       "[5 rows x 42 columns]"
      ]
     },
     "execution_count": 642,
     "metadata": {},
     "output_type": "execute_result"
    }
   ],
   "source": [
    "df.head()"
   ]
  },
  {
   "cell_type": "markdown",
   "metadata": {},
   "source": [
    "## CanonicalUrl"
   ]
  },
  {
   "cell_type": "code",
   "execution_count": 643,
   "metadata": {},
   "outputs": [
    {
     "data": {
      "text/plain": [
       "0"
      ]
     },
     "execution_count": 643,
     "metadata": {},
     "output_type": "execute_result"
    }
   ],
   "source": [
    "df['CanonicalUrl'].isna().sum()"
   ]
  },
  {
   "cell_type": "code",
   "execution_count": 644,
   "metadata": {},
   "outputs": [
    {
     "data": {
      "text/plain": [
       "0           /incidents/2013/8/17/rim-fire/\n",
       "1    /incidents/2013/5/30/powerhouse-fire/\n",
       "2      /incidents/2013/7/15/mountain-fire/\n",
       "3      /incidents/2013/8/10/american-fire/\n",
       "4        /incidents/2013/5/2/springs-fire/\n",
       "Name: CanonicalUrl, dtype: object"
      ]
     },
     "execution_count": 644,
     "metadata": {},
     "output_type": "execute_result"
    }
   ],
   "source": [
    "df['CanonicalUrl'].head()"
   ]
  },
  {
   "cell_type": "markdown",
   "metadata": {},
   "source": [
    "### Create a new Feature Fire_Type from CanonicalUrl\n",
    "### Getting Archive Month and Archive Day from CanonicalUrl"
   ]
  },
  {
   "cell_type": "code",
   "execution_count": 645,
   "metadata": {},
   "outputs": [
    {
     "data": {
      "text/plain": [
       "'rim'"
      ]
     },
     "execution_count": 645,
     "metadata": {},
     "output_type": "execute_result"
    }
   ],
   "source": [
    "a = 'incidents/2013/8/17/rim-fire/'\n",
    "a.split('/')[-2].lower().replace('-fire','')"
   ]
  },
  {
   "cell_type": "code",
   "execution_count": 646,
   "metadata": {},
   "outputs": [
    {
     "data": {
      "text/plain": [
       "'17'"
      ]
     },
     "execution_count": 646,
     "metadata": {},
     "output_type": "execute_result"
    }
   ],
   "source": [
    "a.split('/')[3]"
   ]
  },
  {
   "cell_type": "code",
   "execution_count": 647,
   "metadata": {},
   "outputs": [
    {
     "data": {
      "text/plain": [
       "'8'"
      ]
     },
     "execution_count": 647,
     "metadata": {},
     "output_type": "execute_result"
    }
   ],
   "source": [
    "a.split('/')[2]"
   ]
  },
  {
   "cell_type": "markdown",
   "metadata": {},
   "source": [
    "### Creating new Cols"
   ]
  },
  {
   "cell_type": "code",
   "execution_count": 648,
   "metadata": {},
   "outputs": [],
   "source": [
    "df['ArchiveMonth'] = df['CanonicalUrl'].apply(lambda x: int(x.split('/')[3]))\n",
    "\n",
    "df['ArchiveDay'] = df['CanonicalUrl'].apply(lambda x: int(x.split('/')[4]))\n",
    "\n",
    "df['Fire_Type'] = df['CanonicalUrl'].apply(lambda x: x.split('/')[-2].lower().replace('-fire', ''))"
   ]
  },
  {
   "cell_type": "markdown",
   "metadata": {},
   "source": [
    "### Checking New Cols"
   ]
  },
  {
   "cell_type": "code",
   "execution_count": 649,
   "metadata": {},
   "outputs": [
    {
     "data": {
      "text/html": [
       "<div>\n",
       "<style scoped>\n",
       "    .dataframe tbody tr th:only-of-type {\n",
       "        vertical-align: middle;\n",
       "    }\n",
       "\n",
       "    .dataframe tbody tr th {\n",
       "        vertical-align: top;\n",
       "    }\n",
       "\n",
       "    .dataframe thead th {\n",
       "        text-align: right;\n",
       "    }\n",
       "</style>\n",
       "<table border=\"1\" class=\"dataframe\">\n",
       "  <thead>\n",
       "    <tr style=\"text-align: right;\">\n",
       "      <th></th>\n",
       "      <th>ArchiveDay</th>\n",
       "      <th>ArchiveMonth</th>\n",
       "      <th>ArchiveYear</th>\n",
       "      <th>Fire_Type</th>\n",
       "    </tr>\n",
       "  </thead>\n",
       "  <tbody>\n",
       "    <tr>\n",
       "      <th>0</th>\n",
       "      <td>17</td>\n",
       "      <td>8</td>\n",
       "      <td>2013</td>\n",
       "      <td>rim</td>\n",
       "    </tr>\n",
       "    <tr>\n",
       "      <th>1</th>\n",
       "      <td>30</td>\n",
       "      <td>5</td>\n",
       "      <td>2013</td>\n",
       "      <td>powerhouse</td>\n",
       "    </tr>\n",
       "    <tr>\n",
       "      <th>2</th>\n",
       "      <td>15</td>\n",
       "      <td>7</td>\n",
       "      <td>2013</td>\n",
       "      <td>mountain</td>\n",
       "    </tr>\n",
       "    <tr>\n",
       "      <th>3</th>\n",
       "      <td>10</td>\n",
       "      <td>8</td>\n",
       "      <td>2013</td>\n",
       "      <td>american</td>\n",
       "    </tr>\n",
       "    <tr>\n",
       "      <th>4</th>\n",
       "      <td>2</td>\n",
       "      <td>5</td>\n",
       "      <td>2013</td>\n",
       "      <td>springs</td>\n",
       "    </tr>\n",
       "  </tbody>\n",
       "</table>\n",
       "</div>"
      ],
      "text/plain": [
       "   ArchiveDay  ArchiveMonth  ArchiveYear   Fire_Type\n",
       "0          17             8         2013         rim\n",
       "1          30             5         2013  powerhouse\n",
       "2          15             7         2013    mountain\n",
       "3          10             8         2013    american\n",
       "4           2             5         2013     springs"
      ]
     },
     "execution_count": 649,
     "metadata": {},
     "output_type": "execute_result"
    }
   ],
   "source": [
    "df[['ArchiveDay', 'ArchiveMonth', 'ArchiveYear', 'Fire_Type']].head()"
   ]
  },
  {
   "cell_type": "code",
   "execution_count": 650,
   "metadata": {},
   "outputs": [
    {
     "data": {
      "text/plain": [
       "1156"
      ]
     },
     "execution_count": 650,
     "metadata": {},
     "output_type": "execute_result"
    }
   ],
   "source": [
    "len(df['Fire_Type'].unique())"
   ]
  },
  {
   "cell_type": "code",
   "execution_count": 651,
   "metadata": {},
   "outputs": [
    {
     "data": {
      "text/plain": [
       "creek        16\n",
       "lake         11\n",
       "oak          10\n",
       "canyon       10\n",
       "willow        7\n",
       "             ..\n",
       "kuehner       1\n",
       "dockery       1\n",
       "boys          1\n",
       "evergreen     1\n",
       "cana          1\n",
       "Name: Fire_Type, Length: 1156, dtype: int64"
      ]
     },
     "execution_count": 651,
     "metadata": {},
     "output_type": "execute_result"
    }
   ],
   "source": [
    "df['Fire_Type'].value_counts()"
   ]
  },
  {
   "cell_type": "code",
   "execution_count": 652,
   "metadata": {},
   "outputs": [
    {
     "data": {
      "text/html": [
       "<div>\n",
       "<style scoped>\n",
       "    .dataframe tbody tr th:only-of-type {\n",
       "        vertical-align: middle;\n",
       "    }\n",
       "\n",
       "    .dataframe tbody tr th {\n",
       "        vertical-align: top;\n",
       "    }\n",
       "\n",
       "    .dataframe thead th {\n",
       "        text-align: right;\n",
       "    }\n",
       "</style>\n",
       "<table border=\"1\" class=\"dataframe\">\n",
       "  <thead>\n",
       "    <tr style=\"text-align: right;\">\n",
       "      <th></th>\n",
       "      <th>AcresBurned</th>\n",
       "      <th>Active</th>\n",
       "      <th>AdminUnit</th>\n",
       "      <th>AirTankers</th>\n",
       "      <th>ArchiveYear</th>\n",
       "      <th>CalFireIncident</th>\n",
       "      <th>CanonicalUrl</th>\n",
       "      <th>ConditionStatement</th>\n",
       "      <th>ControlStatement</th>\n",
       "      <th>Counties</th>\n",
       "      <th>...</th>\n",
       "      <th>StructuresEvacuated</th>\n",
       "      <th>StructuresThreatened</th>\n",
       "      <th>UniqueId</th>\n",
       "      <th>Updated</th>\n",
       "      <th>WaterTenders</th>\n",
       "      <th>Transformed_AcresBurned</th>\n",
       "      <th>CALFIRE_AdminUnit</th>\n",
       "      <th>ArchiveMonth</th>\n",
       "      <th>ArchiveDay</th>\n",
       "      <th>Fire_Type</th>\n",
       "    </tr>\n",
       "  </thead>\n",
       "  <tbody>\n",
       "    <tr>\n",
       "      <th>0</th>\n",
       "      <td>257314.0</td>\n",
       "      <td>False</td>\n",
       "      <td>Stanislaus National Forest/Yosemite National Park</td>\n",
       "      <td>NaN</td>\n",
       "      <td>2013</td>\n",
       "      <td>True</td>\n",
       "      <td>/incidents/2013/8/17/rim-fire/</td>\n",
       "      <td>NaN</td>\n",
       "      <td>NaN</td>\n",
       "      <td>Tuolumne</td>\n",
       "      <td>...</td>\n",
       "      <td>NaN</td>\n",
       "      <td>NaN</td>\n",
       "      <td>5fb18d4d-213f-4d83-a179-daaf11939e78</td>\n",
       "      <td>2013-09-06T18:30:00Z</td>\n",
       "      <td>NaN</td>\n",
       "      <td>22.984556</td>\n",
       "      <td>0</td>\n",
       "      <td>8</td>\n",
       "      <td>17</td>\n",
       "      <td>rim</td>\n",
       "    </tr>\n",
       "    <tr>\n",
       "      <th>1</th>\n",
       "      <td>30274.0</td>\n",
       "      <td>False</td>\n",
       "      <td>USFS Angeles National Forest/Los Angeles Count...</td>\n",
       "      <td>NaN</td>\n",
       "      <td>2013</td>\n",
       "      <td>True</td>\n",
       "      <td>/incidents/2013/5/30/powerhouse-fire/</td>\n",
       "      <td>NaN</td>\n",
       "      <td>NaN</td>\n",
       "      <td>Los Angeles</td>\n",
       "      <td>...</td>\n",
       "      <td>NaN</td>\n",
       "      <td>NaN</td>\n",
       "      <td>bf37805e-1cc2-4208-9972-753e47874c87</td>\n",
       "      <td>2013-06-08T18:30:00Z</td>\n",
       "      <td>NaN</td>\n",
       "      <td>17.011379</td>\n",
       "      <td>1</td>\n",
       "      <td>5</td>\n",
       "      <td>30</td>\n",
       "      <td>powerhouse</td>\n",
       "    </tr>\n",
       "    <tr>\n",
       "      <th>2</th>\n",
       "      <td>27531.0</td>\n",
       "      <td>False</td>\n",
       "      <td>CAL FIRE Riverside Unit / San Bernardino Natio...</td>\n",
       "      <td>NaN</td>\n",
       "      <td>2013</td>\n",
       "      <td>True</td>\n",
       "      <td>/incidents/2013/7/15/mountain-fire/</td>\n",
       "      <td>NaN</td>\n",
       "      <td>NaN</td>\n",
       "      <td>Riverside</td>\n",
       "      <td>...</td>\n",
       "      <td>NaN</td>\n",
       "      <td>NaN</td>\n",
       "      <td>a3149fec-4d48-427c-8b2c-59e8b79d59db</td>\n",
       "      <td>2013-07-30T18:00:00Z</td>\n",
       "      <td>NaN</td>\n",
       "      <td>16.772015</td>\n",
       "      <td>1</td>\n",
       "      <td>7</td>\n",
       "      <td>15</td>\n",
       "      <td>mountain</td>\n",
       "    </tr>\n",
       "    <tr>\n",
       "      <th>3</th>\n",
       "      <td>27440.0</td>\n",
       "      <td>False</td>\n",
       "      <td>Tahoe National Forest</td>\n",
       "      <td>NaN</td>\n",
       "      <td>2013</td>\n",
       "      <td>False</td>\n",
       "      <td>/incidents/2013/8/10/american-fire/</td>\n",
       "      <td>NaN</td>\n",
       "      <td>NaN</td>\n",
       "      <td>Placer</td>\n",
       "      <td>...</td>\n",
       "      <td>NaN</td>\n",
       "      <td>NaN</td>\n",
       "      <td>8213f5c7-34fa-403b-a4bc-da2ace6e6625</td>\n",
       "      <td>2013-08-30T08:00:00Z</td>\n",
       "      <td>NaN</td>\n",
       "      <td>16.763708</td>\n",
       "      <td>0</td>\n",
       "      <td>8</td>\n",
       "      <td>10</td>\n",
       "      <td>american</td>\n",
       "    </tr>\n",
       "    <tr>\n",
       "      <th>4</th>\n",
       "      <td>24251.0</td>\n",
       "      <td>False</td>\n",
       "      <td>Ventura County Fire/CAL FIRE</td>\n",
       "      <td>NaN</td>\n",
       "      <td>2013</td>\n",
       "      <td>True</td>\n",
       "      <td>/incidents/2013/5/2/springs-fire/</td>\n",
       "      <td>Acreage has been reduced based upon more accur...</td>\n",
       "      <td>NaN</td>\n",
       "      <td>Ventura</td>\n",
       "      <td>...</td>\n",
       "      <td>NaN</td>\n",
       "      <td>NaN</td>\n",
       "      <td>46731fb8-3350-4920-bdf7-910ac0eb715c</td>\n",
       "      <td>2013-05-11T06:30:00Z</td>\n",
       "      <td>11.0</td>\n",
       "      <td>16.455486</td>\n",
       "      <td>1</td>\n",
       "      <td>5</td>\n",
       "      <td>2</td>\n",
       "      <td>springs</td>\n",
       "    </tr>\n",
       "  </tbody>\n",
       "</table>\n",
       "<p>5 rows × 45 columns</p>\n",
       "</div>"
      ],
      "text/plain": [
       "   AcresBurned  Active                                          AdminUnit  \\\n",
       "0     257314.0   False  Stanislaus National Forest/Yosemite National Park   \n",
       "1      30274.0   False  USFS Angeles National Forest/Los Angeles Count...   \n",
       "2      27531.0   False  CAL FIRE Riverside Unit / San Bernardino Natio...   \n",
       "3      27440.0   False                              Tahoe National Forest   \n",
       "4      24251.0   False                       Ventura County Fire/CAL FIRE   \n",
       "\n",
       "   AirTankers  ArchiveYear  CalFireIncident  \\\n",
       "0         NaN         2013             True   \n",
       "1         NaN         2013             True   \n",
       "2         NaN         2013             True   \n",
       "3         NaN         2013            False   \n",
       "4         NaN         2013             True   \n",
       "\n",
       "                            CanonicalUrl  \\\n",
       "0         /incidents/2013/8/17/rim-fire/   \n",
       "1  /incidents/2013/5/30/powerhouse-fire/   \n",
       "2    /incidents/2013/7/15/mountain-fire/   \n",
       "3    /incidents/2013/8/10/american-fire/   \n",
       "4      /incidents/2013/5/2/springs-fire/   \n",
       "\n",
       "                                  ConditionStatement ControlStatement  \\\n",
       "0                                                NaN              NaN   \n",
       "1                                                NaN              NaN   \n",
       "2                                                NaN              NaN   \n",
       "3                                                NaN              NaN   \n",
       "4  Acreage has been reduced based upon more accur...              NaN   \n",
       "\n",
       "      Counties  ... StructuresEvacuated  StructuresThreatened  \\\n",
       "0     Tuolumne  ...                 NaN                   NaN   \n",
       "1  Los Angeles  ...                 NaN                   NaN   \n",
       "2    Riverside  ...                 NaN                   NaN   \n",
       "3       Placer  ...                 NaN                   NaN   \n",
       "4      Ventura  ...                 NaN                   NaN   \n",
       "\n",
       "                               UniqueId               Updated WaterTenders  \\\n",
       "0  5fb18d4d-213f-4d83-a179-daaf11939e78  2013-09-06T18:30:00Z          NaN   \n",
       "1  bf37805e-1cc2-4208-9972-753e47874c87  2013-06-08T18:30:00Z          NaN   \n",
       "2  a3149fec-4d48-427c-8b2c-59e8b79d59db  2013-07-30T18:00:00Z          NaN   \n",
       "3  8213f5c7-34fa-403b-a4bc-da2ace6e6625  2013-08-30T08:00:00Z          NaN   \n",
       "4  46731fb8-3350-4920-bdf7-910ac0eb715c  2013-05-11T06:30:00Z         11.0   \n",
       "\n",
       "   Transformed_AcresBurned  CALFIRE_AdminUnit  ArchiveMonth ArchiveDay  \\\n",
       "0                22.984556                  0             8         17   \n",
       "1                17.011379                  1             5         30   \n",
       "2                16.772015                  1             7         15   \n",
       "3                16.763708                  0             8         10   \n",
       "4                16.455486                  1             5          2   \n",
       "\n",
       "    Fire_Type  \n",
       "0         rim  \n",
       "1  powerhouse  \n",
       "2    mountain  \n",
       "3    american  \n",
       "4     springs  \n",
       "\n",
       "[5 rows x 45 columns]"
      ]
     },
     "execution_count": 652,
     "metadata": {},
     "output_type": "execute_result"
    }
   ],
   "source": [
    "df.head()"
   ]
  },
  {
   "cell_type": "markdown",
   "metadata": {},
   "source": [
    "## ConditionStatement"
   ]
  },
  {
   "cell_type": "code",
   "execution_count": 653,
   "metadata": {},
   "outputs": [
    {
     "data": {
      "text/plain": [
       "1350"
      ]
     },
     "execution_count": 653,
     "metadata": {},
     "output_type": "execute_result"
    }
   ],
   "source": [
    "df['ConditionStatement'].isna().sum()"
   ]
  },
  {
   "cell_type": "code",
   "execution_count": 654,
   "metadata": {},
   "outputs": [
    {
     "data": {
      "text/plain": [
       "257"
      ]
     },
     "execution_count": 654,
     "metadata": {},
     "output_type": "execute_result"
    }
   ],
   "source": [
    "df['ConditionStatement'].nunique()"
   ]
  },
  {
   "cell_type": "code",
   "execution_count": 655,
   "metadata": {},
   "outputs": [
    {
     "data": {
      "text/plain": [
       "'Fire suppression repair will continue throughout the weekend. Fireline personnel will continue mopping up the interior of the fire area until fully controlled. All hiking trails within the Ishi Wilderness are temporarily closed, but are scheduled to be reopened to the public this Saturday, August 31, 2013.'"
      ]
     },
     "execution_count": 655,
     "metadata": {},
     "output_type": "execute_result"
    }
   ],
   "source": [
    "df[df['ConditionStatement'].notna()]['ConditionStatement'].iloc[2]"
   ]
  },
  {
   "cell_type": "markdown",
   "metadata": {},
   "source": [
    "### After Examinig the feature it seems like headlines of a newspaper, or communication data"
   ]
  },
  {
   "cell_type": "code",
   "execution_count": 656,
   "metadata": {},
   "outputs": [
    {
     "data": {
      "text/html": [
       "<div>\n",
       "<style scoped>\n",
       "    .dataframe tbody tr th:only-of-type {\n",
       "        vertical-align: middle;\n",
       "    }\n",
       "\n",
       "    .dataframe tbody tr th {\n",
       "        vertical-align: top;\n",
       "    }\n",
       "\n",
       "    .dataframe thead th {\n",
       "        text-align: right;\n",
       "    }\n",
       "</style>\n",
       "<table border=\"1\" class=\"dataframe\">\n",
       "  <thead>\n",
       "    <tr style=\"text-align: right;\">\n",
       "      <th></th>\n",
       "      <th>AcresBurned</th>\n",
       "      <th>Active</th>\n",
       "      <th>AdminUnit</th>\n",
       "      <th>AirTankers</th>\n",
       "      <th>ArchiveYear</th>\n",
       "      <th>CalFireIncident</th>\n",
       "      <th>CanonicalUrl</th>\n",
       "      <th>ConditionStatement</th>\n",
       "      <th>ControlStatement</th>\n",
       "      <th>Counties</th>\n",
       "      <th>...</th>\n",
       "      <th>StructuresEvacuated</th>\n",
       "      <th>StructuresThreatened</th>\n",
       "      <th>UniqueId</th>\n",
       "      <th>Updated</th>\n",
       "      <th>WaterTenders</th>\n",
       "      <th>Transformed_AcresBurned</th>\n",
       "      <th>CALFIRE_AdminUnit</th>\n",
       "      <th>ArchiveMonth</th>\n",
       "      <th>ArchiveDay</th>\n",
       "      <th>Fire_Type</th>\n",
       "    </tr>\n",
       "  </thead>\n",
       "  <tbody>\n",
       "    <tr>\n",
       "      <th>0</th>\n",
       "      <td>257314.0</td>\n",
       "      <td>False</td>\n",
       "      <td>Stanislaus National Forest/Yosemite National Park</td>\n",
       "      <td>NaN</td>\n",
       "      <td>2013</td>\n",
       "      <td>True</td>\n",
       "      <td>/incidents/2013/8/17/rim-fire/</td>\n",
       "      <td>NaN</td>\n",
       "      <td>NaN</td>\n",
       "      <td>Tuolumne</td>\n",
       "      <td>...</td>\n",
       "      <td>NaN</td>\n",
       "      <td>NaN</td>\n",
       "      <td>5fb18d4d-213f-4d83-a179-daaf11939e78</td>\n",
       "      <td>2013-09-06T18:30:00Z</td>\n",
       "      <td>NaN</td>\n",
       "      <td>22.984556</td>\n",
       "      <td>0</td>\n",
       "      <td>8</td>\n",
       "      <td>17</td>\n",
       "      <td>rim</td>\n",
       "    </tr>\n",
       "    <tr>\n",
       "      <th>1</th>\n",
       "      <td>30274.0</td>\n",
       "      <td>False</td>\n",
       "      <td>USFS Angeles National Forest/Los Angeles Count...</td>\n",
       "      <td>NaN</td>\n",
       "      <td>2013</td>\n",
       "      <td>True</td>\n",
       "      <td>/incidents/2013/5/30/powerhouse-fire/</td>\n",
       "      <td>NaN</td>\n",
       "      <td>NaN</td>\n",
       "      <td>Los Angeles</td>\n",
       "      <td>...</td>\n",
       "      <td>NaN</td>\n",
       "      <td>NaN</td>\n",
       "      <td>bf37805e-1cc2-4208-9972-753e47874c87</td>\n",
       "      <td>2013-06-08T18:30:00Z</td>\n",
       "      <td>NaN</td>\n",
       "      <td>17.011379</td>\n",
       "      <td>1</td>\n",
       "      <td>5</td>\n",
       "      <td>30</td>\n",
       "      <td>powerhouse</td>\n",
       "    </tr>\n",
       "    <tr>\n",
       "      <th>2</th>\n",
       "      <td>27531.0</td>\n",
       "      <td>False</td>\n",
       "      <td>CAL FIRE Riverside Unit / San Bernardino Natio...</td>\n",
       "      <td>NaN</td>\n",
       "      <td>2013</td>\n",
       "      <td>True</td>\n",
       "      <td>/incidents/2013/7/15/mountain-fire/</td>\n",
       "      <td>NaN</td>\n",
       "      <td>NaN</td>\n",
       "      <td>Riverside</td>\n",
       "      <td>...</td>\n",
       "      <td>NaN</td>\n",
       "      <td>NaN</td>\n",
       "      <td>a3149fec-4d48-427c-8b2c-59e8b79d59db</td>\n",
       "      <td>2013-07-30T18:00:00Z</td>\n",
       "      <td>NaN</td>\n",
       "      <td>16.772015</td>\n",
       "      <td>1</td>\n",
       "      <td>7</td>\n",
       "      <td>15</td>\n",
       "      <td>mountain</td>\n",
       "    </tr>\n",
       "    <tr>\n",
       "      <th>3</th>\n",
       "      <td>27440.0</td>\n",
       "      <td>False</td>\n",
       "      <td>Tahoe National Forest</td>\n",
       "      <td>NaN</td>\n",
       "      <td>2013</td>\n",
       "      <td>False</td>\n",
       "      <td>/incidents/2013/8/10/american-fire/</td>\n",
       "      <td>NaN</td>\n",
       "      <td>NaN</td>\n",
       "      <td>Placer</td>\n",
       "      <td>...</td>\n",
       "      <td>NaN</td>\n",
       "      <td>NaN</td>\n",
       "      <td>8213f5c7-34fa-403b-a4bc-da2ace6e6625</td>\n",
       "      <td>2013-08-30T08:00:00Z</td>\n",
       "      <td>NaN</td>\n",
       "      <td>16.763708</td>\n",
       "      <td>0</td>\n",
       "      <td>8</td>\n",
       "      <td>10</td>\n",
       "      <td>american</td>\n",
       "    </tr>\n",
       "    <tr>\n",
       "      <th>4</th>\n",
       "      <td>24251.0</td>\n",
       "      <td>False</td>\n",
       "      <td>Ventura County Fire/CAL FIRE</td>\n",
       "      <td>NaN</td>\n",
       "      <td>2013</td>\n",
       "      <td>True</td>\n",
       "      <td>/incidents/2013/5/2/springs-fire/</td>\n",
       "      <td>Acreage has been reduced based upon more accur...</td>\n",
       "      <td>NaN</td>\n",
       "      <td>Ventura</td>\n",
       "      <td>...</td>\n",
       "      <td>NaN</td>\n",
       "      <td>NaN</td>\n",
       "      <td>46731fb8-3350-4920-bdf7-910ac0eb715c</td>\n",
       "      <td>2013-05-11T06:30:00Z</td>\n",
       "      <td>11.0</td>\n",
       "      <td>16.455486</td>\n",
       "      <td>1</td>\n",
       "      <td>5</td>\n",
       "      <td>2</td>\n",
       "      <td>springs</td>\n",
       "    </tr>\n",
       "  </tbody>\n",
       "</table>\n",
       "<p>5 rows × 45 columns</p>\n",
       "</div>"
      ],
      "text/plain": [
       "   AcresBurned  Active                                          AdminUnit  \\\n",
       "0     257314.0   False  Stanislaus National Forest/Yosemite National Park   \n",
       "1      30274.0   False  USFS Angeles National Forest/Los Angeles Count...   \n",
       "2      27531.0   False  CAL FIRE Riverside Unit / San Bernardino Natio...   \n",
       "3      27440.0   False                              Tahoe National Forest   \n",
       "4      24251.0   False                       Ventura County Fire/CAL FIRE   \n",
       "\n",
       "   AirTankers  ArchiveYear  CalFireIncident  \\\n",
       "0         NaN         2013             True   \n",
       "1         NaN         2013             True   \n",
       "2         NaN         2013             True   \n",
       "3         NaN         2013            False   \n",
       "4         NaN         2013             True   \n",
       "\n",
       "                            CanonicalUrl  \\\n",
       "0         /incidents/2013/8/17/rim-fire/   \n",
       "1  /incidents/2013/5/30/powerhouse-fire/   \n",
       "2    /incidents/2013/7/15/mountain-fire/   \n",
       "3    /incidents/2013/8/10/american-fire/   \n",
       "4      /incidents/2013/5/2/springs-fire/   \n",
       "\n",
       "                                  ConditionStatement ControlStatement  \\\n",
       "0                                                NaN              NaN   \n",
       "1                                                NaN              NaN   \n",
       "2                                                NaN              NaN   \n",
       "3                                                NaN              NaN   \n",
       "4  Acreage has been reduced based upon more accur...              NaN   \n",
       "\n",
       "      Counties  ... StructuresEvacuated  StructuresThreatened  \\\n",
       "0     Tuolumne  ...                 NaN                   NaN   \n",
       "1  Los Angeles  ...                 NaN                   NaN   \n",
       "2    Riverside  ...                 NaN                   NaN   \n",
       "3       Placer  ...                 NaN                   NaN   \n",
       "4      Ventura  ...                 NaN                   NaN   \n",
       "\n",
       "                               UniqueId               Updated WaterTenders  \\\n",
       "0  5fb18d4d-213f-4d83-a179-daaf11939e78  2013-09-06T18:30:00Z          NaN   \n",
       "1  bf37805e-1cc2-4208-9972-753e47874c87  2013-06-08T18:30:00Z          NaN   \n",
       "2  a3149fec-4d48-427c-8b2c-59e8b79d59db  2013-07-30T18:00:00Z          NaN   \n",
       "3  8213f5c7-34fa-403b-a4bc-da2ace6e6625  2013-08-30T08:00:00Z          NaN   \n",
       "4  46731fb8-3350-4920-bdf7-910ac0eb715c  2013-05-11T06:30:00Z         11.0   \n",
       "\n",
       "   Transformed_AcresBurned  CALFIRE_AdminUnit  ArchiveMonth ArchiveDay  \\\n",
       "0                22.984556                  0             8         17   \n",
       "1                17.011379                  1             5         30   \n",
       "2                16.772015                  1             7         15   \n",
       "3                16.763708                  0             8         10   \n",
       "4                16.455486                  1             5          2   \n",
       "\n",
       "    Fire_Type  \n",
       "0         rim  \n",
       "1  powerhouse  \n",
       "2    mountain  \n",
       "3    american  \n",
       "4     springs  \n",
       "\n",
       "[5 rows x 45 columns]"
      ]
     },
     "execution_count": 656,
     "metadata": {},
     "output_type": "execute_result"
    }
   ],
   "source": [
    "df.head()"
   ]
  },
  {
   "cell_type": "markdown",
   "metadata": {},
   "source": [
    "## ControlStatement"
   ]
  },
  {
   "cell_type": "code",
   "execution_count": 657,
   "metadata": {},
   "outputs": [
    {
     "data": {
      "text/plain": [
       "1522"
      ]
     },
     "execution_count": 657,
     "metadata": {},
     "output_type": "execute_result"
    }
   ],
   "source": [
    "df['ControlStatement'].isna().sum()"
   ]
  },
  {
   "cell_type": "code",
   "execution_count": 658,
   "metadata": {},
   "outputs": [
    {
     "data": {
      "text/plain": [
       "array([nan,\n",
       "       'Hwy 243 remains closed between Twin Pines Road and Westley Street in Banning due to road damage.',\n",
       "       'Oak Knolls Road', 'All road closures have been lifted.',\n",
       "       'Toro Creek Road remains closed to non-emergency traffic at Summit Road North of Highway 41. ',\n",
       "       'See evacuations above', 'Hwy 128 has been reopened. ',\n",
       "       'The road closures have been lifted. ',\n",
       "       'Weaver Bally Rd open to normal traffic flow',\n",
       "       'Black Bart Trail East',\n",
       "       'Interstate 15 is closed 3 1/2 miles south of Hwy 76 to .7 miles north of Hwy 76',\n",
       "       'Soft road closure is in place for residents only on Road 426 between Summit Road and Road 223. ',\n",
       "       'Traffic on Dog Bar Rd. and associated streets is limited to residents only.',\n",
       "       'The following road closures are in effect: <li>State Route 78 at Manzanita Drive</li><li>Manzanita Drive at Lakeview Drive</li>',\n",
       "       'Bear Valley Road to Hunters Valley Road',\n",
       "       'Highway 168 has been reopened.', 'Open to residents only',\n",
       "       'Hwy 15 open', 'Mix Canyon Road',\n",
       "       'Old Oak Ranch Road  remains closed. Big Hill Road is open.',\n",
       "       'Temporary road closure to Mission Olive Road',\n",
       "       'Chiles Pope Valley Road between highway 128 and Lower Chiles Valley until at least 8:00 AM 6/17/15.',\n",
       "       'Howell Mountain Road between Pope Valley Road and Ink Grade Road. Will remain closed until PG&E completes power line repair.',\n",
       "       'Hwy 97 closed, Stateline Hwy 161 open with traffic control.',\n",
       "       'Bald Hills Road has one lane closed with controlled traffic. Motorist advised to stay out of the area if possible.',\n",
       "       'All road closures have been lifted. ',\n",
       "       'All evacuations orders have been lifted.  Residents only will be allowed beyond the road closures. ',\n",
       "       'Highway 173 between Grass Valley Rd. and Rock Camp<br>Forest Service Roads 2N33, 2N17X, 2N36, 2N37',\n",
       "       'No current road closures.', 'None',\n",
       "       'All road closures and traffic control points have lifted.',\n",
       "       'none',\n",
       "       'Hwy. 49 between Hwy. 120 and the Tuolumne-Mariposa County line remains closed. Hwy. 49 opened for single-lane traffic with a pilot car at 8:00 o’clock this morning. Marshes Flat Road open to residents only. The Tuolumne County Sheriff’s Department is maintaining the roadblock. ',\n",
       "       'Nelson Bar Road at Lunt Road will reopen at 6:00 p.m. tonight (9/7/2016)',\n",
       "       'Rocky Gulch and Hawkinsville Humbug Rd will remain closed to non-residence.',\n",
       "       'All Road closures have been lifted', 'No road closures',\n",
       "       'Highway 89 is estimated to re-open today at noon.  Traffic will be metered through the fire area by Caltrans.  The Highway will be subject to future closure as repair work and tree removal continues and debris is removed from the highway. ',\n",
       "       'Auberry Rd. between Granite Creek & Little Wildhorse is closed to traffic.',\n",
       "       'Hwy 32 is open to one-lane traffic',\n",
       "       'Hwy 70 between Clark Rd and Wheelock Rd',\n",
       "       \"Mount Aukum Road closed from 4 corners to Tiger's Eye.\",\n",
       "       'All Road Closures are cancelled',\n",
       "       'All Evacuation Orders have been lifted for the impacted fire areas as of October 11, 2017 at 5:00 p.m',\n",
       "       'Cherokee Road is now open. ', 'All roads reopened.',\n",
       "       'San Timoteo Canyon Road CLOSED from Live Oak Road to Palmer Road',\n",
       "       'All Road Closures are lifted. Please drive with caution.',\n",
       "       'Parkfield – Coalinga Grade from Jacalitos Canyon Road to Valerian (V6) Ranch (where asphalt ends)',\n",
       "       'All road closures are lifted. Please drive with caution.',\n",
       "       'Douglas Station Road at Road 225; Rainbow Drive at Road 225; Cascade; Drive at Road 225',\n",
       "       '<li>River Road is closed from Pit 4 Dam to Pit 3 Powerhouse</li>',\n",
       "       'Controlled traffic on Hwy 101 ', 'Road closures have been lifted',\n",
       "       ' All road closures have been lifted. ',\n",
       "       'All roads are open. Please watch your speed on Bear Creek Road as fire vehicles will continue to patrol the area. Be advised that all roads in the fire area are private roads and access should be limited to those with official business.',\n",
       "       'Soft road closures exist at the following locations: Highway 58 at Highway 229 and Highway 58 at O’Donovan Road',\n",
       "       'Hwy 49s is open with no escort, the right passing lane, on Spring Hill, is closed and for fire personnel only. Allred Rd. from Hwy 49s to Morningstar Ln. is open to residents only.',\n",
       "       'All road closures have been lifted in the area of the fire. ',\n",
       "       'Honey Run Road remains closed in the fire area.',\n",
       "       'Highway 41 closed',\n",
       "       'There are traffic restrictions through the fire area.',\n",
       "       'All road closures lifted.', 'Hwy 299 shut down both directions',\n",
       "       'Forbestown Rd is now open', 'See Incident Update', 'I-5 is open',\n",
       "       'Walker Ridge Road at Highway 20', 'All roads are open.',\n",
       "       'Some closures still exist in the fire area. Please avoid the fire area for your safety and for our firefighters’ safety.',\n",
       "       'Peabody Road (between Foxboro Road and Chuck Hammond Drive)',\n",
       "       'All roads are opened.',\n",
       "       'All previously closed roads have been reopened. There is still heavy fire apparatus traffic in the area. Extreme caution is advised for people driving in the area.',\n",
       "       'All road closures have been lifted. Please drive with caution, emergency personnel will be working in the area.',\n",
       "       'All road closure have been lifted.',\n",
       "       'Creek Hollow Dr at Old Julian Hwy', 'Forward spreads stopped.',\n",
       "       'The forward spread has been stopped and firefighters continue to make good progress. All evacuation warnings have been lifted. Full containment expected later today.',\n",
       "       'Threat to City of Tecate, Mexico',\n",
       "       'All CAL FIRE Resources have been released from this incident.',\n",
       "       'Full containment expected on 7/16 at 6 p.m.',\n",
       "       'Final acreage: 1,020 (829 acres BLM and 191 Private).',\n",
       "       'Not a CAL FIRE Incident. Please contact the Bureau of Land Management for more information.',\n",
       "       'Fire resources will continue patrolling and mopping up.  Suppression repair work has begun.',\n",
       "       'Firefighters made good progress today extinguishing interior hotspots and securing containment lines. They will continue to mop up and patrol overnight. Residents traveling in the area are asked to drive with caution as fire apparatus and personnel continue to work in the area.',\n",
       "       'Not a CAL FIRE Incident. Please contact the Klamath National Forest for more information.',\n",
       "       'Forward spread has been stopped. Crews will continue with mop up operations to establish full containment.',\n",
       "       'Forward spread stopped.',\n",
       "       'All evacuation orders have been lifted.',\n",
       "       'Forward progress stopped.',\n",
       "       'Crews arrived to a vegetation fire approximately three acres in size. Some hazards in the path of the fire were straw bales and several bee boxes. Quick response from air tankers and firefighters saved both from any damage as well as any structures or infrastructure. The fire was held to 20 acres, no injuries were reported.',\n",
       "       'Cause: Improperly discarded cigarette',\n",
       "       'Fire fighters have made great progress and gained full containment of the fire. Fire crews will continue to patrol the area and mop up any hot spots throughout the evening. Total acreage reduced to 16 due to more accurate mapping.'],\n",
       "      dtype=object)"
      ]
     },
     "execution_count": 658,
     "metadata": {},
     "output_type": "execute_result"
    }
   ],
   "source": [
    "df['ControlStatement'].unique()"
   ]
  },
  {
   "cell_type": "markdown",
   "metadata": {},
   "source": [
    "### This feature resembles with the ConditionStatement"
   ]
  },
  {
   "cell_type": "code",
   "execution_count": 659,
   "metadata": {},
   "outputs": [
    {
     "data": {
      "text/html": [
       "<div>\n",
       "<style scoped>\n",
       "    .dataframe tbody tr th:only-of-type {\n",
       "        vertical-align: middle;\n",
       "    }\n",
       "\n",
       "    .dataframe tbody tr th {\n",
       "        vertical-align: top;\n",
       "    }\n",
       "\n",
       "    .dataframe thead th {\n",
       "        text-align: right;\n",
       "    }\n",
       "</style>\n",
       "<table border=\"1\" class=\"dataframe\">\n",
       "  <thead>\n",
       "    <tr style=\"text-align: right;\">\n",
       "      <th></th>\n",
       "      <th>AcresBurned</th>\n",
       "      <th>Active</th>\n",
       "      <th>AdminUnit</th>\n",
       "      <th>AirTankers</th>\n",
       "      <th>ArchiveYear</th>\n",
       "      <th>CalFireIncident</th>\n",
       "      <th>CanonicalUrl</th>\n",
       "      <th>ConditionStatement</th>\n",
       "      <th>ControlStatement</th>\n",
       "      <th>Counties</th>\n",
       "      <th>...</th>\n",
       "      <th>StructuresEvacuated</th>\n",
       "      <th>StructuresThreatened</th>\n",
       "      <th>UniqueId</th>\n",
       "      <th>Updated</th>\n",
       "      <th>WaterTenders</th>\n",
       "      <th>Transformed_AcresBurned</th>\n",
       "      <th>CALFIRE_AdminUnit</th>\n",
       "      <th>ArchiveMonth</th>\n",
       "      <th>ArchiveDay</th>\n",
       "      <th>Fire_Type</th>\n",
       "    </tr>\n",
       "  </thead>\n",
       "  <tbody>\n",
       "    <tr>\n",
       "      <th>0</th>\n",
       "      <td>257314.0</td>\n",
       "      <td>False</td>\n",
       "      <td>Stanislaus National Forest/Yosemite National Park</td>\n",
       "      <td>NaN</td>\n",
       "      <td>2013</td>\n",
       "      <td>True</td>\n",
       "      <td>/incidents/2013/8/17/rim-fire/</td>\n",
       "      <td>NaN</td>\n",
       "      <td>NaN</td>\n",
       "      <td>Tuolumne</td>\n",
       "      <td>...</td>\n",
       "      <td>NaN</td>\n",
       "      <td>NaN</td>\n",
       "      <td>5fb18d4d-213f-4d83-a179-daaf11939e78</td>\n",
       "      <td>2013-09-06T18:30:00Z</td>\n",
       "      <td>NaN</td>\n",
       "      <td>22.984556</td>\n",
       "      <td>0</td>\n",
       "      <td>8</td>\n",
       "      <td>17</td>\n",
       "      <td>rim</td>\n",
       "    </tr>\n",
       "    <tr>\n",
       "      <th>1</th>\n",
       "      <td>30274.0</td>\n",
       "      <td>False</td>\n",
       "      <td>USFS Angeles National Forest/Los Angeles Count...</td>\n",
       "      <td>NaN</td>\n",
       "      <td>2013</td>\n",
       "      <td>True</td>\n",
       "      <td>/incidents/2013/5/30/powerhouse-fire/</td>\n",
       "      <td>NaN</td>\n",
       "      <td>NaN</td>\n",
       "      <td>Los Angeles</td>\n",
       "      <td>...</td>\n",
       "      <td>NaN</td>\n",
       "      <td>NaN</td>\n",
       "      <td>bf37805e-1cc2-4208-9972-753e47874c87</td>\n",
       "      <td>2013-06-08T18:30:00Z</td>\n",
       "      <td>NaN</td>\n",
       "      <td>17.011379</td>\n",
       "      <td>1</td>\n",
       "      <td>5</td>\n",
       "      <td>30</td>\n",
       "      <td>powerhouse</td>\n",
       "    </tr>\n",
       "    <tr>\n",
       "      <th>2</th>\n",
       "      <td>27531.0</td>\n",
       "      <td>False</td>\n",
       "      <td>CAL FIRE Riverside Unit / San Bernardino Natio...</td>\n",
       "      <td>NaN</td>\n",
       "      <td>2013</td>\n",
       "      <td>True</td>\n",
       "      <td>/incidents/2013/7/15/mountain-fire/</td>\n",
       "      <td>NaN</td>\n",
       "      <td>NaN</td>\n",
       "      <td>Riverside</td>\n",
       "      <td>...</td>\n",
       "      <td>NaN</td>\n",
       "      <td>NaN</td>\n",
       "      <td>a3149fec-4d48-427c-8b2c-59e8b79d59db</td>\n",
       "      <td>2013-07-30T18:00:00Z</td>\n",
       "      <td>NaN</td>\n",
       "      <td>16.772015</td>\n",
       "      <td>1</td>\n",
       "      <td>7</td>\n",
       "      <td>15</td>\n",
       "      <td>mountain</td>\n",
       "    </tr>\n",
       "    <tr>\n",
       "      <th>3</th>\n",
       "      <td>27440.0</td>\n",
       "      <td>False</td>\n",
       "      <td>Tahoe National Forest</td>\n",
       "      <td>NaN</td>\n",
       "      <td>2013</td>\n",
       "      <td>False</td>\n",
       "      <td>/incidents/2013/8/10/american-fire/</td>\n",
       "      <td>NaN</td>\n",
       "      <td>NaN</td>\n",
       "      <td>Placer</td>\n",
       "      <td>...</td>\n",
       "      <td>NaN</td>\n",
       "      <td>NaN</td>\n",
       "      <td>8213f5c7-34fa-403b-a4bc-da2ace6e6625</td>\n",
       "      <td>2013-08-30T08:00:00Z</td>\n",
       "      <td>NaN</td>\n",
       "      <td>16.763708</td>\n",
       "      <td>0</td>\n",
       "      <td>8</td>\n",
       "      <td>10</td>\n",
       "      <td>american</td>\n",
       "    </tr>\n",
       "    <tr>\n",
       "      <th>4</th>\n",
       "      <td>24251.0</td>\n",
       "      <td>False</td>\n",
       "      <td>Ventura County Fire/CAL FIRE</td>\n",
       "      <td>NaN</td>\n",
       "      <td>2013</td>\n",
       "      <td>True</td>\n",
       "      <td>/incidents/2013/5/2/springs-fire/</td>\n",
       "      <td>Acreage has been reduced based upon more accur...</td>\n",
       "      <td>NaN</td>\n",
       "      <td>Ventura</td>\n",
       "      <td>...</td>\n",
       "      <td>NaN</td>\n",
       "      <td>NaN</td>\n",
       "      <td>46731fb8-3350-4920-bdf7-910ac0eb715c</td>\n",
       "      <td>2013-05-11T06:30:00Z</td>\n",
       "      <td>11.0</td>\n",
       "      <td>16.455486</td>\n",
       "      <td>1</td>\n",
       "      <td>5</td>\n",
       "      <td>2</td>\n",
       "      <td>springs</td>\n",
       "    </tr>\n",
       "  </tbody>\n",
       "</table>\n",
       "<p>5 rows × 45 columns</p>\n",
       "</div>"
      ],
      "text/plain": [
       "   AcresBurned  Active                                          AdminUnit  \\\n",
       "0     257314.0   False  Stanislaus National Forest/Yosemite National Park   \n",
       "1      30274.0   False  USFS Angeles National Forest/Los Angeles Count...   \n",
       "2      27531.0   False  CAL FIRE Riverside Unit / San Bernardino Natio...   \n",
       "3      27440.0   False                              Tahoe National Forest   \n",
       "4      24251.0   False                       Ventura County Fire/CAL FIRE   \n",
       "\n",
       "   AirTankers  ArchiveYear  CalFireIncident  \\\n",
       "0         NaN         2013             True   \n",
       "1         NaN         2013             True   \n",
       "2         NaN         2013             True   \n",
       "3         NaN         2013            False   \n",
       "4         NaN         2013             True   \n",
       "\n",
       "                            CanonicalUrl  \\\n",
       "0         /incidents/2013/8/17/rim-fire/   \n",
       "1  /incidents/2013/5/30/powerhouse-fire/   \n",
       "2    /incidents/2013/7/15/mountain-fire/   \n",
       "3    /incidents/2013/8/10/american-fire/   \n",
       "4      /incidents/2013/5/2/springs-fire/   \n",
       "\n",
       "                                  ConditionStatement ControlStatement  \\\n",
       "0                                                NaN              NaN   \n",
       "1                                                NaN              NaN   \n",
       "2                                                NaN              NaN   \n",
       "3                                                NaN              NaN   \n",
       "4  Acreage has been reduced based upon more accur...              NaN   \n",
       "\n",
       "      Counties  ... StructuresEvacuated  StructuresThreatened  \\\n",
       "0     Tuolumne  ...                 NaN                   NaN   \n",
       "1  Los Angeles  ...                 NaN                   NaN   \n",
       "2    Riverside  ...                 NaN                   NaN   \n",
       "3       Placer  ...                 NaN                   NaN   \n",
       "4      Ventura  ...                 NaN                   NaN   \n",
       "\n",
       "                               UniqueId               Updated WaterTenders  \\\n",
       "0  5fb18d4d-213f-4d83-a179-daaf11939e78  2013-09-06T18:30:00Z          NaN   \n",
       "1  bf37805e-1cc2-4208-9972-753e47874c87  2013-06-08T18:30:00Z          NaN   \n",
       "2  a3149fec-4d48-427c-8b2c-59e8b79d59db  2013-07-30T18:00:00Z          NaN   \n",
       "3  8213f5c7-34fa-403b-a4bc-da2ace6e6625  2013-08-30T08:00:00Z          NaN   \n",
       "4  46731fb8-3350-4920-bdf7-910ac0eb715c  2013-05-11T06:30:00Z         11.0   \n",
       "\n",
       "   Transformed_AcresBurned  CALFIRE_AdminUnit  ArchiveMonth ArchiveDay  \\\n",
       "0                22.984556                  0             8         17   \n",
       "1                17.011379                  1             5         30   \n",
       "2                16.772015                  1             7         15   \n",
       "3                16.763708                  0             8         10   \n",
       "4                16.455486                  1             5          2   \n",
       "\n",
       "    Fire_Type  \n",
       "0         rim  \n",
       "1  powerhouse  \n",
       "2    mountain  \n",
       "3    american  \n",
       "4     springs  \n",
       "\n",
       "[5 rows x 45 columns]"
      ]
     },
     "execution_count": 659,
     "metadata": {},
     "output_type": "execute_result"
    }
   ],
   "source": [
    "df.head()"
   ]
  },
  {
   "cell_type": "markdown",
   "metadata": {},
   "source": [
    "## Counties"
   ]
  },
  {
   "cell_type": "code",
   "execution_count": 660,
   "metadata": {},
   "outputs": [
    {
     "data": {
      "text/plain": [
       "0"
      ]
     },
     "execution_count": 660,
     "metadata": {},
     "output_type": "execute_result"
    }
   ],
   "source": [
    "df['Counties'].isna().sum()"
   ]
  },
  {
   "cell_type": "code",
   "execution_count": 661,
   "metadata": {},
   "outputs": [
    {
     "data": {
      "text/plain": [
       "59"
      ]
     },
     "execution_count": 661,
     "metadata": {},
     "output_type": "execute_result"
    }
   ],
   "source": [
    "df['Counties'].nunique()"
   ]
  },
  {
   "cell_type": "code",
   "execution_count": 662,
   "metadata": {},
   "outputs": [
    {
     "data": {
      "text/plain": [
       "Riverside          145\n",
       "San Diego           88\n",
       "Butte               66\n",
       "San Luis Obispo     64\n",
       "Shasta              64\n",
       "Kern                62\n",
       "Fresno              57\n",
       "Siskiyou            57\n",
       "San Bernardino      53\n",
       "Tehama              51\n",
       "Lake                49\n",
       "Los Angeles         46\n",
       "Monterey            45\n",
       "Santa Clara         39\n",
       "El Dorado           37\n",
       "Madera              36\n",
       "Lassen              36\n",
       "Tulare              35\n",
       "Mariposa            35\n",
       "Alameda             32\n",
       "Modoc               31\n",
       "Ventura             30\n",
       "Santa Barbara       29\n",
       "Mendocino           28\n",
       "Contra Costa        27\n",
       "Napa                25\n",
       "Humboldt            25\n",
       "Calaveras           22\n",
       "Tuolumne            22\n",
       "Trinity             21\n",
       "Stanislaus          20\n",
       "San Benito          20\n",
       "Solano              19\n",
       "Sonoma              18\n",
       "Nevada              17\n",
       "Placer              17\n",
       "Merced              16\n",
       "Yuba                14\n",
       "Amador              13\n",
       "Inyo                12\n",
       "Yolo                11\n",
       "Sacramento          11\n",
       "Plumas              11\n",
       "Orange              10\n",
       "Mono                10\n",
       "San Joaquin          8\n",
       "Glenn                8\n",
       "Colusa               6\n",
       "Del Norte            6\n",
       "Marin                6\n",
       "Kings                5\n",
       "Santa Cruz           4\n",
       "San Mateo            3\n",
       "Sutter               3\n",
       "Sierra               2\n",
       "Alpine               2\n",
       "Mexico               2\n",
       "State of Oregon      1\n",
       "State of Nevada      1\n",
       "Name: Counties, dtype: int64"
      ]
     },
     "execution_count": 662,
     "metadata": {},
     "output_type": "execute_result"
    }
   ],
   "source": [
    "df['Counties'].value_counts()"
   ]
  },
  {
   "cell_type": "markdown",
   "metadata": {},
   "source": [
    "### Get top 10 Fire Prone Counties"
   ]
  },
  {
   "cell_type": "code",
   "execution_count": 663,
   "metadata": {},
   "outputs": [
    {
     "data": {
      "text/plain": [
       "array(['Riverside', 'San Diego', 'Butte', 'San Luis Obispo', 'Shasta',\n",
       "       'Kern', 'Fresno', 'Siskiyou', 'San Bernardino', 'Tehama'],\n",
       "      dtype=object)"
      ]
     },
     "execution_count": 663,
     "metadata": {},
     "output_type": "execute_result"
    }
   ],
   "source": [
    "frequent_counties = np.array(df['Counties'].value_counts()[:10].index)\n",
    "\n",
    "frequent_counties"
   ]
  },
  {
   "cell_type": "code",
   "execution_count": 664,
   "metadata": {},
   "outputs": [],
   "source": [
    "df['Frequent_County'] = df['Counties'].apply(lambda x: 1 if x in frequent_counties else 0)"
   ]
  },
  {
   "cell_type": "code",
   "execution_count": 665,
   "metadata": {},
   "outputs": [
    {
     "data": {
      "text/html": [
       "<div>\n",
       "<style scoped>\n",
       "    .dataframe tbody tr th:only-of-type {\n",
       "        vertical-align: middle;\n",
       "    }\n",
       "\n",
       "    .dataframe tbody tr th {\n",
       "        vertical-align: top;\n",
       "    }\n",
       "\n",
       "    .dataframe thead th {\n",
       "        text-align: right;\n",
       "    }\n",
       "</style>\n",
       "<table border=\"1\" class=\"dataframe\">\n",
       "  <thead>\n",
       "    <tr style=\"text-align: right;\">\n",
       "      <th></th>\n",
       "      <th>AcresBurned</th>\n",
       "      <th>Active</th>\n",
       "      <th>AdminUnit</th>\n",
       "      <th>AirTankers</th>\n",
       "      <th>ArchiveYear</th>\n",
       "      <th>CalFireIncident</th>\n",
       "      <th>CanonicalUrl</th>\n",
       "      <th>ConditionStatement</th>\n",
       "      <th>ControlStatement</th>\n",
       "      <th>Counties</th>\n",
       "      <th>...</th>\n",
       "      <th>StructuresThreatened</th>\n",
       "      <th>UniqueId</th>\n",
       "      <th>Updated</th>\n",
       "      <th>WaterTenders</th>\n",
       "      <th>Transformed_AcresBurned</th>\n",
       "      <th>CALFIRE_AdminUnit</th>\n",
       "      <th>ArchiveMonth</th>\n",
       "      <th>ArchiveDay</th>\n",
       "      <th>Fire_Type</th>\n",
       "      <th>Frequent_County</th>\n",
       "    </tr>\n",
       "  </thead>\n",
       "  <tbody>\n",
       "    <tr>\n",
       "      <th>0</th>\n",
       "      <td>257314.0</td>\n",
       "      <td>False</td>\n",
       "      <td>Stanislaus National Forest/Yosemite National Park</td>\n",
       "      <td>NaN</td>\n",
       "      <td>2013</td>\n",
       "      <td>True</td>\n",
       "      <td>/incidents/2013/8/17/rim-fire/</td>\n",
       "      <td>NaN</td>\n",
       "      <td>NaN</td>\n",
       "      <td>Tuolumne</td>\n",
       "      <td>...</td>\n",
       "      <td>NaN</td>\n",
       "      <td>5fb18d4d-213f-4d83-a179-daaf11939e78</td>\n",
       "      <td>2013-09-06T18:30:00Z</td>\n",
       "      <td>NaN</td>\n",
       "      <td>22.984556</td>\n",
       "      <td>0</td>\n",
       "      <td>8</td>\n",
       "      <td>17</td>\n",
       "      <td>rim</td>\n",
       "      <td>0</td>\n",
       "    </tr>\n",
       "    <tr>\n",
       "      <th>1</th>\n",
       "      <td>30274.0</td>\n",
       "      <td>False</td>\n",
       "      <td>USFS Angeles National Forest/Los Angeles Count...</td>\n",
       "      <td>NaN</td>\n",
       "      <td>2013</td>\n",
       "      <td>True</td>\n",
       "      <td>/incidents/2013/5/30/powerhouse-fire/</td>\n",
       "      <td>NaN</td>\n",
       "      <td>NaN</td>\n",
       "      <td>Los Angeles</td>\n",
       "      <td>...</td>\n",
       "      <td>NaN</td>\n",
       "      <td>bf37805e-1cc2-4208-9972-753e47874c87</td>\n",
       "      <td>2013-06-08T18:30:00Z</td>\n",
       "      <td>NaN</td>\n",
       "      <td>17.011379</td>\n",
       "      <td>1</td>\n",
       "      <td>5</td>\n",
       "      <td>30</td>\n",
       "      <td>powerhouse</td>\n",
       "      <td>0</td>\n",
       "    </tr>\n",
       "    <tr>\n",
       "      <th>2</th>\n",
       "      <td>27531.0</td>\n",
       "      <td>False</td>\n",
       "      <td>CAL FIRE Riverside Unit / San Bernardino Natio...</td>\n",
       "      <td>NaN</td>\n",
       "      <td>2013</td>\n",
       "      <td>True</td>\n",
       "      <td>/incidents/2013/7/15/mountain-fire/</td>\n",
       "      <td>NaN</td>\n",
       "      <td>NaN</td>\n",
       "      <td>Riverside</td>\n",
       "      <td>...</td>\n",
       "      <td>NaN</td>\n",
       "      <td>a3149fec-4d48-427c-8b2c-59e8b79d59db</td>\n",
       "      <td>2013-07-30T18:00:00Z</td>\n",
       "      <td>NaN</td>\n",
       "      <td>16.772015</td>\n",
       "      <td>1</td>\n",
       "      <td>7</td>\n",
       "      <td>15</td>\n",
       "      <td>mountain</td>\n",
       "      <td>1</td>\n",
       "    </tr>\n",
       "    <tr>\n",
       "      <th>3</th>\n",
       "      <td>27440.0</td>\n",
       "      <td>False</td>\n",
       "      <td>Tahoe National Forest</td>\n",
       "      <td>NaN</td>\n",
       "      <td>2013</td>\n",
       "      <td>False</td>\n",
       "      <td>/incidents/2013/8/10/american-fire/</td>\n",
       "      <td>NaN</td>\n",
       "      <td>NaN</td>\n",
       "      <td>Placer</td>\n",
       "      <td>...</td>\n",
       "      <td>NaN</td>\n",
       "      <td>8213f5c7-34fa-403b-a4bc-da2ace6e6625</td>\n",
       "      <td>2013-08-30T08:00:00Z</td>\n",
       "      <td>NaN</td>\n",
       "      <td>16.763708</td>\n",
       "      <td>0</td>\n",
       "      <td>8</td>\n",
       "      <td>10</td>\n",
       "      <td>american</td>\n",
       "      <td>0</td>\n",
       "    </tr>\n",
       "    <tr>\n",
       "      <th>4</th>\n",
       "      <td>24251.0</td>\n",
       "      <td>False</td>\n",
       "      <td>Ventura County Fire/CAL FIRE</td>\n",
       "      <td>NaN</td>\n",
       "      <td>2013</td>\n",
       "      <td>True</td>\n",
       "      <td>/incidents/2013/5/2/springs-fire/</td>\n",
       "      <td>Acreage has been reduced based upon more accur...</td>\n",
       "      <td>NaN</td>\n",
       "      <td>Ventura</td>\n",
       "      <td>...</td>\n",
       "      <td>NaN</td>\n",
       "      <td>46731fb8-3350-4920-bdf7-910ac0eb715c</td>\n",
       "      <td>2013-05-11T06:30:00Z</td>\n",
       "      <td>11.0</td>\n",
       "      <td>16.455486</td>\n",
       "      <td>1</td>\n",
       "      <td>5</td>\n",
       "      <td>2</td>\n",
       "      <td>springs</td>\n",
       "      <td>0</td>\n",
       "    </tr>\n",
       "  </tbody>\n",
       "</table>\n",
       "<p>5 rows × 46 columns</p>\n",
       "</div>"
      ],
      "text/plain": [
       "   AcresBurned  Active                                          AdminUnit  \\\n",
       "0     257314.0   False  Stanislaus National Forest/Yosemite National Park   \n",
       "1      30274.0   False  USFS Angeles National Forest/Los Angeles Count...   \n",
       "2      27531.0   False  CAL FIRE Riverside Unit / San Bernardino Natio...   \n",
       "3      27440.0   False                              Tahoe National Forest   \n",
       "4      24251.0   False                       Ventura County Fire/CAL FIRE   \n",
       "\n",
       "   AirTankers  ArchiveYear  CalFireIncident  \\\n",
       "0         NaN         2013             True   \n",
       "1         NaN         2013             True   \n",
       "2         NaN         2013             True   \n",
       "3         NaN         2013            False   \n",
       "4         NaN         2013             True   \n",
       "\n",
       "                            CanonicalUrl  \\\n",
       "0         /incidents/2013/8/17/rim-fire/   \n",
       "1  /incidents/2013/5/30/powerhouse-fire/   \n",
       "2    /incidents/2013/7/15/mountain-fire/   \n",
       "3    /incidents/2013/8/10/american-fire/   \n",
       "4      /incidents/2013/5/2/springs-fire/   \n",
       "\n",
       "                                  ConditionStatement ControlStatement  \\\n",
       "0                                                NaN              NaN   \n",
       "1                                                NaN              NaN   \n",
       "2                                                NaN              NaN   \n",
       "3                                                NaN              NaN   \n",
       "4  Acreage has been reduced based upon more accur...              NaN   \n",
       "\n",
       "      Counties  ... StructuresThreatened  \\\n",
       "0     Tuolumne  ...                  NaN   \n",
       "1  Los Angeles  ...                  NaN   \n",
       "2    Riverside  ...                  NaN   \n",
       "3       Placer  ...                  NaN   \n",
       "4      Ventura  ...                  NaN   \n",
       "\n",
       "                               UniqueId               Updated  WaterTenders  \\\n",
       "0  5fb18d4d-213f-4d83-a179-daaf11939e78  2013-09-06T18:30:00Z           NaN   \n",
       "1  bf37805e-1cc2-4208-9972-753e47874c87  2013-06-08T18:30:00Z           NaN   \n",
       "2  a3149fec-4d48-427c-8b2c-59e8b79d59db  2013-07-30T18:00:00Z           NaN   \n",
       "3  8213f5c7-34fa-403b-a4bc-da2ace6e6625  2013-08-30T08:00:00Z           NaN   \n",
       "4  46731fb8-3350-4920-bdf7-910ac0eb715c  2013-05-11T06:30:00Z          11.0   \n",
       "\n",
       "  Transformed_AcresBurned  CALFIRE_AdminUnit  ArchiveMonth  ArchiveDay  \\\n",
       "0               22.984556                  0             8          17   \n",
       "1               17.011379                  1             5          30   \n",
       "2               16.772015                  1             7          15   \n",
       "3               16.763708                  0             8          10   \n",
       "4               16.455486                  1             5           2   \n",
       "\n",
       "    Fire_Type  Frequent_County  \n",
       "0         rim                0  \n",
       "1  powerhouse                0  \n",
       "2    mountain                1  \n",
       "3    american                0  \n",
       "4     springs                0  \n",
       "\n",
       "[5 rows x 46 columns]"
      ]
     },
     "execution_count": 665,
     "metadata": {},
     "output_type": "execute_result"
    }
   ],
   "source": [
    "df.head()"
   ]
  },
  {
   "cell_type": "code",
   "execution_count": 666,
   "metadata": {},
   "outputs": [
    {
     "data": {
      "text/plain": [
       "Index(['AcresBurned', 'Active', 'AdminUnit', 'AirTankers', 'ArchiveYear',\n",
       "       'CalFireIncident', 'CanonicalUrl', 'ConditionStatement',\n",
       "       'ControlStatement', 'Counties', 'CountyIds', 'CrewsInvolved', 'Dozers',\n",
       "       'Engines', 'Extinguished', 'Fatalities', 'Featured', 'Final',\n",
       "       'FuelType', 'Helicopters', 'Injuries', 'Latitude', 'Location',\n",
       "       'Longitude', 'MajorIncident', 'Name', 'PercentContained',\n",
       "       'PersonnelInvolved', 'Public', 'SearchDescription', 'SearchKeywords',\n",
       "       'Started', 'Status', 'StructuresDamaged', 'StructuresDestroyed',\n",
       "       'StructuresEvacuated', 'StructuresThreatened', 'UniqueId', 'Updated',\n",
       "       'WaterTenders', 'Transformed_AcresBurned', 'CALFIRE_AdminUnit',\n",
       "       'ArchiveMonth', 'ArchiveDay', 'Fire_Type', 'Frequent_County'],\n",
       "      dtype='object')"
      ]
     },
     "execution_count": 666,
     "metadata": {},
     "output_type": "execute_result"
    }
   ],
   "source": [
    "df.columns"
   ]
  },
  {
   "cell_type": "markdown",
   "metadata": {},
   "source": [
    "## CountyIds"
   ]
  },
  {
   "cell_type": "code",
   "execution_count": 667,
   "metadata": {},
   "outputs": [
    {
     "data": {
      "text/html": [
       "<div>\n",
       "<style scoped>\n",
       "    .dataframe tbody tr th:only-of-type {\n",
       "        vertical-align: middle;\n",
       "    }\n",
       "\n",
       "    .dataframe tbody tr th {\n",
       "        vertical-align: top;\n",
       "    }\n",
       "\n",
       "    .dataframe thead th {\n",
       "        text-align: right;\n",
       "    }\n",
       "</style>\n",
       "<table border=\"1\" class=\"dataframe\">\n",
       "  <thead>\n",
       "    <tr style=\"text-align: right;\">\n",
       "      <th></th>\n",
       "      <th>AcresBurned</th>\n",
       "      <th>Active</th>\n",
       "      <th>AdminUnit</th>\n",
       "      <th>AirTankers</th>\n",
       "      <th>ArchiveYear</th>\n",
       "      <th>CalFireIncident</th>\n",
       "      <th>CanonicalUrl</th>\n",
       "      <th>ConditionStatement</th>\n",
       "      <th>ControlStatement</th>\n",
       "      <th>Counties</th>\n",
       "      <th>...</th>\n",
       "      <th>StructuresThreatened</th>\n",
       "      <th>UniqueId</th>\n",
       "      <th>Updated</th>\n",
       "      <th>WaterTenders</th>\n",
       "      <th>Transformed_AcresBurned</th>\n",
       "      <th>CALFIRE_AdminUnit</th>\n",
       "      <th>ArchiveMonth</th>\n",
       "      <th>ArchiveDay</th>\n",
       "      <th>Fire_Type</th>\n",
       "      <th>Frequent_County</th>\n",
       "    </tr>\n",
       "  </thead>\n",
       "  <tbody>\n",
       "    <tr>\n",
       "      <th>0</th>\n",
       "      <td>257314.0</td>\n",
       "      <td>False</td>\n",
       "      <td>Stanislaus National Forest/Yosemite National Park</td>\n",
       "      <td>NaN</td>\n",
       "      <td>2013</td>\n",
       "      <td>True</td>\n",
       "      <td>/incidents/2013/8/17/rim-fire/</td>\n",
       "      <td>NaN</td>\n",
       "      <td>NaN</td>\n",
       "      <td>Tuolumne</td>\n",
       "      <td>...</td>\n",
       "      <td>NaN</td>\n",
       "      <td>5fb18d4d-213f-4d83-a179-daaf11939e78</td>\n",
       "      <td>2013-09-06T18:30:00Z</td>\n",
       "      <td>NaN</td>\n",
       "      <td>22.984556</td>\n",
       "      <td>0</td>\n",
       "      <td>8</td>\n",
       "      <td>17</td>\n",
       "      <td>rim</td>\n",
       "      <td>0</td>\n",
       "    </tr>\n",
       "    <tr>\n",
       "      <th>1</th>\n",
       "      <td>30274.0</td>\n",
       "      <td>False</td>\n",
       "      <td>USFS Angeles National Forest/Los Angeles Count...</td>\n",
       "      <td>NaN</td>\n",
       "      <td>2013</td>\n",
       "      <td>True</td>\n",
       "      <td>/incidents/2013/5/30/powerhouse-fire/</td>\n",
       "      <td>NaN</td>\n",
       "      <td>NaN</td>\n",
       "      <td>Los Angeles</td>\n",
       "      <td>...</td>\n",
       "      <td>NaN</td>\n",
       "      <td>bf37805e-1cc2-4208-9972-753e47874c87</td>\n",
       "      <td>2013-06-08T18:30:00Z</td>\n",
       "      <td>NaN</td>\n",
       "      <td>17.011379</td>\n",
       "      <td>1</td>\n",
       "      <td>5</td>\n",
       "      <td>30</td>\n",
       "      <td>powerhouse</td>\n",
       "      <td>0</td>\n",
       "    </tr>\n",
       "    <tr>\n",
       "      <th>2</th>\n",
       "      <td>27531.0</td>\n",
       "      <td>False</td>\n",
       "      <td>CAL FIRE Riverside Unit / San Bernardino Natio...</td>\n",
       "      <td>NaN</td>\n",
       "      <td>2013</td>\n",
       "      <td>True</td>\n",
       "      <td>/incidents/2013/7/15/mountain-fire/</td>\n",
       "      <td>NaN</td>\n",
       "      <td>NaN</td>\n",
       "      <td>Riverside</td>\n",
       "      <td>...</td>\n",
       "      <td>NaN</td>\n",
       "      <td>a3149fec-4d48-427c-8b2c-59e8b79d59db</td>\n",
       "      <td>2013-07-30T18:00:00Z</td>\n",
       "      <td>NaN</td>\n",
       "      <td>16.772015</td>\n",
       "      <td>1</td>\n",
       "      <td>7</td>\n",
       "      <td>15</td>\n",
       "      <td>mountain</td>\n",
       "      <td>1</td>\n",
       "    </tr>\n",
       "    <tr>\n",
       "      <th>3</th>\n",
       "      <td>27440.0</td>\n",
       "      <td>False</td>\n",
       "      <td>Tahoe National Forest</td>\n",
       "      <td>NaN</td>\n",
       "      <td>2013</td>\n",
       "      <td>False</td>\n",
       "      <td>/incidents/2013/8/10/american-fire/</td>\n",
       "      <td>NaN</td>\n",
       "      <td>NaN</td>\n",
       "      <td>Placer</td>\n",
       "      <td>...</td>\n",
       "      <td>NaN</td>\n",
       "      <td>8213f5c7-34fa-403b-a4bc-da2ace6e6625</td>\n",
       "      <td>2013-08-30T08:00:00Z</td>\n",
       "      <td>NaN</td>\n",
       "      <td>16.763708</td>\n",
       "      <td>0</td>\n",
       "      <td>8</td>\n",
       "      <td>10</td>\n",
       "      <td>american</td>\n",
       "      <td>0</td>\n",
       "    </tr>\n",
       "    <tr>\n",
       "      <th>4</th>\n",
       "      <td>24251.0</td>\n",
       "      <td>False</td>\n",
       "      <td>Ventura County Fire/CAL FIRE</td>\n",
       "      <td>NaN</td>\n",
       "      <td>2013</td>\n",
       "      <td>True</td>\n",
       "      <td>/incidents/2013/5/2/springs-fire/</td>\n",
       "      <td>Acreage has been reduced based upon more accur...</td>\n",
       "      <td>NaN</td>\n",
       "      <td>Ventura</td>\n",
       "      <td>...</td>\n",
       "      <td>NaN</td>\n",
       "      <td>46731fb8-3350-4920-bdf7-910ac0eb715c</td>\n",
       "      <td>2013-05-11T06:30:00Z</td>\n",
       "      <td>11.0</td>\n",
       "      <td>16.455486</td>\n",
       "      <td>1</td>\n",
       "      <td>5</td>\n",
       "      <td>2</td>\n",
       "      <td>springs</td>\n",
       "      <td>0</td>\n",
       "    </tr>\n",
       "  </tbody>\n",
       "</table>\n",
       "<p>5 rows × 46 columns</p>\n",
       "</div>"
      ],
      "text/plain": [
       "   AcresBurned  Active                                          AdminUnit  \\\n",
       "0     257314.0   False  Stanislaus National Forest/Yosemite National Park   \n",
       "1      30274.0   False  USFS Angeles National Forest/Los Angeles Count...   \n",
       "2      27531.0   False  CAL FIRE Riverside Unit / San Bernardino Natio...   \n",
       "3      27440.0   False                              Tahoe National Forest   \n",
       "4      24251.0   False                       Ventura County Fire/CAL FIRE   \n",
       "\n",
       "   AirTankers  ArchiveYear  CalFireIncident  \\\n",
       "0         NaN         2013             True   \n",
       "1         NaN         2013             True   \n",
       "2         NaN         2013             True   \n",
       "3         NaN         2013            False   \n",
       "4         NaN         2013             True   \n",
       "\n",
       "                            CanonicalUrl  \\\n",
       "0         /incidents/2013/8/17/rim-fire/   \n",
       "1  /incidents/2013/5/30/powerhouse-fire/   \n",
       "2    /incidents/2013/7/15/mountain-fire/   \n",
       "3    /incidents/2013/8/10/american-fire/   \n",
       "4      /incidents/2013/5/2/springs-fire/   \n",
       "\n",
       "                                  ConditionStatement ControlStatement  \\\n",
       "0                                                NaN              NaN   \n",
       "1                                                NaN              NaN   \n",
       "2                                                NaN              NaN   \n",
       "3                                                NaN              NaN   \n",
       "4  Acreage has been reduced based upon more accur...              NaN   \n",
       "\n",
       "      Counties  ... StructuresThreatened  \\\n",
       "0     Tuolumne  ...                  NaN   \n",
       "1  Los Angeles  ...                  NaN   \n",
       "2    Riverside  ...                  NaN   \n",
       "3       Placer  ...                  NaN   \n",
       "4      Ventura  ...                  NaN   \n",
       "\n",
       "                               UniqueId               Updated  WaterTenders  \\\n",
       "0  5fb18d4d-213f-4d83-a179-daaf11939e78  2013-09-06T18:30:00Z           NaN   \n",
       "1  bf37805e-1cc2-4208-9972-753e47874c87  2013-06-08T18:30:00Z           NaN   \n",
       "2  a3149fec-4d48-427c-8b2c-59e8b79d59db  2013-07-30T18:00:00Z           NaN   \n",
       "3  8213f5c7-34fa-403b-a4bc-da2ace6e6625  2013-08-30T08:00:00Z           NaN   \n",
       "4  46731fb8-3350-4920-bdf7-910ac0eb715c  2013-05-11T06:30:00Z          11.0   \n",
       "\n",
       "  Transformed_AcresBurned  CALFIRE_AdminUnit  ArchiveMonth  ArchiveDay  \\\n",
       "0               22.984556                  0             8          17   \n",
       "1               17.011379                  1             5          30   \n",
       "2               16.772015                  1             7          15   \n",
       "3               16.763708                  0             8          10   \n",
       "4               16.455486                  1             5           2   \n",
       "\n",
       "    Fire_Type  Frequent_County  \n",
       "0         rim                0  \n",
       "1  powerhouse                0  \n",
       "2    mountain                1  \n",
       "3    american                0  \n",
       "4     springs                0  \n",
       "\n",
       "[5 rows x 46 columns]"
      ]
     },
     "execution_count": 667,
     "metadata": {},
     "output_type": "execute_result"
    }
   ],
   "source": [
    "df.head()"
   ]
  },
  {
   "cell_type": "code",
   "execution_count": 668,
   "metadata": {},
   "outputs": [
    {
     "data": {
      "text/plain": [
       "0"
      ]
     },
     "execution_count": 668,
     "metadata": {},
     "output_type": "execute_result"
    }
   ],
   "source": [
    "df['CountyIds'].isna().sum()"
   ]
  },
  {
   "cell_type": "code",
   "execution_count": 669,
   "metadata": {},
   "outputs": [
    {
     "data": {
      "text/plain": [
       "79"
      ]
     },
     "execution_count": 669,
     "metadata": {},
     "output_type": "execute_result"
    }
   ],
   "source": [
    "df['CountyIds'].nunique()"
   ]
  },
  {
   "cell_type": "code",
   "execution_count": 670,
   "metadata": {},
   "outputs": [
    {
     "data": {
      "text/plain": [
       "33     144\n",
       "37      87\n",
       "4       66\n",
       "45      62\n",
       "15      61\n",
       "      ... \n",
       "33,      1\n",
       ",40      1\n",
       "62       1\n",
       "61       1\n",
       "59       1\n",
       "Name: CountyIds, Length: 79, dtype: int64"
      ]
     },
     "execution_count": 670,
     "metadata": {},
     "output_type": "execute_result"
    }
   ],
   "source": [
    "df['CountyIds'].value_counts()"
   ]
  },
  {
   "cell_type": "markdown",
   "metadata": {},
   "source": [
    "### CountyIds have 79 Unique values whereas Counties have 59 values and has no relation between both the features"
   ]
  },
  {
   "cell_type": "markdown",
   "metadata": {},
   "source": [
    "## Status"
   ]
  },
  {
   "cell_type": "code",
   "execution_count": 671,
   "metadata": {},
   "outputs": [
    {
     "data": {
      "text/plain": [
       "array(['Finalized', 'Inactive'], dtype=object)"
      ]
     },
     "execution_count": 671,
     "metadata": {},
     "output_type": "execute_result"
    }
   ],
   "source": [
    "df['Status'].unique()"
   ]
  },
  {
   "cell_type": "code",
   "execution_count": 672,
   "metadata": {},
   "outputs": [
    {
     "data": {
      "text/plain": [
       "Finalized    1632\n",
       "Inactive        1\n",
       "Name: Status, dtype: int64"
      ]
     },
     "execution_count": 672,
     "metadata": {},
     "output_type": "execute_result"
    }
   ],
   "source": [
    "df['Status'].value_counts()"
   ]
  },
  {
   "cell_type": "markdown",
   "metadata": {},
   "source": [
    "### Only 2 Records have Status Inactive\n",
    "\n",
    "### Mostly likely we should drop these 2 rows and then we can ignore this feature"
   ]
  },
  {
   "cell_type": "code",
   "execution_count": 673,
   "metadata": {},
   "outputs": [
    {
     "name": "stderr",
     "output_type": "stream",
     "text": [
      "C:\\Users\\jiten\\anaconda3\\lib\\site-packages\\seaborn\\_decorators.py:36: FutureWarning: Pass the following variable as a keyword arg: x. From version 0.12, the only valid positional argument will be `data`, and passing other arguments without an explicit keyword will result in an error or misinterpretation.\n",
      "  warnings.warn(\n"
     ]
    },
    {
     "data": {
      "text/plain": [
       "<AxesSubplot:xlabel='Status', ylabel='count'>"
      ]
     },
     "execution_count": 673,
     "metadata": {},
     "output_type": "execute_result"
    },
    {
     "data": {
      "image/png": "[encoded data removed]",
      "text/plain": [
       "<Figure size 432x288 with 1 Axes>"
      ]
     },
     "metadata": {
      "needs_background": "light"
     },
     "output_type": "display_data"
    }
   ],
   "source": [
    "sns.countplot(df['Status'])"
   ]
  },
  {
   "cell_type": "markdown",
   "metadata": {},
   "source": [
    "### Dropping 2 rows with value Inactive"
   ]
  },
  {
   "cell_type": "code",
   "execution_count": 674,
   "metadata": {},
   "outputs": [],
   "source": [
    "df = df[df['Status'] == 'Finalized']"
   ]
  },
  {
   "cell_type": "code",
   "execution_count": 675,
   "metadata": {},
   "outputs": [
    {
     "data": {
      "text/html": [
       "<div>\n",
       "<style scoped>\n",
       "    .dataframe tbody tr th:only-of-type {\n",
       "        vertical-align: middle;\n",
       "    }\n",
       "\n",
       "    .dataframe tbody tr th {\n",
       "        vertical-align: top;\n",
       "    }\n",
       "\n",
       "    .dataframe thead th {\n",
       "        text-align: right;\n",
       "    }\n",
       "</style>\n",
       "<table border=\"1\" class=\"dataframe\">\n",
       "  <thead>\n",
       "    <tr style=\"text-align: right;\">\n",
       "      <th></th>\n",
       "      <th>AcresBurned</th>\n",
       "      <th>Active</th>\n",
       "      <th>AdminUnit</th>\n",
       "      <th>AirTankers</th>\n",
       "      <th>ArchiveYear</th>\n",
       "      <th>CalFireIncident</th>\n",
       "      <th>CanonicalUrl</th>\n",
       "      <th>ConditionStatement</th>\n",
       "      <th>ControlStatement</th>\n",
       "      <th>Counties</th>\n",
       "      <th>...</th>\n",
       "      <th>StructuresThreatened</th>\n",
       "      <th>UniqueId</th>\n",
       "      <th>Updated</th>\n",
       "      <th>WaterTenders</th>\n",
       "      <th>Transformed_AcresBurned</th>\n",
       "      <th>CALFIRE_AdminUnit</th>\n",
       "      <th>ArchiveMonth</th>\n",
       "      <th>ArchiveDay</th>\n",
       "      <th>Fire_Type</th>\n",
       "      <th>Frequent_County</th>\n",
       "    </tr>\n",
       "  </thead>\n",
       "  <tbody>\n",
       "    <tr>\n",
       "      <th>0</th>\n",
       "      <td>257314.0</td>\n",
       "      <td>False</td>\n",
       "      <td>Stanislaus National Forest/Yosemite National Park</td>\n",
       "      <td>NaN</td>\n",
       "      <td>2013</td>\n",
       "      <td>True</td>\n",
       "      <td>/incidents/2013/8/17/rim-fire/</td>\n",
       "      <td>NaN</td>\n",
       "      <td>NaN</td>\n",
       "      <td>Tuolumne</td>\n",
       "      <td>...</td>\n",
       "      <td>NaN</td>\n",
       "      <td>5fb18d4d-213f-4d83-a179-daaf11939e78</td>\n",
       "      <td>2013-09-06T18:30:00Z</td>\n",
       "      <td>NaN</td>\n",
       "      <td>22.984556</td>\n",
       "      <td>0</td>\n",
       "      <td>8</td>\n",
       "      <td>17</td>\n",
       "      <td>rim</td>\n",
       "      <td>0</td>\n",
       "    </tr>\n",
       "    <tr>\n",
       "      <th>1</th>\n",
       "      <td>30274.0</td>\n",
       "      <td>False</td>\n",
       "      <td>USFS Angeles National Forest/Los Angeles Count...</td>\n",
       "      <td>NaN</td>\n",
       "      <td>2013</td>\n",
       "      <td>True</td>\n",
       "      <td>/incidents/2013/5/30/powerhouse-fire/</td>\n",
       "      <td>NaN</td>\n",
       "      <td>NaN</td>\n",
       "      <td>Los Angeles</td>\n",
       "      <td>...</td>\n",
       "      <td>NaN</td>\n",
       "      <td>bf37805e-1cc2-4208-9972-753e47874c87</td>\n",
       "      <td>2013-06-08T18:30:00Z</td>\n",
       "      <td>NaN</td>\n",
       "      <td>17.011379</td>\n",
       "      <td>1</td>\n",
       "      <td>5</td>\n",
       "      <td>30</td>\n",
       "      <td>powerhouse</td>\n",
       "      <td>0</td>\n",
       "    </tr>\n",
       "    <tr>\n",
       "      <th>2</th>\n",
       "      <td>27531.0</td>\n",
       "      <td>False</td>\n",
       "      <td>CAL FIRE Riverside Unit / San Bernardino Natio...</td>\n",
       "      <td>NaN</td>\n",
       "      <td>2013</td>\n",
       "      <td>True</td>\n",
       "      <td>/incidents/2013/7/15/mountain-fire/</td>\n",
       "      <td>NaN</td>\n",
       "      <td>NaN</td>\n",
       "      <td>Riverside</td>\n",
       "      <td>...</td>\n",
       "      <td>NaN</td>\n",
       "      <td>a3149fec-4d48-427c-8b2c-59e8b79d59db</td>\n",
       "      <td>2013-07-30T18:00:00Z</td>\n",
       "      <td>NaN</td>\n",
       "      <td>16.772015</td>\n",
       "      <td>1</td>\n",
       "      <td>7</td>\n",
       "      <td>15</td>\n",
       "      <td>mountain</td>\n",
       "      <td>1</td>\n",
       "    </tr>\n",
       "    <tr>\n",
       "      <th>3</th>\n",
       "      <td>27440.0</td>\n",
       "      <td>False</td>\n",
       "      <td>Tahoe National Forest</td>\n",
       "      <td>NaN</td>\n",
       "      <td>2013</td>\n",
       "      <td>False</td>\n",
       "      <td>/incidents/2013/8/10/american-fire/</td>\n",
       "      <td>NaN</td>\n",
       "      <td>NaN</td>\n",
       "      <td>Placer</td>\n",
       "      <td>...</td>\n",
       "      <td>NaN</td>\n",
       "      <td>8213f5c7-34fa-403b-a4bc-da2ace6e6625</td>\n",
       "      <td>2013-08-30T08:00:00Z</td>\n",
       "      <td>NaN</td>\n",
       "      <td>16.763708</td>\n",
       "      <td>0</td>\n",
       "      <td>8</td>\n",
       "      <td>10</td>\n",
       "      <td>american</td>\n",
       "      <td>0</td>\n",
       "    </tr>\n",
       "    <tr>\n",
       "      <th>4</th>\n",
       "      <td>24251.0</td>\n",
       "      <td>False</td>\n",
       "      <td>Ventura County Fire/CAL FIRE</td>\n",
       "      <td>NaN</td>\n",
       "      <td>2013</td>\n",
       "      <td>True</td>\n",
       "      <td>/incidents/2013/5/2/springs-fire/</td>\n",
       "      <td>Acreage has been reduced based upon more accur...</td>\n",
       "      <td>NaN</td>\n",
       "      <td>Ventura</td>\n",
       "      <td>...</td>\n",
       "      <td>NaN</td>\n",
       "      <td>46731fb8-3350-4920-bdf7-910ac0eb715c</td>\n",
       "      <td>2013-05-11T06:30:00Z</td>\n",
       "      <td>11.0</td>\n",
       "      <td>16.455486</td>\n",
       "      <td>1</td>\n",
       "      <td>5</td>\n",
       "      <td>2</td>\n",
       "      <td>springs</td>\n",
       "      <td>0</td>\n",
       "    </tr>\n",
       "  </tbody>\n",
       "</table>\n",
       "<p>5 rows × 46 columns</p>\n",
       "</div>"
      ],
      "text/plain": [
       "   AcresBurned  Active                                          AdminUnit  \\\n",
       "0     257314.0   False  Stanislaus National Forest/Yosemite National Park   \n",
       "1      30274.0   False  USFS Angeles National Forest/Los Angeles Count...   \n",
       "2      27531.0   False  CAL FIRE Riverside Unit / San Bernardino Natio...   \n",
       "3      27440.0   False                              Tahoe National Forest   \n",
       "4      24251.0   False                       Ventura County Fire/CAL FIRE   \n",
       "\n",
       "   AirTankers  ArchiveYear  CalFireIncident  \\\n",
       "0         NaN         2013             True   \n",
       "1         NaN         2013             True   \n",
       "2         NaN         2013             True   \n",
       "3         NaN         2013            False   \n",
       "4         NaN         2013             True   \n",
       "\n",
       "                            CanonicalUrl  \\\n",
       "0         /incidents/2013/8/17/rim-fire/   \n",
       "1  /incidents/2013/5/30/powerhouse-fire/   \n",
       "2    /incidents/2013/7/15/mountain-fire/   \n",
       "3    /incidents/2013/8/10/american-fire/   \n",
       "4      /incidents/2013/5/2/springs-fire/   \n",
       "\n",
       "                                  ConditionStatement ControlStatement  \\\n",
       "0                                                NaN              NaN   \n",
       "1                                                NaN              NaN   \n",
       "2                                                NaN              NaN   \n",
       "3                                                NaN              NaN   \n",
       "4  Acreage has been reduced based upon more accur...              NaN   \n",
       "\n",
       "      Counties  ... StructuresThreatened  \\\n",
       "0     Tuolumne  ...                  NaN   \n",
       "1  Los Angeles  ...                  NaN   \n",
       "2    Riverside  ...                  NaN   \n",
       "3       Placer  ...                  NaN   \n",
       "4      Ventura  ...                  NaN   \n",
       "\n",
       "                               UniqueId               Updated  WaterTenders  \\\n",
       "0  5fb18d4d-213f-4d83-a179-daaf11939e78  2013-09-06T18:30:00Z           NaN   \n",
       "1  bf37805e-1cc2-4208-9972-753e47874c87  2013-06-08T18:30:00Z           NaN   \n",
       "2  a3149fec-4d48-427c-8b2c-59e8b79d59db  2013-07-30T18:00:00Z           NaN   \n",
       "3  8213f5c7-34fa-403b-a4bc-da2ace6e6625  2013-08-30T08:00:00Z           NaN   \n",
       "4  46731fb8-3350-4920-bdf7-910ac0eb715c  2013-05-11T06:30:00Z          11.0   \n",
       "\n",
       "  Transformed_AcresBurned  CALFIRE_AdminUnit  ArchiveMonth  ArchiveDay  \\\n",
       "0               22.984556                  0             8          17   \n",
       "1               17.011379                  1             5          30   \n",
       "2               16.772015                  1             7          15   \n",
       "3               16.763708                  0             8          10   \n",
       "4               16.455486                  1             5           2   \n",
       "\n",
       "    Fire_Type  Frequent_County  \n",
       "0         rim                0  \n",
       "1  powerhouse                0  \n",
       "2    mountain                1  \n",
       "3    american                0  \n",
       "4     springs                0  \n",
       "\n",
       "[5 rows x 46 columns]"
      ]
     },
     "execution_count": 675,
     "metadata": {},
     "output_type": "execute_result"
    }
   ],
   "source": [
    "df.head()"
   ]
  },
  {
   "cell_type": "markdown",
   "metadata": {},
   "source": [
    "## CrewsInvolved"
   ]
  },
  {
   "cell_type": "code",
   "execution_count": 676,
   "metadata": {},
   "outputs": [
    {
     "data": {
      "text/plain": [
       "0.8930317848410758"
      ]
     },
     "execution_count": 676,
     "metadata": {},
     "output_type": "execute_result"
    }
   ],
   "source": [
    "df['CrewsInvolved'].isna().sum() / DATASET_LEN"
   ]
  },
  {
   "cell_type": "code",
   "execution_count": 677,
   "metadata": {},
   "outputs": [
    {
     "name": "stderr",
     "output_type": "stream",
     "text": [
      "C:\\Users\\jiten\\anaconda3\\lib\\site-packages\\seaborn\\distributions.py:2619: FutureWarning: `distplot` is a deprecated function and will be removed in a future version. Please adapt your code to use either `displot` (a figure-level function with similar flexibility) or `histplot` (an axes-level function for histograms).\n",
      "  warnings.warn(msg, FutureWarning)\n"
     ]
    },
    {
     "data": {
      "text/plain": [
       "<AxesSubplot:xlabel='CrewsInvolved', ylabel='Density'>"
      ]
     },
     "execution_count": 677,
     "metadata": {},
     "output_type": "execute_result"
    },
    {
     "data": {
      "image/png": "[encoded data removed]",
      "text/plain": [
       "<Figure size 432x288 with 1 Axes>"
      ]
     },
     "metadata": {
      "needs_background": "light"
     },
     "output_type": "display_data"
    }
   ],
   "source": [
    "sns.distplot(df['CrewsInvolved'])"
   ]
  },
  {
   "cell_type": "code",
   "execution_count": 678,
   "metadata": {},
   "outputs": [
    {
     "data": {
      "text/plain": [
       "<AxesSubplot:xlabel='CrewsInvolved', ylabel='AcresBurned'>"
      ]
     },
     "execution_count": 678,
     "metadata": {},
     "output_type": "execute_result"
    },
    {
     "data": {
      "image/png": "[encoded data removed]",
      "text/plain": [
       "<Figure size 432x288 with 1 Axes>"
      ]
     },
     "metadata": {
      "needs_background": "light"
     },
     "output_type": "display_data"
    }
   ],
   "source": [
    "sns.scatterplot(x='CrewsInvolved', y='AcresBurned', data=df)"
   ]
  },
  {
   "cell_type": "code",
   "execution_count": 679,
   "metadata": {},
   "outputs": [
    {
     "data": {
      "text/plain": [
       "<AxesSubplot:xlabel='StructuresDamaged', ylabel='AcresBurned'>"
      ]
     },
     "execution_count": 679,
     "metadata": {},
     "output_type": "execute_result"
    },
    {
     "data": {
      "image/png": "[encoded data removed]",
      "text/plain": [
       "<Figure size 432x288 with 1 Axes>"
      ]
     },
     "metadata": {
      "needs_background": "light"
     },
     "output_type": "display_data"
    }
   ],
   "source": [
    "sns.scatterplot(x='StructuresDamaged', y='AcresBurned', data=df)"
   ]
  },
  {
   "cell_type": "code",
   "execution_count": 680,
   "metadata": {},
   "outputs": [
    {
     "data": {
      "text/plain": [
       "<AxesSubplot:xlabel='StructuresDestroyed', ylabel='AcresBurned'>"
      ]
     },
     "execution_count": 680,
     "metadata": {},
     "output_type": "execute_result"
    },
    {
     "data": {
      "image/png": "[encoded data removed]",
      "text/plain": [
       "<Figure size 432x288 with 1 Axes>"
      ]
     },
     "metadata": {
      "needs_background": "light"
     },
     "output_type": "display_data"
    }
   ],
   "source": [
    "sns.scatterplot(x='StructuresDestroyed', y='AcresBurned', data=df)"
   ]
  },
  {
   "cell_type": "markdown",
   "metadata": {},
   "source": [
    "## Dozers Feature"
   ]
  },
  {
   "cell_type": "code",
   "execution_count": 681,
   "metadata": {},
   "outputs": [
    {
     "data": {
      "text/plain": [
       "0.9223716381418093"
      ]
     },
     "execution_count": 681,
     "metadata": {},
     "output_type": "execute_result"
    }
   ],
   "source": [
    "df['Dozers'].isna().sum() / DATASET_LEN"
   ]
  },
  {
   "cell_type": "code",
   "execution_count": 682,
   "metadata": {},
   "outputs": [
    {
     "data": {
      "text/plain": [
       "1.0     33\n",
       "2.0     29\n",
       "3.0     14\n",
       "5.0      8\n",
       "4.0      6\n",
       "0.0      4\n",
       "8.0      3\n",
       "76.0     3\n",
       "27.0     2\n",
       "25.0     2\n",
       "20.0     2\n",
       "22.0     2\n",
       "24.0     2\n",
       "48.0     2\n",
       "6.0      2\n",
       "28.0     1\n",
       "29.0     1\n",
       "13.0     1\n",
       "18.0     1\n",
       "14.0     1\n",
       "12.0     1\n",
       "9.0      1\n",
       "7.0      1\n",
       "10.0     1\n",
       "Name: Dozers, dtype: int64"
      ]
     },
     "execution_count": 682,
     "metadata": {},
     "output_type": "execute_result"
    }
   ],
   "source": [
    "df['Dozers'].value_counts()"
   ]
  },
  {
   "cell_type": "markdown",
   "metadata": {},
   "source": [
    "### Most of the data is missing and values 1, 2, and 3 are significant"
   ]
  },
  {
   "cell_type": "code",
   "execution_count": 683,
   "metadata": {},
   "outputs": [
    {
     "data": {
      "text/plain": [
       "<AxesSubplot:xlabel='AcresBurned', ylabel='Dozers'>"
      ]
     },
     "execution_count": 683,
     "metadata": {},
     "output_type": "execute_result"
    },
    {
     "data": {
      "image/png": "[encoded data removed]",
      "text/plain": [
       "<Figure size 432x288 with 1 Axes>"
      ]
     },
     "metadata": {
      "needs_background": "light"
     },
     "output_type": "display_data"
    }
   ],
   "source": [
    "sns.scatterplot(x='AcresBurned', y='Dozers', data=df)"
   ]
  },
  {
   "cell_type": "code",
   "execution_count": 684,
   "metadata": {},
   "outputs": [
    {
     "data": {
      "text/plain": [
       "<AxesSubplot:xlabel='CrewsInvolved', ylabel='Dozers'>"
      ]
     },
     "execution_count": 684,
     "metadata": {},
     "output_type": "execute_result"
    },
    {
     "data": {
      "image/png": "[encoded data removed]",
      "text/plain": [
       "<Figure size 432x288 with 1 Axes>"
      ]
     },
     "metadata": {
      "needs_background": "light"
     },
     "output_type": "display_data"
    }
   ],
   "source": [
    "sns.scatterplot(x='CrewsInvolved', y='Dozers', data=df)"
   ]
  },
  {
   "cell_type": "code",
   "execution_count": 685,
   "metadata": {},
   "outputs": [
    {
     "data": {
      "text/plain": [
       "Index(['AcresBurned', 'Active', 'AdminUnit', 'AirTankers', 'ArchiveYear',\n",
       "       'CalFireIncident', 'CanonicalUrl', 'ConditionStatement',\n",
       "       'ControlStatement', 'Counties', 'CountyIds', 'CrewsInvolved', 'Dozers',\n",
       "       'Engines', 'Extinguished', 'Fatalities', 'Featured', 'Final',\n",
       "       'FuelType', 'Helicopters', 'Injuries', 'Latitude', 'Location',\n",
       "       'Longitude', 'MajorIncident', 'Name', 'PercentContained',\n",
       "       'PersonnelInvolved', 'Public', 'SearchDescription', 'SearchKeywords',\n",
       "       'Started', 'Status', 'StructuresDamaged', 'StructuresDestroyed',\n",
       "       'StructuresEvacuated', 'StructuresThreatened', 'UniqueId', 'Updated',\n",
       "       'WaterTenders', 'Transformed_AcresBurned', 'CALFIRE_AdminUnit',\n",
       "       'ArchiveMonth', 'ArchiveDay', 'Fire_Type', 'Frequent_County'],\n",
       "      dtype='object')"
      ]
     },
     "execution_count": 685,
     "metadata": {},
     "output_type": "execute_result"
    }
   ],
   "source": [
    "df.columns"
   ]
  },
  {
   "cell_type": "markdown",
   "metadata": {},
   "source": [
    "## Engines "
   ]
  },
  {
   "cell_type": "code",
   "execution_count": 686,
   "metadata": {},
   "outputs": [
    {
     "data": {
      "text/plain": [
       "0.8808068459657702"
      ]
     },
     "execution_count": 686,
     "metadata": {},
     "output_type": "execute_result"
    }
   ],
   "source": [
    "df['Engines'].isna().sum() / DATASET_LEN"
   ]
  },
  {
   "cell_type": "code",
   "execution_count": 687,
   "metadata": {},
   "outputs": [
    {
     "data": {
      "text/plain": [
       "5.0      16\n",
       "10.0     15\n",
       "2.0      14\n",
       "3.0      14\n",
       "15.0     10\n",
       "4.0       8\n",
       "1.0       8\n",
       "7.0       7\n",
       "20.0      7\n",
       "17.0      6\n",
       "11.0      6\n",
       "30.0      5\n",
       "12.0      5\n",
       "25.0      4\n",
       "9.0       4\n",
       "8.0       4\n",
       "34.0      4\n",
       "6.0       4\n",
       "256.0     3\n",
       "24.0      3\n",
       "18.0      3\n",
       "35.0      3\n",
       "14.0      2\n",
       "73.0      2\n",
       "13.0      2\n",
       "21.0      2\n",
       "29.0      2\n",
       "37.0      2\n",
       "47.0      1\n",
       "92.0      1\n",
       "138.0     1\n",
       "117.0     1\n",
       "51.0      1\n",
       "41.0      1\n",
       "22.0      1\n",
       "45.0      1\n",
       "98.0      1\n",
       "69.0      1\n",
       "0.0       1\n",
       "55.0      1\n",
       "19.0      1\n",
       "23.0      1\n",
       "57.0      1\n",
       "46.0      1\n",
       "201.0     1\n",
       "31.0      1\n",
       "26.0      1\n",
       "42.0      1\n",
       "95.0      1\n",
       "62.0      1\n",
       "131.0     1\n",
       "183.0     1\n",
       "36.0      1\n",
       "16.0      1\n",
       "Name: Engines, dtype: int64"
      ]
     },
     "execution_count": 687,
     "metadata": {},
     "output_type": "execute_result"
    }
   ],
   "source": [
    "df[\"Engines\"].value_counts()"
   ]
  },
  {
   "cell_type": "markdown",
   "metadata": {},
   "source": [
    "### Some engine values are really large such as 131, 183, 201, 117, 138, 256 and so on \n",
    "### Seems like outliers and most of the data is missing \n",
    "### It is better to ignore the feature while modelling"
   ]
  },
  {
   "cell_type": "code",
   "execution_count": 688,
   "metadata": {},
   "outputs": [
    {
     "data": {
      "text/plain": [
       "Index(['AcresBurned', 'Active', 'AdminUnit', 'AirTankers', 'ArchiveYear',\n",
       "       'CalFireIncident', 'CanonicalUrl', 'ConditionStatement',\n",
       "       'ControlStatement', 'Counties', 'CountyIds', 'CrewsInvolved', 'Dozers',\n",
       "       'Engines', 'Extinguished', 'Fatalities', 'Featured', 'Final',\n",
       "       'FuelType', 'Helicopters', 'Injuries', 'Latitude', 'Location',\n",
       "       'Longitude', 'MajorIncident', 'Name', 'PercentContained',\n",
       "       'PersonnelInvolved', 'Public', 'SearchDescription', 'SearchKeywords',\n",
       "       'Started', 'Status', 'StructuresDamaged', 'StructuresDestroyed',\n",
       "       'StructuresEvacuated', 'StructuresThreatened', 'UniqueId', 'Updated',\n",
       "       'WaterTenders', 'Transformed_AcresBurned', 'CALFIRE_AdminUnit',\n",
       "       'ArchiveMonth', 'ArchiveDay', 'Fire_Type', 'Frequent_County'],\n",
       "      dtype='object')"
      ]
     },
     "execution_count": 688,
     "metadata": {},
     "output_type": "execute_result"
    }
   ],
   "source": [
    "df.columns"
   ]
  },
  {
   "cell_type": "markdown",
   "metadata": {},
   "source": [
    "### Fatalities"
   ]
  },
  {
   "cell_type": "code",
   "execution_count": 689,
   "metadata": {},
   "outputs": [
    {
     "data": {
      "text/plain": [
       "0.9847188264058679"
      ]
     },
     "execution_count": 689,
     "metadata": {},
     "output_type": "execute_result"
    }
   ],
   "source": [
    "df['Fatalities'].isna().sum() / DATASET_LEN"
   ]
  },
  {
   "cell_type": "code",
   "execution_count": 690,
   "metadata": {},
   "outputs": [
    {
     "data": {
      "text/plain": [
       "1.0     7\n",
       "3.0     6\n",
       "6.0     2\n",
       "22.0    2\n",
       "9.0     1\n",
       "4.0     1\n",
       "85.0    1\n",
       "2.0     1\n",
       "Name: Fatalities, dtype: int64"
      ]
     },
     "execution_count": 690,
     "metadata": {},
     "output_type": "execute_result"
    }
   ],
   "source": [
    "df['Fatalities'].value_counts()"
   ]
  },
  {
   "cell_type": "code",
   "execution_count": 691,
   "metadata": {},
   "outputs": [
    {
     "data": {
      "text/plain": [
       "<AxesSubplot:xlabel='Fatalities', ylabel='AcresBurned'>"
      ]
     },
     "execution_count": 691,
     "metadata": {},
     "output_type": "execute_result"
    },
    {
     "data": {
      "image/png": "[encoded data removed]",
      "text/plain": [
       "<Figure size 432x288 with 1 Axes>"
      ]
     },
     "metadata": {
      "needs_background": "light"
     },
     "output_type": "display_data"
    }
   ],
   "source": [
    "sns.scatterplot(x='Fatalities', y='AcresBurned', data=df)"
   ]
  },
  {
   "cell_type": "code",
   "execution_count": 692,
   "metadata": {},
   "outputs": [
    {
     "data": {
      "text/plain": [
       "Index(['AcresBurned', 'Active', 'AdminUnit', 'AirTankers', 'ArchiveYear',\n",
       "       'CalFireIncident', 'CanonicalUrl', 'ConditionStatement',\n",
       "       'ControlStatement', 'Counties', 'CountyIds', 'CrewsInvolved', 'Dozers',\n",
       "       'Engines', 'Extinguished', 'Fatalities', 'Featured', 'Final',\n",
       "       'FuelType', 'Helicopters', 'Injuries', 'Latitude', 'Location',\n",
       "       'Longitude', 'MajorIncident', 'Name', 'PercentContained',\n",
       "       'PersonnelInvolved', 'Public', 'SearchDescription', 'SearchKeywords',\n",
       "       'Started', 'Status', 'StructuresDamaged', 'StructuresDestroyed',\n",
       "       'StructuresEvacuated', 'StructuresThreatened', 'UniqueId', 'Updated',\n",
       "       'WaterTenders', 'Transformed_AcresBurned', 'CALFIRE_AdminUnit',\n",
       "       'ArchiveMonth', 'ArchiveDay', 'Fire_Type', 'Frequent_County'],\n",
       "      dtype='object')"
      ]
     },
     "execution_count": 692,
     "metadata": {},
     "output_type": "execute_result"
    }
   ],
   "source": [
    "df.columns"
   ]
  },
  {
   "cell_type": "markdown",
   "metadata": {},
   "source": [
    "## Featured"
   ]
  },
  {
   "cell_type": "code",
   "execution_count": 693,
   "metadata": {},
   "outputs": [
    {
     "data": {
      "text/plain": [
       "0"
      ]
     },
     "execution_count": 693,
     "metadata": {},
     "output_type": "execute_result"
    }
   ],
   "source": [
    "df['Featured'].isna().sum()"
   ]
  },
  {
   "cell_type": "code",
   "execution_count": 694,
   "metadata": {},
   "outputs": [
    {
     "data": {
      "text/plain": [
       "False    1606\n",
       "True       26\n",
       "Name: Featured, dtype: int64"
      ]
     },
     "execution_count": 694,
     "metadata": {},
     "output_type": "execute_result"
    }
   ],
   "source": [
    "df['Featured'].value_counts()"
   ]
  },
  {
   "cell_type": "code",
   "execution_count": 695,
   "metadata": {},
   "outputs": [
    {
     "name": "stderr",
     "output_type": "stream",
     "text": [
      "C:\\Users\\jiten\\anaconda3\\lib\\site-packages\\seaborn\\_decorators.py:36: FutureWarning: Pass the following variable as a keyword arg: x. From version 0.12, the only valid positional argument will be `data`, and passing other arguments without an explicit keyword will result in an error or misinterpretation.\n",
      "  warnings.warn(\n"
     ]
    },
    {
     "data": {
      "text/plain": [
       "<AxesSubplot:xlabel='Featured', ylabel='count'>"
      ]
     },
     "execution_count": 695,
     "metadata": {},
     "output_type": "execute_result"
    },
    {
     "data": {
      "image/png": "[encoded data removed]",
      "text/plain": [
       "<Figure size 432x288 with 1 Axes>"
      ]
     },
     "metadata": {
      "needs_background": "light"
     },
     "output_type": "display_data"
    }
   ],
   "source": [
    "sns.countplot(df['Featured'])"
   ]
  },
  {
   "cell_type": "code",
   "execution_count": 696,
   "metadata": {},
   "outputs": [
    {
     "data": {
      "text/plain": [
       "<AxesSubplot:xlabel='CrewsInvolved', ylabel='AcresBurned'>"
      ]
     },
     "execution_count": 696,
     "metadata": {},
     "output_type": "execute_result"
    },
    {
     "data": {
      "image/png": "[encoded data removed]",
      "text/plain": [
       "<Figure size 432x288 with 1 Axes>"
      ]
     },
     "metadata": {
      "needs_background": "light"
     },
     "output_type": "display_data"
    }
   ],
   "source": [
    "sns.scatterplot(x='CrewsInvolved', y='AcresBurned', data=df, hue='Featured')"
   ]
  },
  {
   "cell_type": "code",
   "execution_count": 697,
   "metadata": {},
   "outputs": [
    {
     "data": {
      "text/plain": [
       "<AxesSubplot:xlabel='CrewsInvolved', ylabel='AcresBurned'>"
      ]
     },
     "execution_count": 697,
     "metadata": {},
     "output_type": "execute_result"
    },
    {
     "data": {
      "image/png": "[encoded data removed]",
      "text/plain": [
       "<Figure size 432x288 with 1 Axes>"
      ]
     },
     "metadata": {
      "needs_background": "light"
     },
     "output_type": "display_data"
    }
   ],
   "source": [
    "sns.scatterplot(x='CrewsInvolved', y='AcresBurned', data=df, hue='Featured')"
   ]
  },
  {
   "cell_type": "markdown",
   "metadata": {},
   "source": [
    "### No pattern found when  Featured is set to True\n",
    "### Since only 26 values have True we can drop it and ignore the entire feature"
   ]
  },
  {
   "cell_type": "code",
   "execution_count": 698,
   "metadata": {},
   "outputs": [],
   "source": [
    "df = df[df['Featured'] == False]"
   ]
  },
  {
   "cell_type": "code",
   "execution_count": 699,
   "metadata": {},
   "outputs": [
    {
     "data": {
      "text/plain": [
       "Index(['AcresBurned', 'Active', 'AdminUnit', 'AirTankers', 'ArchiveYear',\n",
       "       'CalFireIncident', 'CanonicalUrl', 'ConditionStatement',\n",
       "       'ControlStatement', 'Counties', 'CountyIds', 'CrewsInvolved', 'Dozers',\n",
       "       'Engines', 'Extinguished', 'Fatalities', 'Featured', 'Final',\n",
       "       'FuelType', 'Helicopters', 'Injuries', 'Latitude', 'Location',\n",
       "       'Longitude', 'MajorIncident', 'Name', 'PercentContained',\n",
       "       'PersonnelInvolved', 'Public', 'SearchDescription', 'SearchKeywords',\n",
       "       'Started', 'Status', 'StructuresDamaged', 'StructuresDestroyed',\n",
       "       'StructuresEvacuated', 'StructuresThreatened', 'UniqueId', 'Updated',\n",
       "       'WaterTenders', 'Transformed_AcresBurned', 'CALFIRE_AdminUnit',\n",
       "       'ArchiveMonth', 'ArchiveDay', 'Fire_Type', 'Frequent_County'],\n",
       "      dtype='object')"
      ]
     },
     "execution_count": 699,
     "metadata": {},
     "output_type": "execute_result"
    }
   ],
   "source": [
    "df.columns"
   ]
  },
  {
   "cell_type": "markdown",
   "metadata": {},
   "source": [
    "## Final"
   ]
  },
  {
   "cell_type": "code",
   "execution_count": 700,
   "metadata": {},
   "outputs": [
    {
     "data": {
      "text/plain": [
       "0"
      ]
     },
     "execution_count": 700,
     "metadata": {},
     "output_type": "execute_result"
    }
   ],
   "source": [
    "df['Final'].isna().sum()"
   ]
  },
  {
   "cell_type": "code",
   "execution_count": 701,
   "metadata": {},
   "outputs": [
    {
     "data": {
      "text/plain": [
       "True    1606\n",
       "Name: Final, dtype: int64"
      ]
     },
     "execution_count": 701,
     "metadata": {},
     "output_type": "execute_result"
    }
   ],
   "source": [
    "df['Final'].value_counts()"
   ]
  },
  {
   "cell_type": "markdown",
   "metadata": {},
   "source": [
    "### Since all the values of Final variable are True we can drop it and safely ignore this feature"
   ]
  },
  {
   "cell_type": "markdown",
   "metadata": {},
   "source": [
    "## FuelType"
   ]
  },
  {
   "cell_type": "code",
   "execution_count": 702,
   "metadata": {},
   "outputs": [
    {
     "data": {
      "text/plain": [
       "0.976161369193154"
      ]
     },
     "execution_count": 702,
     "metadata": {},
     "output_type": "execute_result"
    }
   ],
   "source": [
    "df['FuelType'].isna().sum() / DATASET_LEN"
   ]
  },
  {
   "cell_type": "code",
   "execution_count": 703,
   "metadata": {},
   "outputs": [
    {
     "data": {
      "text/plain": [
       "Grass               2\n",
       "grass               2\n",
       "Vegetation          1\n",
       "Brush               1\n",
       "grass and brush     1\n",
       "Grass and Brush     1\n",
       "brush and timber    1\n",
       "Name: FuelType, dtype: int64"
      ]
     },
     "execution_count": 703,
     "metadata": {},
     "output_type": "execute_result"
    }
   ],
   "source": [
    "df['FuelType'].value_counts()"
   ]
  },
  {
   "cell_type": "code",
   "execution_count": 704,
   "metadata": {},
   "outputs": [
    {
     "name": "stderr",
     "output_type": "stream",
     "text": [
      "C:\\Users\\jiten\\anaconda3\\lib\\site-packages\\seaborn\\_decorators.py:36: FutureWarning: Pass the following variable as a keyword arg: x. From version 0.12, the only valid positional argument will be `data`, and passing other arguments without an explicit keyword will result in an error or misinterpretation.\n",
      "  warnings.warn(\n"
     ]
    },
    {
     "data": {
      "text/plain": [
       "<AxesSubplot:xlabel='FuelType', ylabel='count'>"
      ]
     },
     "execution_count": 704,
     "metadata": {},
     "output_type": "execute_result"
    },
    {
     "data": {
      "image/png": "[encoded data removed]",
      "text/plain": [
       "<Figure size 432x288 with 1 Axes>"
      ]
     },
     "metadata": {
      "needs_background": "light"
     },
     "output_type": "display_data"
    }
   ],
   "source": [
    "sns.countplot(df['FuelType'])"
   ]
  },
  {
   "cell_type": "markdown",
   "metadata": {},
   "source": [
    "### As majority of the data of this feature is missing and non missing values are also scattered.\n",
    "### This feature can be dropped during modelling"
   ]
  },
  {
   "cell_type": "markdown",
   "metadata": {},
   "source": [
    "## Helicopters"
   ]
  },
  {
   "cell_type": "code",
   "execution_count": 705,
   "metadata": {},
   "outputs": [
    {
     "data": {
      "text/plain": [
       "0.9315403422982885"
      ]
     },
     "execution_count": 705,
     "metadata": {},
     "output_type": "execute_result"
    }
   ],
   "source": [
    "df['Helicopters'].isna().sum() / DATASET_LEN"
   ]
  },
  {
   "cell_type": "code",
   "execution_count": 706,
   "metadata": {},
   "outputs": [
    {
     "data": {
      "text/plain": [
       "2.0     27\n",
       "1.0     20\n",
       "20.0     7\n",
       "5.0      6\n",
       "0.0      5\n",
       "4.0      3\n",
       "7.0      2\n",
       "3.0      2\n",
       "10.0     2\n",
       "18.0     1\n",
       "11.0     1\n",
       "24.0     1\n",
       "27.0     1\n",
       "25.0     1\n",
       "6.0      1\n",
       "9.0      1\n",
       "29.0     1\n",
       "Name: Helicopters, dtype: int64"
      ]
     },
     "execution_count": 706,
     "metadata": {},
     "output_type": "execute_result"
    }
   ],
   "source": [
    "df['Helicopters'].value_counts()"
   ]
  },
  {
   "cell_type": "markdown",
   "metadata": {},
   "source": [
    "### As majority of the data of this feature is missing and non missing values are also scattered.\n",
    "### This feature can be dropped during modelling"
   ]
  },
  {
   "cell_type": "code",
   "execution_count": 707,
   "metadata": {},
   "outputs": [
    {
     "data": {
      "text/plain": [
       "Index(['AcresBurned', 'Active', 'AdminUnit', 'AirTankers', 'ArchiveYear',\n",
       "       'CalFireIncident', 'CanonicalUrl', 'ConditionStatement',\n",
       "       'ControlStatement', 'Counties', 'CountyIds', 'CrewsInvolved', 'Dozers',\n",
       "       'Engines', 'Extinguished', 'Fatalities', 'Featured', 'Final',\n",
       "       'FuelType', 'Helicopters', 'Injuries', 'Latitude', 'Location',\n",
       "       'Longitude', 'MajorIncident', 'Name', 'PercentContained',\n",
       "       'PersonnelInvolved', 'Public', 'SearchDescription', 'SearchKeywords',\n",
       "       'Started', 'Status', 'StructuresDamaged', 'StructuresDestroyed',\n",
       "       'StructuresEvacuated', 'StructuresThreatened', 'UniqueId', 'Updated',\n",
       "       'WaterTenders', 'Transformed_AcresBurned', 'CALFIRE_AdminUnit',\n",
       "       'ArchiveMonth', 'ArchiveDay', 'Fire_Type', 'Frequent_County'],\n",
       "      dtype='object')"
      ]
     },
     "execution_count": 707,
     "metadata": {},
     "output_type": "execute_result"
    }
   ],
   "source": [
    "df.columns"
   ]
  },
  {
   "cell_type": "markdown",
   "metadata": {},
   "source": [
    "## Injuries"
   ]
  },
  {
   "cell_type": "code",
   "execution_count": 708,
   "metadata": {},
   "outputs": [
    {
     "data": {
      "text/plain": [
       "0.9083129584352079"
      ]
     },
     "execution_count": 708,
     "metadata": {},
     "output_type": "execute_result"
    }
   ],
   "source": [
    "df['Injuries'].isna().sum() / DATASET_LEN"
   ]
  },
  {
   "cell_type": "code",
   "execution_count": 709,
   "metadata": {},
   "outputs": [
    {
     "data": {
      "text/plain": [
       "1.0     31\n",
       "3.0     24\n",
       "4.0     19\n",
       "2.0     18\n",
       "5.0      6\n",
       "0.0      6\n",
       "6.0      5\n",
       "12.0     2\n",
       "10.0     1\n",
       "14.0     1\n",
       "9.0      1\n",
       "11.0     1\n",
       "15.0     1\n",
       "21.0     1\n",
       "7.0      1\n",
       "26.0     1\n",
       "8.0      1\n",
       "Name: Injuries, dtype: int64"
      ]
     },
     "execution_count": 709,
     "metadata": {},
     "output_type": "execute_result"
    }
   ],
   "source": [
    "df['Injuries'].value_counts()"
   ]
  },
  {
   "cell_type": "code",
   "execution_count": 710,
   "metadata": {},
   "outputs": [
    {
     "name": "stderr",
     "output_type": "stream",
     "text": [
      "C:\\Users\\jiten\\anaconda3\\lib\\site-packages\\seaborn\\_decorators.py:36: FutureWarning: Pass the following variable as a keyword arg: x. From version 0.12, the only valid positional argument will be `data`, and passing other arguments without an explicit keyword will result in an error or misinterpretation.\n",
      "  warnings.warn(\n"
     ]
    },
    {
     "data": {
      "text/plain": [
       "<AxesSubplot:xlabel='Injuries', ylabel='count'>"
      ]
     },
     "execution_count": 710,
     "metadata": {},
     "output_type": "execute_result"
    },
    {
     "data": {
      "image/png": "[encoded data removed]",
      "text/plain": [
       "<Figure size 432x288 with 1 Axes>"
      ]
     },
     "metadata": {
      "needs_background": "light"
     },
     "output_type": "display_data"
    }
   ],
   "source": [
    "sns.countplot(df['Injuries'])"
   ]
  },
  {
   "cell_type": "markdown",
   "metadata": {},
   "source": [
    "### As majority of the data of this feature is missing and non missing values are also scattered.\n",
    "### This feature can be dropped during modelling"
   ]
  },
  {
   "cell_type": "code",
   "execution_count": 711,
   "metadata": {},
   "outputs": [
    {
     "data": {
      "text/plain": [
       "Index(['AcresBurned', 'Active', 'AdminUnit', 'AirTankers', 'ArchiveYear',\n",
       "       'CalFireIncident', 'CanonicalUrl', 'ConditionStatement',\n",
       "       'ControlStatement', 'Counties', 'CountyIds', 'CrewsInvolved', 'Dozers',\n",
       "       'Engines', 'Extinguished', 'Fatalities', 'Featured', 'Final',\n",
       "       'FuelType', 'Helicopters', 'Injuries', 'Latitude', 'Location',\n",
       "       'Longitude', 'MajorIncident', 'Name', 'PercentContained',\n",
       "       'PersonnelInvolved', 'Public', 'SearchDescription', 'SearchKeywords',\n",
       "       'Started', 'Status', 'StructuresDamaged', 'StructuresDestroyed',\n",
       "       'StructuresEvacuated', 'StructuresThreatened', 'UniqueId', 'Updated',\n",
       "       'WaterTenders', 'Transformed_AcresBurned', 'CALFIRE_AdminUnit',\n",
       "       'ArchiveMonth', 'ArchiveDay', 'Fire_Type', 'Frequent_County'],\n",
       "      dtype='object')"
      ]
     },
     "execution_count": 711,
     "metadata": {},
     "output_type": "execute_result"
    }
   ],
   "source": [
    "df.columns"
   ]
  },
  {
   "cell_type": "markdown",
   "metadata": {},
   "source": [
    "## Latitude & Longitude"
   ]
  },
  {
   "cell_type": "code",
   "execution_count": 712,
   "metadata": {},
   "outputs": [
    {
     "data": {
      "text/plain": [
       "0.0"
      ]
     },
     "execution_count": 712,
     "metadata": {},
     "output_type": "execute_result"
    }
   ],
   "source": [
    "df['Latitude'].isna().sum() / DATASET_LEN"
   ]
  },
  {
   "cell_type": "code",
   "execution_count": 713,
   "metadata": {},
   "outputs": [
    {
     "data": {
      "text/plain": [
       "0.0"
      ]
     },
     "execution_count": 713,
     "metadata": {},
     "output_type": "execute_result"
    }
   ],
   "source": [
    "df['Longitude'].isna().sum() / DATASET_LEN"
   ]
  },
  {
   "cell_type": "code",
   "execution_count": 714,
   "metadata": {
    "scrolled": true
   },
   "outputs": [
    {
     "data": {
      "text/plain": [
       "<AxesSubplot:xlabel='Latitude', ylabel='Longitude'>"
      ]
     },
     "execution_count": 714,
     "metadata": {},
     "output_type": "execute_result"
    },
    {
     "data": {
      "image/png": "[encoded data removed]",
      "text/plain": [
       "<Figure size 432x288 with 1 Axes>"
      ]
     },
     "metadata": {
      "needs_background": "light"
     },
     "output_type": "display_data"
    }
   ],
   "source": [
    "sns.scatterplot(x='Latitude', y='Longitude', data=df)"
   ]
  },
  {
   "cell_type": "code",
   "execution_count": 715,
   "metadata": {},
   "outputs": [
    {
     "data": {
      "text/plain": [
       "Index(['AcresBurned', 'Active', 'AdminUnit', 'AirTankers', 'ArchiveYear',\n",
       "       'CalFireIncident', 'CanonicalUrl', 'ConditionStatement',\n",
       "       'ControlStatement', 'Counties', 'CountyIds', 'CrewsInvolved', 'Dozers',\n",
       "       'Engines', 'Extinguished', 'Fatalities', 'Featured', 'Final',\n",
       "       'FuelType', 'Helicopters', 'Injuries', 'Latitude', 'Location',\n",
       "       'Longitude', 'MajorIncident', 'Name', 'PercentContained',\n",
       "       'PersonnelInvolved', 'Public', 'SearchDescription', 'SearchKeywords',\n",
       "       'Started', 'Status', 'StructuresDamaged', 'StructuresDestroyed',\n",
       "       'StructuresEvacuated', 'StructuresThreatened', 'UniqueId', 'Updated',\n",
       "       'WaterTenders', 'Transformed_AcresBurned', 'CALFIRE_AdminUnit',\n",
       "       'ArchiveMonth', 'ArchiveDay', 'Fire_Type', 'Frequent_County'],\n",
       "      dtype='object')"
      ]
     },
     "execution_count": 715,
     "metadata": {},
     "output_type": "execute_result"
    }
   ],
   "source": [
    "df.columns"
   ]
  },
  {
   "cell_type": "markdown",
   "metadata": {},
   "source": [
    "## Location"
   ]
  },
  {
   "cell_type": "code",
   "execution_count": 716,
   "metadata": {},
   "outputs": [
    {
     "data": {
      "text/plain": [
       "0.0"
      ]
     },
     "execution_count": 716,
     "metadata": {},
     "output_type": "execute_result"
    }
   ],
   "source": [
    "df['Location'].isna().sum() / DATASET_LEN"
   ]
  },
  {
   "cell_type": "code",
   "execution_count": 717,
   "metadata": {},
   "outputs": [
    {
     "data": {
      "text/plain": [
       "1577"
      ]
     },
     "execution_count": 717,
     "metadata": {},
     "output_type": "execute_result"
    }
   ],
   "source": [
    "df['Location'].nunique()"
   ]
  },
  {
   "cell_type": "code",
   "execution_count": 718,
   "metadata": {},
   "outputs": [
    {
     "data": {
      "text/plain": [
       "off Highway 20 near Potter Valley, northeast of Ukiah                                     4\n",
       "throughout Sonoma, Solano, Lake & Colusa Counties                                         4\n",
       "Old River Rd, near Mile Marker Post 7.9, Hopland                                          3\n",
       "Mexico / California International border in the area east of the Otay port of entry.      2\n",
       "Westside of Highway 395 at the Sherwin Grade                                              2\n",
       "                                                                                         ..\n",
       "off County Road 86 & County Road 6, west of Dunnigan                                      1\n",
       "off New Peoria Flat Road and Old Melones Road, west of Sonora                             1\n",
       "off of Grub Gulch Road and Acton Grade Road, west of Oakhurst                             1\n",
       "off Nacimiento Lake Dr. and Frazier Rd.                                                   1\n",
       "Off of  Long Point Road and Old Mill Road, Southeast of Camptonville in Nevada County     1\n",
       "Name: Location, Length: 1577, dtype: int64"
      ]
     },
     "execution_count": 718,
     "metadata": {},
     "output_type": "execute_result"
    }
   ],
   "source": [
    "df['Location'].value_counts()"
   ]
  },
  {
   "cell_type": "markdown",
   "metadata": {},
   "source": [
    "### Since lat and longitude are mathematic representations of the Location Feature\n",
    "### For modelling we can use lat long coordiates"
   ]
  },
  {
   "cell_type": "markdown",
   "metadata": {},
   "source": [
    "## MajorIncident"
   ]
  },
  {
   "cell_type": "code",
   "execution_count": 719,
   "metadata": {},
   "outputs": [
    {
     "data": {
      "text/plain": [
       "0"
      ]
     },
     "execution_count": 719,
     "metadata": {},
     "output_type": "execute_result"
    }
   ],
   "source": [
    "df['MajorIncident'].isna().sum()"
   ]
  },
  {
   "cell_type": "code",
   "execution_count": 720,
   "metadata": {},
   "outputs": [
    {
     "name": "stderr",
     "output_type": "stream",
     "text": [
      "C:\\Users\\jiten\\anaconda3\\lib\\site-packages\\seaborn\\_decorators.py:36: FutureWarning: Pass the following variable as a keyword arg: x. From version 0.12, the only valid positional argument will be `data`, and passing other arguments without an explicit keyword will result in an error or misinterpretation.\n",
      "  warnings.warn(\n"
     ]
    },
    {
     "data": {
      "text/plain": [
       "<AxesSubplot:xlabel='MajorIncident', ylabel='count'>"
      ]
     },
     "execution_count": 720,
     "metadata": {},
     "output_type": "execute_result"
    },
    {
     "data": {
      "image/png": "[encoded data removed]",
      "text/plain": [
       "<Figure size 432x288 with 1 Axes>"
      ]
     },
     "metadata": {
      "needs_background": "light"
     },
     "output_type": "display_data"
    }
   ],
   "source": [
    "sns.countplot(df['MajorIncident'])"
   ]
  },
  {
   "cell_type": "code",
   "execution_count": 721,
   "metadata": {},
   "outputs": [
    {
     "data": {
      "text/plain": [
       "<AxesSubplot:xlabel='AcresBurned', ylabel='ArchiveYear'>"
      ]
     },
     "execution_count": 721,
     "metadata": {},
     "output_type": "execute_result"
    },
    {
     "data": {
      "image/png": "[encoded data removed]",
      "text/plain": [
       "<Figure size 432x288 with 1 Axes>"
      ]
     },
     "metadata": {
      "needs_background": "light"
     },
     "output_type": "display_data"
    }
   ],
   "source": [
    "sns.scatterplot(x='AcresBurned', y='ArchiveYear', hue='MajorIncident', data=df)"
   ]
  },
  {
   "cell_type": "code",
   "execution_count": 722,
   "metadata": {},
   "outputs": [
    {
     "data": {
      "text/plain": [
       "<AxesSubplot:xlabel='MajorIncident', ylabel='AcresBurned'>"
      ]
     },
     "execution_count": 722,
     "metadata": {},
     "output_type": "execute_result"
    },
    {
     "data": {
      "image/png": "[encoded data removed]",
      "text/plain": [
       "<Figure size 432x288 with 1 Axes>"
      ]
     },
     "metadata": {
      "needs_background": "light"
     },
     "output_type": "display_data"
    }
   ],
   "source": [
    "sns.barplot(x='MajorIncident', y='AcresBurned', data=df)"
   ]
  },
  {
   "cell_type": "markdown",
   "metadata": {},
   "source": [
    "### From the Bargraph we can conclude that when major incident is set to true then AcredBurned is High"
   ]
  },
  {
   "cell_type": "code",
   "execution_count": 723,
   "metadata": {},
   "outputs": [
    {
     "data": {
      "text/plain": [
       "Index(['AcresBurned', 'Active', 'AdminUnit', 'AirTankers', 'ArchiveYear',\n",
       "       'CalFireIncident', 'CanonicalUrl', 'ConditionStatement',\n",
       "       'ControlStatement', 'Counties', 'CountyIds', 'CrewsInvolved', 'Dozers',\n",
       "       'Engines', 'Extinguished', 'Fatalities', 'Featured', 'Final',\n",
       "       'FuelType', 'Helicopters', 'Injuries', 'Latitude', 'Location',\n",
       "       'Longitude', 'MajorIncident', 'Name', 'PercentContained',\n",
       "       'PersonnelInvolved', 'Public', 'SearchDescription', 'SearchKeywords',\n",
       "       'Started', 'Status', 'StructuresDamaged', 'StructuresDestroyed',\n",
       "       'StructuresEvacuated', 'StructuresThreatened', 'UniqueId', 'Updated',\n",
       "       'WaterTenders', 'Transformed_AcresBurned', 'CALFIRE_AdminUnit',\n",
       "       'ArchiveMonth', 'ArchiveDay', 'Fire_Type', 'Frequent_County'],\n",
       "      dtype='object')"
      ]
     },
     "execution_count": 723,
     "metadata": {},
     "output_type": "execute_result"
    }
   ],
   "source": [
    "df.columns"
   ]
  },
  {
   "cell_type": "markdown",
   "metadata": {},
   "source": [
    "## Name"
   ]
  },
  {
   "cell_type": "code",
   "execution_count": 724,
   "metadata": {},
   "outputs": [
    {
     "data": {
      "text/plain": [
       "0.0"
      ]
     },
     "execution_count": 724,
     "metadata": {},
     "output_type": "execute_result"
    }
   ],
   "source": [
    "df['Name'].isna().sum() / DATASET_LEN"
   ]
  },
  {
   "cell_type": "code",
   "execution_count": 725,
   "metadata": {},
   "outputs": [
    {
     "data": {
      "text/plain": [
       "1175"
      ]
     },
     "execution_count": 725,
     "metadata": {},
     "output_type": "execute_result"
    }
   ],
   "source": [
    "df['Name'].nunique()"
   ]
  },
  {
   "cell_type": "code",
   "execution_count": 726,
   "metadata": {},
   "outputs": [
    {
     "data": {
      "text/plain": [
       "Creek Fire       15\n",
       "Lake Fire        11\n",
       "Canyon Fire      10\n",
       "Oak Fire         10\n",
       "Willow Fire       7\n",
       "                 ..\n",
       "Bell Fire         1\n",
       "Kugelman Fire     1\n",
       "Kuehner Fire      1\n",
       "Dockery Fire      1\n",
       "Cana Fire         1\n",
       "Name: Name, Length: 1175, dtype: int64"
      ]
     },
     "execution_count": 726,
     "metadata": {},
     "output_type": "execute_result"
    }
   ],
   "source": [
    "df['Name'].value_counts()"
   ]
  },
  {
   "cell_type": "markdown",
   "metadata": {},
   "source": [
    "### Removing Redundant Fire word from all types"
   ]
  },
  {
   "cell_type": "code",
   "execution_count": 727,
   "metadata": {},
   "outputs": [],
   "source": [
    "df['Name'] = df[\"Name\"].apply(lambda x: x.replace('Fire', '').strip())"
   ]
  },
  {
   "cell_type": "code",
   "execution_count": 728,
   "metadata": {},
   "outputs": [
    {
     "data": {
      "text/plain": [
       "Index(['AcresBurned', 'Active', 'AdminUnit', 'AirTankers', 'ArchiveYear',\n",
       "       'CalFireIncident', 'CanonicalUrl', 'ConditionStatement',\n",
       "       'ControlStatement', 'Counties', 'CountyIds', 'CrewsInvolved', 'Dozers',\n",
       "       'Engines', 'Extinguished', 'Fatalities', 'Featured', 'Final',\n",
       "       'FuelType', 'Helicopters', 'Injuries', 'Latitude', 'Location',\n",
       "       'Longitude', 'MajorIncident', 'Name', 'PercentContained',\n",
       "       'PersonnelInvolved', 'Public', 'SearchDescription', 'SearchKeywords',\n",
       "       'Started', 'Status', 'StructuresDamaged', 'StructuresDestroyed',\n",
       "       'StructuresEvacuated', 'StructuresThreatened', 'UniqueId', 'Updated',\n",
       "       'WaterTenders', 'Transformed_AcresBurned', 'CALFIRE_AdminUnit',\n",
       "       'ArchiveMonth', 'ArchiveDay', 'Fire_Type', 'Frequent_County'],\n",
       "      dtype='object')"
      ]
     },
     "execution_count": 728,
     "metadata": {},
     "output_type": "execute_result"
    }
   ],
   "source": [
    "df.columns"
   ]
  },
  {
   "cell_type": "markdown",
   "metadata": {},
   "source": [
    "## PercentContained"
   ]
  },
  {
   "cell_type": "code",
   "execution_count": 729,
   "metadata": {},
   "outputs": [
    {
     "data": {
      "text/plain": [
       "0.0"
      ]
     },
     "execution_count": 729,
     "metadata": {},
     "output_type": "execute_result"
    }
   ],
   "source": [
    "df['PercentContained'].isna().sum() / DATASET_LEN"
   ]
  },
  {
   "cell_type": "code",
   "execution_count": 730,
   "metadata": {},
   "outputs": [
    {
     "data": {
      "text/plain": [
       "100.0    1606\n",
       "Name: PercentContained, dtype: int64"
      ]
     },
     "execution_count": 730,
     "metadata": {},
     "output_type": "execute_result"
    }
   ],
   "source": [
    "df['PercentContained'].value_counts()"
   ]
  },
  {
   "cell_type": "markdown",
   "metadata": {},
   "source": [
    "### All values of the PercentContained feature is 100 \n",
    "### Dropping it as it does not provide any information while modelling "
   ]
  },
  {
   "cell_type": "code",
   "execution_count": 731,
   "metadata": {},
   "outputs": [
    {
     "data": {
      "text/plain": [
       "Index(['AcresBurned', 'Active', 'AdminUnit', 'AirTankers', 'ArchiveYear',\n",
       "       'CalFireIncident', 'CanonicalUrl', 'ConditionStatement',\n",
       "       'ControlStatement', 'Counties', 'CountyIds', 'CrewsInvolved', 'Dozers',\n",
       "       'Engines', 'Extinguished', 'Fatalities', 'Featured', 'Final',\n",
       "       'FuelType', 'Helicopters', 'Injuries', 'Latitude', 'Location',\n",
       "       'Longitude', 'MajorIncident', 'Name', 'PercentContained',\n",
       "       'PersonnelInvolved', 'Public', 'SearchDescription', 'SearchKeywords',\n",
       "       'Started', 'Status', 'StructuresDamaged', 'StructuresDestroyed',\n",
       "       'StructuresEvacuated', 'StructuresThreatened', 'UniqueId', 'Updated',\n",
       "       'WaterTenders', 'Transformed_AcresBurned', 'CALFIRE_AdminUnit',\n",
       "       'ArchiveMonth', 'ArchiveDay', 'Fire_Type', 'Frequent_County'],\n",
       "      dtype='object')"
      ]
     },
     "execution_count": 731,
     "metadata": {},
     "output_type": "execute_result"
    }
   ],
   "source": [
    "df.columns"
   ]
  },
  {
   "cell_type": "markdown",
   "metadata": {},
   "source": [
    "## PersonnelInvolved"
   ]
  },
  {
   "cell_type": "code",
   "execution_count": 732,
   "metadata": {},
   "outputs": [
    {
     "data": {
      "text/plain": [
       "1405"
      ]
     },
     "execution_count": 732,
     "metadata": {},
     "output_type": "execute_result"
    }
   ],
   "source": [
    "df['PersonnelInvolved'].isna().sum()"
   ]
  },
  {
   "cell_type": "code",
   "execution_count": 733,
   "metadata": {},
   "outputs": [
    {
     "data": {
      "text/plain": [
       "150.0    6\n",
       "40.0     5\n",
       "55.0     4\n",
       "13.0     3\n",
       "8.0      3\n",
       "        ..\n",
       "256.0    1\n",
       "91.0     1\n",
       "53.0     1\n",
       "90.0     1\n",
       "74.0     1\n",
       "Name: PersonnelInvolved, Length: 149, dtype: int64"
      ]
     },
     "execution_count": 733,
     "metadata": {},
     "output_type": "execute_result"
    }
   ],
   "source": [
    "df['PersonnelInvolved'].value_counts()"
   ]
  },
  {
   "cell_type": "markdown",
   "metadata": {},
   "source": [
    "### As majority of the data of this feature is missing and non missing values are also scattered.\n",
    "### This feature can be dropped during modelling"
   ]
  },
  {
   "cell_type": "markdown",
   "metadata": {},
   "source": [
    "## Public"
   ]
  },
  {
   "cell_type": "code",
   "execution_count": 734,
   "metadata": {},
   "outputs": [
    {
     "data": {
      "text/plain": [
       "0.0"
      ]
     },
     "execution_count": 734,
     "metadata": {},
     "output_type": "execute_result"
    }
   ],
   "source": [
    "df['Public'].isna().sum() / DATASET_LEN"
   ]
  },
  {
   "cell_type": "code",
   "execution_count": 735,
   "metadata": {},
   "outputs": [
    {
     "name": "stderr",
     "output_type": "stream",
     "text": [
      "C:\\Users\\jiten\\anaconda3\\lib\\site-packages\\seaborn\\_decorators.py:36: FutureWarning: Pass the following variable as a keyword arg: x. From version 0.12, the only valid positional argument will be `data`, and passing other arguments without an explicit keyword will result in an error or misinterpretation.\n",
      "  warnings.warn(\n"
     ]
    },
    {
     "data": {
      "text/plain": [
       "<AxesSubplot:xlabel='Public', ylabel='count'>"
      ]
     },
     "execution_count": 735,
     "metadata": {},
     "output_type": "execute_result"
    },
    {
     "data": {
      "image/png": "[encoded data removed]",
      "text/plain": [
       "<Figure size 432x288 with 1 Axes>"
      ]
     },
     "metadata": {
      "needs_background": "light"
     },
     "output_type": "display_data"
    }
   ],
   "source": [
    "sns.countplot(df['Public'])"
   ]
  },
  {
   "cell_type": "markdown",
   "metadata": {},
   "source": [
    "### All values of the Public feature is True \n",
    "### Dropping it as it does not provide any information while modelling "
   ]
  },
  {
   "cell_type": "markdown",
   "metadata": {},
   "source": [
    "## SearchDescription"
   ]
  },
  {
   "cell_type": "code",
   "execution_count": 736,
   "metadata": {},
   "outputs": [
    {
     "data": {
      "text/plain": [
       "0.008557457212713936"
      ]
     },
     "execution_count": 736,
     "metadata": {},
     "output_type": "execute_result"
    }
   ],
   "source": [
    "df['SearchDescription'].isna().sum() / DATASET_LEN"
   ]
  },
  {
   "cell_type": "code",
   "execution_count": 737,
   "metadata": {},
   "outputs": [
    {
     "data": {
      "text/plain": [
       "The Sonoma-Lake-Napa Unit Lightning Fires happened in June 2013 across multiple counties totaling 28 fires.                                                                                                                                       4\n",
       "The Ranch Fire started July 27, 2018 off Highway 20 near Potter Valley, northeast of Ukiah (Mendocino County). This fire was contained on September 19, 2018 and burned 410,203 acres.\\r\\r\\n\\r\\r\\nMendocino Complex - Size 459,123 total acres    4\n",
       "The River Fire started on July 27, 2018 off Old River Rd, near Mile Marker Post 7.9, Hopland in Mendocino County and burned 48,920 acres. It was contained August 13, 2018.                                                                       3\n",
       "The Carr Fire started on July 23, 2018 off Hwy 299 and Carr Powerhouse Road, Whiskeytown (Shasta County). It was contained on August 30, 2018.                                                                                                    2\n",
       "Flooding and mudflows started on January 9, 2018 in the Montecito, Summerland, and Carpenteria areas in Santa Barbara County.                                                                                                                     2\n",
       "                                                                                                                                                                                                                                                 ..\n",
       "The Moore Fire off Moore Rd and South Dowd Rd, west of Lincoln (Placer County) burned in June 2016.                                                                                                                                               1\n",
       "Fores Fire started on July 1, 2016 off Interstate 5 & Flores Ave, 5 miles south of Red Bluff (Tehama County) and burned 88 acres.                                                                                                                 1\n",
       "The Santos Fire started on August 30, 2016 off Hwy 32 at Santos Ranch Rd, south of Forest Ranch (Butte County).                                                                                                                                   1\n",
       "Dunstone Fire started on May 27, 2016 La Porte Road at Dunstone Road, west of Bangor, (Butte County) and burned 91 acres.                                                                                                                         1\n",
       "Long Fire started on June 28, 2019 off of Long Point Road and Old Mill Road, Southeast of Camptonville in Nevada County.                                                                                                                          1\n",
       "Name: SearchDescription, Length: 1565, dtype: int64"
      ]
     },
     "execution_count": 737,
     "metadata": {},
     "output_type": "execute_result"
    }
   ],
   "source": [
    "df['SearchDescription'].value_counts()"
   ]
  },
  {
   "cell_type": "code",
   "execution_count": 738,
   "metadata": {},
   "outputs": [
    {
     "data": {
      "text/plain": [
       "'The Tubbs Fire, part of the Central LNU Complex, started on October 8th off of Highway 128 and Bennett Lane, Hwy 128, Calistoga, Napa County and burned 36,807 acres. It was contained on October 31, 2017. '"
      ]
     },
     "execution_count": 738,
     "metadata": {},
     "output_type": "execute_result"
    }
   ],
   "source": [
    "df['SearchDescription'].value_counts().index[10]"
   ]
  },
  {
   "cell_type": "code",
   "execution_count": 739,
   "metadata": {},
   "outputs": [
    {
     "data": {
      "text/html": [
       "<div>\n",
       "<style scoped>\n",
       "    .dataframe tbody tr th:only-of-type {\n",
       "        vertical-align: middle;\n",
       "    }\n",
       "\n",
       "    .dataframe tbody tr th {\n",
       "        vertical-align: top;\n",
       "    }\n",
       "\n",
       "    .dataframe thead th {\n",
       "        text-align: right;\n",
       "    }\n",
       "</style>\n",
       "<table border=\"1\" class=\"dataframe\">\n",
       "  <thead>\n",
       "    <tr style=\"text-align: right;\">\n",
       "      <th></th>\n",
       "      <th>AcresBurned</th>\n",
       "      <th>Active</th>\n",
       "      <th>AdminUnit</th>\n",
       "      <th>AirTankers</th>\n",
       "      <th>ArchiveYear</th>\n",
       "      <th>CalFireIncident</th>\n",
       "      <th>CanonicalUrl</th>\n",
       "      <th>ConditionStatement</th>\n",
       "      <th>ControlStatement</th>\n",
       "      <th>Counties</th>\n",
       "      <th>...</th>\n",
       "      <th>StructuresThreatened</th>\n",
       "      <th>UniqueId</th>\n",
       "      <th>Updated</th>\n",
       "      <th>WaterTenders</th>\n",
       "      <th>Transformed_AcresBurned</th>\n",
       "      <th>CALFIRE_AdminUnit</th>\n",
       "      <th>ArchiveMonth</th>\n",
       "      <th>ArchiveDay</th>\n",
       "      <th>Fire_Type</th>\n",
       "      <th>Frequent_County</th>\n",
       "    </tr>\n",
       "  </thead>\n",
       "  <tbody>\n",
       "    <tr>\n",
       "      <th>628</th>\n",
       "      <td>36807.0</td>\n",
       "      <td>False</td>\n",
       "      <td>CAL FIRE Sonoma-Lake-Napa Unit</td>\n",
       "      <td>NaN</td>\n",
       "      <td>2017</td>\n",
       "      <td>True</td>\n",
       "      <td>/incidents/2017/10/8/tubbs-fire-central-lnu-co...</td>\n",
       "      <td>&lt;p&gt;&lt;a href=\"http://www.fire.ca.gov/communicati...</td>\n",
       "      <td>NaN</td>\n",
       "      <td>Napa</td>\n",
       "      <td>...</td>\n",
       "      <td>NaN</td>\n",
       "      <td>82c2aafa-ef04-49f0-a172-0dfa8a15582e</td>\n",
       "      <td>2019-10-25T08:50:05.017Z</td>\n",
       "      <td>NaN</td>\n",
       "      <td>17.510312</td>\n",
       "      <td>1</td>\n",
       "      <td>10</td>\n",
       "      <td>8</td>\n",
       "      <td>tubbs-central-lnu-complex</td>\n",
       "      <td>0</td>\n",
       "    </tr>\n",
       "    <tr>\n",
       "      <th>629</th>\n",
       "      <td>36807.0</td>\n",
       "      <td>False</td>\n",
       "      <td>CAL FIRE Sonoma-Lake-Napa Unit</td>\n",
       "      <td>NaN</td>\n",
       "      <td>2017</td>\n",
       "      <td>True</td>\n",
       "      <td>/incidents/2017/10/8/tubbs-fire-central-lnu-co...</td>\n",
       "      <td>&lt;p&gt;&lt;a href=\"http://www.fire.ca.gov/communicati...</td>\n",
       "      <td>NaN</td>\n",
       "      <td>Sonoma</td>\n",
       "      <td>...</td>\n",
       "      <td>NaN</td>\n",
       "      <td>82c2aafa-ef04-49f0-a172-0dfa8a15582e</td>\n",
       "      <td>2019-10-25T08:50:05.017Z</td>\n",
       "      <td>NaN</td>\n",
       "      <td>17.510312</td>\n",
       "      <td>1</td>\n",
       "      <td>10</td>\n",
       "      <td>8</td>\n",
       "      <td>tubbs-central-lnu-complex</td>\n",
       "      <td>0</td>\n",
       "    </tr>\n",
       "  </tbody>\n",
       "</table>\n",
       "<p>2 rows × 46 columns</p>\n",
       "</div>"
      ],
      "text/plain": [
       "     AcresBurned  Active                       AdminUnit  AirTankers  \\\n",
       "628      36807.0   False  CAL FIRE Sonoma-Lake-Napa Unit         NaN   \n",
       "629      36807.0   False  CAL FIRE Sonoma-Lake-Napa Unit         NaN   \n",
       "\n",
       "     ArchiveYear  CalFireIncident  \\\n",
       "628         2017             True   \n",
       "629         2017             True   \n",
       "\n",
       "                                          CanonicalUrl  \\\n",
       "628  /incidents/2017/10/8/tubbs-fire-central-lnu-co...   \n",
       "629  /incidents/2017/10/8/tubbs-fire-central-lnu-co...   \n",
       "\n",
       "                                    ConditionStatement ControlStatement  \\\n",
       "628  <p><a href=\"http://www.fire.ca.gov/communicati...              NaN   \n",
       "629  <p><a href=\"http://www.fire.ca.gov/communicati...              NaN   \n",
       "\n",
       "    Counties  ... StructuresThreatened                              UniqueId  \\\n",
       "628     Napa  ...                  NaN  82c2aafa-ef04-49f0-a172-0dfa8a15582e   \n",
       "629   Sonoma  ...                  NaN  82c2aafa-ef04-49f0-a172-0dfa8a15582e   \n",
       "\n",
       "                      Updated  WaterTenders Transformed_AcresBurned  \\\n",
       "628  2019-10-25T08:50:05.017Z           NaN               17.510312   \n",
       "629  2019-10-25T08:50:05.017Z           NaN               17.510312   \n",
       "\n",
       "     CALFIRE_AdminUnit  ArchiveMonth  ArchiveDay                  Fire_Type  \\\n",
       "628                  1            10           8  tubbs-central-lnu-complex   \n",
       "629                  1            10           8  tubbs-central-lnu-complex   \n",
       "\n",
       "     Frequent_County  \n",
       "628                0  \n",
       "629                0  \n",
       "\n",
       "[2 rows x 46 columns]"
      ]
     },
     "execution_count": 739,
     "metadata": {},
     "output_type": "execute_result"
    }
   ],
   "source": [
    "df[df['SearchDescription'] == 'The Tubbs Fire, part of the Central LNU Complex, started on October 8th off of Highway 128 and Bennett Lane, Hwy 128, Calistoga, Napa County and burned 36,807 acres. It was contained on October 31, 2017. ']"
   ]
  },
  {
   "cell_type": "markdown",
   "metadata": {},
   "source": [
    "### Text feature and the information is already extracted into different features such as Counties, Start Date and AcresBurned"
   ]
  },
  {
   "cell_type": "code",
   "execution_count": 740,
   "metadata": {},
   "outputs": [
    {
     "data": {
      "text/plain": [
       "Index(['AcresBurned', 'Active', 'AdminUnit', 'AirTankers', 'ArchiveYear',\n",
       "       'CalFireIncident', 'CanonicalUrl', 'ConditionStatement',\n",
       "       'ControlStatement', 'Counties', 'CountyIds', 'CrewsInvolved', 'Dozers',\n",
       "       'Engines', 'Extinguished', 'Fatalities', 'Featured', 'Final',\n",
       "       'FuelType', 'Helicopters', 'Injuries', 'Latitude', 'Location',\n",
       "       'Longitude', 'MajorIncident', 'Name', 'PercentContained',\n",
       "       'PersonnelInvolved', 'Public', 'SearchDescription', 'SearchKeywords',\n",
       "       'Started', 'Status', 'StructuresDamaged', 'StructuresDestroyed',\n",
       "       'StructuresEvacuated', 'StructuresThreatened', 'UniqueId', 'Updated',\n",
       "       'WaterTenders', 'Transformed_AcresBurned', 'CALFIRE_AdminUnit',\n",
       "       'ArchiveMonth', 'ArchiveDay', 'Fire_Type', 'Frequent_County'],\n",
       "      dtype='object')"
      ]
     },
     "execution_count": 740,
     "metadata": {},
     "output_type": "execute_result"
    }
   ],
   "source": [
    "df.columns"
   ]
  },
  {
   "cell_type": "markdown",
   "metadata": {},
   "source": [
    "## SearchKeywords"
   ]
  },
  {
   "cell_type": "code",
   "execution_count": 741,
   "metadata": {},
   "outputs": [
    {
     "data": {
      "text/plain": [
       "0.10819070904645477"
      ]
     },
     "execution_count": 741,
     "metadata": {},
     "output_type": "execute_result"
    }
   ],
   "source": [
    "df['SearchKeywords'].isna().sum() / DATASET_LEN"
   ]
  },
  {
   "cell_type": "code",
   "execution_count": 742,
   "metadata": {},
   "outputs": [
    {
     "data": {
      "text/plain": [
       "June 2019                                                                                                                 17\n",
       "May 2019                                                                                                                   7\n",
       "Sonoma-Lake-Napa Unit Lightning Fires, June 2013, Sonoma County, Solano County, Lake County, Colusa County\\r\\r\\n\\r\\r\\n     4\n",
       "June 2019                                                                                                                  4\n",
       "Ranch Fire, Mendocino County, July 27, 2018\\r\\r\\nMendocino Complex - Size 459,123 total acres                              4\n",
       "                                                                                                                          ..\n",
       "Grade Fire, Siskiyou County, Hwy 263, Yreka, Hawkinsville,                                                                 1\n",
       "Saddle Fire, Pentz Rd, Lime Saddle Rd, Paradise, Butte County                                                              1\n",
       "Marshes Fire, Marshes Flat Road, Tuolumne County, Moccasin, Highway 49                                                     1\n",
       "Sage Fire, July 9, 2016, off of Calgrove Blvd, Santa Clarita, Los Angeles County,                                          1\n",
       "Electra Fire, September 25, 2019, Amador County.                                                                           1\n",
       "Name: SearchKeywords, Length: 1378, dtype: int64"
      ]
     },
     "execution_count": 742,
     "metadata": {},
     "output_type": "execute_result"
    }
   ],
   "source": [
    "df['SearchKeywords'].value_counts()"
   ]
  },
  {
   "cell_type": "markdown",
   "metadata": {},
   "source": [
    "### Text feature and the information is already extracted into different features such as Counties, Start Date and AcresBurned"
   ]
  },
  {
   "cell_type": "markdown",
   "metadata": {},
   "source": [
    "### No of Search Keywords equal to length of SearchKeywords"
   ]
  },
  {
   "cell_type": "code",
   "execution_count": 743,
   "metadata": {},
   "outputs": [
    {
     "data": {
      "text/html": [
       "<div>\n",
       "<style scoped>\n",
       "    .dataframe tbody tr th:only-of-type {\n",
       "        vertical-align: middle;\n",
       "    }\n",
       "\n",
       "    .dataframe tbody tr th {\n",
       "        vertical-align: top;\n",
       "    }\n",
       "\n",
       "    .dataframe thead th {\n",
       "        text-align: right;\n",
       "    }\n",
       "</style>\n",
       "<table border=\"1\" class=\"dataframe\">\n",
       "  <thead>\n",
       "    <tr style=\"text-align: right;\">\n",
       "      <th></th>\n",
       "      <th>AcresBurned</th>\n",
       "      <th>Active</th>\n",
       "      <th>AdminUnit</th>\n",
       "      <th>AirTankers</th>\n",
       "      <th>ArchiveYear</th>\n",
       "      <th>CalFireIncident</th>\n",
       "      <th>CanonicalUrl</th>\n",
       "      <th>ConditionStatement</th>\n",
       "      <th>ControlStatement</th>\n",
       "      <th>Counties</th>\n",
       "      <th>...</th>\n",
       "      <th>UniqueId</th>\n",
       "      <th>Updated</th>\n",
       "      <th>WaterTenders</th>\n",
       "      <th>Transformed_AcresBurned</th>\n",
       "      <th>CALFIRE_AdminUnit</th>\n",
       "      <th>ArchiveMonth</th>\n",
       "      <th>ArchiveDay</th>\n",
       "      <th>Fire_Type</th>\n",
       "      <th>Frequent_County</th>\n",
       "      <th>No_of_Search_Keywords</th>\n",
       "    </tr>\n",
       "  </thead>\n",
       "  <tbody>\n",
       "    <tr>\n",
       "      <th>0</th>\n",
       "      <td>257314.0</td>\n",
       "      <td>False</td>\n",
       "      <td>Stanislaus National Forest/Yosemite National Park</td>\n",
       "      <td>NaN</td>\n",
       "      <td>2013</td>\n",
       "      <td>True</td>\n",
       "      <td>/incidents/2013/8/17/rim-fire/</td>\n",
       "      <td>NaN</td>\n",
       "      <td>NaN</td>\n",
       "      <td>Tuolumne</td>\n",
       "      <td>...</td>\n",
       "      <td>5fb18d4d-213f-4d83-a179-daaf11939e78</td>\n",
       "      <td>2013-09-06T18:30:00Z</td>\n",
       "      <td>NaN</td>\n",
       "      <td>22.984556</td>\n",
       "      <td>0</td>\n",
       "      <td>8</td>\n",
       "      <td>17</td>\n",
       "      <td>rim</td>\n",
       "      <td>0</td>\n",
       "      <td>10</td>\n",
       "    </tr>\n",
       "    <tr>\n",
       "      <th>1</th>\n",
       "      <td>30274.0</td>\n",
       "      <td>False</td>\n",
       "      <td>USFS Angeles National Forest/Los Angeles Count...</td>\n",
       "      <td>NaN</td>\n",
       "      <td>2013</td>\n",
       "      <td>True</td>\n",
       "      <td>/incidents/2013/5/30/powerhouse-fire/</td>\n",
       "      <td>NaN</td>\n",
       "      <td>NaN</td>\n",
       "      <td>Los Angeles</td>\n",
       "      <td>...</td>\n",
       "      <td>bf37805e-1cc2-4208-9972-753e47874c87</td>\n",
       "      <td>2013-06-08T18:30:00Z</td>\n",
       "      <td>NaN</td>\n",
       "      <td>17.011379</td>\n",
       "      <td>1</td>\n",
       "      <td>5</td>\n",
       "      <td>30</td>\n",
       "      <td>powerhouse</td>\n",
       "      <td>0</td>\n",
       "      <td>5</td>\n",
       "    </tr>\n",
       "    <tr>\n",
       "      <th>2</th>\n",
       "      <td>27531.0</td>\n",
       "      <td>False</td>\n",
       "      <td>CAL FIRE Riverside Unit / San Bernardino Natio...</td>\n",
       "      <td>NaN</td>\n",
       "      <td>2013</td>\n",
       "      <td>True</td>\n",
       "      <td>/incidents/2013/7/15/mountain-fire/</td>\n",
       "      <td>NaN</td>\n",
       "      <td>NaN</td>\n",
       "      <td>Riverside</td>\n",
       "      <td>...</td>\n",
       "      <td>a3149fec-4d48-427c-8b2c-59e8b79d59db</td>\n",
       "      <td>2013-07-30T18:00:00Z</td>\n",
       "      <td>NaN</td>\n",
       "      <td>16.772015</td>\n",
       "      <td>1</td>\n",
       "      <td>7</td>\n",
       "      <td>15</td>\n",
       "      <td>mountain</td>\n",
       "      <td>1</td>\n",
       "      <td>7</td>\n",
       "    </tr>\n",
       "    <tr>\n",
       "      <th>3</th>\n",
       "      <td>27440.0</td>\n",
       "      <td>False</td>\n",
       "      <td>Tahoe National Forest</td>\n",
       "      <td>NaN</td>\n",
       "      <td>2013</td>\n",
       "      <td>False</td>\n",
       "      <td>/incidents/2013/8/10/american-fire/</td>\n",
       "      <td>NaN</td>\n",
       "      <td>NaN</td>\n",
       "      <td>Placer</td>\n",
       "      <td>...</td>\n",
       "      <td>8213f5c7-34fa-403b-a4bc-da2ace6e6625</td>\n",
       "      <td>2013-08-30T08:00:00Z</td>\n",
       "      <td>NaN</td>\n",
       "      <td>16.763708</td>\n",
       "      <td>0</td>\n",
       "      <td>8</td>\n",
       "      <td>10</td>\n",
       "      <td>american</td>\n",
       "      <td>0</td>\n",
       "      <td>6</td>\n",
       "    </tr>\n",
       "    <tr>\n",
       "      <th>4</th>\n",
       "      <td>24251.0</td>\n",
       "      <td>False</td>\n",
       "      <td>Ventura County Fire/CAL FIRE</td>\n",
       "      <td>NaN</td>\n",
       "      <td>2013</td>\n",
       "      <td>True</td>\n",
       "      <td>/incidents/2013/5/2/springs-fire/</td>\n",
       "      <td>Acreage has been reduced based upon more accur...</td>\n",
       "      <td>NaN</td>\n",
       "      <td>Ventura</td>\n",
       "      <td>...</td>\n",
       "      <td>46731fb8-3350-4920-bdf7-910ac0eb715c</td>\n",
       "      <td>2013-05-11T06:30:00Z</td>\n",
       "      <td>11.0</td>\n",
       "      <td>16.455486</td>\n",
       "      <td>1</td>\n",
       "      <td>5</td>\n",
       "      <td>2</td>\n",
       "      <td>springs</td>\n",
       "      <td>0</td>\n",
       "      <td>5</td>\n",
       "    </tr>\n",
       "  </tbody>\n",
       "</table>\n",
       "<p>5 rows × 47 columns</p>\n",
       "</div>"
      ],
      "text/plain": [
       "   AcresBurned  Active                                          AdminUnit  \\\n",
       "0     257314.0   False  Stanislaus National Forest/Yosemite National Park   \n",
       "1      30274.0   False  USFS Angeles National Forest/Los Angeles Count...   \n",
       "2      27531.0   False  CAL FIRE Riverside Unit / San Bernardino Natio...   \n",
       "3      27440.0   False                              Tahoe National Forest   \n",
       "4      24251.0   False                       Ventura County Fire/CAL FIRE   \n",
       "\n",
       "   AirTankers  ArchiveYear  CalFireIncident  \\\n",
       "0         NaN         2013             True   \n",
       "1         NaN         2013             True   \n",
       "2         NaN         2013             True   \n",
       "3         NaN         2013            False   \n",
       "4         NaN         2013             True   \n",
       "\n",
       "                            CanonicalUrl  \\\n",
       "0         /incidents/2013/8/17/rim-fire/   \n",
       "1  /incidents/2013/5/30/powerhouse-fire/   \n",
       "2    /incidents/2013/7/15/mountain-fire/   \n",
       "3    /incidents/2013/8/10/american-fire/   \n",
       "4      /incidents/2013/5/2/springs-fire/   \n",
       "\n",
       "                                  ConditionStatement ControlStatement  \\\n",
       "0                                                NaN              NaN   \n",
       "1                                                NaN              NaN   \n",
       "2                                                NaN              NaN   \n",
       "3                                                NaN              NaN   \n",
       "4  Acreage has been reduced based upon more accur...              NaN   \n",
       "\n",
       "      Counties  ...                              UniqueId  \\\n",
       "0     Tuolumne  ...  5fb18d4d-213f-4d83-a179-daaf11939e78   \n",
       "1  Los Angeles  ...  bf37805e-1cc2-4208-9972-753e47874c87   \n",
       "2    Riverside  ...  a3149fec-4d48-427c-8b2c-59e8b79d59db   \n",
       "3       Placer  ...  8213f5c7-34fa-403b-a4bc-da2ace6e6625   \n",
       "4      Ventura  ...  46731fb8-3350-4920-bdf7-910ac0eb715c   \n",
       "\n",
       "                Updated  WaterTenders  Transformed_AcresBurned  \\\n",
       "0  2013-09-06T18:30:00Z           NaN                22.984556   \n",
       "1  2013-06-08T18:30:00Z           NaN                17.011379   \n",
       "2  2013-07-30T18:00:00Z           NaN                16.772015   \n",
       "3  2013-08-30T08:00:00Z           NaN                16.763708   \n",
       "4  2013-05-11T06:30:00Z          11.0                16.455486   \n",
       "\n",
       "  CALFIRE_AdminUnit  ArchiveMonth  ArchiveDay   Fire_Type Frequent_County  \\\n",
       "0                 0             8          17         rim               0   \n",
       "1                 1             5          30  powerhouse               0   \n",
       "2                 1             7          15    mountain               1   \n",
       "3                 0             8          10    american               0   \n",
       "4                 1             5           2     springs               0   \n",
       "\n",
       "   No_of_Search_Keywords  \n",
       "0                     10  \n",
       "1                      5  \n",
       "2                      7  \n",
       "3                      6  \n",
       "4                      5  \n",
       "\n",
       "[5 rows x 47 columns]"
      ]
     },
     "execution_count": 743,
     "metadata": {},
     "output_type": "execute_result"
    }
   ],
   "source": [
    "df['No_of_Search_Keywords'] = df['SearchKeywords'].apply(lambda x: len(str(x).split(',')))\n",
    "df.head()"
   ]
  },
  {
   "cell_type": "code",
   "execution_count": 744,
   "metadata": {},
   "outputs": [
    {
     "data": {
      "text/plain": [
       "Index(['AcresBurned', 'Active', 'AdminUnit', 'AirTankers', 'ArchiveYear',\n",
       "       'CalFireIncident', 'CanonicalUrl', 'ConditionStatement',\n",
       "       'ControlStatement', 'Counties', 'CountyIds', 'CrewsInvolved', 'Dozers',\n",
       "       'Engines', 'Extinguished', 'Fatalities', 'Featured', 'Final',\n",
       "       'FuelType', 'Helicopters', 'Injuries', 'Latitude', 'Location',\n",
       "       'Longitude', 'MajorIncident', 'Name', 'PercentContained',\n",
       "       'PersonnelInvolved', 'Public', 'SearchDescription', 'SearchKeywords',\n",
       "       'Started', 'Status', 'StructuresDamaged', 'StructuresDestroyed',\n",
       "       'StructuresEvacuated', 'StructuresThreatened', 'UniqueId', 'Updated',\n",
       "       'WaterTenders', 'Transformed_AcresBurned', 'CALFIRE_AdminUnit',\n",
       "       'ArchiveMonth', 'ArchiveDay', 'Fire_Type', 'Frequent_County',\n",
       "       'No_of_Search_Keywords'],\n",
       "      dtype='object')"
      ]
     },
     "execution_count": 744,
     "metadata": {},
     "output_type": "execute_result"
    }
   ],
   "source": [
    "df.columns"
   ]
  },
  {
   "cell_type": "markdown",
   "metadata": {},
   "source": [
    "## Started"
   ]
  },
  {
   "cell_type": "code",
   "execution_count": 745,
   "metadata": {},
   "outputs": [
    {
     "data": {
      "text/plain": [
       "0.0"
      ]
     },
     "execution_count": 745,
     "metadata": {},
     "output_type": "execute_result"
    }
   ],
   "source": [
    "df['Started'].isna().sum() / DATASET_LEN"
   ]
  },
  {
   "cell_type": "code",
   "execution_count": 746,
   "metadata": {},
   "outputs": [],
   "source": [
    "def get_hour(x):\n",
    "    hour_value = None\n",
    "    try:\n",
    "        hour_value = datetime.strptime(x,\"%Y-%m-%dT%H:%M:%SZ\").hour\n",
    "    except ValueError:\n",
    "        x = x.split('.')[0] + 'Z'\n",
    "        hour_value = datetime.strptime(x,\"%Y-%m-%dT%H:%M:%SZ\").hour\n",
    "        \n",
    "    return hour_value"
   ]
  },
  {
   "cell_type": "code",
   "execution_count": 747,
   "metadata": {},
   "outputs": [],
   "source": [
    "def get_mins(x):\n",
    "    mins_value = None\n",
    "    try:\n",
    "        mins_value = datetime.strptime(x,\"%Y-%m-%dT%H:%M:%SZ\").minute\n",
    "    except ValueError:\n",
    "        x = x.split('.')[0] + 'Z'\n",
    "        mins_value = datetime.strptime(x,\"%Y-%m-%dT%H:%M:%SZ\").minute\n",
    "        \n",
    "    return mins_value"
   ]
  },
  {
   "cell_type": "code",
   "execution_count": 748,
   "metadata": {},
   "outputs": [],
   "source": [
    "from datetime import datetime"
   ]
  },
  {
   "cell_type": "code",
   "execution_count": 749,
   "metadata": {},
   "outputs": [],
   "source": [
    "df['ArchiveHour'] = df['Started'].map(get_hour)\n",
    "df['ArchiveMins'] = df['Started'].map(get_mins)"
   ]
  },
  {
   "cell_type": "code",
   "execution_count": 750,
   "metadata": {},
   "outputs": [
    {
     "data": {
      "text/html": [
       "<div>\n",
       "<style scoped>\n",
       "    .dataframe tbody tr th:only-of-type {\n",
       "        vertical-align: middle;\n",
       "    }\n",
       "\n",
       "    .dataframe tbody tr th {\n",
       "        vertical-align: top;\n",
       "    }\n",
       "\n",
       "    .dataframe thead th {\n",
       "        text-align: right;\n",
       "    }\n",
       "</style>\n",
       "<table border=\"1\" class=\"dataframe\">\n",
       "  <thead>\n",
       "    <tr style=\"text-align: right;\">\n",
       "      <th></th>\n",
       "      <th>AcresBurned</th>\n",
       "      <th>Active</th>\n",
       "      <th>AdminUnit</th>\n",
       "      <th>AirTankers</th>\n",
       "      <th>ArchiveYear</th>\n",
       "      <th>CalFireIncident</th>\n",
       "      <th>CanonicalUrl</th>\n",
       "      <th>ConditionStatement</th>\n",
       "      <th>ControlStatement</th>\n",
       "      <th>Counties</th>\n",
       "      <th>...</th>\n",
       "      <th>WaterTenders</th>\n",
       "      <th>Transformed_AcresBurned</th>\n",
       "      <th>CALFIRE_AdminUnit</th>\n",
       "      <th>ArchiveMonth</th>\n",
       "      <th>ArchiveDay</th>\n",
       "      <th>Fire_Type</th>\n",
       "      <th>Frequent_County</th>\n",
       "      <th>No_of_Search_Keywords</th>\n",
       "      <th>ArchiveHour</th>\n",
       "      <th>ArchiveMins</th>\n",
       "    </tr>\n",
       "  </thead>\n",
       "  <tbody>\n",
       "    <tr>\n",
       "      <th>0</th>\n",
       "      <td>257314.0</td>\n",
       "      <td>False</td>\n",
       "      <td>Stanislaus National Forest/Yosemite National Park</td>\n",
       "      <td>NaN</td>\n",
       "      <td>2013</td>\n",
       "      <td>True</td>\n",
       "      <td>/incidents/2013/8/17/rim-fire/</td>\n",
       "      <td>NaN</td>\n",
       "      <td>NaN</td>\n",
       "      <td>Tuolumne</td>\n",
       "      <td>...</td>\n",
       "      <td>NaN</td>\n",
       "      <td>22.984556</td>\n",
       "      <td>0</td>\n",
       "      <td>8</td>\n",
       "      <td>17</td>\n",
       "      <td>rim</td>\n",
       "      <td>0</td>\n",
       "      <td>10</td>\n",
       "      <td>15</td>\n",
       "      <td>25</td>\n",
       "    </tr>\n",
       "    <tr>\n",
       "      <th>1</th>\n",
       "      <td>30274.0</td>\n",
       "      <td>False</td>\n",
       "      <td>USFS Angeles National Forest/Los Angeles Count...</td>\n",
       "      <td>NaN</td>\n",
       "      <td>2013</td>\n",
       "      <td>True</td>\n",
       "      <td>/incidents/2013/5/30/powerhouse-fire/</td>\n",
       "      <td>NaN</td>\n",
       "      <td>NaN</td>\n",
       "      <td>Los Angeles</td>\n",
       "      <td>...</td>\n",
       "      <td>NaN</td>\n",
       "      <td>17.011379</td>\n",
       "      <td>1</td>\n",
       "      <td>5</td>\n",
       "      <td>30</td>\n",
       "      <td>powerhouse</td>\n",
       "      <td>0</td>\n",
       "      <td>5</td>\n",
       "      <td>15</td>\n",
       "      <td>28</td>\n",
       "    </tr>\n",
       "    <tr>\n",
       "      <th>2</th>\n",
       "      <td>27531.0</td>\n",
       "      <td>False</td>\n",
       "      <td>CAL FIRE Riverside Unit / San Bernardino Natio...</td>\n",
       "      <td>NaN</td>\n",
       "      <td>2013</td>\n",
       "      <td>True</td>\n",
       "      <td>/incidents/2013/7/15/mountain-fire/</td>\n",
       "      <td>NaN</td>\n",
       "      <td>NaN</td>\n",
       "      <td>Riverside</td>\n",
       "      <td>...</td>\n",
       "      <td>NaN</td>\n",
       "      <td>16.772015</td>\n",
       "      <td>1</td>\n",
       "      <td>7</td>\n",
       "      <td>15</td>\n",
       "      <td>mountain</td>\n",
       "      <td>1</td>\n",
       "      <td>7</td>\n",
       "      <td>13</td>\n",
       "      <td>43</td>\n",
       "    </tr>\n",
       "    <tr>\n",
       "      <th>3</th>\n",
       "      <td>27440.0</td>\n",
       "      <td>False</td>\n",
       "      <td>Tahoe National Forest</td>\n",
       "      <td>NaN</td>\n",
       "      <td>2013</td>\n",
       "      <td>False</td>\n",
       "      <td>/incidents/2013/8/10/american-fire/</td>\n",
       "      <td>NaN</td>\n",
       "      <td>NaN</td>\n",
       "      <td>Placer</td>\n",
       "      <td>...</td>\n",
       "      <td>NaN</td>\n",
       "      <td>16.763708</td>\n",
       "      <td>0</td>\n",
       "      <td>8</td>\n",
       "      <td>10</td>\n",
       "      <td>american</td>\n",
       "      <td>0</td>\n",
       "      <td>6</td>\n",
       "      <td>16</td>\n",
       "      <td>30</td>\n",
       "    </tr>\n",
       "    <tr>\n",
       "      <th>4</th>\n",
       "      <td>24251.0</td>\n",
       "      <td>False</td>\n",
       "      <td>Ventura County Fire/CAL FIRE</td>\n",
       "      <td>NaN</td>\n",
       "      <td>2013</td>\n",
       "      <td>True</td>\n",
       "      <td>/incidents/2013/5/2/springs-fire/</td>\n",
       "      <td>Acreage has been reduced based upon more accur...</td>\n",
       "      <td>NaN</td>\n",
       "      <td>Ventura</td>\n",
       "      <td>...</td>\n",
       "      <td>11.0</td>\n",
       "      <td>16.455486</td>\n",
       "      <td>1</td>\n",
       "      <td>5</td>\n",
       "      <td>2</td>\n",
       "      <td>springs</td>\n",
       "      <td>0</td>\n",
       "      <td>5</td>\n",
       "      <td>7</td>\n",
       "      <td>1</td>\n",
       "    </tr>\n",
       "  </tbody>\n",
       "</table>\n",
       "<p>5 rows × 49 columns</p>\n",
       "</div>"
      ],
      "text/plain": [
       "   AcresBurned  Active                                          AdminUnit  \\\n",
       "0     257314.0   False  Stanislaus National Forest/Yosemite National Park   \n",
       "1      30274.0   False  USFS Angeles National Forest/Los Angeles Count...   \n",
       "2      27531.0   False  CAL FIRE Riverside Unit / San Bernardino Natio...   \n",
       "3      27440.0   False                              Tahoe National Forest   \n",
       "4      24251.0   False                       Ventura County Fire/CAL FIRE   \n",
       "\n",
       "   AirTankers  ArchiveYear  CalFireIncident  \\\n",
       "0         NaN         2013             True   \n",
       "1         NaN         2013             True   \n",
       "2         NaN         2013             True   \n",
       "3         NaN         2013            False   \n",
       "4         NaN         2013             True   \n",
       "\n",
       "                            CanonicalUrl  \\\n",
       "0         /incidents/2013/8/17/rim-fire/   \n",
       "1  /incidents/2013/5/30/powerhouse-fire/   \n",
       "2    /incidents/2013/7/15/mountain-fire/   \n",
       "3    /incidents/2013/8/10/american-fire/   \n",
       "4      /incidents/2013/5/2/springs-fire/   \n",
       "\n",
       "                                  ConditionStatement ControlStatement  \\\n",
       "0                                                NaN              NaN   \n",
       "1                                                NaN              NaN   \n",
       "2                                                NaN              NaN   \n",
       "3                                                NaN              NaN   \n",
       "4  Acreage has been reduced based upon more accur...              NaN   \n",
       "\n",
       "      Counties  ... WaterTenders  Transformed_AcresBurned  CALFIRE_AdminUnit  \\\n",
       "0     Tuolumne  ...          NaN                22.984556                  0   \n",
       "1  Los Angeles  ...          NaN                17.011379                  1   \n",
       "2    Riverside  ...          NaN                16.772015                  1   \n",
       "3       Placer  ...          NaN                16.763708                  0   \n",
       "4      Ventura  ...         11.0                16.455486                  1   \n",
       "\n",
       "   ArchiveMonth ArchiveDay   Fire_Type  Frequent_County  \\\n",
       "0             8         17         rim                0   \n",
       "1             5         30  powerhouse                0   \n",
       "2             7         15    mountain                1   \n",
       "3             8         10    american                0   \n",
       "4             5          2     springs                0   \n",
       "\n",
       "   No_of_Search_Keywords ArchiveHour  ArchiveMins  \n",
       "0                     10          15           25  \n",
       "1                      5          15           28  \n",
       "2                      7          13           43  \n",
       "3                      6          16           30  \n",
       "4                      5           7            1  \n",
       "\n",
       "[5 rows x 49 columns]"
      ]
     },
     "execution_count": 750,
     "metadata": {},
     "output_type": "execute_result"
    }
   ],
   "source": [
    "df.head()"
   ]
  },
  {
   "cell_type": "markdown",
   "metadata": {},
   "source": [
    "## Status"
   ]
  },
  {
   "cell_type": "code",
   "execution_count": 751,
   "metadata": {},
   "outputs": [
    {
     "data": {
      "text/plain": [
       "0.0"
      ]
     },
     "execution_count": 751,
     "metadata": {},
     "output_type": "execute_result"
    }
   ],
   "source": [
    "df['Status'].isna().sum() / DATASET_LEN"
   ]
  },
  {
   "cell_type": "code",
   "execution_count": 752,
   "metadata": {},
   "outputs": [
    {
     "data": {
      "text/plain": [
       "Finalized    1606\n",
       "Name: Status, dtype: int64"
      ]
     },
     "execution_count": 752,
     "metadata": {},
     "output_type": "execute_result"
    }
   ],
   "source": [
    "df['Status'].value_counts()"
   ]
  },
  {
   "cell_type": "code",
   "execution_count": 753,
   "metadata": {},
   "outputs": [
    {
     "name": "stderr",
     "output_type": "stream",
     "text": [
      "C:\\Users\\jiten\\anaconda3\\lib\\site-packages\\seaborn\\_decorators.py:36: FutureWarning: Pass the following variable as a keyword arg: x. From version 0.12, the only valid positional argument will be `data`, and passing other arguments without an explicit keyword will result in an error or misinterpretation.\n",
      "  warnings.warn(\n"
     ]
    },
    {
     "data": {
      "text/plain": [
       "<AxesSubplot:xlabel='Status', ylabel='count'>"
      ]
     },
     "execution_count": 753,
     "metadata": {},
     "output_type": "execute_result"
    },
    {
     "data": {
      "image/png": "[encoded data removed]",
      "text/plain": [
       "<Figure size 432x288 with 1 Axes>"
      ]
     },
     "metadata": {
      "needs_background": "light"
     },
     "output_type": "display_data"
    }
   ],
   "source": [
    "sns.countplot(df['Status'])"
   ]
  },
  {
   "cell_type": "markdown",
   "metadata": {},
   "source": [
    "###  All values of the Status feature is Finalized \n",
    "### Dropping it as it does not provide any information while modelling "
   ]
  },
  {
   "cell_type": "code",
   "execution_count": 754,
   "metadata": {},
   "outputs": [
    {
     "data": {
      "text/plain": [
       "Index(['AcresBurned', 'Active', 'AdminUnit', 'AirTankers', 'ArchiveYear',\n",
       "       'CalFireIncident', 'CanonicalUrl', 'ConditionStatement',\n",
       "       'ControlStatement', 'Counties', 'CountyIds', 'CrewsInvolved', 'Dozers',\n",
       "       'Engines', 'Extinguished', 'Fatalities', 'Featured', 'Final',\n",
       "       'FuelType', 'Helicopters', 'Injuries', 'Latitude', 'Location',\n",
       "       'Longitude', 'MajorIncident', 'Name', 'PercentContained',\n",
       "       'PersonnelInvolved', 'Public', 'SearchDescription', 'SearchKeywords',\n",
       "       'Started', 'Status', 'StructuresDamaged', 'StructuresDestroyed',\n",
       "       'StructuresEvacuated', 'StructuresThreatened', 'UniqueId', 'Updated',\n",
       "       'WaterTenders', 'Transformed_AcresBurned', 'CALFIRE_AdminUnit',\n",
       "       'ArchiveMonth', 'ArchiveDay', 'Fire_Type', 'Frequent_County',\n",
       "       'No_of_Search_Keywords', 'ArchiveHour', 'ArchiveMins'],\n",
       "      dtype='object')"
      ]
     },
     "execution_count": 754,
     "metadata": {},
     "output_type": "execute_result"
    }
   ],
   "source": [
    "df.columns"
   ]
  },
  {
   "cell_type": "markdown",
   "metadata": {},
   "source": [
    "## StructuresDamaged StructuresDestroyed StructuresEvacuated StructuresThreatened"
   ]
  },
  {
   "cell_type": "code",
   "execution_count": 755,
   "metadata": {},
   "outputs": [
    {
     "data": {
      "text/plain": [
       "0.9419315403422983"
      ]
     },
     "execution_count": 755,
     "metadata": {},
     "output_type": "execute_result"
    }
   ],
   "source": [
    "df['StructuresDamaged'].isna().sum() / DATASET_LEN"
   ]
  },
  {
   "cell_type": "code",
   "execution_count": 756,
   "metadata": {},
   "outputs": [
    {
     "data": {
      "text/plain": [
       "1.0      15\n",
       "2.0       6\n",
       "8.0       4\n",
       "5.0       3\n",
       "4.0       3\n",
       "3.0       3\n",
       "172.0     2\n",
       "341.0     2\n",
       "61.0      2\n",
       "60.0      2\n",
       "317.0     2\n",
       "783.0     2\n",
       "0.0       2\n",
       "280.0     2\n",
       "7.0       2\n",
       "10.0      2\n",
       "21.0      1\n",
       "28.0      1\n",
       "44.0      1\n",
       "26.0      1\n",
       "55.0      1\n",
       "64.0      1\n",
       "9.0       1\n",
       "12.0      1\n",
       "88.0      1\n",
       "27.0      1\n",
       "6.0       1\n",
       "Name: StructuresDamaged, dtype: int64"
      ]
     },
     "execution_count": 756,
     "metadata": {},
     "output_type": "execute_result"
    }
   ],
   "source": [
    "df['StructuresDamaged'].value_counts()"
   ]
  },
  {
   "cell_type": "markdown",
   "metadata": {},
   "source": [
    "### StructuresDamaged variable has most of data missing and remaining data is scattered"
   ]
  },
  {
   "cell_type": "code",
   "execution_count": 757,
   "metadata": {},
   "outputs": [
    {
     "data": {
      "text/plain": [
       "0.8759168704156479"
      ]
     },
     "execution_count": 757,
     "metadata": {},
     "output_type": "execute_result"
    }
   ],
   "source": [
    "df['StructuresDestroyed'].isna().sum() / DATASET_LEN"
   ]
  },
  {
   "cell_type": "code",
   "execution_count": 758,
   "metadata": {},
   "outputs": [
    {
     "data": {
      "text/plain": [
       "1.0      35\n",
       "2.0      11\n",
       "4.0      11\n",
       "0.0      10\n",
       "3.0       7\n",
       "         ..\n",
       "25.0      1\n",
       "74.0      1\n",
       "41.0      1\n",
       "157.0     1\n",
       "14.0      1\n",
       "Name: StructuresDestroyed, Length: 61, dtype: int64"
      ]
     },
     "execution_count": 758,
     "metadata": {},
     "output_type": "execute_result"
    }
   ],
   "source": [
    "df['StructuresDestroyed'].value_counts()"
   ]
  },
  {
   "cell_type": "markdown",
   "metadata": {},
   "source": [
    "\n"
   ]
  },
  {
   "cell_type": "markdown",
   "metadata": {},
   "source": [
    "### StructuresDestroyed variable has most of data missing and remaining data is scattered"
   ]
  },
  {
   "cell_type": "code",
   "execution_count": 759,
   "metadata": {},
   "outputs": [
    {
     "data": {
      "text/plain": [
       "0.9816625916870416"
      ]
     },
     "execution_count": 759,
     "metadata": {},
     "output_type": "execute_result"
    }
   ],
   "source": [
    "df['StructuresEvacuated'].isna().sum() / DATASET_LEN"
   ]
  },
  {
   "cell_type": "code",
   "execution_count": 760,
   "metadata": {},
   "outputs": [
    {
     "data": {
      "text/plain": [
       "Series([], Name: StructuresEvacuated, dtype: int64)"
      ]
     },
     "execution_count": 760,
     "metadata": {},
     "output_type": "execute_result"
    }
   ],
   "source": [
    "df['StructuresEvacuated'].value_counts()"
   ]
  },
  {
   "cell_type": "markdown",
   "metadata": {},
   "source": [
    "### StructuresEvacuated variable does not how any value defined so it is dropped "
   ]
  },
  {
   "cell_type": "code",
   "execution_count": 761,
   "metadata": {},
   "outputs": [
    {
     "data": {
      "text/plain": [
       "0.9633251833740831"
      ]
     },
     "execution_count": 761,
     "metadata": {},
     "output_type": "execute_result"
    }
   ],
   "source": [
    "df['StructuresThreatened'].isna().sum() / DATASET_LEN"
   ]
  },
  {
   "cell_type": "code",
   "execution_count": 762,
   "metadata": {},
   "outputs": [
    {
     "data": {
      "text/plain": [
       "0.0       10\n",
       "1050.0     4\n",
       "1025.0     3\n",
       "2600.0     2\n",
       "10.0       2\n",
       "176.0      1\n",
       "50.0       1\n",
       "1200.0     1\n",
       "1100.0     1\n",
       "40.0       1\n",
       "54.0       1\n",
       "540.0      1\n",
       "5.0        1\n",
       "24.0       1\n",
       "Name: StructuresThreatened, dtype: int64"
      ]
     },
     "execution_count": 762,
     "metadata": {},
     "output_type": "execute_result"
    }
   ],
   "source": [
    "df['StructuresThreatened'].value_counts()"
   ]
  },
  {
   "cell_type": "markdown",
   "metadata": {},
   "source": [
    "### StructuresThreatened variable has most of data missing and remaining data is scattered\n"
   ]
  },
  {
   "cell_type": "markdown",
   "metadata": {},
   "source": [
    "### Most of the data in these features is missing"
   ]
  },
  {
   "cell_type": "code",
   "execution_count": 763,
   "metadata": {},
   "outputs": [
    {
     "data": {
      "text/plain": [
       "Index(['AcresBurned', 'Active', 'AdminUnit', 'AirTankers', 'ArchiveYear',\n",
       "       'CalFireIncident', 'CanonicalUrl', 'ConditionStatement',\n",
       "       'ControlStatement', 'Counties', 'CountyIds', 'CrewsInvolved', 'Dozers',\n",
       "       'Engines', 'Extinguished', 'Fatalities', 'Featured', 'Final',\n",
       "       'FuelType', 'Helicopters', 'Injuries', 'Latitude', 'Location',\n",
       "       'Longitude', 'MajorIncident', 'Name', 'PercentContained',\n",
       "       'PersonnelInvolved', 'Public', 'SearchDescription', 'SearchKeywords',\n",
       "       'Started', 'Status', 'StructuresDamaged', 'StructuresDestroyed',\n",
       "       'StructuresEvacuated', 'StructuresThreatened', 'UniqueId', 'Updated',\n",
       "       'WaterTenders', 'Transformed_AcresBurned', 'CALFIRE_AdminUnit',\n",
       "       'ArchiveMonth', 'ArchiveDay', 'Fire_Type', 'Frequent_County',\n",
       "       'No_of_Search_Keywords', 'ArchiveHour', 'ArchiveMins'],\n",
       "      dtype='object')"
      ]
     },
     "execution_count": 763,
     "metadata": {},
     "output_type": "execute_result"
    }
   ],
   "source": [
    "df.columns"
   ]
  },
  {
   "cell_type": "markdown",
   "metadata": {},
   "source": [
    "## UniqueId"
   ]
  },
  {
   "cell_type": "code",
   "execution_count": 764,
   "metadata": {},
   "outputs": [
    {
     "data": {
      "text/plain": [
       "0.9657701711491442"
      ]
     },
     "execution_count": 764,
     "metadata": {},
     "output_type": "execute_result"
    }
   ],
   "source": [
    "df['UniqueId'].nunique() / DATASET_LEN"
   ]
  },
  {
   "cell_type": "code",
   "execution_count": 765,
   "metadata": {},
   "outputs": [
    {
     "data": {
      "text/plain": [
       "90b0daf7-5d84-42d9-bb35-bb78d4faf950    4\n",
       "5ce45b6c-81b5-422c-9078-8c68dd872c8a    4\n",
       "af30fe23-6cfd-4fd6-b2d9-91648eeae814    3\n",
       "240b1f55-0f4e-448d-a4ce-3ecfec7a6c9d    2\n",
       "be79d28c-767d-4a0d-b168-e86a5842004f    2\n",
       "                                       ..\n",
       "a56880f1-16c0-4d23-8f5a-b9ac436694bb    1\n",
       "b6b6ef56-0d7f-4c97-b072-74b712aa1e65    1\n",
       "ffec404e-dea9-4175-8c50-8f2b0ca3efdd    1\n",
       "8505d2db-7c6f-445e-9bff-407e99cac614    1\n",
       "b38c0563-b321-431b-9174-6336c5a0d449    1\n",
       "Name: UniqueId, Length: 1580, dtype: int64"
      ]
     },
     "execution_count": 765,
     "metadata": {},
     "output_type": "execute_result"
    }
   ],
   "source": [
    "df['UniqueId'].value_counts()"
   ]
  },
  {
   "cell_type": "markdown",
   "metadata": {},
   "source": [
    "### Unique ID seems to be encrypted form of id"
   ]
  },
  {
   "cell_type": "markdown",
   "metadata": {},
   "source": [
    "## Updated"
   ]
  },
  {
   "cell_type": "code",
   "execution_count": 766,
   "metadata": {},
   "outputs": [
    {
     "data": {
      "text/plain": [
       "0.0"
      ]
     },
     "execution_count": 766,
     "metadata": {},
     "output_type": "execute_result"
    }
   ],
   "source": [
    "df['Updated'].isna().sum() / DATASET_LEN"
   ]
  },
  {
   "cell_type": "code",
   "execution_count": 767,
   "metadata": {},
   "outputs": [
    {
     "data": {
      "text/plain": [
       "'2013-08-17T15:25:00Z'"
      ]
     },
     "execution_count": 767,
     "metadata": {},
     "output_type": "execute_result"
    }
   ],
   "source": [
    "df['Started'].iloc[0]"
   ]
  },
  {
   "cell_type": "code",
   "execution_count": 768,
   "metadata": {},
   "outputs": [
    {
     "data": {
      "text/plain": [
       "'2013-09-06T18:30:00Z'"
      ]
     },
     "execution_count": 768,
     "metadata": {},
     "output_type": "execute_result"
    }
   ],
   "source": [
    "df['Updated'].iloc[0]"
   ]
  },
  {
   "cell_type": "markdown",
   "metadata": {},
   "source": [
    "## Function to find duration between 2 datetime objects"
   ]
  },
  {
   "cell_type": "code",
   "execution_count": 769,
   "metadata": {},
   "outputs": [],
   "source": [
    "def get_duration(start, end):\n",
    "    \n",
    "    try:\n",
    "        start_datetime = datetime.strptime(start,\"%Y-%m-%dT%H:%M:%SZ\")\n",
    "    except ValueError:\n",
    "        start = start.split('.')[0] + 'Z'\n",
    "        start_datetime = datetime.strptime(start,\"%Y-%m-%dT%H:%M:%SZ\")\n",
    "        \n",
    "    try:\n",
    "        end_datetime = datetime.strptime(end,\"%Y-%m-%dT%H:%M:%SZ\")\n",
    "    except ValueError:\n",
    "        end = end.split('.')[0] + 'Z'\n",
    "        end_datetime = datetime.strptime(end,\"%Y-%m-%dT%H:%M:%SZ\")\n",
    "        \n",
    "    ans = (end_datetime - start_datetime).days\n",
    "        \n",
    "    return ans"
   ]
  },
  {
   "cell_type": "markdown",
   "metadata": {},
   "source": [
    "### Creating new col to compute fire duration in days "
   ]
  },
  {
   "cell_type": "code",
   "execution_count": 770,
   "metadata": {},
   "outputs": [],
   "source": [
    "df['Fire_Duration_Days'] = df.apply(lambda x: get_duration(start = x['Started'], end = x['Updated']), axis=1)"
   ]
  },
  {
   "cell_type": "code",
   "execution_count": 771,
   "metadata": {},
   "outputs": [
    {
     "data": {
      "text/html": [
       "<div>\n",
       "<style scoped>\n",
       "    .dataframe tbody tr th:only-of-type {\n",
       "        vertical-align: middle;\n",
       "    }\n",
       "\n",
       "    .dataframe tbody tr th {\n",
       "        vertical-align: top;\n",
       "    }\n",
       "\n",
       "    .dataframe thead th {\n",
       "        text-align: right;\n",
       "    }\n",
       "</style>\n",
       "<table border=\"1\" class=\"dataframe\">\n",
       "  <thead>\n",
       "    <tr style=\"text-align: right;\">\n",
       "      <th></th>\n",
       "      <th>AcresBurned</th>\n",
       "      <th>Active</th>\n",
       "      <th>AdminUnit</th>\n",
       "      <th>AirTankers</th>\n",
       "      <th>ArchiveYear</th>\n",
       "      <th>CalFireIncident</th>\n",
       "      <th>CanonicalUrl</th>\n",
       "      <th>ConditionStatement</th>\n",
       "      <th>ControlStatement</th>\n",
       "      <th>Counties</th>\n",
       "      <th>...</th>\n",
       "      <th>Transformed_AcresBurned</th>\n",
       "      <th>CALFIRE_AdminUnit</th>\n",
       "      <th>ArchiveMonth</th>\n",
       "      <th>ArchiveDay</th>\n",
       "      <th>Fire_Type</th>\n",
       "      <th>Frequent_County</th>\n",
       "      <th>No_of_Search_Keywords</th>\n",
       "      <th>ArchiveHour</th>\n",
       "      <th>ArchiveMins</th>\n",
       "      <th>Fire_Duration_Days</th>\n",
       "    </tr>\n",
       "  </thead>\n",
       "  <tbody>\n",
       "    <tr>\n",
       "      <th>0</th>\n",
       "      <td>257314.0</td>\n",
       "      <td>False</td>\n",
       "      <td>Stanislaus National Forest/Yosemite National Park</td>\n",
       "      <td>NaN</td>\n",
       "      <td>2013</td>\n",
       "      <td>True</td>\n",
       "      <td>/incidents/2013/8/17/rim-fire/</td>\n",
       "      <td>NaN</td>\n",
       "      <td>NaN</td>\n",
       "      <td>Tuolumne</td>\n",
       "      <td>...</td>\n",
       "      <td>22.984556</td>\n",
       "      <td>0</td>\n",
       "      <td>8</td>\n",
       "      <td>17</td>\n",
       "      <td>rim</td>\n",
       "      <td>0</td>\n",
       "      <td>10</td>\n",
       "      <td>15</td>\n",
       "      <td>25</td>\n",
       "      <td>20</td>\n",
       "    </tr>\n",
       "    <tr>\n",
       "      <th>1</th>\n",
       "      <td>30274.0</td>\n",
       "      <td>False</td>\n",
       "      <td>USFS Angeles National Forest/Los Angeles Count...</td>\n",
       "      <td>NaN</td>\n",
       "      <td>2013</td>\n",
       "      <td>True</td>\n",
       "      <td>/incidents/2013/5/30/powerhouse-fire/</td>\n",
       "      <td>NaN</td>\n",
       "      <td>NaN</td>\n",
       "      <td>Los Angeles</td>\n",
       "      <td>...</td>\n",
       "      <td>17.011379</td>\n",
       "      <td>1</td>\n",
       "      <td>5</td>\n",
       "      <td>30</td>\n",
       "      <td>powerhouse</td>\n",
       "      <td>0</td>\n",
       "      <td>5</td>\n",
       "      <td>15</td>\n",
       "      <td>28</td>\n",
       "      <td>9</td>\n",
       "    </tr>\n",
       "    <tr>\n",
       "      <th>2</th>\n",
       "      <td>27531.0</td>\n",
       "      <td>False</td>\n",
       "      <td>CAL FIRE Riverside Unit / San Bernardino Natio...</td>\n",
       "      <td>NaN</td>\n",
       "      <td>2013</td>\n",
       "      <td>True</td>\n",
       "      <td>/incidents/2013/7/15/mountain-fire/</td>\n",
       "      <td>NaN</td>\n",
       "      <td>NaN</td>\n",
       "      <td>Riverside</td>\n",
       "      <td>...</td>\n",
       "      <td>16.772015</td>\n",
       "      <td>1</td>\n",
       "      <td>7</td>\n",
       "      <td>15</td>\n",
       "      <td>mountain</td>\n",
       "      <td>1</td>\n",
       "      <td>7</td>\n",
       "      <td>13</td>\n",
       "      <td>43</td>\n",
       "      <td>15</td>\n",
       "    </tr>\n",
       "    <tr>\n",
       "      <th>3</th>\n",
       "      <td>27440.0</td>\n",
       "      <td>False</td>\n",
       "      <td>Tahoe National Forest</td>\n",
       "      <td>NaN</td>\n",
       "      <td>2013</td>\n",
       "      <td>False</td>\n",
       "      <td>/incidents/2013/8/10/american-fire/</td>\n",
       "      <td>NaN</td>\n",
       "      <td>NaN</td>\n",
       "      <td>Placer</td>\n",
       "      <td>...</td>\n",
       "      <td>16.763708</td>\n",
       "      <td>0</td>\n",
       "      <td>8</td>\n",
       "      <td>10</td>\n",
       "      <td>american</td>\n",
       "      <td>0</td>\n",
       "      <td>6</td>\n",
       "      <td>16</td>\n",
       "      <td>30</td>\n",
       "      <td>19</td>\n",
       "    </tr>\n",
       "    <tr>\n",
       "      <th>4</th>\n",
       "      <td>24251.0</td>\n",
       "      <td>False</td>\n",
       "      <td>Ventura County Fire/CAL FIRE</td>\n",
       "      <td>NaN</td>\n",
       "      <td>2013</td>\n",
       "      <td>True</td>\n",
       "      <td>/incidents/2013/5/2/springs-fire/</td>\n",
       "      <td>Acreage has been reduced based upon more accur...</td>\n",
       "      <td>NaN</td>\n",
       "      <td>Ventura</td>\n",
       "      <td>...</td>\n",
       "      <td>16.455486</td>\n",
       "      <td>1</td>\n",
       "      <td>5</td>\n",
       "      <td>2</td>\n",
       "      <td>springs</td>\n",
       "      <td>0</td>\n",
       "      <td>5</td>\n",
       "      <td>7</td>\n",
       "      <td>1</td>\n",
       "      <td>8</td>\n",
       "    </tr>\n",
       "  </tbody>\n",
       "</table>\n",
       "<p>5 rows × 50 columns</p>\n",
       "</div>"
      ],
      "text/plain": [
       "   AcresBurned  Active                                          AdminUnit  \\\n",
       "0     257314.0   False  Stanislaus National Forest/Yosemite National Park   \n",
       "1      30274.0   False  USFS Angeles National Forest/Los Angeles Count...   \n",
       "2      27531.0   False  CAL FIRE Riverside Unit / San Bernardino Natio...   \n",
       "3      27440.0   False                              Tahoe National Forest   \n",
       "4      24251.0   False                       Ventura County Fire/CAL FIRE   \n",
       "\n",
       "   AirTankers  ArchiveYear  CalFireIncident  \\\n",
       "0         NaN         2013             True   \n",
       "1         NaN         2013             True   \n",
       "2         NaN         2013             True   \n",
       "3         NaN         2013            False   \n",
       "4         NaN         2013             True   \n",
       "\n",
       "                            CanonicalUrl  \\\n",
       "0         /incidents/2013/8/17/rim-fire/   \n",
       "1  /incidents/2013/5/30/powerhouse-fire/   \n",
       "2    /incidents/2013/7/15/mountain-fire/   \n",
       "3    /incidents/2013/8/10/american-fire/   \n",
       "4      /incidents/2013/5/2/springs-fire/   \n",
       "\n",
       "                                  ConditionStatement ControlStatement  \\\n",
       "0                                                NaN              NaN   \n",
       "1                                                NaN              NaN   \n",
       "2                                                NaN              NaN   \n",
       "3                                                NaN              NaN   \n",
       "4  Acreage has been reduced based upon more accur...              NaN   \n",
       "\n",
       "      Counties  ... Transformed_AcresBurned  CALFIRE_AdminUnit  ArchiveMonth  \\\n",
       "0     Tuolumne  ...               22.984556                  0             8   \n",
       "1  Los Angeles  ...               17.011379                  1             5   \n",
       "2    Riverside  ...               16.772015                  1             7   \n",
       "3       Placer  ...               16.763708                  0             8   \n",
       "4      Ventura  ...               16.455486                  1             5   \n",
       "\n",
       "   ArchiveDay   Fire_Type  Frequent_County  No_of_Search_Keywords  \\\n",
       "0          17         rim                0                     10   \n",
       "1          30  powerhouse                0                      5   \n",
       "2          15    mountain                1                      7   \n",
       "3          10    american                0                      6   \n",
       "4           2     springs                0                      5   \n",
       "\n",
       "   ArchiveHour ArchiveMins  Fire_Duration_Days  \n",
       "0           15          25                  20  \n",
       "1           15          28                   9  \n",
       "2           13          43                  15  \n",
       "3           16          30                  19  \n",
       "4            7           1                   8  \n",
       "\n",
       "[5 rows x 50 columns]"
      ]
     },
     "execution_count": 771,
     "metadata": {},
     "output_type": "execute_result"
    }
   ],
   "source": [
    "df.head()"
   ]
  },
  {
   "cell_type": "markdown",
   "metadata": {},
   "source": [
    "## WaterTenders"
   ]
  },
  {
   "cell_type": "code",
   "execution_count": 772,
   "metadata": {},
   "outputs": [
    {
     "data": {
      "text/plain": [
       "0.8942542787286064"
      ]
     },
     "execution_count": 772,
     "metadata": {},
     "output_type": "execute_result"
    }
   ],
   "source": [
    "df['WaterTenders'].isna().sum() / DATASET_LEN"
   ]
  },
  {
   "cell_type": "code",
   "execution_count": 773,
   "metadata": {},
   "outputs": [
    {
     "data": {
      "text/plain": [
       "2.0     25\n",
       "4.0     23\n",
       "3.0     19\n",
       "1.0     18\n",
       "5.0     14\n",
       "6.0      8\n",
       "7.0      4\n",
       "8.0      4\n",
       "13.0     4\n",
       "79.0     3\n",
       "12.0     2\n",
       "24.0     2\n",
       "31.0     2\n",
       "27.0     2\n",
       "9.0      2\n",
       "20.0     2\n",
       "25.0     2\n",
       "10.0     1\n",
       "11.0     1\n",
       "18.0     1\n",
       "29.0     1\n",
       "26.0     1\n",
       "40.0     1\n",
       "23.0     1\n",
       "Name: WaterTenders, dtype: int64"
      ]
     },
     "execution_count": 773,
     "metadata": {},
     "output_type": "execute_result"
    }
   ],
   "source": [
    "df['WaterTenders'].value_counts()"
   ]
  },
  {
   "cell_type": "markdown",
   "metadata": {},
   "source": [
    "### Most of the data of this feature is missing and the remaining data is scattered"
   ]
  },
  {
   "cell_type": "markdown",
   "metadata": {},
   "source": [
    "## Correlation Matrix"
   ]
  },
  {
   "cell_type": "code",
   "execution_count": null,
   "metadata": {},
   "outputs": [],
   "source": []
  },
  {
   "cell_type": "code",
   "execution_count": 774,
   "metadata": {},
   "outputs": [
    {
     "data": {
      "text/html": [
       "<div>\n",
       "<style scoped>\n",
       "    .dataframe tbody tr th:only-of-type {\n",
       "        vertical-align: middle;\n",
       "    }\n",
       "\n",
       "    .dataframe tbody tr th {\n",
       "        vertical-align: top;\n",
       "    }\n",
       "\n",
       "    .dataframe thead th {\n",
       "        text-align: right;\n",
       "    }\n",
       "</style>\n",
       "<table border=\"1\" class=\"dataframe\">\n",
       "  <thead>\n",
       "    <tr style=\"text-align: right;\">\n",
       "      <th></th>\n",
       "      <th>AcresBurned</th>\n",
       "      <th>Active</th>\n",
       "      <th>AirTankers</th>\n",
       "      <th>ArchiveYear</th>\n",
       "      <th>CalFireIncident</th>\n",
       "      <th>CrewsInvolved</th>\n",
       "      <th>Dozers</th>\n",
       "      <th>Engines</th>\n",
       "      <th>Fatalities</th>\n",
       "      <th>Featured</th>\n",
       "      <th>...</th>\n",
       "      <th>WaterTenders</th>\n",
       "      <th>Transformed_AcresBurned</th>\n",
       "      <th>CALFIRE_AdminUnit</th>\n",
       "      <th>ArchiveMonth</th>\n",
       "      <th>ArchiveDay</th>\n",
       "      <th>Frequent_County</th>\n",
       "      <th>No_of_Search_Keywords</th>\n",
       "      <th>ArchiveHour</th>\n",
       "      <th>ArchiveMins</th>\n",
       "      <th>Fire_Duration_Days</th>\n",
       "    </tr>\n",
       "  </thead>\n",
       "  <tbody>\n",
       "    <tr>\n",
       "      <th>AcresBurned</th>\n",
       "      <td>1.000000</td>\n",
       "      <td>NaN</td>\n",
       "      <td>0.082493</td>\n",
       "      <td>0.025489</td>\n",
       "      <td>0.001546</td>\n",
       "      <td>0.089389</td>\n",
       "      <td>0.481645</td>\n",
       "      <td>0.226041</td>\n",
       "      <td>-0.104641</td>\n",
       "      <td>NaN</td>\n",
       "      <td>...</td>\n",
       "      <td>0.357584</td>\n",
       "      <td>0.493116</td>\n",
       "      <td>-0.122531</td>\n",
       "      <td>0.060895</td>\n",
       "      <td>0.056435</td>\n",
       "      <td>-0.068688</td>\n",
       "      <td>0.043282</td>\n",
       "      <td>0.009550</td>\n",
       "      <td>-0.071205</td>\n",
       "      <td>0.034844</td>\n",
       "    </tr>\n",
       "    <tr>\n",
       "      <th>Active</th>\n",
       "      <td>NaN</td>\n",
       "      <td>NaN</td>\n",
       "      <td>NaN</td>\n",
       "      <td>NaN</td>\n",
       "      <td>NaN</td>\n",
       "      <td>NaN</td>\n",
       "      <td>NaN</td>\n",
       "      <td>NaN</td>\n",
       "      <td>NaN</td>\n",
       "      <td>NaN</td>\n",
       "      <td>...</td>\n",
       "      <td>NaN</td>\n",
       "      <td>NaN</td>\n",
       "      <td>NaN</td>\n",
       "      <td>NaN</td>\n",
       "      <td>NaN</td>\n",
       "      <td>NaN</td>\n",
       "      <td>NaN</td>\n",
       "      <td>NaN</td>\n",
       "      <td>NaN</td>\n",
       "      <td>NaN</td>\n",
       "    </tr>\n",
       "    <tr>\n",
       "      <th>AirTankers</th>\n",
       "      <td>0.082493</td>\n",
       "      <td>NaN</td>\n",
       "      <td>1.000000</td>\n",
       "      <td>-0.421151</td>\n",
       "      <td>0.118912</td>\n",
       "      <td>0.600607</td>\n",
       "      <td>0.778566</td>\n",
       "      <td>0.426895</td>\n",
       "      <td>NaN</td>\n",
       "      <td>NaN</td>\n",
       "      <td>...</td>\n",
       "      <td>0.802879</td>\n",
       "      <td>0.290223</td>\n",
       "      <td>0.155816</td>\n",
       "      <td>-0.415218</td>\n",
       "      <td>0.268917</td>\n",
       "      <td>0.185907</td>\n",
       "      <td>0.333230</td>\n",
       "      <td>-0.175067</td>\n",
       "      <td>-0.214187</td>\n",
       "      <td>-0.110750</td>\n",
       "    </tr>\n",
       "    <tr>\n",
       "      <th>ArchiveYear</th>\n",
       "      <td>0.025489</td>\n",
       "      <td>NaN</td>\n",
       "      <td>-0.421151</td>\n",
       "      <td>1.000000</td>\n",
       "      <td>-0.044578</td>\n",
       "      <td>-0.165211</td>\n",
       "      <td>0.036787</td>\n",
       "      <td>0.012687</td>\n",
       "      <td>0.041977</td>\n",
       "      <td>NaN</td>\n",
       "      <td>...</td>\n",
       "      <td>-0.014962</td>\n",
       "      <td>-0.062212</td>\n",
       "      <td>-0.046528</td>\n",
       "      <td>0.110985</td>\n",
       "      <td>-0.005693</td>\n",
       "      <td>0.006120</td>\n",
       "      <td>-0.505134</td>\n",
       "      <td>0.077929</td>\n",
       "      <td>0.068654</td>\n",
       "      <td>0.068480</td>\n",
       "    </tr>\n",
       "    <tr>\n",
       "      <th>CalFireIncident</th>\n",
       "      <td>0.001546</td>\n",
       "      <td>NaN</td>\n",
       "      <td>0.118912</td>\n",
       "      <td>-0.044578</td>\n",
       "      <td>1.000000</td>\n",
       "      <td>-0.022248</td>\n",
       "      <td>0.018856</td>\n",
       "      <td>-0.109187</td>\n",
       "      <td>0.098760</td>\n",
       "      <td>NaN</td>\n",
       "      <td>...</td>\n",
       "      <td>-0.000730</td>\n",
       "      <td>-0.081350</td>\n",
       "      <td>0.800784</td>\n",
       "      <td>-0.104494</td>\n",
       "      <td>-0.000598</td>\n",
       "      <td>0.103727</td>\n",
       "      <td>0.047231</td>\n",
       "      <td>-0.024886</td>\n",
       "      <td>0.058960</td>\n",
       "      <td>0.006514</td>\n",
       "    </tr>\n",
       "    <tr>\n",
       "      <th>CrewsInvolved</th>\n",
       "      <td>0.089389</td>\n",
       "      <td>NaN</td>\n",
       "      <td>0.600607</td>\n",
       "      <td>-0.165211</td>\n",
       "      <td>-0.022248</td>\n",
       "      <td>1.000000</td>\n",
       "      <td>0.652532</td>\n",
       "      <td>0.768536</td>\n",
       "      <td>0.982441</td>\n",
       "      <td>NaN</td>\n",
       "      <td>...</td>\n",
       "      <td>0.735840</td>\n",
       "      <td>0.403148</td>\n",
       "      <td>-0.004636</td>\n",
       "      <td>-0.155014</td>\n",
       "      <td>0.071595</td>\n",
       "      <td>0.095918</td>\n",
       "      <td>-0.048899</td>\n",
       "      <td>-0.119726</td>\n",
       "      <td>-0.131320</td>\n",
       "      <td>-0.012000</td>\n",
       "    </tr>\n",
       "    <tr>\n",
       "      <th>Dozers</th>\n",
       "      <td>0.481645</td>\n",
       "      <td>NaN</td>\n",
       "      <td>0.778566</td>\n",
       "      <td>0.036787</td>\n",
       "      <td>0.018856</td>\n",
       "      <td>0.652532</td>\n",
       "      <td>1.000000</td>\n",
       "      <td>0.767465</td>\n",
       "      <td>-0.571689</td>\n",
       "      <td>NaN</td>\n",
       "      <td>...</td>\n",
       "      <td>0.961050</td>\n",
       "      <td>0.488951</td>\n",
       "      <td>0.105452</td>\n",
       "      <td>-0.097068</td>\n",
       "      <td>0.321830</td>\n",
       "      <td>-0.018393</td>\n",
       "      <td>-0.083971</td>\n",
       "      <td>-0.059665</td>\n",
       "      <td>-0.270536</td>\n",
       "      <td>0.279420</td>\n",
       "    </tr>\n",
       "    <tr>\n",
       "      <th>Engines</th>\n",
       "      <td>0.226041</td>\n",
       "      <td>NaN</td>\n",
       "      <td>0.426895</td>\n",
       "      <td>0.012687</td>\n",
       "      <td>-0.109187</td>\n",
       "      <td>0.768536</td>\n",
       "      <td>0.767465</td>\n",
       "      <td>1.000000</td>\n",
       "      <td>0.999275</td>\n",
       "      <td>NaN</td>\n",
       "      <td>...</td>\n",
       "      <td>0.832733</td>\n",
       "      <td>0.480930</td>\n",
       "      <td>0.002472</td>\n",
       "      <td>-0.053398</td>\n",
       "      <td>0.080303</td>\n",
       "      <td>0.068125</td>\n",
       "      <td>-0.075263</td>\n",
       "      <td>-0.129791</td>\n",
       "      <td>-0.134171</td>\n",
       "      <td>0.090764</td>\n",
       "    </tr>\n",
       "    <tr>\n",
       "      <th>Fatalities</th>\n",
       "      <td>-0.104641</td>\n",
       "      <td>NaN</td>\n",
       "      <td>NaN</td>\n",
       "      <td>0.041977</td>\n",
       "      <td>0.098760</td>\n",
       "      <td>0.982441</td>\n",
       "      <td>-0.571689</td>\n",
       "      <td>0.999275</td>\n",
       "      <td>1.000000</td>\n",
       "      <td>NaN</td>\n",
       "      <td>...</td>\n",
       "      <td>-0.579717</td>\n",
       "      <td>0.050526</td>\n",
       "      <td>0.293185</td>\n",
       "      <td>0.392937</td>\n",
       "      <td>-0.283585</td>\n",
       "      <td>0.471247</td>\n",
       "      <td>0.104560</td>\n",
       "      <td>-0.314198</td>\n",
       "      <td>0.368376</td>\n",
       "      <td>0.032677</td>\n",
       "    </tr>\n",
       "    <tr>\n",
       "      <th>Featured</th>\n",
       "      <td>NaN</td>\n",
       "      <td>NaN</td>\n",
       "      <td>NaN</td>\n",
       "      <td>NaN</td>\n",
       "      <td>NaN</td>\n",
       "      <td>NaN</td>\n",
       "      <td>NaN</td>\n",
       "      <td>NaN</td>\n",
       "      <td>NaN</td>\n",
       "      <td>NaN</td>\n",
       "      <td>...</td>\n",
       "      <td>NaN</td>\n",
       "      <td>NaN</td>\n",
       "      <td>NaN</td>\n",
       "      <td>NaN</td>\n",
       "      <td>NaN</td>\n",
       "      <td>NaN</td>\n",
       "      <td>NaN</td>\n",
       "      <td>NaN</td>\n",
       "      <td>NaN</td>\n",
       "      <td>NaN</td>\n",
       "    </tr>\n",
       "    <tr>\n",
       "      <th>Final</th>\n",
       "      <td>NaN</td>\n",
       "      <td>NaN</td>\n",
       "      <td>NaN</td>\n",
       "      <td>NaN</td>\n",
       "      <td>NaN</td>\n",
       "      <td>NaN</td>\n",
       "      <td>NaN</td>\n",
       "      <td>NaN</td>\n",
       "      <td>NaN</td>\n",
       "      <td>NaN</td>\n",
       "      <td>...</td>\n",
       "      <td>NaN</td>\n",
       "      <td>NaN</td>\n",
       "      <td>NaN</td>\n",
       "      <td>NaN</td>\n",
       "      <td>NaN</td>\n",
       "      <td>NaN</td>\n",
       "      <td>NaN</td>\n",
       "      <td>NaN</td>\n",
       "      <td>NaN</td>\n",
       "      <td>NaN</td>\n",
       "    </tr>\n",
       "    <tr>\n",
       "      <th>Helicopters</th>\n",
       "      <td>0.123667</td>\n",
       "      <td>NaN</td>\n",
       "      <td>0.825228</td>\n",
       "      <td>-0.278837</td>\n",
       "      <td>0.067824</td>\n",
       "      <td>0.713215</td>\n",
       "      <td>0.740996</td>\n",
       "      <td>0.563463</td>\n",
       "      <td>NaN</td>\n",
       "      <td>NaN</td>\n",
       "      <td>...</td>\n",
       "      <td>0.698173</td>\n",
       "      <td>0.281092</td>\n",
       "      <td>0.069974</td>\n",
       "      <td>-0.143703</td>\n",
       "      <td>0.284639</td>\n",
       "      <td>0.147462</td>\n",
       "      <td>0.075159</td>\n",
       "      <td>-0.051247</td>\n",
       "      <td>-0.249979</td>\n",
       "      <td>0.019620</td>\n",
       "    </tr>\n",
       "    <tr>\n",
       "      <th>Injuries</th>\n",
       "      <td>-0.043369</td>\n",
       "      <td>NaN</td>\n",
       "      <td>0.799003</td>\n",
       "      <td>-0.326796</td>\n",
       "      <td>-0.091534</td>\n",
       "      <td>0.482640</td>\n",
       "      <td>0.130687</td>\n",
       "      <td>0.652636</td>\n",
       "      <td>0.082642</td>\n",
       "      <td>NaN</td>\n",
       "      <td>...</td>\n",
       "      <td>0.241161</td>\n",
       "      <td>0.209084</td>\n",
       "      <td>0.055683</td>\n",
       "      <td>-0.034992</td>\n",
       "      <td>-0.029828</td>\n",
       "      <td>0.068624</td>\n",
       "      <td>0.122924</td>\n",
       "      <td>-0.061224</td>\n",
       "      <td>-0.094804</td>\n",
       "      <td>-0.172087</td>\n",
       "    </tr>\n",
       "    <tr>\n",
       "      <th>Latitude</th>\n",
       "      <td>-0.002157</td>\n",
       "      <td>NaN</td>\n",
       "      <td>-0.017333</td>\n",
       "      <td>0.014199</td>\n",
       "      <td>0.021498</td>\n",
       "      <td>-0.021449</td>\n",
       "      <td>0.116855</td>\n",
       "      <td>0.014915</td>\n",
       "      <td>0.164994</td>\n",
       "      <td>NaN</td>\n",
       "      <td>...</td>\n",
       "      <td>0.039875</td>\n",
       "      <td>-0.005994</td>\n",
       "      <td>0.024146</td>\n",
       "      <td>0.004643</td>\n",
       "      <td>-0.019019</td>\n",
       "      <td>-0.022312</td>\n",
       "      <td>-0.014152</td>\n",
       "      <td>-0.008413</td>\n",
       "      <td>0.028191</td>\n",
       "      <td>0.029411</td>\n",
       "    </tr>\n",
       "    <tr>\n",
       "      <th>Longitude</th>\n",
       "      <td>-0.020384</td>\n",
       "      <td>NaN</td>\n",
       "      <td>-0.026241</td>\n",
       "      <td>-0.300224</td>\n",
       "      <td>-0.084559</td>\n",
       "      <td>-0.008445</td>\n",
       "      <td>-0.115582</td>\n",
       "      <td>-0.043481</td>\n",
       "      <td>0.013690</td>\n",
       "      <td>NaN</td>\n",
       "      <td>...</td>\n",
       "      <td>-0.047894</td>\n",
       "      <td>0.001643</td>\n",
       "      <td>-0.081155</td>\n",
       "      <td>-0.106865</td>\n",
       "      <td>0.011592</td>\n",
       "      <td>-0.035669</td>\n",
       "      <td>0.087744</td>\n",
       "      <td>-0.032281</td>\n",
       "      <td>-0.091234</td>\n",
       "      <td>-0.021548</td>\n",
       "    </tr>\n",
       "    <tr>\n",
       "      <th>MajorIncident</th>\n",
       "      <td>0.175301</td>\n",
       "      <td>NaN</td>\n",
       "      <td>0.139415</td>\n",
       "      <td>-0.132027</td>\n",
       "      <td>0.254794</td>\n",
       "      <td>0.055443</td>\n",
       "      <td>0.087768</td>\n",
       "      <td>0.056805</td>\n",
       "      <td>NaN</td>\n",
       "      <td>NaN</td>\n",
       "      <td>...</td>\n",
       "      <td>0.079746</td>\n",
       "      <td>0.276194</td>\n",
       "      <td>0.242226</td>\n",
       "      <td>0.054752</td>\n",
       "      <td>-0.050864</td>\n",
       "      <td>-0.033289</td>\n",
       "      <td>0.121561</td>\n",
       "      <td>-0.046637</td>\n",
       "      <td>0.006263</td>\n",
       "      <td>0.013834</td>\n",
       "    </tr>\n",
       "    <tr>\n",
       "      <th>PercentContained</th>\n",
       "      <td>NaN</td>\n",
       "      <td>NaN</td>\n",
       "      <td>NaN</td>\n",
       "      <td>NaN</td>\n",
       "      <td>NaN</td>\n",
       "      <td>NaN</td>\n",
       "      <td>NaN</td>\n",
       "      <td>NaN</td>\n",
       "      <td>NaN</td>\n",
       "      <td>NaN</td>\n",
       "      <td>...</td>\n",
       "      <td>NaN</td>\n",
       "      <td>NaN</td>\n",
       "      <td>NaN</td>\n",
       "      <td>NaN</td>\n",
       "      <td>NaN</td>\n",
       "      <td>NaN</td>\n",
       "      <td>NaN</td>\n",
       "      <td>NaN</td>\n",
       "      <td>NaN</td>\n",
       "      <td>NaN</td>\n",
       "    </tr>\n",
       "    <tr>\n",
       "      <th>PersonnelInvolved</th>\n",
       "      <td>0.257225</td>\n",
       "      <td>NaN</td>\n",
       "      <td>0.430002</td>\n",
       "      <td>-0.034196</td>\n",
       "      <td>-0.027884</td>\n",
       "      <td>0.822602</td>\n",
       "      <td>0.752753</td>\n",
       "      <td>0.943656</td>\n",
       "      <td>0.904725</td>\n",
       "      <td>NaN</td>\n",
       "      <td>...</td>\n",
       "      <td>0.815316</td>\n",
       "      <td>0.443277</td>\n",
       "      <td>-0.008214</td>\n",
       "      <td>-0.108405</td>\n",
       "      <td>0.075495</td>\n",
       "      <td>0.078137</td>\n",
       "      <td>-0.061381</td>\n",
       "      <td>-0.161584</td>\n",
       "      <td>-0.134702</td>\n",
       "      <td>0.103333</td>\n",
       "    </tr>\n",
       "    <tr>\n",
       "      <th>Public</th>\n",
       "      <td>NaN</td>\n",
       "      <td>NaN</td>\n",
       "      <td>NaN</td>\n",
       "      <td>NaN</td>\n",
       "      <td>NaN</td>\n",
       "      <td>NaN</td>\n",
       "      <td>NaN</td>\n",
       "      <td>NaN</td>\n",
       "      <td>NaN</td>\n",
       "      <td>NaN</td>\n",
       "      <td>...</td>\n",
       "      <td>NaN</td>\n",
       "      <td>NaN</td>\n",
       "      <td>NaN</td>\n",
       "      <td>NaN</td>\n",
       "      <td>NaN</td>\n",
       "      <td>NaN</td>\n",
       "      <td>NaN</td>\n",
       "      <td>NaN</td>\n",
       "      <td>NaN</td>\n",
       "      <td>NaN</td>\n",
       "    </tr>\n",
       "    <tr>\n",
       "      <th>StructuresDamaged</th>\n",
       "      <td>0.376423</td>\n",
       "      <td>NaN</td>\n",
       "      <td>1.000000</td>\n",
       "      <td>0.161203</td>\n",
       "      <td>0.032026</td>\n",
       "      <td>-0.170262</td>\n",
       "      <td>0.473615</td>\n",
       "      <td>-0.076611</td>\n",
       "      <td>0.257376</td>\n",
       "      <td>NaN</td>\n",
       "      <td>...</td>\n",
       "      <td>0.273655</td>\n",
       "      <td>0.475440</td>\n",
       "      <td>-0.223511</td>\n",
       "      <td>0.347345</td>\n",
       "      <td>-0.252967</td>\n",
       "      <td>-0.286050</td>\n",
       "      <td>-0.018558</td>\n",
       "      <td>0.378869</td>\n",
       "      <td>0.179698</td>\n",
       "      <td>0.596150</td>\n",
       "    </tr>\n",
       "    <tr>\n",
       "      <th>StructuresDestroyed</th>\n",
       "      <td>0.217598</td>\n",
       "      <td>NaN</td>\n",
       "      <td>0.572424</td>\n",
       "      <td>0.102293</td>\n",
       "      <td>0.033917</td>\n",
       "      <td>-0.031026</td>\n",
       "      <td>-0.023027</td>\n",
       "      <td>0.065290</td>\n",
       "      <td>0.983714</td>\n",
       "      <td>NaN</td>\n",
       "      <td>...</td>\n",
       "      <td>-0.031223</td>\n",
       "      <td>0.266671</td>\n",
       "      <td>-0.016796</td>\n",
       "      <td>0.208974</td>\n",
       "      <td>-0.100366</td>\n",
       "      <td>0.035806</td>\n",
       "      <td>0.078961</td>\n",
       "      <td>-0.031348</td>\n",
       "      <td>0.030128</td>\n",
       "      <td>0.171116</td>\n",
       "    </tr>\n",
       "    <tr>\n",
       "      <th>StructuresEvacuated</th>\n",
       "      <td>NaN</td>\n",
       "      <td>NaN</td>\n",
       "      <td>NaN</td>\n",
       "      <td>NaN</td>\n",
       "      <td>NaN</td>\n",
       "      <td>NaN</td>\n",
       "      <td>NaN</td>\n",
       "      <td>NaN</td>\n",
       "      <td>NaN</td>\n",
       "      <td>NaN</td>\n",
       "      <td>...</td>\n",
       "      <td>NaN</td>\n",
       "      <td>NaN</td>\n",
       "      <td>NaN</td>\n",
       "      <td>NaN</td>\n",
       "      <td>NaN</td>\n",
       "      <td>NaN</td>\n",
       "      <td>NaN</td>\n",
       "      <td>NaN</td>\n",
       "      <td>NaN</td>\n",
       "      <td>NaN</td>\n",
       "    </tr>\n",
       "    <tr>\n",
       "      <th>StructuresThreatened</th>\n",
       "      <td>0.281418</td>\n",
       "      <td>NaN</td>\n",
       "      <td>-0.076033</td>\n",
       "      <td>0.086050</td>\n",
       "      <td>0.151947</td>\n",
       "      <td>0.644368</td>\n",
       "      <td>0.593005</td>\n",
       "      <td>0.634078</td>\n",
       "      <td>NaN</td>\n",
       "      <td>NaN</td>\n",
       "      <td>...</td>\n",
       "      <td>0.739554</td>\n",
       "      <td>0.273704</td>\n",
       "      <td>-0.192314</td>\n",
       "      <td>-0.255398</td>\n",
       "      <td>0.585825</td>\n",
       "      <td>-0.376621</td>\n",
       "      <td>-0.010795</td>\n",
       "      <td>-0.292070</td>\n",
       "      <td>-0.034727</td>\n",
       "      <td>0.041818</td>\n",
       "    </tr>\n",
       "    <tr>\n",
       "      <th>WaterTenders</th>\n",
       "      <td>0.357584</td>\n",
       "      <td>NaN</td>\n",
       "      <td>0.802879</td>\n",
       "      <td>-0.014962</td>\n",
       "      <td>-0.000730</td>\n",
       "      <td>0.735840</td>\n",
       "      <td>0.961050</td>\n",
       "      <td>0.832733</td>\n",
       "      <td>-0.579717</td>\n",
       "      <td>NaN</td>\n",
       "      <td>...</td>\n",
       "      <td>1.000000</td>\n",
       "      <td>0.449846</td>\n",
       "      <td>0.080169</td>\n",
       "      <td>-0.186450</td>\n",
       "      <td>0.229969</td>\n",
       "      <td>0.016765</td>\n",
       "      <td>-0.103546</td>\n",
       "      <td>-0.096824</td>\n",
       "      <td>-0.233877</td>\n",
       "      <td>0.145878</td>\n",
       "    </tr>\n",
       "    <tr>\n",
       "      <th>Transformed_AcresBurned</th>\n",
       "      <td>0.493116</td>\n",
       "      <td>NaN</td>\n",
       "      <td>0.290223</td>\n",
       "      <td>-0.062212</td>\n",
       "      <td>-0.081350</td>\n",
       "      <td>0.403148</td>\n",
       "      <td>0.488951</td>\n",
       "      <td>0.480930</td>\n",
       "      <td>0.050526</td>\n",
       "      <td>NaN</td>\n",
       "      <td>...</td>\n",
       "      <td>0.449846</td>\n",
       "      <td>1.000000</td>\n",
       "      <td>-0.127461</td>\n",
       "      <td>0.100236</td>\n",
       "      <td>0.035604</td>\n",
       "      <td>-0.076771</td>\n",
       "      <td>0.050269</td>\n",
       "      <td>0.025384</td>\n",
       "      <td>-0.020311</td>\n",
       "      <td>0.015334</td>\n",
       "    </tr>\n",
       "    <tr>\n",
       "      <th>CALFIRE_AdminUnit</th>\n",
       "      <td>-0.122531</td>\n",
       "      <td>NaN</td>\n",
       "      <td>0.155816</td>\n",
       "      <td>-0.046528</td>\n",
       "      <td>0.800784</td>\n",
       "      <td>-0.004636</td>\n",
       "      <td>0.105452</td>\n",
       "      <td>0.002472</td>\n",
       "      <td>0.293185</td>\n",
       "      <td>NaN</td>\n",
       "      <td>...</td>\n",
       "      <td>0.080169</td>\n",
       "      <td>-0.127461</td>\n",
       "      <td>1.000000</td>\n",
       "      <td>-0.097305</td>\n",
       "      <td>-0.005057</td>\n",
       "      <td>0.087623</td>\n",
       "      <td>0.036635</td>\n",
       "      <td>-0.021863</td>\n",
       "      <td>0.038659</td>\n",
       "      <td>0.024485</td>\n",
       "    </tr>\n",
       "    <tr>\n",
       "      <th>ArchiveMonth</th>\n",
       "      <td>0.060895</td>\n",
       "      <td>NaN</td>\n",
       "      <td>-0.415218</td>\n",
       "      <td>0.110985</td>\n",
       "      <td>-0.104494</td>\n",
       "      <td>-0.155014</td>\n",
       "      <td>-0.097068</td>\n",
       "      <td>-0.053398</td>\n",
       "      <td>0.392937</td>\n",
       "      <td>NaN</td>\n",
       "      <td>...</td>\n",
       "      <td>-0.186450</td>\n",
       "      <td>0.100236</td>\n",
       "      <td>-0.097305</td>\n",
       "      <td>1.000000</td>\n",
       "      <td>-0.139502</td>\n",
       "      <td>-0.092013</td>\n",
       "      <td>-0.056112</td>\n",
       "      <td>-0.041812</td>\n",
       "      <td>0.039973</td>\n",
       "      <td>0.033273</td>\n",
       "    </tr>\n",
       "    <tr>\n",
       "      <th>ArchiveDay</th>\n",
       "      <td>0.056435</td>\n",
       "      <td>NaN</td>\n",
       "      <td>0.268917</td>\n",
       "      <td>-0.005693</td>\n",
       "      <td>-0.000598</td>\n",
       "      <td>0.071595</td>\n",
       "      <td>0.321830</td>\n",
       "      <td>0.080303</td>\n",
       "      <td>-0.283585</td>\n",
       "      <td>NaN</td>\n",
       "      <td>...</td>\n",
       "      <td>0.229969</td>\n",
       "      <td>0.035604</td>\n",
       "      <td>-0.005057</td>\n",
       "      <td>-0.139502</td>\n",
       "      <td>1.000000</td>\n",
       "      <td>0.014185</td>\n",
       "      <td>0.020152</td>\n",
       "      <td>0.042046</td>\n",
       "      <td>-0.036640</td>\n",
       "      <td>0.073190</td>\n",
       "    </tr>\n",
       "    <tr>\n",
       "      <th>Frequent_County</th>\n",
       "      <td>-0.068688</td>\n",
       "      <td>NaN</td>\n",
       "      <td>0.185907</td>\n",
       "      <td>0.006120</td>\n",
       "      <td>0.103727</td>\n",
       "      <td>0.095918</td>\n",
       "      <td>-0.018393</td>\n",
       "      <td>0.068125</td>\n",
       "      <td>0.471247</td>\n",
       "      <td>NaN</td>\n",
       "      <td>...</td>\n",
       "      <td>0.016765</td>\n",
       "      <td>-0.076771</td>\n",
       "      <td>0.087623</td>\n",
       "      <td>-0.092013</td>\n",
       "      <td>0.014185</td>\n",
       "      <td>1.000000</td>\n",
       "      <td>0.029289</td>\n",
       "      <td>-0.018784</td>\n",
       "      <td>0.039944</td>\n",
       "      <td>-0.007608</td>\n",
       "    </tr>\n",
       "    <tr>\n",
       "      <th>No_of_Search_Keywords</th>\n",
       "      <td>0.043282</td>\n",
       "      <td>NaN</td>\n",
       "      <td>0.333230</td>\n",
       "      <td>-0.505134</td>\n",
       "      <td>0.047231</td>\n",
       "      <td>-0.048899</td>\n",
       "      <td>-0.083971</td>\n",
       "      <td>-0.075263</td>\n",
       "      <td>0.104560</td>\n",
       "      <td>NaN</td>\n",
       "      <td>...</td>\n",
       "      <td>-0.103546</td>\n",
       "      <td>0.050269</td>\n",
       "      <td>0.036635</td>\n",
       "      <td>-0.056112</td>\n",
       "      <td>0.020152</td>\n",
       "      <td>0.029289</td>\n",
       "      <td>1.000000</td>\n",
       "      <td>-0.046305</td>\n",
       "      <td>-0.049238</td>\n",
       "      <td>0.040745</td>\n",
       "    </tr>\n",
       "    <tr>\n",
       "      <th>ArchiveHour</th>\n",
       "      <td>0.009550</td>\n",
       "      <td>NaN</td>\n",
       "      <td>-0.175067</td>\n",
       "      <td>0.077929</td>\n",
       "      <td>-0.024886</td>\n",
       "      <td>-0.119726</td>\n",
       "      <td>-0.059665</td>\n",
       "      <td>-0.129791</td>\n",
       "      <td>-0.314198</td>\n",
       "      <td>NaN</td>\n",
       "      <td>...</td>\n",
       "      <td>-0.096824</td>\n",
       "      <td>0.025384</td>\n",
       "      <td>-0.021863</td>\n",
       "      <td>-0.041812</td>\n",
       "      <td>0.042046</td>\n",
       "      <td>-0.018784</td>\n",
       "      <td>-0.046305</td>\n",
       "      <td>1.000000</td>\n",
       "      <td>-0.059012</td>\n",
       "      <td>0.018219</td>\n",
       "    </tr>\n",
       "    <tr>\n",
       "      <th>ArchiveMins</th>\n",
       "      <td>-0.071205</td>\n",
       "      <td>NaN</td>\n",
       "      <td>-0.214187</td>\n",
       "      <td>0.068654</td>\n",
       "      <td>0.058960</td>\n",
       "      <td>-0.131320</td>\n",
       "      <td>-0.270536</td>\n",
       "      <td>-0.134171</td>\n",
       "      <td>0.368376</td>\n",
       "      <td>NaN</td>\n",
       "      <td>...</td>\n",
       "      <td>-0.233877</td>\n",
       "      <td>-0.020311</td>\n",
       "      <td>0.038659</td>\n",
       "      <td>0.039973</td>\n",
       "      <td>-0.036640</td>\n",
       "      <td>0.039944</td>\n",
       "      <td>-0.049238</td>\n",
       "      <td>-0.059012</td>\n",
       "      <td>1.000000</td>\n",
       "      <td>-0.025801</td>\n",
       "    </tr>\n",
       "    <tr>\n",
       "      <th>Fire_Duration_Days</th>\n",
       "      <td>0.034844</td>\n",
       "      <td>NaN</td>\n",
       "      <td>-0.110750</td>\n",
       "      <td>0.068480</td>\n",
       "      <td>0.006514</td>\n",
       "      <td>-0.012000</td>\n",
       "      <td>0.279420</td>\n",
       "      <td>0.090764</td>\n",
       "      <td>0.032677</td>\n",
       "      <td>NaN</td>\n",
       "      <td>...</td>\n",
       "      <td>0.145878</td>\n",
       "      <td>0.015334</td>\n",
       "      <td>0.024485</td>\n",
       "      <td>0.033273</td>\n",
       "      <td>0.073190</td>\n",
       "      <td>-0.007608</td>\n",
       "      <td>0.040745</td>\n",
       "      <td>0.018219</td>\n",
       "      <td>-0.025801</td>\n",
       "      <td>1.000000</td>\n",
       "    </tr>\n",
       "  </tbody>\n",
       "</table>\n",
       "<p>33 rows × 33 columns</p>\n",
       "</div>"
      ],
      "text/plain": [
       "                         AcresBurned  Active  AirTankers  ArchiveYear  \\\n",
       "AcresBurned                 1.000000     NaN    0.082493     0.025489   \n",
       "Active                           NaN     NaN         NaN          NaN   \n",
       "AirTankers                  0.082493     NaN    1.000000    -0.421151   \n",
       "ArchiveYear                 0.025489     NaN   -0.421151     1.000000   \n",
       "CalFireIncident             0.001546     NaN    0.118912    -0.044578   \n",
       "CrewsInvolved               0.089389     NaN    0.600607    -0.165211   \n",
       "Dozers                      0.481645     NaN    0.778566     0.036787   \n",
       "Engines                     0.226041     NaN    0.426895     0.012687   \n",
       "Fatalities                 -0.104641     NaN         NaN     0.041977   \n",
       "Featured                         NaN     NaN         NaN          NaN   \n",
       "Final                            NaN     NaN         NaN          NaN   \n",
       "Helicopters                 0.123667     NaN    0.825228    -0.278837   \n",
       "Injuries                   -0.043369     NaN    0.799003    -0.326796   \n",
       "Latitude                   -0.002157     NaN   -0.017333     0.014199   \n",
       "Longitude                  -0.020384     NaN   -0.026241    -0.300224   \n",
       "MajorIncident               0.175301     NaN    0.139415    -0.132027   \n",
       "PercentContained                 NaN     NaN         NaN          NaN   \n",
       "PersonnelInvolved           0.257225     NaN    0.430002    -0.034196   \n",
       "Public                           NaN     NaN         NaN          NaN   \n",
       "StructuresDamaged           0.376423     NaN    1.000000     0.161203   \n",
       "StructuresDestroyed         0.217598     NaN    0.572424     0.102293   \n",
       "StructuresEvacuated              NaN     NaN         NaN          NaN   \n",
       "StructuresThreatened        0.281418     NaN   -0.076033     0.086050   \n",
       "WaterTenders                0.357584     NaN    0.802879    -0.014962   \n",
       "Transformed_AcresBurned     0.493116     NaN    0.290223    -0.062212   \n",
       "CALFIRE_AdminUnit          -0.122531     NaN    0.155816    -0.046528   \n",
       "ArchiveMonth                0.060895     NaN   -0.415218     0.110985   \n",
       "ArchiveDay                  0.056435     NaN    0.268917    -0.005693   \n",
       "Frequent_County            -0.068688     NaN    0.185907     0.006120   \n",
       "No_of_Search_Keywords       0.043282     NaN    0.333230    -0.505134   \n",
       "ArchiveHour                 0.009550     NaN   -0.175067     0.077929   \n",
       "ArchiveMins                -0.071205     NaN   -0.214187     0.068654   \n",
       "Fire_Duration_Days          0.034844     NaN   -0.110750     0.068480   \n",
       "\n",
       "                         CalFireIncident  CrewsInvolved    Dozers   Engines  \\\n",
       "AcresBurned                     0.001546       0.089389  0.481645  0.226041   \n",
       "Active                               NaN            NaN       NaN       NaN   \n",
       "AirTankers                      0.118912       0.600607  0.778566  0.426895   \n",
       "ArchiveYear                    -0.044578      -0.165211  0.036787  0.012687   \n",
       "CalFireIncident                 1.000000      -0.022248  0.018856 -0.109187   \n",
       "CrewsInvolved                  -0.022248       1.000000  0.652532  0.768536   \n",
       "Dozers                          0.018856       0.652532  1.000000  0.767465   \n",
       "Engines                        -0.109187       0.768536  0.767465  1.000000   \n",
       "Fatalities                      0.098760       0.982441 -0.571689  0.999275   \n",
       "Featured                             NaN            NaN       NaN       NaN   \n",
       "Final                                NaN            NaN       NaN       NaN   \n",
       "Helicopters                     0.067824       0.713215  0.740996  0.563463   \n",
       "Injuries                       -0.091534       0.482640  0.130687  0.652636   \n",
       "Latitude                        0.021498      -0.021449  0.116855  0.014915   \n",
       "Longitude                      -0.084559      -0.008445 -0.115582 -0.043481   \n",
       "MajorIncident                   0.254794       0.055443  0.087768  0.056805   \n",
       "PercentContained                     NaN            NaN       NaN       NaN   \n",
       "PersonnelInvolved              -0.027884       0.822602  0.752753  0.943656   \n",
       "Public                               NaN            NaN       NaN       NaN   \n",
       "StructuresDamaged               0.032026      -0.170262  0.473615 -0.076611   \n",
       "StructuresDestroyed             0.033917      -0.031026 -0.023027  0.065290   \n",
       "StructuresEvacuated                  NaN            NaN       NaN       NaN   \n",
       "StructuresThreatened            0.151947       0.644368  0.593005  0.634078   \n",
       "WaterTenders                   -0.000730       0.735840  0.961050  0.832733   \n",
       "Transformed_AcresBurned        -0.081350       0.403148  0.488951  0.480930   \n",
       "CALFIRE_AdminUnit               0.800784      -0.004636  0.105452  0.002472   \n",
       "ArchiveMonth                   -0.104494      -0.155014 -0.097068 -0.053398   \n",
       "ArchiveDay                     -0.000598       0.071595  0.321830  0.080303   \n",
       "Frequent_County                 0.103727       0.095918 -0.018393  0.068125   \n",
       "No_of_Search_Keywords           0.047231      -0.048899 -0.083971 -0.075263   \n",
       "ArchiveHour                    -0.024886      -0.119726 -0.059665 -0.129791   \n",
       "ArchiveMins                     0.058960      -0.131320 -0.270536 -0.134171   \n",
       "Fire_Duration_Days              0.006514      -0.012000  0.279420  0.090764   \n",
       "\n",
       "                         Fatalities  Featured  ...  WaterTenders  \\\n",
       "AcresBurned               -0.104641       NaN  ...      0.357584   \n",
       "Active                          NaN       NaN  ...           NaN   \n",
       "AirTankers                      NaN       NaN  ...      0.802879   \n",
       "ArchiveYear                0.041977       NaN  ...     -0.014962   \n",
       "CalFireIncident            0.098760       NaN  ...     -0.000730   \n",
       "CrewsInvolved              0.982441       NaN  ...      0.735840   \n",
       "Dozers                    -0.571689       NaN  ...      0.961050   \n",
       "Engines                    0.999275       NaN  ...      0.832733   \n",
       "Fatalities                 1.000000       NaN  ...     -0.579717   \n",
       "Featured                        NaN       NaN  ...           NaN   \n",
       "Final                           NaN       NaN  ...           NaN   \n",
       "Helicopters                     NaN       NaN  ...      0.698173   \n",
       "Injuries                   0.082642       NaN  ...      0.241161   \n",
       "Latitude                   0.164994       NaN  ...      0.039875   \n",
       "Longitude                  0.013690       NaN  ...     -0.047894   \n",
       "MajorIncident                   NaN       NaN  ...      0.079746   \n",
       "PercentContained                NaN       NaN  ...           NaN   \n",
       "PersonnelInvolved          0.904725       NaN  ...      0.815316   \n",
       "Public                          NaN       NaN  ...           NaN   \n",
       "StructuresDamaged          0.257376       NaN  ...      0.273655   \n",
       "StructuresDestroyed        0.983714       NaN  ...     -0.031223   \n",
       "StructuresEvacuated             NaN       NaN  ...           NaN   \n",
       "StructuresThreatened            NaN       NaN  ...      0.739554   \n",
       "WaterTenders              -0.579717       NaN  ...      1.000000   \n",
       "Transformed_AcresBurned    0.050526       NaN  ...      0.449846   \n",
       "CALFIRE_AdminUnit          0.293185       NaN  ...      0.080169   \n",
       "ArchiveMonth               0.392937       NaN  ...     -0.186450   \n",
       "ArchiveDay                -0.283585       NaN  ...      0.229969   \n",
       "Frequent_County            0.471247       NaN  ...      0.016765   \n",
       "No_of_Search_Keywords      0.104560       NaN  ...     -0.103546   \n",
       "ArchiveHour               -0.314198       NaN  ...     -0.096824   \n",
       "ArchiveMins                0.368376       NaN  ...     -0.233877   \n",
       "Fire_Duration_Days         0.032677       NaN  ...      0.145878   \n",
       "\n",
       "                         Transformed_AcresBurned  CALFIRE_AdminUnit  \\\n",
       "AcresBurned                             0.493116          -0.122531   \n",
       "Active                                       NaN                NaN   \n",
       "AirTankers                              0.290223           0.155816   \n",
       "ArchiveYear                            -0.062212          -0.046528   \n",
       "CalFireIncident                        -0.081350           0.800784   \n",
       "CrewsInvolved                           0.403148          -0.004636   \n",
       "Dozers                                  0.488951           0.105452   \n",
       "Engines                                 0.480930           0.002472   \n",
       "Fatalities                              0.050526           0.293185   \n",
       "Featured                                     NaN                NaN   \n",
       "Final                                        NaN                NaN   \n",
       "Helicopters                             0.281092           0.069974   \n",
       "Injuries                                0.209084           0.055683   \n",
       "Latitude                               -0.005994           0.024146   \n",
       "Longitude                               0.001643          -0.081155   \n",
       "MajorIncident                           0.276194           0.242226   \n",
       "PercentContained                             NaN                NaN   \n",
       "PersonnelInvolved                       0.443277          -0.008214   \n",
       "Public                                       NaN                NaN   \n",
       "StructuresDamaged                       0.475440          -0.223511   \n",
       "StructuresDestroyed                     0.266671          -0.016796   \n",
       "StructuresEvacuated                          NaN                NaN   \n",
       "StructuresThreatened                    0.273704          -0.192314   \n",
       "WaterTenders                            0.449846           0.080169   \n",
       "Transformed_AcresBurned                 1.000000          -0.127461   \n",
       "CALFIRE_AdminUnit                      -0.127461           1.000000   \n",
       "ArchiveMonth                            0.100236          -0.097305   \n",
       "ArchiveDay                              0.035604          -0.005057   \n",
       "Frequent_County                        -0.076771           0.087623   \n",
       "No_of_Search_Keywords                   0.050269           0.036635   \n",
       "ArchiveHour                             0.025384          -0.021863   \n",
       "ArchiveMins                            -0.020311           0.038659   \n",
       "Fire_Duration_Days                      0.015334           0.024485   \n",
       "\n",
       "                         ArchiveMonth  ArchiveDay  Frequent_County  \\\n",
       "AcresBurned                  0.060895    0.056435        -0.068688   \n",
       "Active                            NaN         NaN              NaN   \n",
       "AirTankers                  -0.415218    0.268917         0.185907   \n",
       "ArchiveYear                  0.110985   -0.005693         0.006120   \n",
       "CalFireIncident             -0.104494   -0.000598         0.103727   \n",
       "CrewsInvolved               -0.155014    0.071595         0.095918   \n",
       "Dozers                      -0.097068    0.321830        -0.018393   \n",
       "Engines                     -0.053398    0.080303         0.068125   \n",
       "Fatalities                   0.392937   -0.283585         0.471247   \n",
       "Featured                          NaN         NaN              NaN   \n",
       "Final                             NaN         NaN              NaN   \n",
       "Helicopters                 -0.143703    0.284639         0.147462   \n",
       "Injuries                    -0.034992   -0.029828         0.068624   \n",
       "Latitude                     0.004643   -0.019019        -0.022312   \n",
       "Longitude                   -0.106865    0.011592        -0.035669   \n",
       "MajorIncident                0.054752   -0.050864        -0.033289   \n",
       "PercentContained                  NaN         NaN              NaN   \n",
       "PersonnelInvolved           -0.108405    0.075495         0.078137   \n",
       "Public                            NaN         NaN              NaN   \n",
       "StructuresDamaged            0.347345   -0.252967        -0.286050   \n",
       "StructuresDestroyed          0.208974   -0.100366         0.035806   \n",
       "StructuresEvacuated               NaN         NaN              NaN   \n",
       "StructuresThreatened        -0.255398    0.585825        -0.376621   \n",
       "WaterTenders                -0.186450    0.229969         0.016765   \n",
       "Transformed_AcresBurned      0.100236    0.035604        -0.076771   \n",
       "CALFIRE_AdminUnit           -0.097305   -0.005057         0.087623   \n",
       "ArchiveMonth                 1.000000   -0.139502        -0.092013   \n",
       "ArchiveDay                  -0.139502    1.000000         0.014185   \n",
       "Frequent_County             -0.092013    0.014185         1.000000   \n",
       "No_of_Search_Keywords       -0.056112    0.020152         0.029289   \n",
       "ArchiveHour                 -0.041812    0.042046        -0.018784   \n",
       "ArchiveMins                  0.039973   -0.036640         0.039944   \n",
       "Fire_Duration_Days           0.033273    0.073190        -0.007608   \n",
       "\n",
       "                         No_of_Search_Keywords  ArchiveHour  ArchiveMins  \\\n",
       "AcresBurned                           0.043282     0.009550    -0.071205   \n",
       "Active                                     NaN          NaN          NaN   \n",
       "AirTankers                            0.333230    -0.175067    -0.214187   \n",
       "ArchiveYear                          -0.505134     0.077929     0.068654   \n",
       "CalFireIncident                       0.047231    -0.024886     0.058960   \n",
       "CrewsInvolved                        -0.048899    -0.119726    -0.131320   \n",
       "Dozers                               -0.083971    -0.059665    -0.270536   \n",
       "Engines                              -0.075263    -0.129791    -0.134171   \n",
       "Fatalities                            0.104560    -0.314198     0.368376   \n",
       "Featured                                   NaN          NaN          NaN   \n",
       "Final                                      NaN          NaN          NaN   \n",
       "Helicopters                           0.075159    -0.051247    -0.249979   \n",
       "Injuries                              0.122924    -0.061224    -0.094804   \n",
       "Latitude                             -0.014152    -0.008413     0.028191   \n",
       "Longitude                             0.087744    -0.032281    -0.091234   \n",
       "MajorIncident                         0.121561    -0.046637     0.006263   \n",
       "PercentContained                           NaN          NaN          NaN   \n",
       "PersonnelInvolved                    -0.061381    -0.161584    -0.134702   \n",
       "Public                                     NaN          NaN          NaN   \n",
       "StructuresDamaged                    -0.018558     0.378869     0.179698   \n",
       "StructuresDestroyed                   0.078961    -0.031348     0.030128   \n",
       "StructuresEvacuated                        NaN          NaN          NaN   \n",
       "StructuresThreatened                 -0.010795    -0.292070    -0.034727   \n",
       "WaterTenders                         -0.103546    -0.096824    -0.233877   \n",
       "Transformed_AcresBurned               0.050269     0.025384    -0.020311   \n",
       "CALFIRE_AdminUnit                     0.036635    -0.021863     0.038659   \n",
       "ArchiveMonth                         -0.056112    -0.041812     0.039973   \n",
       "ArchiveDay                            0.020152     0.042046    -0.036640   \n",
       "Frequent_County                       0.029289    -0.018784     0.039944   \n",
       "No_of_Search_Keywords                 1.000000    -0.046305    -0.049238   \n",
       "ArchiveHour                          -0.046305     1.000000    -0.059012   \n",
       "ArchiveMins                          -0.049238    -0.059012     1.000000   \n",
       "Fire_Duration_Days                    0.040745     0.018219    -0.025801   \n",
       "\n",
       "                         Fire_Duration_Days  \n",
       "AcresBurned                        0.034844  \n",
       "Active                                  NaN  \n",
       "AirTankers                        -0.110750  \n",
       "ArchiveYear                        0.068480  \n",
       "CalFireIncident                    0.006514  \n",
       "CrewsInvolved                     -0.012000  \n",
       "Dozers                             0.279420  \n",
       "Engines                            0.090764  \n",
       "Fatalities                         0.032677  \n",
       "Featured                                NaN  \n",
       "Final                                   NaN  \n",
       "Helicopters                        0.019620  \n",
       "Injuries                          -0.172087  \n",
       "Latitude                           0.029411  \n",
       "Longitude                         -0.021548  \n",
       "MajorIncident                      0.013834  \n",
       "PercentContained                        NaN  \n",
       "PersonnelInvolved                  0.103333  \n",
       "Public                                  NaN  \n",
       "StructuresDamaged                  0.596150  \n",
       "StructuresDestroyed                0.171116  \n",
       "StructuresEvacuated                     NaN  \n",
       "StructuresThreatened               0.041818  \n",
       "WaterTenders                       0.145878  \n",
       "Transformed_AcresBurned            0.015334  \n",
       "CALFIRE_AdminUnit                  0.024485  \n",
       "ArchiveMonth                       0.033273  \n",
       "ArchiveDay                         0.073190  \n",
       "Frequent_County                   -0.007608  \n",
       "No_of_Search_Keywords              0.040745  \n",
       "ArchiveHour                        0.018219  \n",
       "ArchiveMins                       -0.025801  \n",
       "Fire_Duration_Days                 1.000000  \n",
       "\n",
       "[33 rows x 33 columns]"
      ]
     },
     "execution_count": 774,
     "metadata": {},
     "output_type": "execute_result"
    }
   ],
   "source": [
    "df.corr()"
   ]
  }
 ],
 "metadata": {
  "kernelspec": {
   "display_name": "Python 3 (ipykernel)",
   "language": "python",
   "name": "python3"
  },
  "language_info": {
   "codemirror_mode": {
    "name": "ipython",
    "version": 3
   },
   "file_extension": ".py",
   "mimetype": "text/x-python",
   "name": "python",
   "nbconvert_exporter": "python",
   "pygments_lexer": "ipython3",
   "version": "3.9.7"
  }
 },
 "nbformat": 4,
 "nbformat_minor": 4
}
