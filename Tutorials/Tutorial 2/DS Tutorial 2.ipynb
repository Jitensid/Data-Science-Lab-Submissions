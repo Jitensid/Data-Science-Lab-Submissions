{
 "cells": [
  {
   "cell_type": "markdown",
   "id": "3ea0a463",
   "metadata": {},
   "source": [
    "### Name: Jiten Sidhpura \n",
    "### UID: 2018130051\n",
    "### Batch B\n",
    "### BE COMPS\n",
    "\n",
    "### Objective: Feature Engineering: Dimensional Reduction"
   ]
  },
  {
   "cell_type": "markdown",
   "id": "45c1d274",
   "metadata": {},
   "source": [
    "## Imports"
   ]
  },
  {
   "cell_type": "code",
   "execution_count": 18,
   "id": "bb6e3460",
   "metadata": {},
   "outputs": [],
   "source": [
    "import numpy as np \n",
    "import pandas as pd \n",
    "import seaborn as sns\n",
    "from matplotlib import pyplot as plt"
   ]
  },
  {
   "cell_type": "markdown",
   "id": "37af1950",
   "metadata": {},
   "source": [
    "## Create a Synthetic Dataset using Sklearn"
   ]
  },
  {
   "cell_type": "code",
   "execution_count": 26,
   "id": "348d7a2c",
   "metadata": {},
   "outputs": [],
   "source": [
    "from sklearn.datasets import make_classification\n",
    "\n",
    "rng = np.random.RandomState(0)\n",
    "\n",
    "X, y = make_classification(n_samples=20000, random_state=rng, n_features=10, \n",
    "                           n_informative=10, n_redundant=0)"
   ]
  },
  {
   "cell_type": "markdown",
   "id": "78326d41",
   "metadata": {},
   "source": [
    "### Shape of new Dataset"
   ]
  },
  {
   "cell_type": "code",
   "execution_count": 20,
   "id": "b95ec3ef",
   "metadata": {},
   "outputs": [
    {
     "data": {
      "text/plain": [
       "(10000, 10)"
      ]
     },
     "execution_count": 20,
     "metadata": {},
     "output_type": "execute_result"
    }
   ],
   "source": [
    "X.shape"
   ]
  },
  {
   "cell_type": "code",
   "execution_count": 21,
   "id": "ea54265e",
   "metadata": {},
   "outputs": [
    {
     "data": {
      "text/plain": [
       "(10000,)"
      ]
     },
     "execution_count": 21,
     "metadata": {},
     "output_type": "execute_result"
    }
   ],
   "source": [
    "y.shape"
   ]
  },
  {
   "cell_type": "markdown",
   "id": "9032133e",
   "metadata": {},
   "source": [
    "### Train Test Split Dataset "
   ]
  },
  {
   "cell_type": "markdown",
   "id": "ae3bdad0",
   "metadata": {},
   "source": [
    "### Create a LDA Model"
   ]
  },
  {
   "cell_type": "code",
   "execution_count": 34,
   "id": "397aaaa7",
   "metadata": {},
   "outputs": [],
   "source": [
    "from sklearn.discriminant_analysis import LinearDiscriminantAnalysis\n",
    "\n",
    "model = LinearDiscriminantAnalysis()"
   ]
  },
  {
   "cell_type": "markdown",
   "id": "8ecc113c",
   "metadata": {},
   "source": [
    "### K Fold Cross Validation using RepeatedStratifiedKFold"
   ]
  },
  {
   "cell_type": "code",
   "execution_count": 33,
   "id": "371f2f06",
   "metadata": {},
   "outputs": [],
   "source": [
    "from sklearn.model_selection import RepeatedStratifiedKFold\n",
    "\n",
    "rskf = RepeatedStratifiedKFold(n_splits=5, n_repeats=10, random_state=0)"
   ]
  },
  {
   "cell_type": "markdown",
   "id": "6e998c44",
   "metadata": {},
   "source": [
    "### Get Cross Eval Model Score "
   ]
  },
  {
   "cell_type": "code",
   "execution_count": 37,
   "id": "9e00da39",
   "metadata": {},
   "outputs": [
    {
     "data": {
      "text/plain": [
       "array([0.7115 , 0.721  , 0.72825, 0.71675, 0.70925, 0.7195 , 0.7245 ,\n",
       "       0.72575, 0.71175, 0.70775, 0.72375, 0.7105 , 0.72275, 0.71425,\n",
       "       0.7195 , 0.7175 , 0.714  , 0.71625, 0.72275, 0.71575, 0.70875,\n",
       "       0.712  , 0.71625, 0.718  , 0.7295 , 0.7095 , 0.729  , 0.71825,\n",
       "       0.70925, 0.7215 , 0.71075, 0.71725, 0.7245 , 0.73025, 0.71   ,\n",
       "       0.72575, 0.71925, 0.715  , 0.71525, 0.71025, 0.715  , 0.715  ,\n",
       "       0.7205 , 0.72075, 0.71825, 0.72475, 0.7195 , 0.70875, 0.713  ,\n",
       "       0.71925])"
      ]
     },
     "execution_count": 37,
     "metadata": {},
     "output_type": "execute_result"
    }
   ],
   "source": [
    "from sklearn.model_selection import cross_val_score\n",
    "\n",
    "scores = cross_val_score(model, X, y, scoring='accuracy', cv=rskf, n_jobs=-1)\n",
    "\n",
    "scores"
   ]
  },
  {
   "cell_type": "code",
   "execution_count": null,
   "id": "f6bcd023",
   "metadata": {},
   "outputs": [],
   "source": []
  }
 ],
 "metadata": {
  "kernelspec": {
   "display_name": "Python 3 (ipykernel)",
   "language": "python",
   "name": "python3"
  },
  "language_info": {
   "codemirror_mode": {
    "name": "ipython",
    "version": 3
   },
   "file_extension": ".py",
   "mimetype": "text/x-python",
   "name": "python",
   "nbconvert_exporter": "python",
   "pygments_lexer": "ipython3",
   "version": "3.9.7"
  }
 },
 "nbformat": 4,
 "nbformat_minor": 5
}
