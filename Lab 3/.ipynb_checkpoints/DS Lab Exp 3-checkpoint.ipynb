{
 "cells": [
  {
   "cell_type": "markdown",
   "id": "ec361f88",
   "metadata": {},
   "source": [
    "### Name: Jiten Sidhpura \n",
    "### UID: 2018130051\n",
    "### Batch B\n",
    "### BE COMPS\n",
    "\n",
    "### Objective: \n",
    "#### 1. Apply Naive bayes classifier for given data see Naive_bayes_handout.zip file in edmodo.\n",
    "#### 2. Apply and compare Linear Discriminating Analysis with Naive bayes classifiers w.r.t. error, specificity and sensitivity"
   ]
  },
  {
   "cell_type": "markdown",
   "id": "a6ebbae0",
   "metadata": {},
   "source": [
    "### Import Necessary Packages"
   ]
  },
  {
   "cell_type": "code",
   "execution_count": 1,
   "id": "fc0dee35",
   "metadata": {},
   "outputs": [],
   "source": [
    "import pandas as pd\n",
    "import numpy as np\n",
    "import seaborn as sns\n",
    "from matplotlib import pyplot as plt"
   ]
  },
  {
   "cell_type": "markdown",
   "id": "2515e97c",
   "metadata": {},
   "source": [
    "### Load SMS Spam Dataset into Pandas DataFrame"
   ]
  },
  {
   "cell_type": "code",
   "execution_count": 2,
   "id": "6912a6b7",
   "metadata": {},
   "outputs": [
    {
     "name": "stderr",
     "output_type": "stream",
     "text": [
      "C:\\Users\\jiten\\anaconda3\\lib\\site-packages\\IPython\\core\\interactiveshell.py:3444: FutureWarning: In a future version of pandas all arguments of read_csv except for the argument 'filepath_or_buffer' will be keyword-only\n",
      "  exec(code_obj, self.user_global_ns, self.user_ns)\n"
     ]
    },
    {
     "data": {
      "text/html": [
       "<div>\n",
       "<style scoped>\n",
       "    .dataframe tbody tr th:only-of-type {\n",
       "        vertical-align: middle;\n",
       "    }\n",
       "\n",
       "    .dataframe tbody tr th {\n",
       "        vertical-align: top;\n",
       "    }\n",
       "\n",
       "    .dataframe thead th {\n",
       "        text-align: right;\n",
       "    }\n",
       "</style>\n",
       "<table border=\"1\" class=\"dataframe\">\n",
       "  <thead>\n",
       "    <tr style=\"text-align: right;\">\n",
       "      <th></th>\n",
       "      <th>Label</th>\n",
       "      <th>Message</th>\n",
       "    </tr>\n",
       "  </thead>\n",
       "  <tbody>\n",
       "    <tr>\n",
       "      <th>0</th>\n",
       "      <td>ham</td>\n",
       "      <td>Go until jurong point, crazy.. Available only ...</td>\n",
       "    </tr>\n",
       "    <tr>\n",
       "      <th>1</th>\n",
       "      <td>ham</td>\n",
       "      <td>Ok lar... Joking wif u oni...</td>\n",
       "    </tr>\n",
       "    <tr>\n",
       "      <th>2</th>\n",
       "      <td>spam</td>\n",
       "      <td>Free entry in 2 a wkly comp to win FA Cup fina...</td>\n",
       "    </tr>\n",
       "    <tr>\n",
       "      <th>3</th>\n",
       "      <td>ham</td>\n",
       "      <td>U dun say so early hor... U c already then say...</td>\n",
       "    </tr>\n",
       "    <tr>\n",
       "      <th>4</th>\n",
       "      <td>ham</td>\n",
       "      <td>Nah I don't think he goes to usf, he lives aro...</td>\n",
       "    </tr>\n",
       "  </tbody>\n",
       "</table>\n",
       "</div>"
      ],
      "text/plain": [
       "  Label                                            Message\n",
       "0   ham  Go until jurong point, crazy.. Available only ...\n",
       "1   ham                      Ok lar... Joking wif u oni...\n",
       "2  spam  Free entry in 2 a wkly comp to win FA Cup fina...\n",
       "3   ham  U dun say so early hor... U c already then say...\n",
       "4   ham  Nah I don't think he goes to usf, he lives aro..."
      ]
     },
     "execution_count": 2,
     "metadata": {},
     "output_type": "execute_result"
    }
   ],
   "source": [
    "dataset_filename = 'SMSSpamCollection'\n",
    "\n",
    "df = pd.read_csv(dataset_filename, '\\t', header=None)\n",
    "df.columns = ['Label', 'Message']\n",
    "\n",
    "df.head()"
   ]
  },
  {
   "cell_type": "markdown",
   "id": "d0a13511",
   "metadata": {},
   "source": [
    "### Delete Duplicate Rows if Present"
   ]
  },
  {
   "cell_type": "code",
   "execution_count": 3,
   "id": "93bbd40a",
   "metadata": {},
   "outputs": [
    {
     "data": {
      "text/html": [
       "<div>\n",
       "<style scoped>\n",
       "    .dataframe tbody tr th:only-of-type {\n",
       "        vertical-align: middle;\n",
       "    }\n",
       "\n",
       "    .dataframe tbody tr th {\n",
       "        vertical-align: top;\n",
       "    }\n",
       "\n",
       "    .dataframe thead th {\n",
       "        text-align: right;\n",
       "    }\n",
       "</style>\n",
       "<table border=\"1\" class=\"dataframe\">\n",
       "  <thead>\n",
       "    <tr style=\"text-align: right;\">\n",
       "      <th></th>\n",
       "      <th>Label</th>\n",
       "      <th>Message</th>\n",
       "    </tr>\n",
       "  </thead>\n",
       "  <tbody>\n",
       "    <tr>\n",
       "      <th>0</th>\n",
       "      <td>ham</td>\n",
       "      <td>Go until jurong point, crazy.. Available only ...</td>\n",
       "    </tr>\n",
       "    <tr>\n",
       "      <th>1</th>\n",
       "      <td>ham</td>\n",
       "      <td>Ok lar... Joking wif u oni...</td>\n",
       "    </tr>\n",
       "    <tr>\n",
       "      <th>2</th>\n",
       "      <td>spam</td>\n",
       "      <td>Free entry in 2 a wkly comp to win FA Cup fina...</td>\n",
       "    </tr>\n",
       "    <tr>\n",
       "      <th>3</th>\n",
       "      <td>ham</td>\n",
       "      <td>U dun say so early hor... U c already then say...</td>\n",
       "    </tr>\n",
       "    <tr>\n",
       "      <th>4</th>\n",
       "      <td>ham</td>\n",
       "      <td>Nah I don't think he goes to usf, he lives aro...</td>\n",
       "    </tr>\n",
       "  </tbody>\n",
       "</table>\n",
       "</div>"
      ],
      "text/plain": [
       "  Label                                            Message\n",
       "0   ham  Go until jurong point, crazy.. Available only ...\n",
       "1   ham                      Ok lar... Joking wif u oni...\n",
       "2  spam  Free entry in 2 a wkly comp to win FA Cup fina...\n",
       "3   ham  U dun say so early hor... U c already then say...\n",
       "4   ham  Nah I don't think he goes to usf, he lives aro..."
      ]
     },
     "execution_count": 3,
     "metadata": {},
     "output_type": "execute_result"
    }
   ],
   "source": [
    "df = df.drop_duplicates()\n",
    "\n",
    "df.head()"
   ]
  },
  {
   "cell_type": "markdown",
   "id": "86db4c8e",
   "metadata": {},
   "source": [
    "### Check for Missing Values"
   ]
  },
  {
   "cell_type": "code",
   "execution_count": 4,
   "id": "6127c07a",
   "metadata": {},
   "outputs": [
    {
     "data": {
      "text/plain": [
       "<AxesSubplot:>"
      ]
     },
     "execution_count": 4,
     "metadata": {},
     "output_type": "execute_result"
    },
    {
     "data": {
      "image/png": "[encoded data removed]",
      "text/plain": [
       "<Figure size 1800x720 with 3 Axes>"
      ]
     },
     "metadata": {
      "needs_background": "light"
     },
     "output_type": "display_data"
    }
   ],
   "source": [
    "import missingno\n",
    "missingno.bar(df)"
   ]
  },
  {
   "cell_type": "markdown",
   "id": "8468fc59",
   "metadata": {},
   "source": [
    "### There is no Missing Data "
   ]
  },
  {
   "cell_type": "markdown",
   "id": "cca4c58b",
   "metadata": {},
   "source": [
    "### Label Feature"
   ]
  },
  {
   "cell_type": "code",
   "execution_count": 5,
   "id": "bf665662",
   "metadata": {},
   "outputs": [
    {
     "data": {
      "text/plain": [
       "<AxesSubplot:xlabel='Label', ylabel='count'>"
      ]
     },
     "execution_count": 5,
     "metadata": {},
     "output_type": "execute_result"
    },
    {
     "data": {
      "image/png": "[encoded data removed]",
      "text/plain": [
       "<Figure size 432x288 with 1 Axes>"
      ]
     },
     "metadata": {
      "needs_background": "light"
     },
     "output_type": "display_data"
    }
   ],
   "source": [
    "sns.countplot(x='Label', data=df)"
   ]
  },
  {
   "cell_type": "markdown",
   "id": "86117274",
   "metadata": {},
   "source": [
    "### Count of ham is approximately 5 times of that of spam class"
   ]
  },
  {
   "cell_type": "code",
   "execution_count": 6,
   "id": "d915bc5a",
   "metadata": {},
   "outputs": [
    {
     "data": {
      "text/plain": [
       "ham     4516\n",
       "spam     653\n",
       "Name: Label, dtype: int64"
      ]
     },
     "execution_count": 6,
     "metadata": {},
     "output_type": "execute_result"
    }
   ],
   "source": [
    "df['Label'].value_counts()"
   ]
  },
  {
   "cell_type": "markdown",
   "id": "8f15987f",
   "metadata": {},
   "source": [
    "### Encoding Target Variable to Numerical"
   ]
  },
  {
   "cell_type": "code",
   "execution_count": 7,
   "id": "684b1e33",
   "metadata": {},
   "outputs": [
    {
     "data": {
      "text/html": [
       "<div>\n",
       "<style scoped>\n",
       "    .dataframe tbody tr th:only-of-type {\n",
       "        vertical-align: middle;\n",
       "    }\n",
       "\n",
       "    .dataframe tbody tr th {\n",
       "        vertical-align: top;\n",
       "    }\n",
       "\n",
       "    .dataframe thead th {\n",
       "        text-align: right;\n",
       "    }\n",
       "</style>\n",
       "<table border=\"1\" class=\"dataframe\">\n",
       "  <thead>\n",
       "    <tr style=\"text-align: right;\">\n",
       "      <th></th>\n",
       "      <th>Label</th>\n",
       "      <th>Message</th>\n",
       "    </tr>\n",
       "  </thead>\n",
       "  <tbody>\n",
       "    <tr>\n",
       "      <th>0</th>\n",
       "      <td>0</td>\n",
       "      <td>Go until jurong point, crazy.. Available only ...</td>\n",
       "    </tr>\n",
       "    <tr>\n",
       "      <th>1</th>\n",
       "      <td>0</td>\n",
       "      <td>Ok lar... Joking wif u oni...</td>\n",
       "    </tr>\n",
       "    <tr>\n",
       "      <th>2</th>\n",
       "      <td>1</td>\n",
       "      <td>Free entry in 2 a wkly comp to win FA Cup fina...</td>\n",
       "    </tr>\n",
       "    <tr>\n",
       "      <th>3</th>\n",
       "      <td>0</td>\n",
       "      <td>U dun say so early hor... U c already then say...</td>\n",
       "    </tr>\n",
       "    <tr>\n",
       "      <th>4</th>\n",
       "      <td>0</td>\n",
       "      <td>Nah I don't think he goes to usf, he lives aro...</td>\n",
       "    </tr>\n",
       "  </tbody>\n",
       "</table>\n",
       "</div>"
      ],
      "text/plain": [
       "   Label                                            Message\n",
       "0      0  Go until jurong point, crazy.. Available only ...\n",
       "1      0                      Ok lar... Joking wif u oni...\n",
       "2      1  Free entry in 2 a wkly comp to win FA Cup fina...\n",
       "3      0  U dun say so early hor... U c already then say...\n",
       "4      0  Nah I don't think he goes to usf, he lives aro..."
      ]
     },
     "execution_count": 7,
     "metadata": {},
     "output_type": "execute_result"
    }
   ],
   "source": [
    "target_label_dict = {'ham': 0, 'spam': 1}\n",
    "\n",
    "df['Label'] = df['Label'].map(target_label_dict)\n",
    "\n",
    "df.head()"
   ]
  },
  {
   "cell_type": "markdown",
   "id": "fd032cde",
   "metadata": {},
   "source": [
    "### Spam class is represented with 1\n",
    "### Ham class is represented with 0"
   ]
  },
  {
   "cell_type": "markdown",
   "id": "27d10c22",
   "metadata": {},
   "source": [
    "### Message Length Analysis"
   ]
  },
  {
   "cell_type": "code",
   "execution_count": 8,
   "id": "2c592846",
   "metadata": {},
   "outputs": [
    {
     "data": {
      "text/html": [
       "<div>\n",
       "<style scoped>\n",
       "    .dataframe tbody tr th:only-of-type {\n",
       "        vertical-align: middle;\n",
       "    }\n",
       "\n",
       "    .dataframe tbody tr th {\n",
       "        vertical-align: top;\n",
       "    }\n",
       "\n",
       "    .dataframe thead th {\n",
       "        text-align: right;\n",
       "    }\n",
       "</style>\n",
       "<table border=\"1\" class=\"dataframe\">\n",
       "  <thead>\n",
       "    <tr style=\"text-align: right;\">\n",
       "      <th></th>\n",
       "      <th>Label</th>\n",
       "      <th>Message</th>\n",
       "      <th>OriginalMsgLength</th>\n",
       "    </tr>\n",
       "  </thead>\n",
       "  <tbody>\n",
       "    <tr>\n",
       "      <th>0</th>\n",
       "      <td>0</td>\n",
       "      <td>Go until jurong point, crazy.. Available only ...</td>\n",
       "      <td>111</td>\n",
       "    </tr>\n",
       "    <tr>\n",
       "      <th>1</th>\n",
       "      <td>0</td>\n",
       "      <td>Ok lar... Joking wif u oni...</td>\n",
       "      <td>29</td>\n",
       "    </tr>\n",
       "    <tr>\n",
       "      <th>2</th>\n",
       "      <td>1</td>\n",
       "      <td>Free entry in 2 a wkly comp to win FA Cup fina...</td>\n",
       "      <td>155</td>\n",
       "    </tr>\n",
       "    <tr>\n",
       "      <th>3</th>\n",
       "      <td>0</td>\n",
       "      <td>U dun say so early hor... U c already then say...</td>\n",
       "      <td>49</td>\n",
       "    </tr>\n",
       "    <tr>\n",
       "      <th>4</th>\n",
       "      <td>0</td>\n",
       "      <td>Nah I don't think he goes to usf, he lives aro...</td>\n",
       "      <td>61</td>\n",
       "    </tr>\n",
       "  </tbody>\n",
       "</table>\n",
       "</div>"
      ],
      "text/plain": [
       "   Label                                            Message  OriginalMsgLength\n",
       "0      0  Go until jurong point, crazy.. Available only ...                111\n",
       "1      0                      Ok lar... Joking wif u oni...                 29\n",
       "2      1  Free entry in 2 a wkly comp to win FA Cup fina...                155\n",
       "3      0  U dun say so early hor... U c already then say...                 49\n",
       "4      0  Nah I don't think he goes to usf, he lives aro...                 61"
      ]
     },
     "execution_count": 8,
     "metadata": {},
     "output_type": "execute_result"
    }
   ],
   "source": [
    "df['OriginalMsgLength'] = df['Message'].apply(len)\n",
    "\n",
    "df.head()"
   ]
  },
  {
   "cell_type": "code",
   "execution_count": 9,
   "id": "c13b3a3e",
   "metadata": {},
   "outputs": [],
   "source": [
    "spammed_dataset = df[df['Label'] == 1]\n",
    "hammed_dataset = df[df['Label'] == 0]"
   ]
  },
  {
   "cell_type": "code",
   "execution_count": 10,
   "id": "0d4ed5ca",
   "metadata": {},
   "outputs": [
    {
     "name": "stderr",
     "output_type": "stream",
     "text": [
      "C:\\Users\\jiten\\anaconda3\\lib\\site-packages\\seaborn\\distributions.py:2619: FutureWarning: `distplot` is a deprecated function and will be removed in a future version. Please adapt your code to use either `displot` (a figure-level function with similar flexibility) or `histplot` (an axes-level function for histograms).\n",
      "  warnings.warn(msg, FutureWarning)\n",
      "C:\\Users\\jiten\\anaconda3\\lib\\site-packages\\seaborn\\distributions.py:2619: FutureWarning: `distplot` is a deprecated function and will be removed in a future version. Please adapt your code to use either `displot` (a figure-level function with similar flexibility) or `histplot` (an axes-level function for histograms).\n",
      "  warnings.warn(msg, FutureWarning)\n",
      "C:\\Users\\jiten\\AppData\\Local\\Temp/ipykernel_2016/2037833497.py:4: UserWarning: Matplotlib is currently using module://matplotlib_inline.backend_inline, which is a non-GUI backend, so cannot show the figure.\n",
      "  fig.show()\n"
     ]
    },
    {
     "data": {
      "image/png": "[encoded data removed]",
      "text/plain": [
       "<Figure size 432x288 with 2 Axes>"
      ]
     },
     "metadata": {
      "needs_background": "light"
     },
     "output_type": "display_data"
    }
   ],
   "source": [
    "fig, ax =plt.subplots(1,2)\n",
    "sns.distplot(spammed_dataset['OriginalMsgLength'], ax=ax[0])\n",
    "sns.distplot(hammed_dataset['OriginalMsgLength'], ax=ax[1])\n",
    "fig.show()"
   ]
  },
  {
   "cell_type": "code",
   "execution_count": 11,
   "id": "84c6633d",
   "metadata": {},
   "outputs": [
    {
     "name": "stdout",
     "output_type": "stream",
     "text": [
      "Spam Median Length ==> 148.0\n"
     ]
    }
   ],
   "source": [
    "spam_original_msg_median = spammed_dataset['OriginalMsgLength'].median()\n",
    "print(f'Spam Median Length ==> {spam_original_msg_median}')"
   ]
  },
  {
   "cell_type": "code",
   "execution_count": 12,
   "id": "aded42fd",
   "metadata": {},
   "outputs": [
    {
     "name": "stdout",
     "output_type": "stream",
     "text": [
      "Ham Median Length ==> 53.0\n"
     ]
    }
   ],
   "source": [
    "ham_original_msg_len = hammed_dataset['OriginalMsgLength'].median()\n",
    "print(f'Ham Median Length ==> {ham_original_msg_len}')"
   ]
  },
  {
   "cell_type": "markdown",
   "id": "74561f6f",
   "metadata": {},
   "source": [
    "### Change all text to lower case"
   ]
  },
  {
   "cell_type": "code",
   "execution_count": 13,
   "id": "2a7de824",
   "metadata": {},
   "outputs": [
    {
     "data": {
      "text/html": [
       "<div>\n",
       "<style scoped>\n",
       "    .dataframe tbody tr th:only-of-type {\n",
       "        vertical-align: middle;\n",
       "    }\n",
       "\n",
       "    .dataframe tbody tr th {\n",
       "        vertical-align: top;\n",
       "    }\n",
       "\n",
       "    .dataframe thead th {\n",
       "        text-align: right;\n",
       "    }\n",
       "</style>\n",
       "<table border=\"1\" class=\"dataframe\">\n",
       "  <thead>\n",
       "    <tr style=\"text-align: right;\">\n",
       "      <th></th>\n",
       "      <th>Label</th>\n",
       "      <th>Message</th>\n",
       "      <th>OriginalMsgLength</th>\n",
       "    </tr>\n",
       "  </thead>\n",
       "  <tbody>\n",
       "    <tr>\n",
       "      <th>0</th>\n",
       "      <td>0</td>\n",
       "      <td>go until jurong point, crazy.. available only ...</td>\n",
       "      <td>111</td>\n",
       "    </tr>\n",
       "    <tr>\n",
       "      <th>1</th>\n",
       "      <td>0</td>\n",
       "      <td>ok lar... joking wif u oni...</td>\n",
       "      <td>29</td>\n",
       "    </tr>\n",
       "    <tr>\n",
       "      <th>2</th>\n",
       "      <td>1</td>\n",
       "      <td>free entry in 2 a wkly comp to win fa cup fina...</td>\n",
       "      <td>155</td>\n",
       "    </tr>\n",
       "    <tr>\n",
       "      <th>3</th>\n",
       "      <td>0</td>\n",
       "      <td>u dun say so early hor... u c already then say...</td>\n",
       "      <td>49</td>\n",
       "    </tr>\n",
       "    <tr>\n",
       "      <th>4</th>\n",
       "      <td>0</td>\n",
       "      <td>nah i don't think he goes to usf, he lives aro...</td>\n",
       "      <td>61</td>\n",
       "    </tr>\n",
       "  </tbody>\n",
       "</table>\n",
       "</div>"
      ],
      "text/plain": [
       "   Label                                            Message  OriginalMsgLength\n",
       "0      0  go until jurong point, crazy.. available only ...                111\n",
       "1      0                      ok lar... joking wif u oni...                 29\n",
       "2      1  free entry in 2 a wkly comp to win fa cup fina...                155\n",
       "3      0  u dun say so early hor... u c already then say...                 49\n",
       "4      0  nah i don't think he goes to usf, he lives aro...                 61"
      ]
     },
     "execution_count": 13,
     "metadata": {},
     "output_type": "execute_result"
    }
   ],
   "source": [
    "df['Message'] = df['Message'].apply(lambda x: x.lower())\n",
    "df.head()"
   ]
  },
  {
   "cell_type": "markdown",
   "id": "6eeb3190",
   "metadata": {},
   "source": [
    "### Apply Common Preprocessing on Each Message"
   ]
  },
  {
   "cell_type": "code",
   "execution_count": 14,
   "id": "662d5a7a",
   "metadata": {},
   "outputs": [
    {
     "name": "stdout",
     "output_type": "stream",
     "text": [
      "['i', 'me', 'my', 'myself', 'we', 'our', 'ours', 'ourselves', 'you', \"you're\", \"you've\", \"you'll\", \"you'd\", 'your', 'yours', 'yourself', 'yourselves', 'he', 'him', 'his', 'himself', 'she', \"she's\", 'her', 'hers', 'herself', 'it', \"it's\", 'its', 'itself', 'they', 'them', 'their', 'theirs', 'themselves', 'what', 'which', 'who', 'whom', 'this', 'that', \"that'll\", 'these', 'those', 'am', 'is', 'are', 'was', 'were', 'be', 'been', 'being', 'have', 'has', 'had', 'having', 'do', 'does', 'did', 'doing', 'a', 'an', 'the', 'and', 'but', 'if', 'or', 'because', 'as', 'until', 'while', 'of', 'at', 'by', 'for', 'with', 'about', 'against', 'between', 'into', 'through', 'during', 'before', 'after', 'above', 'below', 'to', 'from', 'up', 'down', 'in', 'out', 'on', 'off', 'over', 'under', 'again', 'further', 'then', 'once', 'here', 'there', 'when', 'where', 'why', 'how', 'all', 'any', 'both', 'each', 'few', 'more', 'most', 'other', 'some', 'such', 'no', 'nor', 'not', 'only', 'own', 'same', 'so', 'than', 'too', 'very', 's', 't', 'can', 'will', 'just', 'don', \"don't\", 'should', \"should've\", 'now', 'd', 'll', 'm', 'o', 're', 've', 'y', 'ain', 'aren', \"aren't\", 'couldn', \"couldn't\", 'didn', \"didn't\", 'doesn', \"doesn't\", 'hadn', \"hadn't\", 'hasn', \"hasn't\", 'haven', \"haven't\", 'isn', \"isn't\", 'ma', 'mightn', \"mightn't\", 'mustn', \"mustn't\", 'needn', \"needn't\", 'shan', \"shan't\", 'shouldn', \"shouldn't\", 'wasn', \"wasn't\", 'weren', \"weren't\", 'won', \"won't\", 'wouldn', \"wouldn't\"]\n"
     ]
    }
   ],
   "source": [
    "from nltk.corpus import stopwords\n",
    "stop_words = stopwords.words('english')\n",
    "print(stop_words)"
   ]
  },
  {
   "cell_type": "code",
   "execution_count": 15,
   "id": "1b0869b3",
   "metadata": {},
   "outputs": [],
   "source": [
    "import nltk\n",
    "\n",
    "def apply_common_text_processing(sentence):\n",
    "    \n",
    "    # tokenize the sentence to remove punctuations\n",
    "    words = nltk.word_tokenize(sentence)\n",
    "    new_words= [word for word in words if word.isalnum()]\n",
    "    \n",
    "    # remove stop words from all sentences \n",
    "    processed_sentence = [word for word in new_words if word not in stop_words]\n",
    "    \n",
    "    # merge the tokens to form a message\n",
    "    processed_sentence = ' '.join(processed_sentence)\n",
    "    \n",
    "    return processed_sentence"
   ]
  },
  {
   "cell_type": "markdown",
   "id": "22241926",
   "metadata": {},
   "source": [
    "### Apply the text preprocessing function on all the messages"
   ]
  },
  {
   "cell_type": "code",
   "execution_count": 16,
   "id": "7e68046f",
   "metadata": {},
   "outputs": [
    {
     "data": {
      "text/html": [
       "<div>\n",
       "<style scoped>\n",
       "    .dataframe tbody tr th:only-of-type {\n",
       "        vertical-align: middle;\n",
       "    }\n",
       "\n",
       "    .dataframe tbody tr th {\n",
       "        vertical-align: top;\n",
       "    }\n",
       "\n",
       "    .dataframe thead th {\n",
       "        text-align: right;\n",
       "    }\n",
       "</style>\n",
       "<table border=\"1\" class=\"dataframe\">\n",
       "  <thead>\n",
       "    <tr style=\"text-align: right;\">\n",
       "      <th></th>\n",
       "      <th>Label</th>\n",
       "      <th>Message</th>\n",
       "      <th>OriginalMsgLength</th>\n",
       "      <th>Processed_Message</th>\n",
       "    </tr>\n",
       "  </thead>\n",
       "  <tbody>\n",
       "    <tr>\n",
       "      <th>0</th>\n",
       "      <td>0</td>\n",
       "      <td>go until jurong point, crazy.. available only ...</td>\n",
       "      <td>111</td>\n",
       "      <td>go jurong point crazy available bugis n great ...</td>\n",
       "    </tr>\n",
       "    <tr>\n",
       "      <th>1</th>\n",
       "      <td>0</td>\n",
       "      <td>ok lar... joking wif u oni...</td>\n",
       "      <td>29</td>\n",
       "      <td>ok lar joking wif u oni</td>\n",
       "    </tr>\n",
       "    <tr>\n",
       "      <th>2</th>\n",
       "      <td>1</td>\n",
       "      <td>free entry in 2 a wkly comp to win fa cup fina...</td>\n",
       "      <td>155</td>\n",
       "      <td>free entry 2 wkly comp win fa cup final tkts 2...</td>\n",
       "    </tr>\n",
       "    <tr>\n",
       "      <th>3</th>\n",
       "      <td>0</td>\n",
       "      <td>u dun say so early hor... u c already then say...</td>\n",
       "      <td>49</td>\n",
       "      <td>u dun say early hor u c already say</td>\n",
       "    </tr>\n",
       "    <tr>\n",
       "      <th>4</th>\n",
       "      <td>0</td>\n",
       "      <td>nah i don't think he goes to usf, he lives aro...</td>\n",
       "      <td>61</td>\n",
       "      <td>nah think goes usf lives around though</td>\n",
       "    </tr>\n",
       "  </tbody>\n",
       "</table>\n",
       "</div>"
      ],
      "text/plain": [
       "   Label                                            Message  \\\n",
       "0      0  go until jurong point, crazy.. available only ...   \n",
       "1      0                      ok lar... joking wif u oni...   \n",
       "2      1  free entry in 2 a wkly comp to win fa cup fina...   \n",
       "3      0  u dun say so early hor... u c already then say...   \n",
       "4      0  nah i don't think he goes to usf, he lives aro...   \n",
       "\n",
       "   OriginalMsgLength                                  Processed_Message  \n",
       "0                111  go jurong point crazy available bugis n great ...  \n",
       "1                 29                            ok lar joking wif u oni  \n",
       "2                155  free entry 2 wkly comp win fa cup final tkts 2...  \n",
       "3                 49                u dun say early hor u c already say  \n",
       "4                 61             nah think goes usf lives around though  "
      ]
     },
     "execution_count": 16,
     "metadata": {},
     "output_type": "execute_result"
    }
   ],
   "source": [
    "df['Processed_Message'] = df['Message'].apply(apply_common_text_processing)\n",
    "df.head()"
   ]
  },
  {
   "cell_type": "markdown",
   "id": "88b2c6e7",
   "metadata": {},
   "source": [
    "### Get length of Processed Message"
   ]
  },
  {
   "cell_type": "code",
   "execution_count": 17,
   "id": "d714f67e",
   "metadata": {},
   "outputs": [
    {
     "data": {
      "text/html": [
       "<div>\n",
       "<style scoped>\n",
       "    .dataframe tbody tr th:only-of-type {\n",
       "        vertical-align: middle;\n",
       "    }\n",
       "\n",
       "    .dataframe tbody tr th {\n",
       "        vertical-align: top;\n",
       "    }\n",
       "\n",
       "    .dataframe thead th {\n",
       "        text-align: right;\n",
       "    }\n",
       "</style>\n",
       "<table border=\"1\" class=\"dataframe\">\n",
       "  <thead>\n",
       "    <tr style=\"text-align: right;\">\n",
       "      <th></th>\n",
       "      <th>Label</th>\n",
       "      <th>Message</th>\n",
       "      <th>OriginalMsgLength</th>\n",
       "      <th>Processed_Message</th>\n",
       "      <th>Processed_Message_Length</th>\n",
       "    </tr>\n",
       "  </thead>\n",
       "  <tbody>\n",
       "    <tr>\n",
       "      <th>0</th>\n",
       "      <td>0</td>\n",
       "      <td>go until jurong point, crazy.. available only ...</td>\n",
       "      <td>111</td>\n",
       "      <td>go jurong point crazy available bugis n great ...</td>\n",
       "      <td>82</td>\n",
       "    </tr>\n",
       "    <tr>\n",
       "      <th>1</th>\n",
       "      <td>0</td>\n",
       "      <td>ok lar... joking wif u oni...</td>\n",
       "      <td>29</td>\n",
       "      <td>ok lar joking wif u oni</td>\n",
       "      <td>23</td>\n",
       "    </tr>\n",
       "    <tr>\n",
       "      <th>2</th>\n",
       "      <td>1</td>\n",
       "      <td>free entry in 2 a wkly comp to win fa cup fina...</td>\n",
       "      <td>155</td>\n",
       "      <td>free entry 2 wkly comp win fa cup final tkts 2...</td>\n",
       "      <td>129</td>\n",
       "    </tr>\n",
       "    <tr>\n",
       "      <th>3</th>\n",
       "      <td>0</td>\n",
       "      <td>u dun say so early hor... u c already then say...</td>\n",
       "      <td>49</td>\n",
       "      <td>u dun say early hor u c already say</td>\n",
       "      <td>35</td>\n",
       "    </tr>\n",
       "    <tr>\n",
       "      <th>4</th>\n",
       "      <td>0</td>\n",
       "      <td>nah i don't think he goes to usf, he lives aro...</td>\n",
       "      <td>61</td>\n",
       "      <td>nah think goes usf lives around though</td>\n",
       "      <td>38</td>\n",
       "    </tr>\n",
       "  </tbody>\n",
       "</table>\n",
       "</div>"
      ],
      "text/plain": [
       "   Label                                            Message  \\\n",
       "0      0  go until jurong point, crazy.. available only ...   \n",
       "1      0                      ok lar... joking wif u oni...   \n",
       "2      1  free entry in 2 a wkly comp to win fa cup fina...   \n",
       "3      0  u dun say so early hor... u c already then say...   \n",
       "4      0  nah i don't think he goes to usf, he lives aro...   \n",
       "\n",
       "   OriginalMsgLength                                  Processed_Message  \\\n",
       "0                111  go jurong point crazy available bugis n great ...   \n",
       "1                 29                            ok lar joking wif u oni   \n",
       "2                155  free entry 2 wkly comp win fa cup final tkts 2...   \n",
       "3                 49                u dun say early hor u c already say   \n",
       "4                 61             nah think goes usf lives around though   \n",
       "\n",
       "   Processed_Message_Length  \n",
       "0                        82  \n",
       "1                        23  \n",
       "2                       129  \n",
       "3                        35  \n",
       "4                        38  "
      ]
     },
     "execution_count": 17,
     "metadata": {},
     "output_type": "execute_result"
    }
   ],
   "source": [
    "df['Processed_Message_Length'] = df['Processed_Message'].apply(len)\n",
    "\n",
    "df.head()"
   ]
  },
  {
   "cell_type": "code",
   "execution_count": 18,
   "id": "6ae316f0",
   "metadata": {},
   "outputs": [],
   "source": [
    "spammed_dataset = df[df['Label'] == 1]\n",
    "hammed_dataset = df[df['Label'] == 0]"
   ]
  },
  {
   "cell_type": "code",
   "execution_count": 19,
   "id": "88d20608",
   "metadata": {},
   "outputs": [
    {
     "name": "stderr",
     "output_type": "stream",
     "text": [
      "C:\\Users\\jiten\\anaconda3\\lib\\site-packages\\seaborn\\distributions.py:2619: FutureWarning: `distplot` is a deprecated function and will be removed in a future version. Please adapt your code to use either `displot` (a figure-level function with similar flexibility) or `histplot` (an axes-level function for histograms).\n",
      "  warnings.warn(msg, FutureWarning)\n"
     ]
    },
    {
     "data": {
      "text/plain": [
       "<AxesSubplot:xlabel='Processed_Message_Length', ylabel='Density'>"
      ]
     },
     "execution_count": 19,
     "metadata": {},
     "output_type": "execute_result"
    },
    {
     "data": {
      "image/png": "[encoded data removed]",
      "text/plain": [
       "<Figure size 432x288 with 1 Axes>"
      ]
     },
     "metadata": {
      "needs_background": "light"
     },
     "output_type": "display_data"
    }
   ],
   "source": [
    "sns.distplot(spammed_dataset['Processed_Message_Length'])"
   ]
  },
  {
   "cell_type": "code",
   "execution_count": 20,
   "id": "e05879b4",
   "metadata": {},
   "outputs": [
    {
     "name": "stderr",
     "output_type": "stream",
     "text": [
      "C:\\Users\\jiten\\anaconda3\\lib\\site-packages\\seaborn\\distributions.py:2619: FutureWarning: `distplot` is a deprecated function and will be removed in a future version. Please adapt your code to use either `displot` (a figure-level function with similar flexibility) or `histplot` (an axes-level function for histograms).\n",
      "  warnings.warn(msg, FutureWarning)\n"
     ]
    },
    {
     "data": {
      "text/plain": [
       "<AxesSubplot:xlabel='Processed_Message_Length', ylabel='Density'>"
      ]
     },
     "execution_count": 20,
     "metadata": {},
     "output_type": "execute_result"
    },
    {
     "data": {
      "image/png": "[encoded data removed]",
      "text/plain": [
       "<Figure size 432x288 with 1 Axes>"
      ]
     },
     "metadata": {
      "needs_background": "light"
     },
     "output_type": "display_data"
    }
   ],
   "source": [
    "sns.distplot(hammed_dataset['Processed_Message_Length'])"
   ]
  },
  {
   "cell_type": "code",
   "execution_count": 21,
   "id": "31edac13",
   "metadata": {},
   "outputs": [
    {
     "data": {
      "text/plain": [
       "95.0"
      ]
     },
     "execution_count": 21,
     "metadata": {},
     "output_type": "execute_result"
    }
   ],
   "source": [
    "spammed_dataset['Processed_Message_Length'].median()"
   ]
  },
  {
   "cell_type": "code",
   "execution_count": 22,
   "id": "5918fd2a",
   "metadata": {},
   "outputs": [
    {
     "data": {
      "text/plain": [
       "33.0"
      ]
     },
     "execution_count": 22,
     "metadata": {},
     "output_type": "execute_result"
    }
   ],
   "source": [
    "hammed_dataset['Processed_Message_Length'].median()"
   ]
  },
  {
   "cell_type": "markdown",
   "id": "c9a594f5",
   "metadata": {},
   "source": [
    "### After Preprocessing it can be seen that the length of ham messages is much shorter than the spam messages"
   ]
  },
  {
   "cell_type": "markdown",
   "id": "1acb3f15",
   "metadata": {},
   "source": [
    "### CountVectorizer \n",
    "\n",
    "1. It is used to transform a given text into a vector on the basis of the frequency (count) of each word that occurs in the entire text.\n",
    "\n",
    "2. CountVectorizer creates a matrix in which each unique word is represented by a column of the matrix, and each text sample from the document is a row in the matrix."
   ]
  },
  {
   "cell_type": "code",
   "execution_count": 23,
   "id": "1abd3363",
   "metadata": {},
   "outputs": [
    {
     "data": {
      "text/plain": [
       "(5169, 8079)"
      ]
     },
     "execution_count": 23,
     "metadata": {},
     "output_type": "execute_result"
    }
   ],
   "source": [
    "from sklearn.feature_extraction.text import CountVectorizer\n",
    "\n",
    "count_vectorizer = CountVectorizer()\n",
    "\n",
    "count_vectorized_processed_messages = count_vectorizer.fit_transform(df['Processed_Message'])\n",
    "\n",
    "count_vectorized_processed_messages.shape"
   ]
  },
  {
   "cell_type": "code",
   "execution_count": 24,
   "id": "b2909c08",
   "metadata": {},
   "outputs": [
    {
     "data": {
      "text/plain": [
       "(5169, 8079)"
      ]
     },
     "execution_count": 24,
     "metadata": {},
     "output_type": "execute_result"
    }
   ],
   "source": [
    "count_vectorized_processed_messages.shape"
   ]
  },
  {
   "cell_type": "code",
   "execution_count": 25,
   "id": "136a8ddf",
   "metadata": {},
   "outputs": [
    {
     "data": {
      "text/plain": [
       "(5169,)"
      ]
     },
     "execution_count": 25,
     "metadata": {},
     "output_type": "execute_result"
    }
   ],
   "source": [
    "df['Label'].shape"
   ]
  },
  {
   "cell_type": "code",
   "execution_count": 26,
   "id": "2121d7c2",
   "metadata": {},
   "outputs": [
    {
     "data": {
      "text/plain": [
       "(5169, 1)"
      ]
     },
     "execution_count": 26,
     "metadata": {},
     "output_type": "execute_result"
    }
   ],
   "source": [
    "processed_lengths = np.array(df['Processed_Message_Length'], ndmin=2).reshape(-1, 1)\n",
    "processed_lengths.shape"
   ]
  },
  {
   "cell_type": "code",
   "execution_count": 27,
   "id": "90ddfc25",
   "metadata": {},
   "outputs": [
    {
     "data": {
      "text/plain": [
       "(5169, 8080)"
      ]
     },
     "execution_count": 27,
     "metadata": {},
     "output_type": "execute_result"
    }
   ],
   "source": [
    "concatenated_count_vectorized_data = np.concatenate((count_vectorized_processed_messages.toarray(), processed_lengths), axis=1)\n",
    "concatenated_count_vectorized_data.shape"
   ]
  },
  {
   "cell_type": "markdown",
   "id": "0648d372",
   "metadata": {},
   "source": [
    "### Train Test Split the Count Vectorized Messages Dataset"
   ]
  },
  {
   "cell_type": "code",
   "execution_count": 28,
   "id": "2de5761a",
   "metadata": {},
   "outputs": [],
   "source": [
    "from sklearn.model_selection import train_test_split\n",
    "\n",
    "X_train, X_test, y_train, y_test = train_test_split(concatenated_count_vectorized_data, \n",
    "                                                    df['Label'],test_size=0.20, \n",
    "                                                    random_state=1)"
   ]
  },
  {
   "cell_type": "markdown",
   "id": "3425bc7a",
   "metadata": {},
   "source": [
    "### Naive Bayes Model"
   ]
  },
  {
   "cell_type": "markdown",
   "id": "01d17459",
   "metadata": {},
   "source": [
    "1.  No pair of features are dependent. \n",
    "2.  Each feature is given the same weight(or importance)"
   ]
  },
  {
   "cell_type": "code",
   "execution_count": 29,
   "id": "0ba5f6be",
   "metadata": {},
   "outputs": [
    {
     "data": {
      "text/plain": [
       "MultinomialNB()"
      ]
     },
     "execution_count": 29,
     "metadata": {},
     "output_type": "execute_result"
    }
   ],
   "source": [
    "from sklearn.naive_bayes import MultinomialNB\n",
    "naive_bayes = MultinomialNB()\n",
    "naive_bayes.fit(X_train, y_train)"
   ]
  },
  {
   "cell_type": "markdown",
   "id": "8ac87bc7",
   "metadata": {},
   "source": [
    "### Naive Bayes Model Evaluation"
   ]
  },
  {
   "cell_type": "code",
   "execution_count": 30,
   "id": "bafb86d2",
   "metadata": {},
   "outputs": [],
   "source": [
    "naive_bayes_preds = naive_bayes.predict(X_test)"
   ]
  },
  {
   "cell_type": "markdown",
   "id": "88599a9c",
   "metadata": {},
   "source": [
    "### Showing Classification Report "
   ]
  },
  {
   "cell_type": "code",
   "execution_count": 31,
   "id": "cd2446a7",
   "metadata": {},
   "outputs": [
    {
     "name": "stdout",
     "output_type": "stream",
     "text": [
      "              precision    recall  f1-score   support\n",
      "\n",
      "           0       0.99      0.99      0.99       919\n",
      "           1       0.95      0.92      0.94       115\n",
      "\n",
      "    accuracy                           0.99      1034\n",
      "   macro avg       0.97      0.96      0.97      1034\n",
      "weighted avg       0.99      0.99      0.99      1034\n",
      "\n"
     ]
    }
   ],
   "source": [
    "from sklearn.metrics import classification_report\n",
    "print(classification_report(y_test, naive_bayes_preds))"
   ]
  },
  {
   "cell_type": "markdown",
   "id": "44c4b833",
   "metadata": {},
   "source": [
    "### Confusion Matrix"
   ]
  },
  {
   "cell_type": "code",
   "execution_count": 32,
   "id": "21f927d8",
   "metadata": {},
   "outputs": [
    {
     "name": "stdout",
     "output_type": "stream",
     "text": [
      "[[914   5]\n",
      " [  9 106]]\n"
     ]
    }
   ],
   "source": [
    "from sklearn.metrics import confusion_matrix\n",
    "print(confusion_matrix(y_test, naive_bayes_preds))"
   ]
  },
  {
   "cell_type": "markdown",
   "id": "7a66d723",
   "metadata": {},
   "source": [
    "### Compute Specificity and Sensitivity for Naive Bayes Model"
   ]
  },
  {
   "cell_type": "code",
   "execution_count": 33,
   "id": "927b734a",
   "metadata": {},
   "outputs": [
    {
     "data": {
      "text/plain": [
       "array([914,   5,   9, 106], dtype=int64)"
      ]
     },
     "execution_count": 33,
     "metadata": {},
     "output_type": "execute_result"
    }
   ],
   "source": [
    "confusion_matrix(y_test, naive_bayes_preds).ravel()"
   ]
  },
  {
   "cell_type": "code",
   "execution_count": 34,
   "id": "ac912573",
   "metadata": {},
   "outputs": [],
   "source": [
    "tn, fp, fn, tp = confusion_matrix(y_test, naive_bayes_preds).ravel()"
   ]
  },
  {
   "cell_type": "code",
   "execution_count": 35,
   "id": "0283d3d4",
   "metadata": {},
   "outputs": [
    {
     "data": {
      "text/plain": [
       "0.9945593035908596"
      ]
     },
     "execution_count": 35,
     "metadata": {},
     "output_type": "execute_result"
    }
   ],
   "source": [
    "naive_bayes_specificity = tn / (tn + fp)\n",
    "naive_bayes_specificity"
   ]
  },
  {
   "cell_type": "code",
   "execution_count": 36,
   "id": "bc7c6eab",
   "metadata": {},
   "outputs": [
    {
     "data": {
      "text/plain": [
       "0.9217391304347826"
      ]
     },
     "execution_count": 36,
     "metadata": {},
     "output_type": "execute_result"
    }
   ],
   "source": [
    "naive_bayes_sensitivity = tp / (tp + fn)\n",
    "naive_bayes_sensitivity"
   ]
  },
  {
   "cell_type": "markdown",
   "id": "1e492974",
   "metadata": {},
   "source": [
    "### LDA Model"
   ]
  },
  {
   "cell_type": "markdown",
   "id": "a943f80c",
   "metadata": {},
   "source": [
    "1. LDA are linear transformation techniques just like PCA.\n",
    "2. PCA does not consider output and relies on variance only whereas LDA reduce dimensions of the feature set while retaining the information that discriminates output classes.\n",
    "3. LDA tries to find a decision boundary around each cluster of a class.\n",
    "4. projects the data points to new dimensions in a way that the clusters are as separate from each other as possible and the individual elements within a cluster are as close to the centroid of the cluster as possible"
   ]
  },
  {
   "cell_type": "code",
   "execution_count": 37,
   "id": "d4b41883",
   "metadata": {},
   "outputs": [
    {
     "data": {
      "text/plain": [
       "LinearDiscriminantAnalysis()"
      ]
     },
     "execution_count": 37,
     "metadata": {},
     "output_type": "execute_result"
    }
   ],
   "source": [
    "from sklearn.discriminant_analysis import LinearDiscriminantAnalysis\n",
    "lda_model = LinearDiscriminantAnalysis()\n",
    "lda_model.fit(X_train, y_train)"
   ]
  },
  {
   "cell_type": "markdown",
   "id": "9f10cbf2",
   "metadata": {},
   "source": [
    "### LDA Model Evaluation"
   ]
  },
  {
   "cell_type": "code",
   "execution_count": 38,
   "id": "1bcb662d",
   "metadata": {},
   "outputs": [],
   "source": [
    "lda_model_preds = lda_model.predict(X_test)"
   ]
  },
  {
   "cell_type": "markdown",
   "id": "c5c257a7",
   "metadata": {},
   "source": [
    "### Showing Classification Report "
   ]
  },
  {
   "cell_type": "code",
   "execution_count": 39,
   "id": "1a25fd99",
   "metadata": {},
   "outputs": [
    {
     "name": "stdout",
     "output_type": "stream",
     "text": [
      "              precision    recall  f1-score   support\n",
      "\n",
      "           0       0.96      1.00      0.98       919\n",
      "           1       0.95      0.66      0.78       115\n",
      "\n",
      "    accuracy                           0.96      1034\n",
      "   macro avg       0.95      0.83      0.88      1034\n",
      "weighted avg       0.96      0.96      0.96      1034\n",
      "\n"
     ]
    }
   ],
   "source": [
    "from sklearn.metrics import classification_report\n",
    "print(classification_report(y_test, lda_model_preds))"
   ]
  },
  {
   "cell_type": "markdown",
   "id": "8bad3c48",
   "metadata": {},
   "source": [
    "### Confusion Matrix"
   ]
  },
  {
   "cell_type": "code",
   "execution_count": 40,
   "id": "90a133bd",
   "metadata": {},
   "outputs": [
    {
     "name": "stdout",
     "output_type": "stream",
     "text": [
      "[[915   4]\n",
      " [ 39  76]]\n"
     ]
    }
   ],
   "source": [
    "from sklearn.metrics import confusion_matrix\n",
    "print(confusion_matrix(y_test, lda_model_preds))"
   ]
  },
  {
   "cell_type": "markdown",
   "id": "222c2a2f",
   "metadata": {},
   "source": [
    "### Compute Specificity and Sensitivity for LDA Model"
   ]
  },
  {
   "cell_type": "code",
   "execution_count": 41,
   "id": "0fcafe46",
   "metadata": {},
   "outputs": [],
   "source": [
    "tn, fp, fn, tp = confusion_matrix(y_test, lda_model_preds).ravel()"
   ]
  },
  {
   "cell_type": "code",
   "execution_count": 42,
   "id": "1a42408c",
   "metadata": {},
   "outputs": [
    {
     "data": {
      "text/plain": [
       "0.9956474428726877"
      ]
     },
     "execution_count": 42,
     "metadata": {},
     "output_type": "execute_result"
    }
   ],
   "source": [
    "lda_model_specificity = tn / (tn + fp)\n",
    "lda_model_specificity"
   ]
  },
  {
   "cell_type": "code",
   "execution_count": 43,
   "id": "9a790ed2",
   "metadata": {},
   "outputs": [
    {
     "data": {
      "text/plain": [
       "0.6608695652173913"
      ]
     },
     "execution_count": 43,
     "metadata": {},
     "output_type": "execute_result"
    }
   ],
   "source": [
    "lda_model_sensitivity = tp / (tp + fn)\n",
    "lda_model_sensitivity"
   ]
  },
  {
   "cell_type": "markdown",
   "id": "be083dce",
   "metadata": {},
   "source": [
    "## Conclusion\n",
    "\n",
    "1. Performed Cleaning on Text Data (removal of stop words.\n",
    "2. Understood the difference between LDA and PCA and how they do the same job but with different methods.\n",
    "3. Trained Naiye Bayes and LDA Model for SMS Spam Prediction.\n",
    "4. Found difference between spam and ham message by comparing features such as msg length.\n",
    "5. Later analyzed prediction power of model for both the classes."
   ]
  },
  {
   "cell_type": "markdown",
   "id": "630779d6",
   "metadata": {},
   "source": [
    "### References\n",
    "\n",
    "1. [Nltk](https://www.nltk.org/)\n",
    "2. [Sklearn Python Package](https://scikit-learn.org/stable/index.html)\n",
    "3. [LDA VS PCA](https://stackabuse.com/implementing-lda-in-python-with-scikit-learn/)"
   ]
  }
 ],
 "metadata": {
  "kernelspec": {
   "display_name": "Python 3 (ipykernel)",
   "language": "python",
   "name": "python3"
  },
  "language_info": {
   "codemirror_mode": {
    "name": "ipython",
    "version": 3
   },
   "file_extension": ".py",
   "mimetype": "text/x-python",
   "name": "python",
   "nbconvert_exporter": "python",
   "pygments_lexer": "ipython3",
   "version": "3.9.7"
  }
 },
 "nbformat": 4,
 "nbformat_minor": 5
}
