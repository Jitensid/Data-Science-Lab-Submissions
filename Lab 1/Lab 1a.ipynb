{
 "cells": [
  {
   "cell_type": "markdown",
   "id": "90266345",
   "metadata": {},
   "source": [
    "### Name: Jiten Sidhpura \n",
    "### UID: 2018130051\n",
    "### Batch B\n",
    "### BE COMPS\n",
    "\n",
    "### Objective: To carry out linear regression (including multiple regression) and build a regression model using Python Platform"
   ]
  },
  {
   "cell_type": "markdown",
   "id": "9f754f5f",
   "metadata": {},
   "source": [
    "## Imports"
   ]
  },
  {
   "cell_type": "code",
   "execution_count": 297,
   "id": "8b86e313",
   "metadata": {},
   "outputs": [],
   "source": [
    "import numpy as np\n",
    "import pandas as pd\n",
    "import seaborn as sns\n",
    "from matplotlib import pyplot as plt\n",
    "from mpl_toolkits import mplot3d"
   ]
  },
  {
   "cell_type": "markdown",
   "id": "3b76e13b",
   "metadata": {},
   "source": [
    "## Reading Data"
   ]
  },
  {
   "cell_type": "code",
   "execution_count": 298,
   "id": "e0d4e49a",
   "metadata": {},
   "outputs": [
    {
     "data": {
      "text/html": [
       "<div>\n",
       "<style scoped>\n",
       "    .dataframe tbody tr th:only-of-type {\n",
       "        vertical-align: middle;\n",
       "    }\n",
       "\n",
       "    .dataframe tbody tr th {\n",
       "        vertical-align: top;\n",
       "    }\n",
       "\n",
       "    .dataframe thead th {\n",
       "        text-align: right;\n",
       "    }\n",
       "</style>\n",
       "<table border=\"1\" class=\"dataframe\">\n",
       "  <thead>\n",
       "    <tr style=\"text-align: right;\">\n",
       "      <th></th>\n",
       "      <th>Unnamed: 0</th>\n",
       "      <th>Age</th>\n",
       "      <th>Sex</th>\n",
       "      <th>Job</th>\n",
       "      <th>Housing</th>\n",
       "      <th>Saving accounts</th>\n",
       "      <th>Checking account</th>\n",
       "      <th>Credit amount</th>\n",
       "      <th>Duration</th>\n",
       "      <th>Purpose</th>\n",
       "    </tr>\n",
       "  </thead>\n",
       "  <tbody>\n",
       "    <tr>\n",
       "      <th>0</th>\n",
       "      <td>0</td>\n",
       "      <td>67</td>\n",
       "      <td>male</td>\n",
       "      <td>2</td>\n",
       "      <td>own</td>\n",
       "      <td>NaN</td>\n",
       "      <td>little</td>\n",
       "      <td>1169</td>\n",
       "      <td>6</td>\n",
       "      <td>radio/TV</td>\n",
       "    </tr>\n",
       "    <tr>\n",
       "      <th>1</th>\n",
       "      <td>1</td>\n",
       "      <td>22</td>\n",
       "      <td>female</td>\n",
       "      <td>2</td>\n",
       "      <td>own</td>\n",
       "      <td>little</td>\n",
       "      <td>moderate</td>\n",
       "      <td>5951</td>\n",
       "      <td>48</td>\n",
       "      <td>radio/TV</td>\n",
       "    </tr>\n",
       "    <tr>\n",
       "      <th>2</th>\n",
       "      <td>2</td>\n",
       "      <td>49</td>\n",
       "      <td>male</td>\n",
       "      <td>1</td>\n",
       "      <td>own</td>\n",
       "      <td>little</td>\n",
       "      <td>NaN</td>\n",
       "      <td>2096</td>\n",
       "      <td>12</td>\n",
       "      <td>education</td>\n",
       "    </tr>\n",
       "    <tr>\n",
       "      <th>3</th>\n",
       "      <td>3</td>\n",
       "      <td>45</td>\n",
       "      <td>male</td>\n",
       "      <td>2</td>\n",
       "      <td>free</td>\n",
       "      <td>little</td>\n",
       "      <td>little</td>\n",
       "      <td>7882</td>\n",
       "      <td>42</td>\n",
       "      <td>furniture/equipment</td>\n",
       "    </tr>\n",
       "    <tr>\n",
       "      <th>4</th>\n",
       "      <td>4</td>\n",
       "      <td>53</td>\n",
       "      <td>male</td>\n",
       "      <td>2</td>\n",
       "      <td>free</td>\n",
       "      <td>little</td>\n",
       "      <td>little</td>\n",
       "      <td>4870</td>\n",
       "      <td>24</td>\n",
       "      <td>car</td>\n",
       "    </tr>\n",
       "  </tbody>\n",
       "</table>\n",
       "</div>"
      ],
      "text/plain": [
       "   Unnamed: 0  Age     Sex  Job Housing Saving accounts Checking account  \\\n",
       "0           0   67    male    2     own             NaN           little   \n",
       "1           1   22  female    2     own          little         moderate   \n",
       "2           2   49    male    1     own          little              NaN   \n",
       "3           3   45    male    2    free          little           little   \n",
       "4           4   53    male    2    free          little           little   \n",
       "\n",
       "   Credit amount  Duration              Purpose  \n",
       "0           1169         6             radio/TV  \n",
       "1           5951        48             radio/TV  \n",
       "2           2096        12            education  \n",
       "3           7882        42  furniture/equipment  \n",
       "4           4870        24                  car  "
      ]
     },
     "execution_count": 298,
     "metadata": {},
     "output_type": "execute_result"
    }
   ],
   "source": [
    "filename = 'german_credit_data.csv'\n",
    "\n",
    "dataset = pd.read_csv(filename)\n",
    "\n",
    "dataset.head()"
   ]
  },
  {
   "cell_type": "code",
   "execution_count": 299,
   "id": "9d2a91f8",
   "metadata": {},
   "outputs": [
    {
     "data": {
      "text/plain": [
       "Unnamed: 0           int64\n",
       "Age                  int64\n",
       "Sex                 object\n",
       "Job                  int64\n",
       "Housing             object\n",
       "Saving accounts     object\n",
       "Checking account    object\n",
       "Credit amount        int64\n",
       "Duration             int64\n",
       "Purpose             object\n",
       "dtype: object"
      ]
     },
     "execution_count": 299,
     "metadata": {},
     "output_type": "execute_result"
    }
   ],
   "source": [
    "dataset.dtypes"
   ]
  },
  {
   "cell_type": "markdown",
   "id": "e6875d1a",
   "metadata": {},
   "source": [
    "## Drop Duplicates If Present"
   ]
  },
  {
   "cell_type": "code",
   "execution_count": 300,
   "id": "92f5f77c",
   "metadata": {},
   "outputs": [],
   "source": [
    "dataset = dataset.drop_duplicates()"
   ]
  },
  {
   "cell_type": "code",
   "execution_count": 301,
   "id": "72a9a9c6",
   "metadata": {},
   "outputs": [
    {
     "name": "stderr",
     "output_type": "stream",
     "text": [
      "C:\\Users\\jiten\\AppData\\Local\\Temp/ipykernel_12504/4231230252.py:1: FutureWarning: Dropping of nuisance columns in DataFrame reductions (with 'numeric_only=None') is deprecated; in a future version this will raise TypeError.  Select only valid columns before calling the reduction.\n",
      "  dataset.skew()\n"
     ]
    },
    {
     "data": {
      "text/plain": [
       "Unnamed: 0       0.000000\n",
       "Age              1.020739\n",
       "Job             -0.374295\n",
       "Credit amount    1.949628\n",
       "Duration         1.094184\n",
       "dtype: float64"
      ]
     },
     "execution_count": 301,
     "metadata": {},
     "output_type": "execute_result"
    }
   ],
   "source": [
    "dataset.skew()"
   ]
  },
  {
   "cell_type": "code",
   "execution_count": 302,
   "id": "28f6f4c7",
   "metadata": {},
   "outputs": [
    {
     "data": {
      "text/plain": [
       "<AxesSubplot:>"
      ]
     },
     "execution_count": 302,
     "metadata": {},
     "output_type": "execute_result"
    },
    {
     "data": {
      "image/png": "[encoded data removed]",
      "text/plain": [
       "<Figure size 1728x720 with 3 Axes>"
      ]
     },
     "metadata": {
      "needs_background": "light"
     },
     "output_type": "display_data"
    }
   ],
   "source": [
    "import missingno\n",
    "missingno.bar(dataset)"
   ]
  },
  {
   "cell_type": "markdown",
   "id": "c7913d5e",
   "metadata": {},
   "source": [
    "## All Values are Unique\n",
    "\n",
    "### Since all values are unique it will be ignored"
   ]
  },
  {
   "cell_type": "code",
   "execution_count": 303,
   "id": "e6a74e05",
   "metadata": {},
   "outputs": [
    {
     "data": {
      "text/plain": [
       "True"
      ]
     },
     "execution_count": 303,
     "metadata": {},
     "output_type": "execute_result"
    }
   ],
   "source": [
    "len(dataset['Unnamed: 0'].unique()) == len(dataset)"
   ]
  },
  {
   "cell_type": "markdown",
   "id": "1971b9ee",
   "metadata": {},
   "source": [
    "## Credit Amount Feature"
   ]
  },
  {
   "cell_type": "code",
   "execution_count": 304,
   "id": "dc524600",
   "metadata": {},
   "outputs": [
    {
     "name": "stderr",
     "output_type": "stream",
     "text": [
      "C:\\Users\\jiten\\anaconda3\\lib\\site-packages\\seaborn\\distributions.py:2619: FutureWarning: `distplot` is a deprecated function and will be removed in a future version. Please adapt your code to use either `displot` (a figure-level function with similar flexibility) or `histplot` (an axes-level function for histograms).\n",
      "  warnings.warn(msg, FutureWarning)\n"
     ]
    },
    {
     "data": {
      "text/plain": [
       "<AxesSubplot:xlabel='Credit amount', ylabel='Density'>"
      ]
     },
     "execution_count": 304,
     "metadata": {},
     "output_type": "execute_result"
    },
    {
     "data": {
      "image/png": "[encoded data removed]",
      "text/plain": [
       "<Figure size 432x288 with 1 Axes>"
      ]
     },
     "metadata": {
      "needs_background": "light"
     },
     "output_type": "display_data"
    }
   ],
   "source": [
    "sns.distplot(dataset['Credit amount'])"
   ]
  },
  {
   "cell_type": "code",
   "execution_count": 305,
   "id": "15334f6e",
   "metadata": {},
   "outputs": [],
   "source": [
    "from scipy.special import boxcox, inv_boxcox"
   ]
  },
  {
   "cell_type": "code",
   "execution_count": 306,
   "id": "e05d1a14",
   "metadata": {},
   "outputs": [],
   "source": [
    "def modify_boxcox_value(col_name, x):\n",
    "    print(dataset[col_name].skew())\n",
    "    sns.distplot(dataset[col_name])\n",
    "    plt.show()\n",
    "    \n",
    "    transformed_value = boxcox(dataset[col_name], x)\n",
    "    print(transformed_value.skew())\n",
    "    sns.distplot(transformed_value)\n",
    "    plt.show()"
   ]
  },
  {
   "cell_type": "code",
   "execution_count": 307,
   "id": "dfe1d7b1",
   "metadata": {},
   "outputs": [
    {
     "name": "stdout",
     "output_type": "stream",
     "text": [
      "1.9496276798326209\n"
     ]
    },
    {
     "name": "stderr",
     "output_type": "stream",
     "text": [
      "C:\\Users\\jiten\\anaconda3\\lib\\site-packages\\seaborn\\distributions.py:2619: FutureWarning: `distplot` is a deprecated function and will be removed in a future version. Please adapt your code to use either `displot` (a figure-level function with similar flexibility) or `histplot` (an axes-level function for histograms).\n",
      "  warnings.warn(msg, FutureWarning)\n"
     ]
    },
    {
     "data": {
      "image/png": "[encoded data removed]",
      "text/plain": [
       "<Figure size 432x288 with 1 Axes>"
      ]
     },
     "metadata": {
      "needs_background": "light"
     },
     "output_type": "display_data"
    },
    {
     "name": "stdout",
     "output_type": "stream",
     "text": [
      "0.12928589230467\n"
     ]
    },
    {
     "name": "stderr",
     "output_type": "stream",
     "text": [
      "C:\\Users\\jiten\\anaconda3\\lib\\site-packages\\seaborn\\distributions.py:2619: FutureWarning: `distplot` is a deprecated function and will be removed in a future version. Please adapt your code to use either `displot` (a figure-level function with similar flexibility) or `histplot` (an axes-level function for histograms).\n",
      "  warnings.warn(msg, FutureWarning)\n"
     ]
    },
    {
     "data": {
      "image/png": "[encoded data removed]",
      "text/plain": [
       "<Figure size 432x288 with 1 Axes>"
      ]
     },
     "metadata": {
      "needs_background": "light"
     },
     "output_type": "display_data"
    }
   ],
   "source": [
    "modify_boxcox_value('Credit amount', 0)"
   ]
  },
  {
   "cell_type": "code",
   "execution_count": 308,
   "id": "447d87c3",
   "metadata": {},
   "outputs": [],
   "source": [
    "dataset['Transformed_Credit_Amount'] = boxcox(dataset['Credit amount'], 0)"
   ]
  },
  {
   "cell_type": "code",
   "execution_count": 309,
   "id": "4527c92a",
   "metadata": {},
   "outputs": [
    {
     "data": {
      "text/plain": [
       "<AxesSubplot:xlabel='Age', ylabel='Credit amount'>"
      ]
     },
     "execution_count": 309,
     "metadata": {},
     "output_type": "execute_result"
    },
    {
     "data": {
      "image/png": "[encoded data removed]",
      "text/plain": [
       "<Figure size 432x288 with 1 Axes>"
      ]
     },
     "metadata": {
      "needs_background": "light"
     },
     "output_type": "display_data"
    }
   ],
   "source": [
    "sns.scatterplot(x='Age', y='Credit amount', data=dataset)"
   ]
  },
  {
   "cell_type": "markdown",
   "id": "28e3942d",
   "metadata": {},
   "source": [
    "## Scatter Plot reveals points are closer after scaling the Target Variable"
   ]
  },
  {
   "cell_type": "code",
   "execution_count": 310,
   "id": "571faf76",
   "metadata": {},
   "outputs": [
    {
     "data": {
      "text/plain": [
       "<AxesSubplot:xlabel='Age', ylabel='Transformed_Credit_Amount'>"
      ]
     },
     "execution_count": 310,
     "metadata": {},
     "output_type": "execute_result"
    },
    {
     "data": {
      "image/png": "[encoded data removed]",
      "text/plain": [
       "<Figure size 432x288 with 1 Axes>"
      ]
     },
     "metadata": {
      "needs_background": "light"
     },
     "output_type": "display_data"
    }
   ],
   "source": [
    "sns.scatterplot(x='Age', y='Transformed_Credit_Amount', data=dataset)"
   ]
  },
  {
   "cell_type": "code",
   "execution_count": 311,
   "id": "4c1640d3",
   "metadata": {},
   "outputs": [
    {
     "data": {
      "text/html": [
       "<div>\n",
       "<style scoped>\n",
       "    .dataframe tbody tr th:only-of-type {\n",
       "        vertical-align: middle;\n",
       "    }\n",
       "\n",
       "    .dataframe tbody tr th {\n",
       "        vertical-align: top;\n",
       "    }\n",
       "\n",
       "    .dataframe thead th {\n",
       "        text-align: right;\n",
       "    }\n",
       "</style>\n",
       "<table border=\"1\" class=\"dataframe\">\n",
       "  <thead>\n",
       "    <tr style=\"text-align: right;\">\n",
       "      <th></th>\n",
       "      <th>Unnamed: 0</th>\n",
       "      <th>Age</th>\n",
       "      <th>Sex</th>\n",
       "      <th>Job</th>\n",
       "      <th>Housing</th>\n",
       "      <th>Saving accounts</th>\n",
       "      <th>Checking account</th>\n",
       "      <th>Credit amount</th>\n",
       "      <th>Duration</th>\n",
       "      <th>Purpose</th>\n",
       "      <th>Transformed_Credit_Amount</th>\n",
       "    </tr>\n",
       "  </thead>\n",
       "  <tbody>\n",
       "    <tr>\n",
       "      <th>0</th>\n",
       "      <td>0</td>\n",
       "      <td>67</td>\n",
       "      <td>male</td>\n",
       "      <td>2</td>\n",
       "      <td>own</td>\n",
       "      <td>NaN</td>\n",
       "      <td>little</td>\n",
       "      <td>1169</td>\n",
       "      <td>6</td>\n",
       "      <td>radio/TV</td>\n",
       "      <td>7.063904</td>\n",
       "    </tr>\n",
       "    <tr>\n",
       "      <th>1</th>\n",
       "      <td>1</td>\n",
       "      <td>22</td>\n",
       "      <td>female</td>\n",
       "      <td>2</td>\n",
       "      <td>own</td>\n",
       "      <td>little</td>\n",
       "      <td>moderate</td>\n",
       "      <td>5951</td>\n",
       "      <td>48</td>\n",
       "      <td>radio/TV</td>\n",
       "      <td>8.691315</td>\n",
       "    </tr>\n",
       "    <tr>\n",
       "      <th>2</th>\n",
       "      <td>2</td>\n",
       "      <td>49</td>\n",
       "      <td>male</td>\n",
       "      <td>1</td>\n",
       "      <td>own</td>\n",
       "      <td>little</td>\n",
       "      <td>NaN</td>\n",
       "      <td>2096</td>\n",
       "      <td>12</td>\n",
       "      <td>education</td>\n",
       "      <td>7.647786</td>\n",
       "    </tr>\n",
       "    <tr>\n",
       "      <th>3</th>\n",
       "      <td>3</td>\n",
       "      <td>45</td>\n",
       "      <td>male</td>\n",
       "      <td>2</td>\n",
       "      <td>free</td>\n",
       "      <td>little</td>\n",
       "      <td>little</td>\n",
       "      <td>7882</td>\n",
       "      <td>42</td>\n",
       "      <td>furniture/equipment</td>\n",
       "      <td>8.972337</td>\n",
       "    </tr>\n",
       "    <tr>\n",
       "      <th>4</th>\n",
       "      <td>4</td>\n",
       "      <td>53</td>\n",
       "      <td>male</td>\n",
       "      <td>2</td>\n",
       "      <td>free</td>\n",
       "      <td>little</td>\n",
       "      <td>little</td>\n",
       "      <td>4870</td>\n",
       "      <td>24</td>\n",
       "      <td>car</td>\n",
       "      <td>8.490849</td>\n",
       "    </tr>\n",
       "  </tbody>\n",
       "</table>\n",
       "</div>"
      ],
      "text/plain": [
       "   Unnamed: 0  Age     Sex  Job Housing Saving accounts Checking account  \\\n",
       "0           0   67    male    2     own             NaN           little   \n",
       "1           1   22  female    2     own          little         moderate   \n",
       "2           2   49    male    1     own          little              NaN   \n",
       "3           3   45    male    2    free          little           little   \n",
       "4           4   53    male    2    free          little           little   \n",
       "\n",
       "   Credit amount  Duration              Purpose  Transformed_Credit_Amount  \n",
       "0           1169         6             radio/TV                   7.063904  \n",
       "1           5951        48             radio/TV                   8.691315  \n",
       "2           2096        12            education                   7.647786  \n",
       "3           7882        42  furniture/equipment                   8.972337  \n",
       "4           4870        24                  car                   8.490849  "
      ]
     },
     "execution_count": 311,
     "metadata": {},
     "output_type": "execute_result"
    }
   ],
   "source": [
    "dataset.head()"
   ]
  },
  {
   "cell_type": "markdown",
   "id": "2bad1e1b",
   "metadata": {},
   "source": [
    "## Age Feature"
   ]
  },
  {
   "cell_type": "code",
   "execution_count": 312,
   "id": "1724e032",
   "metadata": {},
   "outputs": [
    {
     "data": {
      "text/plain": [
       "1.0207392686768317"
      ]
     },
     "execution_count": 312,
     "metadata": {},
     "output_type": "execute_result"
    }
   ],
   "source": [
    "dataset['Age'].skew()"
   ]
  },
  {
   "cell_type": "code",
   "execution_count": 313,
   "id": "7d00aec4",
   "metadata": {},
   "outputs": [
    {
     "name": "stderr",
     "output_type": "stream",
     "text": [
      "C:\\Users\\jiten\\anaconda3\\lib\\site-packages\\seaborn\\distributions.py:2619: FutureWarning: `distplot` is a deprecated function and will be removed in a future version. Please adapt your code to use either `displot` (a figure-level function with similar flexibility) or `histplot` (an axes-level function for histograms).\n",
      "  warnings.warn(msg, FutureWarning)\n"
     ]
    },
    {
     "data": {
      "text/plain": [
       "<AxesSubplot:xlabel='Age', ylabel='Density'>"
      ]
     },
     "execution_count": 313,
     "metadata": {},
     "output_type": "execute_result"
    },
    {
     "data": {
      "image/png": "[encoded data removed]",
      "text/plain": [
       "<Figure size 432x288 with 1 Axes>"
      ]
     },
     "metadata": {
      "needs_background": "light"
     },
     "output_type": "display_data"
    }
   ],
   "source": [
    "sns.distplot(dataset['Age'])"
   ]
  },
  {
   "cell_type": "code",
   "execution_count": 314,
   "id": "46808645",
   "metadata": {},
   "outputs": [
    {
     "name": "stdout",
     "output_type": "stream",
     "text": [
      "1.0207392686768317\n"
     ]
    },
    {
     "name": "stderr",
     "output_type": "stream",
     "text": [
      "C:\\Users\\jiten\\anaconda3\\lib\\site-packages\\seaborn\\distributions.py:2619: FutureWarning: `distplot` is a deprecated function and will be removed in a future version. Please adapt your code to use either `displot` (a figure-level function with similar flexibility) or `histplot` (an axes-level function for histograms).\n",
      "  warnings.warn(msg, FutureWarning)\n"
     ]
    },
    {
     "data": {
      "image/png": "[encoded data removed]",
      "text/plain": [
       "<Figure size 432x288 with 1 Axes>"
      ]
     },
     "metadata": {
      "needs_background": "light"
     },
     "output_type": "display_data"
    },
    {
     "name": "stdout",
     "output_type": "stream",
     "text": [
      "0.13893735762542422\n"
     ]
    },
    {
     "name": "stderr",
     "output_type": "stream",
     "text": [
      "C:\\Users\\jiten\\anaconda3\\lib\\site-packages\\seaborn\\distributions.py:2619: FutureWarning: `distplot` is a deprecated function and will be removed in a future version. Please adapt your code to use either `displot` (a figure-level function with similar flexibility) or `histplot` (an axes-level function for histograms).\n",
      "  warnings.warn(msg, FutureWarning)\n"
     ]
    },
    {
     "data": {
      "image/png": "[encoded data removed]",
      "text/plain": [
       "<Figure size 432x288 with 1 Axes>"
      ]
     },
     "metadata": {
      "needs_background": "light"
     },
     "output_type": "display_data"
    }
   ],
   "source": [
    "modify_boxcox_value('Age', -0.5)"
   ]
  },
  {
   "cell_type": "code",
   "execution_count": 315,
   "id": "68d01a49",
   "metadata": {},
   "outputs": [],
   "source": [
    "dataset['Transformed_Age'] = boxcox(dataset['Age'], -0.5)"
   ]
  },
  {
   "cell_type": "markdown",
   "id": "d3da7157",
   "metadata": {},
   "source": [
    "## Now points seems to appear more grouped after scaling both Age and Credit Amount Variable"
   ]
  },
  {
   "cell_type": "code",
   "execution_count": 316,
   "id": "3a2dce30",
   "metadata": {},
   "outputs": [
    {
     "data": {
      "text/plain": [
       "<AxesSubplot:xlabel='Transformed_Age', ylabel='Transformed_Credit_Amount'>"
      ]
     },
     "execution_count": 316,
     "metadata": {},
     "output_type": "execute_result"
    },
    {
     "data": {
      "image/png": "[encoded data removed]",
      "text/plain": [
       "<Figure size 432x288 with 1 Axes>"
      ]
     },
     "metadata": {
      "needs_background": "light"
     },
     "output_type": "display_data"
    }
   ],
   "source": [
    "sns.scatterplot(x='Transformed_Age', y='Transformed_Credit_Amount', data=dataset)"
   ]
  },
  {
   "cell_type": "code",
   "execution_count": 317,
   "id": "0f3747fa",
   "metadata": {},
   "outputs": [
    {
     "data": {
      "text/html": [
       "<div>\n",
       "<style scoped>\n",
       "    .dataframe tbody tr th:only-of-type {\n",
       "        vertical-align: middle;\n",
       "    }\n",
       "\n",
       "    .dataframe tbody tr th {\n",
       "        vertical-align: top;\n",
       "    }\n",
       "\n",
       "    .dataframe thead th {\n",
       "        text-align: right;\n",
       "    }\n",
       "</style>\n",
       "<table border=\"1\" class=\"dataframe\">\n",
       "  <thead>\n",
       "    <tr style=\"text-align: right;\">\n",
       "      <th></th>\n",
       "      <th>Unnamed: 0</th>\n",
       "      <th>Age</th>\n",
       "      <th>Sex</th>\n",
       "      <th>Job</th>\n",
       "      <th>Housing</th>\n",
       "      <th>Saving accounts</th>\n",
       "      <th>Checking account</th>\n",
       "      <th>Credit amount</th>\n",
       "      <th>Duration</th>\n",
       "      <th>Purpose</th>\n",
       "      <th>Transformed_Credit_Amount</th>\n",
       "      <th>Transformed_Age</th>\n",
       "    </tr>\n",
       "  </thead>\n",
       "  <tbody>\n",
       "    <tr>\n",
       "      <th>0</th>\n",
       "      <td>0</td>\n",
       "      <td>67</td>\n",
       "      <td>male</td>\n",
       "      <td>2</td>\n",
       "      <td>own</td>\n",
       "      <td>NaN</td>\n",
       "      <td>little</td>\n",
       "      <td>1169</td>\n",
       "      <td>6</td>\n",
       "      <td>radio/TV</td>\n",
       "      <td>7.063904</td>\n",
       "      <td>1.755661</td>\n",
       "    </tr>\n",
       "    <tr>\n",
       "      <th>1</th>\n",
       "      <td>1</td>\n",
       "      <td>22</td>\n",
       "      <td>female</td>\n",
       "      <td>2</td>\n",
       "      <td>own</td>\n",
       "      <td>little</td>\n",
       "      <td>moderate</td>\n",
       "      <td>5951</td>\n",
       "      <td>48</td>\n",
       "      <td>radio/TV</td>\n",
       "      <td>8.691315</td>\n",
       "      <td>1.573599</td>\n",
       "    </tr>\n",
       "    <tr>\n",
       "      <th>2</th>\n",
       "      <td>2</td>\n",
       "      <td>49</td>\n",
       "      <td>male</td>\n",
       "      <td>1</td>\n",
       "      <td>own</td>\n",
       "      <td>little</td>\n",
       "      <td>NaN</td>\n",
       "      <td>2096</td>\n",
       "      <td>12</td>\n",
       "      <td>education</td>\n",
       "      <td>7.647786</td>\n",
       "      <td>1.714286</td>\n",
       "    </tr>\n",
       "    <tr>\n",
       "      <th>3</th>\n",
       "      <td>3</td>\n",
       "      <td>45</td>\n",
       "      <td>male</td>\n",
       "      <td>2</td>\n",
       "      <td>free</td>\n",
       "      <td>little</td>\n",
       "      <td>little</td>\n",
       "      <td>7882</td>\n",
       "      <td>42</td>\n",
       "      <td>furniture/equipment</td>\n",
       "      <td>8.972337</td>\n",
       "      <td>1.701858</td>\n",
       "    </tr>\n",
       "    <tr>\n",
       "      <th>4</th>\n",
       "      <td>4</td>\n",
       "      <td>53</td>\n",
       "      <td>male</td>\n",
       "      <td>2</td>\n",
       "      <td>free</td>\n",
       "      <td>little</td>\n",
       "      <td>little</td>\n",
       "      <td>4870</td>\n",
       "      <td>24</td>\n",
       "      <td>car</td>\n",
       "      <td>8.490849</td>\n",
       "      <td>1.725279</td>\n",
       "    </tr>\n",
       "  </tbody>\n",
       "</table>\n",
       "</div>"
      ],
      "text/plain": [
       "   Unnamed: 0  Age     Sex  Job Housing Saving accounts Checking account  \\\n",
       "0           0   67    male    2     own             NaN           little   \n",
       "1           1   22  female    2     own          little         moderate   \n",
       "2           2   49    male    1     own          little              NaN   \n",
       "3           3   45    male    2    free          little           little   \n",
       "4           4   53    male    2    free          little           little   \n",
       "\n",
       "   Credit amount  Duration              Purpose  Transformed_Credit_Amount  \\\n",
       "0           1169         6             radio/TV                   7.063904   \n",
       "1           5951        48             radio/TV                   8.691315   \n",
       "2           2096        12            education                   7.647786   \n",
       "3           7882        42  furniture/equipment                   8.972337   \n",
       "4           4870        24                  car                   8.490849   \n",
       "\n",
       "   Transformed_Age  \n",
       "0         1.755661  \n",
       "1         1.573599  \n",
       "2         1.714286  \n",
       "3         1.701858  \n",
       "4         1.725279  "
      ]
     },
     "execution_count": 317,
     "metadata": {},
     "output_type": "execute_result"
    }
   ],
   "source": [
    "dataset.head()"
   ]
  },
  {
   "cell_type": "markdown",
   "id": "a9aa92d5",
   "metadata": {},
   "source": [
    "## Sex Attribute"
   ]
  },
  {
   "cell_type": "markdown",
   "id": "c6371f4d",
   "metadata": {},
   "source": [
    "## Males are almost twice of females"
   ]
  },
  {
   "cell_type": "code",
   "execution_count": 318,
   "id": "7eeb8660",
   "metadata": {},
   "outputs": [
    {
     "name": "stderr",
     "output_type": "stream",
     "text": [
      "C:\\Users\\jiten\\anaconda3\\lib\\site-packages\\seaborn\\_decorators.py:36: FutureWarning: Pass the following variable as a keyword arg: x. From version 0.12, the only valid positional argument will be `data`, and passing other arguments without an explicit keyword will result in an error or misinterpretation.\n",
      "  warnings.warn(\n"
     ]
    },
    {
     "data": {
      "text/plain": [
       "<AxesSubplot:xlabel='Sex', ylabel='count'>"
      ]
     },
     "execution_count": 318,
     "metadata": {},
     "output_type": "execute_result"
    },
    {
     "data": {
      "image/png": "[encoded data removed]",
      "text/plain": [
       "<Figure size 432x288 with 1 Axes>"
      ]
     },
     "metadata": {
      "needs_background": "light"
     },
     "output_type": "display_data"
    }
   ],
   "source": [
    "sns.countplot(dataset['Sex'])"
   ]
  },
  {
   "cell_type": "markdown",
   "id": "583fe572",
   "metadata": {},
   "source": [
    "## Majority of Females are in the range of afe 20 to 30"
   ]
  },
  {
   "cell_type": "code",
   "execution_count": 319,
   "id": "d1e30b91",
   "metadata": {},
   "outputs": [
    {
     "data": {
      "text/plain": [
       "<AxesSubplot:xlabel='Age', ylabel='Credit amount'>"
      ]
     },
     "execution_count": 319,
     "metadata": {},
     "output_type": "execute_result"
    },
    {
     "data": {
      "image/png": "[encoded data removed]",
      "text/plain": [
       "<Figure size 432x288 with 1 Axes>"
      ]
     },
     "metadata": {
      "needs_background": "light"
     },
     "output_type": "display_data"
    }
   ],
   "source": [
    "sns.scatterplot(x='Age', y='Credit amount', hue='Sex', data=dataset)"
   ]
  },
  {
   "cell_type": "code",
   "execution_count": 320,
   "id": "effdd74d",
   "metadata": {},
   "outputs": [
    {
     "data": {
      "text/plain": [
       "<AxesSubplot:xlabel='Transformed_Age', ylabel='Transformed_Credit_Amount'>"
      ]
     },
     "execution_count": 320,
     "metadata": {},
     "output_type": "execute_result"
    },
    {
     "data": {
      "image/png": "[encoded data removed]",
      "text/plain": [
       "<Figure size 432x288 with 1 Axes>"
      ]
     },
     "metadata": {
      "needs_background": "light"
     },
     "output_type": "display_data"
    }
   ],
   "source": [
    "sns.scatterplot(x='Transformed_Age', y='Transformed_Credit_Amount', hue='Sex', data=dataset)"
   ]
  },
  {
   "cell_type": "markdown",
   "id": "a0a8129c",
   "metadata": {},
   "source": [
    "## Median of females is less than Males implying Males get more Credit Amount"
   ]
  },
  {
   "cell_type": "code",
   "execution_count": 321,
   "id": "b8665b31",
   "metadata": {},
   "outputs": [
    {
     "data": {
      "text/plain": [
       "1959.0"
      ]
     },
     "execution_count": 321,
     "metadata": {},
     "output_type": "execute_result"
    }
   ],
   "source": [
    "dataset[dataset.Sex == 'female']['Credit amount'].median()"
   ]
  },
  {
   "cell_type": "code",
   "execution_count": 322,
   "id": "0a5e7cc8",
   "metadata": {},
   "outputs": [
    {
     "data": {
      "text/plain": [
       "2443.5"
      ]
     },
     "execution_count": 322,
     "metadata": {},
     "output_type": "execute_result"
    }
   ],
   "source": [
    "dataset[dataset.Sex == 'male']['Credit amount'].median()"
   ]
  },
  {
   "cell_type": "markdown",
   "id": "4243b67f",
   "metadata": {},
   "source": [
    "## Median of females is still less than Males but difference is very small"
   ]
  },
  {
   "cell_type": "code",
   "execution_count": 323,
   "id": "9d32163c",
   "metadata": {},
   "outputs": [
    {
     "data": {
      "text/plain": [
       "7.580188896796211"
      ]
     },
     "execution_count": 323,
     "metadata": {},
     "output_type": "execute_result"
    }
   ],
   "source": [
    "dataset[dataset.Sex == 'female']['Transformed_Credit_Amount'].median()"
   ]
  },
  {
   "cell_type": "code",
   "execution_count": 324,
   "id": "27e84088",
   "metadata": {},
   "outputs": [
    {
     "data": {
      "text/plain": [
       "7.801186528289811"
      ]
     },
     "execution_count": 324,
     "metadata": {},
     "output_type": "execute_result"
    }
   ],
   "source": [
    "dataset[dataset.Sex == 'male']['Transformed_Credit_Amount'].median()"
   ]
  },
  {
   "cell_type": "code",
   "execution_count": 325,
   "id": "ef692592",
   "metadata": {},
   "outputs": [
    {
     "data": {
      "text/html": [
       "<div>\n",
       "<style scoped>\n",
       "    .dataframe tbody tr th:only-of-type {\n",
       "        vertical-align: middle;\n",
       "    }\n",
       "\n",
       "    .dataframe tbody tr th {\n",
       "        vertical-align: top;\n",
       "    }\n",
       "\n",
       "    .dataframe thead th {\n",
       "        text-align: right;\n",
       "    }\n",
       "</style>\n",
       "<table border=\"1\" class=\"dataframe\">\n",
       "  <thead>\n",
       "    <tr style=\"text-align: right;\">\n",
       "      <th></th>\n",
       "      <th>Unnamed: 0</th>\n",
       "      <th>Age</th>\n",
       "      <th>Sex</th>\n",
       "      <th>Job</th>\n",
       "      <th>Housing</th>\n",
       "      <th>Saving accounts</th>\n",
       "      <th>Checking account</th>\n",
       "      <th>Credit amount</th>\n",
       "      <th>Duration</th>\n",
       "      <th>Purpose</th>\n",
       "      <th>Transformed_Credit_Amount</th>\n",
       "      <th>Transformed_Age</th>\n",
       "    </tr>\n",
       "  </thead>\n",
       "  <tbody>\n",
       "    <tr>\n",
       "      <th>0</th>\n",
       "      <td>0</td>\n",
       "      <td>67</td>\n",
       "      <td>male</td>\n",
       "      <td>2</td>\n",
       "      <td>own</td>\n",
       "      <td>NaN</td>\n",
       "      <td>little</td>\n",
       "      <td>1169</td>\n",
       "      <td>6</td>\n",
       "      <td>radio/TV</td>\n",
       "      <td>7.063904</td>\n",
       "      <td>1.755661</td>\n",
       "    </tr>\n",
       "    <tr>\n",
       "      <th>1</th>\n",
       "      <td>1</td>\n",
       "      <td>22</td>\n",
       "      <td>female</td>\n",
       "      <td>2</td>\n",
       "      <td>own</td>\n",
       "      <td>little</td>\n",
       "      <td>moderate</td>\n",
       "      <td>5951</td>\n",
       "      <td>48</td>\n",
       "      <td>radio/TV</td>\n",
       "      <td>8.691315</td>\n",
       "      <td>1.573599</td>\n",
       "    </tr>\n",
       "    <tr>\n",
       "      <th>2</th>\n",
       "      <td>2</td>\n",
       "      <td>49</td>\n",
       "      <td>male</td>\n",
       "      <td>1</td>\n",
       "      <td>own</td>\n",
       "      <td>little</td>\n",
       "      <td>NaN</td>\n",
       "      <td>2096</td>\n",
       "      <td>12</td>\n",
       "      <td>education</td>\n",
       "      <td>7.647786</td>\n",
       "      <td>1.714286</td>\n",
       "    </tr>\n",
       "    <tr>\n",
       "      <th>3</th>\n",
       "      <td>3</td>\n",
       "      <td>45</td>\n",
       "      <td>male</td>\n",
       "      <td>2</td>\n",
       "      <td>free</td>\n",
       "      <td>little</td>\n",
       "      <td>little</td>\n",
       "      <td>7882</td>\n",
       "      <td>42</td>\n",
       "      <td>furniture/equipment</td>\n",
       "      <td>8.972337</td>\n",
       "      <td>1.701858</td>\n",
       "    </tr>\n",
       "    <tr>\n",
       "      <th>4</th>\n",
       "      <td>4</td>\n",
       "      <td>53</td>\n",
       "      <td>male</td>\n",
       "      <td>2</td>\n",
       "      <td>free</td>\n",
       "      <td>little</td>\n",
       "      <td>little</td>\n",
       "      <td>4870</td>\n",
       "      <td>24</td>\n",
       "      <td>car</td>\n",
       "      <td>8.490849</td>\n",
       "      <td>1.725279</td>\n",
       "    </tr>\n",
       "  </tbody>\n",
       "</table>\n",
       "</div>"
      ],
      "text/plain": [
       "   Unnamed: 0  Age     Sex  Job Housing Saving accounts Checking account  \\\n",
       "0           0   67    male    2     own             NaN           little   \n",
       "1           1   22  female    2     own          little         moderate   \n",
       "2           2   49    male    1     own          little              NaN   \n",
       "3           3   45    male    2    free          little           little   \n",
       "4           4   53    male    2    free          little           little   \n",
       "\n",
       "   Credit amount  Duration              Purpose  Transformed_Credit_Amount  \\\n",
       "0           1169         6             radio/TV                   7.063904   \n",
       "1           5951        48             radio/TV                   8.691315   \n",
       "2           2096        12            education                   7.647786   \n",
       "3           7882        42  furniture/equipment                   8.972337   \n",
       "4           4870        24                  car                   8.490849   \n",
       "\n",
       "   Transformed_Age  \n",
       "0         1.755661  \n",
       "1         1.573599  \n",
       "2         1.714286  \n",
       "3         1.701858  \n",
       "4         1.725279  "
      ]
     },
     "execution_count": 325,
     "metadata": {},
     "output_type": "execute_result"
    }
   ],
   "source": [
    "dataset.head()"
   ]
  },
  {
   "cell_type": "markdown",
   "id": "8b2dc776",
   "metadata": {},
   "source": [
    "## Job Feature"
   ]
  },
  {
   "cell_type": "code",
   "execution_count": 326,
   "id": "2edaeda3",
   "metadata": {},
   "outputs": [
    {
     "name": "stderr",
     "output_type": "stream",
     "text": [
      "C:\\Users\\jiten\\anaconda3\\lib\\site-packages\\seaborn\\_decorators.py:36: FutureWarning: Pass the following variable as a keyword arg: x. From version 0.12, the only valid positional argument will be `data`, and passing other arguments without an explicit keyword will result in an error or misinterpretation.\n",
      "  warnings.warn(\n"
     ]
    },
    {
     "data": {
      "text/plain": [
       "<AxesSubplot:xlabel='Job', ylabel='count'>"
      ]
     },
     "execution_count": 326,
     "metadata": {},
     "output_type": "execute_result"
    },
    {
     "data": {
      "image/png": "[encoded data removed]",
      "text/plain": [
       "<Figure size 432x288 with 1 Axes>"
      ]
     },
     "metadata": {
      "needs_background": "light"
     },
     "output_type": "display_data"
    }
   ],
   "source": [
    "sns.countplot(dataset['Job'])"
   ]
  },
  {
   "cell_type": "code",
   "execution_count": 327,
   "id": "68aa84ed",
   "metadata": {},
   "outputs": [
    {
     "data": {
      "text/plain": [
       "2    630\n",
       "1    200\n",
       "3    148\n",
       "0     22\n",
       "Name: Job, dtype: int64"
      ]
     },
     "execution_count": 327,
     "metadata": {},
     "output_type": "execute_result"
    }
   ],
   "source": [
    "dataset['Job'].value_counts()"
   ]
  },
  {
   "cell_type": "markdown",
   "id": "863c32c8",
   "metadata": {},
   "source": [
    "## Let's see how it impacts Credit Amount with the help of median"
   ]
  },
  {
   "cell_type": "code",
   "execution_count": 328,
   "id": "23353268",
   "metadata": {},
   "outputs": [
    {
     "name": "stdout",
     "output_type": "stream",
     "text": [
      "Median value of 2 ==> 2324.0\n",
      "Median value of 1 ==> 1622.0\n",
      "Median value of 3 ==> 4459.0\n",
      "Median value of 0 ==> 1416.0\n"
     ]
    }
   ],
   "source": [
    "for job_key in dataset['Job'].unique():\n",
    "    job_key_median_value = dataset[dataset.Job == job_key]['Credit amount'].median()\n",
    "    print(f'Median value of {job_key} ==> {job_key_median_value}')"
   ]
  },
  {
   "cell_type": "code",
   "execution_count": 329,
   "id": "5bfa8827",
   "metadata": {},
   "outputs": [
    {
     "name": "stdout",
     "output_type": "stream",
     "text": [
      "Median value of 2 ==> 7.751045025395933\n",
      "Median value of 1 ==> 7.391296439196326\n",
      "Median value of 3 ==> 8.40267940226709\n",
      "Median value of 0 ==> 7.254568811680535\n"
     ]
    }
   ],
   "source": [
    "for job_key in dataset['Job'].unique():\n",
    "    job_key_median_value = dataset[dataset.Job == job_key]['Transformed_Credit_Amount'].median()\n",
    "    print(f'Median value of {job_key} ==> {job_key_median_value}')"
   ]
  },
  {
   "cell_type": "markdown",
   "id": "fde72fbf",
   "metadata": {},
   "source": [
    "### From Median Values, we can see Job level 3 people tends to get more Credit Amount \n",
    "### Whereas people with Job level 0 tend to get low Credit Amount"
   ]
  },
  {
   "cell_type": "markdown",
   "id": "7f14a659",
   "metadata": {},
   "source": [
    "## Relation between Sex, Job and Credit Amount"
   ]
  },
  {
   "cell_type": "markdown",
   "id": "31a3d8f7",
   "metadata": {},
   "source": [
    "## For Males"
   ]
  },
  {
   "cell_type": "code",
   "execution_count": 330,
   "id": "c95bd3d7",
   "metadata": {},
   "outputs": [
    {
     "name": "stdout",
     "output_type": "stream",
     "text": [
      "Median value of Males for 2 ==> 2483.0\n",
      "Median value of Males for 1 ==> 1651.0\n",
      "Median value of Males for 3 ==> 4526.0\n",
      "Median value of Males for 0 ==> 2011.0\n"
     ]
    }
   ],
   "source": [
    "for job_key in dataset['Job'].unique():\n",
    "    job_key_median_value = dataset[(dataset.Job == job_key) & (dataset.Sex == 'male')]['Credit amount'].median()\n",
    "    print(f'Median value of Males for {job_key} ==> {job_key_median_value}')"
   ]
  },
  {
   "cell_type": "code",
   "execution_count": 331,
   "id": "7b63881f",
   "metadata": {},
   "outputs": [
    {
     "name": "stdout",
     "output_type": "stream",
     "text": [
      "Median value of Males for 2 ==> 7.817222785508166\n",
      "Median value of Males for 1 ==> 7.409133508994402\n",
      "Median value of Males for 3 ==> 8.417593826193484\n",
      "Median value of Males for 0 ==> 7.579276053969142\n"
     ]
    }
   ],
   "source": [
    "for job_key in dataset['Job'].unique():\n",
    "    job_key_median_value = dataset[(dataset.Job == job_key) & (dataset.Sex == 'male')]['Transformed_Credit_Amount'].median()\n",
    "    print(f'Median value of Males for {job_key} ==> {job_key_median_value}')"
   ]
  },
  {
   "cell_type": "markdown",
   "id": "9eb050bc",
   "metadata": {},
   "source": [
    "## For Females"
   ]
  },
  {
   "cell_type": "code",
   "execution_count": 332,
   "id": "fcac49b7",
   "metadata": {},
   "outputs": [
    {
     "name": "stdout",
     "output_type": "stream",
     "text": [
      "Median value of Females for 2 ==> 1957.0\n",
      "Median value of Females for 1 ==> 1570.0\n",
      "Median value of Females for 3 ==> 3568.0\n",
      "Median value of Females for 0 ==> 1191.5\n"
     ]
    }
   ],
   "source": [
    "for job_key in dataset['Job'].unique():\n",
    "    job_key_median_value = dataset[(dataset.Job == job_key) & (dataset.Sex == 'female')]['Credit amount'].median()\n",
    "    print(f'Median value of Females for {job_key} ==> {job_key_median_value}')"
   ]
  },
  {
   "cell_type": "code",
   "execution_count": 333,
   "id": "e0b558fb",
   "metadata": {},
   "outputs": [
    {
     "name": "stdout",
     "output_type": "stream",
     "text": [
      "Median value of Females for 2 ==> 7.579167967396076\n",
      "Median value of Females for 1 ==> 7.3588300869497525\n",
      "Median value of Females for 3 ==> 8.1797604936999\n",
      "Median value of Females for 0 ==> 7.082967504101745\n"
     ]
    }
   ],
   "source": [
    "for job_key in dataset['Job'].unique():\n",
    "    job_key_median_value = dataset[(dataset.Job == job_key) & (dataset.Sex == 'female')]['Transformed_Credit_Amount'].median()\n",
    "    print(f'Median value of Females for {job_key} ==> {job_key_median_value}')"
   ]
  },
  {
   "cell_type": "code",
   "execution_count": 334,
   "id": "e59d6cae",
   "metadata": {},
   "outputs": [
    {
     "data": {
      "text/html": [
       "<div>\n",
       "<style scoped>\n",
       "    .dataframe tbody tr th:only-of-type {\n",
       "        vertical-align: middle;\n",
       "    }\n",
       "\n",
       "    .dataframe tbody tr th {\n",
       "        vertical-align: top;\n",
       "    }\n",
       "\n",
       "    .dataframe thead th {\n",
       "        text-align: right;\n",
       "    }\n",
       "</style>\n",
       "<table border=\"1\" class=\"dataframe\">\n",
       "  <thead>\n",
       "    <tr style=\"text-align: right;\">\n",
       "      <th></th>\n",
       "      <th>Unnamed: 0</th>\n",
       "      <th>Age</th>\n",
       "      <th>Sex</th>\n",
       "      <th>Job</th>\n",
       "      <th>Housing</th>\n",
       "      <th>Saving accounts</th>\n",
       "      <th>Checking account</th>\n",
       "      <th>Credit amount</th>\n",
       "      <th>Duration</th>\n",
       "      <th>Purpose</th>\n",
       "      <th>Transformed_Credit_Amount</th>\n",
       "      <th>Transformed_Age</th>\n",
       "    </tr>\n",
       "  </thead>\n",
       "  <tbody>\n",
       "    <tr>\n",
       "      <th>0</th>\n",
       "      <td>0</td>\n",
       "      <td>67</td>\n",
       "      <td>male</td>\n",
       "      <td>2</td>\n",
       "      <td>own</td>\n",
       "      <td>NaN</td>\n",
       "      <td>little</td>\n",
       "      <td>1169</td>\n",
       "      <td>6</td>\n",
       "      <td>radio/TV</td>\n",
       "      <td>7.063904</td>\n",
       "      <td>1.755661</td>\n",
       "    </tr>\n",
       "    <tr>\n",
       "      <th>1</th>\n",
       "      <td>1</td>\n",
       "      <td>22</td>\n",
       "      <td>female</td>\n",
       "      <td>2</td>\n",
       "      <td>own</td>\n",
       "      <td>little</td>\n",
       "      <td>moderate</td>\n",
       "      <td>5951</td>\n",
       "      <td>48</td>\n",
       "      <td>radio/TV</td>\n",
       "      <td>8.691315</td>\n",
       "      <td>1.573599</td>\n",
       "    </tr>\n",
       "    <tr>\n",
       "      <th>2</th>\n",
       "      <td>2</td>\n",
       "      <td>49</td>\n",
       "      <td>male</td>\n",
       "      <td>1</td>\n",
       "      <td>own</td>\n",
       "      <td>little</td>\n",
       "      <td>NaN</td>\n",
       "      <td>2096</td>\n",
       "      <td>12</td>\n",
       "      <td>education</td>\n",
       "      <td>7.647786</td>\n",
       "      <td>1.714286</td>\n",
       "    </tr>\n",
       "    <tr>\n",
       "      <th>3</th>\n",
       "      <td>3</td>\n",
       "      <td>45</td>\n",
       "      <td>male</td>\n",
       "      <td>2</td>\n",
       "      <td>free</td>\n",
       "      <td>little</td>\n",
       "      <td>little</td>\n",
       "      <td>7882</td>\n",
       "      <td>42</td>\n",
       "      <td>furniture/equipment</td>\n",
       "      <td>8.972337</td>\n",
       "      <td>1.701858</td>\n",
       "    </tr>\n",
       "    <tr>\n",
       "      <th>4</th>\n",
       "      <td>4</td>\n",
       "      <td>53</td>\n",
       "      <td>male</td>\n",
       "      <td>2</td>\n",
       "      <td>free</td>\n",
       "      <td>little</td>\n",
       "      <td>little</td>\n",
       "      <td>4870</td>\n",
       "      <td>24</td>\n",
       "      <td>car</td>\n",
       "      <td>8.490849</td>\n",
       "      <td>1.725279</td>\n",
       "    </tr>\n",
       "  </tbody>\n",
       "</table>\n",
       "</div>"
      ],
      "text/plain": [
       "   Unnamed: 0  Age     Sex  Job Housing Saving accounts Checking account  \\\n",
       "0           0   67    male    2     own             NaN           little   \n",
       "1           1   22  female    2     own          little         moderate   \n",
       "2           2   49    male    1     own          little              NaN   \n",
       "3           3   45    male    2    free          little           little   \n",
       "4           4   53    male    2    free          little           little   \n",
       "\n",
       "   Credit amount  Duration              Purpose  Transformed_Credit_Amount  \\\n",
       "0           1169         6             radio/TV                   7.063904   \n",
       "1           5951        48             radio/TV                   8.691315   \n",
       "2           2096        12            education                   7.647786   \n",
       "3           7882        42  furniture/equipment                   8.972337   \n",
       "4           4870        24                  car                   8.490849   \n",
       "\n",
       "   Transformed_Age  \n",
       "0         1.755661  \n",
       "1         1.573599  \n",
       "2         1.714286  \n",
       "3         1.701858  \n",
       "4         1.725279  "
      ]
     },
     "execution_count": 334,
     "metadata": {},
     "output_type": "execute_result"
    }
   ],
   "source": [
    "dataset.head()"
   ]
  },
  {
   "cell_type": "markdown",
   "id": "657911ca",
   "metadata": {},
   "source": [
    "## Housing Feature"
   ]
  },
  {
   "cell_type": "code",
   "execution_count": 335,
   "id": "f2696749",
   "metadata": {},
   "outputs": [
    {
     "name": "stderr",
     "output_type": "stream",
     "text": [
      "C:\\Users\\jiten\\anaconda3\\lib\\site-packages\\seaborn\\_decorators.py:36: FutureWarning: Pass the following variable as a keyword arg: x. From version 0.12, the only valid positional argument will be `data`, and passing other arguments without an explicit keyword will result in an error or misinterpretation.\n",
      "  warnings.warn(\n"
     ]
    },
    {
     "data": {
      "text/plain": [
       "<AxesSubplot:xlabel='Housing', ylabel='count'>"
      ]
     },
     "execution_count": 335,
     "metadata": {},
     "output_type": "execute_result"
    },
    {
     "data": {
      "image/png": "[encoded data removed]",
      "text/plain": [
       "<Figure size 432x288 with 1 Axes>"
      ]
     },
     "metadata": {
      "needs_background": "light"
     },
     "output_type": "display_data"
    }
   ],
   "source": [
    "sns.countplot(dataset['Housing'])"
   ]
  },
  {
   "cell_type": "code",
   "execution_count": 336,
   "id": "e9664cc8",
   "metadata": {},
   "outputs": [
    {
     "data": {
      "text/plain": [
       "own     713\n",
       "rent    179\n",
       "free    108\n",
       "Name: Housing, dtype: int64"
      ]
     },
     "execution_count": 336,
     "metadata": {},
     "output_type": "execute_result"
    }
   ],
   "source": [
    "dataset['Housing'].value_counts()"
   ]
  },
  {
   "cell_type": "markdown",
   "id": "1757da0a",
   "metadata": {},
   "source": [
    "### From Median Values, we can see Housing Free  people tends to get more Credit Amount \n",
    "### Whereas people with Housing Own tend to get low Credit Amount"
   ]
  },
  {
   "cell_type": "code",
   "execution_count": 337,
   "id": "a116bd92",
   "metadata": {},
   "outputs": [
    {
     "name": "stdout",
     "output_type": "stream",
     "text": [
      "Median value for own ==> 2238.0\n",
      "Median value for free ==> 3800.5\n",
      "Median value for rent ==> 2301.0\n"
     ]
    }
   ],
   "source": [
    "for housing_key in dataset['Housing'].unique():\n",
    "    housing_key_median_value = dataset[dataset.Housing == housing_key]['Credit amount'].median()\n",
    "    print(f'Median value for {housing_key} ==> {housing_key_median_value}')"
   ]
  },
  {
   "cell_type": "code",
   "execution_count": 338,
   "id": "b10a5d60",
   "metadata": {},
   "outputs": [
    {
     "name": "stdout",
     "output_type": "stream",
     "text": [
      "Median value for own ==> 7.71333788887187\n",
      "Median value for free ==> 8.242822407832076\n",
      "Median value for rent ==> 7.741099090035366\n"
     ]
    }
   ],
   "source": [
    "for housing_key in dataset['Housing'].unique():\n",
    "    housing_key_median_value = dataset[dataset.Housing == housing_key]['Transformed_Credit_Amount'].median()\n",
    "    print(f'Median value for {housing_key} ==> {housing_key_median_value}')"
   ]
  },
  {
   "cell_type": "code",
   "execution_count": 339,
   "id": "96f85b72",
   "metadata": {},
   "outputs": [
    {
     "data": {
      "text/html": [
       "<div>\n",
       "<style scoped>\n",
       "    .dataframe tbody tr th:only-of-type {\n",
       "        vertical-align: middle;\n",
       "    }\n",
       "\n",
       "    .dataframe tbody tr th {\n",
       "        vertical-align: top;\n",
       "    }\n",
       "\n",
       "    .dataframe thead th {\n",
       "        text-align: right;\n",
       "    }\n",
       "</style>\n",
       "<table border=\"1\" class=\"dataframe\">\n",
       "  <thead>\n",
       "    <tr style=\"text-align: right;\">\n",
       "      <th></th>\n",
       "      <th>Unnamed: 0</th>\n",
       "      <th>Age</th>\n",
       "      <th>Sex</th>\n",
       "      <th>Job</th>\n",
       "      <th>Housing</th>\n",
       "      <th>Saving accounts</th>\n",
       "      <th>Checking account</th>\n",
       "      <th>Credit amount</th>\n",
       "      <th>Duration</th>\n",
       "      <th>Purpose</th>\n",
       "      <th>Transformed_Credit_Amount</th>\n",
       "      <th>Transformed_Age</th>\n",
       "    </tr>\n",
       "  </thead>\n",
       "  <tbody>\n",
       "    <tr>\n",
       "      <th>0</th>\n",
       "      <td>0</td>\n",
       "      <td>67</td>\n",
       "      <td>male</td>\n",
       "      <td>2</td>\n",
       "      <td>own</td>\n",
       "      <td>NaN</td>\n",
       "      <td>little</td>\n",
       "      <td>1169</td>\n",
       "      <td>6</td>\n",
       "      <td>radio/TV</td>\n",
       "      <td>7.063904</td>\n",
       "      <td>1.755661</td>\n",
       "    </tr>\n",
       "    <tr>\n",
       "      <th>1</th>\n",
       "      <td>1</td>\n",
       "      <td>22</td>\n",
       "      <td>female</td>\n",
       "      <td>2</td>\n",
       "      <td>own</td>\n",
       "      <td>little</td>\n",
       "      <td>moderate</td>\n",
       "      <td>5951</td>\n",
       "      <td>48</td>\n",
       "      <td>radio/TV</td>\n",
       "      <td>8.691315</td>\n",
       "      <td>1.573599</td>\n",
       "    </tr>\n",
       "    <tr>\n",
       "      <th>2</th>\n",
       "      <td>2</td>\n",
       "      <td>49</td>\n",
       "      <td>male</td>\n",
       "      <td>1</td>\n",
       "      <td>own</td>\n",
       "      <td>little</td>\n",
       "      <td>NaN</td>\n",
       "      <td>2096</td>\n",
       "      <td>12</td>\n",
       "      <td>education</td>\n",
       "      <td>7.647786</td>\n",
       "      <td>1.714286</td>\n",
       "    </tr>\n",
       "    <tr>\n",
       "      <th>3</th>\n",
       "      <td>3</td>\n",
       "      <td>45</td>\n",
       "      <td>male</td>\n",
       "      <td>2</td>\n",
       "      <td>free</td>\n",
       "      <td>little</td>\n",
       "      <td>little</td>\n",
       "      <td>7882</td>\n",
       "      <td>42</td>\n",
       "      <td>furniture/equipment</td>\n",
       "      <td>8.972337</td>\n",
       "      <td>1.701858</td>\n",
       "    </tr>\n",
       "    <tr>\n",
       "      <th>4</th>\n",
       "      <td>4</td>\n",
       "      <td>53</td>\n",
       "      <td>male</td>\n",
       "      <td>2</td>\n",
       "      <td>free</td>\n",
       "      <td>little</td>\n",
       "      <td>little</td>\n",
       "      <td>4870</td>\n",
       "      <td>24</td>\n",
       "      <td>car</td>\n",
       "      <td>8.490849</td>\n",
       "      <td>1.725279</td>\n",
       "    </tr>\n",
       "  </tbody>\n",
       "</table>\n",
       "</div>"
      ],
      "text/plain": [
       "   Unnamed: 0  Age     Sex  Job Housing Saving accounts Checking account  \\\n",
       "0           0   67    male    2     own             NaN           little   \n",
       "1           1   22  female    2     own          little         moderate   \n",
       "2           2   49    male    1     own          little              NaN   \n",
       "3           3   45    male    2    free          little           little   \n",
       "4           4   53    male    2    free          little           little   \n",
       "\n",
       "   Credit amount  Duration              Purpose  Transformed_Credit_Amount  \\\n",
       "0           1169         6             radio/TV                   7.063904   \n",
       "1           5951        48             radio/TV                   8.691315   \n",
       "2           2096        12            education                   7.647786   \n",
       "3           7882        42  furniture/equipment                   8.972337   \n",
       "4           4870        24                  car                   8.490849   \n",
       "\n",
       "   Transformed_Age  \n",
       "0         1.755661  \n",
       "1         1.573599  \n",
       "2         1.714286  \n",
       "3         1.701858  \n",
       "4         1.725279  "
      ]
     },
     "execution_count": 339,
     "metadata": {},
     "output_type": "execute_result"
    }
   ],
   "source": [
    "dataset.head()"
   ]
  },
  {
   "cell_type": "markdown",
   "id": "cf8c9ecc",
   "metadata": {},
   "source": [
    "## Saving accounts\t"
   ]
  },
  {
   "cell_type": "code",
   "execution_count": 340,
   "id": "af70d458",
   "metadata": {},
   "outputs": [
    {
     "name": "stderr",
     "output_type": "stream",
     "text": [
      "C:\\Users\\jiten\\anaconda3\\lib\\site-packages\\seaborn\\_decorators.py:36: FutureWarning: Pass the following variable as a keyword arg: x. From version 0.12, the only valid positional argument will be `data`, and passing other arguments without an explicit keyword will result in an error or misinterpretation.\n",
      "  warnings.warn(\n"
     ]
    },
    {
     "data": {
      "text/plain": [
       "<AxesSubplot:xlabel='Saving accounts', ylabel='count'>"
      ]
     },
     "execution_count": 340,
     "metadata": {},
     "output_type": "execute_result"
    },
    {
     "data": {
      "image/png": "[encoded data removed]",
      "text/plain": [
       "<Figure size 432x288 with 1 Axes>"
      ]
     },
     "metadata": {
      "needs_background": "light"
     },
     "output_type": "display_data"
    }
   ],
   "source": [
    "sns.countplot(dataset['Saving accounts'])"
   ]
  },
  {
   "cell_type": "code",
   "execution_count": 341,
   "id": "caceb140",
   "metadata": {},
   "outputs": [
    {
     "data": {
      "text/plain": [
       "own     45\n",
       "rent    12\n",
       "free     6\n",
       "Name: Housing, dtype: int64"
      ]
     },
     "execution_count": 341,
     "metadata": {},
     "output_type": "execute_result"
    }
   ],
   "source": [
    "dataset[dataset['Saving accounts'] == 'quite rich']['Housing'].value_counts()"
   ]
  },
  {
   "cell_type": "code",
   "execution_count": 342,
   "id": "811c98f7",
   "metadata": {},
   "outputs": [
    {
     "data": {
      "text/plain": [
       "own     37\n",
       "rent     9\n",
       "free     2\n",
       "Name: Housing, dtype: int64"
      ]
     },
     "execution_count": 342,
     "metadata": {},
     "output_type": "execute_result"
    }
   ],
   "source": [
    "dataset[dataset['Saving accounts'] == 'rich']['Housing'].value_counts()"
   ]
  },
  {
   "cell_type": "code",
   "execution_count": 343,
   "id": "a034d7cd",
   "metadata": {},
   "outputs": [
    {
     "data": {
      "text/plain": [
       "183"
      ]
     },
     "execution_count": 343,
     "metadata": {},
     "output_type": "execute_result"
    }
   ],
   "source": [
    "dataset['Saving accounts'].isna().sum()"
   ]
  },
  {
   "cell_type": "code",
   "execution_count": 344,
   "id": "2de432ca",
   "metadata": {},
   "outputs": [
    {
     "data": {
      "text/plain": [
       "23"
      ]
     },
     "execution_count": 344,
     "metadata": {},
     "output_type": "execute_result"
    }
   ],
   "source": [
    "len(dataset[(dataset['Housing'] == 'free') & (dataset['Saving accounts'].isna())])"
   ]
  },
  {
   "cell_type": "code",
   "execution_count": 345,
   "id": "54121396",
   "metadata": {},
   "outputs": [
    {
     "data": {
      "text/plain": [
       "130"
      ]
     },
     "execution_count": 345,
     "metadata": {},
     "output_type": "execute_result"
    }
   ],
   "source": [
    "len(dataset[(dataset['Housing'] == 'own') & (dataset['Saving accounts'].isna())])"
   ]
  },
  {
   "cell_type": "code",
   "execution_count": 346,
   "id": "3ae27bb7",
   "metadata": {},
   "outputs": [
    {
     "data": {
      "text/plain": [
       "30"
      ]
     },
     "execution_count": 346,
     "metadata": {},
     "output_type": "execute_result"
    }
   ],
   "source": [
    "len(dataset[(dataset['Housing'] == 'rent') & (dataset['Saving accounts'].isna())])"
   ]
  },
  {
   "cell_type": "code",
   "execution_count": 347,
   "id": "326b5abf",
   "metadata": {},
   "outputs": [],
   "source": [
    "dataset['Imputed_Saving_accounts'] = dataset['Saving accounts'].fillna('Not Available')"
   ]
  },
  {
   "cell_type": "code",
   "execution_count": 348,
   "id": "900bbbea",
   "metadata": {},
   "outputs": [
    {
     "name": "stderr",
     "output_type": "stream",
     "text": [
      "C:\\Users\\jiten\\anaconda3\\lib\\site-packages\\seaborn\\_decorators.py:36: FutureWarning: Pass the following variable as a keyword arg: x. From version 0.12, the only valid positional argument will be `data`, and passing other arguments without an explicit keyword will result in an error or misinterpretation.\n",
      "  warnings.warn(\n"
     ]
    },
    {
     "data": {
      "text/plain": [
       "<AxesSubplot:xlabel='Imputed_Saving_accounts', ylabel='count'>"
      ]
     },
     "execution_count": 348,
     "metadata": {},
     "output_type": "execute_result"
    },
    {
     "data": {
      "image/png": "[encoded data removed]",
      "text/plain": [
       "<Figure size 432x288 with 1 Axes>"
      ]
     },
     "metadata": {
      "needs_background": "light"
     },
     "output_type": "display_data"
    }
   ],
   "source": [
    "sns.countplot(dataset['Imputed_Saving_accounts'])"
   ]
  },
  {
   "cell_type": "code",
   "execution_count": 349,
   "id": "7c1cc80b",
   "metadata": {},
   "outputs": [
    {
     "data": {
      "text/html": [
       "<div>\n",
       "<style scoped>\n",
       "    .dataframe tbody tr th:only-of-type {\n",
       "        vertical-align: middle;\n",
       "    }\n",
       "\n",
       "    .dataframe tbody tr th {\n",
       "        vertical-align: top;\n",
       "    }\n",
       "\n",
       "    .dataframe thead th {\n",
       "        text-align: right;\n",
       "    }\n",
       "</style>\n",
       "<table border=\"1\" class=\"dataframe\">\n",
       "  <thead>\n",
       "    <tr style=\"text-align: right;\">\n",
       "      <th></th>\n",
       "      <th>Unnamed: 0</th>\n",
       "      <th>Age</th>\n",
       "      <th>Sex</th>\n",
       "      <th>Job</th>\n",
       "      <th>Housing</th>\n",
       "      <th>Saving accounts</th>\n",
       "      <th>Checking account</th>\n",
       "      <th>Credit amount</th>\n",
       "      <th>Duration</th>\n",
       "      <th>Purpose</th>\n",
       "      <th>Transformed_Credit_Amount</th>\n",
       "      <th>Transformed_Age</th>\n",
       "      <th>Imputed_Saving_accounts</th>\n",
       "    </tr>\n",
       "  </thead>\n",
       "  <tbody>\n",
       "    <tr>\n",
       "      <th>0</th>\n",
       "      <td>0</td>\n",
       "      <td>67</td>\n",
       "      <td>male</td>\n",
       "      <td>2</td>\n",
       "      <td>own</td>\n",
       "      <td>NaN</td>\n",
       "      <td>little</td>\n",
       "      <td>1169</td>\n",
       "      <td>6</td>\n",
       "      <td>radio/TV</td>\n",
       "      <td>7.063904</td>\n",
       "      <td>1.755661</td>\n",
       "      <td>Not Available</td>\n",
       "    </tr>\n",
       "    <tr>\n",
       "      <th>1</th>\n",
       "      <td>1</td>\n",
       "      <td>22</td>\n",
       "      <td>female</td>\n",
       "      <td>2</td>\n",
       "      <td>own</td>\n",
       "      <td>little</td>\n",
       "      <td>moderate</td>\n",
       "      <td>5951</td>\n",
       "      <td>48</td>\n",
       "      <td>radio/TV</td>\n",
       "      <td>8.691315</td>\n",
       "      <td>1.573599</td>\n",
       "      <td>little</td>\n",
       "    </tr>\n",
       "    <tr>\n",
       "      <th>2</th>\n",
       "      <td>2</td>\n",
       "      <td>49</td>\n",
       "      <td>male</td>\n",
       "      <td>1</td>\n",
       "      <td>own</td>\n",
       "      <td>little</td>\n",
       "      <td>NaN</td>\n",
       "      <td>2096</td>\n",
       "      <td>12</td>\n",
       "      <td>education</td>\n",
       "      <td>7.647786</td>\n",
       "      <td>1.714286</td>\n",
       "      <td>little</td>\n",
       "    </tr>\n",
       "    <tr>\n",
       "      <th>3</th>\n",
       "      <td>3</td>\n",
       "      <td>45</td>\n",
       "      <td>male</td>\n",
       "      <td>2</td>\n",
       "      <td>free</td>\n",
       "      <td>little</td>\n",
       "      <td>little</td>\n",
       "      <td>7882</td>\n",
       "      <td>42</td>\n",
       "      <td>furniture/equipment</td>\n",
       "      <td>8.972337</td>\n",
       "      <td>1.701858</td>\n",
       "      <td>little</td>\n",
       "    </tr>\n",
       "    <tr>\n",
       "      <th>4</th>\n",
       "      <td>4</td>\n",
       "      <td>53</td>\n",
       "      <td>male</td>\n",
       "      <td>2</td>\n",
       "      <td>free</td>\n",
       "      <td>little</td>\n",
       "      <td>little</td>\n",
       "      <td>4870</td>\n",
       "      <td>24</td>\n",
       "      <td>car</td>\n",
       "      <td>8.490849</td>\n",
       "      <td>1.725279</td>\n",
       "      <td>little</td>\n",
       "    </tr>\n",
       "  </tbody>\n",
       "</table>\n",
       "</div>"
      ],
      "text/plain": [
       "   Unnamed: 0  Age     Sex  Job Housing Saving accounts Checking account  \\\n",
       "0           0   67    male    2     own             NaN           little   \n",
       "1           1   22  female    2     own          little         moderate   \n",
       "2           2   49    male    1     own          little              NaN   \n",
       "3           3   45    male    2    free          little           little   \n",
       "4           4   53    male    2    free          little           little   \n",
       "\n",
       "   Credit amount  Duration              Purpose  Transformed_Credit_Amount  \\\n",
       "0           1169         6             radio/TV                   7.063904   \n",
       "1           5951        48             radio/TV                   8.691315   \n",
       "2           2096        12            education                   7.647786   \n",
       "3           7882        42  furniture/equipment                   8.972337   \n",
       "4           4870        24                  car                   8.490849   \n",
       "\n",
       "   Transformed_Age Imputed_Saving_accounts  \n",
       "0         1.755661           Not Available  \n",
       "1         1.573599                  little  \n",
       "2         1.714286                  little  \n",
       "3         1.701858                  little  \n",
       "4         1.725279                  little  "
      ]
     },
     "execution_count": 349,
     "metadata": {},
     "output_type": "execute_result"
    }
   ],
   "source": [
    "dataset.head()"
   ]
  },
  {
   "cell_type": "markdown",
   "id": "704d75ae",
   "metadata": {},
   "source": [
    "## Checking account Feature"
   ]
  },
  {
   "cell_type": "code",
   "execution_count": 350,
   "id": "d9ac33d8",
   "metadata": {},
   "outputs": [
    {
     "name": "stderr",
     "output_type": "stream",
     "text": [
      "C:\\Users\\jiten\\anaconda3\\lib\\site-packages\\seaborn\\_decorators.py:36: FutureWarning: Pass the following variable as a keyword arg: x. From version 0.12, the only valid positional argument will be `data`, and passing other arguments without an explicit keyword will result in an error or misinterpretation.\n",
      "  warnings.warn(\n"
     ]
    },
    {
     "data": {
      "text/plain": [
       "<AxesSubplot:xlabel='Checking account', ylabel='count'>"
      ]
     },
     "execution_count": 350,
     "metadata": {},
     "output_type": "execute_result"
    },
    {
     "data": {
      "image/png": "[encoded data removed]",
      "text/plain": [
       "<Figure size 432x288 with 1 Axes>"
      ]
     },
     "metadata": {
      "needs_background": "light"
     },
     "output_type": "display_data"
    }
   ],
   "source": [
    "sns.countplot(dataset['Checking account'])"
   ]
  },
  {
   "cell_type": "code",
   "execution_count": 351,
   "id": "f5d714b4",
   "metadata": {},
   "outputs": [
    {
     "data": {
      "text/plain": [
       "little      274\n",
       "moderate    269\n",
       "rich         63\n",
       "Name: Checking account, dtype: int64"
      ]
     },
     "execution_count": 351,
     "metadata": {},
     "output_type": "execute_result"
    }
   ],
   "source": [
    "dataset['Checking account'].value_counts()"
   ]
  },
  {
   "cell_type": "code",
   "execution_count": 352,
   "id": "659d62eb",
   "metadata": {},
   "outputs": [
    {
     "data": {
      "text/plain": [
       "394"
      ]
     },
     "execution_count": 352,
     "metadata": {},
     "output_type": "execute_result"
    }
   ],
   "source": [
    "dataset['Checking account'].isna().sum()"
   ]
  },
  {
   "cell_type": "code",
   "execution_count": 353,
   "id": "ca17c4f6",
   "metadata": {},
   "outputs": [],
   "source": [
    "dataset['Imputed_Checking_Account'] = dataset['Checking account'].fillna('Not Available')"
   ]
  },
  {
   "cell_type": "markdown",
   "id": "b1befdb2",
   "metadata": {},
   "source": [
    "## Duration"
   ]
  },
  {
   "cell_type": "code",
   "execution_count": 354,
   "id": "85c4e84a",
   "metadata": {},
   "outputs": [
    {
     "name": "stderr",
     "output_type": "stream",
     "text": [
      "C:\\Users\\jiten\\anaconda3\\lib\\site-packages\\seaborn\\distributions.py:2619: FutureWarning: `distplot` is a deprecated function and will be removed in a future version. Please adapt your code to use either `displot` (a figure-level function with similar flexibility) or `histplot` (an axes-level function for histograms).\n",
      "  warnings.warn(msg, FutureWarning)\n"
     ]
    },
    {
     "data": {
      "text/plain": [
       "<AxesSubplot:xlabel='Duration', ylabel='Density'>"
      ]
     },
     "execution_count": 354,
     "metadata": {},
     "output_type": "execute_result"
    },
    {
     "data": {
      "image/png": "[encoded data removed]",
      "text/plain": [
       "<Figure size 432x288 with 1 Axes>"
      ]
     },
     "metadata": {
      "needs_background": "light"
     },
     "output_type": "display_data"
    }
   ],
   "source": [
    "sns.distplot(dataset['Duration'])"
   ]
  },
  {
   "cell_type": "code",
   "execution_count": 355,
   "id": "950e68dc",
   "metadata": {},
   "outputs": [
    {
     "name": "stdout",
     "output_type": "stream",
     "text": [
      "1.0941841715555418\n"
     ]
    },
    {
     "name": "stderr",
     "output_type": "stream",
     "text": [
      "C:\\Users\\jiten\\anaconda3\\lib\\site-packages\\seaborn\\distributions.py:2619: FutureWarning: `distplot` is a deprecated function and will be removed in a future version. Please adapt your code to use either `displot` (a figure-level function with similar flexibility) or `histplot` (an axes-level function for histograms).\n",
      "  warnings.warn(msg, FutureWarning)\n"
     ]
    },
    {
     "data": {
      "image/png": "[encoded data removed]",
      "text/plain": [
       "<Figure size 432x288 with 1 Axes>"
      ]
     },
     "metadata": {
      "needs_background": "light"
     },
     "output_type": "display_data"
    },
    {
     "name": "stdout",
     "output_type": "stream",
     "text": [
      "0.061195515635231325\n"
     ]
    },
    {
     "name": "stderr",
     "output_type": "stream",
     "text": [
      "C:\\Users\\jiten\\anaconda3\\lib\\site-packages\\seaborn\\distributions.py:2619: FutureWarning: `distplot` is a deprecated function and will be removed in a future version. Please adapt your code to use either `displot` (a figure-level function with similar flexibility) or `histplot` (an axes-level function for histograms).\n",
      "  warnings.warn(msg, FutureWarning)\n"
     ]
    },
    {
     "data": {
      "image/png": "[encoded data removed]",
      "text/plain": [
       "<Figure size 432x288 with 1 Axes>"
      ]
     },
     "metadata": {
      "needs_background": "light"
     },
     "output_type": "display_data"
    }
   ],
   "source": [
    "modify_boxcox_value('Duration', 0.15)"
   ]
  },
  {
   "cell_type": "code",
   "execution_count": 356,
   "id": "5e1522d2",
   "metadata": {},
   "outputs": [],
   "source": [
    "dataset['Transformed_Duration'] = boxcox(dataset['Duration'], 0.15)"
   ]
  },
  {
   "cell_type": "code",
   "execution_count": 357,
   "id": "1fc38edf",
   "metadata": {},
   "outputs": [
    {
     "data": {
      "text/plain": [
       "<AxesSubplot:xlabel='Duration', ylabel='Credit amount'>"
      ]
     },
     "execution_count": 357,
     "metadata": {},
     "output_type": "execute_result"
    },
    {
     "data": {
      "image/png": "[encoded data removed]",
      "text/plain": [
       "<Figure size 432x288 with 1 Axes>"
      ]
     },
     "metadata": {
      "needs_background": "light"
     },
     "output_type": "display_data"
    }
   ],
   "source": [
    "sns.scatterplot(x='Duration', y='Credit amount', data=dataset)"
   ]
  },
  {
   "cell_type": "code",
   "execution_count": 358,
   "id": "61409478",
   "metadata": {},
   "outputs": [
    {
     "data": {
      "text/plain": [
       "<AxesSubplot:xlabel='Duration', ylabel='Transformed_Credit_Amount'>"
      ]
     },
     "execution_count": 358,
     "metadata": {},
     "output_type": "execute_result"
    },
    {
     "data": {
      "image/png": "[encoded data removed]",
      "text/plain": [
       "<Figure size 432x288 with 1 Axes>"
      ]
     },
     "metadata": {
      "needs_background": "light"
     },
     "output_type": "display_data"
    }
   ],
   "source": [
    "sns.scatterplot(x='Duration', y='Transformed_Credit_Amount', data=dataset)"
   ]
  },
  {
   "cell_type": "markdown",
   "id": "290fe1cb",
   "metadata": {},
   "source": [
    "## Purpose Feature"
   ]
  },
  {
   "cell_type": "code",
   "execution_count": 359,
   "id": "7e556867",
   "metadata": {},
   "outputs": [
    {
     "name": "stderr",
     "output_type": "stream",
     "text": [
      "C:\\Users\\jiten\\anaconda3\\lib\\site-packages\\seaborn\\_decorators.py:36: FutureWarning: Pass the following variable as a keyword arg: x. From version 0.12, the only valid positional argument will be `data`, and passing other arguments without an explicit keyword will result in an error or misinterpretation.\n",
      "  warnings.warn(\n"
     ]
    },
    {
     "data": {
      "text/plain": [
       "<AxesSubplot:xlabel='Purpose', ylabel='count'>"
      ]
     },
     "execution_count": 359,
     "metadata": {},
     "output_type": "execute_result"
    },
    {
     "data": {
      "image/png": "[encoded data removed]",
      "text/plain": [
       "<Figure size 432x288 with 1 Axes>"
      ]
     },
     "metadata": {
      "needs_background": "light"
     },
     "output_type": "display_data"
    }
   ],
   "source": [
    "sns.countplot(dataset['Purpose'])"
   ]
  },
  {
   "cell_type": "code",
   "execution_count": 360,
   "id": "62dbe7e2",
   "metadata": {},
   "outputs": [
    {
     "data": {
      "text/plain": [
       "car                    337\n",
       "radio/TV               280\n",
       "furniture/equipment    181\n",
       "business                97\n",
       "education               59\n",
       "repairs                 22\n",
       "domestic appliances     12\n",
       "vacation/others         12\n",
       "Name: Purpose, dtype: int64"
      ]
     },
     "execution_count": 360,
     "metadata": {},
     "output_type": "execute_result"
    }
   ],
   "source": [
    "dataset['Purpose'].value_counts()"
   ]
  },
  {
   "cell_type": "code",
   "execution_count": 361,
   "id": "40cba9ad",
   "metadata": {},
   "outputs": [
    {
     "data": {
      "text/html": [
       "<div>\n",
       "<style scoped>\n",
       "    .dataframe tbody tr th:only-of-type {\n",
       "        vertical-align: middle;\n",
       "    }\n",
       "\n",
       "    .dataframe tbody tr th {\n",
       "        vertical-align: top;\n",
       "    }\n",
       "\n",
       "    .dataframe thead th {\n",
       "        text-align: right;\n",
       "    }\n",
       "</style>\n",
       "<table border=\"1\" class=\"dataframe\">\n",
       "  <thead>\n",
       "    <tr style=\"text-align: right;\">\n",
       "      <th></th>\n",
       "      <th>Unnamed: 0</th>\n",
       "      <th>Age</th>\n",
       "      <th>Sex</th>\n",
       "      <th>Job</th>\n",
       "      <th>Housing</th>\n",
       "      <th>Saving accounts</th>\n",
       "      <th>Checking account</th>\n",
       "      <th>Credit amount</th>\n",
       "      <th>Duration</th>\n",
       "      <th>Purpose</th>\n",
       "      <th>Transformed_Credit_Amount</th>\n",
       "      <th>Transformed_Age</th>\n",
       "      <th>Imputed_Saving_accounts</th>\n",
       "      <th>Imputed_Checking_Account</th>\n",
       "      <th>Transformed_Duration</th>\n",
       "    </tr>\n",
       "  </thead>\n",
       "  <tbody>\n",
       "    <tr>\n",
       "      <th>0</th>\n",
       "      <td>0</td>\n",
       "      <td>67</td>\n",
       "      <td>male</td>\n",
       "      <td>2</td>\n",
       "      <td>own</td>\n",
       "      <td>NaN</td>\n",
       "      <td>little</td>\n",
       "      <td>1169</td>\n",
       "      <td>6</td>\n",
       "      <td>radio/TV</td>\n",
       "      <td>7.063904</td>\n",
       "      <td>1.755661</td>\n",
       "      <td>Not Available</td>\n",
       "      <td>little</td>\n",
       "      <td>2.055642</td>\n",
       "    </tr>\n",
       "    <tr>\n",
       "      <th>1</th>\n",
       "      <td>1</td>\n",
       "      <td>22</td>\n",
       "      <td>female</td>\n",
       "      <td>2</td>\n",
       "      <td>own</td>\n",
       "      <td>little</td>\n",
       "      <td>moderate</td>\n",
       "      <td>5951</td>\n",
       "      <td>48</td>\n",
       "      <td>radio/TV</td>\n",
       "      <td>8.691315</td>\n",
       "      <td>1.573599</td>\n",
       "      <td>little</td>\n",
       "      <td>moderate</td>\n",
       "      <td>5.248357</td>\n",
       "    </tr>\n",
       "    <tr>\n",
       "      <th>2</th>\n",
       "      <td>2</td>\n",
       "      <td>49</td>\n",
       "      <td>male</td>\n",
       "      <td>1</td>\n",
       "      <td>own</td>\n",
       "      <td>little</td>\n",
       "      <td>NaN</td>\n",
       "      <td>2096</td>\n",
       "      <td>12</td>\n",
       "      <td>education</td>\n",
       "      <td>7.647786</td>\n",
       "      <td>1.714286</td>\n",
       "      <td>little</td>\n",
       "      <td>Not Available</td>\n",
       "      <td>3.011340</td>\n",
       "    </tr>\n",
       "    <tr>\n",
       "      <th>3</th>\n",
       "      <td>3</td>\n",
       "      <td>45</td>\n",
       "      <td>male</td>\n",
       "      <td>2</td>\n",
       "      <td>free</td>\n",
       "      <td>little</td>\n",
       "      <td>little</td>\n",
       "      <td>7882</td>\n",
       "      <td>42</td>\n",
       "      <td>furniture/equipment</td>\n",
       "      <td>8.972337</td>\n",
       "      <td>1.701858</td>\n",
       "      <td>little</td>\n",
       "      <td>little</td>\n",
       "      <td>5.012077</td>\n",
       "    </tr>\n",
       "    <tr>\n",
       "      <th>4</th>\n",
       "      <td>4</td>\n",
       "      <td>53</td>\n",
       "      <td>male</td>\n",
       "      <td>2</td>\n",
       "      <td>free</td>\n",
       "      <td>little</td>\n",
       "      <td>little</td>\n",
       "      <td>4870</td>\n",
       "      <td>24</td>\n",
       "      <td>car</td>\n",
       "      <td>8.490849</td>\n",
       "      <td>1.725279</td>\n",
       "      <td>little</td>\n",
       "      <td>little</td>\n",
       "      <td>4.071754</td>\n",
       "    </tr>\n",
       "  </tbody>\n",
       "</table>\n",
       "</div>"
      ],
      "text/plain": [
       "   Unnamed: 0  Age     Sex  Job Housing Saving accounts Checking account  \\\n",
       "0           0   67    male    2     own             NaN           little   \n",
       "1           1   22  female    2     own          little         moderate   \n",
       "2           2   49    male    1     own          little              NaN   \n",
       "3           3   45    male    2    free          little           little   \n",
       "4           4   53    male    2    free          little           little   \n",
       "\n",
       "   Credit amount  Duration              Purpose  Transformed_Credit_Amount  \\\n",
       "0           1169         6             radio/TV                   7.063904   \n",
       "1           5951        48             radio/TV                   8.691315   \n",
       "2           2096        12            education                   7.647786   \n",
       "3           7882        42  furniture/equipment                   8.972337   \n",
       "4           4870        24                  car                   8.490849   \n",
       "\n",
       "   Transformed_Age Imputed_Saving_accounts Imputed_Checking_Account  \\\n",
       "0         1.755661           Not Available                   little   \n",
       "1         1.573599                  little                 moderate   \n",
       "2         1.714286                  little            Not Available   \n",
       "3         1.701858                  little                   little   \n",
       "4         1.725279                  little                   little   \n",
       "\n",
       "   Transformed_Duration  \n",
       "0              2.055642  \n",
       "1              5.248357  \n",
       "2              3.011340  \n",
       "3              5.012077  \n",
       "4              4.071754  "
      ]
     },
     "execution_count": 361,
     "metadata": {},
     "output_type": "execute_result"
    }
   ],
   "source": [
    "dataset.head()"
   ]
  },
  {
   "cell_type": "markdown",
   "id": "5c12081e",
   "metadata": {},
   "source": [
    "## Encoding Categorical to Numerical"
   ]
  },
  {
   "cell_type": "code",
   "execution_count": 362,
   "id": "97f65233",
   "metadata": {},
   "outputs": [],
   "source": [
    "from sklearn.preprocessing import LabelEncoder, OneHotEncoder"
   ]
  },
  {
   "cell_type": "code",
   "execution_count": 363,
   "id": "466b95de",
   "metadata": {},
   "outputs": [],
   "source": [
    "categorical_features = [\n",
    "    'Sex', 'Job', 'Housing',\n",
    "    'Saving accounts', 'Checking account',\n",
    "    'Purpose'\n",
    "]"
   ]
  },
  {
   "cell_type": "code",
   "execution_count": 364,
   "id": "15f435cc",
   "metadata": {},
   "outputs": [
    {
     "data": {
      "text/plain": [
       "Index(['Unnamed: 0', 'Age', 'Sex', 'Job', 'Housing', 'Saving accounts',\n",
       "       'Checking account', 'Credit amount', 'Duration', 'Purpose',\n",
       "       'Transformed_Credit_Amount', 'Transformed_Age',\n",
       "       'Imputed_Saving_accounts', 'Imputed_Checking_Account',\n",
       "       'Transformed_Duration'],\n",
       "      dtype='object')"
      ]
     },
     "execution_count": 364,
     "metadata": {},
     "output_type": "execute_result"
    }
   ],
   "source": [
    "dataset.columns"
   ]
  },
  {
   "cell_type": "code",
   "execution_count": 365,
   "id": "a5e4ec21",
   "metadata": {},
   "outputs": [],
   "source": [
    "numerical_features = [\n",
    "    'Transformed_Age', 'Transformed_Duration', \n",
    "    'Transformed_Credit_Amount'\n",
    "]\n",
    "\n",
    "catgeorical_features = [\n",
    "    'Sex', 'Job', 'Housing', \n",
    "    'Purpose', 'Imputed_Saving_accounts',\n",
    "    'Imputed_Checking_Account'\n",
    "]\n",
    "\n",
    "target_feature = ['Transformed_Credit_Amount']"
   ]
  },
  {
   "cell_type": "code",
   "execution_count": 366,
   "id": "59eca198",
   "metadata": {},
   "outputs": [],
   "source": [
    "features_for_model = numerical_features + catgeorical_features + target_feature"
   ]
  },
  {
   "cell_type": "code",
   "execution_count": 367,
   "id": "48eeba8f",
   "metadata": {},
   "outputs": [
    {
     "data": {
      "text/html": [
       "<div>\n",
       "<style scoped>\n",
       "    .dataframe tbody tr th:only-of-type {\n",
       "        vertical-align: middle;\n",
       "    }\n",
       "\n",
       "    .dataframe tbody tr th {\n",
       "        vertical-align: top;\n",
       "    }\n",
       "\n",
       "    .dataframe thead th {\n",
       "        text-align: right;\n",
       "    }\n",
       "</style>\n",
       "<table border=\"1\" class=\"dataframe\">\n",
       "  <thead>\n",
       "    <tr style=\"text-align: right;\">\n",
       "      <th></th>\n",
       "      <th>Transformed_Age</th>\n",
       "      <th>Transformed_Duration</th>\n",
       "      <th>Transformed_Credit_Amount</th>\n",
       "      <th>Sex</th>\n",
       "      <th>Job</th>\n",
       "      <th>Housing</th>\n",
       "      <th>Purpose</th>\n",
       "      <th>Imputed_Saving_accounts</th>\n",
       "      <th>Imputed_Checking_Account</th>\n",
       "      <th>Transformed_Credit_Amount</th>\n",
       "    </tr>\n",
       "  </thead>\n",
       "  <tbody>\n",
       "    <tr>\n",
       "      <th>0</th>\n",
       "      <td>1.755661</td>\n",
       "      <td>2.055642</td>\n",
       "      <td>7.063904</td>\n",
       "      <td>male</td>\n",
       "      <td>2</td>\n",
       "      <td>own</td>\n",
       "      <td>radio/TV</td>\n",
       "      <td>Not Available</td>\n",
       "      <td>little</td>\n",
       "      <td>7.063904</td>\n",
       "    </tr>\n",
       "    <tr>\n",
       "      <th>1</th>\n",
       "      <td>1.573599</td>\n",
       "      <td>5.248357</td>\n",
       "      <td>8.691315</td>\n",
       "      <td>female</td>\n",
       "      <td>2</td>\n",
       "      <td>own</td>\n",
       "      <td>radio/TV</td>\n",
       "      <td>little</td>\n",
       "      <td>moderate</td>\n",
       "      <td>8.691315</td>\n",
       "    </tr>\n",
       "    <tr>\n",
       "      <th>2</th>\n",
       "      <td>1.714286</td>\n",
       "      <td>3.011340</td>\n",
       "      <td>7.647786</td>\n",
       "      <td>male</td>\n",
       "      <td>1</td>\n",
       "      <td>own</td>\n",
       "      <td>education</td>\n",
       "      <td>little</td>\n",
       "      <td>Not Available</td>\n",
       "      <td>7.647786</td>\n",
       "    </tr>\n",
       "    <tr>\n",
       "      <th>3</th>\n",
       "      <td>1.701858</td>\n",
       "      <td>5.012077</td>\n",
       "      <td>8.972337</td>\n",
       "      <td>male</td>\n",
       "      <td>2</td>\n",
       "      <td>free</td>\n",
       "      <td>furniture/equipment</td>\n",
       "      <td>little</td>\n",
       "      <td>little</td>\n",
       "      <td>8.972337</td>\n",
       "    </tr>\n",
       "    <tr>\n",
       "      <th>4</th>\n",
       "      <td>1.725279</td>\n",
       "      <td>4.071754</td>\n",
       "      <td>8.490849</td>\n",
       "      <td>male</td>\n",
       "      <td>2</td>\n",
       "      <td>free</td>\n",
       "      <td>car</td>\n",
       "      <td>little</td>\n",
       "      <td>little</td>\n",
       "      <td>8.490849</td>\n",
       "    </tr>\n",
       "  </tbody>\n",
       "</table>\n",
       "</div>"
      ],
      "text/plain": [
       "   Transformed_Age  Transformed_Duration  Transformed_Credit_Amount     Sex  \\\n",
       "0         1.755661              2.055642                   7.063904    male   \n",
       "1         1.573599              5.248357                   8.691315  female   \n",
       "2         1.714286              3.011340                   7.647786    male   \n",
       "3         1.701858              5.012077                   8.972337    male   \n",
       "4         1.725279              4.071754                   8.490849    male   \n",
       "\n",
       "   Job Housing              Purpose Imputed_Saving_accounts  \\\n",
       "0    2     own             radio/TV           Not Available   \n",
       "1    2     own             radio/TV                  little   \n",
       "2    1     own            education                  little   \n",
       "3    2    free  furniture/equipment                  little   \n",
       "4    2    free                  car                  little   \n",
       "\n",
       "  Imputed_Checking_Account  Transformed_Credit_Amount  \n",
       "0                   little                   7.063904  \n",
       "1                 moderate                   8.691315  \n",
       "2            Not Available                   7.647786  \n",
       "3                   little                   8.972337  \n",
       "4                   little                   8.490849  "
      ]
     },
     "execution_count": 367,
     "metadata": {},
     "output_type": "execute_result"
    }
   ],
   "source": [
    "modelling_dataset = dataset[features_for_model]\n",
    "\n",
    "modelling_dataset.head()"
   ]
  },
  {
   "cell_type": "code",
   "execution_count": 368,
   "id": "d49ab4a4",
   "metadata": {},
   "outputs": [
    {
     "name": "stderr",
     "output_type": "stream",
     "text": [
      "C:\\Users\\jiten\\AppData\\Local\\Temp/ipykernel_12504/2949998538.py:4: SettingWithCopyWarning: \n",
      "A value is trying to be set on a copy of a slice from a DataFrame.\n",
      "Try using .loc[row_indexer,col_indexer] = value instead\n",
      "\n",
      "See the caveats in the documentation: https://pandas.pydata.org/pandas-docs/stable/user_guide/indexing.html#returning-a-view-versus-a-copy\n",
      "  modelling_dataset[col] = label_encoder.fit_transform(modelling_dataset[col])\n"
     ]
    }
   ],
   "source": [
    "label_encoder = LabelEncoder()\n",
    "\n",
    "for col in catgeorical_features:\n",
    "    modelling_dataset[col] = label_encoder.fit_transform(modelling_dataset[col])"
   ]
  },
  {
   "cell_type": "code",
   "execution_count": 369,
   "id": "c04ff140",
   "metadata": {},
   "outputs": [
    {
     "data": {
      "text/html": [
       "<div>\n",
       "<style scoped>\n",
       "    .dataframe tbody tr th:only-of-type {\n",
       "        vertical-align: middle;\n",
       "    }\n",
       "\n",
       "    .dataframe tbody tr th {\n",
       "        vertical-align: top;\n",
       "    }\n",
       "\n",
       "    .dataframe thead th {\n",
       "        text-align: right;\n",
       "    }\n",
       "</style>\n",
       "<table border=\"1\" class=\"dataframe\">\n",
       "  <thead>\n",
       "    <tr style=\"text-align: right;\">\n",
       "      <th></th>\n",
       "      <th>Transformed_Age</th>\n",
       "      <th>Transformed_Duration</th>\n",
       "      <th>Transformed_Credit_Amount</th>\n",
       "      <th>Sex</th>\n",
       "      <th>Job</th>\n",
       "      <th>Housing</th>\n",
       "      <th>Purpose</th>\n",
       "      <th>Imputed_Saving_accounts</th>\n",
       "      <th>Imputed_Checking_Account</th>\n",
       "      <th>Transformed_Credit_Amount</th>\n",
       "    </tr>\n",
       "  </thead>\n",
       "  <tbody>\n",
       "    <tr>\n",
       "      <th>0</th>\n",
       "      <td>1.755661</td>\n",
       "      <td>2.055642</td>\n",
       "      <td>7.063904</td>\n",
       "      <td>1</td>\n",
       "      <td>2</td>\n",
       "      <td>1</td>\n",
       "      <td>5</td>\n",
       "      <td>0</td>\n",
       "      <td>1</td>\n",
       "      <td>7.063904</td>\n",
       "    </tr>\n",
       "    <tr>\n",
       "      <th>1</th>\n",
       "      <td>1.573599</td>\n",
       "      <td>5.248357</td>\n",
       "      <td>8.691315</td>\n",
       "      <td>0</td>\n",
       "      <td>2</td>\n",
       "      <td>1</td>\n",
       "      <td>5</td>\n",
       "      <td>1</td>\n",
       "      <td>2</td>\n",
       "      <td>8.691315</td>\n",
       "    </tr>\n",
       "    <tr>\n",
       "      <th>2</th>\n",
       "      <td>1.714286</td>\n",
       "      <td>3.011340</td>\n",
       "      <td>7.647786</td>\n",
       "      <td>1</td>\n",
       "      <td>1</td>\n",
       "      <td>1</td>\n",
       "      <td>3</td>\n",
       "      <td>1</td>\n",
       "      <td>0</td>\n",
       "      <td>7.647786</td>\n",
       "    </tr>\n",
       "    <tr>\n",
       "      <th>3</th>\n",
       "      <td>1.701858</td>\n",
       "      <td>5.012077</td>\n",
       "      <td>8.972337</td>\n",
       "      <td>1</td>\n",
       "      <td>2</td>\n",
       "      <td>0</td>\n",
       "      <td>4</td>\n",
       "      <td>1</td>\n",
       "      <td>1</td>\n",
       "      <td>8.972337</td>\n",
       "    </tr>\n",
       "    <tr>\n",
       "      <th>4</th>\n",
       "      <td>1.725279</td>\n",
       "      <td>4.071754</td>\n",
       "      <td>8.490849</td>\n",
       "      <td>1</td>\n",
       "      <td>2</td>\n",
       "      <td>0</td>\n",
       "      <td>1</td>\n",
       "      <td>1</td>\n",
       "      <td>1</td>\n",
       "      <td>8.490849</td>\n",
       "    </tr>\n",
       "  </tbody>\n",
       "</table>\n",
       "</div>"
      ],
      "text/plain": [
       "   Transformed_Age  Transformed_Duration  Transformed_Credit_Amount  Sex  Job  \\\n",
       "0         1.755661              2.055642                   7.063904    1    2   \n",
       "1         1.573599              5.248357                   8.691315    0    2   \n",
       "2         1.714286              3.011340                   7.647786    1    1   \n",
       "3         1.701858              5.012077                   8.972337    1    2   \n",
       "4         1.725279              4.071754                   8.490849    1    2   \n",
       "\n",
       "   Housing  Purpose  Imputed_Saving_accounts  Imputed_Checking_Account  \\\n",
       "0        1        5                        0                         1   \n",
       "1        1        5                        1                         2   \n",
       "2        1        3                        1                         0   \n",
       "3        0        4                        1                         1   \n",
       "4        0        1                        1                         1   \n",
       "\n",
       "   Transformed_Credit_Amount  \n",
       "0                   7.063904  \n",
       "1                   8.691315  \n",
       "2                   7.647786  \n",
       "3                   8.972337  \n",
       "4                   8.490849  "
      ]
     },
     "execution_count": 369,
     "metadata": {},
     "output_type": "execute_result"
    }
   ],
   "source": [
    "modelling_dataset.head()"
   ]
  },
  {
   "cell_type": "markdown",
   "id": "6ec1a298",
   "metadata": {},
   "source": [
    "## Train Test Dataset"
   ]
  },
  {
   "cell_type": "code",
   "execution_count": 370,
   "id": "1c569d46",
   "metadata": {},
   "outputs": [],
   "source": [
    "from sklearn.model_selection import train_test_split\n",
    "\n",
    "X_train, X_test, y_train, y_test = train_test_split(modelling_dataset.drop('Transformed_Credit_Amount', axis = 1),\n",
    "                                                   modelling_dataset['Transformed_Credit_Amount']\n",
    "                                                   )"
   ]
  },
  {
   "cell_type": "markdown",
   "id": "3a875174",
   "metadata": {},
   "source": [
    "## Linear Regression Model Training "
   ]
  },
  {
   "cell_type": "code",
   "execution_count": 371,
   "id": "c8d349c6",
   "metadata": {},
   "outputs": [],
   "source": [
    "from sklearn.linear_model import LinearRegression"
   ]
  },
  {
   "cell_type": "code",
   "execution_count": 372,
   "id": "30747f4e",
   "metadata": {},
   "outputs": [
    {
     "data": {
      "text/plain": [
       "0.45630032545796384"
      ]
     },
     "execution_count": 372,
     "metadata": {},
     "output_type": "execute_result"
    }
   ],
   "source": [
    "reg = LinearRegression().fit(X_train, y_train)\n",
    "reg.score(X_train, y_train)"
   ]
  },
  {
   "cell_type": "markdown",
   "id": "aed358e0",
   "metadata": {},
   "source": [
    "## Model Evaluation"
   ]
  },
  {
   "cell_type": "code",
   "execution_count": 373,
   "id": "72268245",
   "metadata": {},
   "outputs": [],
   "source": [
    "from sklearn.metrics import mean_squared_error"
   ]
  },
  {
   "cell_type": "code",
   "execution_count": 374,
   "id": "9128d207",
   "metadata": {},
   "outputs": [
    {
     "name": "stdout",
     "output_type": "stream",
     "text": [
      "Scaled Mean Square Error ==> 0.3083686908849121\n"
     ]
    }
   ],
   "source": [
    "preds = reg.predict(X_test)\n",
    "\n",
    "MSE = mean_squared_error(y_test, preds)\n",
    "\n",
    "print(f'Scaled Mean Square Error ==> {MSE}')"
   ]
  },
  {
   "cell_type": "code",
   "execution_count": 375,
   "id": "63d60e3c",
   "metadata": {},
   "outputs": [
    {
     "name": "stdout",
     "output_type": "stream",
     "text": [
      "Actual Mean Square Error ==> 4214006.907974609\n"
     ]
    }
   ],
   "source": [
    "actual_preds = inv_boxcox(preds, 0)\n",
    "\n",
    "actual_labels = inv_boxcox(y_test,  0)\n",
    "\n",
    "actual_MSE = mean_squared_error(actual_labels, actual_preds)\n",
    "\n",
    "print(f'Actual Mean Square Error ==> {actual_MSE}')"
   ]
  }
 ],
 "metadata": {
  "kernelspec": {
   "display_name": "Python 3 (ipykernel)",
   "language": "python",
   "name": "python3"
  },
  "language_info": {
   "codemirror_mode": {
    "name": "ipython",
    "version": 3
   },
   "file_extension": ".py",
   "mimetype": "text/x-python",
   "name": "python",
   "nbconvert_exporter": "python",
   "pygments_lexer": "ipython3",
   "version": "3.9.7"
  }
 },
 "nbformat": 4,
 "nbformat_minor": 5
}
