{
 "cells": [
  {
   "cell_type": "markdown",
   "id": "7045d66e",
   "metadata": {},
   "source": [
    "### Name: Jiten Sidhpura \n",
    "### UID: 2018130051\n",
    "### Batch B\n",
    "### BE COMPS\n",
    "\n",
    "### Objective: To carry out logistic regression and build a classification model using Python Platform"
   ]
  },
  {
   "cell_type": "markdown",
   "id": "94a9a69f",
   "metadata": {},
   "source": [
    "## Imports"
   ]
  },
  {
   "cell_type": "code",
   "execution_count": 524,
   "id": "25218b06",
   "metadata": {},
   "outputs": [],
   "source": [
    "import numpy as np\n",
    "import pandas as pd\n",
    "import seaborn as sns\n",
    "from matplotlib import pyplot as plt\n",
    "from mpl_toolkits import mplot3d"
   ]
  },
  {
   "cell_type": "markdown",
   "id": "f4f6880e",
   "metadata": {},
   "source": [
    "## Reading Data"
   ]
  },
  {
   "cell_type": "code",
   "execution_count": 525,
   "id": "56f826b0",
   "metadata": {},
   "outputs": [
    {
     "data": {
      "text/html": [
       "<div>\n",
       "<style scoped>\n",
       "    .dataframe tbody tr th:only-of-type {\n",
       "        vertical-align: middle;\n",
       "    }\n",
       "\n",
       "    .dataframe tbody tr th {\n",
       "        vertical-align: top;\n",
       "    }\n",
       "\n",
       "    .dataframe thead th {\n",
       "        text-align: right;\n",
       "    }\n",
       "</style>\n",
       "<table border=\"1\" class=\"dataframe\">\n",
       "  <thead>\n",
       "    <tr style=\"text-align: right;\">\n",
       "      <th></th>\n",
       "      <th>surgery</th>\n",
       "      <th>age</th>\n",
       "      <th>hospital_number</th>\n",
       "      <th>rectal_temp</th>\n",
       "      <th>pulse</th>\n",
       "      <th>respiratory_rate</th>\n",
       "      <th>temp_of_extremities</th>\n",
       "      <th>peripheral_pulse</th>\n",
       "      <th>mucous_membrane</th>\n",
       "      <th>capillary_refill_time</th>\n",
       "      <th>...</th>\n",
       "      <th>packed_cell_volume</th>\n",
       "      <th>total_protein</th>\n",
       "      <th>abdomo_appearance</th>\n",
       "      <th>abdomo_protein</th>\n",
       "      <th>outcome</th>\n",
       "      <th>surgical_lesion</th>\n",
       "      <th>lesion_1</th>\n",
       "      <th>lesion_2</th>\n",
       "      <th>lesion_3</th>\n",
       "      <th>cp_data</th>\n",
       "    </tr>\n",
       "  </thead>\n",
       "  <tbody>\n",
       "    <tr>\n",
       "      <th>0</th>\n",
       "      <td>no</td>\n",
       "      <td>adult</td>\n",
       "      <td>530101</td>\n",
       "      <td>38.5</td>\n",
       "      <td>66.0</td>\n",
       "      <td>28.0</td>\n",
       "      <td>cool</td>\n",
       "      <td>reduced</td>\n",
       "      <td>NaN</td>\n",
       "      <td>more_3_sec</td>\n",
       "      <td>...</td>\n",
       "      <td>45.0</td>\n",
       "      <td>8.4</td>\n",
       "      <td>NaN</td>\n",
       "      <td>NaN</td>\n",
       "      <td>died</td>\n",
       "      <td>no</td>\n",
       "      <td>11300</td>\n",
       "      <td>0</td>\n",
       "      <td>0</td>\n",
       "      <td>no</td>\n",
       "    </tr>\n",
       "    <tr>\n",
       "      <th>1</th>\n",
       "      <td>yes</td>\n",
       "      <td>adult</td>\n",
       "      <td>534817</td>\n",
       "      <td>39.2</td>\n",
       "      <td>88.0</td>\n",
       "      <td>20.0</td>\n",
       "      <td>NaN</td>\n",
       "      <td>NaN</td>\n",
       "      <td>pale_cyanotic</td>\n",
       "      <td>less_3_sec</td>\n",
       "      <td>...</td>\n",
       "      <td>50.0</td>\n",
       "      <td>85.0</td>\n",
       "      <td>cloudy</td>\n",
       "      <td>2.0</td>\n",
       "      <td>euthanized</td>\n",
       "      <td>no</td>\n",
       "      <td>2208</td>\n",
       "      <td>0</td>\n",
       "      <td>0</td>\n",
       "      <td>no</td>\n",
       "    </tr>\n",
       "    <tr>\n",
       "      <th>2</th>\n",
       "      <td>no</td>\n",
       "      <td>adult</td>\n",
       "      <td>530334</td>\n",
       "      <td>38.3</td>\n",
       "      <td>40.0</td>\n",
       "      <td>24.0</td>\n",
       "      <td>normal</td>\n",
       "      <td>normal</td>\n",
       "      <td>pale_pink</td>\n",
       "      <td>less_3_sec</td>\n",
       "      <td>...</td>\n",
       "      <td>33.0</td>\n",
       "      <td>6.7</td>\n",
       "      <td>NaN</td>\n",
       "      <td>NaN</td>\n",
       "      <td>lived</td>\n",
       "      <td>no</td>\n",
       "      <td>0</td>\n",
       "      <td>0</td>\n",
       "      <td>0</td>\n",
       "      <td>yes</td>\n",
       "    </tr>\n",
       "    <tr>\n",
       "      <th>3</th>\n",
       "      <td>yes</td>\n",
       "      <td>young</td>\n",
       "      <td>5290409</td>\n",
       "      <td>39.1</td>\n",
       "      <td>164.0</td>\n",
       "      <td>84.0</td>\n",
       "      <td>cold</td>\n",
       "      <td>normal</td>\n",
       "      <td>dark_cyanotic</td>\n",
       "      <td>more_3_sec</td>\n",
       "      <td>...</td>\n",
       "      <td>48.0</td>\n",
       "      <td>7.2</td>\n",
       "      <td>serosanguious</td>\n",
       "      <td>5.3</td>\n",
       "      <td>died</td>\n",
       "      <td>yes</td>\n",
       "      <td>2208</td>\n",
       "      <td>0</td>\n",
       "      <td>0</td>\n",
       "      <td>yes</td>\n",
       "    </tr>\n",
       "    <tr>\n",
       "      <th>4</th>\n",
       "      <td>no</td>\n",
       "      <td>adult</td>\n",
       "      <td>530255</td>\n",
       "      <td>37.3</td>\n",
       "      <td>104.0</td>\n",
       "      <td>35.0</td>\n",
       "      <td>NaN</td>\n",
       "      <td>NaN</td>\n",
       "      <td>dark_cyanotic</td>\n",
       "      <td>more_3_sec</td>\n",
       "      <td>...</td>\n",
       "      <td>74.0</td>\n",
       "      <td>7.4</td>\n",
       "      <td>NaN</td>\n",
       "      <td>NaN</td>\n",
       "      <td>died</td>\n",
       "      <td>no</td>\n",
       "      <td>4300</td>\n",
       "      <td>0</td>\n",
       "      <td>0</td>\n",
       "      <td>no</td>\n",
       "    </tr>\n",
       "  </tbody>\n",
       "</table>\n",
       "<p>5 rows × 28 columns</p>\n",
       "</div>"
      ],
      "text/plain": [
       "  surgery    age  hospital_number  rectal_temp  pulse  respiratory_rate  \\\n",
       "0      no  adult           530101         38.5   66.0              28.0   \n",
       "1     yes  adult           534817         39.2   88.0              20.0   \n",
       "2      no  adult           530334         38.3   40.0              24.0   \n",
       "3     yes  young          5290409         39.1  164.0              84.0   \n",
       "4      no  adult           530255         37.3  104.0              35.0   \n",
       "\n",
       "  temp_of_extremities peripheral_pulse mucous_membrane capillary_refill_time  \\\n",
       "0                cool          reduced             NaN            more_3_sec   \n",
       "1                 NaN              NaN   pale_cyanotic            less_3_sec   \n",
       "2              normal           normal       pale_pink            less_3_sec   \n",
       "3                cold           normal   dark_cyanotic            more_3_sec   \n",
       "4                 NaN              NaN   dark_cyanotic            more_3_sec   \n",
       "\n",
       "   ... packed_cell_volume total_protein abdomo_appearance abdomo_protein  \\\n",
       "0  ...               45.0           8.4               NaN            NaN   \n",
       "1  ...               50.0          85.0            cloudy            2.0   \n",
       "2  ...               33.0           6.7               NaN            NaN   \n",
       "3  ...               48.0           7.2     serosanguious            5.3   \n",
       "4  ...               74.0           7.4               NaN            NaN   \n",
       "\n",
       "      outcome  surgical_lesion lesion_1 lesion_2  lesion_3  cp_data  \n",
       "0        died               no    11300        0         0       no  \n",
       "1  euthanized               no     2208        0         0       no  \n",
       "2       lived               no        0        0         0      yes  \n",
       "3        died              yes     2208        0         0      yes  \n",
       "4        died               no     4300        0         0       no  \n",
       "\n",
       "[5 rows x 28 columns]"
      ]
     },
     "execution_count": 525,
     "metadata": {},
     "output_type": "execute_result"
    }
   ],
   "source": [
    "filename = 'horse.csv'\n",
    "\n",
    "dataset = pd.read_csv(filename)\n",
    "\n",
    "dataset.head()"
   ]
  },
  {
   "cell_type": "code",
   "execution_count": 526,
   "id": "561dc304",
   "metadata": {},
   "outputs": [
    {
     "data": {
      "text/plain": [
       "surgery                   object\n",
       "age                       object\n",
       "hospital_number            int64\n",
       "rectal_temp              float64\n",
       "pulse                    float64\n",
       "respiratory_rate         float64\n",
       "temp_of_extremities       object\n",
       "peripheral_pulse          object\n",
       "mucous_membrane           object\n",
       "capillary_refill_time     object\n",
       "pain                      object\n",
       "peristalsis               object\n",
       "abdominal_distention      object\n",
       "nasogastric_tube          object\n",
       "nasogastric_reflux        object\n",
       "nasogastric_reflux_ph    float64\n",
       "rectal_exam_feces         object\n",
       "abdomen                   object\n",
       "packed_cell_volume       float64\n",
       "total_protein            float64\n",
       "abdomo_appearance         object\n",
       "abdomo_protein           float64\n",
       "outcome                   object\n",
       "surgical_lesion           object\n",
       "lesion_1                   int64\n",
       "lesion_2                   int64\n",
       "lesion_3                   int64\n",
       "cp_data                   object\n",
       "dtype: object"
      ]
     },
     "execution_count": 526,
     "metadata": {},
     "output_type": "execute_result"
    }
   ],
   "source": [
    "dataset.dtypes"
   ]
  },
  {
   "cell_type": "markdown",
   "id": "f17d0196",
   "metadata": {},
   "source": [
    "## Drop Duplicates If Present"
   ]
  },
  {
   "cell_type": "code",
   "execution_count": 527,
   "id": "06874a61",
   "metadata": {},
   "outputs": [],
   "source": [
    "dataset = dataset.drop_duplicates()"
   ]
  },
  {
   "cell_type": "code",
   "execution_count": 528,
   "id": "ee281849",
   "metadata": {},
   "outputs": [
    {
     "name": "stderr",
     "output_type": "stream",
     "text": [
      "C:\\Users\\jiten\\AppData\\Local\\Temp/ipykernel_19140/4231230252.py:1: FutureWarning: Dropping of nuisance columns in DataFrame reductions (with 'numeric_only=None') is deprecated; in a future version this will raise TypeError.  Select only valid columns before calling the reduction.\n",
      "  dataset.skew()\n"
     ]
    },
    {
     "data": {
      "text/plain": [
       "hospital_number           2.394354\n",
       "rectal_temp               0.030647\n",
       "pulse                     1.018127\n",
       "respiratory_rate          1.636583\n",
       "nasogastric_reflux_ph    -0.354427\n",
       "packed_cell_volume        0.695830\n",
       "total_protein             1.009973\n",
       "abdomo_protein            1.404909\n",
       "lesion_1                  4.337764\n",
       "lesion_2                  8.299111\n",
       "lesion_3                 17.291616\n",
       "dtype: float64"
      ]
     },
     "execution_count": 528,
     "metadata": {},
     "output_type": "execute_result"
    }
   ],
   "source": [
    "dataset.skew()"
   ]
  },
  {
   "cell_type": "code",
   "execution_count": 529,
   "id": "3a8a4417",
   "metadata": {},
   "outputs": [
    {
     "data": {
      "text/plain": [
       "<AxesSubplot:>"
      ]
     },
     "execution_count": 529,
     "metadata": {},
     "output_type": "execute_result"
    },
    {
     "data": {
      "image/png": "[encoded data removed]",
      "text/plain": [
       "<Figure size 1728x720 with 3 Axes>"
      ]
     },
     "metadata": {
      "needs_background": "light"
     },
     "output_type": "display_data"
    }
   ],
   "source": [
    "import missingno\n",
    "missingno.bar(dataset)"
   ]
  },
  {
   "cell_type": "code",
   "execution_count": 530,
   "id": "6516b2b4",
   "metadata": {},
   "outputs": [],
   "source": [
    "from scipy.special import boxcox, inv_boxcox\n",
    "\n",
    "def modify_boxcox_value(col_name, x):\n",
    "    print(dataset[col_name].skew())\n",
    "    sns.distplot(dataset[col_name])\n",
    "    plt.show()\n",
    "    \n",
    "    transformed_value = boxcox(dataset[col_name], x)\n",
    "    print(transformed_value.skew())\n",
    "    sns.distplot(transformed_value)\n",
    "    plt.show()"
   ]
  },
  {
   "cell_type": "markdown",
   "id": "530dc701",
   "metadata": {},
   "source": [
    "## Outcome Feature"
   ]
  },
  {
   "cell_type": "code",
   "execution_count": 531,
   "id": "f1f2080f",
   "metadata": {},
   "outputs": [
    {
     "name": "stderr",
     "output_type": "stream",
     "text": [
      "C:\\Users\\jiten\\anaconda3\\lib\\site-packages\\seaborn\\_decorators.py:36: FutureWarning: Pass the following variable as a keyword arg: x. From version 0.12, the only valid positional argument will be `data`, and passing other arguments without an explicit keyword will result in an error or misinterpretation.\n",
      "  warnings.warn(\n"
     ]
    },
    {
     "data": {
      "text/plain": [
       "<AxesSubplot:xlabel='outcome', ylabel='count'>"
      ]
     },
     "execution_count": 531,
     "metadata": {},
     "output_type": "execute_result"
    },
    {
     "data": {
      "image/png": "[encoded data removed]",
      "text/plain": [
       "<Figure size 432x288 with 1 Axes>"
      ]
     },
     "metadata": {
      "needs_background": "light"
     },
     "output_type": "display_data"
    }
   ],
   "source": [
    "sns.countplot(dataset['outcome'])"
   ]
  },
  {
   "cell_type": "markdown",
   "id": "7ccc3b83",
   "metadata": {},
   "source": [
    "## Converting Categorical Data to Numerical"
   ]
  },
  {
   "cell_type": "code",
   "execution_count": 532,
   "id": "8cacc823",
   "metadata": {},
   "outputs": [],
   "source": [
    "dataset['outcome'] = dataset['outcome'].map({\n",
    "    'died': 0,\n",
    "    'euthanized': 1,\n",
    "    'lived': 2,\n",
    "})"
   ]
  },
  {
   "cell_type": "code",
   "execution_count": 533,
   "id": "4805f646",
   "metadata": {},
   "outputs": [
    {
     "data": {
      "text/html": [
       "<div>\n",
       "<style scoped>\n",
       "    .dataframe tbody tr th:only-of-type {\n",
       "        vertical-align: middle;\n",
       "    }\n",
       "\n",
       "    .dataframe tbody tr th {\n",
       "        vertical-align: top;\n",
       "    }\n",
       "\n",
       "    .dataframe thead th {\n",
       "        text-align: right;\n",
       "    }\n",
       "</style>\n",
       "<table border=\"1\" class=\"dataframe\">\n",
       "  <thead>\n",
       "    <tr style=\"text-align: right;\">\n",
       "      <th></th>\n",
       "      <th>surgery</th>\n",
       "      <th>age</th>\n",
       "      <th>hospital_number</th>\n",
       "      <th>rectal_temp</th>\n",
       "      <th>pulse</th>\n",
       "      <th>respiratory_rate</th>\n",
       "      <th>temp_of_extremities</th>\n",
       "      <th>peripheral_pulse</th>\n",
       "      <th>mucous_membrane</th>\n",
       "      <th>capillary_refill_time</th>\n",
       "      <th>...</th>\n",
       "      <th>packed_cell_volume</th>\n",
       "      <th>total_protein</th>\n",
       "      <th>abdomo_appearance</th>\n",
       "      <th>abdomo_protein</th>\n",
       "      <th>outcome</th>\n",
       "      <th>surgical_lesion</th>\n",
       "      <th>lesion_1</th>\n",
       "      <th>lesion_2</th>\n",
       "      <th>lesion_3</th>\n",
       "      <th>cp_data</th>\n",
       "    </tr>\n",
       "  </thead>\n",
       "  <tbody>\n",
       "    <tr>\n",
       "      <th>0</th>\n",
       "      <td>no</td>\n",
       "      <td>adult</td>\n",
       "      <td>530101</td>\n",
       "      <td>38.5</td>\n",
       "      <td>66.0</td>\n",
       "      <td>28.0</td>\n",
       "      <td>cool</td>\n",
       "      <td>reduced</td>\n",
       "      <td>NaN</td>\n",
       "      <td>more_3_sec</td>\n",
       "      <td>...</td>\n",
       "      <td>45.0</td>\n",
       "      <td>8.4</td>\n",
       "      <td>NaN</td>\n",
       "      <td>NaN</td>\n",
       "      <td>0</td>\n",
       "      <td>no</td>\n",
       "      <td>11300</td>\n",
       "      <td>0</td>\n",
       "      <td>0</td>\n",
       "      <td>no</td>\n",
       "    </tr>\n",
       "    <tr>\n",
       "      <th>1</th>\n",
       "      <td>yes</td>\n",
       "      <td>adult</td>\n",
       "      <td>534817</td>\n",
       "      <td>39.2</td>\n",
       "      <td>88.0</td>\n",
       "      <td>20.0</td>\n",
       "      <td>NaN</td>\n",
       "      <td>NaN</td>\n",
       "      <td>pale_cyanotic</td>\n",
       "      <td>less_3_sec</td>\n",
       "      <td>...</td>\n",
       "      <td>50.0</td>\n",
       "      <td>85.0</td>\n",
       "      <td>cloudy</td>\n",
       "      <td>2.0</td>\n",
       "      <td>1</td>\n",
       "      <td>no</td>\n",
       "      <td>2208</td>\n",
       "      <td>0</td>\n",
       "      <td>0</td>\n",
       "      <td>no</td>\n",
       "    </tr>\n",
       "    <tr>\n",
       "      <th>2</th>\n",
       "      <td>no</td>\n",
       "      <td>adult</td>\n",
       "      <td>530334</td>\n",
       "      <td>38.3</td>\n",
       "      <td>40.0</td>\n",
       "      <td>24.0</td>\n",
       "      <td>normal</td>\n",
       "      <td>normal</td>\n",
       "      <td>pale_pink</td>\n",
       "      <td>less_3_sec</td>\n",
       "      <td>...</td>\n",
       "      <td>33.0</td>\n",
       "      <td>6.7</td>\n",
       "      <td>NaN</td>\n",
       "      <td>NaN</td>\n",
       "      <td>2</td>\n",
       "      <td>no</td>\n",
       "      <td>0</td>\n",
       "      <td>0</td>\n",
       "      <td>0</td>\n",
       "      <td>yes</td>\n",
       "    </tr>\n",
       "    <tr>\n",
       "      <th>3</th>\n",
       "      <td>yes</td>\n",
       "      <td>young</td>\n",
       "      <td>5290409</td>\n",
       "      <td>39.1</td>\n",
       "      <td>164.0</td>\n",
       "      <td>84.0</td>\n",
       "      <td>cold</td>\n",
       "      <td>normal</td>\n",
       "      <td>dark_cyanotic</td>\n",
       "      <td>more_3_sec</td>\n",
       "      <td>...</td>\n",
       "      <td>48.0</td>\n",
       "      <td>7.2</td>\n",
       "      <td>serosanguious</td>\n",
       "      <td>5.3</td>\n",
       "      <td>0</td>\n",
       "      <td>yes</td>\n",
       "      <td>2208</td>\n",
       "      <td>0</td>\n",
       "      <td>0</td>\n",
       "      <td>yes</td>\n",
       "    </tr>\n",
       "    <tr>\n",
       "      <th>4</th>\n",
       "      <td>no</td>\n",
       "      <td>adult</td>\n",
       "      <td>530255</td>\n",
       "      <td>37.3</td>\n",
       "      <td>104.0</td>\n",
       "      <td>35.0</td>\n",
       "      <td>NaN</td>\n",
       "      <td>NaN</td>\n",
       "      <td>dark_cyanotic</td>\n",
       "      <td>more_3_sec</td>\n",
       "      <td>...</td>\n",
       "      <td>74.0</td>\n",
       "      <td>7.4</td>\n",
       "      <td>NaN</td>\n",
       "      <td>NaN</td>\n",
       "      <td>0</td>\n",
       "      <td>no</td>\n",
       "      <td>4300</td>\n",
       "      <td>0</td>\n",
       "      <td>0</td>\n",
       "      <td>no</td>\n",
       "    </tr>\n",
       "  </tbody>\n",
       "</table>\n",
       "<p>5 rows × 28 columns</p>\n",
       "</div>"
      ],
      "text/plain": [
       "  surgery    age  hospital_number  rectal_temp  pulse  respiratory_rate  \\\n",
       "0      no  adult           530101         38.5   66.0              28.0   \n",
       "1     yes  adult           534817         39.2   88.0              20.0   \n",
       "2      no  adult           530334         38.3   40.0              24.0   \n",
       "3     yes  young          5290409         39.1  164.0              84.0   \n",
       "4      no  adult           530255         37.3  104.0              35.0   \n",
       "\n",
       "  temp_of_extremities peripheral_pulse mucous_membrane capillary_refill_time  \\\n",
       "0                cool          reduced             NaN            more_3_sec   \n",
       "1                 NaN              NaN   pale_cyanotic            less_3_sec   \n",
       "2              normal           normal       pale_pink            less_3_sec   \n",
       "3                cold           normal   dark_cyanotic            more_3_sec   \n",
       "4                 NaN              NaN   dark_cyanotic            more_3_sec   \n",
       "\n",
       "   ... packed_cell_volume total_protein abdomo_appearance abdomo_protein  \\\n",
       "0  ...               45.0           8.4               NaN            NaN   \n",
       "1  ...               50.0          85.0            cloudy            2.0   \n",
       "2  ...               33.0           6.7               NaN            NaN   \n",
       "3  ...               48.0           7.2     serosanguious            5.3   \n",
       "4  ...               74.0           7.4               NaN            NaN   \n",
       "\n",
       "  outcome  surgical_lesion lesion_1 lesion_2  lesion_3  cp_data  \n",
       "0       0               no    11300        0         0       no  \n",
       "1       1               no     2208        0         0       no  \n",
       "2       2               no        0        0         0      yes  \n",
       "3       0              yes     2208        0         0      yes  \n",
       "4       0               no     4300        0         0       no  \n",
       "\n",
       "[5 rows x 28 columns]"
      ]
     },
     "execution_count": 533,
     "metadata": {},
     "output_type": "execute_result"
    }
   ],
   "source": [
    "dataset.head()"
   ]
  },
  {
   "cell_type": "markdown",
   "id": "6e33eedb",
   "metadata": {},
   "source": [
    "## Surgery Feature"
   ]
  },
  {
   "cell_type": "code",
   "execution_count": 534,
   "id": "4f0aacce",
   "metadata": {},
   "outputs": [
    {
     "name": "stderr",
     "output_type": "stream",
     "text": [
      "C:\\Users\\jiten\\anaconda3\\lib\\site-packages\\seaborn\\_decorators.py:36: FutureWarning: Pass the following variable as a keyword arg: x. From version 0.12, the only valid positional argument will be `data`, and passing other arguments without an explicit keyword will result in an error or misinterpretation.\n",
      "  warnings.warn(\n"
     ]
    },
    {
     "data": {
      "text/plain": [
       "<AxesSubplot:xlabel='surgery', ylabel='count'>"
      ]
     },
     "execution_count": 534,
     "metadata": {},
     "output_type": "execute_result"
    },
    {
     "data": {
      "image/png": "[encoded data removed]",
      "text/plain": [
       "<Figure size 432x288 with 1 Axes>"
      ]
     },
     "metadata": {
      "needs_background": "light"
     },
     "output_type": "display_data"
    }
   ],
   "source": [
    "sns.countplot(dataset['surgery'])"
   ]
  },
  {
   "cell_type": "code",
   "execution_count": 535,
   "id": "d62902e0",
   "metadata": {},
   "outputs": [
    {
     "data": {
      "text/plain": [
       "yes    180\n",
       "no     119\n",
       "Name: surgery, dtype: int64"
      ]
     },
     "execution_count": 535,
     "metadata": {},
     "output_type": "execute_result"
    }
   ],
   "source": [
    "dataset['surgery'].value_counts()"
   ]
  },
  {
   "cell_type": "code",
   "execution_count": 536,
   "id": "43786aab",
   "metadata": {},
   "outputs": [
    {
     "data": {
      "text/plain": [
       "2    83\n",
       "0    19\n",
       "1    17\n",
       "Name: outcome, dtype: int64"
      ]
     },
     "execution_count": 536,
     "metadata": {},
     "output_type": "execute_result"
    }
   ],
   "source": [
    "dataset[dataset['surgery'] == 'no']['outcome'].value_counts()"
   ]
  },
  {
   "cell_type": "code",
   "execution_count": 537,
   "id": "ec47c489",
   "metadata": {},
   "outputs": [
    {
     "data": {
      "text/plain": [
       "2    95\n",
       "0    58\n",
       "1    27\n",
       "Name: outcome, dtype: int64"
      ]
     },
     "execution_count": 537,
     "metadata": {},
     "output_type": "execute_result"
    }
   ],
   "source": [
    "dataset[dataset['surgery'] == 'yes']['outcome'].value_counts()"
   ]
  },
  {
   "cell_type": "markdown",
   "id": "80386de4",
   "metadata": {},
   "source": [
    "## If surgery is performed then chances of euthanized rises significantly"
   ]
  },
  {
   "cell_type": "markdown",
   "id": "154e30fb",
   "metadata": {},
   "source": [
    "## Convert surgery Feature to  Numerical"
   ]
  },
  {
   "cell_type": "code",
   "execution_count": 538,
   "id": "2fd1d78e",
   "metadata": {},
   "outputs": [],
   "source": [
    "yes_no_dict = {\n",
    "    'no': 0,\n",
    "    'yes': 1\n",
    "}\n",
    "\n",
    "dataset['surgery'] = dataset['surgery'].map(yes_no_dict)"
   ]
  },
  {
   "cell_type": "code",
   "execution_count": 539,
   "id": "017f38cd",
   "metadata": {},
   "outputs": [
    {
     "data": {
      "text/html": [
       "<div>\n",
       "<style scoped>\n",
       "    .dataframe tbody tr th:only-of-type {\n",
       "        vertical-align: middle;\n",
       "    }\n",
       "\n",
       "    .dataframe tbody tr th {\n",
       "        vertical-align: top;\n",
       "    }\n",
       "\n",
       "    .dataframe thead th {\n",
       "        text-align: right;\n",
       "    }\n",
       "</style>\n",
       "<table border=\"1\" class=\"dataframe\">\n",
       "  <thead>\n",
       "    <tr style=\"text-align: right;\">\n",
       "      <th></th>\n",
       "      <th>surgery</th>\n",
       "      <th>age</th>\n",
       "      <th>hospital_number</th>\n",
       "      <th>rectal_temp</th>\n",
       "      <th>pulse</th>\n",
       "      <th>respiratory_rate</th>\n",
       "      <th>temp_of_extremities</th>\n",
       "      <th>peripheral_pulse</th>\n",
       "      <th>mucous_membrane</th>\n",
       "      <th>capillary_refill_time</th>\n",
       "      <th>...</th>\n",
       "      <th>packed_cell_volume</th>\n",
       "      <th>total_protein</th>\n",
       "      <th>abdomo_appearance</th>\n",
       "      <th>abdomo_protein</th>\n",
       "      <th>outcome</th>\n",
       "      <th>surgical_lesion</th>\n",
       "      <th>lesion_1</th>\n",
       "      <th>lesion_2</th>\n",
       "      <th>lesion_3</th>\n",
       "      <th>cp_data</th>\n",
       "    </tr>\n",
       "  </thead>\n",
       "  <tbody>\n",
       "    <tr>\n",
       "      <th>0</th>\n",
       "      <td>0</td>\n",
       "      <td>adult</td>\n",
       "      <td>530101</td>\n",
       "      <td>38.5</td>\n",
       "      <td>66.0</td>\n",
       "      <td>28.0</td>\n",
       "      <td>cool</td>\n",
       "      <td>reduced</td>\n",
       "      <td>NaN</td>\n",
       "      <td>more_3_sec</td>\n",
       "      <td>...</td>\n",
       "      <td>45.0</td>\n",
       "      <td>8.4</td>\n",
       "      <td>NaN</td>\n",
       "      <td>NaN</td>\n",
       "      <td>0</td>\n",
       "      <td>no</td>\n",
       "      <td>11300</td>\n",
       "      <td>0</td>\n",
       "      <td>0</td>\n",
       "      <td>no</td>\n",
       "    </tr>\n",
       "    <tr>\n",
       "      <th>1</th>\n",
       "      <td>1</td>\n",
       "      <td>adult</td>\n",
       "      <td>534817</td>\n",
       "      <td>39.2</td>\n",
       "      <td>88.0</td>\n",
       "      <td>20.0</td>\n",
       "      <td>NaN</td>\n",
       "      <td>NaN</td>\n",
       "      <td>pale_cyanotic</td>\n",
       "      <td>less_3_sec</td>\n",
       "      <td>...</td>\n",
       "      <td>50.0</td>\n",
       "      <td>85.0</td>\n",
       "      <td>cloudy</td>\n",
       "      <td>2.0</td>\n",
       "      <td>1</td>\n",
       "      <td>no</td>\n",
       "      <td>2208</td>\n",
       "      <td>0</td>\n",
       "      <td>0</td>\n",
       "      <td>no</td>\n",
       "    </tr>\n",
       "    <tr>\n",
       "      <th>2</th>\n",
       "      <td>0</td>\n",
       "      <td>adult</td>\n",
       "      <td>530334</td>\n",
       "      <td>38.3</td>\n",
       "      <td>40.0</td>\n",
       "      <td>24.0</td>\n",
       "      <td>normal</td>\n",
       "      <td>normal</td>\n",
       "      <td>pale_pink</td>\n",
       "      <td>less_3_sec</td>\n",
       "      <td>...</td>\n",
       "      <td>33.0</td>\n",
       "      <td>6.7</td>\n",
       "      <td>NaN</td>\n",
       "      <td>NaN</td>\n",
       "      <td>2</td>\n",
       "      <td>no</td>\n",
       "      <td>0</td>\n",
       "      <td>0</td>\n",
       "      <td>0</td>\n",
       "      <td>yes</td>\n",
       "    </tr>\n",
       "    <tr>\n",
       "      <th>3</th>\n",
       "      <td>1</td>\n",
       "      <td>young</td>\n",
       "      <td>5290409</td>\n",
       "      <td>39.1</td>\n",
       "      <td>164.0</td>\n",
       "      <td>84.0</td>\n",
       "      <td>cold</td>\n",
       "      <td>normal</td>\n",
       "      <td>dark_cyanotic</td>\n",
       "      <td>more_3_sec</td>\n",
       "      <td>...</td>\n",
       "      <td>48.0</td>\n",
       "      <td>7.2</td>\n",
       "      <td>serosanguious</td>\n",
       "      <td>5.3</td>\n",
       "      <td>0</td>\n",
       "      <td>yes</td>\n",
       "      <td>2208</td>\n",
       "      <td>0</td>\n",
       "      <td>0</td>\n",
       "      <td>yes</td>\n",
       "    </tr>\n",
       "    <tr>\n",
       "      <th>4</th>\n",
       "      <td>0</td>\n",
       "      <td>adult</td>\n",
       "      <td>530255</td>\n",
       "      <td>37.3</td>\n",
       "      <td>104.0</td>\n",
       "      <td>35.0</td>\n",
       "      <td>NaN</td>\n",
       "      <td>NaN</td>\n",
       "      <td>dark_cyanotic</td>\n",
       "      <td>more_3_sec</td>\n",
       "      <td>...</td>\n",
       "      <td>74.0</td>\n",
       "      <td>7.4</td>\n",
       "      <td>NaN</td>\n",
       "      <td>NaN</td>\n",
       "      <td>0</td>\n",
       "      <td>no</td>\n",
       "      <td>4300</td>\n",
       "      <td>0</td>\n",
       "      <td>0</td>\n",
       "      <td>no</td>\n",
       "    </tr>\n",
       "  </tbody>\n",
       "</table>\n",
       "<p>5 rows × 28 columns</p>\n",
       "</div>"
      ],
      "text/plain": [
       "   surgery    age  hospital_number  rectal_temp  pulse  respiratory_rate  \\\n",
       "0        0  adult           530101         38.5   66.0              28.0   \n",
       "1        1  adult           534817         39.2   88.0              20.0   \n",
       "2        0  adult           530334         38.3   40.0              24.0   \n",
       "3        1  young          5290409         39.1  164.0              84.0   \n",
       "4        0  adult           530255         37.3  104.0              35.0   \n",
       "\n",
       "  temp_of_extremities peripheral_pulse mucous_membrane capillary_refill_time  \\\n",
       "0                cool          reduced             NaN            more_3_sec   \n",
       "1                 NaN              NaN   pale_cyanotic            less_3_sec   \n",
       "2              normal           normal       pale_pink            less_3_sec   \n",
       "3                cold           normal   dark_cyanotic            more_3_sec   \n",
       "4                 NaN              NaN   dark_cyanotic            more_3_sec   \n",
       "\n",
       "   ... packed_cell_volume total_protein abdomo_appearance abdomo_protein  \\\n",
       "0  ...               45.0           8.4               NaN            NaN   \n",
       "1  ...               50.0          85.0            cloudy            2.0   \n",
       "2  ...               33.0           6.7               NaN            NaN   \n",
       "3  ...               48.0           7.2     serosanguious            5.3   \n",
       "4  ...               74.0           7.4               NaN            NaN   \n",
       "\n",
       "  outcome  surgical_lesion lesion_1 lesion_2  lesion_3  cp_data  \n",
       "0       0               no    11300        0         0       no  \n",
       "1       1               no     2208        0         0       no  \n",
       "2       2               no        0        0         0      yes  \n",
       "3       0              yes     2208        0         0      yes  \n",
       "4       0               no     4300        0         0       no  \n",
       "\n",
       "[5 rows x 28 columns]"
      ]
     },
     "execution_count": 539,
     "metadata": {},
     "output_type": "execute_result"
    }
   ],
   "source": [
    "dataset.head()"
   ]
  },
  {
   "cell_type": "markdown",
   "id": "345e84ec",
   "metadata": {},
   "source": [
    "## Age Feature"
   ]
  },
  {
   "cell_type": "code",
   "execution_count": 540,
   "id": "721bcd3c",
   "metadata": {},
   "outputs": [
    {
     "name": "stderr",
     "output_type": "stream",
     "text": [
      "C:\\Users\\jiten\\anaconda3\\lib\\site-packages\\seaborn\\_decorators.py:36: FutureWarning: Pass the following variable as a keyword arg: x. From version 0.12, the only valid positional argument will be `data`, and passing other arguments without an explicit keyword will result in an error or misinterpretation.\n",
      "  warnings.warn(\n"
     ]
    },
    {
     "data": {
      "text/plain": [
       "<AxesSubplot:xlabel='age', ylabel='count'>"
      ]
     },
     "execution_count": 540,
     "metadata": {},
     "output_type": "execute_result"
    },
    {
     "data": {
      "image/png": "[encoded data removed]",
      "text/plain": [
       "<Figure size 432x288 with 1 Axes>"
      ]
     },
     "metadata": {
      "needs_background": "light"
     },
     "output_type": "display_data"
    }
   ],
   "source": [
    "sns.countplot(dataset['age'])"
   ]
  },
  {
   "cell_type": "code",
   "execution_count": 541,
   "id": "5ad943be",
   "metadata": {},
   "outputs": [
    {
     "data": {
      "text/plain": [
       "2    166\n",
       "0     66\n",
       "1     43\n",
       "Name: outcome, dtype: int64"
      ]
     },
     "execution_count": 541,
     "metadata": {},
     "output_type": "execute_result"
    }
   ],
   "source": [
    "dataset[dataset['age'] == 'adult']['outcome'].value_counts()"
   ]
  },
  {
   "cell_type": "code",
   "execution_count": 542,
   "id": "efdd391b",
   "metadata": {},
   "outputs": [
    {
     "data": {
      "text/plain": [
       "2    12\n",
       "0    11\n",
       "1     1\n",
       "Name: outcome, dtype: int64"
      ]
     },
     "execution_count": 542,
     "metadata": {},
     "output_type": "execute_result"
    }
   ],
   "source": [
    "dataset[dataset['age'] == 'young']['outcome'].value_counts()"
   ]
  },
  {
   "cell_type": "code",
   "execution_count": 543,
   "id": "674f3613",
   "metadata": {},
   "outputs": [
    {
     "data": {
      "text/html": [
       "<div>\n",
       "<style scoped>\n",
       "    .dataframe tbody tr th:only-of-type {\n",
       "        vertical-align: middle;\n",
       "    }\n",
       "\n",
       "    .dataframe tbody tr th {\n",
       "        vertical-align: top;\n",
       "    }\n",
       "\n",
       "    .dataframe thead th {\n",
       "        text-align: right;\n",
       "    }\n",
       "</style>\n",
       "<table border=\"1\" class=\"dataframe\">\n",
       "  <thead>\n",
       "    <tr style=\"text-align: right;\">\n",
       "      <th></th>\n",
       "      <th>surgery</th>\n",
       "      <th>age</th>\n",
       "      <th>hospital_number</th>\n",
       "      <th>rectal_temp</th>\n",
       "      <th>pulse</th>\n",
       "      <th>respiratory_rate</th>\n",
       "      <th>temp_of_extremities</th>\n",
       "      <th>peripheral_pulse</th>\n",
       "      <th>mucous_membrane</th>\n",
       "      <th>capillary_refill_time</th>\n",
       "      <th>...</th>\n",
       "      <th>packed_cell_volume</th>\n",
       "      <th>total_protein</th>\n",
       "      <th>abdomo_appearance</th>\n",
       "      <th>abdomo_protein</th>\n",
       "      <th>outcome</th>\n",
       "      <th>surgical_lesion</th>\n",
       "      <th>lesion_1</th>\n",
       "      <th>lesion_2</th>\n",
       "      <th>lesion_3</th>\n",
       "      <th>cp_data</th>\n",
       "    </tr>\n",
       "  </thead>\n",
       "  <tbody>\n",
       "    <tr>\n",
       "      <th>0</th>\n",
       "      <td>0</td>\n",
       "      <td>adult</td>\n",
       "      <td>530101</td>\n",
       "      <td>38.5</td>\n",
       "      <td>66.0</td>\n",
       "      <td>28.0</td>\n",
       "      <td>cool</td>\n",
       "      <td>reduced</td>\n",
       "      <td>NaN</td>\n",
       "      <td>more_3_sec</td>\n",
       "      <td>...</td>\n",
       "      <td>45.0</td>\n",
       "      <td>8.4</td>\n",
       "      <td>NaN</td>\n",
       "      <td>NaN</td>\n",
       "      <td>0</td>\n",
       "      <td>no</td>\n",
       "      <td>11300</td>\n",
       "      <td>0</td>\n",
       "      <td>0</td>\n",
       "      <td>no</td>\n",
       "    </tr>\n",
       "    <tr>\n",
       "      <th>1</th>\n",
       "      <td>1</td>\n",
       "      <td>adult</td>\n",
       "      <td>534817</td>\n",
       "      <td>39.2</td>\n",
       "      <td>88.0</td>\n",
       "      <td>20.0</td>\n",
       "      <td>NaN</td>\n",
       "      <td>NaN</td>\n",
       "      <td>pale_cyanotic</td>\n",
       "      <td>less_3_sec</td>\n",
       "      <td>...</td>\n",
       "      <td>50.0</td>\n",
       "      <td>85.0</td>\n",
       "      <td>cloudy</td>\n",
       "      <td>2.0</td>\n",
       "      <td>1</td>\n",
       "      <td>no</td>\n",
       "      <td>2208</td>\n",
       "      <td>0</td>\n",
       "      <td>0</td>\n",
       "      <td>no</td>\n",
       "    </tr>\n",
       "    <tr>\n",
       "      <th>2</th>\n",
       "      <td>0</td>\n",
       "      <td>adult</td>\n",
       "      <td>530334</td>\n",
       "      <td>38.3</td>\n",
       "      <td>40.0</td>\n",
       "      <td>24.0</td>\n",
       "      <td>normal</td>\n",
       "      <td>normal</td>\n",
       "      <td>pale_pink</td>\n",
       "      <td>less_3_sec</td>\n",
       "      <td>...</td>\n",
       "      <td>33.0</td>\n",
       "      <td>6.7</td>\n",
       "      <td>NaN</td>\n",
       "      <td>NaN</td>\n",
       "      <td>2</td>\n",
       "      <td>no</td>\n",
       "      <td>0</td>\n",
       "      <td>0</td>\n",
       "      <td>0</td>\n",
       "      <td>yes</td>\n",
       "    </tr>\n",
       "    <tr>\n",
       "      <th>3</th>\n",
       "      <td>1</td>\n",
       "      <td>young</td>\n",
       "      <td>5290409</td>\n",
       "      <td>39.1</td>\n",
       "      <td>164.0</td>\n",
       "      <td>84.0</td>\n",
       "      <td>cold</td>\n",
       "      <td>normal</td>\n",
       "      <td>dark_cyanotic</td>\n",
       "      <td>more_3_sec</td>\n",
       "      <td>...</td>\n",
       "      <td>48.0</td>\n",
       "      <td>7.2</td>\n",
       "      <td>serosanguious</td>\n",
       "      <td>5.3</td>\n",
       "      <td>0</td>\n",
       "      <td>yes</td>\n",
       "      <td>2208</td>\n",
       "      <td>0</td>\n",
       "      <td>0</td>\n",
       "      <td>yes</td>\n",
       "    </tr>\n",
       "    <tr>\n",
       "      <th>4</th>\n",
       "      <td>0</td>\n",
       "      <td>adult</td>\n",
       "      <td>530255</td>\n",
       "      <td>37.3</td>\n",
       "      <td>104.0</td>\n",
       "      <td>35.0</td>\n",
       "      <td>NaN</td>\n",
       "      <td>NaN</td>\n",
       "      <td>dark_cyanotic</td>\n",
       "      <td>more_3_sec</td>\n",
       "      <td>...</td>\n",
       "      <td>74.0</td>\n",
       "      <td>7.4</td>\n",
       "      <td>NaN</td>\n",
       "      <td>NaN</td>\n",
       "      <td>0</td>\n",
       "      <td>no</td>\n",
       "      <td>4300</td>\n",
       "      <td>0</td>\n",
       "      <td>0</td>\n",
       "      <td>no</td>\n",
       "    </tr>\n",
       "  </tbody>\n",
       "</table>\n",
       "<p>5 rows × 28 columns</p>\n",
       "</div>"
      ],
      "text/plain": [
       "   surgery    age  hospital_number  rectal_temp  pulse  respiratory_rate  \\\n",
       "0        0  adult           530101         38.5   66.0              28.0   \n",
       "1        1  adult           534817         39.2   88.0              20.0   \n",
       "2        0  adult           530334         38.3   40.0              24.0   \n",
       "3        1  young          5290409         39.1  164.0              84.0   \n",
       "4        0  adult           530255         37.3  104.0              35.0   \n",
       "\n",
       "  temp_of_extremities peripheral_pulse mucous_membrane capillary_refill_time  \\\n",
       "0                cool          reduced             NaN            more_3_sec   \n",
       "1                 NaN              NaN   pale_cyanotic            less_3_sec   \n",
       "2              normal           normal       pale_pink            less_3_sec   \n",
       "3                cold           normal   dark_cyanotic            more_3_sec   \n",
       "4                 NaN              NaN   dark_cyanotic            more_3_sec   \n",
       "\n",
       "   ... packed_cell_volume total_protein abdomo_appearance abdomo_protein  \\\n",
       "0  ...               45.0           8.4               NaN            NaN   \n",
       "1  ...               50.0          85.0            cloudy            2.0   \n",
       "2  ...               33.0           6.7               NaN            NaN   \n",
       "3  ...               48.0           7.2     serosanguious            5.3   \n",
       "4  ...               74.0           7.4               NaN            NaN   \n",
       "\n",
       "  outcome  surgical_lesion lesion_1 lesion_2  lesion_3  cp_data  \n",
       "0       0               no    11300        0         0       no  \n",
       "1       1               no     2208        0         0       no  \n",
       "2       2               no        0        0         0      yes  \n",
       "3       0              yes     2208        0         0      yes  \n",
       "4       0               no     4300        0         0       no  \n",
       "\n",
       "[5 rows x 28 columns]"
      ]
     },
     "execution_count": 543,
     "metadata": {},
     "output_type": "execute_result"
    }
   ],
   "source": [
    "dataset.head()"
   ]
  },
  {
   "cell_type": "markdown",
   "id": "2cdbe45f",
   "metadata": {},
   "source": [
    "## hospital_number Feature"
   ]
  },
  {
   "cell_type": "markdown",
   "id": "8d72d2b9",
   "metadata": {},
   "source": [
    "## hospital_number is case id given to horse "
   ]
  },
  {
   "cell_type": "markdown",
   "id": "e4a1b2c9",
   "metadata": {},
   "source": [
    "## we can see some horses are treated in hospital multiple times"
   ]
  },
  {
   "cell_type": "code",
   "execution_count": 544,
   "id": "6078e349",
   "metadata": {},
   "outputs": [],
   "source": [
    "treatment_frequencies = dict(dataset['hospital_number'].value_counts())"
   ]
  },
  {
   "cell_type": "code",
   "execution_count": 545,
   "id": "9a52769d",
   "metadata": {},
   "outputs": [],
   "source": [
    "dataset['TreatedMultipleTimes'] = dataset['hospital_number'].apply(lambda x: treatment_frequencies[x])"
   ]
  },
  {
   "cell_type": "code",
   "execution_count": 546,
   "id": "233806fe",
   "metadata": {},
   "outputs": [
    {
     "data": {
      "text/plain": [
       "array([1, 2], dtype=int64)"
      ]
     },
     "execution_count": 546,
     "metadata": {},
     "output_type": "execute_result"
    }
   ],
   "source": [
    "dataset['TreatedMultipleTimes'].unique()"
   ]
  },
  {
   "cell_type": "code",
   "execution_count": 547,
   "id": "851b9f99",
   "metadata": {},
   "outputs": [
    {
     "data": {
      "text/html": [
       "<div>\n",
       "<style scoped>\n",
       "    .dataframe tbody tr th:only-of-type {\n",
       "        vertical-align: middle;\n",
       "    }\n",
       "\n",
       "    .dataframe tbody tr th {\n",
       "        vertical-align: top;\n",
       "    }\n",
       "\n",
       "    .dataframe thead th {\n",
       "        text-align: right;\n",
       "    }\n",
       "</style>\n",
       "<table border=\"1\" class=\"dataframe\">\n",
       "  <thead>\n",
       "    <tr style=\"text-align: right;\">\n",
       "      <th></th>\n",
       "      <th>surgery</th>\n",
       "      <th>age</th>\n",
       "      <th>hospital_number</th>\n",
       "      <th>rectal_temp</th>\n",
       "      <th>pulse</th>\n",
       "      <th>respiratory_rate</th>\n",
       "      <th>temp_of_extremities</th>\n",
       "      <th>peripheral_pulse</th>\n",
       "      <th>mucous_membrane</th>\n",
       "      <th>capillary_refill_time</th>\n",
       "      <th>...</th>\n",
       "      <th>total_protein</th>\n",
       "      <th>abdomo_appearance</th>\n",
       "      <th>abdomo_protein</th>\n",
       "      <th>outcome</th>\n",
       "      <th>surgical_lesion</th>\n",
       "      <th>lesion_1</th>\n",
       "      <th>lesion_2</th>\n",
       "      <th>lesion_3</th>\n",
       "      <th>cp_data</th>\n",
       "      <th>TreatedMultipleTimes</th>\n",
       "    </tr>\n",
       "  </thead>\n",
       "  <tbody>\n",
       "    <tr>\n",
       "      <th>0</th>\n",
       "      <td>0</td>\n",
       "      <td>adult</td>\n",
       "      <td>530101</td>\n",
       "      <td>38.5</td>\n",
       "      <td>66.0</td>\n",
       "      <td>28.0</td>\n",
       "      <td>cool</td>\n",
       "      <td>reduced</td>\n",
       "      <td>NaN</td>\n",
       "      <td>more_3_sec</td>\n",
       "      <td>...</td>\n",
       "      <td>8.4</td>\n",
       "      <td>NaN</td>\n",
       "      <td>NaN</td>\n",
       "      <td>0</td>\n",
       "      <td>no</td>\n",
       "      <td>11300</td>\n",
       "      <td>0</td>\n",
       "      <td>0</td>\n",
       "      <td>no</td>\n",
       "      <td>1</td>\n",
       "    </tr>\n",
       "    <tr>\n",
       "      <th>1</th>\n",
       "      <td>1</td>\n",
       "      <td>adult</td>\n",
       "      <td>534817</td>\n",
       "      <td>39.2</td>\n",
       "      <td>88.0</td>\n",
       "      <td>20.0</td>\n",
       "      <td>NaN</td>\n",
       "      <td>NaN</td>\n",
       "      <td>pale_cyanotic</td>\n",
       "      <td>less_3_sec</td>\n",
       "      <td>...</td>\n",
       "      <td>85.0</td>\n",
       "      <td>cloudy</td>\n",
       "      <td>2.0</td>\n",
       "      <td>1</td>\n",
       "      <td>no</td>\n",
       "      <td>2208</td>\n",
       "      <td>0</td>\n",
       "      <td>0</td>\n",
       "      <td>no</td>\n",
       "      <td>1</td>\n",
       "    </tr>\n",
       "    <tr>\n",
       "      <th>2</th>\n",
       "      <td>0</td>\n",
       "      <td>adult</td>\n",
       "      <td>530334</td>\n",
       "      <td>38.3</td>\n",
       "      <td>40.0</td>\n",
       "      <td>24.0</td>\n",
       "      <td>normal</td>\n",
       "      <td>normal</td>\n",
       "      <td>pale_pink</td>\n",
       "      <td>less_3_sec</td>\n",
       "      <td>...</td>\n",
       "      <td>6.7</td>\n",
       "      <td>NaN</td>\n",
       "      <td>NaN</td>\n",
       "      <td>2</td>\n",
       "      <td>no</td>\n",
       "      <td>0</td>\n",
       "      <td>0</td>\n",
       "      <td>0</td>\n",
       "      <td>yes</td>\n",
       "      <td>1</td>\n",
       "    </tr>\n",
       "    <tr>\n",
       "      <th>3</th>\n",
       "      <td>1</td>\n",
       "      <td>young</td>\n",
       "      <td>5290409</td>\n",
       "      <td>39.1</td>\n",
       "      <td>164.0</td>\n",
       "      <td>84.0</td>\n",
       "      <td>cold</td>\n",
       "      <td>normal</td>\n",
       "      <td>dark_cyanotic</td>\n",
       "      <td>more_3_sec</td>\n",
       "      <td>...</td>\n",
       "      <td>7.2</td>\n",
       "      <td>serosanguious</td>\n",
       "      <td>5.3</td>\n",
       "      <td>0</td>\n",
       "      <td>yes</td>\n",
       "      <td>2208</td>\n",
       "      <td>0</td>\n",
       "      <td>0</td>\n",
       "      <td>yes</td>\n",
       "      <td>1</td>\n",
       "    </tr>\n",
       "    <tr>\n",
       "      <th>4</th>\n",
       "      <td>0</td>\n",
       "      <td>adult</td>\n",
       "      <td>530255</td>\n",
       "      <td>37.3</td>\n",
       "      <td>104.0</td>\n",
       "      <td>35.0</td>\n",
       "      <td>NaN</td>\n",
       "      <td>NaN</td>\n",
       "      <td>dark_cyanotic</td>\n",
       "      <td>more_3_sec</td>\n",
       "      <td>...</td>\n",
       "      <td>7.4</td>\n",
       "      <td>NaN</td>\n",
       "      <td>NaN</td>\n",
       "      <td>0</td>\n",
       "      <td>no</td>\n",
       "      <td>4300</td>\n",
       "      <td>0</td>\n",
       "      <td>0</td>\n",
       "      <td>no</td>\n",
       "      <td>1</td>\n",
       "    </tr>\n",
       "  </tbody>\n",
       "</table>\n",
       "<p>5 rows × 29 columns</p>\n",
       "</div>"
      ],
      "text/plain": [
       "   surgery    age  hospital_number  rectal_temp  pulse  respiratory_rate  \\\n",
       "0        0  adult           530101         38.5   66.0              28.0   \n",
       "1        1  adult           534817         39.2   88.0              20.0   \n",
       "2        0  adult           530334         38.3   40.0              24.0   \n",
       "3        1  young          5290409         39.1  164.0              84.0   \n",
       "4        0  adult           530255         37.3  104.0              35.0   \n",
       "\n",
       "  temp_of_extremities peripheral_pulse mucous_membrane capillary_refill_time  \\\n",
       "0                cool          reduced             NaN            more_3_sec   \n",
       "1                 NaN              NaN   pale_cyanotic            less_3_sec   \n",
       "2              normal           normal       pale_pink            less_3_sec   \n",
       "3                cold           normal   dark_cyanotic            more_3_sec   \n",
       "4                 NaN              NaN   dark_cyanotic            more_3_sec   \n",
       "\n",
       "   ... total_protein abdomo_appearance abdomo_protein outcome surgical_lesion  \\\n",
       "0  ...           8.4               NaN            NaN       0              no   \n",
       "1  ...          85.0            cloudy            2.0       1              no   \n",
       "2  ...           6.7               NaN            NaN       2              no   \n",
       "3  ...           7.2     serosanguious            5.3       0             yes   \n",
       "4  ...           7.4               NaN            NaN       0              no   \n",
       "\n",
       "   lesion_1 lesion_2 lesion_3  cp_data  TreatedMultipleTimes  \n",
       "0     11300        0        0       no                     1  \n",
       "1      2208        0        0       no                     1  \n",
       "2         0        0        0      yes                     1  \n",
       "3      2208        0        0      yes                     1  \n",
       "4      4300        0        0       no                     1  \n",
       "\n",
       "[5 rows x 29 columns]"
      ]
     },
     "execution_count": 547,
     "metadata": {},
     "output_type": "execute_result"
    }
   ],
   "source": [
    "dataset.head()"
   ]
  },
  {
   "cell_type": "markdown",
   "id": "6b1e5379",
   "metadata": {},
   "source": [
    "## Fetch the Dataframe when horses are treated are twice"
   ]
  },
  {
   "cell_type": "code",
   "execution_count": 548,
   "id": "b1bb89f2",
   "metadata": {},
   "outputs": [
    {
     "data": {
      "text/html": [
       "<div>\n",
       "<style scoped>\n",
       "    .dataframe tbody tr th:only-of-type {\n",
       "        vertical-align: middle;\n",
       "    }\n",
       "\n",
       "    .dataframe tbody tr th {\n",
       "        vertical-align: top;\n",
       "    }\n",
       "\n",
       "    .dataframe thead th {\n",
       "        text-align: right;\n",
       "    }\n",
       "</style>\n",
       "<table border=\"1\" class=\"dataframe\">\n",
       "  <thead>\n",
       "    <tr style=\"text-align: right;\">\n",
       "      <th></th>\n",
       "      <th>surgery</th>\n",
       "      <th>age</th>\n",
       "      <th>hospital_number</th>\n",
       "      <th>rectal_temp</th>\n",
       "      <th>pulse</th>\n",
       "      <th>respiratory_rate</th>\n",
       "      <th>temp_of_extremities</th>\n",
       "      <th>peripheral_pulse</th>\n",
       "      <th>mucous_membrane</th>\n",
       "      <th>capillary_refill_time</th>\n",
       "      <th>...</th>\n",
       "      <th>total_protein</th>\n",
       "      <th>abdomo_appearance</th>\n",
       "      <th>abdomo_protein</th>\n",
       "      <th>outcome</th>\n",
       "      <th>surgical_lesion</th>\n",
       "      <th>lesion_1</th>\n",
       "      <th>lesion_2</th>\n",
       "      <th>lesion_3</th>\n",
       "      <th>cp_data</th>\n",
       "      <th>TreatedMultipleTimes</th>\n",
       "    </tr>\n",
       "  </thead>\n",
       "  <tbody>\n",
       "    <tr>\n",
       "      <th>26</th>\n",
       "      <td>1</td>\n",
       "      <td>adult</td>\n",
       "      <td>530526</td>\n",
       "      <td>38.3</td>\n",
       "      <td>72.0</td>\n",
       "      <td>30.0</td>\n",
       "      <td>cold</td>\n",
       "      <td>reduced</td>\n",
       "      <td>pale_pink</td>\n",
       "      <td>more_3_sec</td>\n",
       "      <td>...</td>\n",
       "      <td>7.0</td>\n",
       "      <td>cloudy</td>\n",
       "      <td>3.9</td>\n",
       "      <td>2</td>\n",
       "      <td>yes</td>\n",
       "      <td>3111</td>\n",
       "      <td>0</td>\n",
       "      <td>0</td>\n",
       "      <td>yes</td>\n",
       "      <td>2</td>\n",
       "    </tr>\n",
       "    <tr>\n",
       "      <th>34</th>\n",
       "      <td>1</td>\n",
       "      <td>adult</td>\n",
       "      <td>529796</td>\n",
       "      <td>NaN</td>\n",
       "      <td>100.0</td>\n",
       "      <td>30.0</td>\n",
       "      <td>cool</td>\n",
       "      <td>reduced</td>\n",
       "      <td>pale_cyanotic</td>\n",
       "      <td>more_3_sec</td>\n",
       "      <td>...</td>\n",
       "      <td>6.6</td>\n",
       "      <td>NaN</td>\n",
       "      <td>NaN</td>\n",
       "      <td>2</td>\n",
       "      <td>yes</td>\n",
       "      <td>1124</td>\n",
       "      <td>0</td>\n",
       "      <td>0</td>\n",
       "      <td>no</td>\n",
       "      <td>2</td>\n",
       "    </tr>\n",
       "    <tr>\n",
       "      <th>38</th>\n",
       "      <td>0</td>\n",
       "      <td>adult</td>\n",
       "      <td>528996</td>\n",
       "      <td>38.6</td>\n",
       "      <td>52.0</td>\n",
       "      <td>NaN</td>\n",
       "      <td>normal</td>\n",
       "      <td>normal</td>\n",
       "      <td>normal_pink</td>\n",
       "      <td>less_3_sec</td>\n",
       "      <td>...</td>\n",
       "      <td>6.6</td>\n",
       "      <td>clear</td>\n",
       "      <td>5.0</td>\n",
       "      <td>2</td>\n",
       "      <td>no</td>\n",
       "      <td>0</td>\n",
       "      <td>0</td>\n",
       "      <td>0</td>\n",
       "      <td>yes</td>\n",
       "      <td>2</td>\n",
       "    </tr>\n",
       "    <tr>\n",
       "      <th>48</th>\n",
       "      <td>1</td>\n",
       "      <td>adult</td>\n",
       "      <td>528890</td>\n",
       "      <td>38.9</td>\n",
       "      <td>80.0</td>\n",
       "      <td>44.0</td>\n",
       "      <td>cool</td>\n",
       "      <td>reduced</td>\n",
       "      <td>pale_pink</td>\n",
       "      <td>more_3_sec</td>\n",
       "      <td>...</td>\n",
       "      <td>6.5</td>\n",
       "      <td>serosanguious</td>\n",
       "      <td>NaN</td>\n",
       "      <td>0</td>\n",
       "      <td>yes</td>\n",
       "      <td>7111</td>\n",
       "      <td>0</td>\n",
       "      <td>0</td>\n",
       "      <td>no</td>\n",
       "      <td>2</td>\n",
       "    </tr>\n",
       "    <tr>\n",
       "      <th>54</th>\n",
       "      <td>0</td>\n",
       "      <td>adult</td>\n",
       "      <td>529461</td>\n",
       "      <td>40.3</td>\n",
       "      <td>114.0</td>\n",
       "      <td>36.0</td>\n",
       "      <td>cool</td>\n",
       "      <td>reduced</td>\n",
       "      <td>normal_pink</td>\n",
       "      <td>more_3_sec</td>\n",
       "      <td>...</td>\n",
       "      <td>8.1</td>\n",
       "      <td>serosanguious</td>\n",
       "      <td>4.5</td>\n",
       "      <td>1</td>\n",
       "      <td>yes</td>\n",
       "      <td>7400</td>\n",
       "      <td>0</td>\n",
       "      <td>0</td>\n",
       "      <td>yes</td>\n",
       "      <td>2</td>\n",
       "    </tr>\n",
       "    <tr>\n",
       "      <th>59</th>\n",
       "      <td>0</td>\n",
       "      <td>adult</td>\n",
       "      <td>528904</td>\n",
       "      <td>NaN</td>\n",
       "      <td>96.0</td>\n",
       "      <td>NaN</td>\n",
       "      <td>cool</td>\n",
       "      <td>reduced</td>\n",
       "      <td>pale_pink</td>\n",
       "      <td>more_3_sec</td>\n",
       "      <td>...</td>\n",
       "      <td>NaN</td>\n",
       "      <td>NaN</td>\n",
       "      <td>NaN</td>\n",
       "      <td>0</td>\n",
       "      <td>yes</td>\n",
       "      <td>4205</td>\n",
       "      <td>0</td>\n",
       "      <td>0</td>\n",
       "      <td>no</td>\n",
       "      <td>2</td>\n",
       "    </tr>\n",
       "    <tr>\n",
       "      <th>67</th>\n",
       "      <td>0</td>\n",
       "      <td>adult</td>\n",
       "      <td>528931</td>\n",
       "      <td>38.4</td>\n",
       "      <td>54.0</td>\n",
       "      <td>24.0</td>\n",
       "      <td>normal</td>\n",
       "      <td>normal</td>\n",
       "      <td>normal_pink</td>\n",
       "      <td>less_3_sec</td>\n",
       "      <td>...</td>\n",
       "      <td>7.2</td>\n",
       "      <td>clear</td>\n",
       "      <td>NaN</td>\n",
       "      <td>2</td>\n",
       "      <td>no</td>\n",
       "      <td>3111</td>\n",
       "      <td>0</td>\n",
       "      <td>0</td>\n",
       "      <td>yes</td>\n",
       "      <td>2</td>\n",
       "    </tr>\n",
       "    <tr>\n",
       "      <th>71</th>\n",
       "      <td>1</td>\n",
       "      <td>adult</td>\n",
       "      <td>529424</td>\n",
       "      <td>37.8</td>\n",
       "      <td>48.0</td>\n",
       "      <td>28.0</td>\n",
       "      <td>normal</td>\n",
       "      <td>normal</td>\n",
       "      <td>normal_pink</td>\n",
       "      <td>less_3_sec</td>\n",
       "      <td>...</td>\n",
       "      <td>5.9</td>\n",
       "      <td>cloudy</td>\n",
       "      <td>7.0</td>\n",
       "      <td>2</td>\n",
       "      <td>no</td>\n",
       "      <td>0</td>\n",
       "      <td>0</td>\n",
       "      <td>0</td>\n",
       "      <td>yes</td>\n",
       "      <td>2</td>\n",
       "    </tr>\n",
       "    <tr>\n",
       "      <th>73</th>\n",
       "      <td>1</td>\n",
       "      <td>adult</td>\n",
       "      <td>528469</td>\n",
       "      <td>38.1</td>\n",
       "      <td>52.0</td>\n",
       "      <td>24.0</td>\n",
       "      <td>normal</td>\n",
       "      <td>normal</td>\n",
       "      <td>bright_red</td>\n",
       "      <td>less_3_sec</td>\n",
       "      <td>...</td>\n",
       "      <td>7.5</td>\n",
       "      <td>cloudy</td>\n",
       "      <td>2.6</td>\n",
       "      <td>0</td>\n",
       "      <td>yes</td>\n",
       "      <td>2112</td>\n",
       "      <td>0</td>\n",
       "      <td>0</td>\n",
       "      <td>yes</td>\n",
       "      <td>2</td>\n",
       "    </tr>\n",
       "    <tr>\n",
       "      <th>78</th>\n",
       "      <td>1</td>\n",
       "      <td>adult</td>\n",
       "      <td>530693</td>\n",
       "      <td>NaN</td>\n",
       "      <td>NaN</td>\n",
       "      <td>NaN</td>\n",
       "      <td>cool</td>\n",
       "      <td>reduced</td>\n",
       "      <td>pale_pink</td>\n",
       "      <td>3</td>\n",
       "      <td>...</td>\n",
       "      <td>5.9</td>\n",
       "      <td>NaN</td>\n",
       "      <td>NaN</td>\n",
       "      <td>0</td>\n",
       "      <td>yes</td>\n",
       "      <td>3025</td>\n",
       "      <td>0</td>\n",
       "      <td>0</td>\n",
       "      <td>no</td>\n",
       "      <td>2</td>\n",
       "    </tr>\n",
       "    <tr>\n",
       "      <th>83</th>\n",
       "      <td>1</td>\n",
       "      <td>adult</td>\n",
       "      <td>5279822</td>\n",
       "      <td>38.0</td>\n",
       "      <td>NaN</td>\n",
       "      <td>24.0</td>\n",
       "      <td>cool</td>\n",
       "      <td>reduced</td>\n",
       "      <td>dark_cyanotic</td>\n",
       "      <td>more_3_sec</td>\n",
       "      <td>...</td>\n",
       "      <td>7.8</td>\n",
       "      <td>NaN</td>\n",
       "      <td>NaN</td>\n",
       "      <td>0</td>\n",
       "      <td>yes</td>\n",
       "      <td>3205</td>\n",
       "      <td>0</td>\n",
       "      <td>0</td>\n",
       "      <td>no</td>\n",
       "      <td>2</td>\n",
       "    </tr>\n",
       "    <tr>\n",
       "      <th>91</th>\n",
       "      <td>0</td>\n",
       "      <td>adult</td>\n",
       "      <td>529461</td>\n",
       "      <td>40.3</td>\n",
       "      <td>114.0</td>\n",
       "      <td>36.0</td>\n",
       "      <td>cool</td>\n",
       "      <td>reduced</td>\n",
       "      <td>normal_pink</td>\n",
       "      <td>more_3_sec</td>\n",
       "      <td>...</td>\n",
       "      <td>8.1</td>\n",
       "      <td>serosanguious</td>\n",
       "      <td>4.5</td>\n",
       "      <td>0</td>\n",
       "      <td>yes</td>\n",
       "      <td>3205</td>\n",
       "      <td>0</td>\n",
       "      <td>0</td>\n",
       "      <td>yes</td>\n",
       "      <td>2</td>\n",
       "    </tr>\n",
       "    <tr>\n",
       "      <th>94</th>\n",
       "      <td>0</td>\n",
       "      <td>adult</td>\n",
       "      <td>528729</td>\n",
       "      <td>37.5</td>\n",
       "      <td>48.0</td>\n",
       "      <td>30.0</td>\n",
       "      <td>cold</td>\n",
       "      <td>normal</td>\n",
       "      <td>pale_pink</td>\n",
       "      <td>less_3_sec</td>\n",
       "      <td>...</td>\n",
       "      <td>8.6</td>\n",
       "      <td>NaN</td>\n",
       "      <td>NaN</td>\n",
       "      <td>2</td>\n",
       "      <td>no</td>\n",
       "      <td>0</td>\n",
       "      <td>0</td>\n",
       "      <td>0</td>\n",
       "      <td>no</td>\n",
       "      <td>2</td>\n",
       "    </tr>\n",
       "    <tr>\n",
       "      <th>110</th>\n",
       "      <td>1</td>\n",
       "      <td>adult</td>\n",
       "      <td>527544</td>\n",
       "      <td>NaN</td>\n",
       "      <td>70.0</td>\n",
       "      <td>16.0</td>\n",
       "      <td>cool</td>\n",
       "      <td>absent</td>\n",
       "      <td>bright_red</td>\n",
       "      <td>more_3_sec</td>\n",
       "      <td>...</td>\n",
       "      <td>7.5</td>\n",
       "      <td>NaN</td>\n",
       "      <td>NaN</td>\n",
       "      <td>0</td>\n",
       "      <td>yes</td>\n",
       "      <td>2112</td>\n",
       "      <td>0</td>\n",
       "      <td>0</td>\n",
       "      <td>no</td>\n",
       "      <td>2</td>\n",
       "    </tr>\n",
       "    <tr>\n",
       "      <th>114</th>\n",
       "      <td>1</td>\n",
       "      <td>adult</td>\n",
       "      <td>532349</td>\n",
       "      <td>38.4</td>\n",
       "      <td>44.0</td>\n",
       "      <td>24.0</td>\n",
       "      <td>cool</td>\n",
       "      <td>NaN</td>\n",
       "      <td>pale_cyanotic</td>\n",
       "      <td>NaN</td>\n",
       "      <td>...</td>\n",
       "      <td>77.0</td>\n",
       "      <td>NaN</td>\n",
       "      <td>NaN</td>\n",
       "      <td>2</td>\n",
       "      <td>yes</td>\n",
       "      <td>3205</td>\n",
       "      <td>0</td>\n",
       "      <td>0</td>\n",
       "      <td>no</td>\n",
       "      <td>2</td>\n",
       "    </tr>\n",
       "    <tr>\n",
       "      <th>135</th>\n",
       "      <td>1</td>\n",
       "      <td>adult</td>\n",
       "      <td>530693</td>\n",
       "      <td>NaN</td>\n",
       "      <td>NaN</td>\n",
       "      <td>NaN</td>\n",
       "      <td>cool</td>\n",
       "      <td>reduced</td>\n",
       "      <td>pale_pink</td>\n",
       "      <td>more_3_sec</td>\n",
       "      <td>...</td>\n",
       "      <td>5.9</td>\n",
       "      <td>NaN</td>\n",
       "      <td>NaN</td>\n",
       "      <td>0</td>\n",
       "      <td>yes</td>\n",
       "      <td>3025</td>\n",
       "      <td>0</td>\n",
       "      <td>0</td>\n",
       "      <td>no</td>\n",
       "      <td>2</td>\n",
       "    </tr>\n",
       "    <tr>\n",
       "      <th>137</th>\n",
       "      <td>0</td>\n",
       "      <td>adult</td>\n",
       "      <td>532349</td>\n",
       "      <td>38.0</td>\n",
       "      <td>56.0</td>\n",
       "      <td>NaN</td>\n",
       "      <td>normal</td>\n",
       "      <td>increased</td>\n",
       "      <td>pale_pink</td>\n",
       "      <td>less_3_sec</td>\n",
       "      <td>...</td>\n",
       "      <td>71.0</td>\n",
       "      <td>NaN</td>\n",
       "      <td>NaN</td>\n",
       "      <td>2</td>\n",
       "      <td>no</td>\n",
       "      <td>0</td>\n",
       "      <td>0</td>\n",
       "      <td>0</td>\n",
       "      <td>no</td>\n",
       "      <td>2</td>\n",
       "    </tr>\n",
       "    <tr>\n",
       "      <th>142</th>\n",
       "      <td>1</td>\n",
       "      <td>adult</td>\n",
       "      <td>529424</td>\n",
       "      <td>37.8</td>\n",
       "      <td>48.0</td>\n",
       "      <td>28.0</td>\n",
       "      <td>normal</td>\n",
       "      <td>normal</td>\n",
       "      <td>normal_pink</td>\n",
       "      <td>more_3_sec</td>\n",
       "      <td>...</td>\n",
       "      <td>5.9</td>\n",
       "      <td>cloudy</td>\n",
       "      <td>7.0</td>\n",
       "      <td>2</td>\n",
       "      <td>no</td>\n",
       "      <td>0</td>\n",
       "      <td>0</td>\n",
       "      <td>0</td>\n",
       "      <td>yes</td>\n",
       "      <td>2</td>\n",
       "    </tr>\n",
       "    <tr>\n",
       "      <th>155</th>\n",
       "      <td>0</td>\n",
       "      <td>adult</td>\n",
       "      <td>528996</td>\n",
       "      <td>38.6</td>\n",
       "      <td>52.0</td>\n",
       "      <td>20.0</td>\n",
       "      <td>normal</td>\n",
       "      <td>normal</td>\n",
       "      <td>normal_pink</td>\n",
       "      <td>less_3_sec</td>\n",
       "      <td>...</td>\n",
       "      <td>6.6</td>\n",
       "      <td>clear</td>\n",
       "      <td>5.0</td>\n",
       "      <td>2</td>\n",
       "      <td>no</td>\n",
       "      <td>0</td>\n",
       "      <td>0</td>\n",
       "      <td>0</td>\n",
       "      <td>yes</td>\n",
       "      <td>2</td>\n",
       "    </tr>\n",
       "    <tr>\n",
       "      <th>159</th>\n",
       "      <td>1</td>\n",
       "      <td>adult</td>\n",
       "      <td>527916</td>\n",
       "      <td>NaN</td>\n",
       "      <td>NaN</td>\n",
       "      <td>NaN</td>\n",
       "      <td>NaN</td>\n",
       "      <td>NaN</td>\n",
       "      <td>NaN</td>\n",
       "      <td>NaN</td>\n",
       "      <td>...</td>\n",
       "      <td>58.0</td>\n",
       "      <td>cloudy</td>\n",
       "      <td>1.0</td>\n",
       "      <td>2</td>\n",
       "      <td>yes</td>\n",
       "      <td>4205</td>\n",
       "      <td>0</td>\n",
       "      <td>0</td>\n",
       "      <td>no</td>\n",
       "      <td>2</td>\n",
       "    </tr>\n",
       "    <tr>\n",
       "      <th>165</th>\n",
       "      <td>1</td>\n",
       "      <td>adult</td>\n",
       "      <td>527916</td>\n",
       "      <td>38.3</td>\n",
       "      <td>40.0</td>\n",
       "      <td>18.0</td>\n",
       "      <td>normal</td>\n",
       "      <td>normal</td>\n",
       "      <td>normal_pink</td>\n",
       "      <td>less_3_sec</td>\n",
       "      <td>...</td>\n",
       "      <td>5.9</td>\n",
       "      <td>clear</td>\n",
       "      <td>NaN</td>\n",
       "      <td>2</td>\n",
       "      <td>no</td>\n",
       "      <td>0</td>\n",
       "      <td>0</td>\n",
       "      <td>0</td>\n",
       "      <td>yes</td>\n",
       "      <td>2</td>\n",
       "    </tr>\n",
       "    <tr>\n",
       "      <th>178</th>\n",
       "      <td>0</td>\n",
       "      <td>adult</td>\n",
       "      <td>528151</td>\n",
       "      <td>38.5</td>\n",
       "      <td>100.0</td>\n",
       "      <td>NaN</td>\n",
       "      <td>cool</td>\n",
       "      <td>reduced</td>\n",
       "      <td>bright_red</td>\n",
       "      <td>more_3_sec</td>\n",
       "      <td>...</td>\n",
       "      <td>NaN</td>\n",
       "      <td>NaN</td>\n",
       "      <td>NaN</td>\n",
       "      <td>1</td>\n",
       "      <td>no</td>\n",
       "      <td>1111</td>\n",
       "      <td>0</td>\n",
       "      <td>0</td>\n",
       "      <td>yes</td>\n",
       "      <td>2</td>\n",
       "    </tr>\n",
       "    <tr>\n",
       "      <th>181</th>\n",
       "      <td>1</td>\n",
       "      <td>adult</td>\n",
       "      <td>5279822</td>\n",
       "      <td>38.0</td>\n",
       "      <td>NaN</td>\n",
       "      <td>24.0</td>\n",
       "      <td>cool</td>\n",
       "      <td>reduced</td>\n",
       "      <td>dark_cyanotic</td>\n",
       "      <td>more_3_sec</td>\n",
       "      <td>...</td>\n",
       "      <td>7.8</td>\n",
       "      <td>NaN</td>\n",
       "      <td>NaN</td>\n",
       "      <td>0</td>\n",
       "      <td>yes</td>\n",
       "      <td>2205</td>\n",
       "      <td>0</td>\n",
       "      <td>0</td>\n",
       "      <td>no</td>\n",
       "      <td>2</td>\n",
       "    </tr>\n",
       "    <tr>\n",
       "      <th>204</th>\n",
       "      <td>0</td>\n",
       "      <td>adult</td>\n",
       "      <td>528151</td>\n",
       "      <td>38.5</td>\n",
       "      <td>100.0</td>\n",
       "      <td>NaN</td>\n",
       "      <td>cool</td>\n",
       "      <td>reduced</td>\n",
       "      <td>bright_red</td>\n",
       "      <td>more_3_sec</td>\n",
       "      <td>...</td>\n",
       "      <td>NaN</td>\n",
       "      <td>NaN</td>\n",
       "      <td>NaN</td>\n",
       "      <td>1</td>\n",
       "      <td>no</td>\n",
       "      <td>4124</td>\n",
       "      <td>0</td>\n",
       "      <td>0</td>\n",
       "      <td>no</td>\n",
       "      <td>2</td>\n",
       "    </tr>\n",
       "    <tr>\n",
       "      <th>224</th>\n",
       "      <td>0</td>\n",
       "      <td>adult</td>\n",
       "      <td>528931</td>\n",
       "      <td>38.4</td>\n",
       "      <td>54.0</td>\n",
       "      <td>24.0</td>\n",
       "      <td>normal</td>\n",
       "      <td>normal</td>\n",
       "      <td>normal_pink</td>\n",
       "      <td>less_3_sec</td>\n",
       "      <td>...</td>\n",
       "      <td>7.2</td>\n",
       "      <td>clear</td>\n",
       "      <td>8.0</td>\n",
       "      <td>2</td>\n",
       "      <td>no</td>\n",
       "      <td>3111</td>\n",
       "      <td>0</td>\n",
       "      <td>0</td>\n",
       "      <td>yes</td>\n",
       "      <td>2</td>\n",
       "    </tr>\n",
       "    <tr>\n",
       "      <th>232</th>\n",
       "      <td>1</td>\n",
       "      <td>adult</td>\n",
       "      <td>530526</td>\n",
       "      <td>38.3</td>\n",
       "      <td>72.0</td>\n",
       "      <td>30.0</td>\n",
       "      <td>cold</td>\n",
       "      <td>reduced</td>\n",
       "      <td>pale_pink</td>\n",
       "      <td>more_3_sec</td>\n",
       "      <td>...</td>\n",
       "      <td>7.0</td>\n",
       "      <td>cloudy</td>\n",
       "      <td>3.9</td>\n",
       "      <td>2</td>\n",
       "      <td>yes</td>\n",
       "      <td>3113</td>\n",
       "      <td>0</td>\n",
       "      <td>0</td>\n",
       "      <td>yes</td>\n",
       "      <td>2</td>\n",
       "    </tr>\n",
       "    <tr>\n",
       "      <th>233</th>\n",
       "      <td>0</td>\n",
       "      <td>adult</td>\n",
       "      <td>528729</td>\n",
       "      <td>37.5</td>\n",
       "      <td>48.0</td>\n",
       "      <td>30.0</td>\n",
       "      <td>cold</td>\n",
       "      <td>normal</td>\n",
       "      <td>pale_pink</td>\n",
       "      <td>less_3_sec</td>\n",
       "      <td>...</td>\n",
       "      <td>8.6</td>\n",
       "      <td>NaN</td>\n",
       "      <td>NaN</td>\n",
       "      <td>2</td>\n",
       "      <td>no</td>\n",
       "      <td>400</td>\n",
       "      <td>0</td>\n",
       "      <td>0</td>\n",
       "      <td>no</td>\n",
       "      <td>2</td>\n",
       "    </tr>\n",
       "    <tr>\n",
       "      <th>234</th>\n",
       "      <td>1</td>\n",
       "      <td>adult</td>\n",
       "      <td>528469</td>\n",
       "      <td>38.1</td>\n",
       "      <td>52.0</td>\n",
       "      <td>24.0</td>\n",
       "      <td>normal</td>\n",
       "      <td>normal</td>\n",
       "      <td>bright_red</td>\n",
       "      <td>less_3_sec</td>\n",
       "      <td>...</td>\n",
       "      <td>7.5</td>\n",
       "      <td>cloudy</td>\n",
       "      <td>2.6</td>\n",
       "      <td>0</td>\n",
       "      <td>yes</td>\n",
       "      <td>2206</td>\n",
       "      <td>0</td>\n",
       "      <td>0</td>\n",
       "      <td>yes</td>\n",
       "      <td>2</td>\n",
       "    </tr>\n",
       "    <tr>\n",
       "      <th>244</th>\n",
       "      <td>0</td>\n",
       "      <td>adult</td>\n",
       "      <td>528904</td>\n",
       "      <td>NaN</td>\n",
       "      <td>96.0</td>\n",
       "      <td>NaN</td>\n",
       "      <td>cool</td>\n",
       "      <td>reduced</td>\n",
       "      <td>pale_pink</td>\n",
       "      <td>more_3_sec</td>\n",
       "      <td>...</td>\n",
       "      <td>NaN</td>\n",
       "      <td>NaN</td>\n",
       "      <td>NaN</td>\n",
       "      <td>0</td>\n",
       "      <td>yes</td>\n",
       "      <td>41110</td>\n",
       "      <td>0</td>\n",
       "      <td>0</td>\n",
       "      <td>no</td>\n",
       "      <td>2</td>\n",
       "    </tr>\n",
       "    <tr>\n",
       "      <th>271</th>\n",
       "      <td>1</td>\n",
       "      <td>adult</td>\n",
       "      <td>529796</td>\n",
       "      <td>NaN</td>\n",
       "      <td>100.0</td>\n",
       "      <td>30.0</td>\n",
       "      <td>cool</td>\n",
       "      <td>reduced</td>\n",
       "      <td>pale_cyanotic</td>\n",
       "      <td>more_3_sec</td>\n",
       "      <td>...</td>\n",
       "      <td>6.6</td>\n",
       "      <td>NaN</td>\n",
       "      <td>NaN</td>\n",
       "      <td>2</td>\n",
       "      <td>yes</td>\n",
       "      <td>2124</td>\n",
       "      <td>0</td>\n",
       "      <td>0</td>\n",
       "      <td>no</td>\n",
       "      <td>2</td>\n",
       "    </tr>\n",
       "    <tr>\n",
       "      <th>281</th>\n",
       "      <td>1</td>\n",
       "      <td>adult</td>\n",
       "      <td>527544</td>\n",
       "      <td>NaN</td>\n",
       "      <td>70.0</td>\n",
       "      <td>16.0</td>\n",
       "      <td>cool</td>\n",
       "      <td>absent</td>\n",
       "      <td>bright_red</td>\n",
       "      <td>more_3_sec</td>\n",
       "      <td>...</td>\n",
       "      <td>7.5</td>\n",
       "      <td>NaN</td>\n",
       "      <td>NaN</td>\n",
       "      <td>0</td>\n",
       "      <td>yes</td>\n",
       "      <td>1400</td>\n",
       "      <td>0</td>\n",
       "      <td>0</td>\n",
       "      <td>no</td>\n",
       "      <td>2</td>\n",
       "    </tr>\n",
       "    <tr>\n",
       "      <th>290</th>\n",
       "      <td>1</td>\n",
       "      <td>adult</td>\n",
       "      <td>528890</td>\n",
       "      <td>38.9</td>\n",
       "      <td>80.0</td>\n",
       "      <td>44.0</td>\n",
       "      <td>cool</td>\n",
       "      <td>reduced</td>\n",
       "      <td>pale_pink</td>\n",
       "      <td>less_3_sec</td>\n",
       "      <td>...</td>\n",
       "      <td>6.5</td>\n",
       "      <td>serosanguious</td>\n",
       "      <td>NaN</td>\n",
       "      <td>0</td>\n",
       "      <td>yes</td>\n",
       "      <td>7111</td>\n",
       "      <td>0</td>\n",
       "      <td>0</td>\n",
       "      <td>no</td>\n",
       "      <td>2</td>\n",
       "    </tr>\n",
       "  </tbody>\n",
       "</table>\n",
       "<p>32 rows × 29 columns</p>\n",
       "</div>"
      ],
      "text/plain": [
       "     surgery    age  hospital_number  rectal_temp  pulse  respiratory_rate  \\\n",
       "26         1  adult           530526         38.3   72.0              30.0   \n",
       "34         1  adult           529796          NaN  100.0              30.0   \n",
       "38         0  adult           528996         38.6   52.0               NaN   \n",
       "48         1  adult           528890         38.9   80.0              44.0   \n",
       "54         0  adult           529461         40.3  114.0              36.0   \n",
       "59         0  adult           528904          NaN   96.0               NaN   \n",
       "67         0  adult           528931         38.4   54.0              24.0   \n",
       "71         1  adult           529424         37.8   48.0              28.0   \n",
       "73         1  adult           528469         38.1   52.0              24.0   \n",
       "78         1  adult           530693          NaN    NaN               NaN   \n",
       "83         1  adult          5279822         38.0    NaN              24.0   \n",
       "91         0  adult           529461         40.3  114.0              36.0   \n",
       "94         0  adult           528729         37.5   48.0              30.0   \n",
       "110        1  adult           527544          NaN   70.0              16.0   \n",
       "114        1  adult           532349         38.4   44.0              24.0   \n",
       "135        1  adult           530693          NaN    NaN               NaN   \n",
       "137        0  adult           532349         38.0   56.0               NaN   \n",
       "142        1  adult           529424         37.8   48.0              28.0   \n",
       "155        0  adult           528996         38.6   52.0              20.0   \n",
       "159        1  adult           527916          NaN    NaN               NaN   \n",
       "165        1  adult           527916         38.3   40.0              18.0   \n",
       "178        0  adult           528151         38.5  100.0               NaN   \n",
       "181        1  adult          5279822         38.0    NaN              24.0   \n",
       "204        0  adult           528151         38.5  100.0               NaN   \n",
       "224        0  adult           528931         38.4   54.0              24.0   \n",
       "232        1  adult           530526         38.3   72.0              30.0   \n",
       "233        0  adult           528729         37.5   48.0              30.0   \n",
       "234        1  adult           528469         38.1   52.0              24.0   \n",
       "244        0  adult           528904          NaN   96.0               NaN   \n",
       "271        1  adult           529796          NaN  100.0              30.0   \n",
       "281        1  adult           527544          NaN   70.0              16.0   \n",
       "290        1  adult           528890         38.9   80.0              44.0   \n",
       "\n",
       "    temp_of_extremities peripheral_pulse mucous_membrane  \\\n",
       "26                 cold          reduced       pale_pink   \n",
       "34                 cool          reduced   pale_cyanotic   \n",
       "38               normal           normal     normal_pink   \n",
       "48                 cool          reduced       pale_pink   \n",
       "54                 cool          reduced     normal_pink   \n",
       "59                 cool          reduced       pale_pink   \n",
       "67               normal           normal     normal_pink   \n",
       "71               normal           normal     normal_pink   \n",
       "73               normal           normal      bright_red   \n",
       "78                 cool          reduced       pale_pink   \n",
       "83                 cool          reduced   dark_cyanotic   \n",
       "91                 cool          reduced     normal_pink   \n",
       "94                 cold           normal       pale_pink   \n",
       "110                cool           absent      bright_red   \n",
       "114                cool              NaN   pale_cyanotic   \n",
       "135                cool          reduced       pale_pink   \n",
       "137              normal        increased       pale_pink   \n",
       "142              normal           normal     normal_pink   \n",
       "155              normal           normal     normal_pink   \n",
       "159                 NaN              NaN             NaN   \n",
       "165              normal           normal     normal_pink   \n",
       "178                cool          reduced      bright_red   \n",
       "181                cool          reduced   dark_cyanotic   \n",
       "204                cool          reduced      bright_red   \n",
       "224              normal           normal     normal_pink   \n",
       "232                cold          reduced       pale_pink   \n",
       "233                cold           normal       pale_pink   \n",
       "234              normal           normal      bright_red   \n",
       "244                cool          reduced       pale_pink   \n",
       "271                cool          reduced   pale_cyanotic   \n",
       "281                cool           absent      bright_red   \n",
       "290                cool          reduced       pale_pink   \n",
       "\n",
       "    capillary_refill_time  ... total_protein abdomo_appearance abdomo_protein  \\\n",
       "26             more_3_sec  ...           7.0            cloudy            3.9   \n",
       "34             more_3_sec  ...           6.6               NaN            NaN   \n",
       "38             less_3_sec  ...           6.6             clear            5.0   \n",
       "48             more_3_sec  ...           6.5     serosanguious            NaN   \n",
       "54             more_3_sec  ...           8.1     serosanguious            4.5   \n",
       "59             more_3_sec  ...           NaN               NaN            NaN   \n",
       "67             less_3_sec  ...           7.2             clear            NaN   \n",
       "71             less_3_sec  ...           5.9            cloudy            7.0   \n",
       "73             less_3_sec  ...           7.5            cloudy            2.6   \n",
       "78                      3  ...           5.9               NaN            NaN   \n",
       "83             more_3_sec  ...           7.8               NaN            NaN   \n",
       "91             more_3_sec  ...           8.1     serosanguious            4.5   \n",
       "94             less_3_sec  ...           8.6               NaN            NaN   \n",
       "110            more_3_sec  ...           7.5               NaN            NaN   \n",
       "114                   NaN  ...          77.0               NaN            NaN   \n",
       "135            more_3_sec  ...           5.9               NaN            NaN   \n",
       "137            less_3_sec  ...          71.0               NaN            NaN   \n",
       "142            more_3_sec  ...           5.9            cloudy            7.0   \n",
       "155            less_3_sec  ...           6.6             clear            5.0   \n",
       "159                   NaN  ...          58.0            cloudy            1.0   \n",
       "165            less_3_sec  ...           5.9             clear            NaN   \n",
       "178            more_3_sec  ...           NaN               NaN            NaN   \n",
       "181            more_3_sec  ...           7.8               NaN            NaN   \n",
       "204            more_3_sec  ...           NaN               NaN            NaN   \n",
       "224            less_3_sec  ...           7.2             clear            8.0   \n",
       "232            more_3_sec  ...           7.0            cloudy            3.9   \n",
       "233            less_3_sec  ...           8.6               NaN            NaN   \n",
       "234            less_3_sec  ...           7.5            cloudy            2.6   \n",
       "244            more_3_sec  ...           NaN               NaN            NaN   \n",
       "271            more_3_sec  ...           6.6               NaN            NaN   \n",
       "281            more_3_sec  ...           7.5               NaN            NaN   \n",
       "290            less_3_sec  ...           6.5     serosanguious            NaN   \n",
       "\n",
       "    outcome surgical_lesion  lesion_1 lesion_2 lesion_3  cp_data  \\\n",
       "26        2             yes      3111        0        0      yes   \n",
       "34        2             yes      1124        0        0       no   \n",
       "38        2              no         0        0        0      yes   \n",
       "48        0             yes      7111        0        0       no   \n",
       "54        1             yes      7400        0        0      yes   \n",
       "59        0             yes      4205        0        0       no   \n",
       "67        2              no      3111        0        0      yes   \n",
       "71        2              no         0        0        0      yes   \n",
       "73        0             yes      2112        0        0      yes   \n",
       "78        0             yes      3025        0        0       no   \n",
       "83        0             yes      3205        0        0       no   \n",
       "91        0             yes      3205        0        0      yes   \n",
       "94        2              no         0        0        0       no   \n",
       "110       0             yes      2112        0        0       no   \n",
       "114       2             yes      3205        0        0       no   \n",
       "135       0             yes      3025        0        0       no   \n",
       "137       2              no         0        0        0       no   \n",
       "142       2              no         0        0        0      yes   \n",
       "155       2              no         0        0        0      yes   \n",
       "159       2             yes      4205        0        0       no   \n",
       "165       2              no         0        0        0      yes   \n",
       "178       1              no      1111        0        0      yes   \n",
       "181       0             yes      2205        0        0       no   \n",
       "204       1              no      4124        0        0       no   \n",
       "224       2              no      3111        0        0      yes   \n",
       "232       2             yes      3113        0        0      yes   \n",
       "233       2              no       400        0        0       no   \n",
       "234       0             yes      2206        0        0      yes   \n",
       "244       0             yes     41110        0        0       no   \n",
       "271       2             yes      2124        0        0       no   \n",
       "281       0             yes      1400        0        0       no   \n",
       "290       0             yes      7111        0        0       no   \n",
       "\n",
       "     TreatedMultipleTimes  \n",
       "26                      2  \n",
       "34                      2  \n",
       "38                      2  \n",
       "48                      2  \n",
       "54                      2  \n",
       "59                      2  \n",
       "67                      2  \n",
       "71                      2  \n",
       "73                      2  \n",
       "78                      2  \n",
       "83                      2  \n",
       "91                      2  \n",
       "94                      2  \n",
       "110                     2  \n",
       "114                     2  \n",
       "135                     2  \n",
       "137                     2  \n",
       "142                     2  \n",
       "155                     2  \n",
       "159                     2  \n",
       "165                     2  \n",
       "178                     2  \n",
       "181                     2  \n",
       "204                     2  \n",
       "224                     2  \n",
       "232                     2  \n",
       "233                     2  \n",
       "234                     2  \n",
       "244                     2  \n",
       "271                     2  \n",
       "281                     2  \n",
       "290                     2  \n",
       "\n",
       "[32 rows x 29 columns]"
      ]
     },
     "execution_count": 548,
     "metadata": {},
     "output_type": "execute_result"
    }
   ],
   "source": [
    "multiple_times_horse = dataset[dataset['TreatedMultipleTimes'] == 2]\n",
    "multiple_times_horse"
   ]
  },
  {
   "cell_type": "markdown",
   "id": "1fbb5f43",
   "metadata": {},
   "source": [
    "## 16 Unique Horses "
   ]
  },
  {
   "cell_type": "code",
   "execution_count": 549,
   "id": "41b93b03",
   "metadata": {},
   "outputs": [
    {
     "data": {
      "text/plain": [
       "array([ 530526,  529796,  528996,  528890,  529461,  528904,  528931,\n",
       "        529424,  528469,  530693, 5279822,  528729,  527544,  532349,\n",
       "        527916,  528151], dtype=int64)"
      ]
     },
     "execution_count": 549,
     "metadata": {},
     "output_type": "execute_result"
    }
   ],
   "source": [
    "multiple_times_horse['hospital_number'].unique()"
   ]
  },
  {
   "cell_type": "code",
   "execution_count": 550,
   "id": "fdf4590a",
   "metadata": {},
   "outputs": [
    {
     "data": {
      "text/html": [
       "<div>\n",
       "<style scoped>\n",
       "    .dataframe tbody tr th:only-of-type {\n",
       "        vertical-align: middle;\n",
       "    }\n",
       "\n",
       "    .dataframe tbody tr th {\n",
       "        vertical-align: top;\n",
       "    }\n",
       "\n",
       "    .dataframe thead th {\n",
       "        text-align: right;\n",
       "    }\n",
       "</style>\n",
       "<table border=\"1\" class=\"dataframe\">\n",
       "  <thead>\n",
       "    <tr style=\"text-align: right;\">\n",
       "      <th></th>\n",
       "      <th>surgery</th>\n",
       "      <th>age</th>\n",
       "      <th>hospital_number</th>\n",
       "      <th>rectal_temp</th>\n",
       "      <th>pulse</th>\n",
       "      <th>respiratory_rate</th>\n",
       "      <th>temp_of_extremities</th>\n",
       "      <th>peripheral_pulse</th>\n",
       "      <th>mucous_membrane</th>\n",
       "      <th>capillary_refill_time</th>\n",
       "      <th>...</th>\n",
       "      <th>total_protein</th>\n",
       "      <th>abdomo_appearance</th>\n",
       "      <th>abdomo_protein</th>\n",
       "      <th>outcome</th>\n",
       "      <th>surgical_lesion</th>\n",
       "      <th>lesion_1</th>\n",
       "      <th>lesion_2</th>\n",
       "      <th>lesion_3</th>\n",
       "      <th>cp_data</th>\n",
       "      <th>TreatedMultipleTimes</th>\n",
       "    </tr>\n",
       "  </thead>\n",
       "  <tbody>\n",
       "    <tr>\n",
       "      <th>38</th>\n",
       "      <td>0</td>\n",
       "      <td>adult</td>\n",
       "      <td>528996</td>\n",
       "      <td>38.6</td>\n",
       "      <td>52.0</td>\n",
       "      <td>NaN</td>\n",
       "      <td>normal</td>\n",
       "      <td>normal</td>\n",
       "      <td>normal_pink</td>\n",
       "      <td>less_3_sec</td>\n",
       "      <td>...</td>\n",
       "      <td>6.6</td>\n",
       "      <td>clear</td>\n",
       "      <td>5.0</td>\n",
       "      <td>2</td>\n",
       "      <td>no</td>\n",
       "      <td>0</td>\n",
       "      <td>0</td>\n",
       "      <td>0</td>\n",
       "      <td>yes</td>\n",
       "      <td>2</td>\n",
       "    </tr>\n",
       "    <tr>\n",
       "      <th>155</th>\n",
       "      <td>0</td>\n",
       "      <td>adult</td>\n",
       "      <td>528996</td>\n",
       "      <td>38.6</td>\n",
       "      <td>52.0</td>\n",
       "      <td>20.0</td>\n",
       "      <td>normal</td>\n",
       "      <td>normal</td>\n",
       "      <td>normal_pink</td>\n",
       "      <td>less_3_sec</td>\n",
       "      <td>...</td>\n",
       "      <td>6.6</td>\n",
       "      <td>clear</td>\n",
       "      <td>5.0</td>\n",
       "      <td>2</td>\n",
       "      <td>no</td>\n",
       "      <td>0</td>\n",
       "      <td>0</td>\n",
       "      <td>0</td>\n",
       "      <td>yes</td>\n",
       "      <td>2</td>\n",
       "    </tr>\n",
       "  </tbody>\n",
       "</table>\n",
       "<p>2 rows × 29 columns</p>\n",
       "</div>"
      ],
      "text/plain": [
       "     surgery    age  hospital_number  rectal_temp  pulse  respiratory_rate  \\\n",
       "38         0  adult           528996         38.6   52.0               NaN   \n",
       "155        0  adult           528996         38.6   52.0              20.0   \n",
       "\n",
       "    temp_of_extremities peripheral_pulse mucous_membrane  \\\n",
       "38               normal           normal     normal_pink   \n",
       "155              normal           normal     normal_pink   \n",
       "\n",
       "    capillary_refill_time  ... total_protein abdomo_appearance abdomo_protein  \\\n",
       "38             less_3_sec  ...           6.6             clear            5.0   \n",
       "155            less_3_sec  ...           6.6             clear            5.0   \n",
       "\n",
       "    outcome surgical_lesion  lesion_1 lesion_2 lesion_3  cp_data  \\\n",
       "38        2              no         0        0        0      yes   \n",
       "155       2              no         0        0        0      yes   \n",
       "\n",
       "     TreatedMultipleTimes  \n",
       "38                      2  \n",
       "155                     2  \n",
       "\n",
       "[2 rows x 29 columns]"
      ]
     },
     "execution_count": 550,
     "metadata": {},
     "output_type": "execute_result"
    }
   ],
   "source": [
    "horse_hospital_id = 528996\n",
    "\n",
    "multiple_times_horse[multiple_times_horse['hospital_number'] == horse_hospital_id]"
   ]
  },
  {
   "cell_type": "code",
   "execution_count": 551,
   "id": "7476e168",
   "metadata": {},
   "outputs": [
    {
     "name": "stdout",
     "output_type": "stream",
     "text": [
      "38     0\n",
      "155    0\n",
      "Name: surgery, dtype: int64\n",
      "38     adult\n",
      "155    adult\n",
      "Name: age, dtype: object\n",
      "38     528996\n",
      "155    528996\n",
      "Name: hospital_number, dtype: int64\n",
      "38     38.6\n",
      "155    38.6\n",
      "Name: rectal_temp, dtype: float64\n",
      "38     52.0\n",
      "155    52.0\n",
      "Name: pulse, dtype: float64\n",
      "38      NaN\n",
      "155    20.0\n",
      "Name: respiratory_rate, dtype: float64\n",
      "38     normal\n",
      "155    normal\n",
      "Name: temp_of_extremities, dtype: object\n",
      "38     normal\n",
      "155    normal\n",
      "Name: peripheral_pulse, dtype: object\n",
      "38     normal_pink\n",
      "155    normal_pink\n",
      "Name: mucous_membrane, dtype: object\n",
      "38     less_3_sec\n",
      "155    less_3_sec\n",
      "Name: capillary_refill_time, dtype: object\n",
      "38     mild_pain\n",
      "155    mild_pain\n",
      "Name: pain, dtype: object\n",
      "38     hypomotile\n",
      "155    hypomotile\n",
      "Name: peristalsis, dtype: object\n",
      "38     slight\n",
      "155    slight\n",
      "Name: abdominal_distention, dtype: object\n",
      "38     none\n",
      "155    none\n",
      "Name: nasogastric_tube, dtype: object\n",
      "38     none\n",
      "155    none\n",
      "Name: nasogastric_reflux, dtype: object\n",
      "38    NaN\n",
      "155   NaN\n",
      "Name: nasogastric_reflux_ph, dtype: float64\n",
      "38     normal\n",
      "155    normal\n",
      "Name: rectal_exam_feces, dtype: object\n",
      "38     firm\n",
      "155    firm\n",
      "Name: abdomen, dtype: object\n",
      "38     32.0\n",
      "155    36.0\n",
      "Name: packed_cell_volume, dtype: float64\n",
      "38     6.6\n",
      "155    6.6\n",
      "Name: total_protein, dtype: float64\n",
      "38     clear\n",
      "155    clear\n",
      "Name: abdomo_appearance, dtype: object\n",
      "38     5.0\n",
      "155    5.0\n",
      "Name: abdomo_protein, dtype: float64\n",
      "38     2\n",
      "155    2\n",
      "Name: outcome, dtype: int64\n",
      "38     no\n",
      "155    no\n",
      "Name: surgical_lesion, dtype: object\n",
      "38     0\n",
      "155    0\n",
      "Name: lesion_1, dtype: int64\n",
      "38     0\n",
      "155    0\n",
      "Name: lesion_2, dtype: int64\n",
      "38     0\n",
      "155    0\n",
      "Name: lesion_3, dtype: int64\n",
      "38     yes\n",
      "155    yes\n",
      "Name: cp_data, dtype: object\n",
      "38     2\n",
      "155    2\n",
      "Name: TreatedMultipleTimes, dtype: int64\n"
     ]
    }
   ],
   "source": [
    "for col in dataset.columns:\n",
    "    print(dataset[(dataset['TreatedMultipleTimes'] == 2) & (dataset['hospital_number'] == horse_hospital_id)][col])"
   ]
  },
  {
   "cell_type": "code",
   "execution_count": 552,
   "id": "b2a71786",
   "metadata": {},
   "outputs": [
    {
     "data": {
      "text/html": [
       "<div>\n",
       "<style scoped>\n",
       "    .dataframe tbody tr th:only-of-type {\n",
       "        vertical-align: middle;\n",
       "    }\n",
       "\n",
       "    .dataframe tbody tr th {\n",
       "        vertical-align: top;\n",
       "    }\n",
       "\n",
       "    .dataframe thead th {\n",
       "        text-align: right;\n",
       "    }\n",
       "</style>\n",
       "<table border=\"1\" class=\"dataframe\">\n",
       "  <thead>\n",
       "    <tr style=\"text-align: right;\">\n",
       "      <th></th>\n",
       "      <th>surgery</th>\n",
       "      <th>age</th>\n",
       "      <th>hospital_number</th>\n",
       "      <th>rectal_temp</th>\n",
       "      <th>pulse</th>\n",
       "      <th>respiratory_rate</th>\n",
       "      <th>temp_of_extremities</th>\n",
       "      <th>peripheral_pulse</th>\n",
       "      <th>mucous_membrane</th>\n",
       "      <th>capillary_refill_time</th>\n",
       "      <th>...</th>\n",
       "      <th>total_protein</th>\n",
       "      <th>abdomo_appearance</th>\n",
       "      <th>abdomo_protein</th>\n",
       "      <th>outcome</th>\n",
       "      <th>surgical_lesion</th>\n",
       "      <th>lesion_1</th>\n",
       "      <th>lesion_2</th>\n",
       "      <th>lesion_3</th>\n",
       "      <th>cp_data</th>\n",
       "      <th>TreatedMultipleTimes</th>\n",
       "    </tr>\n",
       "  </thead>\n",
       "  <tbody>\n",
       "    <tr>\n",
       "      <th>0</th>\n",
       "      <td>0</td>\n",
       "      <td>adult</td>\n",
       "      <td>530101</td>\n",
       "      <td>38.5</td>\n",
       "      <td>66.0</td>\n",
       "      <td>28.0</td>\n",
       "      <td>cool</td>\n",
       "      <td>reduced</td>\n",
       "      <td>NaN</td>\n",
       "      <td>more_3_sec</td>\n",
       "      <td>...</td>\n",
       "      <td>8.4</td>\n",
       "      <td>NaN</td>\n",
       "      <td>NaN</td>\n",
       "      <td>0</td>\n",
       "      <td>no</td>\n",
       "      <td>11300</td>\n",
       "      <td>0</td>\n",
       "      <td>0</td>\n",
       "      <td>no</td>\n",
       "      <td>1</td>\n",
       "    </tr>\n",
       "    <tr>\n",
       "      <th>1</th>\n",
       "      <td>1</td>\n",
       "      <td>adult</td>\n",
       "      <td>534817</td>\n",
       "      <td>39.2</td>\n",
       "      <td>88.0</td>\n",
       "      <td>20.0</td>\n",
       "      <td>NaN</td>\n",
       "      <td>NaN</td>\n",
       "      <td>pale_cyanotic</td>\n",
       "      <td>less_3_sec</td>\n",
       "      <td>...</td>\n",
       "      <td>85.0</td>\n",
       "      <td>cloudy</td>\n",
       "      <td>2.0</td>\n",
       "      <td>1</td>\n",
       "      <td>no</td>\n",
       "      <td>2208</td>\n",
       "      <td>0</td>\n",
       "      <td>0</td>\n",
       "      <td>no</td>\n",
       "      <td>1</td>\n",
       "    </tr>\n",
       "    <tr>\n",
       "      <th>2</th>\n",
       "      <td>0</td>\n",
       "      <td>adult</td>\n",
       "      <td>530334</td>\n",
       "      <td>38.3</td>\n",
       "      <td>40.0</td>\n",
       "      <td>24.0</td>\n",
       "      <td>normal</td>\n",
       "      <td>normal</td>\n",
       "      <td>pale_pink</td>\n",
       "      <td>less_3_sec</td>\n",
       "      <td>...</td>\n",
       "      <td>6.7</td>\n",
       "      <td>NaN</td>\n",
       "      <td>NaN</td>\n",
       "      <td>2</td>\n",
       "      <td>no</td>\n",
       "      <td>0</td>\n",
       "      <td>0</td>\n",
       "      <td>0</td>\n",
       "      <td>yes</td>\n",
       "      <td>1</td>\n",
       "    </tr>\n",
       "    <tr>\n",
       "      <th>3</th>\n",
       "      <td>1</td>\n",
       "      <td>young</td>\n",
       "      <td>5290409</td>\n",
       "      <td>39.1</td>\n",
       "      <td>164.0</td>\n",
       "      <td>84.0</td>\n",
       "      <td>cold</td>\n",
       "      <td>normal</td>\n",
       "      <td>dark_cyanotic</td>\n",
       "      <td>more_3_sec</td>\n",
       "      <td>...</td>\n",
       "      <td>7.2</td>\n",
       "      <td>serosanguious</td>\n",
       "      <td>5.3</td>\n",
       "      <td>0</td>\n",
       "      <td>yes</td>\n",
       "      <td>2208</td>\n",
       "      <td>0</td>\n",
       "      <td>0</td>\n",
       "      <td>yes</td>\n",
       "      <td>1</td>\n",
       "    </tr>\n",
       "    <tr>\n",
       "      <th>4</th>\n",
       "      <td>0</td>\n",
       "      <td>adult</td>\n",
       "      <td>530255</td>\n",
       "      <td>37.3</td>\n",
       "      <td>104.0</td>\n",
       "      <td>35.0</td>\n",
       "      <td>NaN</td>\n",
       "      <td>NaN</td>\n",
       "      <td>dark_cyanotic</td>\n",
       "      <td>more_3_sec</td>\n",
       "      <td>...</td>\n",
       "      <td>7.4</td>\n",
       "      <td>NaN</td>\n",
       "      <td>NaN</td>\n",
       "      <td>0</td>\n",
       "      <td>no</td>\n",
       "      <td>4300</td>\n",
       "      <td>0</td>\n",
       "      <td>0</td>\n",
       "      <td>no</td>\n",
       "      <td>1</td>\n",
       "    </tr>\n",
       "  </tbody>\n",
       "</table>\n",
       "<p>5 rows × 29 columns</p>\n",
       "</div>"
      ],
      "text/plain": [
       "   surgery    age  hospital_number  rectal_temp  pulse  respiratory_rate  \\\n",
       "0        0  adult           530101         38.5   66.0              28.0   \n",
       "1        1  adult           534817         39.2   88.0              20.0   \n",
       "2        0  adult           530334         38.3   40.0              24.0   \n",
       "3        1  young          5290409         39.1  164.0              84.0   \n",
       "4        0  adult           530255         37.3  104.0              35.0   \n",
       "\n",
       "  temp_of_extremities peripheral_pulse mucous_membrane capillary_refill_time  \\\n",
       "0                cool          reduced             NaN            more_3_sec   \n",
       "1                 NaN              NaN   pale_cyanotic            less_3_sec   \n",
       "2              normal           normal       pale_pink            less_3_sec   \n",
       "3                cold           normal   dark_cyanotic            more_3_sec   \n",
       "4                 NaN              NaN   dark_cyanotic            more_3_sec   \n",
       "\n",
       "   ... total_protein abdomo_appearance abdomo_protein outcome surgical_lesion  \\\n",
       "0  ...           8.4               NaN            NaN       0              no   \n",
       "1  ...          85.0            cloudy            2.0       1              no   \n",
       "2  ...           6.7               NaN            NaN       2              no   \n",
       "3  ...           7.2     serosanguious            5.3       0             yes   \n",
       "4  ...           7.4               NaN            NaN       0              no   \n",
       "\n",
       "   lesion_1 lesion_2 lesion_3  cp_data  TreatedMultipleTimes  \n",
       "0     11300        0        0       no                     1  \n",
       "1      2208        0        0       no                     1  \n",
       "2         0        0        0      yes                     1  \n",
       "3      2208        0        0      yes                     1  \n",
       "4      4300        0        0       no                     1  \n",
       "\n",
       "[5 rows x 29 columns]"
      ]
     },
     "execution_count": 552,
     "metadata": {},
     "output_type": "execute_result"
    }
   ],
   "source": [
    "dataset.head()"
   ]
  },
  {
   "cell_type": "code",
   "execution_count": 553,
   "id": "78645819",
   "metadata": {},
   "outputs": [
    {
     "name": "stderr",
     "output_type": "stream",
     "text": [
      "C:\\Users\\jiten\\AppData\\Local\\Temp/ipykernel_19140/4231230252.py:1: FutureWarning: Dropping of nuisance columns in DataFrame reductions (with 'numeric_only=None') is deprecated; in a future version this will raise TypeError.  Select only valid columns before calling the reduction.\n",
      "  dataset.skew()\n"
     ]
    },
    {
     "data": {
      "text/plain": [
       "surgery                  -0.418897\n",
       "hospital_number           2.394354\n",
       "rectal_temp               0.030647\n",
       "pulse                     1.018127\n",
       "respiratory_rate          1.636583\n",
       "nasogastric_reflux_ph    -0.354427\n",
       "packed_cell_volume        0.695830\n",
       "total_protein             1.009973\n",
       "abdomo_protein            1.404909\n",
       "outcome                  -0.711307\n",
       "lesion_1                  4.337764\n",
       "lesion_2                  8.299111\n",
       "lesion_3                 17.291616\n",
       "TreatedMultipleTimes      2.555198\n",
       "dtype: float64"
      ]
     },
     "execution_count": 553,
     "metadata": {},
     "output_type": "execute_result"
    }
   ],
   "source": [
    "dataset.skew()"
   ]
  },
  {
   "cell_type": "markdown",
   "id": "dc1b81e4",
   "metadata": {},
   "source": [
    "## rectal_temp Feature "
   ]
  },
  {
   "cell_type": "code",
   "execution_count": 554,
   "id": "43d6b278",
   "metadata": {},
   "outputs": [
    {
     "data": {
      "text/plain": [
       "60"
      ]
     },
     "execution_count": 554,
     "metadata": {},
     "output_type": "execute_result"
    }
   ],
   "source": [
    "dataset['rectal_temp'].isna().sum()"
   ]
  },
  {
   "cell_type": "markdown",
   "id": "13e90c1d",
   "metadata": {},
   "source": [
    "## Median Encoding Data"
   ]
  },
  {
   "cell_type": "code",
   "execution_count": 555,
   "id": "b94f4c04",
   "metadata": {},
   "outputs": [],
   "source": [
    "dataset['rectal_temp'].fillna(dataset['rectal_temp'].median(), inplace=True)"
   ]
  },
  {
   "cell_type": "code",
   "execution_count": 556,
   "id": "7e166a3e",
   "metadata": {},
   "outputs": [
    {
     "data": {
      "text/plain": [
       "38.2"
      ]
     },
     "execution_count": 556,
     "metadata": {},
     "output_type": "execute_result"
    }
   ],
   "source": [
    "dataset['rectal_temp'].median()"
   ]
  },
  {
   "cell_type": "code",
   "execution_count": 557,
   "id": "1b3a5395",
   "metadata": {},
   "outputs": [
    {
     "name": "stderr",
     "output_type": "stream",
     "text": [
      "C:\\Users\\jiten\\anaconda3\\lib\\site-packages\\seaborn\\distributions.py:2619: FutureWarning: `distplot` is a deprecated function and will be removed in a future version. Please adapt your code to use either `displot` (a figure-level function with similar flexibility) or `histplot` (an axes-level function for histograms).\n",
      "  warnings.warn(msg, FutureWarning)\n"
     ]
    },
    {
     "name": "stdout",
     "output_type": "stream",
     "text": [
      "0.0052392960552133105\n"
     ]
    },
    {
     "data": {
      "image/png": "[encoded data removed]",
      "text/plain": [
       "<Figure size 432x288 with 1 Axes>"
      ]
     },
     "metadata": {
      "needs_background": "light"
     },
     "output_type": "display_data"
    },
    {
     "name": "stdout",
     "output_type": "stream",
     "text": [
      "0.005239296055206409\n"
     ]
    },
    {
     "name": "stderr",
     "output_type": "stream",
     "text": [
      "C:\\Users\\jiten\\anaconda3\\lib\\site-packages\\seaborn\\distributions.py:2619: FutureWarning: `distplot` is a deprecated function and will be removed in a future version. Please adapt your code to use either `displot` (a figure-level function with similar flexibility) or `histplot` (an axes-level function for histograms).\n",
      "  warnings.warn(msg, FutureWarning)\n"
     ]
    },
    {
     "data": {
      "image/png": "[encoded data removed]",
      "text/plain": [
       "<Figure size 432x288 with 1 Axes>"
      ]
     },
     "metadata": {
      "needs_background": "light"
     },
     "output_type": "display_data"
    }
   ],
   "source": [
    "modify_boxcox_value('rectal_temp', 1)"
   ]
  },
  {
   "cell_type": "code",
   "execution_count": 558,
   "id": "18002547",
   "metadata": {},
   "outputs": [
    {
     "data": {
      "text/plain": [
       "<seaborn.axisgrid.FacetGrid at 0x1dfec653910>"
      ]
     },
     "execution_count": 558,
     "metadata": {},
     "output_type": "execute_result"
    },
    {
     "data": {
      "image/png": "[encoded data removed]",
      "text/plain": [
       "<Figure size 360x360 with 1 Axes>"
      ]
     },
     "metadata": {
      "needs_background": "light"
     },
     "output_type": "display_data"
    }
   ],
   "source": [
    "sns.catplot(y=\"rectal_temp\", x=\"outcome\", data=dataset)"
   ]
  },
  {
   "cell_type": "markdown",
   "id": "97b26d80",
   "metadata": {},
   "source": [
    "## Rectal Temp distribution is  near about the same for all 3 classes of the target var"
   ]
  },
  {
   "cell_type": "code",
   "execution_count": 559,
   "id": "35fe5843",
   "metadata": {},
   "outputs": [
    {
     "name": "stdout",
     "output_type": "stream",
     "text": [
      "38.2\n",
      "38.2\n",
      "38.2\n"
     ]
    }
   ],
   "source": [
    "for outcome_value in dataset['outcome'].unique():\n",
    "    print(dataset[dataset['outcome'] == outcome_value]['rectal_temp'].median())"
   ]
  },
  {
   "cell_type": "code",
   "execution_count": 560,
   "id": "7b9244c5",
   "metadata": {},
   "outputs": [
    {
     "data": {
      "text/html": [
       "<div>\n",
       "<style scoped>\n",
       "    .dataframe tbody tr th:only-of-type {\n",
       "        vertical-align: middle;\n",
       "    }\n",
       "\n",
       "    .dataframe tbody tr th {\n",
       "        vertical-align: top;\n",
       "    }\n",
       "\n",
       "    .dataframe thead th {\n",
       "        text-align: right;\n",
       "    }\n",
       "</style>\n",
       "<table border=\"1\" class=\"dataframe\">\n",
       "  <thead>\n",
       "    <tr style=\"text-align: right;\">\n",
       "      <th></th>\n",
       "      <th>surgery</th>\n",
       "      <th>age</th>\n",
       "      <th>hospital_number</th>\n",
       "      <th>rectal_temp</th>\n",
       "      <th>pulse</th>\n",
       "      <th>respiratory_rate</th>\n",
       "      <th>temp_of_extremities</th>\n",
       "      <th>peripheral_pulse</th>\n",
       "      <th>mucous_membrane</th>\n",
       "      <th>capillary_refill_time</th>\n",
       "      <th>...</th>\n",
       "      <th>total_protein</th>\n",
       "      <th>abdomo_appearance</th>\n",
       "      <th>abdomo_protein</th>\n",
       "      <th>outcome</th>\n",
       "      <th>surgical_lesion</th>\n",
       "      <th>lesion_1</th>\n",
       "      <th>lesion_2</th>\n",
       "      <th>lesion_3</th>\n",
       "      <th>cp_data</th>\n",
       "      <th>TreatedMultipleTimes</th>\n",
       "    </tr>\n",
       "  </thead>\n",
       "  <tbody>\n",
       "    <tr>\n",
       "      <th>0</th>\n",
       "      <td>0</td>\n",
       "      <td>adult</td>\n",
       "      <td>530101</td>\n",
       "      <td>38.5</td>\n",
       "      <td>66.0</td>\n",
       "      <td>28.0</td>\n",
       "      <td>cool</td>\n",
       "      <td>reduced</td>\n",
       "      <td>NaN</td>\n",
       "      <td>more_3_sec</td>\n",
       "      <td>...</td>\n",
       "      <td>8.4</td>\n",
       "      <td>NaN</td>\n",
       "      <td>NaN</td>\n",
       "      <td>0</td>\n",
       "      <td>no</td>\n",
       "      <td>11300</td>\n",
       "      <td>0</td>\n",
       "      <td>0</td>\n",
       "      <td>no</td>\n",
       "      <td>1</td>\n",
       "    </tr>\n",
       "    <tr>\n",
       "      <th>1</th>\n",
       "      <td>1</td>\n",
       "      <td>adult</td>\n",
       "      <td>534817</td>\n",
       "      <td>39.2</td>\n",
       "      <td>88.0</td>\n",
       "      <td>20.0</td>\n",
       "      <td>NaN</td>\n",
       "      <td>NaN</td>\n",
       "      <td>pale_cyanotic</td>\n",
       "      <td>less_3_sec</td>\n",
       "      <td>...</td>\n",
       "      <td>85.0</td>\n",
       "      <td>cloudy</td>\n",
       "      <td>2.0</td>\n",
       "      <td>1</td>\n",
       "      <td>no</td>\n",
       "      <td>2208</td>\n",
       "      <td>0</td>\n",
       "      <td>0</td>\n",
       "      <td>no</td>\n",
       "      <td>1</td>\n",
       "    </tr>\n",
       "    <tr>\n",
       "      <th>2</th>\n",
       "      <td>0</td>\n",
       "      <td>adult</td>\n",
       "      <td>530334</td>\n",
       "      <td>38.3</td>\n",
       "      <td>40.0</td>\n",
       "      <td>24.0</td>\n",
       "      <td>normal</td>\n",
       "      <td>normal</td>\n",
       "      <td>pale_pink</td>\n",
       "      <td>less_3_sec</td>\n",
       "      <td>...</td>\n",
       "      <td>6.7</td>\n",
       "      <td>NaN</td>\n",
       "      <td>NaN</td>\n",
       "      <td>2</td>\n",
       "      <td>no</td>\n",
       "      <td>0</td>\n",
       "      <td>0</td>\n",
       "      <td>0</td>\n",
       "      <td>yes</td>\n",
       "      <td>1</td>\n",
       "    </tr>\n",
       "    <tr>\n",
       "      <th>3</th>\n",
       "      <td>1</td>\n",
       "      <td>young</td>\n",
       "      <td>5290409</td>\n",
       "      <td>39.1</td>\n",
       "      <td>164.0</td>\n",
       "      <td>84.0</td>\n",
       "      <td>cold</td>\n",
       "      <td>normal</td>\n",
       "      <td>dark_cyanotic</td>\n",
       "      <td>more_3_sec</td>\n",
       "      <td>...</td>\n",
       "      <td>7.2</td>\n",
       "      <td>serosanguious</td>\n",
       "      <td>5.3</td>\n",
       "      <td>0</td>\n",
       "      <td>yes</td>\n",
       "      <td>2208</td>\n",
       "      <td>0</td>\n",
       "      <td>0</td>\n",
       "      <td>yes</td>\n",
       "      <td>1</td>\n",
       "    </tr>\n",
       "    <tr>\n",
       "      <th>4</th>\n",
       "      <td>0</td>\n",
       "      <td>adult</td>\n",
       "      <td>530255</td>\n",
       "      <td>37.3</td>\n",
       "      <td>104.0</td>\n",
       "      <td>35.0</td>\n",
       "      <td>NaN</td>\n",
       "      <td>NaN</td>\n",
       "      <td>dark_cyanotic</td>\n",
       "      <td>more_3_sec</td>\n",
       "      <td>...</td>\n",
       "      <td>7.4</td>\n",
       "      <td>NaN</td>\n",
       "      <td>NaN</td>\n",
       "      <td>0</td>\n",
       "      <td>no</td>\n",
       "      <td>4300</td>\n",
       "      <td>0</td>\n",
       "      <td>0</td>\n",
       "      <td>no</td>\n",
       "      <td>1</td>\n",
       "    </tr>\n",
       "  </tbody>\n",
       "</table>\n",
       "<p>5 rows × 29 columns</p>\n",
       "</div>"
      ],
      "text/plain": [
       "   surgery    age  hospital_number  rectal_temp  pulse  respiratory_rate  \\\n",
       "0        0  adult           530101         38.5   66.0              28.0   \n",
       "1        1  adult           534817         39.2   88.0              20.0   \n",
       "2        0  adult           530334         38.3   40.0              24.0   \n",
       "3        1  young          5290409         39.1  164.0              84.0   \n",
       "4        0  adult           530255         37.3  104.0              35.0   \n",
       "\n",
       "  temp_of_extremities peripheral_pulse mucous_membrane capillary_refill_time  \\\n",
       "0                cool          reduced             NaN            more_3_sec   \n",
       "1                 NaN              NaN   pale_cyanotic            less_3_sec   \n",
       "2              normal           normal       pale_pink            less_3_sec   \n",
       "3                cold           normal   dark_cyanotic            more_3_sec   \n",
       "4                 NaN              NaN   dark_cyanotic            more_3_sec   \n",
       "\n",
       "   ... total_protein abdomo_appearance abdomo_protein outcome surgical_lesion  \\\n",
       "0  ...           8.4               NaN            NaN       0              no   \n",
       "1  ...          85.0            cloudy            2.0       1              no   \n",
       "2  ...           6.7               NaN            NaN       2              no   \n",
       "3  ...           7.2     serosanguious            5.3       0             yes   \n",
       "4  ...           7.4               NaN            NaN       0              no   \n",
       "\n",
       "   lesion_1 lesion_2 lesion_3  cp_data  TreatedMultipleTimes  \n",
       "0     11300        0        0       no                     1  \n",
       "1      2208        0        0       no                     1  \n",
       "2         0        0        0      yes                     1  \n",
       "3      2208        0        0      yes                     1  \n",
       "4      4300        0        0       no                     1  \n",
       "\n",
       "[5 rows x 29 columns]"
      ]
     },
     "execution_count": 560,
     "metadata": {},
     "output_type": "execute_result"
    }
   ],
   "source": [
    "dataset.head()"
   ]
  },
  {
   "cell_type": "markdown",
   "id": "df587e89",
   "metadata": {},
   "source": [
    "## pulse"
   ]
  },
  {
   "cell_type": "code",
   "execution_count": 561,
   "id": "607c72fa",
   "metadata": {},
   "outputs": [
    {
     "data": {
      "text/plain": [
       "24"
      ]
     },
     "execution_count": 561,
     "metadata": {},
     "output_type": "execute_result"
    }
   ],
   "source": [
    "dataset['pulse'].isna().sum()"
   ]
  },
  {
   "cell_type": "markdown",
   "id": "dc7e4c4d",
   "metadata": {},
   "source": [
    "## Median Encoding Data"
   ]
  },
  {
   "cell_type": "code",
   "execution_count": 562,
   "id": "5ba27bdf",
   "metadata": {},
   "outputs": [],
   "source": [
    "dataset['pulse'].fillna(dataset['pulse'].median(), inplace=True)"
   ]
  },
  {
   "cell_type": "code",
   "execution_count": 563,
   "id": "a0a8b926",
   "metadata": {},
   "outputs": [
    {
     "name": "stdout",
     "output_type": "stream",
     "text": [
      "1.1196454292428284\n"
     ]
    },
    {
     "name": "stderr",
     "output_type": "stream",
     "text": [
      "C:\\Users\\jiten\\anaconda3\\lib\\site-packages\\seaborn\\distributions.py:2619: FutureWarning: `distplot` is a deprecated function and will be removed in a future version. Please adapt your code to use either `displot` (a figure-level function with similar flexibility) or `histplot` (an axes-level function for histograms).\n",
      "  warnings.warn(msg, FutureWarning)\n"
     ]
    },
    {
     "data": {
      "image/png": "[encoded data removed]",
      "text/plain": [
       "<Figure size 432x288 with 1 Axes>"
      ]
     },
     "metadata": {
      "needs_background": "light"
     },
     "output_type": "display_data"
    },
    {
     "name": "stdout",
     "output_type": "stream",
     "text": [
      "0.0722177515569591\n"
     ]
    },
    {
     "name": "stderr",
     "output_type": "stream",
     "text": [
      "C:\\Users\\jiten\\anaconda3\\lib\\site-packages\\seaborn\\distributions.py:2619: FutureWarning: `distplot` is a deprecated function and will be removed in a future version. Please adapt your code to use either `displot` (a figure-level function with similar flexibility) or `histplot` (an axes-level function for histograms).\n",
      "  warnings.warn(msg, FutureWarning)\n"
     ]
    },
    {
     "data": {
      "image/png": "[encoded data removed]",
      "text/plain": [
       "<Figure size 432x288 with 1 Axes>"
      ]
     },
     "metadata": {
      "needs_background": "light"
     },
     "output_type": "display_data"
    }
   ],
   "source": [
    "modify_boxcox_value('pulse', -0.4)"
   ]
  },
  {
   "cell_type": "markdown",
   "id": "9ad7d070",
   "metadata": {},
   "source": [
    "## Apply BoxCox Transformation"
   ]
  },
  {
   "cell_type": "code",
   "execution_count": 564,
   "id": "457a1ac3",
   "metadata": {},
   "outputs": [],
   "source": [
    "dataset['transformed_pulse'] = boxcox(dataset['pulse'], -0.4)"
   ]
  },
  {
   "cell_type": "code",
   "execution_count": 565,
   "id": "8dab5eb7",
   "metadata": {},
   "outputs": [
    {
     "data": {
      "text/plain": [
       "<seaborn.axisgrid.FacetGrid at 0x1dfec7b8f40>"
      ]
     },
     "execution_count": 565,
     "metadata": {},
     "output_type": "execute_result"
    },
    {
     "data": {
      "image/png": "[encoded data removed]",
      "text/plain": [
       "<Figure size 360x360 with 1 Axes>"
      ]
     },
     "metadata": {
      "needs_background": "light"
     },
     "output_type": "display_data"
    }
   ],
   "source": [
    "sns.catplot(y=\"pulse\", x=\"outcome\", data=dataset)"
   ]
  },
  {
   "cell_type": "code",
   "execution_count": 566,
   "id": "21505956",
   "metadata": {},
   "outputs": [
    {
     "data": {
      "text/plain": [
       "<seaborn.axisgrid.FacetGrid at 0x1dfec82e190>"
      ]
     },
     "execution_count": 566,
     "metadata": {},
     "output_type": "execute_result"
    },
    {
     "data": {
      "image/png": "[encoded data removed]",
      "text/plain": [
       "<Figure size 360x360 with 1 Axes>"
      ]
     },
     "metadata": {
      "needs_background": "light"
     },
     "output_type": "display_data"
    }
   ],
   "source": [
    "sns.catplot(y=\"transformed_pulse\", x=\"outcome\", data=dataset)"
   ]
  },
  {
   "cell_type": "code",
   "execution_count": 567,
   "id": "9bf7d967",
   "metadata": {},
   "outputs": [
    {
     "name": "stdout",
     "output_type": "stream",
     "text": [
      "0 ===>  80.0\n",
      "1 ===>  81.0\n",
      "2 ===>  56.0\n"
     ]
    }
   ],
   "source": [
    "for outcome_value in dataset['outcome'].unique():\n",
    "    print(outcome_value,'===> ', dataset[dataset['outcome'] == outcome_value]['pulse'].median())"
   ]
  },
  {
   "cell_type": "code",
   "execution_count": 568,
   "id": "0547eb3c",
   "metadata": {},
   "outputs": [
    {
     "name": "stdout",
     "output_type": "stream",
     "text": [
      "0 ===>  2.0667844730280334\n",
      "1 ===>  2.068913386667881\n",
      "2 ===>  2.000351258489637\n"
     ]
    }
   ],
   "source": [
    "for outcome_value in dataset['outcome'].unique():\n",
    "    print(outcome_value,'===> ', dataset[dataset['outcome'] == outcome_value]['transformed_pulse'].median())"
   ]
  },
  {
   "cell_type": "markdown",
   "id": "11de83a2",
   "metadata": {},
   "source": [
    "## After Feature Scaling, median of all 3 classes is close whereas before it was very large"
   ]
  },
  {
   "cell_type": "code",
   "execution_count": 569,
   "id": "ba0de2cb",
   "metadata": {},
   "outputs": [
    {
     "data": {
      "text/html": [
       "<div>\n",
       "<style scoped>\n",
       "    .dataframe tbody tr th:only-of-type {\n",
       "        vertical-align: middle;\n",
       "    }\n",
       "\n",
       "    .dataframe tbody tr th {\n",
       "        vertical-align: top;\n",
       "    }\n",
       "\n",
       "    .dataframe thead th {\n",
       "        text-align: right;\n",
       "    }\n",
       "</style>\n",
       "<table border=\"1\" class=\"dataframe\">\n",
       "  <thead>\n",
       "    <tr style=\"text-align: right;\">\n",
       "      <th></th>\n",
       "      <th>surgery</th>\n",
       "      <th>age</th>\n",
       "      <th>hospital_number</th>\n",
       "      <th>rectal_temp</th>\n",
       "      <th>pulse</th>\n",
       "      <th>respiratory_rate</th>\n",
       "      <th>temp_of_extremities</th>\n",
       "      <th>peripheral_pulse</th>\n",
       "      <th>mucous_membrane</th>\n",
       "      <th>capillary_refill_time</th>\n",
       "      <th>...</th>\n",
       "      <th>abdomo_appearance</th>\n",
       "      <th>abdomo_protein</th>\n",
       "      <th>outcome</th>\n",
       "      <th>surgical_lesion</th>\n",
       "      <th>lesion_1</th>\n",
       "      <th>lesion_2</th>\n",
       "      <th>lesion_3</th>\n",
       "      <th>cp_data</th>\n",
       "      <th>TreatedMultipleTimes</th>\n",
       "      <th>transformed_pulse</th>\n",
       "    </tr>\n",
       "  </thead>\n",
       "  <tbody>\n",
       "    <tr>\n",
       "      <th>0</th>\n",
       "      <td>0</td>\n",
       "      <td>adult</td>\n",
       "      <td>530101</td>\n",
       "      <td>38.5</td>\n",
       "      <td>66.0</td>\n",
       "      <td>28.0</td>\n",
       "      <td>cool</td>\n",
       "      <td>reduced</td>\n",
       "      <td>NaN</td>\n",
       "      <td>more_3_sec</td>\n",
       "      <td>...</td>\n",
       "      <td>NaN</td>\n",
       "      <td>NaN</td>\n",
       "      <td>0</td>\n",
       "      <td>no</td>\n",
       "      <td>11300</td>\n",
       "      <td>0</td>\n",
       "      <td>0</td>\n",
       "      <td>no</td>\n",
       "      <td>1</td>\n",
       "      <td>2.032133</td>\n",
       "    </tr>\n",
       "    <tr>\n",
       "      <th>1</th>\n",
       "      <td>1</td>\n",
       "      <td>adult</td>\n",
       "      <td>534817</td>\n",
       "      <td>39.2</td>\n",
       "      <td>88.0</td>\n",
       "      <td>20.0</td>\n",
       "      <td>NaN</td>\n",
       "      <td>NaN</td>\n",
       "      <td>pale_cyanotic</td>\n",
       "      <td>less_3_sec</td>\n",
       "      <td>...</td>\n",
       "      <td>cloudy</td>\n",
       "      <td>2.0</td>\n",
       "      <td>1</td>\n",
       "      <td>no</td>\n",
       "      <td>2208</td>\n",
       "      <td>0</td>\n",
       "      <td>0</td>\n",
       "      <td>no</td>\n",
       "      <td>1</td>\n",
       "      <td>2.082990</td>\n",
       "    </tr>\n",
       "    <tr>\n",
       "      <th>2</th>\n",
       "      <td>0</td>\n",
       "      <td>adult</td>\n",
       "      <td>530334</td>\n",
       "      <td>38.3</td>\n",
       "      <td>40.0</td>\n",
       "      <td>24.0</td>\n",
       "      <td>normal</td>\n",
       "      <td>normal</td>\n",
       "      <td>pale_pink</td>\n",
       "      <td>less_3_sec</td>\n",
       "      <td>...</td>\n",
       "      <td>NaN</td>\n",
       "      <td>NaN</td>\n",
       "      <td>2</td>\n",
       "      <td>no</td>\n",
       "      <td>0</td>\n",
       "      <td>0</td>\n",
       "      <td>0</td>\n",
       "      <td>yes</td>\n",
       "      <td>1</td>\n",
       "      <td>1.928369</td>\n",
       "    </tr>\n",
       "    <tr>\n",
       "      <th>3</th>\n",
       "      <td>1</td>\n",
       "      <td>young</td>\n",
       "      <td>5290409</td>\n",
       "      <td>39.1</td>\n",
       "      <td>164.0</td>\n",
       "      <td>84.0</td>\n",
       "      <td>cold</td>\n",
       "      <td>normal</td>\n",
       "      <td>dark_cyanotic</td>\n",
       "      <td>more_3_sec</td>\n",
       "      <td>...</td>\n",
       "      <td>serosanguious</td>\n",
       "      <td>5.3</td>\n",
       "      <td>0</td>\n",
       "      <td>yes</td>\n",
       "      <td>2208</td>\n",
       "      <td>0</td>\n",
       "      <td>0</td>\n",
       "      <td>yes</td>\n",
       "      <td>1</td>\n",
       "      <td>2.174911</td>\n",
       "    </tr>\n",
       "    <tr>\n",
       "      <th>4</th>\n",
       "      <td>0</td>\n",
       "      <td>adult</td>\n",
       "      <td>530255</td>\n",
       "      <td>37.3</td>\n",
       "      <td>104.0</td>\n",
       "      <td>35.0</td>\n",
       "      <td>NaN</td>\n",
       "      <td>NaN</td>\n",
       "      <td>dark_cyanotic</td>\n",
       "      <td>more_3_sec</td>\n",
       "      <td>...</td>\n",
       "      <td>NaN</td>\n",
       "      <td>NaN</td>\n",
       "      <td>0</td>\n",
       "      <td>no</td>\n",
       "      <td>4300</td>\n",
       "      <td>0</td>\n",
       "      <td>0</td>\n",
       "      <td>no</td>\n",
       "      <td>1</td>\n",
       "      <td>2.109944</td>\n",
       "    </tr>\n",
       "  </tbody>\n",
       "</table>\n",
       "<p>5 rows × 30 columns</p>\n",
       "</div>"
      ],
      "text/plain": [
       "   surgery    age  hospital_number  rectal_temp  pulse  respiratory_rate  \\\n",
       "0        0  adult           530101         38.5   66.0              28.0   \n",
       "1        1  adult           534817         39.2   88.0              20.0   \n",
       "2        0  adult           530334         38.3   40.0              24.0   \n",
       "3        1  young          5290409         39.1  164.0              84.0   \n",
       "4        0  adult           530255         37.3  104.0              35.0   \n",
       "\n",
       "  temp_of_extremities peripheral_pulse mucous_membrane capillary_refill_time  \\\n",
       "0                cool          reduced             NaN            more_3_sec   \n",
       "1                 NaN              NaN   pale_cyanotic            less_3_sec   \n",
       "2              normal           normal       pale_pink            less_3_sec   \n",
       "3                cold           normal   dark_cyanotic            more_3_sec   \n",
       "4                 NaN              NaN   dark_cyanotic            more_3_sec   \n",
       "\n",
       "   ... abdomo_appearance abdomo_protein outcome surgical_lesion lesion_1  \\\n",
       "0  ...               NaN            NaN       0              no    11300   \n",
       "1  ...            cloudy            2.0       1              no     2208   \n",
       "2  ...               NaN            NaN       2              no        0   \n",
       "3  ...     serosanguious            5.3       0             yes     2208   \n",
       "4  ...               NaN            NaN       0              no     4300   \n",
       "\n",
       "   lesion_2 lesion_3 cp_data  TreatedMultipleTimes  transformed_pulse  \n",
       "0         0        0      no                     1           2.032133  \n",
       "1         0        0      no                     1           2.082990  \n",
       "2         0        0     yes                     1           1.928369  \n",
       "3         0        0     yes                     1           2.174911  \n",
       "4         0        0      no                     1           2.109944  \n",
       "\n",
       "[5 rows x 30 columns]"
      ]
     },
     "execution_count": 569,
     "metadata": {},
     "output_type": "execute_result"
    }
   ],
   "source": [
    "dataset.head()"
   ]
  },
  {
   "cell_type": "markdown",
   "id": "bf3f440f",
   "metadata": {},
   "source": [
    "## respiratory_rate"
   ]
  },
  {
   "cell_type": "code",
   "execution_count": 570,
   "id": "705b2ae1",
   "metadata": {},
   "outputs": [
    {
     "data": {
      "text/plain": [
       "58"
      ]
     },
     "execution_count": 570,
     "metadata": {},
     "output_type": "execute_result"
    }
   ],
   "source": [
    "dataset['respiratory_rate'].isna().sum()"
   ]
  },
  {
   "cell_type": "code",
   "execution_count": 571,
   "id": "3e3dd4b2",
   "metadata": {},
   "outputs": [],
   "source": [
    "dataset['respiratory_rate'].fillna(dataset['respiratory_rate'].median(), inplace=True)"
   ]
  },
  {
   "cell_type": "code",
   "execution_count": 572,
   "id": "20a3e475",
   "metadata": {},
   "outputs": [
    {
     "name": "stdout",
     "output_type": "stream",
     "text": [
      "1.9634619692119912\n"
     ]
    },
    {
     "name": "stderr",
     "output_type": "stream",
     "text": [
      "C:\\Users\\jiten\\anaconda3\\lib\\site-packages\\seaborn\\distributions.py:2619: FutureWarning: `distplot` is a deprecated function and will be removed in a future version. Please adapt your code to use either `displot` (a figure-level function with similar flexibility) or `histplot` (an axes-level function for histograms).\n",
      "  warnings.warn(msg, FutureWarning)\n"
     ]
    },
    {
     "data": {
      "image/png": "[encoded data removed]",
      "text/plain": [
       "<Figure size 432x288 with 1 Axes>"
      ]
     },
     "metadata": {
      "needs_background": "light"
     },
     "output_type": "display_data"
    },
    {
     "name": "stdout",
     "output_type": "stream",
     "text": [
      "0.04286958937936981\n"
     ]
    },
    {
     "name": "stderr",
     "output_type": "stream",
     "text": [
      "C:\\Users\\jiten\\anaconda3\\lib\\site-packages\\seaborn\\distributions.py:2619: FutureWarning: `distplot` is a deprecated function and will be removed in a future version. Please adapt your code to use either `displot` (a figure-level function with similar flexibility) or `histplot` (an axes-level function for histograms).\n",
      "  warnings.warn(msg, FutureWarning)\n"
     ]
    },
    {
     "data": {
      "image/png": "[encoded data removed]",
      "text/plain": [
       "<Figure size 432x288 with 1 Axes>"
      ]
     },
     "metadata": {
      "needs_background": "light"
     },
     "output_type": "display_data"
    }
   ],
   "source": [
    "modify_boxcox_value('respiratory_rate', -0.2)"
   ]
  },
  {
   "cell_type": "markdown",
   "id": "78956fda",
   "metadata": {},
   "source": [
    "## Apply BoxCox Transformation"
   ]
  },
  {
   "cell_type": "code",
   "execution_count": 573,
   "id": "ad8d3c9d",
   "metadata": {},
   "outputs": [],
   "source": [
    "dataset['transformed_respiratory_rate'] = boxcox(dataset['respiratory_rate'], -0.2)"
   ]
  },
  {
   "cell_type": "code",
   "execution_count": 574,
   "id": "bf00e3bd",
   "metadata": {},
   "outputs": [
    {
     "data": {
      "text/plain": [
       "<seaborn.axisgrid.FacetGrid at 0x1dfece0f6a0>"
      ]
     },
     "execution_count": 574,
     "metadata": {},
     "output_type": "execute_result"
    },
    {
     "data": {
      "image/png": "[encoded data removed]",
      "text/plain": [
       "<Figure size 360x360 with 1 Axes>"
      ]
     },
     "metadata": {
      "needs_background": "light"
     },
     "output_type": "display_data"
    }
   ],
   "source": [
    "sns.catplot(y=\"respiratory_rate\", x=\"outcome\", data=dataset)"
   ]
  },
  {
   "cell_type": "code",
   "execution_count": 575,
   "id": "a6c15812",
   "metadata": {},
   "outputs": [
    {
     "data": {
      "text/plain": [
       "<seaborn.axisgrid.FacetGrid at 0x1dfece03310>"
      ]
     },
     "execution_count": 575,
     "metadata": {},
     "output_type": "execute_result"
    },
    {
     "data": {
      "image/png": "[encoded data removed]",
      "text/plain": [
       "<Figure size 360x360 with 1 Axes>"
      ]
     },
     "metadata": {
      "needs_background": "light"
     },
     "output_type": "display_data"
    }
   ],
   "source": [
    "sns.catplot(y=\"transformed_respiratory_rate\", x=\"outcome\", data=dataset)"
   ]
  },
  {
   "cell_type": "code",
   "execution_count": 576,
   "id": "3acc2f20",
   "metadata": {},
   "outputs": [
    {
     "name": "stdout",
     "output_type": "stream",
     "text": [
      "0 ===>  25.0\n",
      "1 ===>  25.0\n",
      "2 ===>  25.0\n"
     ]
    }
   ],
   "source": [
    "for outcome_value in dataset['outcome'].unique():\n",
    "    print(outcome_value,'===> ', dataset[dataset['outcome'] == outcome_value]['respiratory_rate'].median())"
   ]
  },
  {
   "cell_type": "code",
   "execution_count": 577,
   "id": "1ba3d5e1",
   "metadata": {},
   "outputs": [
    {
     "name": "stdout",
     "output_type": "stream",
     "text": [
      "0 ===>  2.3734721955962326\n",
      "1 ===>  2.3734721955962326\n",
      "2 ===>  2.3734721955962326\n"
     ]
    }
   ],
   "source": [
    "for outcome_value in dataset['outcome'].unique():\n",
    "    print(outcome_value,'===> ', dataset[dataset['outcome'] == outcome_value]['transformed_respiratory_rate'].median())"
   ]
  },
  {
   "cell_type": "code",
   "execution_count": 578,
   "id": "f1b4a078",
   "metadata": {},
   "outputs": [
    {
     "data": {
      "text/html": [
       "<div>\n",
       "<style scoped>\n",
       "    .dataframe tbody tr th:only-of-type {\n",
       "        vertical-align: middle;\n",
       "    }\n",
       "\n",
       "    .dataframe tbody tr th {\n",
       "        vertical-align: top;\n",
       "    }\n",
       "\n",
       "    .dataframe thead th {\n",
       "        text-align: right;\n",
       "    }\n",
       "</style>\n",
       "<table border=\"1\" class=\"dataframe\">\n",
       "  <thead>\n",
       "    <tr style=\"text-align: right;\">\n",
       "      <th></th>\n",
       "      <th>surgery</th>\n",
       "      <th>age</th>\n",
       "      <th>hospital_number</th>\n",
       "      <th>rectal_temp</th>\n",
       "      <th>pulse</th>\n",
       "      <th>respiratory_rate</th>\n",
       "      <th>temp_of_extremities</th>\n",
       "      <th>peripheral_pulse</th>\n",
       "      <th>mucous_membrane</th>\n",
       "      <th>capillary_refill_time</th>\n",
       "      <th>...</th>\n",
       "      <th>abdomo_protein</th>\n",
       "      <th>outcome</th>\n",
       "      <th>surgical_lesion</th>\n",
       "      <th>lesion_1</th>\n",
       "      <th>lesion_2</th>\n",
       "      <th>lesion_3</th>\n",
       "      <th>cp_data</th>\n",
       "      <th>TreatedMultipleTimes</th>\n",
       "      <th>transformed_pulse</th>\n",
       "      <th>transformed_respiratory_rate</th>\n",
       "    </tr>\n",
       "  </thead>\n",
       "  <tbody>\n",
       "    <tr>\n",
       "      <th>0</th>\n",
       "      <td>0</td>\n",
       "      <td>adult</td>\n",
       "      <td>530101</td>\n",
       "      <td>38.5</td>\n",
       "      <td>66.0</td>\n",
       "      <td>28.0</td>\n",
       "      <td>cool</td>\n",
       "      <td>reduced</td>\n",
       "      <td>NaN</td>\n",
       "      <td>more_3_sec</td>\n",
       "      <td>...</td>\n",
       "      <td>NaN</td>\n",
       "      <td>0</td>\n",
       "      <td>no</td>\n",
       "      <td>11300</td>\n",
       "      <td>0</td>\n",
       "      <td>0</td>\n",
       "      <td>no</td>\n",
       "      <td>1</td>\n",
       "      <td>2.032133</td>\n",
       "      <td>2.432335</td>\n",
       "    </tr>\n",
       "    <tr>\n",
       "      <th>1</th>\n",
       "      <td>1</td>\n",
       "      <td>adult</td>\n",
       "      <td>534817</td>\n",
       "      <td>39.2</td>\n",
       "      <td>88.0</td>\n",
       "      <td>20.0</td>\n",
       "      <td>NaN</td>\n",
       "      <td>NaN</td>\n",
       "      <td>pale_cyanotic</td>\n",
       "      <td>less_3_sec</td>\n",
       "      <td>...</td>\n",
       "      <td>2.0</td>\n",
       "      <td>1</td>\n",
       "      <td>no</td>\n",
       "      <td>2208</td>\n",
       "      <td>0</td>\n",
       "      <td>0</td>\n",
       "      <td>no</td>\n",
       "      <td>1</td>\n",
       "      <td>2.082990</td>\n",
       "      <td>2.253599</td>\n",
       "    </tr>\n",
       "    <tr>\n",
       "      <th>2</th>\n",
       "      <td>0</td>\n",
       "      <td>adult</td>\n",
       "      <td>530334</td>\n",
       "      <td>38.3</td>\n",
       "      <td>40.0</td>\n",
       "      <td>24.0</td>\n",
       "      <td>normal</td>\n",
       "      <td>normal</td>\n",
       "      <td>pale_pink</td>\n",
       "      <td>less_3_sec</td>\n",
       "      <td>...</td>\n",
       "      <td>NaN</td>\n",
       "      <td>2</td>\n",
       "      <td>no</td>\n",
       "      <td>0</td>\n",
       "      <td>0</td>\n",
       "      <td>0</td>\n",
       "      <td>yes</td>\n",
       "      <td>1</td>\n",
       "      <td>1.928369</td>\n",
       "      <td>2.351940</td>\n",
       "    </tr>\n",
       "    <tr>\n",
       "      <th>3</th>\n",
       "      <td>1</td>\n",
       "      <td>young</td>\n",
       "      <td>5290409</td>\n",
       "      <td>39.1</td>\n",
       "      <td>164.0</td>\n",
       "      <td>84.0</td>\n",
       "      <td>cold</td>\n",
       "      <td>normal</td>\n",
       "      <td>dark_cyanotic</td>\n",
       "      <td>more_3_sec</td>\n",
       "      <td>...</td>\n",
       "      <td>5.3</td>\n",
       "      <td>0</td>\n",
       "      <td>yes</td>\n",
       "      <td>2208</td>\n",
       "      <td>0</td>\n",
       "      <td>0</td>\n",
       "      <td>yes</td>\n",
       "      <td>1</td>\n",
       "      <td>2.174911</td>\n",
       "      <td>2.938828</td>\n",
       "    </tr>\n",
       "    <tr>\n",
       "      <th>4</th>\n",
       "      <td>0</td>\n",
       "      <td>adult</td>\n",
       "      <td>530255</td>\n",
       "      <td>37.3</td>\n",
       "      <td>104.0</td>\n",
       "      <td>35.0</td>\n",
       "      <td>NaN</td>\n",
       "      <td>NaN</td>\n",
       "      <td>dark_cyanotic</td>\n",
       "      <td>more_3_sec</td>\n",
       "      <td>...</td>\n",
       "      <td>NaN</td>\n",
       "      <td>0</td>\n",
       "      <td>no</td>\n",
       "      <td>4300</td>\n",
       "      <td>0</td>\n",
       "      <td>0</td>\n",
       "      <td>no</td>\n",
       "      <td>1</td>\n",
       "      <td>2.109944</td>\n",
       "      <td>2.544407</td>\n",
       "    </tr>\n",
       "  </tbody>\n",
       "</table>\n",
       "<p>5 rows × 31 columns</p>\n",
       "</div>"
      ],
      "text/plain": [
       "   surgery    age  hospital_number  rectal_temp  pulse  respiratory_rate  \\\n",
       "0        0  adult           530101         38.5   66.0              28.0   \n",
       "1        1  adult           534817         39.2   88.0              20.0   \n",
       "2        0  adult           530334         38.3   40.0              24.0   \n",
       "3        1  young          5290409         39.1  164.0              84.0   \n",
       "4        0  adult           530255         37.3  104.0              35.0   \n",
       "\n",
       "  temp_of_extremities peripheral_pulse mucous_membrane capillary_refill_time  \\\n",
       "0                cool          reduced             NaN            more_3_sec   \n",
       "1                 NaN              NaN   pale_cyanotic            less_3_sec   \n",
       "2              normal           normal       pale_pink            less_3_sec   \n",
       "3                cold           normal   dark_cyanotic            more_3_sec   \n",
       "4                 NaN              NaN   dark_cyanotic            more_3_sec   \n",
       "\n",
       "   ... abdomo_protein outcome surgical_lesion lesion_1 lesion_2  lesion_3  \\\n",
       "0  ...            NaN       0              no    11300        0         0   \n",
       "1  ...            2.0       1              no     2208        0         0   \n",
       "2  ...            NaN       2              no        0        0         0   \n",
       "3  ...            5.3       0             yes     2208        0         0   \n",
       "4  ...            NaN       0              no     4300        0         0   \n",
       "\n",
       "  cp_data TreatedMultipleTimes  transformed_pulse  \\\n",
       "0      no                    1           2.032133   \n",
       "1      no                    1           2.082990   \n",
       "2     yes                    1           1.928369   \n",
       "3     yes                    1           2.174911   \n",
       "4      no                    1           2.109944   \n",
       "\n",
       "   transformed_respiratory_rate  \n",
       "0                      2.432335  \n",
       "1                      2.253599  \n",
       "2                      2.351940  \n",
       "3                      2.938828  \n",
       "4                      2.544407  \n",
       "\n",
       "[5 rows x 31 columns]"
      ]
     },
     "execution_count": 578,
     "metadata": {},
     "output_type": "execute_result"
    }
   ],
   "source": [
    "dataset.head()"
   ]
  },
  {
   "cell_type": "markdown",
   "id": "ec1f8f71",
   "metadata": {},
   "source": [
    "## temp_of_extremities"
   ]
  },
  {
   "cell_type": "code",
   "execution_count": 579,
   "id": "d44de208",
   "metadata": {},
   "outputs": [
    {
     "data": {
      "text/plain": [
       "56"
      ]
     },
     "execution_count": 579,
     "metadata": {},
     "output_type": "execute_result"
    }
   ],
   "source": [
    "dataset['temp_of_extremities'].isna().sum()"
   ]
  },
  {
   "cell_type": "code",
   "execution_count": 580,
   "id": "aeb9b49a",
   "metadata": {},
   "outputs": [
    {
     "name": "stderr",
     "output_type": "stream",
     "text": [
      "C:\\Users\\jiten\\anaconda3\\lib\\site-packages\\seaborn\\_decorators.py:36: FutureWarning: Pass the following variable as a keyword arg: x. From version 0.12, the only valid positional argument will be `data`, and passing other arguments without an explicit keyword will result in an error or misinterpretation.\n",
      "  warnings.warn(\n"
     ]
    },
    {
     "data": {
      "text/plain": [
       "<AxesSubplot:xlabel='temp_of_extremities', ylabel='count'>"
      ]
     },
     "execution_count": 580,
     "metadata": {},
     "output_type": "execute_result"
    },
    {
     "data": {
      "image/png": "[encoded data removed]",
      "text/plain": [
       "<Figure size 432x288 with 1 Axes>"
      ]
     },
     "metadata": {
      "needs_background": "light"
     },
     "output_type": "display_data"
    }
   ],
   "source": [
    "sns.countplot(dataset['temp_of_extremities'])"
   ]
  },
  {
   "cell_type": "markdown",
   "id": "4a31ac23",
   "metadata": {},
   "source": [
    "## Imputing with the most frequent value "
   ]
  },
  {
   "cell_type": "code",
   "execution_count": 581,
   "id": "5ca2e0fc",
   "metadata": {},
   "outputs": [
    {
     "data": {
      "text/plain": [
       "'cool'"
      ]
     },
     "execution_count": 581,
     "metadata": {},
     "output_type": "execute_result"
    }
   ],
   "source": [
    "dataset['temp_of_extremities'].value_counts().index[0]"
   ]
  },
  {
   "cell_type": "code",
   "execution_count": 582,
   "id": "b87c6849",
   "metadata": {},
   "outputs": [],
   "source": [
    "dataset['temp_of_extremities'].fillna(dataset['temp_of_extremities'].value_counts().index[0], inplace=True)"
   ]
  },
  {
   "cell_type": "code",
   "execution_count": 583,
   "id": "f871d543",
   "metadata": {},
   "outputs": [
    {
     "data": {
      "text/plain": [
       "<AxesSubplot:xlabel='temp_of_extremities', ylabel='outcome'>"
      ]
     },
     "execution_count": 583,
     "metadata": {},
     "output_type": "execute_result"
    },
    {
     "data": {
      "image/png": "[encoded data removed]",
      "text/plain": [
       "<Figure size 432x288 with 1 Axes>"
      ]
     },
     "metadata": {
      "needs_background": "light"
     },
     "output_type": "display_data"
    }
   ],
   "source": [
    "sns.stripplot(x='temp_of_extremities', y='outcome', data=dataset)"
   ]
  },
  {
   "cell_type": "markdown",
   "id": "43753a40",
   "metadata": {},
   "source": [
    "## Warm belongs to majorly class 2 \n",
    "## Cold Normal and Cool are more and less distributed equally"
   ]
  },
  {
   "cell_type": "markdown",
   "id": "dd7901e6",
   "metadata": {},
   "source": [
    "## peripheral_pulse"
   ]
  },
  {
   "cell_type": "code",
   "execution_count": 584,
   "id": "131cdabc",
   "metadata": {},
   "outputs": [
    {
     "data": {
      "text/plain": [
       "69"
      ]
     },
     "execution_count": 584,
     "metadata": {},
     "output_type": "execute_result"
    }
   ],
   "source": [
    "dataset['peripheral_pulse'].isna().sum()"
   ]
  },
  {
   "cell_type": "code",
   "execution_count": 585,
   "id": "4aab563e",
   "metadata": {},
   "outputs": [
    {
     "name": "stderr",
     "output_type": "stream",
     "text": [
      "C:\\Users\\jiten\\anaconda3\\lib\\site-packages\\seaborn\\_decorators.py:36: FutureWarning: Pass the following variable as a keyword arg: x. From version 0.12, the only valid positional argument will be `data`, and passing other arguments without an explicit keyword will result in an error or misinterpretation.\n",
      "  warnings.warn(\n"
     ]
    },
    {
     "data": {
      "text/plain": [
       "<AxesSubplot:xlabel='peripheral_pulse', ylabel='count'>"
      ]
     },
     "execution_count": 585,
     "metadata": {},
     "output_type": "execute_result"
    },
    {
     "data": {
      "image/png": "[encoded data removed]",
      "text/plain": [
       "<Figure size 432x288 with 1 Axes>"
      ]
     },
     "metadata": {
      "needs_background": "light"
     },
     "output_type": "display_data"
    }
   ],
   "source": [
    "sns.countplot(dataset['peripheral_pulse'])"
   ]
  },
  {
   "cell_type": "markdown",
   "id": "5fd555c3",
   "metadata": {},
   "source": [
    "## Imputing Missing Data with Most Frequent"
   ]
  },
  {
   "cell_type": "code",
   "execution_count": 586,
   "id": "4a968188",
   "metadata": {},
   "outputs": [
    {
     "data": {
      "text/plain": [
       "Index(['normal', 'reduced', 'absent', 'increased'], dtype='object')"
      ]
     },
     "execution_count": 586,
     "metadata": {},
     "output_type": "execute_result"
    }
   ],
   "source": [
    "dataset['peripheral_pulse'].value_counts().index"
   ]
  },
  {
   "cell_type": "code",
   "execution_count": 587,
   "id": "afe6c680",
   "metadata": {},
   "outputs": [],
   "source": [
    "dataset['peripheral_pulse'].fillna(dataset['peripheral_pulse'].value_counts().index[0], inplace=True)"
   ]
  },
  {
   "cell_type": "code",
   "execution_count": 588,
   "id": "dab24f0f",
   "metadata": {},
   "outputs": [
    {
     "data": {
      "text/plain": [
       "<AxesSubplot:xlabel='peripheral_pulse', ylabel='outcome'>"
      ]
     },
     "execution_count": 588,
     "metadata": {},
     "output_type": "execute_result"
    },
    {
     "data": {
      "image/png": "[encoded data removed]",
      "text/plain": [
       "<Figure size 432x288 with 1 Axes>"
      ]
     },
     "metadata": {
      "needs_background": "light"
     },
     "output_type": "display_data"
    }
   ],
   "source": [
    "sns.stripplot(x='peripheral_pulse', y='outcome', data=dataset)"
   ]
  },
  {
   "cell_type": "markdown",
   "id": "eb396494",
   "metadata": {},
   "source": [
    "# Increased peripheral pulse not present when class 0\n",
    "## Reduced, normal have equal distribution across all classes \n",
    "## For absent, outcome is majorly class 0 and class 1"
   ]
  },
  {
   "cell_type": "code",
   "execution_count": 589,
   "id": "024b8106",
   "metadata": {},
   "outputs": [
    {
     "data": {
      "text/html": [
       "<div>\n",
       "<style scoped>\n",
       "    .dataframe tbody tr th:only-of-type {\n",
       "        vertical-align: middle;\n",
       "    }\n",
       "\n",
       "    .dataframe tbody tr th {\n",
       "        vertical-align: top;\n",
       "    }\n",
       "\n",
       "    .dataframe thead th {\n",
       "        text-align: right;\n",
       "    }\n",
       "</style>\n",
       "<table border=\"1\" class=\"dataframe\">\n",
       "  <thead>\n",
       "    <tr style=\"text-align: right;\">\n",
       "      <th></th>\n",
       "      <th>surgery</th>\n",
       "      <th>age</th>\n",
       "      <th>hospital_number</th>\n",
       "      <th>rectal_temp</th>\n",
       "      <th>pulse</th>\n",
       "      <th>respiratory_rate</th>\n",
       "      <th>temp_of_extremities</th>\n",
       "      <th>peripheral_pulse</th>\n",
       "      <th>mucous_membrane</th>\n",
       "      <th>capillary_refill_time</th>\n",
       "      <th>...</th>\n",
       "      <th>abdomo_protein</th>\n",
       "      <th>outcome</th>\n",
       "      <th>surgical_lesion</th>\n",
       "      <th>lesion_1</th>\n",
       "      <th>lesion_2</th>\n",
       "      <th>lesion_3</th>\n",
       "      <th>cp_data</th>\n",
       "      <th>TreatedMultipleTimes</th>\n",
       "      <th>transformed_pulse</th>\n",
       "      <th>transformed_respiratory_rate</th>\n",
       "    </tr>\n",
       "  </thead>\n",
       "  <tbody>\n",
       "    <tr>\n",
       "      <th>0</th>\n",
       "      <td>0</td>\n",
       "      <td>adult</td>\n",
       "      <td>530101</td>\n",
       "      <td>38.5</td>\n",
       "      <td>66.0</td>\n",
       "      <td>28.0</td>\n",
       "      <td>cool</td>\n",
       "      <td>reduced</td>\n",
       "      <td>NaN</td>\n",
       "      <td>more_3_sec</td>\n",
       "      <td>...</td>\n",
       "      <td>NaN</td>\n",
       "      <td>0</td>\n",
       "      <td>no</td>\n",
       "      <td>11300</td>\n",
       "      <td>0</td>\n",
       "      <td>0</td>\n",
       "      <td>no</td>\n",
       "      <td>1</td>\n",
       "      <td>2.032133</td>\n",
       "      <td>2.432335</td>\n",
       "    </tr>\n",
       "    <tr>\n",
       "      <th>1</th>\n",
       "      <td>1</td>\n",
       "      <td>adult</td>\n",
       "      <td>534817</td>\n",
       "      <td>39.2</td>\n",
       "      <td>88.0</td>\n",
       "      <td>20.0</td>\n",
       "      <td>cool</td>\n",
       "      <td>normal</td>\n",
       "      <td>pale_cyanotic</td>\n",
       "      <td>less_3_sec</td>\n",
       "      <td>...</td>\n",
       "      <td>2.0</td>\n",
       "      <td>1</td>\n",
       "      <td>no</td>\n",
       "      <td>2208</td>\n",
       "      <td>0</td>\n",
       "      <td>0</td>\n",
       "      <td>no</td>\n",
       "      <td>1</td>\n",
       "      <td>2.082990</td>\n",
       "      <td>2.253599</td>\n",
       "    </tr>\n",
       "    <tr>\n",
       "      <th>2</th>\n",
       "      <td>0</td>\n",
       "      <td>adult</td>\n",
       "      <td>530334</td>\n",
       "      <td>38.3</td>\n",
       "      <td>40.0</td>\n",
       "      <td>24.0</td>\n",
       "      <td>normal</td>\n",
       "      <td>normal</td>\n",
       "      <td>pale_pink</td>\n",
       "      <td>less_3_sec</td>\n",
       "      <td>...</td>\n",
       "      <td>NaN</td>\n",
       "      <td>2</td>\n",
       "      <td>no</td>\n",
       "      <td>0</td>\n",
       "      <td>0</td>\n",
       "      <td>0</td>\n",
       "      <td>yes</td>\n",
       "      <td>1</td>\n",
       "      <td>1.928369</td>\n",
       "      <td>2.351940</td>\n",
       "    </tr>\n",
       "    <tr>\n",
       "      <th>3</th>\n",
       "      <td>1</td>\n",
       "      <td>young</td>\n",
       "      <td>5290409</td>\n",
       "      <td>39.1</td>\n",
       "      <td>164.0</td>\n",
       "      <td>84.0</td>\n",
       "      <td>cold</td>\n",
       "      <td>normal</td>\n",
       "      <td>dark_cyanotic</td>\n",
       "      <td>more_3_sec</td>\n",
       "      <td>...</td>\n",
       "      <td>5.3</td>\n",
       "      <td>0</td>\n",
       "      <td>yes</td>\n",
       "      <td>2208</td>\n",
       "      <td>0</td>\n",
       "      <td>0</td>\n",
       "      <td>yes</td>\n",
       "      <td>1</td>\n",
       "      <td>2.174911</td>\n",
       "      <td>2.938828</td>\n",
       "    </tr>\n",
       "    <tr>\n",
       "      <th>4</th>\n",
       "      <td>0</td>\n",
       "      <td>adult</td>\n",
       "      <td>530255</td>\n",
       "      <td>37.3</td>\n",
       "      <td>104.0</td>\n",
       "      <td>35.0</td>\n",
       "      <td>cool</td>\n",
       "      <td>normal</td>\n",
       "      <td>dark_cyanotic</td>\n",
       "      <td>more_3_sec</td>\n",
       "      <td>...</td>\n",
       "      <td>NaN</td>\n",
       "      <td>0</td>\n",
       "      <td>no</td>\n",
       "      <td>4300</td>\n",
       "      <td>0</td>\n",
       "      <td>0</td>\n",
       "      <td>no</td>\n",
       "      <td>1</td>\n",
       "      <td>2.109944</td>\n",
       "      <td>2.544407</td>\n",
       "    </tr>\n",
       "  </tbody>\n",
       "</table>\n",
       "<p>5 rows × 31 columns</p>\n",
       "</div>"
      ],
      "text/plain": [
       "   surgery    age  hospital_number  rectal_temp  pulse  respiratory_rate  \\\n",
       "0        0  adult           530101         38.5   66.0              28.0   \n",
       "1        1  adult           534817         39.2   88.0              20.0   \n",
       "2        0  adult           530334         38.3   40.0              24.0   \n",
       "3        1  young          5290409         39.1  164.0              84.0   \n",
       "4        0  adult           530255         37.3  104.0              35.0   \n",
       "\n",
       "  temp_of_extremities peripheral_pulse mucous_membrane capillary_refill_time  \\\n",
       "0                cool          reduced             NaN            more_3_sec   \n",
       "1                cool           normal   pale_cyanotic            less_3_sec   \n",
       "2              normal           normal       pale_pink            less_3_sec   \n",
       "3                cold           normal   dark_cyanotic            more_3_sec   \n",
       "4                cool           normal   dark_cyanotic            more_3_sec   \n",
       "\n",
       "   ... abdomo_protein outcome surgical_lesion lesion_1 lesion_2  lesion_3  \\\n",
       "0  ...            NaN       0              no    11300        0         0   \n",
       "1  ...            2.0       1              no     2208        0         0   \n",
       "2  ...            NaN       2              no        0        0         0   \n",
       "3  ...            5.3       0             yes     2208        0         0   \n",
       "4  ...            NaN       0              no     4300        0         0   \n",
       "\n",
       "  cp_data TreatedMultipleTimes  transformed_pulse  \\\n",
       "0      no                    1           2.032133   \n",
       "1      no                    1           2.082990   \n",
       "2     yes                    1           1.928369   \n",
       "3     yes                    1           2.174911   \n",
       "4      no                    1           2.109944   \n",
       "\n",
       "   transformed_respiratory_rate  \n",
       "0                      2.432335  \n",
       "1                      2.253599  \n",
       "2                      2.351940  \n",
       "3                      2.938828  \n",
       "4                      2.544407  \n",
       "\n",
       "[5 rows x 31 columns]"
      ]
     },
     "execution_count": 589,
     "metadata": {},
     "output_type": "execute_result"
    }
   ],
   "source": [
    "dataset.head()"
   ]
  },
  {
   "cell_type": "markdown",
   "id": "9cd88829",
   "metadata": {},
   "source": [
    "## mucous_membrane"
   ]
  },
  {
   "cell_type": "code",
   "execution_count": 590,
   "id": "d776637f",
   "metadata": {},
   "outputs": [
    {
     "data": {
      "text/plain": [
       "47"
      ]
     },
     "execution_count": 590,
     "metadata": {},
     "output_type": "execute_result"
    }
   ],
   "source": [
    "dataset['mucous_membrane'].isna().sum()"
   ]
  },
  {
   "cell_type": "code",
   "execution_count": 591,
   "id": "663bbbd1",
   "metadata": {},
   "outputs": [
    {
     "name": "stderr",
     "output_type": "stream",
     "text": [
      "C:\\Users\\jiten\\anaconda3\\lib\\site-packages\\seaborn\\_decorators.py:36: FutureWarning: Pass the following variable as a keyword arg: x. From version 0.12, the only valid positional argument will be `data`, and passing other arguments without an explicit keyword will result in an error or misinterpretation.\n",
      "  warnings.warn(\n"
     ]
    },
    {
     "data": {
      "text/plain": [
       "<AxesSubplot:xlabel='mucous_membrane', ylabel='count'>"
      ]
     },
     "execution_count": 591,
     "metadata": {},
     "output_type": "execute_result"
    },
    {
     "data": {
      "image/png": "[encoded data removed]",
      "text/plain": [
       "<Figure size 432x288 with 1 Axes>"
      ]
     },
     "metadata": {
      "needs_background": "light"
     },
     "output_type": "display_data"
    }
   ],
   "source": [
    "sns.countplot(dataset['mucous_membrane'])"
   ]
  },
  {
   "cell_type": "code",
   "execution_count": 592,
   "id": "c023eb48",
   "metadata": {},
   "outputs": [
    {
     "data": {
      "text/plain": [
       "Index(['normal_pink', 'pale_pink', 'pale_cyanotic', 'bright_pink',\n",
       "       'bright_red', 'dark_cyanotic'],\n",
       "      dtype='object')"
      ]
     },
     "execution_count": 592,
     "metadata": {},
     "output_type": "execute_result"
    }
   ],
   "source": [
    "dataset['mucous_membrane'].value_counts().index"
   ]
  },
  {
   "cell_type": "markdown",
   "id": "2e988352",
   "metadata": {},
   "source": [
    "## Imputing Missing Data with Most Frequent Data"
   ]
  },
  {
   "cell_type": "code",
   "execution_count": 593,
   "id": "0bfe23b4",
   "metadata": {},
   "outputs": [],
   "source": [
    "dataset['mucous_membrane'].fillna(dataset['mucous_membrane'].value_counts().index[0], inplace=True)"
   ]
  },
  {
   "cell_type": "code",
   "execution_count": 594,
   "id": "9cfe1845",
   "metadata": {},
   "outputs": [
    {
     "data": {
      "text/plain": [
       "<AxesSubplot:xlabel='mucous_membrane', ylabel='outcome'>"
      ]
     },
     "execution_count": 594,
     "metadata": {},
     "output_type": "execute_result"
    },
    {
     "data": {
      "image/png": "[encoded data removed]",
      "text/plain": [
       "<Figure size 432x288 with 1 Axes>"
      ]
     },
     "metadata": {
      "needs_background": "light"
     },
     "output_type": "display_data"
    }
   ],
   "source": [
    "sns.stripplot(x='mucous_membrane', y='outcome', data=dataset)"
   ]
  },
  {
   "cell_type": "markdown",
   "id": "dbc41e03",
   "metadata": {},
   "source": [
    "## All classes of output and mucous membrane have equal distribution"
   ]
  },
  {
   "cell_type": "code",
   "execution_count": 595,
   "id": "3b114225",
   "metadata": {},
   "outputs": [
    {
     "data": {
      "text/html": [
       "<div>\n",
       "<style scoped>\n",
       "    .dataframe tbody tr th:only-of-type {\n",
       "        vertical-align: middle;\n",
       "    }\n",
       "\n",
       "    .dataframe tbody tr th {\n",
       "        vertical-align: top;\n",
       "    }\n",
       "\n",
       "    .dataframe thead th {\n",
       "        text-align: right;\n",
       "    }\n",
       "</style>\n",
       "<table border=\"1\" class=\"dataframe\">\n",
       "  <thead>\n",
       "    <tr style=\"text-align: right;\">\n",
       "      <th></th>\n",
       "      <th>surgery</th>\n",
       "      <th>age</th>\n",
       "      <th>hospital_number</th>\n",
       "      <th>rectal_temp</th>\n",
       "      <th>pulse</th>\n",
       "      <th>respiratory_rate</th>\n",
       "      <th>temp_of_extremities</th>\n",
       "      <th>peripheral_pulse</th>\n",
       "      <th>mucous_membrane</th>\n",
       "      <th>capillary_refill_time</th>\n",
       "      <th>...</th>\n",
       "      <th>abdomo_protein</th>\n",
       "      <th>outcome</th>\n",
       "      <th>surgical_lesion</th>\n",
       "      <th>lesion_1</th>\n",
       "      <th>lesion_2</th>\n",
       "      <th>lesion_3</th>\n",
       "      <th>cp_data</th>\n",
       "      <th>TreatedMultipleTimes</th>\n",
       "      <th>transformed_pulse</th>\n",
       "      <th>transformed_respiratory_rate</th>\n",
       "    </tr>\n",
       "  </thead>\n",
       "  <tbody>\n",
       "    <tr>\n",
       "      <th>0</th>\n",
       "      <td>0</td>\n",
       "      <td>adult</td>\n",
       "      <td>530101</td>\n",
       "      <td>38.5</td>\n",
       "      <td>66.0</td>\n",
       "      <td>28.0</td>\n",
       "      <td>cool</td>\n",
       "      <td>reduced</td>\n",
       "      <td>normal_pink</td>\n",
       "      <td>more_3_sec</td>\n",
       "      <td>...</td>\n",
       "      <td>NaN</td>\n",
       "      <td>0</td>\n",
       "      <td>no</td>\n",
       "      <td>11300</td>\n",
       "      <td>0</td>\n",
       "      <td>0</td>\n",
       "      <td>no</td>\n",
       "      <td>1</td>\n",
       "      <td>2.032133</td>\n",
       "      <td>2.432335</td>\n",
       "    </tr>\n",
       "    <tr>\n",
       "      <th>1</th>\n",
       "      <td>1</td>\n",
       "      <td>adult</td>\n",
       "      <td>534817</td>\n",
       "      <td>39.2</td>\n",
       "      <td>88.0</td>\n",
       "      <td>20.0</td>\n",
       "      <td>cool</td>\n",
       "      <td>normal</td>\n",
       "      <td>pale_cyanotic</td>\n",
       "      <td>less_3_sec</td>\n",
       "      <td>...</td>\n",
       "      <td>2.0</td>\n",
       "      <td>1</td>\n",
       "      <td>no</td>\n",
       "      <td>2208</td>\n",
       "      <td>0</td>\n",
       "      <td>0</td>\n",
       "      <td>no</td>\n",
       "      <td>1</td>\n",
       "      <td>2.082990</td>\n",
       "      <td>2.253599</td>\n",
       "    </tr>\n",
       "    <tr>\n",
       "      <th>2</th>\n",
       "      <td>0</td>\n",
       "      <td>adult</td>\n",
       "      <td>530334</td>\n",
       "      <td>38.3</td>\n",
       "      <td>40.0</td>\n",
       "      <td>24.0</td>\n",
       "      <td>normal</td>\n",
       "      <td>normal</td>\n",
       "      <td>pale_pink</td>\n",
       "      <td>less_3_sec</td>\n",
       "      <td>...</td>\n",
       "      <td>NaN</td>\n",
       "      <td>2</td>\n",
       "      <td>no</td>\n",
       "      <td>0</td>\n",
       "      <td>0</td>\n",
       "      <td>0</td>\n",
       "      <td>yes</td>\n",
       "      <td>1</td>\n",
       "      <td>1.928369</td>\n",
       "      <td>2.351940</td>\n",
       "    </tr>\n",
       "    <tr>\n",
       "      <th>3</th>\n",
       "      <td>1</td>\n",
       "      <td>young</td>\n",
       "      <td>5290409</td>\n",
       "      <td>39.1</td>\n",
       "      <td>164.0</td>\n",
       "      <td>84.0</td>\n",
       "      <td>cold</td>\n",
       "      <td>normal</td>\n",
       "      <td>dark_cyanotic</td>\n",
       "      <td>more_3_sec</td>\n",
       "      <td>...</td>\n",
       "      <td>5.3</td>\n",
       "      <td>0</td>\n",
       "      <td>yes</td>\n",
       "      <td>2208</td>\n",
       "      <td>0</td>\n",
       "      <td>0</td>\n",
       "      <td>yes</td>\n",
       "      <td>1</td>\n",
       "      <td>2.174911</td>\n",
       "      <td>2.938828</td>\n",
       "    </tr>\n",
       "    <tr>\n",
       "      <th>4</th>\n",
       "      <td>0</td>\n",
       "      <td>adult</td>\n",
       "      <td>530255</td>\n",
       "      <td>37.3</td>\n",
       "      <td>104.0</td>\n",
       "      <td>35.0</td>\n",
       "      <td>cool</td>\n",
       "      <td>normal</td>\n",
       "      <td>dark_cyanotic</td>\n",
       "      <td>more_3_sec</td>\n",
       "      <td>...</td>\n",
       "      <td>NaN</td>\n",
       "      <td>0</td>\n",
       "      <td>no</td>\n",
       "      <td>4300</td>\n",
       "      <td>0</td>\n",
       "      <td>0</td>\n",
       "      <td>no</td>\n",
       "      <td>1</td>\n",
       "      <td>2.109944</td>\n",
       "      <td>2.544407</td>\n",
       "    </tr>\n",
       "  </tbody>\n",
       "</table>\n",
       "<p>5 rows × 31 columns</p>\n",
       "</div>"
      ],
      "text/plain": [
       "   surgery    age  hospital_number  rectal_temp  pulse  respiratory_rate  \\\n",
       "0        0  adult           530101         38.5   66.0              28.0   \n",
       "1        1  adult           534817         39.2   88.0              20.0   \n",
       "2        0  adult           530334         38.3   40.0              24.0   \n",
       "3        1  young          5290409         39.1  164.0              84.0   \n",
       "4        0  adult           530255         37.3  104.0              35.0   \n",
       "\n",
       "  temp_of_extremities peripheral_pulse mucous_membrane capillary_refill_time  \\\n",
       "0                cool          reduced     normal_pink            more_3_sec   \n",
       "1                cool           normal   pale_cyanotic            less_3_sec   \n",
       "2              normal           normal       pale_pink            less_3_sec   \n",
       "3                cold           normal   dark_cyanotic            more_3_sec   \n",
       "4                cool           normal   dark_cyanotic            more_3_sec   \n",
       "\n",
       "   ... abdomo_protein outcome surgical_lesion lesion_1 lesion_2  lesion_3  \\\n",
       "0  ...            NaN       0              no    11300        0         0   \n",
       "1  ...            2.0       1              no     2208        0         0   \n",
       "2  ...            NaN       2              no        0        0         0   \n",
       "3  ...            5.3       0             yes     2208        0         0   \n",
       "4  ...            NaN       0              no     4300        0         0   \n",
       "\n",
       "  cp_data TreatedMultipleTimes  transformed_pulse  \\\n",
       "0      no                    1           2.032133   \n",
       "1      no                    1           2.082990   \n",
       "2     yes                    1           1.928369   \n",
       "3     yes                    1           2.174911   \n",
       "4      no                    1           2.109944   \n",
       "\n",
       "   transformed_respiratory_rate  \n",
       "0                      2.432335  \n",
       "1                      2.253599  \n",
       "2                      2.351940  \n",
       "3                      2.938828  \n",
       "4                      2.544407  \n",
       "\n",
       "[5 rows x 31 columns]"
      ]
     },
     "execution_count": 595,
     "metadata": {},
     "output_type": "execute_result"
    }
   ],
   "source": [
    "dataset.head()"
   ]
  },
  {
   "cell_type": "markdown",
   "id": "99d7daf8",
   "metadata": {},
   "source": [
    "## capillary_refill_time"
   ]
  },
  {
   "cell_type": "code",
   "execution_count": 596,
   "id": "d72f7fde",
   "metadata": {},
   "outputs": [
    {
     "data": {
      "text/plain": [
       "32"
      ]
     },
     "execution_count": 596,
     "metadata": {},
     "output_type": "execute_result"
    }
   ],
   "source": [
    "dataset['capillary_refill_time'].isna().sum()"
   ]
  },
  {
   "cell_type": "code",
   "execution_count": 597,
   "id": "eaa8e42d",
   "metadata": {},
   "outputs": [
    {
     "name": "stderr",
     "output_type": "stream",
     "text": [
      "C:\\Users\\jiten\\anaconda3\\lib\\site-packages\\seaborn\\_decorators.py:36: FutureWarning: Pass the following variable as a keyword arg: x. From version 0.12, the only valid positional argument will be `data`, and passing other arguments without an explicit keyword will result in an error or misinterpretation.\n",
      "  warnings.warn(\n"
     ]
    },
    {
     "data": {
      "text/plain": [
       "<AxesSubplot:xlabel='capillary_refill_time', ylabel='count'>"
      ]
     },
     "execution_count": 597,
     "metadata": {},
     "output_type": "execute_result"
    },
    {
     "data": {
      "image/png": "[encoded data removed]",
      "text/plain": [
       "<Figure size 432x288 with 1 Axes>"
      ]
     },
     "metadata": {
      "needs_background": "light"
     },
     "output_type": "display_data"
    }
   ],
   "source": [
    "sns.countplot(dataset['capillary_refill_time'])"
   ]
  },
  {
   "cell_type": "markdown",
   "id": "be43b5d3",
   "metadata": {},
   "source": [
    "## Only 2 samples in the dataset with capillary_refill_time == 3 so dropping it "
   ]
  },
  {
   "cell_type": "code",
   "execution_count": 598,
   "id": "d1786da1",
   "metadata": {},
   "outputs": [
    {
     "data": {
      "text/plain": [
       "78    0\n",
       "85    2\n",
       "Name: outcome, dtype: int64"
      ]
     },
     "execution_count": 598,
     "metadata": {},
     "output_type": "execute_result"
    }
   ],
   "source": [
    "dataset[dataset['capillary_refill_time'] == '3']['outcome']"
   ]
  },
  {
   "cell_type": "code",
   "execution_count": 599,
   "id": "375c0149",
   "metadata": {},
   "outputs": [
    {
     "data": {
      "text/html": [
       "<div>\n",
       "<style scoped>\n",
       "    .dataframe tbody tr th:only-of-type {\n",
       "        vertical-align: middle;\n",
       "    }\n",
       "\n",
       "    .dataframe tbody tr th {\n",
       "        vertical-align: top;\n",
       "    }\n",
       "\n",
       "    .dataframe thead th {\n",
       "        text-align: right;\n",
       "    }\n",
       "</style>\n",
       "<table border=\"1\" class=\"dataframe\">\n",
       "  <thead>\n",
       "    <tr style=\"text-align: right;\">\n",
       "      <th></th>\n",
       "      <th>surgery</th>\n",
       "      <th>age</th>\n",
       "      <th>hospital_number</th>\n",
       "      <th>rectal_temp</th>\n",
       "      <th>pulse</th>\n",
       "      <th>respiratory_rate</th>\n",
       "      <th>temp_of_extremities</th>\n",
       "      <th>peripheral_pulse</th>\n",
       "      <th>mucous_membrane</th>\n",
       "      <th>capillary_refill_time</th>\n",
       "      <th>...</th>\n",
       "      <th>abdomo_protein</th>\n",
       "      <th>outcome</th>\n",
       "      <th>surgical_lesion</th>\n",
       "      <th>lesion_1</th>\n",
       "      <th>lesion_2</th>\n",
       "      <th>lesion_3</th>\n",
       "      <th>cp_data</th>\n",
       "      <th>TreatedMultipleTimes</th>\n",
       "      <th>transformed_pulse</th>\n",
       "      <th>transformed_respiratory_rate</th>\n",
       "    </tr>\n",
       "  </thead>\n",
       "  <tbody>\n",
       "    <tr>\n",
       "      <th>0</th>\n",
       "      <td>0</td>\n",
       "      <td>adult</td>\n",
       "      <td>530101</td>\n",
       "      <td>38.5</td>\n",
       "      <td>66.0</td>\n",
       "      <td>28.0</td>\n",
       "      <td>cool</td>\n",
       "      <td>reduced</td>\n",
       "      <td>normal_pink</td>\n",
       "      <td>more_3_sec</td>\n",
       "      <td>...</td>\n",
       "      <td>NaN</td>\n",
       "      <td>0</td>\n",
       "      <td>no</td>\n",
       "      <td>11300</td>\n",
       "      <td>0</td>\n",
       "      <td>0</td>\n",
       "      <td>no</td>\n",
       "      <td>1</td>\n",
       "      <td>2.032133</td>\n",
       "      <td>2.432335</td>\n",
       "    </tr>\n",
       "    <tr>\n",
       "      <th>1</th>\n",
       "      <td>1</td>\n",
       "      <td>adult</td>\n",
       "      <td>534817</td>\n",
       "      <td>39.2</td>\n",
       "      <td>88.0</td>\n",
       "      <td>20.0</td>\n",
       "      <td>cool</td>\n",
       "      <td>normal</td>\n",
       "      <td>pale_cyanotic</td>\n",
       "      <td>less_3_sec</td>\n",
       "      <td>...</td>\n",
       "      <td>2.0</td>\n",
       "      <td>1</td>\n",
       "      <td>no</td>\n",
       "      <td>2208</td>\n",
       "      <td>0</td>\n",
       "      <td>0</td>\n",
       "      <td>no</td>\n",
       "      <td>1</td>\n",
       "      <td>2.082990</td>\n",
       "      <td>2.253599</td>\n",
       "    </tr>\n",
       "    <tr>\n",
       "      <th>2</th>\n",
       "      <td>0</td>\n",
       "      <td>adult</td>\n",
       "      <td>530334</td>\n",
       "      <td>38.3</td>\n",
       "      <td>40.0</td>\n",
       "      <td>24.0</td>\n",
       "      <td>normal</td>\n",
       "      <td>normal</td>\n",
       "      <td>pale_pink</td>\n",
       "      <td>less_3_sec</td>\n",
       "      <td>...</td>\n",
       "      <td>NaN</td>\n",
       "      <td>2</td>\n",
       "      <td>no</td>\n",
       "      <td>0</td>\n",
       "      <td>0</td>\n",
       "      <td>0</td>\n",
       "      <td>yes</td>\n",
       "      <td>1</td>\n",
       "      <td>1.928369</td>\n",
       "      <td>2.351940</td>\n",
       "    </tr>\n",
       "    <tr>\n",
       "      <th>3</th>\n",
       "      <td>1</td>\n",
       "      <td>young</td>\n",
       "      <td>5290409</td>\n",
       "      <td>39.1</td>\n",
       "      <td>164.0</td>\n",
       "      <td>84.0</td>\n",
       "      <td>cold</td>\n",
       "      <td>normal</td>\n",
       "      <td>dark_cyanotic</td>\n",
       "      <td>more_3_sec</td>\n",
       "      <td>...</td>\n",
       "      <td>5.3</td>\n",
       "      <td>0</td>\n",
       "      <td>yes</td>\n",
       "      <td>2208</td>\n",
       "      <td>0</td>\n",
       "      <td>0</td>\n",
       "      <td>yes</td>\n",
       "      <td>1</td>\n",
       "      <td>2.174911</td>\n",
       "      <td>2.938828</td>\n",
       "    </tr>\n",
       "    <tr>\n",
       "      <th>4</th>\n",
       "      <td>0</td>\n",
       "      <td>adult</td>\n",
       "      <td>530255</td>\n",
       "      <td>37.3</td>\n",
       "      <td>104.0</td>\n",
       "      <td>35.0</td>\n",
       "      <td>cool</td>\n",
       "      <td>normal</td>\n",
       "      <td>dark_cyanotic</td>\n",
       "      <td>more_3_sec</td>\n",
       "      <td>...</td>\n",
       "      <td>NaN</td>\n",
       "      <td>0</td>\n",
       "      <td>no</td>\n",
       "      <td>4300</td>\n",
       "      <td>0</td>\n",
       "      <td>0</td>\n",
       "      <td>no</td>\n",
       "      <td>1</td>\n",
       "      <td>2.109944</td>\n",
       "      <td>2.544407</td>\n",
       "    </tr>\n",
       "  </tbody>\n",
       "</table>\n",
       "<p>5 rows × 31 columns</p>\n",
       "</div>"
      ],
      "text/plain": [
       "   surgery    age  hospital_number  rectal_temp  pulse  respiratory_rate  \\\n",
       "0        0  adult           530101         38.5   66.0              28.0   \n",
       "1        1  adult           534817         39.2   88.0              20.0   \n",
       "2        0  adult           530334         38.3   40.0              24.0   \n",
       "3        1  young          5290409         39.1  164.0              84.0   \n",
       "4        0  adult           530255         37.3  104.0              35.0   \n",
       "\n",
       "  temp_of_extremities peripheral_pulse mucous_membrane capillary_refill_time  \\\n",
       "0                cool          reduced     normal_pink            more_3_sec   \n",
       "1                cool           normal   pale_cyanotic            less_3_sec   \n",
       "2              normal           normal       pale_pink            less_3_sec   \n",
       "3                cold           normal   dark_cyanotic            more_3_sec   \n",
       "4                cool           normal   dark_cyanotic            more_3_sec   \n",
       "\n",
       "   ... abdomo_protein outcome surgical_lesion lesion_1 lesion_2  lesion_3  \\\n",
       "0  ...            NaN       0              no    11300        0         0   \n",
       "1  ...            2.0       1              no     2208        0         0   \n",
       "2  ...            NaN       2              no        0        0         0   \n",
       "3  ...            5.3       0             yes     2208        0         0   \n",
       "4  ...            NaN       0              no     4300        0         0   \n",
       "\n",
       "  cp_data TreatedMultipleTimes  transformed_pulse  \\\n",
       "0      no                    1           2.032133   \n",
       "1      no                    1           2.082990   \n",
       "2     yes                    1           1.928369   \n",
       "3     yes                    1           2.174911   \n",
       "4      no                    1           2.109944   \n",
       "\n",
       "   transformed_respiratory_rate  \n",
       "0                      2.432335  \n",
       "1                      2.253599  \n",
       "2                      2.351940  \n",
       "3                      2.938828  \n",
       "4                      2.544407  \n",
       "\n",
       "[5 rows x 31 columns]"
      ]
     },
     "execution_count": 599,
     "metadata": {},
     "output_type": "execute_result"
    }
   ],
   "source": [
    "dataset = dataset[dataset['capillary_refill_time'] != '3']\n",
    "\n",
    "dataset.head()"
   ]
  },
  {
   "cell_type": "markdown",
   "id": "f62fa565",
   "metadata": {},
   "source": [
    "## Imputing Missing Data with Most Frequent Data "
   ]
  },
  {
   "cell_type": "code",
   "execution_count": 600,
   "id": "a22f674e",
   "metadata": {},
   "outputs": [
    {
     "name": "stderr",
     "output_type": "stream",
     "text": [
      "C:\\Users\\jiten\\anaconda3\\lib\\site-packages\\pandas\\core\\generic.py:6392: SettingWithCopyWarning: \n",
      "A value is trying to be set on a copy of a slice from a DataFrame\n",
      "\n",
      "See the caveats in the documentation: https://pandas.pydata.org/pandas-docs/stable/user_guide/indexing.html#returning-a-view-versus-a-copy\n",
      "  return self._update_inplace(result)\n"
     ]
    }
   ],
   "source": [
    "dataset['capillary_refill_time'].fillna(dataset['capillary_refill_time'].value_counts().index[0], inplace=True)"
   ]
  },
  {
   "cell_type": "code",
   "execution_count": 601,
   "id": "71ca8bb4",
   "metadata": {},
   "outputs": [
    {
     "data": {
      "text/plain": [
       "<AxesSubplot:xlabel='capillary_refill_time', ylabel='outcome'>"
      ]
     },
     "execution_count": 601,
     "metadata": {},
     "output_type": "execute_result"
    },
    {
     "data": {
      "image/png": "[encoded data removed]",
      "text/plain": [
       "<Figure size 432x288 with 1 Axes>"
      ]
     },
     "metadata": {
      "needs_background": "light"
     },
     "output_type": "display_data"
    }
   ],
   "source": [
    "sns.stripplot(x='capillary_refill_time', y='outcome', data=dataset)"
   ]
  },
  {
   "cell_type": "markdown",
   "id": "c5e53d0a",
   "metadata": {},
   "source": [
    "## distribution is same for capillary_refill_time with the outcome col"
   ]
  },
  {
   "cell_type": "code",
   "execution_count": 602,
   "id": "9aeecf09",
   "metadata": {},
   "outputs": [
    {
     "data": {
      "text/html": [
       "<div>\n",
       "<style scoped>\n",
       "    .dataframe tbody tr th:only-of-type {\n",
       "        vertical-align: middle;\n",
       "    }\n",
       "\n",
       "    .dataframe tbody tr th {\n",
       "        vertical-align: top;\n",
       "    }\n",
       "\n",
       "    .dataframe thead th {\n",
       "        text-align: right;\n",
       "    }\n",
       "</style>\n",
       "<table border=\"1\" class=\"dataframe\">\n",
       "  <thead>\n",
       "    <tr style=\"text-align: right;\">\n",
       "      <th></th>\n",
       "      <th>surgery</th>\n",
       "      <th>age</th>\n",
       "      <th>hospital_number</th>\n",
       "      <th>rectal_temp</th>\n",
       "      <th>pulse</th>\n",
       "      <th>respiratory_rate</th>\n",
       "      <th>temp_of_extremities</th>\n",
       "      <th>peripheral_pulse</th>\n",
       "      <th>mucous_membrane</th>\n",
       "      <th>capillary_refill_time</th>\n",
       "      <th>...</th>\n",
       "      <th>abdomo_protein</th>\n",
       "      <th>outcome</th>\n",
       "      <th>surgical_lesion</th>\n",
       "      <th>lesion_1</th>\n",
       "      <th>lesion_2</th>\n",
       "      <th>lesion_3</th>\n",
       "      <th>cp_data</th>\n",
       "      <th>TreatedMultipleTimes</th>\n",
       "      <th>transformed_pulse</th>\n",
       "      <th>transformed_respiratory_rate</th>\n",
       "    </tr>\n",
       "  </thead>\n",
       "  <tbody>\n",
       "    <tr>\n",
       "      <th>0</th>\n",
       "      <td>0</td>\n",
       "      <td>adult</td>\n",
       "      <td>530101</td>\n",
       "      <td>38.5</td>\n",
       "      <td>66.0</td>\n",
       "      <td>28.0</td>\n",
       "      <td>cool</td>\n",
       "      <td>reduced</td>\n",
       "      <td>normal_pink</td>\n",
       "      <td>more_3_sec</td>\n",
       "      <td>...</td>\n",
       "      <td>NaN</td>\n",
       "      <td>0</td>\n",
       "      <td>no</td>\n",
       "      <td>11300</td>\n",
       "      <td>0</td>\n",
       "      <td>0</td>\n",
       "      <td>no</td>\n",
       "      <td>1</td>\n",
       "      <td>2.032133</td>\n",
       "      <td>2.432335</td>\n",
       "    </tr>\n",
       "    <tr>\n",
       "      <th>1</th>\n",
       "      <td>1</td>\n",
       "      <td>adult</td>\n",
       "      <td>534817</td>\n",
       "      <td>39.2</td>\n",
       "      <td>88.0</td>\n",
       "      <td>20.0</td>\n",
       "      <td>cool</td>\n",
       "      <td>normal</td>\n",
       "      <td>pale_cyanotic</td>\n",
       "      <td>less_3_sec</td>\n",
       "      <td>...</td>\n",
       "      <td>2.0</td>\n",
       "      <td>1</td>\n",
       "      <td>no</td>\n",
       "      <td>2208</td>\n",
       "      <td>0</td>\n",
       "      <td>0</td>\n",
       "      <td>no</td>\n",
       "      <td>1</td>\n",
       "      <td>2.082990</td>\n",
       "      <td>2.253599</td>\n",
       "    </tr>\n",
       "    <tr>\n",
       "      <th>2</th>\n",
       "      <td>0</td>\n",
       "      <td>adult</td>\n",
       "      <td>530334</td>\n",
       "      <td>38.3</td>\n",
       "      <td>40.0</td>\n",
       "      <td>24.0</td>\n",
       "      <td>normal</td>\n",
       "      <td>normal</td>\n",
       "      <td>pale_pink</td>\n",
       "      <td>less_3_sec</td>\n",
       "      <td>...</td>\n",
       "      <td>NaN</td>\n",
       "      <td>2</td>\n",
       "      <td>no</td>\n",
       "      <td>0</td>\n",
       "      <td>0</td>\n",
       "      <td>0</td>\n",
       "      <td>yes</td>\n",
       "      <td>1</td>\n",
       "      <td>1.928369</td>\n",
       "      <td>2.351940</td>\n",
       "    </tr>\n",
       "    <tr>\n",
       "      <th>3</th>\n",
       "      <td>1</td>\n",
       "      <td>young</td>\n",
       "      <td>5290409</td>\n",
       "      <td>39.1</td>\n",
       "      <td>164.0</td>\n",
       "      <td>84.0</td>\n",
       "      <td>cold</td>\n",
       "      <td>normal</td>\n",
       "      <td>dark_cyanotic</td>\n",
       "      <td>more_3_sec</td>\n",
       "      <td>...</td>\n",
       "      <td>5.3</td>\n",
       "      <td>0</td>\n",
       "      <td>yes</td>\n",
       "      <td>2208</td>\n",
       "      <td>0</td>\n",
       "      <td>0</td>\n",
       "      <td>yes</td>\n",
       "      <td>1</td>\n",
       "      <td>2.174911</td>\n",
       "      <td>2.938828</td>\n",
       "    </tr>\n",
       "    <tr>\n",
       "      <th>4</th>\n",
       "      <td>0</td>\n",
       "      <td>adult</td>\n",
       "      <td>530255</td>\n",
       "      <td>37.3</td>\n",
       "      <td>104.0</td>\n",
       "      <td>35.0</td>\n",
       "      <td>cool</td>\n",
       "      <td>normal</td>\n",
       "      <td>dark_cyanotic</td>\n",
       "      <td>more_3_sec</td>\n",
       "      <td>...</td>\n",
       "      <td>NaN</td>\n",
       "      <td>0</td>\n",
       "      <td>no</td>\n",
       "      <td>4300</td>\n",
       "      <td>0</td>\n",
       "      <td>0</td>\n",
       "      <td>no</td>\n",
       "      <td>1</td>\n",
       "      <td>2.109944</td>\n",
       "      <td>2.544407</td>\n",
       "    </tr>\n",
       "  </tbody>\n",
       "</table>\n",
       "<p>5 rows × 31 columns</p>\n",
       "</div>"
      ],
      "text/plain": [
       "   surgery    age  hospital_number  rectal_temp  pulse  respiratory_rate  \\\n",
       "0        0  adult           530101         38.5   66.0              28.0   \n",
       "1        1  adult           534817         39.2   88.0              20.0   \n",
       "2        0  adult           530334         38.3   40.0              24.0   \n",
       "3        1  young          5290409         39.1  164.0              84.0   \n",
       "4        0  adult           530255         37.3  104.0              35.0   \n",
       "\n",
       "  temp_of_extremities peripheral_pulse mucous_membrane capillary_refill_time  \\\n",
       "0                cool          reduced     normal_pink            more_3_sec   \n",
       "1                cool           normal   pale_cyanotic            less_3_sec   \n",
       "2              normal           normal       pale_pink            less_3_sec   \n",
       "3                cold           normal   dark_cyanotic            more_3_sec   \n",
       "4                cool           normal   dark_cyanotic            more_3_sec   \n",
       "\n",
       "   ... abdomo_protein outcome surgical_lesion lesion_1 lesion_2  lesion_3  \\\n",
       "0  ...            NaN       0              no    11300        0         0   \n",
       "1  ...            2.0       1              no     2208        0         0   \n",
       "2  ...            NaN       2              no        0        0         0   \n",
       "3  ...            5.3       0             yes     2208        0         0   \n",
       "4  ...            NaN       0              no     4300        0         0   \n",
       "\n",
       "  cp_data TreatedMultipleTimes  transformed_pulse  \\\n",
       "0      no                    1           2.032133   \n",
       "1      no                    1           2.082990   \n",
       "2     yes                    1           1.928369   \n",
       "3     yes                    1           2.174911   \n",
       "4      no                    1           2.109944   \n",
       "\n",
       "   transformed_respiratory_rate  \n",
       "0                      2.432335  \n",
       "1                      2.253599  \n",
       "2                      2.351940  \n",
       "3                      2.938828  \n",
       "4                      2.544407  \n",
       "\n",
       "[5 rows x 31 columns]"
      ]
     },
     "execution_count": 602,
     "metadata": {},
     "output_type": "execute_result"
    }
   ],
   "source": [
    "dataset.head()"
   ]
  },
  {
   "cell_type": "code",
   "execution_count": 603,
   "id": "2ca73e28",
   "metadata": {},
   "outputs": [
    {
     "data": {
      "text/plain": [
       "Index(['surgery', 'age', 'hospital_number', 'rectal_temp', 'pulse',\n",
       "       'respiratory_rate', 'temp_of_extremities', 'peripheral_pulse',\n",
       "       'mucous_membrane', 'capillary_refill_time', 'pain', 'peristalsis',\n",
       "       'abdominal_distention', 'nasogastric_tube', 'nasogastric_reflux',\n",
       "       'nasogastric_reflux_ph', 'rectal_exam_feces', 'abdomen',\n",
       "       'packed_cell_volume', 'total_protein', 'abdomo_appearance',\n",
       "       'abdomo_protein', 'outcome', 'surgical_lesion', 'lesion_1', 'lesion_2',\n",
       "       'lesion_3', 'cp_data', 'TreatedMultipleTimes', 'transformed_pulse',\n",
       "       'transformed_respiratory_rate'],\n",
       "      dtype='object')"
      ]
     },
     "execution_count": 603,
     "metadata": {},
     "output_type": "execute_result"
    }
   ],
   "source": [
    "dataset.columns"
   ]
  },
  {
   "cell_type": "markdown",
   "id": "7d5efa1c",
   "metadata": {},
   "source": [
    "## pain"
   ]
  },
  {
   "cell_type": "code",
   "execution_count": 604,
   "id": "3d57f231",
   "metadata": {},
   "outputs": [
    {
     "data": {
      "text/plain": [
       "55"
      ]
     },
     "execution_count": 604,
     "metadata": {},
     "output_type": "execute_result"
    }
   ],
   "source": [
    "dataset['pain'].isna().sum()"
   ]
  },
  {
   "cell_type": "code",
   "execution_count": 605,
   "id": "03686b7d",
   "metadata": {},
   "outputs": [
    {
     "name": "stderr",
     "output_type": "stream",
     "text": [
      "C:\\Users\\jiten\\anaconda3\\lib\\site-packages\\seaborn\\_decorators.py:36: FutureWarning: Pass the following variable as a keyword arg: x. From version 0.12, the only valid positional argument will be `data`, and passing other arguments without an explicit keyword will result in an error or misinterpretation.\n",
      "  warnings.warn(\n"
     ]
    },
    {
     "data": {
      "text/plain": [
       "<AxesSubplot:xlabel='pain', ylabel='count'>"
      ]
     },
     "execution_count": 605,
     "metadata": {},
     "output_type": "execute_result"
    },
    {
     "data": {
      "image/png": "[encoded data removed]",
      "text/plain": [
       "<Figure size 432x288 with 1 Axes>"
      ]
     },
     "metadata": {
      "needs_background": "light"
     },
     "output_type": "display_data"
    }
   ],
   "source": [
    "sns.countplot(dataset['pain'])"
   ]
  },
  {
   "cell_type": "markdown",
   "id": "dba10725",
   "metadata": {},
   "source": [
    "## Imputing Missing Data with Most Frequent "
   ]
  },
  {
   "cell_type": "code",
   "execution_count": 606,
   "id": "51f9908a",
   "metadata": {},
   "outputs": [
    {
     "name": "stderr",
     "output_type": "stream",
     "text": [
      "C:\\Users\\jiten\\anaconda3\\lib\\site-packages\\pandas\\core\\generic.py:6392: SettingWithCopyWarning: \n",
      "A value is trying to be set on a copy of a slice from a DataFrame\n",
      "\n",
      "See the caveats in the documentation: https://pandas.pydata.org/pandas-docs/stable/user_guide/indexing.html#returning-a-view-versus-a-copy\n",
      "  return self._update_inplace(result)\n"
     ]
    }
   ],
   "source": [
    "dataset['pain'].fillna(dataset['pain'].value_counts().index[0], inplace=True)"
   ]
  },
  {
   "cell_type": "code",
   "execution_count": 607,
   "id": "d1b79780",
   "metadata": {},
   "outputs": [
    {
     "data": {
      "text/plain": [
       "<AxesSubplot:xlabel='pain', ylabel='outcome'>"
      ]
     },
     "execution_count": 607,
     "metadata": {},
     "output_type": "execute_result"
    },
    {
     "data": {
      "image/png": "[encoded data removed]",
      "text/plain": [
       "<Figure size 432x288 with 1 Axes>"
      ]
     },
     "metadata": {
      "needs_background": "light"
     },
     "output_type": "display_data"
    }
   ],
   "source": [
    "sns.stripplot(x='pain', y='outcome', data=dataset)"
   ]
  },
  {
   "cell_type": "markdown",
   "id": "e3397b53",
   "metadata": {},
   "source": [
    "## ALert class majorly favours outcome 2"
   ]
  },
  {
   "cell_type": "markdown",
   "id": "4681b83d",
   "metadata": {},
   "source": [
    "## peristalsis"
   ]
  },
  {
   "cell_type": "code",
   "execution_count": 608,
   "id": "cd5a95e7",
   "metadata": {},
   "outputs": [
    {
     "data": {
      "text/plain": [
       "44"
      ]
     },
     "execution_count": 608,
     "metadata": {},
     "output_type": "execute_result"
    }
   ],
   "source": [
    "dataset['peristalsis'].isna().sum()"
   ]
  },
  {
   "cell_type": "code",
   "execution_count": 609,
   "id": "d7291b53",
   "metadata": {},
   "outputs": [
    {
     "name": "stderr",
     "output_type": "stream",
     "text": [
      "C:\\Users\\jiten\\anaconda3\\lib\\site-packages\\seaborn\\_decorators.py:36: FutureWarning: Pass the following variable as a keyword arg: x. From version 0.12, the only valid positional argument will be `data`, and passing other arguments without an explicit keyword will result in an error or misinterpretation.\n",
      "  warnings.warn(\n"
     ]
    },
    {
     "data": {
      "text/plain": [
       "<AxesSubplot:xlabel='peristalsis', ylabel='count'>"
      ]
     },
     "execution_count": 609,
     "metadata": {},
     "output_type": "execute_result"
    },
    {
     "data": {
      "image/png": "[encoded data removed]",
      "text/plain": [
       "<Figure size 432x288 with 1 Axes>"
      ]
     },
     "metadata": {
      "needs_background": "light"
     },
     "output_type": "display_data"
    }
   ],
   "source": [
    "sns.countplot(dataset['peristalsis'])"
   ]
  },
  {
   "cell_type": "markdown",
   "id": "a9518de9",
   "metadata": {},
   "source": [
    "## Imputing Missing Data with Most Frequent "
   ]
  },
  {
   "cell_type": "code",
   "execution_count": 610,
   "id": "74d98a0b",
   "metadata": {},
   "outputs": [
    {
     "name": "stderr",
     "output_type": "stream",
     "text": [
      "C:\\Users\\jiten\\anaconda3\\lib\\site-packages\\pandas\\core\\generic.py:6392: SettingWithCopyWarning: \n",
      "A value is trying to be set on a copy of a slice from a DataFrame\n",
      "\n",
      "See the caveats in the documentation: https://pandas.pydata.org/pandas-docs/stable/user_guide/indexing.html#returning-a-view-versus-a-copy\n",
      "  return self._update_inplace(result)\n"
     ]
    }
   ],
   "source": [
    "dataset['peristalsis'].fillna(dataset['peristalsis'].value_counts().index[0], inplace=True)"
   ]
  },
  {
   "cell_type": "code",
   "execution_count": 611,
   "id": "e5fd6419",
   "metadata": {},
   "outputs": [
    {
     "data": {
      "text/plain": [
       "<AxesSubplot:xlabel='peristalsis', ylabel='outcome'>"
      ]
     },
     "execution_count": 611,
     "metadata": {},
     "output_type": "execute_result"
    },
    {
     "data": {
      "image/png": "[encoded data removed]",
      "text/plain": [
       "<Figure size 432x288 with 1 Axes>"
      ]
     },
     "metadata": {
      "needs_background": "light"
     },
     "output_type": "display_data"
    }
   ],
   "source": [
    "sns.stripplot(x='peristalsis', y='outcome', data=dataset)"
   ]
  },
  {
   "cell_type": "markdown",
   "id": "9ea6de64",
   "metadata": {},
   "source": [
    "## Normal & hypermotile prefers outcome 2 majorly\n",
    "## absent & hypomotile are equal for all 3 outcome classes"
   ]
  },
  {
   "cell_type": "code",
   "execution_count": 612,
   "id": "d444fd8d",
   "metadata": {},
   "outputs": [
    {
     "data": {
      "text/plain": [
       "Index(['surgery', 'age', 'hospital_number', 'rectal_temp', 'pulse',\n",
       "       'respiratory_rate', 'temp_of_extremities', 'peripheral_pulse',\n",
       "       'mucous_membrane', 'capillary_refill_time', 'pain', 'peristalsis',\n",
       "       'abdominal_distention', 'nasogastric_tube', 'nasogastric_reflux',\n",
       "       'nasogastric_reflux_ph', 'rectal_exam_feces', 'abdomen',\n",
       "       'packed_cell_volume', 'total_protein', 'abdomo_appearance',\n",
       "       'abdomo_protein', 'outcome', 'surgical_lesion', 'lesion_1', 'lesion_2',\n",
       "       'lesion_3', 'cp_data', 'TreatedMultipleTimes', 'transformed_pulse',\n",
       "       'transformed_respiratory_rate'],\n",
       "      dtype='object')"
      ]
     },
     "execution_count": 612,
     "metadata": {},
     "output_type": "execute_result"
    }
   ],
   "source": [
    "dataset.columns"
   ]
  },
  {
   "cell_type": "markdown",
   "id": "2a106494",
   "metadata": {},
   "source": [
    "## abdominal_distention"
   ]
  },
  {
   "cell_type": "code",
   "execution_count": 613,
   "id": "5009d03b",
   "metadata": {},
   "outputs": [
    {
     "data": {
      "text/plain": [
       "56"
      ]
     },
     "execution_count": 613,
     "metadata": {},
     "output_type": "execute_result"
    }
   ],
   "source": [
    "dataset['abdominal_distention'].isna().sum()"
   ]
  },
  {
   "cell_type": "code",
   "execution_count": null,
   "id": "e90b8efd",
   "metadata": {},
   "outputs": [
    {
     "name": "stderr",
     "output_type": "stream",
     "text": [
      "C:\\Users\\jiten\\anaconda3\\lib\\site-packages\\seaborn\\_decorators.py:36: FutureWarning: Pass the following variable as a keyword arg: x. From version 0.12, the only valid positional argument will be `data`, and passing other arguments without an explicit keyword will result in an error or misinterpretation.\n",
      "  warnings.warn(\n"
     ]
    },
    {
     "data": {
      "text/plain": [
       "<AxesSubplot:xlabel='abdominal_distention', ylabel='count'>"
      ]
     },
     "execution_count": 614,
     "metadata": {},
     "output_type": "execute_result"
    }
   ],
   "source": [
    "sns.countplot(dataset['abdominal_distention'])"
   ]
  },
  {
   "cell_type": "markdown",
   "id": "e3b02fb2",
   "metadata": {},
   "source": [
    "## Imputing Missing Data with Most Frequent "
   ]
  },
  {
   "cell_type": "code",
   "execution_count": null,
   "id": "531cfe2f",
   "metadata": {},
   "outputs": [],
   "source": [
    "dataset['abdominal_distention'].fillna(dataset['abdominal_distention'].value_counts().index[0], inplace=True)"
   ]
  },
  {
   "cell_type": "code",
   "execution_count": null,
   "id": "3a0f7713",
   "metadata": {},
   "outputs": [],
   "source": [
    "sns.stripplot(x='abdominal_distention', y='outcome', data=dataset)"
   ]
  },
  {
   "cell_type": "code",
   "execution_count": null,
   "id": "852775a5",
   "metadata": {},
   "outputs": [],
   "source": [
    "dataset.columns"
   ]
  },
  {
   "cell_type": "markdown",
   "id": "824a6ccd",
   "metadata": {},
   "source": [
    "## nasogastric_tube"
   ]
  },
  {
   "cell_type": "code",
   "execution_count": null,
   "id": "57985003",
   "metadata": {},
   "outputs": [],
   "source": [
    "dataset['nasogastric_tube'].isna().sum()"
   ]
  },
  {
   "cell_type": "code",
   "execution_count": null,
   "id": "63a07e8f",
   "metadata": {},
   "outputs": [],
   "source": [
    "sns.countplot(dataset['nasogastric_tube'])"
   ]
  },
  {
   "cell_type": "markdown",
   "id": "df0b20ac",
   "metadata": {},
   "source": [
    "## Imputing Missing Data with Most Frequent "
   ]
  },
  {
   "cell_type": "code",
   "execution_count": null,
   "id": "2e07d60a",
   "metadata": {},
   "outputs": [],
   "source": [
    "dataset['nasogastric_tube'].fillna(dataset['nasogastric_tube'].value_counts().index[0], inplace=True)"
   ]
  },
  {
   "cell_type": "code",
   "execution_count": null,
   "id": "badc2a2e",
   "metadata": {},
   "outputs": [],
   "source": [
    "sns.stripplot(x='nasogastric_tube', y='outcome', data=dataset)"
   ]
  },
  {
   "cell_type": "markdown",
   "id": "c349fe8a",
   "metadata": {},
   "source": [
    "## With significant nasogastric tube horse has outcome either 2 or 0 "
   ]
  },
  {
   "cell_type": "code",
   "execution_count": null,
   "id": "22902c05",
   "metadata": {},
   "outputs": [],
   "source": [
    "dataset.columns"
   ]
  },
  {
   "cell_type": "markdown",
   "id": "79f003f4",
   "metadata": {},
   "source": [
    "## nasogastric_reflux"
   ]
  },
  {
   "cell_type": "code",
   "execution_count": null,
   "id": "98f93472",
   "metadata": {},
   "outputs": [],
   "source": [
    "dataset['nasogastric_reflux'].isna().sum()"
   ]
  },
  {
   "cell_type": "code",
   "execution_count": null,
   "id": "73ccc71b",
   "metadata": {},
   "outputs": [],
   "source": [
    "sns.countplot(dataset['nasogastric_reflux'])"
   ]
  },
  {
   "cell_type": "markdown",
   "id": "eb285a72",
   "metadata": {},
   "source": [
    "## Imputing Missing Data with Most Frequent"
   ]
  },
  {
   "cell_type": "code",
   "execution_count": null,
   "id": "83802bc2",
   "metadata": {},
   "outputs": [],
   "source": [
    "dataset['nasogastric_reflux'].fillna(dataset['nasogastric_reflux'].value_counts().index[0], inplace=True)"
   ]
  },
  {
   "cell_type": "code",
   "execution_count": null,
   "id": "38989d08",
   "metadata": {},
   "outputs": [],
   "source": [
    "sns.stripplot(x='nasogastric_reflux', y='outcome', data=dataset)"
   ]
  },
  {
   "cell_type": "code",
   "execution_count": null,
   "id": "e293af1c",
   "metadata": {},
   "outputs": [],
   "source": [
    "dataset.columns"
   ]
  },
  {
   "cell_type": "markdown",
   "id": "ff1a4768",
   "metadata": {},
   "source": [
    "## nasogastric_reflux_ph"
   ]
  },
  {
   "cell_type": "code",
   "execution_count": null,
   "id": "b4cdbab0",
   "metadata": {},
   "outputs": [],
   "source": [
    "dataset['nasogastric_reflux_ph'].isna().sum()"
   ]
  },
  {
   "cell_type": "markdown",
   "id": "ace1c875",
   "metadata": {},
   "source": [
    "## To many missing data better to drop it "
   ]
  },
  {
   "cell_type": "code",
   "execution_count": null,
   "id": "d6cdc0e9",
   "metadata": {},
   "outputs": [],
   "source": [
    "del dataset['nasogastric_reflux_ph']"
   ]
  },
  {
   "cell_type": "markdown",
   "id": "711eff0d",
   "metadata": {},
   "source": [
    "## rectal_exam_feces"
   ]
  },
  {
   "cell_type": "code",
   "execution_count": null,
   "id": "a391c86d",
   "metadata": {},
   "outputs": [],
   "source": [
    "dataset['rectal_exam_feces'].isna().sum()"
   ]
  },
  {
   "cell_type": "code",
   "execution_count": null,
   "id": "7e7d17d1",
   "metadata": {},
   "outputs": [],
   "source": [
    "sns.countplot(dataset['rectal_exam_feces'])"
   ]
  },
  {
   "cell_type": "markdown",
   "id": "1af471e2",
   "metadata": {},
   "source": [
    "## Imputing Missing Data with Most Frequent"
   ]
  },
  {
   "cell_type": "code",
   "execution_count": null,
   "id": "699278f0",
   "metadata": {},
   "outputs": [],
   "source": [
    "dataset['rectal_exam_feces'].fillna(dataset['rectal_exam_feces'].value_counts().index[0], inplace=True)"
   ]
  },
  {
   "cell_type": "code",
   "execution_count": null,
   "id": "1a339218",
   "metadata": {},
   "outputs": [],
   "source": [
    "sns.stripplot(x='rectal_exam_feces', y='outcome', data=dataset)"
   ]
  },
  {
   "cell_type": "markdown",
   "id": "3a60c72d",
   "metadata": {},
   "source": [
    "## Normal and Increased value of rectal_exam_feces causes outcome to 2 \n"
   ]
  },
  {
   "cell_type": "code",
   "execution_count": null,
   "id": "d801812a",
   "metadata": {},
   "outputs": [],
   "source": [
    "dataset.columns"
   ]
  },
  {
   "cell_type": "markdown",
   "id": "4f94b4ee",
   "metadata": {},
   "source": [
    "## abdomen"
   ]
  },
  {
   "cell_type": "code",
   "execution_count": null,
   "id": "09301eb7",
   "metadata": {},
   "outputs": [],
   "source": [
    "dataset['abdomen'].isna().sum()"
   ]
  },
  {
   "cell_type": "code",
   "execution_count": null,
   "id": "c86dd1aa",
   "metadata": {},
   "outputs": [],
   "source": [
    "sns.countplot(dataset['abdomen'])"
   ]
  },
  {
   "cell_type": "markdown",
   "id": "dd673259",
   "metadata": {},
   "source": [
    "## Imputing Missing Data with Most Frequent "
   ]
  },
  {
   "cell_type": "code",
   "execution_count": null,
   "id": "3274b162",
   "metadata": {},
   "outputs": [],
   "source": [
    "dataset['abdomen'].fillna(dataset['abdomen'].value_counts().index[0], inplace=True)"
   ]
  },
  {
   "cell_type": "code",
   "execution_count": null,
   "id": "cdb7b586",
   "metadata": {},
   "outputs": [],
   "source": [
    "sns.stripplot(x='abdomen', y='outcome', data=dataset)"
   ]
  },
  {
   "cell_type": "markdown",
   "id": "5ab3bc5e",
   "metadata": {},
   "source": [
    "## Abdomen if firm or other then outcome is not 0"
   ]
  },
  {
   "cell_type": "code",
   "execution_count": null,
   "id": "35254866",
   "metadata": {},
   "outputs": [],
   "source": [
    "dataset.columns"
   ]
  },
  {
   "cell_type": "markdown",
   "id": "650878a9",
   "metadata": {},
   "source": [
    "## packed_cell_volume"
   ]
  },
  {
   "cell_type": "code",
   "execution_count": null,
   "id": "7284c8e6",
   "metadata": {},
   "outputs": [],
   "source": [
    "dataset['packed_cell_volume'].isna().sum()"
   ]
  },
  {
   "cell_type": "markdown",
   "id": "bcec2147",
   "metadata": {},
   "source": [
    "## Imputing Missing Data with Median"
   ]
  },
  {
   "cell_type": "code",
   "execution_count": null,
   "id": "8ba02334",
   "metadata": {},
   "outputs": [],
   "source": [
    "dataset['packed_cell_volume'].fillna(dataset['packed_cell_volume'].median(), inplace=True)"
   ]
  },
  {
   "cell_type": "code",
   "execution_count": null,
   "id": "210eae49",
   "metadata": {},
   "outputs": [],
   "source": [
    "modify_boxcox_value('packed_cell_volume', -0.15)"
   ]
  },
  {
   "cell_type": "code",
   "execution_count": null,
   "id": "dca81c12",
   "metadata": {},
   "outputs": [],
   "source": [
    "dataset['packed_cell_volume'] = boxcox(dataset['packed_cell_volume'], -0.15)"
   ]
  },
  {
   "cell_type": "code",
   "execution_count": null,
   "id": "5987d37d",
   "metadata": {},
   "outputs": [],
   "source": [
    "sns.stripplot(y='packed_cell_volume', x='outcome', data=dataset)"
   ]
  },
  {
   "cell_type": "code",
   "execution_count": null,
   "id": "e19be375",
   "metadata": {},
   "outputs": [],
   "source": [
    "for outcome_value in dataset['outcome'].unique():\n",
    "    print(outcome_value,'===>',dataset[dataset['outcome'] == outcome_value]['packed_cell_volume'].median())"
   ]
  },
  {
   "cell_type": "code",
   "execution_count": null,
   "id": "b9b0a6b4",
   "metadata": {},
   "outputs": [],
   "source": [
    "dataset.columns"
   ]
  },
  {
   "cell_type": "markdown",
   "id": "5868e865",
   "metadata": {},
   "source": [
    "## total_protein"
   ]
  },
  {
   "cell_type": "code",
   "execution_count": null,
   "id": "1e123537",
   "metadata": {},
   "outputs": [],
   "source": [
    "dataset['total_protein'].isna().sum()"
   ]
  },
  {
   "cell_type": "markdown",
   "id": "e50f3e2e",
   "metadata": {},
   "source": [
    "## IMputing Missing Data with Median "
   ]
  },
  {
   "cell_type": "code",
   "execution_count": null,
   "id": "c8f196c0",
   "metadata": {},
   "outputs": [],
   "source": [
    "dataset['total_protein'].fillna(dataset['total_protein'].median(), inplace=True)"
   ]
  },
  {
   "cell_type": "code",
   "execution_count": null,
   "id": "f316b42b",
   "metadata": {},
   "outputs": [],
   "source": [
    "modify_boxcox_value('total_protein', -1.5)"
   ]
  },
  {
   "cell_type": "code",
   "execution_count": null,
   "id": "86e54fc4",
   "metadata": {},
   "outputs": [],
   "source": [
    "dataset['total_protein'] = boxcox(dataset['total_protein'], -1.5)"
   ]
  },
  {
   "cell_type": "code",
   "execution_count": null,
   "id": "559e07ff",
   "metadata": {},
   "outputs": [],
   "source": [
    "sns.stripplot(y='total_protein', x='outcome', data=dataset)"
   ]
  },
  {
   "cell_type": "code",
   "execution_count": null,
   "id": "bf4945c7",
   "metadata": {},
   "outputs": [],
   "source": [
    "dataset.columns"
   ]
  },
  {
   "cell_type": "markdown",
   "id": "a3a4db4d",
   "metadata": {},
   "source": [
    "## abdomo_appearance"
   ]
  },
  {
   "cell_type": "code",
   "execution_count": null,
   "id": "3629ae87",
   "metadata": {},
   "outputs": [],
   "source": [
    "dataset['abdomo_appearance'].isna().sum()"
   ]
  },
  {
   "cell_type": "markdown",
   "id": "03242c59",
   "metadata": {},
   "source": [
    "## Data Missing is more than 50%"
   ]
  },
  {
   "cell_type": "code",
   "execution_count": null,
   "id": "427512f2",
   "metadata": {},
   "outputs": [],
   "source": [
    "del dataset['abdomo_appearance']"
   ]
  },
  {
   "cell_type": "code",
   "execution_count": null,
   "id": "6e588a21",
   "metadata": {},
   "outputs": [],
   "source": [
    "dataset.columns"
   ]
  },
  {
   "cell_type": "markdown",
   "id": "66bfe007",
   "metadata": {},
   "source": [
    "## abdomo_protein"
   ]
  },
  {
   "cell_type": "code",
   "execution_count": null,
   "id": "09f9f96f",
   "metadata": {},
   "outputs": [],
   "source": [
    "dataset['abdomo_protein'].isna().sum()"
   ]
  },
  {
   "cell_type": "markdown",
   "id": "2e06975d",
   "metadata": {},
   "source": [
    "## Data Missing is more than 50%"
   ]
  },
  {
   "cell_type": "code",
   "execution_count": null,
   "id": "18704d5b",
   "metadata": {},
   "outputs": [],
   "source": [
    "del dataset['abdomo_protein']"
   ]
  },
  {
   "cell_type": "markdown",
   "id": "922f37f1",
   "metadata": {},
   "source": [
    "## surgical_lesion"
   ]
  },
  {
   "cell_type": "code",
   "execution_count": null,
   "id": "59e37421",
   "metadata": {},
   "outputs": [],
   "source": [
    "dataset['surgical_lesion'].isna().sum()"
   ]
  },
  {
   "cell_type": "code",
   "execution_count": null,
   "id": "f7a8fc38",
   "metadata": {},
   "outputs": [],
   "source": [
    "sns.countplot(dataset['surgical_lesion'])"
   ]
  },
  {
   "cell_type": "code",
   "execution_count": null,
   "id": "0355b329",
   "metadata": {},
   "outputs": [],
   "source": [
    "sns.stripplot(y='surgical_lesion', x='outcome', data=dataset)"
   ]
  },
  {
   "cell_type": "code",
   "execution_count": null,
   "id": "67bf61fc",
   "metadata": {},
   "outputs": [],
   "source": [
    "dataset.columns"
   ]
  },
  {
   "cell_type": "markdown",
   "id": "dc97a4e0",
   "metadata": {},
   "source": [
    "## lesion_1"
   ]
  },
  {
   "cell_type": "code",
   "execution_count": null,
   "id": "eaebf88d",
   "metadata": {},
   "outputs": [],
   "source": [
    "dataset['lesion_1'].isna().sum()"
   ]
  },
  {
   "cell_type": "code",
   "execution_count": null,
   "id": "6b5bc76a",
   "metadata": {},
   "outputs": [],
   "source": [
    "sns.distplot(dataset['lesion_1'])"
   ]
  },
  {
   "cell_type": "code",
   "execution_count": null,
   "id": "95c74bad",
   "metadata": {},
   "outputs": [],
   "source": [
    "modify_boxcox_value('lesion_1', 0.25)"
   ]
  },
  {
   "cell_type": "code",
   "execution_count": null,
   "id": "5144db16",
   "metadata": {},
   "outputs": [],
   "source": [
    "dataset['lesion_1'] = boxcox(dataset['lesion_1'], 0.25)"
   ]
  },
  {
   "cell_type": "code",
   "execution_count": null,
   "id": "7eeb119e",
   "metadata": {},
   "outputs": [],
   "source": [
    "sns.stripplot(y='lesion_1', x='outcome', data=dataset)"
   ]
  },
  {
   "cell_type": "code",
   "execution_count": null,
   "id": "e43eb702",
   "metadata": {},
   "outputs": [],
   "source": [
    "dataset.columns"
   ]
  },
  {
   "cell_type": "markdown",
   "id": "fa02a5ee",
   "metadata": {},
   "source": [
    "## lesion_2"
   ]
  },
  {
   "cell_type": "code",
   "execution_count": null,
   "id": "1ce75f6a",
   "metadata": {},
   "outputs": [],
   "source": [
    "dataset['lesion_2'].isna().sum()"
   ]
  },
  {
   "cell_type": "code",
   "execution_count": null,
   "id": "219ee9ab",
   "metadata": {},
   "outputs": [],
   "source": [
    "modify_boxcox_value('lesion_2', 0.01)"
   ]
  },
  {
   "cell_type": "code",
   "execution_count": null,
   "id": "5629a2a6",
   "metadata": {},
   "outputs": [],
   "source": [
    "sns.stripplot(y='lesion_2', x='outcome', data=dataset)"
   ]
  },
  {
   "cell_type": "markdown",
   "id": "7ecf5fbd",
   "metadata": {},
   "source": [
    "## lesion_3"
   ]
  },
  {
   "cell_type": "code",
   "execution_count": null,
   "id": "c6961f04",
   "metadata": {},
   "outputs": [],
   "source": [
    "dataset['lesion_3'].isna().sum()"
   ]
  },
  {
   "cell_type": "code",
   "execution_count": null,
   "id": "c68ec51f",
   "metadata": {},
   "outputs": [],
   "source": [
    "modify_boxcox_value('lesion_3', 1)"
   ]
  },
  {
   "cell_type": "code",
   "execution_count": null,
   "id": "310a03d3",
   "metadata": {},
   "outputs": [],
   "source": [
    "sns.stripplot(y='lesion_3', x='outcome', data=dataset)"
   ]
  },
  {
   "cell_type": "markdown",
   "id": "e4149b31",
   "metadata": {},
   "source": [
    "## cp_data"
   ]
  },
  {
   "cell_type": "code",
   "execution_count": null,
   "id": "bdd0344c",
   "metadata": {},
   "outputs": [],
   "source": [
    "dataset['cp_data'].isna().sum()"
   ]
  },
  {
   "cell_type": "code",
   "execution_count": null,
   "id": "97a48a98",
   "metadata": {},
   "outputs": [],
   "source": [
    "sns.countplot(dataset['cp_data'])"
   ]
  },
  {
   "cell_type": "code",
   "execution_count": null,
   "id": "74d040b0",
   "metadata": {},
   "outputs": [],
   "source": [
    "dataset.columns"
   ]
  },
  {
   "cell_type": "code",
   "execution_count": null,
   "id": "9c38492b",
   "metadata": {},
   "outputs": [],
   "source": [
    "features_for_model = [\n",
    "       'surgery', 'age', 'rectal_temp', 'transformed_pulse', \n",
    "       'transformed_respiratory_rate', 'temp_of_extremities', 'peripheral_pulse',\n",
    "        'mucous_membrane', 'capillary_refill_time', 'pain', 'peristalsis',\n",
    "        'abdominal_distention', 'nasogastric_tube', 'nasogastric_reflux', 'rectal_exam_feces',\n",
    "        'abdomen', 'packed_cell_volume', 'total_protein', 'surgical_lesion',\n",
    "        'lesion_1', 'cp_data', 'TreatedMultipleTimes', 'outcome'\n",
    "]"
   ]
  },
  {
   "cell_type": "code",
   "execution_count": null,
   "id": "0d9c0a0e",
   "metadata": {},
   "outputs": [],
   "source": [
    "modelling_dataset = dataset[features_for_model]\n",
    "\n",
    "modelling_dataset.head()"
   ]
  },
  {
   "cell_type": "markdown",
   "id": "51b7e7e2",
   "metadata": {},
   "source": [
    "## Encoding Categorical Data to Numerical"
   ]
  },
  {
   "cell_type": "code",
   "execution_count": null,
   "id": "90910867",
   "metadata": {},
   "outputs": [],
   "source": [
    "from sklearn.preprocessing import LabelEncoder\n",
    "\n",
    "le = LabelEncoder()\n",
    "\n",
    "for col in modelling_dataset.select_dtypes(include=['object']).columns.tolist():\n",
    "    \n",
    "    dataset[col] = le.fit_transform(dataset[col])"
   ]
  },
  {
   "cell_type": "markdown",
   "id": "4b25f0cd",
   "metadata": {},
   "source": [
    "## Correlation Matrix"
   ]
  },
  {
   "cell_type": "code",
   "execution_count": null,
   "id": "57c276c0",
   "metadata": {},
   "outputs": [],
   "source": [
    "dataset.corr()"
   ]
  },
  {
   "cell_type": "code",
   "execution_count": null,
   "id": "670ec255",
   "metadata": {},
   "outputs": [],
   "source": [
    "sns.heatmap(dataset.corr())"
   ]
  },
  {
   "cell_type": "markdown",
   "id": "c99dc09a",
   "metadata": {},
   "source": [
    "## Train Test Split Dataset"
   ]
  },
  {
   "cell_type": "code",
   "execution_count": null,
   "id": "aa0da89d",
   "metadata": {},
   "outputs": [],
   "source": [
    "from sklearn.model_selection import train_test_split   \n",
    "\n",
    "X_train, X_test, y_train, y_test = train_test_split(dataset.drop('outcome', axis=1), dataset['outcome'], test_size=0.2, random_state=4)"
   ]
  },
  {
   "cell_type": "code",
   "execution_count": null,
   "id": "b26b8ee2",
   "metadata": {},
   "outputs": [],
   "source": [
    "y_train.value_counts()"
   ]
  },
  {
   "cell_type": "code",
   "execution_count": null,
   "id": "23daadba",
   "metadata": {},
   "outputs": [],
   "source": [
    "y_test.value_counts()"
   ]
  },
  {
   "cell_type": "markdown",
   "id": "ad0f03d6",
   "metadata": {},
   "source": [
    "## Train LogisticRegression Model"
   ]
  },
  {
   "cell_type": "code",
   "execution_count": null,
   "id": "770445e6",
   "metadata": {},
   "outputs": [],
   "source": [
    "from sklearn.linear_model import LogisticRegression"
   ]
  },
  {
   "cell_type": "code",
   "execution_count": null,
   "id": "cc031841",
   "metadata": {},
   "outputs": [],
   "source": [
    "weights = {2:1.0, 0:1.25, 1: 3}\n",
    "\n",
    "model = LogisticRegression(class_weight=weights, random_state=0, ).fit(X_train, y_train)"
   ]
  },
  {
   "cell_type": "markdown",
   "id": "c5e0a0eb",
   "metadata": {},
   "source": [
    "## Evaluate the Model"
   ]
  },
  {
   "cell_type": "code",
   "execution_count": null,
   "id": "8d6289e5",
   "metadata": {},
   "outputs": [],
   "source": [
    "from sklearn.metrics import accuracy_score\n",
    "\n",
    "accuracy_score(model.predict(X_test), y_test)"
   ]
  },
  {
   "cell_type": "markdown",
   "id": "977e67d2",
   "metadata": {},
   "source": [
    "## Classification Report "
   ]
  },
  {
   "cell_type": "code",
   "execution_count": null,
   "id": "4290e819",
   "metadata": {},
   "outputs": [],
   "source": [
    "from sklearn.metrics import classification_report\n",
    "print(classification_report(model.predict(X_test), y_test))"
   ]
  },
  {
   "cell_type": "markdown",
   "id": "819af1ad",
   "metadata": {},
   "source": [
    "## Conclusion\n",
    "\n",
    "1. Understood importance of EDA. Found interesting patterns of horses getting admitted twice in the hospital.\n",
    "2. Performed EDA on the horse dataset\n",
    "3. Used Logistic Regression to solve Classfication Problem for predicting horse outcome after hospitalization "
   ]
  },
  {
   "cell_type": "markdown",
   "id": "fa3ca952",
   "metadata": {},
   "source": [
    "### References\n",
    "\n",
    "1. [EDA](https://www.geeksforgeeks.org/what-is-exploratory-data-analysis/#:~:text=Exploratory%20Data%20Analysis%20(EDA)%20is,statistical%20summary%20and%20graphical%20representations.)\n",
    "2. [Hourse Colic Dataset](https://www.kaggle.com/uciml/horse-colic)\n",
    "3. [Sklearn Python Package](https://scikit-learn.org/stable/index.html)"
   ]
  }
 ],
 "metadata": {
  "kernelspec": {
   "display_name": "Python 3 (ipykernel)",
   "language": "python",
   "name": "python3"
  },
  "language_info": {
   "codemirror_mode": {
    "name": "ipython",
    "version": 3
   },
   "file_extension": ".py",
   "mimetype": "text/x-python",
   "name": "python",
   "nbconvert_exporter": "python",
   "pygments_lexer": "ipython3",
   "version": "3.9.7"
  }
 },
 "nbformat": 4,
 "nbformat_minor": 5
}
