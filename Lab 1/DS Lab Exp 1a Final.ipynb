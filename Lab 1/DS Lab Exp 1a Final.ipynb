{
 "cells": [
  {
   "cell_type": "markdown",
   "id": "329ba064",
   "metadata": {},
   "source": [
    "### Name: Jiten Sidhpura \n",
    "### UID: 2018130051\n",
    "### Batch B\n",
    "### BE COMPS\n",
    "\n",
    "### Objective: To carry out linear regression (including multiple regression) and build a regression model using Python Platform"
   ]
  },
  {
   "cell_type": "markdown",
   "id": "af25973e",
   "metadata": {},
   "source": [
    "## Imports"
   ]
  },
  {
   "cell_type": "code",
   "execution_count": 67,
   "id": "01e25db6",
   "metadata": {},
   "outputs": [],
   "source": [
    "import numpy as np\n",
    "import pandas as pd\n",
    "import seaborn as sns\n",
    "from matplotlib import pyplot as plt\n",
    "from mpl_toolkits import mplot3d"
   ]
  },
  {
   "cell_type": "markdown",
   "id": "bc68ac14",
   "metadata": {},
   "source": [
    "## Reading Data"
   ]
  },
  {
   "cell_type": "code",
   "execution_count": 68,
   "id": "e179392b",
   "metadata": {},
   "outputs": [
    {
     "data": {
      "text/html": [
       "<div>\n",
       "<style scoped>\n",
       "    .dataframe tbody tr th:only-of-type {\n",
       "        vertical-align: middle;\n",
       "    }\n",
       "\n",
       "    .dataframe tbody tr th {\n",
       "        vertical-align: top;\n",
       "    }\n",
       "\n",
       "    .dataframe thead th {\n",
       "        text-align: right;\n",
       "    }\n",
       "</style>\n",
       "<table border=\"1\" class=\"dataframe\">\n",
       "  <thead>\n",
       "    <tr style=\"text-align: right;\">\n",
       "      <th></th>\n",
       "      <th>mpg</th>\n",
       "      <th>cylinders</th>\n",
       "      <th>displacement</th>\n",
       "      <th>horsepower</th>\n",
       "      <th>weight</th>\n",
       "      <th>acceleration</th>\n",
       "      <th>model year</th>\n",
       "      <th>origin</th>\n",
       "      <th>car name</th>\n",
       "    </tr>\n",
       "  </thead>\n",
       "  <tbody>\n",
       "    <tr>\n",
       "      <th>0</th>\n",
       "      <td>18.0</td>\n",
       "      <td>8</td>\n",
       "      <td>307.0</td>\n",
       "      <td>130</td>\n",
       "      <td>3504</td>\n",
       "      <td>12.0</td>\n",
       "      <td>70</td>\n",
       "      <td>1</td>\n",
       "      <td>chevrolet chevelle malibu</td>\n",
       "    </tr>\n",
       "    <tr>\n",
       "      <th>1</th>\n",
       "      <td>15.0</td>\n",
       "      <td>8</td>\n",
       "      <td>350.0</td>\n",
       "      <td>165</td>\n",
       "      <td>3693</td>\n",
       "      <td>11.5</td>\n",
       "      <td>70</td>\n",
       "      <td>1</td>\n",
       "      <td>buick skylark 320</td>\n",
       "    </tr>\n",
       "    <tr>\n",
       "      <th>2</th>\n",
       "      <td>18.0</td>\n",
       "      <td>8</td>\n",
       "      <td>318.0</td>\n",
       "      <td>150</td>\n",
       "      <td>3436</td>\n",
       "      <td>11.0</td>\n",
       "      <td>70</td>\n",
       "      <td>1</td>\n",
       "      <td>plymouth satellite</td>\n",
       "    </tr>\n",
       "    <tr>\n",
       "      <th>3</th>\n",
       "      <td>16.0</td>\n",
       "      <td>8</td>\n",
       "      <td>304.0</td>\n",
       "      <td>150</td>\n",
       "      <td>3433</td>\n",
       "      <td>12.0</td>\n",
       "      <td>70</td>\n",
       "      <td>1</td>\n",
       "      <td>amc rebel sst</td>\n",
       "    </tr>\n",
       "    <tr>\n",
       "      <th>4</th>\n",
       "      <td>17.0</td>\n",
       "      <td>8</td>\n",
       "      <td>302.0</td>\n",
       "      <td>140</td>\n",
       "      <td>3449</td>\n",
       "      <td>10.5</td>\n",
       "      <td>70</td>\n",
       "      <td>1</td>\n",
       "      <td>ford torino</td>\n",
       "    </tr>\n",
       "  </tbody>\n",
       "</table>\n",
       "</div>"
      ],
      "text/plain": [
       "    mpg  cylinders  displacement horsepower  weight  acceleration  model year  \\\n",
       "0  18.0          8         307.0        130    3504          12.0          70   \n",
       "1  15.0          8         350.0        165    3693          11.5          70   \n",
       "2  18.0          8         318.0        150    3436          11.0          70   \n",
       "3  16.0          8         304.0        150    3433          12.0          70   \n",
       "4  17.0          8         302.0        140    3449          10.5          70   \n",
       "\n",
       "   origin                   car name  \n",
       "0       1  chevrolet chevelle malibu  \n",
       "1       1          buick skylark 320  \n",
       "2       1         plymouth satellite  \n",
       "3       1              amc rebel sst  \n",
       "4       1                ford torino  "
      ]
     },
     "execution_count": 68,
     "metadata": {},
     "output_type": "execute_result"
    }
   ],
   "source": [
    "filename = 'auto-mpg.csv'\n",
    "\n",
    "dataset = pd.read_csv(filename)\n",
    "\n",
    "dataset.head()"
   ]
  },
  {
   "cell_type": "code",
   "execution_count": 69,
   "id": "dda916bc",
   "metadata": {},
   "outputs": [
    {
     "data": {
      "text/plain": [
       "mpg             float64\n",
       "cylinders         int64\n",
       "displacement    float64\n",
       "horsepower       object\n",
       "weight            int64\n",
       "acceleration    float64\n",
       "model year        int64\n",
       "origin            int64\n",
       "car name         object\n",
       "dtype: object"
      ]
     },
     "execution_count": 69,
     "metadata": {},
     "output_type": "execute_result"
    }
   ],
   "source": [
    "dataset.dtypes"
   ]
  },
  {
   "cell_type": "markdown",
   "id": "71e164f0",
   "metadata": {},
   "source": [
    "## Drop Duplicates If Present"
   ]
  },
  {
   "cell_type": "code",
   "execution_count": 70,
   "id": "5269577f",
   "metadata": {},
   "outputs": [],
   "source": [
    "dataset = dataset.drop_duplicates()"
   ]
  },
  {
   "cell_type": "code",
   "execution_count": 71,
   "id": "c21f3fea",
   "metadata": {},
   "outputs": [
    {
     "name": "stderr",
     "output_type": "stream",
     "text": [
      "C:\\Users\\jiten\\AppData\\Local\\Temp/ipykernel_7408/4231230252.py:1: FutureWarning: Dropping of nuisance columns in DataFrame reductions (with 'numeric_only=None') is deprecated; in a future version this will raise TypeError.  Select only valid columns before calling the reduction.\n",
      "  dataset.skew()\n"
     ]
    },
    {
     "data": {
      "text/plain": [
       "mpg             0.457066\n",
       "cylinders       0.526922\n",
       "displacement    0.719645\n",
       "weight          0.531063\n",
       "acceleration    0.278777\n",
       "model year      0.011535\n",
       "origin          0.923776\n",
       "dtype: float64"
      ]
     },
     "execution_count": 71,
     "metadata": {},
     "output_type": "execute_result"
    }
   ],
   "source": [
    "dataset.skew()"
   ]
  },
  {
   "cell_type": "code",
   "execution_count": 72,
   "id": "18425ee8",
   "metadata": {},
   "outputs": [
    {
     "data": {
      "text/plain": [
       "<AxesSubplot:>"
      ]
     },
     "execution_count": 72,
     "metadata": {},
     "output_type": "execute_result"
    },
    {
     "data": {
      "image/png": "[encoded data removed]",
      "text/plain": [
       "<Figure size 1728x720 with 3 Axes>"
      ]
     },
     "metadata": {
      "needs_background": "light"
     },
     "output_type": "display_data"
    }
   ],
   "source": [
    "import missingno\n",
    "missingno.bar(dataset)"
   ]
  },
  {
   "cell_type": "markdown",
   "id": "c57ba635",
   "metadata": {},
   "source": [
    "## No Missing Data"
   ]
  },
  {
   "cell_type": "code",
   "execution_count": 73,
   "id": "99d219e2",
   "metadata": {},
   "outputs": [],
   "source": [
    "from scipy.special import boxcox, inv_boxcox\n",
    "\n",
    "def check_distribution(col):\n",
    "    print('Before Boxcox Transformation ==> ', dataset[col].skew())\n",
    "    sns.distplot(dataset[col])\n",
    "    plt.show()\n",
    "    \n",
    "def apply_boxcox_transformation(col, x):\n",
    "#     print('Before Boxcox Transformation ==> ', dataset[col].skew())\n",
    "#     sns.distplot(dataset[col])\n",
    "#     plt.show()\n",
    "    \n",
    "    check_distribution(col)\n",
    "    \n",
    "    transformed_values = boxcox(dataset[col], x)\n",
    "    print('After Boxcox Transformation ==> ', transformed_values.skew())\n",
    "    sns.distplot(transformed_values)\n",
    "    plt.show()"
   ]
  },
  {
   "cell_type": "markdown",
   "id": "85dedc5c",
   "metadata": {},
   "source": [
    "## mpg Feature"
   ]
  },
  {
   "cell_type": "code",
   "execution_count": 74,
   "id": "2cb1de3b",
   "metadata": {},
   "outputs": [
    {
     "name": "stdout",
     "output_type": "stream",
     "text": [
      "Before Boxcox Transformation ==>  0.45706634399491913\n"
     ]
    },
    {
     "name": "stderr",
     "output_type": "stream",
     "text": [
      "C:\\Users\\jiten\\anaconda3\\lib\\site-packages\\seaborn\\distributions.py:2619: FutureWarning: `distplot` is a deprecated function and will be removed in a future version. Please adapt your code to use either `displot` (a figure-level function with similar flexibility) or `histplot` (an axes-level function for histograms).\n",
      "  warnings.warn(msg, FutureWarning)\n"
     ]
    },
    {
     "data": {
      "image/png": "[encoded data removed]",
      "text/plain": [
       "<Figure size 432x288 with 1 Axes>"
      ]
     },
     "metadata": {
      "needs_background": "light"
     },
     "output_type": "display_data"
    }
   ],
   "source": [
    "check_distribution('mpg')"
   ]
  },
  {
   "cell_type": "markdown",
   "id": "46a94629",
   "metadata": {},
   "source": [
    "### Target Feature has some order of skewness\n",
    "### Let's apply feature scaling to reduce skewness"
   ]
  },
  {
   "cell_type": "code",
   "execution_count": 75,
   "id": "0ede9170",
   "metadata": {},
   "outputs": [
    {
     "name": "stdout",
     "output_type": "stream",
     "text": [
      "Before Boxcox Transformation ==>  0.45706634399491913\n"
     ]
    },
    {
     "name": "stderr",
     "output_type": "stream",
     "text": [
      "C:\\Users\\jiten\\anaconda3\\lib\\site-packages\\seaborn\\distributions.py:2619: FutureWarning: `distplot` is a deprecated function and will be removed in a future version. Please adapt your code to use either `displot` (a figure-level function with similar flexibility) or `histplot` (an axes-level function for histograms).\n",
      "  warnings.warn(msg, FutureWarning)\n"
     ]
    },
    {
     "data": {
      "image/png": "[encoded data removed]",
      "text/plain": [
       "<Figure size 432x288 with 1 Axes>"
      ]
     },
     "metadata": {
      "needs_background": "light"
     },
     "output_type": "display_data"
    },
    {
     "name": "stdout",
     "output_type": "stream",
     "text": [
      "After Boxcox Transformation ==>  0.012493881028852285\n"
     ]
    },
    {
     "name": "stderr",
     "output_type": "stream",
     "text": [
      "C:\\Users\\jiten\\anaconda3\\lib\\site-packages\\seaborn\\distributions.py:2619: FutureWarning: `distplot` is a deprecated function and will be removed in a future version. Please adapt your code to use either `displot` (a figure-level function with similar flexibility) or `histplot` (an axes-level function for histograms).\n",
      "  warnings.warn(msg, FutureWarning)\n"
     ]
    },
    {
     "data": {
      "image/png": "[encoded data removed]",
      "text/plain": [
       "<Figure size 432x288 with 1 Axes>"
      ]
     },
     "metadata": {
      "needs_background": "light"
     },
     "output_type": "display_data"
    }
   ],
   "source": [
    "mpg_boxcox_value = 0.25\n",
    "\n",
    "apply_boxcox_transformation('mpg', mpg_boxcox_value)"
   ]
  },
  {
   "cell_type": "markdown",
   "id": "204c3fd1",
   "metadata": {},
   "source": [
    "### Now the distribution of the mpg feature is very less skewed"
   ]
  },
  {
   "cell_type": "code",
   "execution_count": 76,
   "id": "4f580e93",
   "metadata": {},
   "outputs": [],
   "source": [
    "dataset['Transformed_mpg'] = boxcox(dataset['mpg'], mpg_boxcox_value)"
   ]
  },
  {
   "cell_type": "code",
   "execution_count": 77,
   "id": "bc7d07ab",
   "metadata": {},
   "outputs": [
    {
     "data": {
      "text/html": [
       "<div>\n",
       "<style scoped>\n",
       "    .dataframe tbody tr th:only-of-type {\n",
       "        vertical-align: middle;\n",
       "    }\n",
       "\n",
       "    .dataframe tbody tr th {\n",
       "        vertical-align: top;\n",
       "    }\n",
       "\n",
       "    .dataframe thead th {\n",
       "        text-align: right;\n",
       "    }\n",
       "</style>\n",
       "<table border=\"1\" class=\"dataframe\">\n",
       "  <thead>\n",
       "    <tr style=\"text-align: right;\">\n",
       "      <th></th>\n",
       "      <th>mpg</th>\n",
       "      <th>cylinders</th>\n",
       "      <th>displacement</th>\n",
       "      <th>horsepower</th>\n",
       "      <th>weight</th>\n",
       "      <th>acceleration</th>\n",
       "      <th>model year</th>\n",
       "      <th>origin</th>\n",
       "      <th>car name</th>\n",
       "      <th>Transformed_mpg</th>\n",
       "    </tr>\n",
       "  </thead>\n",
       "  <tbody>\n",
       "    <tr>\n",
       "      <th>0</th>\n",
       "      <td>18.0</td>\n",
       "      <td>8</td>\n",
       "      <td>307.0</td>\n",
       "      <td>130</td>\n",
       "      <td>3504</td>\n",
       "      <td>12.0</td>\n",
       "      <td>70</td>\n",
       "      <td>1</td>\n",
       "      <td>chevrolet chevelle malibu</td>\n",
       "      <td>4.239069</td>\n",
       "    </tr>\n",
       "    <tr>\n",
       "      <th>1</th>\n",
       "      <td>15.0</td>\n",
       "      <td>8</td>\n",
       "      <td>350.0</td>\n",
       "      <td>165</td>\n",
       "      <td>3693</td>\n",
       "      <td>11.5</td>\n",
       "      <td>70</td>\n",
       "      <td>1</td>\n",
       "      <td>buick skylark 320</td>\n",
       "      <td>3.871959</td>\n",
       "    </tr>\n",
       "    <tr>\n",
       "      <th>2</th>\n",
       "      <td>18.0</td>\n",
       "      <td>8</td>\n",
       "      <td>318.0</td>\n",
       "      <td>150</td>\n",
       "      <td>3436</td>\n",
       "      <td>11.0</td>\n",
       "      <td>70</td>\n",
       "      <td>1</td>\n",
       "      <td>plymouth satellite</td>\n",
       "      <td>4.239069</td>\n",
       "    </tr>\n",
       "    <tr>\n",
       "      <th>3</th>\n",
       "      <td>16.0</td>\n",
       "      <td>8</td>\n",
       "      <td>304.0</td>\n",
       "      <td>150</td>\n",
       "      <td>3433</td>\n",
       "      <td>12.0</td>\n",
       "      <td>70</td>\n",
       "      <td>1</td>\n",
       "      <td>amc rebel sst</td>\n",
       "      <td>4.000000</td>\n",
       "    </tr>\n",
       "    <tr>\n",
       "      <th>4</th>\n",
       "      <td>17.0</td>\n",
       "      <td>8</td>\n",
       "      <td>302.0</td>\n",
       "      <td>140</td>\n",
       "      <td>3449</td>\n",
       "      <td>10.5</td>\n",
       "      <td>70</td>\n",
       "      <td>1</td>\n",
       "      <td>ford torino</td>\n",
       "      <td>4.122173</td>\n",
       "    </tr>\n",
       "  </tbody>\n",
       "</table>\n",
       "</div>"
      ],
      "text/plain": [
       "    mpg  cylinders  displacement horsepower  weight  acceleration  model year  \\\n",
       "0  18.0          8         307.0        130    3504          12.0          70   \n",
       "1  15.0          8         350.0        165    3693          11.5          70   \n",
       "2  18.0          8         318.0        150    3436          11.0          70   \n",
       "3  16.0          8         304.0        150    3433          12.0          70   \n",
       "4  17.0          8         302.0        140    3449          10.5          70   \n",
       "\n",
       "   origin                   car name  Transformed_mpg  \n",
       "0       1  chevrolet chevelle malibu         4.239069  \n",
       "1       1          buick skylark 320         3.871959  \n",
       "2       1         plymouth satellite         4.239069  \n",
       "3       1              amc rebel sst         4.000000  \n",
       "4       1                ford torino         4.122173  "
      ]
     },
     "execution_count": 77,
     "metadata": {},
     "output_type": "execute_result"
    }
   ],
   "source": [
    "dataset.head()"
   ]
  },
  {
   "cell_type": "markdown",
   "id": "c3c7c813",
   "metadata": {},
   "source": [
    "## cylinders Feature"
   ]
  },
  {
   "cell_type": "code",
   "execution_count": 78,
   "id": "29970a33",
   "metadata": {},
   "outputs": [
    {
     "data": {
      "text/plain": [
       "<AxesSubplot:xlabel='cylinders', ylabel='count'>"
      ]
     },
     "execution_count": 78,
     "metadata": {},
     "output_type": "execute_result"
    },
    {
     "data": {
      "image/png": "[encoded data removed]",
      "text/plain": [
       "<Figure size 432x288 with 1 Axes>"
      ]
     },
     "metadata": {
      "needs_background": "light"
     },
     "output_type": "display_data"
    }
   ],
   "source": [
    "sns.countplot(x='cylinders', data=dataset)"
   ]
  },
  {
   "cell_type": "markdown",
   "id": "dd5612f4",
   "metadata": {},
   "source": [
    "### Cylinders ==> 4 is significantly very high\n",
    "### Even No of cylinders are significantly high\n",
    "### Odd No of cylinders are significantly less"
   ]
  },
  {
   "cell_type": "code",
   "execution_count": 79,
   "id": "d058f045",
   "metadata": {},
   "outputs": [
    {
     "data": {
      "text/html": [
       "<div>\n",
       "<style scoped>\n",
       "    .dataframe tbody tr th:only-of-type {\n",
       "        vertical-align: middle;\n",
       "    }\n",
       "\n",
       "    .dataframe tbody tr th {\n",
       "        vertical-align: top;\n",
       "    }\n",
       "\n",
       "    .dataframe thead th {\n",
       "        text-align: right;\n",
       "    }\n",
       "</style>\n",
       "<table border=\"1\" class=\"dataframe\">\n",
       "  <thead>\n",
       "    <tr style=\"text-align: right;\">\n",
       "      <th></th>\n",
       "      <th>mpg</th>\n",
       "      <th>cylinders</th>\n",
       "      <th>displacement</th>\n",
       "      <th>horsepower</th>\n",
       "      <th>weight</th>\n",
       "      <th>acceleration</th>\n",
       "      <th>model year</th>\n",
       "      <th>origin</th>\n",
       "      <th>car name</th>\n",
       "      <th>Transformed_mpg</th>\n",
       "      <th>isCylindersEven</th>\n",
       "    </tr>\n",
       "  </thead>\n",
       "  <tbody>\n",
       "    <tr>\n",
       "      <th>0</th>\n",
       "      <td>18.0</td>\n",
       "      <td>8</td>\n",
       "      <td>307.0</td>\n",
       "      <td>130</td>\n",
       "      <td>3504</td>\n",
       "      <td>12.0</td>\n",
       "      <td>70</td>\n",
       "      <td>1</td>\n",
       "      <td>chevrolet chevelle malibu</td>\n",
       "      <td>4.239069</td>\n",
       "      <td>1</td>\n",
       "    </tr>\n",
       "    <tr>\n",
       "      <th>1</th>\n",
       "      <td>15.0</td>\n",
       "      <td>8</td>\n",
       "      <td>350.0</td>\n",
       "      <td>165</td>\n",
       "      <td>3693</td>\n",
       "      <td>11.5</td>\n",
       "      <td>70</td>\n",
       "      <td>1</td>\n",
       "      <td>buick skylark 320</td>\n",
       "      <td>3.871959</td>\n",
       "      <td>1</td>\n",
       "    </tr>\n",
       "    <tr>\n",
       "      <th>2</th>\n",
       "      <td>18.0</td>\n",
       "      <td>8</td>\n",
       "      <td>318.0</td>\n",
       "      <td>150</td>\n",
       "      <td>3436</td>\n",
       "      <td>11.0</td>\n",
       "      <td>70</td>\n",
       "      <td>1</td>\n",
       "      <td>plymouth satellite</td>\n",
       "      <td>4.239069</td>\n",
       "      <td>1</td>\n",
       "    </tr>\n",
       "    <tr>\n",
       "      <th>3</th>\n",
       "      <td>16.0</td>\n",
       "      <td>8</td>\n",
       "      <td>304.0</td>\n",
       "      <td>150</td>\n",
       "      <td>3433</td>\n",
       "      <td>12.0</td>\n",
       "      <td>70</td>\n",
       "      <td>1</td>\n",
       "      <td>amc rebel sst</td>\n",
       "      <td>4.000000</td>\n",
       "      <td>1</td>\n",
       "    </tr>\n",
       "    <tr>\n",
       "      <th>4</th>\n",
       "      <td>17.0</td>\n",
       "      <td>8</td>\n",
       "      <td>302.0</td>\n",
       "      <td>140</td>\n",
       "      <td>3449</td>\n",
       "      <td>10.5</td>\n",
       "      <td>70</td>\n",
       "      <td>1</td>\n",
       "      <td>ford torino</td>\n",
       "      <td>4.122173</td>\n",
       "      <td>1</td>\n",
       "    </tr>\n",
       "  </tbody>\n",
       "</table>\n",
       "</div>"
      ],
      "text/plain": [
       "    mpg  cylinders  displacement horsepower  weight  acceleration  model year  \\\n",
       "0  18.0          8         307.0        130    3504          12.0          70   \n",
       "1  15.0          8         350.0        165    3693          11.5          70   \n",
       "2  18.0          8         318.0        150    3436          11.0          70   \n",
       "3  16.0          8         304.0        150    3433          12.0          70   \n",
       "4  17.0          8         302.0        140    3449          10.5          70   \n",
       "\n",
       "   origin                   car name  Transformed_mpg  isCylindersEven  \n",
       "0       1  chevrolet chevelle malibu         4.239069                1  \n",
       "1       1          buick skylark 320         3.871959                1  \n",
       "2       1         plymouth satellite         4.239069                1  \n",
       "3       1              amc rebel sst         4.000000                1  \n",
       "4       1                ford torino         4.122173                1  "
      ]
     },
     "execution_count": 79,
     "metadata": {},
     "output_type": "execute_result"
    }
   ],
   "source": [
    "dataset['isCylindersEven'] = dataset['cylinders'].map(lambda x: 1 if x % 2 == 0 else 0)\n",
    "dataset.head()"
   ]
  },
  {
   "cell_type": "code",
   "execution_count": 80,
   "id": "7386005c",
   "metadata": {},
   "outputs": [
    {
     "data": {
      "text/plain": [
       "<AxesSubplot:xlabel='isCylindersEven', ylabel='count'>"
      ]
     },
     "execution_count": 80,
     "metadata": {},
     "output_type": "execute_result"
    },
    {
     "data": {
      "image/png": "[encoded data removed]",
      "text/plain": [
       "<Figure size 432x288 with 1 Axes>"
      ]
     },
     "metadata": {
      "needs_background": "light"
     },
     "output_type": "display_data"
    }
   ],
   "source": [
    "sns.countplot(x='isCylindersEven', data=dataset)"
   ]
  },
  {
   "cell_type": "code",
   "execution_count": 81,
   "id": "8817fc94",
   "metadata": {},
   "outputs": [
    {
     "data": {
      "text/plain": [
       "0.9824120603015075"
      ]
     },
     "execution_count": 81,
     "metadata": {},
     "output_type": "execute_result"
    }
   ],
   "source": [
    "len(dataset[dataset['isCylindersEven'] == 1]) / len(dataset)"
   ]
  },
  {
   "cell_type": "markdown",
   "id": "bca89dca",
   "metadata": {},
   "source": [
    "### No of Cylinders being odd  is very very less compared to even"
   ]
  },
  {
   "cell_type": "code",
   "execution_count": 82,
   "id": "e97f9a76",
   "metadata": {},
   "outputs": [
    {
     "data": {
      "text/plain": [
       "<seaborn.axisgrid.FacetGrid at 0x1b310806520>"
      ]
     },
     "execution_count": 82,
     "metadata": {},
     "output_type": "execute_result"
    },
    {
     "data": {
      "image/png": "[encoded data removed]",
      "text/plain": [
       "<Figure size 360x360 with 1 Axes>"
      ]
     },
     "metadata": {
      "needs_background": "light"
     },
     "output_type": "display_data"
    }
   ],
   "source": [
    "sns.catplot(x='cylinders', y='mpg', data=dataset)"
   ]
  },
  {
   "cell_type": "code",
   "execution_count": 83,
   "id": "d3a0625b",
   "metadata": {},
   "outputs": [
    {
     "data": {
      "text/plain": [
       "<seaborn.axisgrid.FacetGrid at 0x1b31328d430>"
      ]
     },
     "execution_count": 83,
     "metadata": {},
     "output_type": "execute_result"
    },
    {
     "data": {
      "image/png": "[encoded data removed]",
      "text/plain": [
       "<Figure size 360x360 with 1 Axes>"
      ]
     },
     "metadata": {
      "needs_background": "light"
     },
     "output_type": "display_data"
    }
   ],
   "source": [
    "sns.catplot(x='cylinders', y='Transformed_mpg', data=dataset)"
   ]
  },
  {
   "cell_type": "markdown",
   "id": "4aee669e",
   "metadata": {},
   "source": [
    "## Get Mean and Median of the dataset for unique values of cylinders attribute"
   ]
  },
  {
   "cell_type": "code",
   "execution_count": 84,
   "id": "af450851",
   "metadata": {},
   "outputs": [
    {
     "data": {
      "text/html": [
       "<div>\n",
       "<style scoped>\n",
       "    .dataframe tbody tr th:only-of-type {\n",
       "        vertical-align: middle;\n",
       "    }\n",
       "\n",
       "    .dataframe tbody tr th {\n",
       "        vertical-align: top;\n",
       "    }\n",
       "\n",
       "    .dataframe thead th {\n",
       "        text-align: right;\n",
       "    }\n",
       "</style>\n",
       "<table border=\"1\" class=\"dataframe\">\n",
       "  <thead>\n",
       "    <tr style=\"text-align: right;\">\n",
       "      <th></th>\n",
       "      <th>mpg</th>\n",
       "      <th>displacement</th>\n",
       "      <th>weight</th>\n",
       "      <th>acceleration</th>\n",
       "      <th>model year</th>\n",
       "      <th>origin</th>\n",
       "      <th>Transformed_mpg</th>\n",
       "      <th>isCylindersEven</th>\n",
       "    </tr>\n",
       "    <tr>\n",
       "      <th>cylinders</th>\n",
       "      <th></th>\n",
       "      <th></th>\n",
       "      <th></th>\n",
       "      <th></th>\n",
       "      <th></th>\n",
       "      <th></th>\n",
       "      <th></th>\n",
       "      <th></th>\n",
       "    </tr>\n",
       "  </thead>\n",
       "  <tbody>\n",
       "    <tr>\n",
       "      <th>3</th>\n",
       "      <td>20.550000</td>\n",
       "      <td>72.500000</td>\n",
       "      <td>2398.500000</td>\n",
       "      <td>13.250000</td>\n",
       "      <td>75.500000</td>\n",
       "      <td>3.000000</td>\n",
       "      <td>4.507304</td>\n",
       "      <td>0.0</td>\n",
       "    </tr>\n",
       "    <tr>\n",
       "      <th>4</th>\n",
       "      <td>29.286765</td>\n",
       "      <td>109.796569</td>\n",
       "      <td>2308.127451</td>\n",
       "      <td>16.601471</td>\n",
       "      <td>77.073529</td>\n",
       "      <td>1.985294</td>\n",
       "      <td>5.272937</td>\n",
       "      <td>1.0</td>\n",
       "    </tr>\n",
       "    <tr>\n",
       "      <th>5</th>\n",
       "      <td>27.366667</td>\n",
       "      <td>145.000000</td>\n",
       "      <td>3103.333333</td>\n",
       "      <td>18.633333</td>\n",
       "      <td>79.000000</td>\n",
       "      <td>2.000000</td>\n",
       "      <td>5.098471</td>\n",
       "      <td>0.0</td>\n",
       "    </tr>\n",
       "    <tr>\n",
       "      <th>6</th>\n",
       "      <td>19.985714</td>\n",
       "      <td>218.142857</td>\n",
       "      <td>3198.226190</td>\n",
       "      <td>16.263095</td>\n",
       "      <td>75.928571</td>\n",
       "      <td>1.190476</td>\n",
       "      <td>4.433120</td>\n",
       "      <td>1.0</td>\n",
       "    </tr>\n",
       "    <tr>\n",
       "      <th>8</th>\n",
       "      <td>14.963107</td>\n",
       "      <td>345.009709</td>\n",
       "      <td>4114.718447</td>\n",
       "      <td>12.955340</td>\n",
       "      <td>73.902913</td>\n",
       "      <td>1.000000</td>\n",
       "      <td>3.842645</td>\n",
       "      <td>1.0</td>\n",
       "    </tr>\n",
       "  </tbody>\n",
       "</table>\n",
       "</div>"
      ],
      "text/plain": [
       "                 mpg  displacement       weight  acceleration  model year  \\\n",
       "cylinders                                                                   \n",
       "3          20.550000     72.500000  2398.500000     13.250000   75.500000   \n",
       "4          29.286765    109.796569  2308.127451     16.601471   77.073529   \n",
       "5          27.366667    145.000000  3103.333333     18.633333   79.000000   \n",
       "6          19.985714    218.142857  3198.226190     16.263095   75.928571   \n",
       "8          14.963107    345.009709  4114.718447     12.955340   73.902913   \n",
       "\n",
       "             origin  Transformed_mpg  isCylindersEven  \n",
       "cylinders                                              \n",
       "3          3.000000         4.507304              0.0  \n",
       "4          1.985294         5.272937              1.0  \n",
       "5          2.000000         5.098471              0.0  \n",
       "6          1.190476         4.433120              1.0  \n",
       "8          1.000000         3.842645              1.0  "
      ]
     },
     "execution_count": 84,
     "metadata": {},
     "output_type": "execute_result"
    }
   ],
   "source": [
    "dataset.groupby(['cylinders']).mean()"
   ]
  },
  {
   "cell_type": "code",
   "execution_count": 85,
   "id": "a0767b08",
   "metadata": {},
   "outputs": [
    {
     "data": {
      "text/html": [
       "<div>\n",
       "<style scoped>\n",
       "    .dataframe tbody tr th:only-of-type {\n",
       "        vertical-align: middle;\n",
       "    }\n",
       "\n",
       "    .dataframe tbody tr th {\n",
       "        vertical-align: top;\n",
       "    }\n",
       "\n",
       "    .dataframe thead th {\n",
       "        text-align: right;\n",
       "    }\n",
       "</style>\n",
       "<table border=\"1\" class=\"dataframe\">\n",
       "  <thead>\n",
       "    <tr style=\"text-align: right;\">\n",
       "      <th></th>\n",
       "      <th>mpg</th>\n",
       "      <th>displacement</th>\n",
       "      <th>weight</th>\n",
       "      <th>acceleration</th>\n",
       "      <th>model year</th>\n",
       "      <th>origin</th>\n",
       "      <th>Transformed_mpg</th>\n",
       "      <th>isCylindersEven</th>\n",
       "    </tr>\n",
       "    <tr>\n",
       "      <th>cylinders</th>\n",
       "      <th></th>\n",
       "      <th></th>\n",
       "      <th></th>\n",
       "      <th></th>\n",
       "      <th></th>\n",
       "      <th></th>\n",
       "      <th></th>\n",
       "      <th></th>\n",
       "    </tr>\n",
       "  </thead>\n",
       "  <tbody>\n",
       "    <tr>\n",
       "      <th>3</th>\n",
       "      <td>20.25</td>\n",
       "      <td>70.0</td>\n",
       "      <td>2375.0</td>\n",
       "      <td>13.5</td>\n",
       "      <td>75.0</td>\n",
       "      <td>3.0</td>\n",
       "      <td>4.482246</td>\n",
       "      <td>0.0</td>\n",
       "    </tr>\n",
       "    <tr>\n",
       "      <th>4</th>\n",
       "      <td>28.25</td>\n",
       "      <td>105.0</td>\n",
       "      <td>2232.0</td>\n",
       "      <td>16.2</td>\n",
       "      <td>78.0</td>\n",
       "      <td>2.0</td>\n",
       "      <td>5.221752</td>\n",
       "      <td>1.0</td>\n",
       "    </tr>\n",
       "    <tr>\n",
       "      <th>5</th>\n",
       "      <td>25.40</td>\n",
       "      <td>131.0</td>\n",
       "      <td>2950.0</td>\n",
       "      <td>19.9</td>\n",
       "      <td>79.0</td>\n",
       "      <td>2.0</td>\n",
       "      <td>4.979836</td>\n",
       "      <td>0.0</td>\n",
       "    </tr>\n",
       "    <tr>\n",
       "      <th>6</th>\n",
       "      <td>19.00</td>\n",
       "      <td>228.0</td>\n",
       "      <td>3201.5</td>\n",
       "      <td>16.1</td>\n",
       "      <td>76.0</td>\n",
       "      <td>1.0</td>\n",
       "      <td>4.351191</td>\n",
       "      <td>1.0</td>\n",
       "    </tr>\n",
       "    <tr>\n",
       "      <th>8</th>\n",
       "      <td>14.00</td>\n",
       "      <td>350.0</td>\n",
       "      <td>4140.0</td>\n",
       "      <td>13.0</td>\n",
       "      <td>73.0</td>\n",
       "      <td>1.0</td>\n",
       "      <td>3.737346</td>\n",
       "      <td>1.0</td>\n",
       "    </tr>\n",
       "  </tbody>\n",
       "</table>\n",
       "</div>"
      ],
      "text/plain": [
       "             mpg  displacement  weight  acceleration  model year  origin  \\\n",
       "cylinders                                                                  \n",
       "3          20.25          70.0  2375.0          13.5        75.0     3.0   \n",
       "4          28.25         105.0  2232.0          16.2        78.0     2.0   \n",
       "5          25.40         131.0  2950.0          19.9        79.0     2.0   \n",
       "6          19.00         228.0  3201.5          16.1        76.0     1.0   \n",
       "8          14.00         350.0  4140.0          13.0        73.0     1.0   \n",
       "\n",
       "           Transformed_mpg  isCylindersEven  \n",
       "cylinders                                    \n",
       "3                 4.482246              0.0  \n",
       "4                 5.221752              1.0  \n",
       "5                 4.979836              0.0  \n",
       "6                 4.351191              1.0  \n",
       "8                 3.737346              1.0  "
      ]
     },
     "execution_count": 85,
     "metadata": {},
     "output_type": "execute_result"
    }
   ],
   "source": [
    "dataset.groupby(['cylinders']).median()"
   ]
  },
  {
   "cell_type": "markdown",
   "id": "9650bbd4",
   "metadata": {},
   "source": [
    "### From above we can confirm that when cylinders == 4 then mpg is highest"
   ]
  },
  {
   "cell_type": "code",
   "execution_count": 86,
   "id": "2cbcf749",
   "metadata": {},
   "outputs": [
    {
     "data": {
      "text/html": [
       "<div>\n",
       "<style scoped>\n",
       "    .dataframe tbody tr th:only-of-type {\n",
       "        vertical-align: middle;\n",
       "    }\n",
       "\n",
       "    .dataframe tbody tr th {\n",
       "        vertical-align: top;\n",
       "    }\n",
       "\n",
       "    .dataframe thead th {\n",
       "        text-align: right;\n",
       "    }\n",
       "</style>\n",
       "<table border=\"1\" class=\"dataframe\">\n",
       "  <thead>\n",
       "    <tr style=\"text-align: right;\">\n",
       "      <th></th>\n",
       "      <th>mpg</th>\n",
       "      <th>cylinders</th>\n",
       "      <th>displacement</th>\n",
       "      <th>horsepower</th>\n",
       "      <th>weight</th>\n",
       "      <th>acceleration</th>\n",
       "      <th>model year</th>\n",
       "      <th>origin</th>\n",
       "      <th>car name</th>\n",
       "      <th>Transformed_mpg</th>\n",
       "      <th>isCylindersEven</th>\n",
       "    </tr>\n",
       "  </thead>\n",
       "  <tbody>\n",
       "    <tr>\n",
       "      <th>0</th>\n",
       "      <td>18.0</td>\n",
       "      <td>8</td>\n",
       "      <td>307.0</td>\n",
       "      <td>130</td>\n",
       "      <td>3504</td>\n",
       "      <td>12.0</td>\n",
       "      <td>70</td>\n",
       "      <td>1</td>\n",
       "      <td>chevrolet chevelle malibu</td>\n",
       "      <td>4.239069</td>\n",
       "      <td>1</td>\n",
       "    </tr>\n",
       "    <tr>\n",
       "      <th>1</th>\n",
       "      <td>15.0</td>\n",
       "      <td>8</td>\n",
       "      <td>350.0</td>\n",
       "      <td>165</td>\n",
       "      <td>3693</td>\n",
       "      <td>11.5</td>\n",
       "      <td>70</td>\n",
       "      <td>1</td>\n",
       "      <td>buick skylark 320</td>\n",
       "      <td>3.871959</td>\n",
       "      <td>1</td>\n",
       "    </tr>\n",
       "    <tr>\n",
       "      <th>2</th>\n",
       "      <td>18.0</td>\n",
       "      <td>8</td>\n",
       "      <td>318.0</td>\n",
       "      <td>150</td>\n",
       "      <td>3436</td>\n",
       "      <td>11.0</td>\n",
       "      <td>70</td>\n",
       "      <td>1</td>\n",
       "      <td>plymouth satellite</td>\n",
       "      <td>4.239069</td>\n",
       "      <td>1</td>\n",
       "    </tr>\n",
       "    <tr>\n",
       "      <th>3</th>\n",
       "      <td>16.0</td>\n",
       "      <td>8</td>\n",
       "      <td>304.0</td>\n",
       "      <td>150</td>\n",
       "      <td>3433</td>\n",
       "      <td>12.0</td>\n",
       "      <td>70</td>\n",
       "      <td>1</td>\n",
       "      <td>amc rebel sst</td>\n",
       "      <td>4.000000</td>\n",
       "      <td>1</td>\n",
       "    </tr>\n",
       "    <tr>\n",
       "      <th>4</th>\n",
       "      <td>17.0</td>\n",
       "      <td>8</td>\n",
       "      <td>302.0</td>\n",
       "      <td>140</td>\n",
       "      <td>3449</td>\n",
       "      <td>10.5</td>\n",
       "      <td>70</td>\n",
       "      <td>1</td>\n",
       "      <td>ford torino</td>\n",
       "      <td>4.122173</td>\n",
       "      <td>1</td>\n",
       "    </tr>\n",
       "  </tbody>\n",
       "</table>\n",
       "</div>"
      ],
      "text/plain": [
       "    mpg  cylinders  displacement horsepower  weight  acceleration  model year  \\\n",
       "0  18.0          8         307.0        130    3504          12.0          70   \n",
       "1  15.0          8         350.0        165    3693          11.5          70   \n",
       "2  18.0          8         318.0        150    3436          11.0          70   \n",
       "3  16.0          8         304.0        150    3433          12.0          70   \n",
       "4  17.0          8         302.0        140    3449          10.5          70   \n",
       "\n",
       "   origin                   car name  Transformed_mpg  isCylindersEven  \n",
       "0       1  chevrolet chevelle malibu         4.239069                1  \n",
       "1       1          buick skylark 320         3.871959                1  \n",
       "2       1         plymouth satellite         4.239069                1  \n",
       "3       1              amc rebel sst         4.000000                1  \n",
       "4       1                ford torino         4.122173                1  "
      ]
     },
     "execution_count": 86,
     "metadata": {},
     "output_type": "execute_result"
    }
   ],
   "source": [
    "dataset.head()"
   ]
  },
  {
   "cell_type": "markdown",
   "id": "90d3f1c7",
   "metadata": {},
   "source": [
    "## displacement Feature"
   ]
  },
  {
   "cell_type": "code",
   "execution_count": 87,
   "id": "14ea33fd",
   "metadata": {},
   "outputs": [
    {
     "name": "stdout",
     "output_type": "stream",
     "text": [
      "Before Boxcox Transformation ==>  0.7196451643005952\n"
     ]
    },
    {
     "name": "stderr",
     "output_type": "stream",
     "text": [
      "C:\\Users\\jiten\\anaconda3\\lib\\site-packages\\seaborn\\distributions.py:2619: FutureWarning: `distplot` is a deprecated function and will be removed in a future version. Please adapt your code to use either `displot` (a figure-level function with similar flexibility) or `histplot` (an axes-level function for histograms).\n",
      "  warnings.warn(msg, FutureWarning)\n"
     ]
    },
    {
     "data": {
      "image/png": "[encoded data removed]",
      "text/plain": [
       "<Figure size 432x288 with 1 Axes>"
      ]
     },
     "metadata": {
      "needs_background": "light"
     },
     "output_type": "display_data"
    }
   ],
   "source": [
    "check_distribution('displacement')"
   ]
  },
  {
   "cell_type": "code",
   "execution_count": 88,
   "id": "52737864",
   "metadata": {},
   "outputs": [
    {
     "data": {
      "text/plain": [
       "<AxesSubplot:xlabel='displacement', ylabel='Transformed_mpg'>"
      ]
     },
     "execution_count": 88,
     "metadata": {},
     "output_type": "execute_result"
    },
    {
     "data": {
      "image/png": "[encoded data removed]",
      "text/plain": [
       "<Figure size 432x288 with 1 Axes>"
      ]
     },
     "metadata": {
      "needs_background": "light"
     },
     "output_type": "display_data"
    }
   ],
   "source": [
    "sns.scatterplot(x='displacement', y='Transformed_mpg', data=dataset)"
   ]
  },
  {
   "cell_type": "code",
   "execution_count": 89,
   "id": "424a1c8a",
   "metadata": {},
   "outputs": [
    {
     "data": {
      "text/plain": [
       "<AxesSubplot:xlabel='displacement', ylabel='mpg'>"
      ]
     },
     "execution_count": 89,
     "metadata": {},
     "output_type": "execute_result"
    },
    {
     "data": {
      "image/png": "[encoded data removed]",
      "text/plain": [
       "<Figure size 432x288 with 1 Axes>"
      ]
     },
     "metadata": {
      "needs_background": "light"
     },
     "output_type": "display_data"
    }
   ],
   "source": [
    "sns.scatterplot(x='displacement', y='mpg', data=dataset)"
   ]
  },
  {
   "cell_type": "markdown",
   "id": "1ff48abe",
   "metadata": {},
   "source": [
    "### From above we can see displacement and mpg are inversely related "
   ]
  },
  {
   "cell_type": "markdown",
   "id": "3e034d61",
   "metadata": {},
   "source": [
    "### Let's reduce skewness in displacement and see the scatter plots again"
   ]
  },
  {
   "cell_type": "code",
   "execution_count": 90,
   "id": "2b44763d",
   "metadata": {},
   "outputs": [
    {
     "name": "stdout",
     "output_type": "stream",
     "text": [
      "Before Boxcox Transformation ==>  0.7196451643005952\n"
     ]
    },
    {
     "name": "stderr",
     "output_type": "stream",
     "text": [
      "C:\\Users\\jiten\\anaconda3\\lib\\site-packages\\seaborn\\distributions.py:2619: FutureWarning: `distplot` is a deprecated function and will be removed in a future version. Please adapt your code to use either `displot` (a figure-level function with similar flexibility) or `histplot` (an axes-level function for histograms).\n",
      "  warnings.warn(msg, FutureWarning)\n"
     ]
    },
    {
     "data": {
      "image/png": "[encoded data removed]",
      "text/plain": [
       "<Figure size 432x288 with 1 Axes>"
      ]
     },
     "metadata": {
      "needs_background": "light"
     },
     "output_type": "display_data"
    },
    {
     "name": "stdout",
     "output_type": "stream",
     "text": [
      "After Boxcox Transformation ==>  0.07949667041690228\n"
     ]
    },
    {
     "name": "stderr",
     "output_type": "stream",
     "text": [
      "C:\\Users\\jiten\\anaconda3\\lib\\site-packages\\seaborn\\distributions.py:2619: FutureWarning: `distplot` is a deprecated function and will be removed in a future version. Please adapt your code to use either `displot` (a figure-level function with similar flexibility) or `histplot` (an axes-level function for histograms).\n",
      "  warnings.warn(msg, FutureWarning)\n"
     ]
    },
    {
     "data": {
      "image/png": "[encoded data removed]",
      "text/plain": [
       "<Figure size 432x288 with 1 Axes>"
      ]
     },
     "metadata": {
      "needs_background": "light"
     },
     "output_type": "display_data"
    }
   ],
   "source": [
    "displacement_boxcox_value = -0.3\n",
    "\n",
    "apply_boxcox_transformation('displacement', displacement_boxcox_value)"
   ]
  },
  {
   "cell_type": "markdown",
   "id": "e33dab14",
   "metadata": {},
   "source": [
    "### Applying boxcox to reduce skewness in displacement feature"
   ]
  },
  {
   "cell_type": "code",
   "execution_count": 91,
   "id": "41f2860f",
   "metadata": {},
   "outputs": [],
   "source": [
    "dataset['Transformed_displacement'] = boxcox(dataset['displacement'], displacement_boxcox_value)"
   ]
  },
  {
   "cell_type": "code",
   "execution_count": 92,
   "id": "8299e9de",
   "metadata": {},
   "outputs": [
    {
     "data": {
      "text/plain": [
       "<AxesSubplot:xlabel='Transformed_displacement', ylabel='mpg'>"
      ]
     },
     "execution_count": 92,
     "metadata": {},
     "output_type": "execute_result"
    },
    {
     "data": {
      "image/png": "[encoded data removed]",
      "text/plain": [
       "<Figure size 432x288 with 1 Axes>"
      ]
     },
     "metadata": {
      "needs_background": "light"
     },
     "output_type": "display_data"
    }
   ],
   "source": [
    "sns.scatterplot(x='Transformed_displacement', y='mpg', data=dataset)"
   ]
  },
  {
   "cell_type": "code",
   "execution_count": 93,
   "id": "e681b59c",
   "metadata": {},
   "outputs": [
    {
     "data": {
      "text/plain": [
       "<AxesSubplot:xlabel='Transformed_displacement', ylabel='Transformed_mpg'>"
      ]
     },
     "execution_count": 93,
     "metadata": {},
     "output_type": "execute_result"
    },
    {
     "data": {
      "image/png": "[encoded data removed]",
      "text/plain": [
       "<Figure size 432x288 with 1 Axes>"
      ]
     },
     "metadata": {
      "needs_background": "light"
     },
     "output_type": "display_data"
    }
   ],
   "source": [
    "sns.scatterplot(x='Transformed_displacement', y='Transformed_mpg', data=dataset)"
   ]
  },
  {
   "cell_type": "markdown",
   "id": "add85f39",
   "metadata": {},
   "source": [
    "### From the scatterplots after fetaure transformation in displacement feature it's relation with mpg has not changed "
   ]
  },
  {
   "cell_type": "code",
   "execution_count": 94,
   "id": "3c1e5782",
   "metadata": {},
   "outputs": [
    {
     "data": {
      "text/html": [
       "<div>\n",
       "<style scoped>\n",
       "    .dataframe tbody tr th:only-of-type {\n",
       "        vertical-align: middle;\n",
       "    }\n",
       "\n",
       "    .dataframe tbody tr th {\n",
       "        vertical-align: top;\n",
       "    }\n",
       "\n",
       "    .dataframe thead th {\n",
       "        text-align: right;\n",
       "    }\n",
       "</style>\n",
       "<table border=\"1\" class=\"dataframe\">\n",
       "  <thead>\n",
       "    <tr style=\"text-align: right;\">\n",
       "      <th></th>\n",
       "      <th>mpg</th>\n",
       "      <th>cylinders</th>\n",
       "      <th>displacement</th>\n",
       "      <th>horsepower</th>\n",
       "      <th>weight</th>\n",
       "      <th>acceleration</th>\n",
       "      <th>model year</th>\n",
       "      <th>origin</th>\n",
       "      <th>car name</th>\n",
       "      <th>Transformed_mpg</th>\n",
       "      <th>isCylindersEven</th>\n",
       "      <th>Transformed_displacement</th>\n",
       "    </tr>\n",
       "  </thead>\n",
       "  <tbody>\n",
       "    <tr>\n",
       "      <th>0</th>\n",
       "      <td>18.0</td>\n",
       "      <td>8</td>\n",
       "      <td>307.0</td>\n",
       "      <td>130</td>\n",
       "      <td>3504</td>\n",
       "      <td>12.0</td>\n",
       "      <td>70</td>\n",
       "      <td>1</td>\n",
       "      <td>chevrolet chevelle malibu</td>\n",
       "      <td>4.239069</td>\n",
       "      <td>1</td>\n",
       "      <td>2.735284</td>\n",
       "    </tr>\n",
       "    <tr>\n",
       "      <th>1</th>\n",
       "      <td>15.0</td>\n",
       "      <td>8</td>\n",
       "      <td>350.0</td>\n",
       "      <td>165</td>\n",
       "      <td>3693</td>\n",
       "      <td>11.5</td>\n",
       "      <td>70</td>\n",
       "      <td>1</td>\n",
       "      <td>buick skylark 320</td>\n",
       "      <td>3.871959</td>\n",
       "      <td>1</td>\n",
       "      <td>2.758346</td>\n",
       "    </tr>\n",
       "    <tr>\n",
       "      <th>2</th>\n",
       "      <td>18.0</td>\n",
       "      <td>8</td>\n",
       "      <td>318.0</td>\n",
       "      <td>150</td>\n",
       "      <td>3436</td>\n",
       "      <td>11.0</td>\n",
       "      <td>70</td>\n",
       "      <td>1</td>\n",
       "      <td>plymouth satellite</td>\n",
       "      <td>4.239069</td>\n",
       "      <td>1</td>\n",
       "      <td>2.741567</td>\n",
       "    </tr>\n",
       "    <tr>\n",
       "      <th>3</th>\n",
       "      <td>16.0</td>\n",
       "      <td>8</td>\n",
       "      <td>304.0</td>\n",
       "      <td>150</td>\n",
       "      <td>3433</td>\n",
       "      <td>12.0</td>\n",
       "      <td>70</td>\n",
       "      <td>1</td>\n",
       "      <td>amc rebel sst</td>\n",
       "      <td>4.000000</td>\n",
       "      <td>1</td>\n",
       "      <td>2.733519</td>\n",
       "    </tr>\n",
       "    <tr>\n",
       "      <th>4</th>\n",
       "      <td>17.0</td>\n",
       "      <td>8</td>\n",
       "      <td>302.0</td>\n",
       "      <td>140</td>\n",
       "      <td>3449</td>\n",
       "      <td>10.5</td>\n",
       "      <td>70</td>\n",
       "      <td>1</td>\n",
       "      <td>ford torino</td>\n",
       "      <td>4.122173</td>\n",
       "      <td>1</td>\n",
       "      <td>2.732330</td>\n",
       "    </tr>\n",
       "  </tbody>\n",
       "</table>\n",
       "</div>"
      ],
      "text/plain": [
       "    mpg  cylinders  displacement horsepower  weight  acceleration  model year  \\\n",
       "0  18.0          8         307.0        130    3504          12.0          70   \n",
       "1  15.0          8         350.0        165    3693          11.5          70   \n",
       "2  18.0          8         318.0        150    3436          11.0          70   \n",
       "3  16.0          8         304.0        150    3433          12.0          70   \n",
       "4  17.0          8         302.0        140    3449          10.5          70   \n",
       "\n",
       "   origin                   car name  Transformed_mpg  isCylindersEven  \\\n",
       "0       1  chevrolet chevelle malibu         4.239069                1   \n",
       "1       1          buick skylark 320         3.871959                1   \n",
       "2       1         plymouth satellite         4.239069                1   \n",
       "3       1              amc rebel sst         4.000000                1   \n",
       "4       1                ford torino         4.122173                1   \n",
       "\n",
       "   Transformed_displacement  \n",
       "0                  2.735284  \n",
       "1                  2.758346  \n",
       "2                  2.741567  \n",
       "3                  2.733519  \n",
       "4                  2.732330  "
      ]
     },
     "execution_count": 94,
     "metadata": {},
     "output_type": "execute_result"
    }
   ],
   "source": [
    "dataset.head()"
   ]
  },
  {
   "cell_type": "markdown",
   "id": "d29fb059",
   "metadata": {},
   "source": [
    "## horsepowerFeature"
   ]
  },
  {
   "cell_type": "code",
   "execution_count": 95,
   "id": "eedb3f42",
   "metadata": {},
   "outputs": [
    {
     "data": {
      "text/plain": [
       "array(['130', '165', '150', '140', '198', '220', '215', '225', '190',\n",
       "       '170', '160', '95', '97', '85', '88', '46', '87', '90', '113',\n",
       "       '200', '210', '193', '?', '100', '105', '175', '153', '180', '110',\n",
       "       '72', '86', '70', '76', '65', '69', '60', '80', '54', '208', '155',\n",
       "       '112', '92', '145', '137', '158', '167', '94', '107', '230', '49',\n",
       "       '75', '91', '122', '67', '83', '78', '52', '61', '93', '148',\n",
       "       '129', '96', '71', '98', '115', '53', '81', '79', '120', '152',\n",
       "       '102', '108', '68', '58', '149', '89', '63', '48', '66', '139',\n",
       "       '103', '125', '133', '138', '135', '142', '77', '62', '132', '84',\n",
       "       '64', '74', '116', '82'], dtype=object)"
      ]
     },
     "execution_count": 95,
     "metadata": {},
     "output_type": "execute_result"
    }
   ],
   "source": [
    "dataset['horsepower'].unique()"
   ]
  },
  {
   "cell_type": "code",
   "execution_count": 96,
   "id": "e6d49715",
   "metadata": {},
   "outputs": [
    {
     "data": {
      "text/plain": [
       "6"
      ]
     },
     "execution_count": 96,
     "metadata": {},
     "output_type": "execute_result"
    }
   ],
   "source": [
    "len(dataset[dataset['horsepower'] == '?'])"
   ]
  },
  {
   "cell_type": "code",
   "execution_count": 97,
   "id": "6576266c",
   "metadata": {},
   "outputs": [
    {
     "data": {
      "text/html": [
       "<div>\n",
       "<style scoped>\n",
       "    .dataframe tbody tr th:only-of-type {\n",
       "        vertical-align: middle;\n",
       "    }\n",
       "\n",
       "    .dataframe tbody tr th {\n",
       "        vertical-align: top;\n",
       "    }\n",
       "\n",
       "    .dataframe thead th {\n",
       "        text-align: right;\n",
       "    }\n",
       "</style>\n",
       "<table border=\"1\" class=\"dataframe\">\n",
       "  <thead>\n",
       "    <tr style=\"text-align: right;\">\n",
       "      <th></th>\n",
       "      <th>mpg</th>\n",
       "      <th>cylinders</th>\n",
       "      <th>displacement</th>\n",
       "      <th>horsepower</th>\n",
       "      <th>weight</th>\n",
       "      <th>acceleration</th>\n",
       "      <th>model year</th>\n",
       "      <th>origin</th>\n",
       "      <th>car name</th>\n",
       "      <th>Transformed_mpg</th>\n",
       "      <th>isCylindersEven</th>\n",
       "      <th>Transformed_displacement</th>\n",
       "    </tr>\n",
       "  </thead>\n",
       "  <tbody>\n",
       "    <tr>\n",
       "      <th>32</th>\n",
       "      <td>25.0</td>\n",
       "      <td>4</td>\n",
       "      <td>98.0</td>\n",
       "      <td>?</td>\n",
       "      <td>2046</td>\n",
       "      <td>19.0</td>\n",
       "      <td>71</td>\n",
       "      <td>1</td>\n",
       "      <td>ford pinto</td>\n",
       "      <td>4.944272</td>\n",
       "      <td>1</td>\n",
       "      <td>2.490948</td>\n",
       "    </tr>\n",
       "    <tr>\n",
       "      <th>126</th>\n",
       "      <td>21.0</td>\n",
       "      <td>6</td>\n",
       "      <td>200.0</td>\n",
       "      <td>?</td>\n",
       "      <td>2875</td>\n",
       "      <td>17.0</td>\n",
       "      <td>74</td>\n",
       "      <td>1</td>\n",
       "      <td>ford maverick</td>\n",
       "      <td>4.562781</td>\n",
       "      <td>1</td>\n",
       "      <td>2.653238</td>\n",
       "    </tr>\n",
       "    <tr>\n",
       "      <th>330</th>\n",
       "      <td>40.9</td>\n",
       "      <td>4</td>\n",
       "      <td>85.0</td>\n",
       "      <td>?</td>\n",
       "      <td>1835</td>\n",
       "      <td>17.3</td>\n",
       "      <td>80</td>\n",
       "      <td>2</td>\n",
       "      <td>renault lecar deluxe</td>\n",
       "      <td>6.115581</td>\n",
       "      <td>1</td>\n",
       "      <td>2.454203</td>\n",
       "    </tr>\n",
       "    <tr>\n",
       "      <th>336</th>\n",
       "      <td>23.6</td>\n",
       "      <td>4</td>\n",
       "      <td>140.0</td>\n",
       "      <td>?</td>\n",
       "      <td>2905</td>\n",
       "      <td>14.3</td>\n",
       "      <td>80</td>\n",
       "      <td>1</td>\n",
       "      <td>ford mustang cobra</td>\n",
       "      <td>4.816333</td>\n",
       "      <td>1</td>\n",
       "      <td>2.576430</td>\n",
       "    </tr>\n",
       "    <tr>\n",
       "      <th>354</th>\n",
       "      <td>34.5</td>\n",
       "      <td>4</td>\n",
       "      <td>100.0</td>\n",
       "      <td>?</td>\n",
       "      <td>2320</td>\n",
       "      <td>15.8</td>\n",
       "      <td>81</td>\n",
       "      <td>2</td>\n",
       "      <td>renault 18i</td>\n",
       "      <td>5.694262</td>\n",
       "      <td>1</td>\n",
       "      <td>2.496038</td>\n",
       "    </tr>\n",
       "    <tr>\n",
       "      <th>374</th>\n",
       "      <td>23.0</td>\n",
       "      <td>4</td>\n",
       "      <td>151.0</td>\n",
       "      <td>?</td>\n",
       "      <td>3035</td>\n",
       "      <td>20.5</td>\n",
       "      <td>82</td>\n",
       "      <td>1</td>\n",
       "      <td>amc concord dl</td>\n",
       "      <td>4.759755</td>\n",
       "      <td>1</td>\n",
       "      <td>2.593412</td>\n",
       "    </tr>\n",
       "  </tbody>\n",
       "</table>\n",
       "</div>"
      ],
      "text/plain": [
       "      mpg  cylinders  displacement horsepower  weight  acceleration  \\\n",
       "32   25.0          4          98.0          ?    2046          19.0   \n",
       "126  21.0          6         200.0          ?    2875          17.0   \n",
       "330  40.9          4          85.0          ?    1835          17.3   \n",
       "336  23.6          4         140.0          ?    2905          14.3   \n",
       "354  34.5          4         100.0          ?    2320          15.8   \n",
       "374  23.0          4         151.0          ?    3035          20.5   \n",
       "\n",
       "     model year  origin              car name  Transformed_mpg  \\\n",
       "32           71       1            ford pinto         4.944272   \n",
       "126          74       1         ford maverick         4.562781   \n",
       "330          80       2  renault lecar deluxe         6.115581   \n",
       "336          80       1    ford mustang cobra         4.816333   \n",
       "354          81       2           renault 18i         5.694262   \n",
       "374          82       1        amc concord dl         4.759755   \n",
       "\n",
       "     isCylindersEven  Transformed_displacement  \n",
       "32                 1                  2.490948  \n",
       "126                1                  2.653238  \n",
       "330                1                  2.454203  \n",
       "336                1                  2.576430  \n",
       "354                1                  2.496038  \n",
       "374                1                  2.593412  "
      ]
     },
     "execution_count": 97,
     "metadata": {},
     "output_type": "execute_result"
    }
   ],
   "source": [
    "dataset[dataset['horsepower'] == '?']"
   ]
  },
  {
   "cell_type": "markdown",
   "id": "46a0abc3",
   "metadata": {},
   "source": [
    "### Replace ? with Nan"
   ]
  },
  {
   "cell_type": "code",
   "execution_count": 98,
   "id": "183f9a8a",
   "metadata": {},
   "outputs": [],
   "source": [
    "dataset['horsepower'].replace('?', np.nan, inplace=True)\n",
    "\n",
    "dataset['horsepower'] = dataset['horsepower'].astype(np.float64)"
   ]
  },
  {
   "cell_type": "code",
   "execution_count": 99,
   "id": "0b991036",
   "metadata": {},
   "outputs": [
    {
     "data": {
      "text/plain": [
       "<AxesSubplot:xlabel='horsepower', ylabel='mpg'>"
      ]
     },
     "execution_count": 99,
     "metadata": {},
     "output_type": "execute_result"
    },
    {
     "data": {
      "image/png": "[encoded data removed]",
      "text/plain": [
       "<Figure size 432x288 with 1 Axes>"
      ]
     },
     "metadata": {
      "needs_background": "light"
     },
     "output_type": "display_data"
    }
   ],
   "source": [
    "sns.scatterplot(x='horsepower', y='mpg', data=dataset)"
   ]
  },
  {
   "cell_type": "code",
   "execution_count": 100,
   "id": "a3d6f7cc",
   "metadata": {},
   "outputs": [
    {
     "data": {
      "text/plain": [
       "<AxesSubplot:xlabel='horsepower', ylabel='Transformed_mpg'>"
      ]
     },
     "execution_count": 100,
     "metadata": {},
     "output_type": "execute_result"
    },
    {
     "data": {
      "image/png": "[encoded data removed]",
      "text/plain": [
       "<Figure size 432x288 with 1 Axes>"
      ]
     },
     "metadata": {
      "needs_background": "light"
     },
     "output_type": "display_data"
    }
   ],
   "source": [
    "sns.scatterplot(x='horsepower', y='Transformed_mpg', data=dataset)"
   ]
  },
  {
   "cell_type": "markdown",
   "id": "f647c1b4",
   "metadata": {},
   "source": [
    "### mpg decreases exponentially when horsepower rise  "
   ]
  },
  {
   "cell_type": "code",
   "execution_count": 101,
   "id": "3af325e1",
   "metadata": {},
   "outputs": [
    {
     "data": {
      "text/plain": [
       "6"
      ]
     },
     "execution_count": 101,
     "metadata": {},
     "output_type": "execute_result"
    }
   ],
   "source": [
    "dataset['horsepower'].isna().sum()"
   ]
  },
  {
   "cell_type": "code",
   "execution_count": 102,
   "id": "ddfe6974",
   "metadata": {},
   "outputs": [],
   "source": [
    "dataset['Imputed_horsepower'] = dataset['horsepower'].fillna(dataset['horsepower'].median())"
   ]
  },
  {
   "cell_type": "code",
   "execution_count": 103,
   "id": "5c719b9b",
   "metadata": {},
   "outputs": [
    {
     "data": {
      "text/plain": [
       "<AxesSubplot:xlabel='Imputed_horsepower', ylabel='mpg'>"
      ]
     },
     "execution_count": 103,
     "metadata": {},
     "output_type": "execute_result"
    },
    {
     "data": {
      "image/png": "[encoded data removed]",
      "text/plain": [
       "<Figure size 432x288 with 1 Axes>"
      ]
     },
     "metadata": {
      "needs_background": "light"
     },
     "output_type": "display_data"
    }
   ],
   "source": [
    "sns.scatterplot(x='Imputed_horsepower', y='mpg', data=dataset)"
   ]
  },
  {
   "cell_type": "code",
   "execution_count": 104,
   "id": "263553eb",
   "metadata": {},
   "outputs": [
    {
     "data": {
      "text/plain": [
       "<AxesSubplot:xlabel='Imputed_horsepower', ylabel='Transformed_mpg'>"
      ]
     },
     "execution_count": 104,
     "metadata": {},
     "output_type": "execute_result"
    },
    {
     "data": {
      "image/png": "[encoded data removed]",
      "text/plain": [
       "<Figure size 432x288 with 1 Axes>"
      ]
     },
     "metadata": {
      "needs_background": "light"
     },
     "output_type": "display_data"
    }
   ],
   "source": [
    "sns.scatterplot(x='Imputed_horsepower', y='Transformed_mpg', data=dataset)"
   ]
  },
  {
   "cell_type": "markdown",
   "id": "fadebede",
   "metadata": {},
   "source": [
    "### weight"
   ]
  },
  {
   "cell_type": "code",
   "execution_count": 105,
   "id": "cc34be67",
   "metadata": {},
   "outputs": [
    {
     "name": "stdout",
     "output_type": "stream",
     "text": [
      "Before Boxcox Transformation ==>  0.5310625125994629\n"
     ]
    },
    {
     "name": "stderr",
     "output_type": "stream",
     "text": [
      "C:\\Users\\jiten\\anaconda3\\lib\\site-packages\\seaborn\\distributions.py:2619: FutureWarning: `distplot` is a deprecated function and will be removed in a future version. Please adapt your code to use either `displot` (a figure-level function with similar flexibility) or `histplot` (an axes-level function for histograms).\n",
      "  warnings.warn(msg, FutureWarning)\n"
     ]
    },
    {
     "data": {
      "image/png": "[encoded data removed]",
      "text/plain": [
       "<Figure size 432x288 with 1 Axes>"
      ]
     },
     "metadata": {
      "needs_background": "light"
     },
     "output_type": "display_data"
    }
   ],
   "source": [
    "check_distribution('weight')"
   ]
  },
  {
   "cell_type": "code",
   "execution_count": 106,
   "id": "3426bd4e",
   "metadata": {},
   "outputs": [
    {
     "data": {
      "text/plain": [
       "<AxesSubplot:xlabel='weight', ylabel='mpg'>"
      ]
     },
     "execution_count": 106,
     "metadata": {},
     "output_type": "execute_result"
    },
    {
     "data": {
      "image/png": "[encoded data removed]",
      "text/plain": [
       "<Figure size 432x288 with 1 Axes>"
      ]
     },
     "metadata": {
      "needs_background": "light"
     },
     "output_type": "display_data"
    }
   ],
   "source": [
    "sns.scatterplot(x='weight', y='mpg', data=dataset)"
   ]
  },
  {
   "cell_type": "code",
   "execution_count": 107,
   "id": "e3fbf4a6",
   "metadata": {},
   "outputs": [
    {
     "data": {
      "text/plain": [
       "<AxesSubplot:xlabel='weight', ylabel='Transformed_mpg'>"
      ]
     },
     "execution_count": 107,
     "metadata": {},
     "output_type": "execute_result"
    },
    {
     "data": {
      "image/png": "[encoded data removed]",
      "text/plain": [
       "<Figure size 432x288 with 1 Axes>"
      ]
     },
     "metadata": {
      "needs_background": "light"
     },
     "output_type": "display_data"
    }
   ],
   "source": [
    "sns.scatterplot(x='weight', y='Transformed_mpg', data=dataset)"
   ]
  },
  {
   "cell_type": "markdown",
   "id": "10937d98",
   "metadata": {},
   "source": [
    "### Reduce skewness of the weight feature "
   ]
  },
  {
   "cell_type": "code",
   "execution_count": 108,
   "id": "999d6130",
   "metadata": {},
   "outputs": [
    {
     "name": "stdout",
     "output_type": "stream",
     "text": [
      "Before Boxcox Transformation ==>  0.5310625125994629\n"
     ]
    },
    {
     "name": "stderr",
     "output_type": "stream",
     "text": [
      "C:\\Users\\jiten\\anaconda3\\lib\\site-packages\\seaborn\\distributions.py:2619: FutureWarning: `distplot` is a deprecated function and will be removed in a future version. Please adapt your code to use either `displot` (a figure-level function with similar flexibility) or `histplot` (an axes-level function for histograms).\n",
      "  warnings.warn(msg, FutureWarning)\n"
     ]
    },
    {
     "data": {
      "image/png": "[encoded data removed]",
      "text/plain": [
       "<Figure size 432x288 with 1 Axes>"
      ]
     },
     "metadata": {
      "needs_background": "light"
     },
     "output_type": "display_data"
    },
    {
     "name": "stdout",
     "output_type": "stream",
     "text": [
      "After Boxcox Transformation ==>  0.15630446451103178\n"
     ]
    },
    {
     "name": "stderr",
     "output_type": "stream",
     "text": [
      "C:\\Users\\jiten\\anaconda3\\lib\\site-packages\\seaborn\\distributions.py:2619: FutureWarning: `distplot` is a deprecated function and will be removed in a future version. Please adapt your code to use either `displot` (a figure-level function with similar flexibility) or `histplot` (an axes-level function for histograms).\n",
      "  warnings.warn(msg, FutureWarning)\n"
     ]
    },
    {
     "data": {
      "image/png": "[encoded data removed]",
      "text/plain": [
       "<Figure size 432x288 with 1 Axes>"
      ]
     },
     "metadata": {
      "needs_background": "light"
     },
     "output_type": "display_data"
    }
   ],
   "source": [
    "weight_boxcox_value = 0\n",
    "\n",
    "apply_boxcox_transformation('weight', weight_boxcox_value)"
   ]
  },
  {
   "cell_type": "code",
   "execution_count": 109,
   "id": "a3ec7051",
   "metadata": {},
   "outputs": [
    {
     "data": {
      "text/html": [
       "<div>\n",
       "<style scoped>\n",
       "    .dataframe tbody tr th:only-of-type {\n",
       "        vertical-align: middle;\n",
       "    }\n",
       "\n",
       "    .dataframe tbody tr th {\n",
       "        vertical-align: top;\n",
       "    }\n",
       "\n",
       "    .dataframe thead th {\n",
       "        text-align: right;\n",
       "    }\n",
       "</style>\n",
       "<table border=\"1\" class=\"dataframe\">\n",
       "  <thead>\n",
       "    <tr style=\"text-align: right;\">\n",
       "      <th></th>\n",
       "      <th>mpg</th>\n",
       "      <th>cylinders</th>\n",
       "      <th>displacement</th>\n",
       "      <th>horsepower</th>\n",
       "      <th>weight</th>\n",
       "      <th>acceleration</th>\n",
       "      <th>model year</th>\n",
       "      <th>origin</th>\n",
       "      <th>car name</th>\n",
       "      <th>Transformed_mpg</th>\n",
       "      <th>isCylindersEven</th>\n",
       "      <th>Transformed_displacement</th>\n",
       "      <th>Imputed_horsepower</th>\n",
       "      <th>Transformed_weight</th>\n",
       "    </tr>\n",
       "  </thead>\n",
       "  <tbody>\n",
       "    <tr>\n",
       "      <th>0</th>\n",
       "      <td>18.0</td>\n",
       "      <td>8</td>\n",
       "      <td>307.0</td>\n",
       "      <td>130.0</td>\n",
       "      <td>3504</td>\n",
       "      <td>12.0</td>\n",
       "      <td>70</td>\n",
       "      <td>1</td>\n",
       "      <td>chevrolet chevelle malibu</td>\n",
       "      <td>4.239069</td>\n",
       "      <td>1</td>\n",
       "      <td>2.735284</td>\n",
       "      <td>130.0</td>\n",
       "      <td>8.161660</td>\n",
       "    </tr>\n",
       "    <tr>\n",
       "      <th>1</th>\n",
       "      <td>15.0</td>\n",
       "      <td>8</td>\n",
       "      <td>350.0</td>\n",
       "      <td>165.0</td>\n",
       "      <td>3693</td>\n",
       "      <td>11.5</td>\n",
       "      <td>70</td>\n",
       "      <td>1</td>\n",
       "      <td>buick skylark 320</td>\n",
       "      <td>3.871959</td>\n",
       "      <td>1</td>\n",
       "      <td>2.758346</td>\n",
       "      <td>165.0</td>\n",
       "      <td>8.214194</td>\n",
       "    </tr>\n",
       "    <tr>\n",
       "      <th>2</th>\n",
       "      <td>18.0</td>\n",
       "      <td>8</td>\n",
       "      <td>318.0</td>\n",
       "      <td>150.0</td>\n",
       "      <td>3436</td>\n",
       "      <td>11.0</td>\n",
       "      <td>70</td>\n",
       "      <td>1</td>\n",
       "      <td>plymouth satellite</td>\n",
       "      <td>4.239069</td>\n",
       "      <td>1</td>\n",
       "      <td>2.741567</td>\n",
       "      <td>150.0</td>\n",
       "      <td>8.142063</td>\n",
       "    </tr>\n",
       "    <tr>\n",
       "      <th>3</th>\n",
       "      <td>16.0</td>\n",
       "      <td>8</td>\n",
       "      <td>304.0</td>\n",
       "      <td>150.0</td>\n",
       "      <td>3433</td>\n",
       "      <td>12.0</td>\n",
       "      <td>70</td>\n",
       "      <td>1</td>\n",
       "      <td>amc rebel sst</td>\n",
       "      <td>4.000000</td>\n",
       "      <td>1</td>\n",
       "      <td>2.733519</td>\n",
       "      <td>150.0</td>\n",
       "      <td>8.141190</td>\n",
       "    </tr>\n",
       "    <tr>\n",
       "      <th>4</th>\n",
       "      <td>17.0</td>\n",
       "      <td>8</td>\n",
       "      <td>302.0</td>\n",
       "      <td>140.0</td>\n",
       "      <td>3449</td>\n",
       "      <td>10.5</td>\n",
       "      <td>70</td>\n",
       "      <td>1</td>\n",
       "      <td>ford torino</td>\n",
       "      <td>4.122173</td>\n",
       "      <td>1</td>\n",
       "      <td>2.732330</td>\n",
       "      <td>140.0</td>\n",
       "      <td>8.145840</td>\n",
       "    </tr>\n",
       "  </tbody>\n",
       "</table>\n",
       "</div>"
      ],
      "text/plain": [
       "    mpg  cylinders  displacement  horsepower  weight  acceleration  \\\n",
       "0  18.0          8         307.0       130.0    3504          12.0   \n",
       "1  15.0          8         350.0       165.0    3693          11.5   \n",
       "2  18.0          8         318.0       150.0    3436          11.0   \n",
       "3  16.0          8         304.0       150.0    3433          12.0   \n",
       "4  17.0          8         302.0       140.0    3449          10.5   \n",
       "\n",
       "   model year  origin                   car name  Transformed_mpg  \\\n",
       "0          70       1  chevrolet chevelle malibu         4.239069   \n",
       "1          70       1          buick skylark 320         3.871959   \n",
       "2          70       1         plymouth satellite         4.239069   \n",
       "3          70       1              amc rebel sst         4.000000   \n",
       "4          70       1                ford torino         4.122173   \n",
       "\n",
       "   isCylindersEven  Transformed_displacement  Imputed_horsepower  \\\n",
       "0                1                  2.735284               130.0   \n",
       "1                1                  2.758346               165.0   \n",
       "2                1                  2.741567               150.0   \n",
       "3                1                  2.733519               150.0   \n",
       "4                1                  2.732330               140.0   \n",
       "\n",
       "   Transformed_weight  \n",
       "0            8.161660  \n",
       "1            8.214194  \n",
       "2            8.142063  \n",
       "3            8.141190  \n",
       "4            8.145840  "
      ]
     },
     "execution_count": 109,
     "metadata": {},
     "output_type": "execute_result"
    }
   ],
   "source": [
    "dataset['Transformed_weight'] = boxcox(dataset['weight'], weight_boxcox_value)\n",
    "\n",
    "dataset.head()"
   ]
  },
  {
   "cell_type": "code",
   "execution_count": 110,
   "id": "2a59fc2a",
   "metadata": {},
   "outputs": [
    {
     "data": {
      "text/plain": [
       "<AxesSubplot:xlabel='Transformed_weight', ylabel='mpg'>"
      ]
     },
     "execution_count": 110,
     "metadata": {},
     "output_type": "execute_result"
    },
    {
     "data": {
      "image/png": "[encoded data removed]",
      "text/plain": [
       "<Figure size 432x288 with 1 Axes>"
      ]
     },
     "metadata": {
      "needs_background": "light"
     },
     "output_type": "display_data"
    }
   ],
   "source": [
    "sns.scatterplot(x='Transformed_weight', y='mpg', data=dataset)"
   ]
  },
  {
   "cell_type": "code",
   "execution_count": 111,
   "id": "35fa4474",
   "metadata": {},
   "outputs": [
    {
     "data": {
      "text/plain": [
       "<AxesSubplot:xlabel='Transformed_weight', ylabel='Transformed_mpg'>"
      ]
     },
     "execution_count": 111,
     "metadata": {},
     "output_type": "execute_result"
    },
    {
     "data": {
      "image/png": "[encoded data removed]",
      "text/plain": [
       "<Figure size 432x288 with 1 Axes>"
      ]
     },
     "metadata": {
      "needs_background": "light"
     },
     "output_type": "display_data"
    }
   ],
   "source": [
    "sns.scatterplot(x='Transformed_weight', y='Transformed_mpg', data=dataset)"
   ]
  },
  {
   "cell_type": "markdown",
   "id": "fb3a8b33",
   "metadata": {},
   "source": [
    "### After feature scaling also weight is haveing inverse relation with mpg"
   ]
  },
  {
   "cell_type": "code",
   "execution_count": 112,
   "id": "f9dbfc8b",
   "metadata": {},
   "outputs": [
    {
     "data": {
      "text/html": [
       "<div>\n",
       "<style scoped>\n",
       "    .dataframe tbody tr th:only-of-type {\n",
       "        vertical-align: middle;\n",
       "    }\n",
       "\n",
       "    .dataframe tbody tr th {\n",
       "        vertical-align: top;\n",
       "    }\n",
       "\n",
       "    .dataframe thead th {\n",
       "        text-align: right;\n",
       "    }\n",
       "</style>\n",
       "<table border=\"1\" class=\"dataframe\">\n",
       "  <thead>\n",
       "    <tr style=\"text-align: right;\">\n",
       "      <th></th>\n",
       "      <th>mpg</th>\n",
       "      <th>cylinders</th>\n",
       "      <th>displacement</th>\n",
       "      <th>horsepower</th>\n",
       "      <th>weight</th>\n",
       "      <th>acceleration</th>\n",
       "      <th>model year</th>\n",
       "      <th>origin</th>\n",
       "      <th>car name</th>\n",
       "      <th>Transformed_mpg</th>\n",
       "      <th>isCylindersEven</th>\n",
       "      <th>Transformed_displacement</th>\n",
       "      <th>Imputed_horsepower</th>\n",
       "      <th>Transformed_weight</th>\n",
       "    </tr>\n",
       "  </thead>\n",
       "  <tbody>\n",
       "    <tr>\n",
       "      <th>0</th>\n",
       "      <td>18.0</td>\n",
       "      <td>8</td>\n",
       "      <td>307.0</td>\n",
       "      <td>130.0</td>\n",
       "      <td>3504</td>\n",
       "      <td>12.0</td>\n",
       "      <td>70</td>\n",
       "      <td>1</td>\n",
       "      <td>chevrolet chevelle malibu</td>\n",
       "      <td>4.239069</td>\n",
       "      <td>1</td>\n",
       "      <td>2.735284</td>\n",
       "      <td>130.0</td>\n",
       "      <td>8.161660</td>\n",
       "    </tr>\n",
       "    <tr>\n",
       "      <th>1</th>\n",
       "      <td>15.0</td>\n",
       "      <td>8</td>\n",
       "      <td>350.0</td>\n",
       "      <td>165.0</td>\n",
       "      <td>3693</td>\n",
       "      <td>11.5</td>\n",
       "      <td>70</td>\n",
       "      <td>1</td>\n",
       "      <td>buick skylark 320</td>\n",
       "      <td>3.871959</td>\n",
       "      <td>1</td>\n",
       "      <td>2.758346</td>\n",
       "      <td>165.0</td>\n",
       "      <td>8.214194</td>\n",
       "    </tr>\n",
       "    <tr>\n",
       "      <th>2</th>\n",
       "      <td>18.0</td>\n",
       "      <td>8</td>\n",
       "      <td>318.0</td>\n",
       "      <td>150.0</td>\n",
       "      <td>3436</td>\n",
       "      <td>11.0</td>\n",
       "      <td>70</td>\n",
       "      <td>1</td>\n",
       "      <td>plymouth satellite</td>\n",
       "      <td>4.239069</td>\n",
       "      <td>1</td>\n",
       "      <td>2.741567</td>\n",
       "      <td>150.0</td>\n",
       "      <td>8.142063</td>\n",
       "    </tr>\n",
       "    <tr>\n",
       "      <th>3</th>\n",
       "      <td>16.0</td>\n",
       "      <td>8</td>\n",
       "      <td>304.0</td>\n",
       "      <td>150.0</td>\n",
       "      <td>3433</td>\n",
       "      <td>12.0</td>\n",
       "      <td>70</td>\n",
       "      <td>1</td>\n",
       "      <td>amc rebel sst</td>\n",
       "      <td>4.000000</td>\n",
       "      <td>1</td>\n",
       "      <td>2.733519</td>\n",
       "      <td>150.0</td>\n",
       "      <td>8.141190</td>\n",
       "    </tr>\n",
       "    <tr>\n",
       "      <th>4</th>\n",
       "      <td>17.0</td>\n",
       "      <td>8</td>\n",
       "      <td>302.0</td>\n",
       "      <td>140.0</td>\n",
       "      <td>3449</td>\n",
       "      <td>10.5</td>\n",
       "      <td>70</td>\n",
       "      <td>1</td>\n",
       "      <td>ford torino</td>\n",
       "      <td>4.122173</td>\n",
       "      <td>1</td>\n",
       "      <td>2.732330</td>\n",
       "      <td>140.0</td>\n",
       "      <td>8.145840</td>\n",
       "    </tr>\n",
       "  </tbody>\n",
       "</table>\n",
       "</div>"
      ],
      "text/plain": [
       "    mpg  cylinders  displacement  horsepower  weight  acceleration  \\\n",
       "0  18.0          8         307.0       130.0    3504          12.0   \n",
       "1  15.0          8         350.0       165.0    3693          11.5   \n",
       "2  18.0          8         318.0       150.0    3436          11.0   \n",
       "3  16.0          8         304.0       150.0    3433          12.0   \n",
       "4  17.0          8         302.0       140.0    3449          10.5   \n",
       "\n",
       "   model year  origin                   car name  Transformed_mpg  \\\n",
       "0          70       1  chevrolet chevelle malibu         4.239069   \n",
       "1          70       1          buick skylark 320         3.871959   \n",
       "2          70       1         plymouth satellite         4.239069   \n",
       "3          70       1              amc rebel sst         4.000000   \n",
       "4          70       1                ford torino         4.122173   \n",
       "\n",
       "   isCylindersEven  Transformed_displacement  Imputed_horsepower  \\\n",
       "0                1                  2.735284               130.0   \n",
       "1                1                  2.758346               165.0   \n",
       "2                1                  2.741567               150.0   \n",
       "3                1                  2.733519               150.0   \n",
       "4                1                  2.732330               140.0   \n",
       "\n",
       "   Transformed_weight  \n",
       "0            8.161660  \n",
       "1            8.214194  \n",
       "2            8.142063  \n",
       "3            8.141190  \n",
       "4            8.145840  "
      ]
     },
     "execution_count": 112,
     "metadata": {},
     "output_type": "execute_result"
    }
   ],
   "source": [
    "dataset.head()"
   ]
  },
  {
   "cell_type": "markdown",
   "id": "027747f8",
   "metadata": {},
   "source": [
    "### acceleration"
   ]
  },
  {
   "cell_type": "code",
   "execution_count": 113,
   "id": "81c9c653",
   "metadata": {},
   "outputs": [
    {
     "name": "stdout",
     "output_type": "stream",
     "text": [
      "Before Boxcox Transformation ==>  0.27877684462588986\n"
     ]
    },
    {
     "name": "stderr",
     "output_type": "stream",
     "text": [
      "C:\\Users\\jiten\\anaconda3\\lib\\site-packages\\seaborn\\distributions.py:2619: FutureWarning: `distplot` is a deprecated function and will be removed in a future version. Please adapt your code to use either `displot` (a figure-level function with similar flexibility) or `histplot` (an axes-level function for histograms).\n",
      "  warnings.warn(msg, FutureWarning)\n"
     ]
    },
    {
     "data": {
      "image/png": "[encoded data removed]",
      "text/plain": [
       "<Figure size 432x288 with 1 Axes>"
      ]
     },
     "metadata": {
      "needs_background": "light"
     },
     "output_type": "display_data"
    }
   ],
   "source": [
    "check_distribution('acceleration')"
   ]
  },
  {
   "cell_type": "code",
   "execution_count": 114,
   "id": "71d4d806",
   "metadata": {},
   "outputs": [
    {
     "data": {
      "text/plain": [
       "<AxesSubplot:xlabel='acceleration', ylabel='mpg'>"
      ]
     },
     "execution_count": 114,
     "metadata": {},
     "output_type": "execute_result"
    },
    {
     "data": {
      "image/png": "[encoded data removed]",
      "text/plain": [
       "<Figure size 432x288 with 1 Axes>"
      ]
     },
     "metadata": {
      "needs_background": "light"
     },
     "output_type": "display_data"
    }
   ],
   "source": [
    "sns.scatterplot(x='acceleration', y='mpg', data=dataset)"
   ]
  },
  {
   "cell_type": "code",
   "execution_count": 115,
   "id": "070ec551",
   "metadata": {},
   "outputs": [
    {
     "data": {
      "text/plain": [
       "<AxesSubplot:xlabel='acceleration', ylabel='Transformed_mpg'>"
      ]
     },
     "execution_count": 115,
     "metadata": {},
     "output_type": "execute_result"
    },
    {
     "data": {
      "image/png": "[encoded data removed]",
      "text/plain": [
       "<Figure size 432x288 with 1 Axes>"
      ]
     },
     "metadata": {
      "needs_background": "light"
     },
     "output_type": "display_data"
    }
   ],
   "source": [
    "sns.scatterplot(x='acceleration', y='Transformed_mpg', data=dataset)"
   ]
  },
  {
   "cell_type": "code",
   "execution_count": 116,
   "id": "5a4bd967",
   "metadata": {},
   "outputs": [
    {
     "name": "stdout",
     "output_type": "stream",
     "text": [
      "Before Boxcox Transformation ==>  0.27877684462588986\n"
     ]
    },
    {
     "name": "stderr",
     "output_type": "stream",
     "text": [
      "C:\\Users\\jiten\\anaconda3\\lib\\site-packages\\seaborn\\distributions.py:2619: FutureWarning: `distplot` is a deprecated function and will be removed in a future version. Please adapt your code to use either `displot` (a figure-level function with similar flexibility) or `histplot` (an axes-level function for histograms).\n",
      "  warnings.warn(msg, FutureWarning)\n"
     ]
    },
    {
     "data": {
      "image/png": "[encoded data removed]",
      "text/plain": [
       "<Figure size 432x288 with 1 Axes>"
      ]
     },
     "metadata": {
      "needs_background": "light"
     },
     "output_type": "display_data"
    },
    {
     "name": "stdout",
     "output_type": "stream",
     "text": [
      "After Boxcox Transformation ==>  -0.09678231195492427\n"
     ]
    },
    {
     "name": "stderr",
     "output_type": "stream",
     "text": [
      "C:\\Users\\jiten\\anaconda3\\lib\\site-packages\\seaborn\\distributions.py:2619: FutureWarning: `distplot` is a deprecated function and will be removed in a future version. Please adapt your code to use either `displot` (a figure-level function with similar flexibility) or `histplot` (an axes-level function for histograms).\n",
      "  warnings.warn(msg, FutureWarning)\n"
     ]
    },
    {
     "data": {
      "image/png": "[encoded data removed]",
      "text/plain": [
       "<Figure size 432x288 with 1 Axes>"
      ]
     },
     "metadata": {
      "needs_background": "light"
     },
     "output_type": "display_data"
    }
   ],
   "source": [
    "acceleration_boxcox_value = 0.4\n",
    "\n",
    "apply_boxcox_transformation('acceleration', acceleration_boxcox_value)"
   ]
  },
  {
   "cell_type": "code",
   "execution_count": 117,
   "id": "c511b55e",
   "metadata": {},
   "outputs": [
    {
     "data": {
      "text/html": [
       "<div>\n",
       "<style scoped>\n",
       "    .dataframe tbody tr th:only-of-type {\n",
       "        vertical-align: middle;\n",
       "    }\n",
       "\n",
       "    .dataframe tbody tr th {\n",
       "        vertical-align: top;\n",
       "    }\n",
       "\n",
       "    .dataframe thead th {\n",
       "        text-align: right;\n",
       "    }\n",
       "</style>\n",
       "<table border=\"1\" class=\"dataframe\">\n",
       "  <thead>\n",
       "    <tr style=\"text-align: right;\">\n",
       "      <th></th>\n",
       "      <th>mpg</th>\n",
       "      <th>cylinders</th>\n",
       "      <th>displacement</th>\n",
       "      <th>horsepower</th>\n",
       "      <th>weight</th>\n",
       "      <th>acceleration</th>\n",
       "      <th>model year</th>\n",
       "      <th>origin</th>\n",
       "      <th>car name</th>\n",
       "      <th>Transformed_mpg</th>\n",
       "      <th>isCylindersEven</th>\n",
       "      <th>Transformed_displacement</th>\n",
       "      <th>Imputed_horsepower</th>\n",
       "      <th>Transformed_weight</th>\n",
       "      <th>Transformed_acceleration</th>\n",
       "    </tr>\n",
       "  </thead>\n",
       "  <tbody>\n",
       "    <tr>\n",
       "      <th>0</th>\n",
       "      <td>18.0</td>\n",
       "      <td>8</td>\n",
       "      <td>307.0</td>\n",
       "      <td>130.0</td>\n",
       "      <td>3504</td>\n",
       "      <td>12.0</td>\n",
       "      <td>70</td>\n",
       "      <td>1</td>\n",
       "      <td>chevrolet chevelle malibu</td>\n",
       "      <td>4.239069</td>\n",
       "      <td>1</td>\n",
       "      <td>2.735284</td>\n",
       "      <td>130.0</td>\n",
       "      <td>8.161660</td>\n",
       "      <td>4.254800</td>\n",
       "    </tr>\n",
       "    <tr>\n",
       "      <th>1</th>\n",
       "      <td>15.0</td>\n",
       "      <td>8</td>\n",
       "      <td>350.0</td>\n",
       "      <td>165.0</td>\n",
       "      <td>3693</td>\n",
       "      <td>11.5</td>\n",
       "      <td>70</td>\n",
       "      <td>1</td>\n",
       "      <td>buick skylark 320</td>\n",
       "      <td>3.871959</td>\n",
       "      <td>1</td>\n",
       "      <td>2.758346</td>\n",
       "      <td>165.0</td>\n",
       "      <td>8.214194</td>\n",
       "      <td>4.140781</td>\n",
       "    </tr>\n",
       "    <tr>\n",
       "      <th>2</th>\n",
       "      <td>18.0</td>\n",
       "      <td>8</td>\n",
       "      <td>318.0</td>\n",
       "      <td>150.0</td>\n",
       "      <td>3436</td>\n",
       "      <td>11.0</td>\n",
       "      <td>70</td>\n",
       "      <td>1</td>\n",
       "      <td>plymouth satellite</td>\n",
       "      <td>4.239069</td>\n",
       "      <td>1</td>\n",
       "      <td>2.741567</td>\n",
       "      <td>150.0</td>\n",
       "      <td>8.142063</td>\n",
       "      <td>4.023747</td>\n",
       "    </tr>\n",
       "    <tr>\n",
       "      <th>3</th>\n",
       "      <td>16.0</td>\n",
       "      <td>8</td>\n",
       "      <td>304.0</td>\n",
       "      <td>150.0</td>\n",
       "      <td>3433</td>\n",
       "      <td>12.0</td>\n",
       "      <td>70</td>\n",
       "      <td>1</td>\n",
       "      <td>amc rebel sst</td>\n",
       "      <td>4.000000</td>\n",
       "      <td>1</td>\n",
       "      <td>2.733519</td>\n",
       "      <td>150.0</td>\n",
       "      <td>8.141190</td>\n",
       "      <td>4.254800</td>\n",
       "    </tr>\n",
       "    <tr>\n",
       "      <th>4</th>\n",
       "      <td>17.0</td>\n",
       "      <td>8</td>\n",
       "      <td>302.0</td>\n",
       "      <td>140.0</td>\n",
       "      <td>3449</td>\n",
       "      <td>10.5</td>\n",
       "      <td>70</td>\n",
       "      <td>1</td>\n",
       "      <td>ford torino</td>\n",
       "      <td>4.122173</td>\n",
       "      <td>1</td>\n",
       "      <td>2.732330</td>\n",
       "      <td>140.0</td>\n",
       "      <td>8.145840</td>\n",
       "      <td>3.903475</td>\n",
       "    </tr>\n",
       "  </tbody>\n",
       "</table>\n",
       "</div>"
      ],
      "text/plain": [
       "    mpg  cylinders  displacement  horsepower  weight  acceleration  \\\n",
       "0  18.0          8         307.0       130.0    3504          12.0   \n",
       "1  15.0          8         350.0       165.0    3693          11.5   \n",
       "2  18.0          8         318.0       150.0    3436          11.0   \n",
       "3  16.0          8         304.0       150.0    3433          12.0   \n",
       "4  17.0          8         302.0       140.0    3449          10.5   \n",
       "\n",
       "   model year  origin                   car name  Transformed_mpg  \\\n",
       "0          70       1  chevrolet chevelle malibu         4.239069   \n",
       "1          70       1          buick skylark 320         3.871959   \n",
       "2          70       1         plymouth satellite         4.239069   \n",
       "3          70       1              amc rebel sst         4.000000   \n",
       "4          70       1                ford torino         4.122173   \n",
       "\n",
       "   isCylindersEven  Transformed_displacement  Imputed_horsepower  \\\n",
       "0                1                  2.735284               130.0   \n",
       "1                1                  2.758346               165.0   \n",
       "2                1                  2.741567               150.0   \n",
       "3                1                  2.733519               150.0   \n",
       "4                1                  2.732330               140.0   \n",
       "\n",
       "   Transformed_weight  Transformed_acceleration  \n",
       "0            8.161660                  4.254800  \n",
       "1            8.214194                  4.140781  \n",
       "2            8.142063                  4.023747  \n",
       "3            8.141190                  4.254800  \n",
       "4            8.145840                  3.903475  "
      ]
     },
     "execution_count": 117,
     "metadata": {},
     "output_type": "execute_result"
    }
   ],
   "source": [
    "dataset['Transformed_acceleration'] = boxcox(dataset['acceleration'], acceleration_boxcox_value)\n",
    "\n",
    "dataset.head()"
   ]
  },
  {
   "cell_type": "markdown",
   "id": "19be232b",
   "metadata": {},
   "source": [
    "### year Feature"
   ]
  },
  {
   "cell_type": "code",
   "execution_count": 118,
   "id": "6d74b6fc",
   "metadata": {},
   "outputs": [
    {
     "data": {
      "text/plain": [
       "<AxesSubplot:xlabel='model year', ylabel='count'>"
      ]
     },
     "execution_count": 118,
     "metadata": {},
     "output_type": "execute_result"
    },
    {
     "data": {
      "image/png": "[encoded data removed]",
      "text/plain": [
       "<Figure size 432x288 with 1 Axes>"
      ]
     },
     "metadata": {
      "needs_background": "light"
     },
     "output_type": "display_data"
    }
   ],
   "source": [
    "sns.countplot(x='model year', data=dataset)"
   ]
  },
  {
   "cell_type": "markdown",
   "id": "00fc0dce",
   "metadata": {},
   "source": [
    "### Group the Dataset with model year feature "
   ]
  },
  {
   "cell_type": "code",
   "execution_count": 119,
   "id": "0141937b",
   "metadata": {},
   "outputs": [
    {
     "data": {
      "text/html": [
       "<div>\n",
       "<style scoped>\n",
       "    .dataframe tbody tr th:only-of-type {\n",
       "        vertical-align: middle;\n",
       "    }\n",
       "\n",
       "    .dataframe tbody tr th {\n",
       "        vertical-align: top;\n",
       "    }\n",
       "\n",
       "    .dataframe thead th {\n",
       "        text-align: right;\n",
       "    }\n",
       "</style>\n",
       "<table border=\"1\" class=\"dataframe\">\n",
       "  <thead>\n",
       "    <tr style=\"text-align: right;\">\n",
       "      <th></th>\n",
       "      <th>mpg</th>\n",
       "      <th>cylinders</th>\n",
       "      <th>displacement</th>\n",
       "      <th>horsepower</th>\n",
       "      <th>weight</th>\n",
       "      <th>acceleration</th>\n",
       "      <th>origin</th>\n",
       "      <th>Transformed_mpg</th>\n",
       "      <th>isCylindersEven</th>\n",
       "      <th>Transformed_displacement</th>\n",
       "      <th>Imputed_horsepower</th>\n",
       "      <th>Transformed_weight</th>\n",
       "      <th>Transformed_acceleration</th>\n",
       "    </tr>\n",
       "    <tr>\n",
       "      <th>model year</th>\n",
       "      <th></th>\n",
       "      <th></th>\n",
       "      <th></th>\n",
       "      <th></th>\n",
       "      <th></th>\n",
       "      <th></th>\n",
       "      <th></th>\n",
       "      <th></th>\n",
       "      <th></th>\n",
       "      <th></th>\n",
       "      <th></th>\n",
       "      <th></th>\n",
       "      <th></th>\n",
       "    </tr>\n",
       "  </thead>\n",
       "  <tbody>\n",
       "    <tr>\n",
       "      <th>70</th>\n",
       "      <td>16.00</td>\n",
       "      <td>8.0</td>\n",
       "      <td>307.0</td>\n",
       "      <td>150.0</td>\n",
       "      <td>3449.0</td>\n",
       "      <td>12.50</td>\n",
       "      <td>1.0</td>\n",
       "      <td>4.000000</td>\n",
       "      <td>1.0</td>\n",
       "      <td>2.735284</td>\n",
       "      <td>150.00</td>\n",
       "      <td>8.145840</td>\n",
       "      <td>4.366003</td>\n",
       "    </tr>\n",
       "    <tr>\n",
       "      <th>71</th>\n",
       "      <td>19.00</td>\n",
       "      <td>6.0</td>\n",
       "      <td>228.5</td>\n",
       "      <td>95.0</td>\n",
       "      <td>2798.0</td>\n",
       "      <td>14.50</td>\n",
       "      <td>1.0</td>\n",
       "      <td>4.351191</td>\n",
       "      <td>1.0</td>\n",
       "      <td>2.679853</td>\n",
       "      <td>94.25</td>\n",
       "      <td>7.934939</td>\n",
       "      <td>4.785967</td>\n",
       "    </tr>\n",
       "    <tr>\n",
       "      <th>72</th>\n",
       "      <td>18.50</td>\n",
       "      <td>4.0</td>\n",
       "      <td>131.0</td>\n",
       "      <td>104.5</td>\n",
       "      <td>2956.0</td>\n",
       "      <td>14.50</td>\n",
       "      <td>1.0</td>\n",
       "      <td>4.295130</td>\n",
       "      <td>1.0</td>\n",
       "      <td>2.560478</td>\n",
       "      <td>104.50</td>\n",
       "      <td>7.991562</td>\n",
       "      <td>4.785967</td>\n",
       "    </tr>\n",
       "    <tr>\n",
       "      <th>73</th>\n",
       "      <td>16.00</td>\n",
       "      <td>7.0</td>\n",
       "      <td>276.0</td>\n",
       "      <td>129.5</td>\n",
       "      <td>3338.5</td>\n",
       "      <td>14.00</td>\n",
       "      <td>1.0</td>\n",
       "      <td>4.000000</td>\n",
       "      <td>1.0</td>\n",
       "      <td>2.714803</td>\n",
       "      <td>129.50</td>\n",
       "      <td>8.113113</td>\n",
       "      <td>4.684412</td>\n",
       "    </tr>\n",
       "    <tr>\n",
       "      <th>74</th>\n",
       "      <td>24.00</td>\n",
       "      <td>4.0</td>\n",
       "      <td>122.0</td>\n",
       "      <td>88.0</td>\n",
       "      <td>2489.0</td>\n",
       "      <td>16.00</td>\n",
       "      <td>1.0</td>\n",
       "      <td>4.853455</td>\n",
       "      <td>1.0</td>\n",
       "      <td>2.544526</td>\n",
       "      <td>93.00</td>\n",
       "      <td>7.819636</td>\n",
       "      <td>5.078583</td>\n",
       "    </tr>\n",
       "    <tr>\n",
       "      <th>75</th>\n",
       "      <td>19.50</td>\n",
       "      <td>6.0</td>\n",
       "      <td>228.0</td>\n",
       "      <td>97.0</td>\n",
       "      <td>3098.5</td>\n",
       "      <td>16.00</td>\n",
       "      <td>1.0</td>\n",
       "      <td>4.405080</td>\n",
       "      <td>1.0</td>\n",
       "      <td>2.679431</td>\n",
       "      <td>97.00</td>\n",
       "      <td>8.038489</td>\n",
       "      <td>5.078583</td>\n",
       "    </tr>\n",
       "    <tr>\n",
       "      <th>76</th>\n",
       "      <td>21.00</td>\n",
       "      <td>6.0</td>\n",
       "      <td>184.0</td>\n",
       "      <td>93.5</td>\n",
       "      <td>3171.5</td>\n",
       "      <td>15.50</td>\n",
       "      <td>1.0</td>\n",
       "      <td>4.560959</td>\n",
       "      <td>1.0</td>\n",
       "      <td>2.634978</td>\n",
       "      <td>93.50</td>\n",
       "      <td>8.061937</td>\n",
       "      <td>4.982947</td>\n",
       "    </tr>\n",
       "    <tr>\n",
       "      <th>77</th>\n",
       "      <td>21.75</td>\n",
       "      <td>4.0</td>\n",
       "      <td>143.0</td>\n",
       "      <td>97.5</td>\n",
       "      <td>2747.5</td>\n",
       "      <td>15.65</td>\n",
       "      <td>1.0</td>\n",
       "      <td>4.638124</td>\n",
       "      <td>1.0</td>\n",
       "      <td>2.581165</td>\n",
       "      <td>97.50</td>\n",
       "      <td>7.918443</td>\n",
       "      <td>5.011747</td>\n",
       "    </tr>\n",
       "    <tr>\n",
       "      <th>78</th>\n",
       "      <td>20.70</td>\n",
       "      <td>5.5</td>\n",
       "      <td>159.5</td>\n",
       "      <td>97.0</td>\n",
       "      <td>2910.0</td>\n",
       "      <td>15.75</td>\n",
       "      <td>1.0</td>\n",
       "      <td>4.532015</td>\n",
       "      <td>1.0</td>\n",
       "      <td>2.605400</td>\n",
       "      <td>97.00</td>\n",
       "      <td>7.975730</td>\n",
       "      <td>5.030984</td>\n",
       "    </tr>\n",
       "    <tr>\n",
       "      <th>79</th>\n",
       "      <td>23.90</td>\n",
       "      <td>6.0</td>\n",
       "      <td>183.0</td>\n",
       "      <td>90.0</td>\n",
       "      <td>3190.0</td>\n",
       "      <td>15.00</td>\n",
       "      <td>1.0</td>\n",
       "      <td>4.844219</td>\n",
       "      <td>1.0</td>\n",
       "      <td>2.634870</td>\n",
       "      <td>90.00</td>\n",
       "      <td>8.067776</td>\n",
       "      <td>4.885442</td>\n",
       "    </tr>\n",
       "    <tr>\n",
       "      <th>80</th>\n",
       "      <td>32.70</td>\n",
       "      <td>4.0</td>\n",
       "      <td>107.0</td>\n",
       "      <td>75.0</td>\n",
       "      <td>2335.0</td>\n",
       "      <td>16.50</td>\n",
       "      <td>2.0</td>\n",
       "      <td>5.565263</td>\n",
       "      <td>1.0</td>\n",
       "      <td>2.512862</td>\n",
       "      <td>75.00</td>\n",
       "      <td>7.755767</td>\n",
       "      <td>5.172442</td>\n",
       "    </tr>\n",
       "    <tr>\n",
       "      <th>81</th>\n",
       "      <td>31.60</td>\n",
       "      <td>4.0</td>\n",
       "      <td>119.0</td>\n",
       "      <td>75.5</td>\n",
       "      <td>2385.0</td>\n",
       "      <td>16.20</td>\n",
       "      <td>2.0</td>\n",
       "      <td>5.483786</td>\n",
       "      <td>1.0</td>\n",
       "      <td>2.538612</td>\n",
       "      <td>76.00</td>\n",
       "      <td>7.776954</td>\n",
       "      <td>5.116335</td>\n",
       "    </tr>\n",
       "    <tr>\n",
       "      <th>82</th>\n",
       "      <td>32.00</td>\n",
       "      <td>4.0</td>\n",
       "      <td>119.0</td>\n",
       "      <td>84.0</td>\n",
       "      <td>2525.0</td>\n",
       "      <td>16.40</td>\n",
       "      <td>1.0</td>\n",
       "      <td>5.513657</td>\n",
       "      <td>1.0</td>\n",
       "      <td>2.538612</td>\n",
       "      <td>84.00</td>\n",
       "      <td>7.833996</td>\n",
       "      <td>5.153808</td>\n",
       "    </tr>\n",
       "  </tbody>\n",
       "</table>\n",
       "</div>"
      ],
      "text/plain": [
       "              mpg  cylinders  displacement  horsepower  weight  acceleration  \\\n",
       "model year                                                                     \n",
       "70          16.00        8.0         307.0       150.0  3449.0         12.50   \n",
       "71          19.00        6.0         228.5        95.0  2798.0         14.50   \n",
       "72          18.50        4.0         131.0       104.5  2956.0         14.50   \n",
       "73          16.00        7.0         276.0       129.5  3338.5         14.00   \n",
       "74          24.00        4.0         122.0        88.0  2489.0         16.00   \n",
       "75          19.50        6.0         228.0        97.0  3098.5         16.00   \n",
       "76          21.00        6.0         184.0        93.5  3171.5         15.50   \n",
       "77          21.75        4.0         143.0        97.5  2747.5         15.65   \n",
       "78          20.70        5.5         159.5        97.0  2910.0         15.75   \n",
       "79          23.90        6.0         183.0        90.0  3190.0         15.00   \n",
       "80          32.70        4.0         107.0        75.0  2335.0         16.50   \n",
       "81          31.60        4.0         119.0        75.5  2385.0         16.20   \n",
       "82          32.00        4.0         119.0        84.0  2525.0         16.40   \n",
       "\n",
       "            origin  Transformed_mpg  isCylindersEven  \\\n",
       "model year                                             \n",
       "70             1.0         4.000000              1.0   \n",
       "71             1.0         4.351191              1.0   \n",
       "72             1.0         4.295130              1.0   \n",
       "73             1.0         4.000000              1.0   \n",
       "74             1.0         4.853455              1.0   \n",
       "75             1.0         4.405080              1.0   \n",
       "76             1.0         4.560959              1.0   \n",
       "77             1.0         4.638124              1.0   \n",
       "78             1.0         4.532015              1.0   \n",
       "79             1.0         4.844219              1.0   \n",
       "80             2.0         5.565263              1.0   \n",
       "81             2.0         5.483786              1.0   \n",
       "82             1.0         5.513657              1.0   \n",
       "\n",
       "            Transformed_displacement  Imputed_horsepower  Transformed_weight  \\\n",
       "model year                                                                     \n",
       "70                          2.735284              150.00            8.145840   \n",
       "71                          2.679853               94.25            7.934939   \n",
       "72                          2.560478              104.50            7.991562   \n",
       "73                          2.714803              129.50            8.113113   \n",
       "74                          2.544526               93.00            7.819636   \n",
       "75                          2.679431               97.00            8.038489   \n",
       "76                          2.634978               93.50            8.061937   \n",
       "77                          2.581165               97.50            7.918443   \n",
       "78                          2.605400               97.00            7.975730   \n",
       "79                          2.634870               90.00            8.067776   \n",
       "80                          2.512862               75.00            7.755767   \n",
       "81                          2.538612               76.00            7.776954   \n",
       "82                          2.538612               84.00            7.833996   \n",
       "\n",
       "            Transformed_acceleration  \n",
       "model year                            \n",
       "70                          4.366003  \n",
       "71                          4.785967  \n",
       "72                          4.785967  \n",
       "73                          4.684412  \n",
       "74                          5.078583  \n",
       "75                          5.078583  \n",
       "76                          4.982947  \n",
       "77                          5.011747  \n",
       "78                          5.030984  \n",
       "79                          4.885442  \n",
       "80                          5.172442  \n",
       "81                          5.116335  \n",
       "82                          5.153808  "
      ]
     },
     "execution_count": 119,
     "metadata": {},
     "output_type": "execute_result"
    }
   ],
   "source": [
    "dataset.groupby('model year').median()"
   ]
  },
  {
   "cell_type": "code",
   "execution_count": 120,
   "id": "48fd1fd1",
   "metadata": {},
   "outputs": [
    {
     "data": {
      "text/html": [
       "<div>\n",
       "<style scoped>\n",
       "    .dataframe tbody tr th:only-of-type {\n",
       "        vertical-align: middle;\n",
       "    }\n",
       "\n",
       "    .dataframe tbody tr th {\n",
       "        vertical-align: top;\n",
       "    }\n",
       "\n",
       "    .dataframe thead th {\n",
       "        text-align: right;\n",
       "    }\n",
       "</style>\n",
       "<table border=\"1\" class=\"dataframe\">\n",
       "  <thead>\n",
       "    <tr style=\"text-align: right;\">\n",
       "      <th></th>\n",
       "      <th>mpg</th>\n",
       "      <th>cylinders</th>\n",
       "      <th>displacement</th>\n",
       "      <th>horsepower</th>\n",
       "      <th>weight</th>\n",
       "      <th>acceleration</th>\n",
       "      <th>model year</th>\n",
       "      <th>origin</th>\n",
       "      <th>car name</th>\n",
       "      <th>Transformed_mpg</th>\n",
       "      <th>isCylindersEven</th>\n",
       "      <th>Transformed_displacement</th>\n",
       "      <th>Imputed_horsepower</th>\n",
       "      <th>Transformed_weight</th>\n",
       "      <th>Transformed_acceleration</th>\n",
       "    </tr>\n",
       "  </thead>\n",
       "  <tbody>\n",
       "    <tr>\n",
       "      <th>0</th>\n",
       "      <td>18.0</td>\n",
       "      <td>8</td>\n",
       "      <td>307.0</td>\n",
       "      <td>130.0</td>\n",
       "      <td>3504</td>\n",
       "      <td>12.0</td>\n",
       "      <td>70</td>\n",
       "      <td>1</td>\n",
       "      <td>chevrolet chevelle malibu</td>\n",
       "      <td>4.239069</td>\n",
       "      <td>1</td>\n",
       "      <td>2.735284</td>\n",
       "      <td>130.0</td>\n",
       "      <td>8.161660</td>\n",
       "      <td>4.254800</td>\n",
       "    </tr>\n",
       "    <tr>\n",
       "      <th>1</th>\n",
       "      <td>15.0</td>\n",
       "      <td>8</td>\n",
       "      <td>350.0</td>\n",
       "      <td>165.0</td>\n",
       "      <td>3693</td>\n",
       "      <td>11.5</td>\n",
       "      <td>70</td>\n",
       "      <td>1</td>\n",
       "      <td>buick skylark 320</td>\n",
       "      <td>3.871959</td>\n",
       "      <td>1</td>\n",
       "      <td>2.758346</td>\n",
       "      <td>165.0</td>\n",
       "      <td>8.214194</td>\n",
       "      <td>4.140781</td>\n",
       "    </tr>\n",
       "    <tr>\n",
       "      <th>2</th>\n",
       "      <td>18.0</td>\n",
       "      <td>8</td>\n",
       "      <td>318.0</td>\n",
       "      <td>150.0</td>\n",
       "      <td>3436</td>\n",
       "      <td>11.0</td>\n",
       "      <td>70</td>\n",
       "      <td>1</td>\n",
       "      <td>plymouth satellite</td>\n",
       "      <td>4.239069</td>\n",
       "      <td>1</td>\n",
       "      <td>2.741567</td>\n",
       "      <td>150.0</td>\n",
       "      <td>8.142063</td>\n",
       "      <td>4.023747</td>\n",
       "    </tr>\n",
       "    <tr>\n",
       "      <th>3</th>\n",
       "      <td>16.0</td>\n",
       "      <td>8</td>\n",
       "      <td>304.0</td>\n",
       "      <td>150.0</td>\n",
       "      <td>3433</td>\n",
       "      <td>12.0</td>\n",
       "      <td>70</td>\n",
       "      <td>1</td>\n",
       "      <td>amc rebel sst</td>\n",
       "      <td>4.000000</td>\n",
       "      <td>1</td>\n",
       "      <td>2.733519</td>\n",
       "      <td>150.0</td>\n",
       "      <td>8.141190</td>\n",
       "      <td>4.254800</td>\n",
       "    </tr>\n",
       "    <tr>\n",
       "      <th>4</th>\n",
       "      <td>17.0</td>\n",
       "      <td>8</td>\n",
       "      <td>302.0</td>\n",
       "      <td>140.0</td>\n",
       "      <td>3449</td>\n",
       "      <td>10.5</td>\n",
       "      <td>70</td>\n",
       "      <td>1</td>\n",
       "      <td>ford torino</td>\n",
       "      <td>4.122173</td>\n",
       "      <td>1</td>\n",
       "      <td>2.732330</td>\n",
       "      <td>140.0</td>\n",
       "      <td>8.145840</td>\n",
       "      <td>3.903475</td>\n",
       "    </tr>\n",
       "  </tbody>\n",
       "</table>\n",
       "</div>"
      ],
      "text/plain": [
       "    mpg  cylinders  displacement  horsepower  weight  acceleration  \\\n",
       "0  18.0          8         307.0       130.0    3504          12.0   \n",
       "1  15.0          8         350.0       165.0    3693          11.5   \n",
       "2  18.0          8         318.0       150.0    3436          11.0   \n",
       "3  16.0          8         304.0       150.0    3433          12.0   \n",
       "4  17.0          8         302.0       140.0    3449          10.5   \n",
       "\n",
       "   model year  origin                   car name  Transformed_mpg  \\\n",
       "0          70       1  chevrolet chevelle malibu         4.239069   \n",
       "1          70       1          buick skylark 320         3.871959   \n",
       "2          70       1         plymouth satellite         4.239069   \n",
       "3          70       1              amc rebel sst         4.000000   \n",
       "4          70       1                ford torino         4.122173   \n",
       "\n",
       "   isCylindersEven  Transformed_displacement  Imputed_horsepower  \\\n",
       "0                1                  2.735284               130.0   \n",
       "1                1                  2.758346               165.0   \n",
       "2                1                  2.741567               150.0   \n",
       "3                1                  2.733519               150.0   \n",
       "4                1                  2.732330               140.0   \n",
       "\n",
       "   Transformed_weight  Transformed_acceleration  \n",
       "0            8.161660                  4.254800  \n",
       "1            8.214194                  4.140781  \n",
       "2            8.142063                  4.023747  \n",
       "3            8.141190                  4.254800  \n",
       "4            8.145840                  3.903475  "
      ]
     },
     "execution_count": 120,
     "metadata": {},
     "output_type": "execute_result"
    }
   ],
   "source": [
    "dataset.head()"
   ]
  },
  {
   "cell_type": "markdown",
   "id": "a8d27150",
   "metadata": {},
   "source": [
    "### Origin "
   ]
  },
  {
   "cell_type": "code",
   "execution_count": 121,
   "id": "95874c41",
   "metadata": {},
   "outputs": [
    {
     "data": {
      "text/plain": [
       "<AxesSubplot:xlabel='origin', ylabel='count'>"
      ]
     },
     "execution_count": 121,
     "metadata": {},
     "output_type": "execute_result"
    },
    {
     "data": {
      "image/png": "[encoded data removed]",
      "text/plain": [
       "<Figure size 432x288 with 1 Axes>"
      ]
     },
     "metadata": {
      "needs_background": "light"
     },
     "output_type": "display_data"
    }
   ],
   "source": [
    "sns.countplot(x='origin', data=dataset)"
   ]
  },
  {
   "cell_type": "code",
   "execution_count": 122,
   "id": "88445d1e",
   "metadata": {},
   "outputs": [
    {
     "data": {
      "text/html": [
       "<div>\n",
       "<style scoped>\n",
       "    .dataframe tbody tr th:only-of-type {\n",
       "        vertical-align: middle;\n",
       "    }\n",
       "\n",
       "    .dataframe tbody tr th {\n",
       "        vertical-align: top;\n",
       "    }\n",
       "\n",
       "    .dataframe thead th {\n",
       "        text-align: right;\n",
       "    }\n",
       "</style>\n",
       "<table border=\"1\" class=\"dataframe\">\n",
       "  <thead>\n",
       "    <tr style=\"text-align: right;\">\n",
       "      <th></th>\n",
       "      <th>mpg</th>\n",
       "      <th>cylinders</th>\n",
       "      <th>displacement</th>\n",
       "      <th>horsepower</th>\n",
       "      <th>weight</th>\n",
       "      <th>acceleration</th>\n",
       "      <th>model year</th>\n",
       "      <th>Transformed_mpg</th>\n",
       "      <th>isCylindersEven</th>\n",
       "      <th>Transformed_displacement</th>\n",
       "      <th>Imputed_horsepower</th>\n",
       "      <th>Transformed_weight</th>\n",
       "      <th>Transformed_acceleration</th>\n",
       "    </tr>\n",
       "    <tr>\n",
       "      <th>origin</th>\n",
       "      <th></th>\n",
       "      <th></th>\n",
       "      <th></th>\n",
       "      <th></th>\n",
       "      <th></th>\n",
       "      <th></th>\n",
       "      <th></th>\n",
       "      <th></th>\n",
       "      <th></th>\n",
       "      <th></th>\n",
       "      <th></th>\n",
       "      <th></th>\n",
       "      <th></th>\n",
       "    </tr>\n",
       "  </thead>\n",
       "  <tbody>\n",
       "    <tr>\n",
       "      <th>1</th>\n",
       "      <td>18.5</td>\n",
       "      <td>6.0</td>\n",
       "      <td>250.0</td>\n",
       "      <td>105.0</td>\n",
       "      <td>3365.0</td>\n",
       "      <td>15.0</td>\n",
       "      <td>76.0</td>\n",
       "      <td>4.295698</td>\n",
       "      <td>1.0</td>\n",
       "      <td>2.697275</td>\n",
       "      <td>105.0</td>\n",
       "      <td>8.121183</td>\n",
       "      <td>4.885442</td>\n",
       "    </tr>\n",
       "    <tr>\n",
       "      <th>2</th>\n",
       "      <td>26.5</td>\n",
       "      <td>4.0</td>\n",
       "      <td>104.5</td>\n",
       "      <td>76.5</td>\n",
       "      <td>2240.0</td>\n",
       "      <td>15.7</td>\n",
       "      <td>76.0</td>\n",
       "      <td>5.075216</td>\n",
       "      <td>1.0</td>\n",
       "      <td>2.507018</td>\n",
       "      <td>77.5</td>\n",
       "      <td>7.714228</td>\n",
       "      <td>5.021421</td>\n",
       "    </tr>\n",
       "    <tr>\n",
       "      <th>3</th>\n",
       "      <td>31.6</td>\n",
       "      <td>4.0</td>\n",
       "      <td>97.0</td>\n",
       "      <td>75.0</td>\n",
       "      <td>2155.0</td>\n",
       "      <td>16.4</td>\n",
       "      <td>78.0</td>\n",
       "      <td>5.483786</td>\n",
       "      <td>1.0</td>\n",
       "      <td>2.488352</td>\n",
       "      <td>75.0</td>\n",
       "      <td>7.675546</td>\n",
       "      <td>5.153808</td>\n",
       "    </tr>\n",
       "  </tbody>\n",
       "</table>\n",
       "</div>"
      ],
      "text/plain": [
       "         mpg  cylinders  displacement  horsepower  weight  acceleration  \\\n",
       "origin                                                                    \n",
       "1       18.5        6.0         250.0       105.0  3365.0          15.0   \n",
       "2       26.5        4.0         104.5        76.5  2240.0          15.7   \n",
       "3       31.6        4.0          97.0        75.0  2155.0          16.4   \n",
       "\n",
       "        model year  Transformed_mpg  isCylindersEven  \\\n",
       "origin                                                 \n",
       "1             76.0         4.295698              1.0   \n",
       "2             76.0         5.075216              1.0   \n",
       "3             78.0         5.483786              1.0   \n",
       "\n",
       "        Transformed_displacement  Imputed_horsepower  Transformed_weight  \\\n",
       "origin                                                                     \n",
       "1                       2.697275               105.0            8.121183   \n",
       "2                       2.507018                77.5            7.714228   \n",
       "3                       2.488352                75.0            7.675546   \n",
       "\n",
       "        Transformed_acceleration  \n",
       "origin                            \n",
       "1                       4.885442  \n",
       "2                       5.021421  \n",
       "3                       5.153808  "
      ]
     },
     "execution_count": 122,
     "metadata": {},
     "output_type": "execute_result"
    }
   ],
   "source": [
    "dataset.groupby(['origin']).median()"
   ]
  },
  {
   "cell_type": "markdown",
   "id": "70da5c93",
   "metadata": {},
   "source": [
    "### We can see as origin rises mpg rises"
   ]
  },
  {
   "cell_type": "markdown",
   "id": "726b6c1e",
   "metadata": {},
   "source": [
    "### car name feature"
   ]
  },
  {
   "cell_type": "code",
   "execution_count": 123,
   "id": "319a7d90",
   "metadata": {},
   "outputs": [
    {
     "data": {
      "text/plain": [
       "305"
      ]
     },
     "execution_count": 123,
     "metadata": {},
     "output_type": "execute_result"
    }
   ],
   "source": [
    "dataset['car name'].nunique()"
   ]
  },
  {
   "cell_type": "markdown",
   "id": "5f2d76f7",
   "metadata": {},
   "source": [
    "### Total no of car names are very high"
   ]
  },
  {
   "cell_type": "code",
   "execution_count": 124,
   "id": "d5844dff",
   "metadata": {},
   "outputs": [
    {
     "data": {
      "text/plain": [
       "array(['chevrolet chevelle malibu', 'buick skylark 320',\n",
       "       'plymouth satellite', 'amc rebel sst', 'ford torino',\n",
       "       'ford galaxie 500', 'chevrolet impala', 'plymouth fury iii',\n",
       "       'pontiac catalina', 'amc ambassador dpl', 'dodge challenger se',\n",
       "       \"plymouth 'cuda 340\", 'chevrolet monte carlo',\n",
       "       'buick estate wagon (sw)', 'toyota corona mark ii',\n",
       "       'plymouth duster', 'amc hornet', 'ford maverick', 'datsun pl510',\n",
       "       'volkswagen 1131 deluxe sedan', 'peugeot 504', 'audi 100 ls',\n",
       "       'saab 99e', 'bmw 2002', 'amc gremlin', 'ford f250', 'chevy c20',\n",
       "       'dodge d200', 'hi 1200d', 'chevrolet vega 2300', 'toyota corona',\n",
       "       'ford pinto', 'plymouth satellite custom', 'ford torino 500',\n",
       "       'amc matador', 'pontiac catalina brougham', 'dodge monaco (sw)',\n",
       "       'ford country squire (sw)', 'pontiac safari (sw)',\n",
       "       'amc hornet sportabout (sw)', 'chevrolet vega (sw)',\n",
       "       'pontiac firebird', 'ford mustang', 'mercury capri 2000',\n",
       "       'opel 1900', 'peugeot 304', 'fiat 124b', 'toyota corolla 1200',\n",
       "       'datsun 1200', 'volkswagen model 111', 'plymouth cricket',\n",
       "       'toyota corona hardtop', 'dodge colt hardtop', 'volkswagen type 3',\n",
       "       'chevrolet vega', 'ford pinto runabout', 'amc ambassador sst',\n",
       "       'mercury marquis', 'buick lesabre custom',\n",
       "       'oldsmobile delta 88 royale', 'chrysler newport royal',\n",
       "       'mazda rx2 coupe', 'amc matador (sw)',\n",
       "       'chevrolet chevelle concours (sw)', 'ford gran torino (sw)',\n",
       "       'plymouth satellite custom (sw)', 'volvo 145e (sw)',\n",
       "       'volkswagen 411 (sw)', 'peugeot 504 (sw)', 'renault 12 (sw)',\n",
       "       'ford pinto (sw)', 'datsun 510 (sw)',\n",
       "       'toyouta corona mark ii (sw)', 'dodge colt (sw)',\n",
       "       'toyota corolla 1600 (sw)', 'buick century 350',\n",
       "       'chevrolet malibu', 'ford gran torino', 'dodge coronet custom',\n",
       "       'mercury marquis brougham', 'chevrolet caprice classic',\n",
       "       'ford ltd', 'plymouth fury gran sedan',\n",
       "       'chrysler new yorker brougham', 'buick electra 225 custom',\n",
       "       'amc ambassador brougham', 'plymouth valiant',\n",
       "       'chevrolet nova custom', 'volkswagen super beetle', 'ford country',\n",
       "       'plymouth custom suburb', 'oldsmobile vista cruiser',\n",
       "       'toyota carina', 'datsun 610', 'maxda rx3', 'mercury capri v6',\n",
       "       'fiat 124 sport coupe', 'chevrolet monte carlo s',\n",
       "       'pontiac grand prix', 'fiat 128', 'opel manta', 'audi 100ls',\n",
       "       'volvo 144ea', 'dodge dart custom', 'saab 99le', 'toyota mark ii',\n",
       "       'oldsmobile omega', 'chevrolet nova', 'datsun b210',\n",
       "       'chevrolet chevelle malibu classic', 'plymouth satellite sebring',\n",
       "       'buick century luxus (sw)', 'dodge coronet custom (sw)',\n",
       "       'audi fox', 'volkswagen dasher', 'datsun 710', 'dodge colt',\n",
       "       'fiat 124 tc', 'honda civic', 'subaru', 'fiat x1.9',\n",
       "       'plymouth valiant custom', 'mercury monarch', 'chevrolet bel air',\n",
       "       'plymouth grand fury', 'buick century',\n",
       "       'chevroelt chevelle malibu', 'plymouth fury', 'buick skyhawk',\n",
       "       'chevrolet monza 2+2', 'ford mustang ii', 'toyota corolla',\n",
       "       'pontiac astro', 'volkswagen rabbit', 'amc pacer', 'volvo 244dl',\n",
       "       'honda civic cvcc', 'fiat 131', 'capri ii', 'renault 12tl',\n",
       "       'dodge coronet brougham', 'chevrolet chevette', 'chevrolet woody',\n",
       "       'vw rabbit', 'dodge aspen se', 'ford granada ghia',\n",
       "       'pontiac ventura sj', 'amc pacer d/l', 'datsun b-210', 'volvo 245',\n",
       "       'plymouth volare premier v8', 'mercedes-benz 280s',\n",
       "       'cadillac seville', 'chevy c10', 'ford f108', 'dodge d100',\n",
       "       'honda accord cvcc', 'buick opel isuzu deluxe', 'renault 5 gtl',\n",
       "       'plymouth arrow gs', 'datsun f-10 hatchback',\n",
       "       'oldsmobile cutlass supreme', 'dodge monaco brougham',\n",
       "       'mercury cougar brougham', 'chevrolet concours', 'buick skylark',\n",
       "       'plymouth volare custom', 'ford granada', 'pontiac grand prix lj',\n",
       "       'chevrolet monte carlo landau', 'chrysler cordoba',\n",
       "       'ford thunderbird', 'volkswagen rabbit custom',\n",
       "       'pontiac sunbird coupe', 'toyota corolla liftback',\n",
       "       'ford mustang ii 2+2', 'dodge colt m/m', 'subaru dl', 'datsun 810',\n",
       "       'bmw 320i', 'mazda rx-4', 'volkswagen rabbit custom diesel',\n",
       "       'ford fiesta', 'mazda glc deluxe', 'datsun b210 gx',\n",
       "       'oldsmobile cutlass salon brougham', 'dodge diplomat',\n",
       "       'mercury monarch ghia', 'pontiac phoenix lj',\n",
       "       'ford fairmont (auto)', 'ford fairmont (man)', 'plymouth volare',\n",
       "       'amc concord', 'buick century special', 'mercury zephyr',\n",
       "       'dodge aspen', 'amc concord d/l',\n",
       "       'buick regal sport coupe (turbo)', 'ford futura',\n",
       "       'dodge magnum xe', 'datsun 510', 'dodge omni',\n",
       "       'toyota celica gt liftback', 'plymouth sapporo',\n",
       "       'oldsmobile starfire sx', 'datsun 200-sx', 'audi 5000',\n",
       "       'volvo 264gl', 'saab 99gle', 'peugeot 604sl',\n",
       "       'volkswagen scirocco', 'honda accord lx', 'pontiac lemans v6',\n",
       "       'mercury zephyr 6', 'ford fairmont 4', 'amc concord dl 6',\n",
       "       'dodge aspen 6', 'ford ltd landau', 'mercury grand marquis',\n",
       "       'dodge st. regis', 'chevrolet malibu classic (sw)',\n",
       "       'chrysler lebaron town @ country (sw)', 'vw rabbit custom',\n",
       "       'maxda glc deluxe', 'dodge colt hatchback custom', 'amc spirit dl',\n",
       "       'mercedes benz 300d', 'cadillac eldorado', 'plymouth horizon',\n",
       "       'plymouth horizon tc3', 'datsun 210', 'fiat strada custom',\n",
       "       'buick skylark limited', 'chevrolet citation',\n",
       "       'oldsmobile omega brougham', 'pontiac phoenix',\n",
       "       'toyota corolla tercel', 'datsun 310', 'ford fairmont',\n",
       "       'audi 4000', 'toyota corona liftback', 'mazda 626',\n",
       "       'datsun 510 hatchback', 'mazda glc', 'vw rabbit c (diesel)',\n",
       "       'vw dasher (diesel)', 'audi 5000s (diesel)', 'mercedes-benz 240d',\n",
       "       'honda civic 1500 gl', 'renault lecar deluxe', 'vokswagen rabbit',\n",
       "       'datsun 280-zx', 'mazda rx-7 gs', 'triumph tr7 coupe',\n",
       "       'ford mustang cobra', 'honda accord', 'plymouth reliant',\n",
       "       'dodge aries wagon (sw)', 'toyota starlet', 'plymouth champ',\n",
       "       'honda civic 1300', 'datsun 210 mpg', 'toyota tercel',\n",
       "       'mazda glc 4', 'plymouth horizon 4', 'ford escort 4w',\n",
       "       'ford escort 2h', 'volkswagen jetta', 'renault 18i',\n",
       "       'honda prelude', 'datsun 200sx', 'peugeot 505s turbo diesel',\n",
       "       'volvo diesel', 'toyota cressida', 'datsun 810 maxima',\n",
       "       'oldsmobile cutlass ls', 'ford granada gl',\n",
       "       'chrysler lebaron salon', 'chevrolet cavalier',\n",
       "       'chevrolet cavalier wagon', 'chevrolet cavalier 2-door',\n",
       "       'pontiac j2000 se hatchback', 'dodge aries se',\n",
       "       'ford fairmont futura', 'amc concord dl', 'volkswagen rabbit l',\n",
       "       'mazda glc custom l', 'mazda glc custom', 'plymouth horizon miser',\n",
       "       'mercury lynx l', 'nissan stanza xe', 'honda civic (auto)',\n",
       "       'datsun 310 gx', 'buick century limited',\n",
       "       'oldsmobile cutlass ciera (diesel)', 'chrysler lebaron medallion',\n",
       "       'ford granada l', 'toyota celica gt', 'dodge charger 2.2',\n",
       "       'chevrolet camaro', 'ford mustang gl', 'vw pickup',\n",
       "       'dodge rampage', 'ford ranger', 'chevy s-10'], dtype=object)"
      ]
     },
     "execution_count": 124,
     "metadata": {},
     "output_type": "execute_result"
    }
   ],
   "source": [
    "dataset['car name'].unique()"
   ]
  },
  {
   "cell_type": "markdown",
   "id": "81070d0a",
   "metadata": {},
   "source": [
    "### Brand Feature from Car Name Feature"
   ]
  },
  {
   "cell_type": "code",
   "execution_count": 125,
   "id": "1583c695",
   "metadata": {},
   "outputs": [
    {
     "data": {
      "text/plain": [
       "37"
      ]
     },
     "execution_count": 125,
     "metadata": {},
     "output_type": "execute_result"
    }
   ],
   "source": [
    "dataset['brand name'] = dataset['car name'].apply(lambda x: x.split(' ')[0])\n",
    "\n",
    "dataset['brand name'].nunique()"
   ]
  },
  {
   "cell_type": "markdown",
   "id": "70c5ffad",
   "metadata": {},
   "source": [
    "### Brand Names are 37 only \n",
    "### Coverting to Numerical"
   ]
  },
  {
   "cell_type": "code",
   "execution_count": 126,
   "id": "9d1feb83",
   "metadata": {},
   "outputs": [
    {
     "data": {
      "text/html": [
       "<div>\n",
       "<style scoped>\n",
       "    .dataframe tbody tr th:only-of-type {\n",
       "        vertical-align: middle;\n",
       "    }\n",
       "\n",
       "    .dataframe tbody tr th {\n",
       "        vertical-align: top;\n",
       "    }\n",
       "\n",
       "    .dataframe thead th {\n",
       "        text-align: right;\n",
       "    }\n",
       "</style>\n",
       "<table border=\"1\" class=\"dataframe\">\n",
       "  <thead>\n",
       "    <tr style=\"text-align: right;\">\n",
       "      <th></th>\n",
       "      <th>mpg</th>\n",
       "      <th>cylinders</th>\n",
       "      <th>displacement</th>\n",
       "      <th>horsepower</th>\n",
       "      <th>weight</th>\n",
       "      <th>acceleration</th>\n",
       "      <th>model year</th>\n",
       "      <th>origin</th>\n",
       "      <th>car name</th>\n",
       "      <th>Transformed_mpg</th>\n",
       "      <th>isCylindersEven</th>\n",
       "      <th>Transformed_displacement</th>\n",
       "      <th>Imputed_horsepower</th>\n",
       "      <th>Transformed_weight</th>\n",
       "      <th>Transformed_acceleration</th>\n",
       "      <th>brand name</th>\n",
       "      <th>brand name numerical</th>\n",
       "    </tr>\n",
       "  </thead>\n",
       "  <tbody>\n",
       "    <tr>\n",
       "      <th>0</th>\n",
       "      <td>18.0</td>\n",
       "      <td>8</td>\n",
       "      <td>307.0</td>\n",
       "      <td>130.0</td>\n",
       "      <td>3504</td>\n",
       "      <td>12.0</td>\n",
       "      <td>70</td>\n",
       "      <td>1</td>\n",
       "      <td>chevrolet chevelle malibu</td>\n",
       "      <td>4.239069</td>\n",
       "      <td>1</td>\n",
       "      <td>2.735284</td>\n",
       "      <td>130.0</td>\n",
       "      <td>8.161660</td>\n",
       "      <td>4.254800</td>\n",
       "      <td>chevrolet</td>\n",
       "      <td>7</td>\n",
       "    </tr>\n",
       "    <tr>\n",
       "      <th>1</th>\n",
       "      <td>15.0</td>\n",
       "      <td>8</td>\n",
       "      <td>350.0</td>\n",
       "      <td>165.0</td>\n",
       "      <td>3693</td>\n",
       "      <td>11.5</td>\n",
       "      <td>70</td>\n",
       "      <td>1</td>\n",
       "      <td>buick skylark 320</td>\n",
       "      <td>3.871959</td>\n",
       "      <td>1</td>\n",
       "      <td>2.758346</td>\n",
       "      <td>165.0</td>\n",
       "      <td>8.214194</td>\n",
       "      <td>4.140781</td>\n",
       "      <td>buick</td>\n",
       "      <td>3</td>\n",
       "    </tr>\n",
       "    <tr>\n",
       "      <th>2</th>\n",
       "      <td>18.0</td>\n",
       "      <td>8</td>\n",
       "      <td>318.0</td>\n",
       "      <td>150.0</td>\n",
       "      <td>3436</td>\n",
       "      <td>11.0</td>\n",
       "      <td>70</td>\n",
       "      <td>1</td>\n",
       "      <td>plymouth satellite</td>\n",
       "      <td>4.239069</td>\n",
       "      <td>1</td>\n",
       "      <td>2.741567</td>\n",
       "      <td>150.0</td>\n",
       "      <td>8.142063</td>\n",
       "      <td>4.023747</td>\n",
       "      <td>plymouth</td>\n",
       "      <td>25</td>\n",
       "    </tr>\n",
       "    <tr>\n",
       "      <th>3</th>\n",
       "      <td>16.0</td>\n",
       "      <td>8</td>\n",
       "      <td>304.0</td>\n",
       "      <td>150.0</td>\n",
       "      <td>3433</td>\n",
       "      <td>12.0</td>\n",
       "      <td>70</td>\n",
       "      <td>1</td>\n",
       "      <td>amc rebel sst</td>\n",
       "      <td>4.000000</td>\n",
       "      <td>1</td>\n",
       "      <td>2.733519</td>\n",
       "      <td>150.0</td>\n",
       "      <td>8.141190</td>\n",
       "      <td>4.254800</td>\n",
       "      <td>amc</td>\n",
       "      <td>0</td>\n",
       "    </tr>\n",
       "    <tr>\n",
       "      <th>4</th>\n",
       "      <td>17.0</td>\n",
       "      <td>8</td>\n",
       "      <td>302.0</td>\n",
       "      <td>140.0</td>\n",
       "      <td>3449</td>\n",
       "      <td>10.5</td>\n",
       "      <td>70</td>\n",
       "      <td>1</td>\n",
       "      <td>ford torino</td>\n",
       "      <td>4.122173</td>\n",
       "      <td>1</td>\n",
       "      <td>2.732330</td>\n",
       "      <td>140.0</td>\n",
       "      <td>8.145840</td>\n",
       "      <td>3.903475</td>\n",
       "      <td>ford</td>\n",
       "      <td>13</td>\n",
       "    </tr>\n",
       "  </tbody>\n",
       "</table>\n",
       "</div>"
      ],
      "text/plain": [
       "    mpg  cylinders  displacement  horsepower  weight  acceleration  \\\n",
       "0  18.0          8         307.0       130.0    3504          12.0   \n",
       "1  15.0          8         350.0       165.0    3693          11.5   \n",
       "2  18.0          8         318.0       150.0    3436          11.0   \n",
       "3  16.0          8         304.0       150.0    3433          12.0   \n",
       "4  17.0          8         302.0       140.0    3449          10.5   \n",
       "\n",
       "   model year  origin                   car name  Transformed_mpg  \\\n",
       "0          70       1  chevrolet chevelle malibu         4.239069   \n",
       "1          70       1          buick skylark 320         3.871959   \n",
       "2          70       1         plymouth satellite         4.239069   \n",
       "3          70       1              amc rebel sst         4.000000   \n",
       "4          70       1                ford torino         4.122173   \n",
       "\n",
       "   isCylindersEven  Transformed_displacement  Imputed_horsepower  \\\n",
       "0                1                  2.735284               130.0   \n",
       "1                1                  2.758346               165.0   \n",
       "2                1                  2.741567               150.0   \n",
       "3                1                  2.733519               150.0   \n",
       "4                1                  2.732330               140.0   \n",
       "\n",
       "   Transformed_weight  Transformed_acceleration brand name  \\\n",
       "0            8.161660                  4.254800  chevrolet   \n",
       "1            8.214194                  4.140781      buick   \n",
       "2            8.142063                  4.023747   plymouth   \n",
       "3            8.141190                  4.254800        amc   \n",
       "4            8.145840                  3.903475       ford   \n",
       "\n",
       "   brand name numerical  \n",
       "0                     7  \n",
       "1                     3  \n",
       "2                    25  \n",
       "3                     0  \n",
       "4                    13  "
      ]
     },
     "execution_count": 126,
     "metadata": {},
     "output_type": "execute_result"
    }
   ],
   "source": [
    "from sklearn.preprocessing import LabelEncoder, OneHotEncoder\n",
    "\n",
    "encoder = LabelEncoder()\n",
    "\n",
    "dataset['brand name numerical'] = encoder.fit_transform(dataset['brand name'])\n",
    "\n",
    "dataset.head()"
   ]
  },
  {
   "cell_type": "markdown",
   "id": "169e72d8",
   "metadata": {},
   "source": [
    "### Correlation Matrix"
   ]
  },
  {
   "cell_type": "code",
   "execution_count": 127,
   "id": "48dc43e6",
   "metadata": {},
   "outputs": [
    {
     "data": {
      "text/plain": [
       "<AxesSubplot:>"
      ]
     },
     "execution_count": 127,
     "metadata": {},
     "output_type": "execute_result"
    },
    {
     "data": {
      "image/png": "[encoded data removed]",
      "text/plain": [
       "<Figure size 432x288 with 2 Axes>"
      ]
     },
     "metadata": {
      "needs_background": "light"
     },
     "output_type": "display_data"
    }
   ],
   "source": [
    "sns.heatmap(dataset.corr())"
   ]
  },
  {
   "cell_type": "code",
   "execution_count": 128,
   "id": "ad0f2d4c",
   "metadata": {},
   "outputs": [
    {
     "data": {
      "text/html": [
       "<div>\n",
       "<style scoped>\n",
       "    .dataframe tbody tr th:only-of-type {\n",
       "        vertical-align: middle;\n",
       "    }\n",
       "\n",
       "    .dataframe tbody tr th {\n",
       "        vertical-align: top;\n",
       "    }\n",
       "\n",
       "    .dataframe thead th {\n",
       "        text-align: right;\n",
       "    }\n",
       "</style>\n",
       "<table border=\"1\" class=\"dataframe\">\n",
       "  <thead>\n",
       "    <tr style=\"text-align: right;\">\n",
       "      <th></th>\n",
       "      <th>mpg</th>\n",
       "      <th>cylinders</th>\n",
       "      <th>displacement</th>\n",
       "      <th>horsepower</th>\n",
       "      <th>weight</th>\n",
       "      <th>acceleration</th>\n",
       "      <th>model year</th>\n",
       "      <th>origin</th>\n",
       "      <th>Transformed_mpg</th>\n",
       "      <th>isCylindersEven</th>\n",
       "      <th>Transformed_displacement</th>\n",
       "      <th>Imputed_horsepower</th>\n",
       "      <th>Transformed_weight</th>\n",
       "      <th>Transformed_acceleration</th>\n",
       "      <th>brand name numerical</th>\n",
       "    </tr>\n",
       "  </thead>\n",
       "  <tbody>\n",
       "    <tr>\n",
       "      <th>mpg</th>\n",
       "      <td>1.000000</td>\n",
       "      <td>-0.775396</td>\n",
       "      <td>-0.804203</td>\n",
       "      <td>-0.778427</td>\n",
       "      <td>-0.831741</td>\n",
       "      <td>0.420289</td>\n",
       "      <td>0.579267</td>\n",
       "      <td>0.563450</td>\n",
       "      <td>0.990912</td>\n",
       "      <td>0.000740</td>\n",
       "      <td>-0.828192</td>\n",
       "      <td>-0.773453</td>\n",
       "      <td>-0.843979</td>\n",
       "      <td>0.429257</td>\n",
       "      <td>0.283746</td>\n",
       "    </tr>\n",
       "    <tr>\n",
       "      <th>cylinders</th>\n",
       "      <td>-0.775396</td>\n",
       "      <td>1.000000</td>\n",
       "      <td>0.950721</td>\n",
       "      <td>0.842983</td>\n",
       "      <td>0.896017</td>\n",
       "      <td>-0.505419</td>\n",
       "      <td>-0.348746</td>\n",
       "      <td>-0.562543</td>\n",
       "      <td>-0.816255</td>\n",
       "      <td>0.125828</td>\n",
       "      <td>0.929791</td>\n",
       "      <td>0.841284</td>\n",
       "      <td>0.882085</td>\n",
       "      <td>-0.523330</td>\n",
       "      <td>-0.278897</td>\n",
       "    </tr>\n",
       "    <tr>\n",
       "      <th>displacement</th>\n",
       "      <td>-0.804203</td>\n",
       "      <td>0.950721</td>\n",
       "      <td>1.000000</td>\n",
       "      <td>0.897257</td>\n",
       "      <td>0.932824</td>\n",
       "      <td>-0.543684</td>\n",
       "      <td>-0.370164</td>\n",
       "      <td>-0.609409</td>\n",
       "      <td>-0.844299</td>\n",
       "      <td>0.115448</td>\n",
       "      <td>0.965254</td>\n",
       "      <td>0.895778</td>\n",
       "      <td>0.918805</td>\n",
       "      <td>-0.566746</td>\n",
       "      <td>-0.295731</td>\n",
       "    </tr>\n",
       "    <tr>\n",
       "      <th>horsepower</th>\n",
       "      <td>-0.778427</td>\n",
       "      <td>0.842983</td>\n",
       "      <td>0.897257</td>\n",
       "      <td>1.000000</td>\n",
       "      <td>0.864538</td>\n",
       "      <td>-0.689196</td>\n",
       "      <td>-0.416361</td>\n",
       "      <td>-0.455171</td>\n",
       "      <td>-0.819416</td>\n",
       "      <td>0.043738</td>\n",
       "      <td>0.836846</td>\n",
       "      <td>1.000000</td>\n",
       "      <td>0.845609</td>\n",
       "      <td>-0.709928</td>\n",
       "      <td>-0.234682</td>\n",
       "    </tr>\n",
       "    <tr>\n",
       "      <th>weight</th>\n",
       "      <td>-0.831741</td>\n",
       "      <td>0.896017</td>\n",
       "      <td>0.932824</td>\n",
       "      <td>0.864538</td>\n",
       "      <td>1.000000</td>\n",
       "      <td>-0.417457</td>\n",
       "      <td>-0.306564</td>\n",
       "      <td>-0.581024</td>\n",
       "      <td>-0.867517</td>\n",
       "      <td>0.042691</td>\n",
       "      <td>0.929884</td>\n",
       "      <td>0.862442</td>\n",
       "      <td>0.991420</td>\n",
       "      <td>-0.433712</td>\n",
       "      <td>-0.258764</td>\n",
       "    </tr>\n",
       "    <tr>\n",
       "      <th>acceleration</th>\n",
       "      <td>0.420289</td>\n",
       "      <td>-0.505419</td>\n",
       "      <td>-0.543684</td>\n",
       "      <td>-0.689196</td>\n",
       "      <td>-0.417457</td>\n",
       "      <td>1.000000</td>\n",
       "      <td>0.288137</td>\n",
       "      <td>0.205873</td>\n",
       "      <td>0.440561</td>\n",
       "      <td>0.000532</td>\n",
       "      <td>-0.480987</td>\n",
       "      <td>-0.686590</td>\n",
       "      <td>-0.401921</td>\n",
       "      <td>0.996644</td>\n",
       "      <td>0.136420</td>\n",
       "    </tr>\n",
       "    <tr>\n",
       "      <th>model year</th>\n",
       "      <td>0.579267</td>\n",
       "      <td>-0.348746</td>\n",
       "      <td>-0.370164</td>\n",
       "      <td>-0.416361</td>\n",
       "      <td>-0.306564</td>\n",
       "      <td>0.288137</td>\n",
       "      <td>1.000000</td>\n",
       "      <td>0.180662</td>\n",
       "      <td>0.578609</td>\n",
       "      <td>-0.035867</td>\n",
       "      <td>-0.314478</td>\n",
       "      <td>-0.413733</td>\n",
       "      <td>-0.284009</td>\n",
       "      <td>0.302119</td>\n",
       "      <td>0.076217</td>\n",
       "    </tr>\n",
       "    <tr>\n",
       "      <th>origin</th>\n",
       "      <td>0.563450</td>\n",
       "      <td>-0.562543</td>\n",
       "      <td>-0.609409</td>\n",
       "      <td>-0.455171</td>\n",
       "      <td>-0.581024</td>\n",
       "      <td>0.205873</td>\n",
       "      <td>0.180662</td>\n",
       "      <td>1.000000</td>\n",
       "      <td>0.561793</td>\n",
       "      <td>-0.166793</td>\n",
       "      <td>-0.678687</td>\n",
       "      <td>-0.452096</td>\n",
       "      <td>-0.604883</td>\n",
       "      <td>0.215522</td>\n",
       "      <td>0.362646</td>\n",
       "    </tr>\n",
       "    <tr>\n",
       "      <th>Transformed_mpg</th>\n",
       "      <td>0.990912</td>\n",
       "      <td>-0.816255</td>\n",
       "      <td>-0.844299</td>\n",
       "      <td>-0.819416</td>\n",
       "      <td>-0.867517</td>\n",
       "      <td>0.440561</td>\n",
       "      <td>0.578609</td>\n",
       "      <td>0.561793</td>\n",
       "      <td>1.000000</td>\n",
       "      <td>-0.008034</td>\n",
       "      <td>-0.851411</td>\n",
       "      <td>-0.815694</td>\n",
       "      <td>-0.869943</td>\n",
       "      <td>0.451949</td>\n",
       "      <td>0.279374</td>\n",
       "    </tr>\n",
       "    <tr>\n",
       "      <th>isCylindersEven</th>\n",
       "      <td>0.000740</td>\n",
       "      <td>0.125828</td>\n",
       "      <td>0.115448</td>\n",
       "      <td>0.043738</td>\n",
       "      <td>0.042691</td>\n",
       "      <td>0.000532</td>\n",
       "      <td>-0.035867</td>\n",
       "      <td>-0.166793</td>\n",
       "      <td>-0.008034</td>\n",
       "      <td>1.000000</td>\n",
       "      <td>0.147370</td>\n",
       "      <td>0.043125</td>\n",
       "      <td>0.032526</td>\n",
       "      <td>0.001207</td>\n",
       "      <td>0.045010</td>\n",
       "    </tr>\n",
       "    <tr>\n",
       "      <th>Transformed_displacement</th>\n",
       "      <td>-0.828192</td>\n",
       "      <td>0.929791</td>\n",
       "      <td>0.965254</td>\n",
       "      <td>0.836846</td>\n",
       "      <td>0.929884</td>\n",
       "      <td>-0.480987</td>\n",
       "      <td>-0.314478</td>\n",
       "      <td>-0.678687</td>\n",
       "      <td>-0.851411</td>\n",
       "      <td>0.147370</td>\n",
       "      <td>1.000000</td>\n",
       "      <td>0.834384</td>\n",
       "      <td>0.942440</td>\n",
       "      <td>-0.497033</td>\n",
       "      <td>-0.329273</td>\n",
       "    </tr>\n",
       "    <tr>\n",
       "      <th>Imputed_horsepower</th>\n",
       "      <td>-0.773453</td>\n",
       "      <td>0.841284</td>\n",
       "      <td>0.895778</td>\n",
       "      <td>1.000000</td>\n",
       "      <td>0.862442</td>\n",
       "      <td>-0.686590</td>\n",
       "      <td>-0.413733</td>\n",
       "      <td>-0.452096</td>\n",
       "      <td>-0.815694</td>\n",
       "      <td>0.043125</td>\n",
       "      <td>0.834384</td>\n",
       "      <td>1.000000</td>\n",
       "      <td>0.842583</td>\n",
       "      <td>-0.707517</td>\n",
       "      <td>-0.232887</td>\n",
       "    </tr>\n",
       "    <tr>\n",
       "      <th>Transformed_weight</th>\n",
       "      <td>-0.843979</td>\n",
       "      <td>0.882085</td>\n",
       "      <td>0.918805</td>\n",
       "      <td>0.845609</td>\n",
       "      <td>0.991420</td>\n",
       "      <td>-0.401921</td>\n",
       "      <td>-0.284009</td>\n",
       "      <td>-0.604883</td>\n",
       "      <td>-0.869943</td>\n",
       "      <td>0.032526</td>\n",
       "      <td>0.942440</td>\n",
       "      <td>0.842583</td>\n",
       "      <td>1.000000</td>\n",
       "      <td>-0.417328</td>\n",
       "      <td>-0.278462</td>\n",
       "    </tr>\n",
       "    <tr>\n",
       "      <th>Transformed_acceleration</th>\n",
       "      <td>0.429257</td>\n",
       "      <td>-0.523330</td>\n",
       "      <td>-0.566746</td>\n",
       "      <td>-0.709928</td>\n",
       "      <td>-0.433712</td>\n",
       "      <td>0.996644</td>\n",
       "      <td>0.302119</td>\n",
       "      <td>0.215522</td>\n",
       "      <td>0.451949</td>\n",
       "      <td>0.001207</td>\n",
       "      <td>-0.497033</td>\n",
       "      <td>-0.707517</td>\n",
       "      <td>-0.417328</td>\n",
       "      <td>1.000000</td>\n",
       "      <td>0.132175</td>\n",
       "    </tr>\n",
       "    <tr>\n",
       "      <th>brand name numerical</th>\n",
       "      <td>0.283746</td>\n",
       "      <td>-0.278897</td>\n",
       "      <td>-0.295731</td>\n",
       "      <td>-0.234682</td>\n",
       "      <td>-0.258764</td>\n",
       "      <td>0.136420</td>\n",
       "      <td>0.076217</td>\n",
       "      <td>0.362646</td>\n",
       "      <td>0.279374</td>\n",
       "      <td>0.045010</td>\n",
       "      <td>-0.329273</td>\n",
       "      <td>-0.232887</td>\n",
       "      <td>-0.278462</td>\n",
       "      <td>0.132175</td>\n",
       "      <td>1.000000</td>\n",
       "    </tr>\n",
       "  </tbody>\n",
       "</table>\n",
       "</div>"
      ],
      "text/plain": [
       "                               mpg  cylinders  displacement  horsepower  \\\n",
       "mpg                       1.000000  -0.775396     -0.804203   -0.778427   \n",
       "cylinders                -0.775396   1.000000      0.950721    0.842983   \n",
       "displacement             -0.804203   0.950721      1.000000    0.897257   \n",
       "horsepower               -0.778427   0.842983      0.897257    1.000000   \n",
       "weight                   -0.831741   0.896017      0.932824    0.864538   \n",
       "acceleration              0.420289  -0.505419     -0.543684   -0.689196   \n",
       "model year                0.579267  -0.348746     -0.370164   -0.416361   \n",
       "origin                    0.563450  -0.562543     -0.609409   -0.455171   \n",
       "Transformed_mpg           0.990912  -0.816255     -0.844299   -0.819416   \n",
       "isCylindersEven           0.000740   0.125828      0.115448    0.043738   \n",
       "Transformed_displacement -0.828192   0.929791      0.965254    0.836846   \n",
       "Imputed_horsepower       -0.773453   0.841284      0.895778    1.000000   \n",
       "Transformed_weight       -0.843979   0.882085      0.918805    0.845609   \n",
       "Transformed_acceleration  0.429257  -0.523330     -0.566746   -0.709928   \n",
       "brand name numerical      0.283746  -0.278897     -0.295731   -0.234682   \n",
       "\n",
       "                            weight  acceleration  model year    origin  \\\n",
       "mpg                      -0.831741      0.420289    0.579267  0.563450   \n",
       "cylinders                 0.896017     -0.505419   -0.348746 -0.562543   \n",
       "displacement              0.932824     -0.543684   -0.370164 -0.609409   \n",
       "horsepower                0.864538     -0.689196   -0.416361 -0.455171   \n",
       "weight                    1.000000     -0.417457   -0.306564 -0.581024   \n",
       "acceleration             -0.417457      1.000000    0.288137  0.205873   \n",
       "model year               -0.306564      0.288137    1.000000  0.180662   \n",
       "origin                   -0.581024      0.205873    0.180662  1.000000   \n",
       "Transformed_mpg          -0.867517      0.440561    0.578609  0.561793   \n",
       "isCylindersEven           0.042691      0.000532   -0.035867 -0.166793   \n",
       "Transformed_displacement  0.929884     -0.480987   -0.314478 -0.678687   \n",
       "Imputed_horsepower        0.862442     -0.686590   -0.413733 -0.452096   \n",
       "Transformed_weight        0.991420     -0.401921   -0.284009 -0.604883   \n",
       "Transformed_acceleration -0.433712      0.996644    0.302119  0.215522   \n",
       "brand name numerical     -0.258764      0.136420    0.076217  0.362646   \n",
       "\n",
       "                          Transformed_mpg  isCylindersEven  \\\n",
       "mpg                              0.990912         0.000740   \n",
       "cylinders                       -0.816255         0.125828   \n",
       "displacement                    -0.844299         0.115448   \n",
       "horsepower                      -0.819416         0.043738   \n",
       "weight                          -0.867517         0.042691   \n",
       "acceleration                     0.440561         0.000532   \n",
       "model year                       0.578609        -0.035867   \n",
       "origin                           0.561793        -0.166793   \n",
       "Transformed_mpg                  1.000000        -0.008034   \n",
       "isCylindersEven                 -0.008034         1.000000   \n",
       "Transformed_displacement        -0.851411         0.147370   \n",
       "Imputed_horsepower              -0.815694         0.043125   \n",
       "Transformed_weight              -0.869943         0.032526   \n",
       "Transformed_acceleration         0.451949         0.001207   \n",
       "brand name numerical             0.279374         0.045010   \n",
       "\n",
       "                          Transformed_displacement  Imputed_horsepower  \\\n",
       "mpg                                      -0.828192           -0.773453   \n",
       "cylinders                                 0.929791            0.841284   \n",
       "displacement                              0.965254            0.895778   \n",
       "horsepower                                0.836846            1.000000   \n",
       "weight                                    0.929884            0.862442   \n",
       "acceleration                             -0.480987           -0.686590   \n",
       "model year                               -0.314478           -0.413733   \n",
       "origin                                   -0.678687           -0.452096   \n",
       "Transformed_mpg                          -0.851411           -0.815694   \n",
       "isCylindersEven                           0.147370            0.043125   \n",
       "Transformed_displacement                  1.000000            0.834384   \n",
       "Imputed_horsepower                        0.834384            1.000000   \n",
       "Transformed_weight                        0.942440            0.842583   \n",
       "Transformed_acceleration                 -0.497033           -0.707517   \n",
       "brand name numerical                     -0.329273           -0.232887   \n",
       "\n",
       "                          Transformed_weight  Transformed_acceleration  \\\n",
       "mpg                                -0.843979                  0.429257   \n",
       "cylinders                           0.882085                 -0.523330   \n",
       "displacement                        0.918805                 -0.566746   \n",
       "horsepower                          0.845609                 -0.709928   \n",
       "weight                              0.991420                 -0.433712   \n",
       "acceleration                       -0.401921                  0.996644   \n",
       "model year                         -0.284009                  0.302119   \n",
       "origin                             -0.604883                  0.215522   \n",
       "Transformed_mpg                    -0.869943                  0.451949   \n",
       "isCylindersEven                     0.032526                  0.001207   \n",
       "Transformed_displacement            0.942440                 -0.497033   \n",
       "Imputed_horsepower                  0.842583                 -0.707517   \n",
       "Transformed_weight                  1.000000                 -0.417328   \n",
       "Transformed_acceleration           -0.417328                  1.000000   \n",
       "brand name numerical               -0.278462                  0.132175   \n",
       "\n",
       "                          brand name numerical  \n",
       "mpg                                   0.283746  \n",
       "cylinders                            -0.278897  \n",
       "displacement                         -0.295731  \n",
       "horsepower                           -0.234682  \n",
       "weight                               -0.258764  \n",
       "acceleration                          0.136420  \n",
       "model year                            0.076217  \n",
       "origin                                0.362646  \n",
       "Transformed_mpg                       0.279374  \n",
       "isCylindersEven                       0.045010  \n",
       "Transformed_displacement             -0.329273  \n",
       "Imputed_horsepower                   -0.232887  \n",
       "Transformed_weight                   -0.278462  \n",
       "Transformed_acceleration              0.132175  \n",
       "brand name numerical                  1.000000  "
      ]
     },
     "execution_count": 128,
     "metadata": {},
     "output_type": "execute_result"
    }
   ],
   "source": [
    "dataset.corr()"
   ]
  },
  {
   "cell_type": "markdown",
   "id": "b5f4cf97",
   "metadata": {},
   "source": [
    "### Preparing Modelling Dataset"
   ]
  },
  {
   "cell_type": "code",
   "execution_count": 129,
   "id": "4137745e",
   "metadata": {},
   "outputs": [],
   "source": [
    "transformed_features = [\n",
    "    'Transformed_mpg', 'cylinders', 'isCylindersEven', 'Transformed_displacement',\n",
    "    'Imputed_horsepower', 'Transformed_weight', 'Transformed_acceleration',\n",
    "    'model year', 'origin', 'brand name numerical'\n",
    "]\n",
    "\n",
    "transformed_features_modelling_dataset = dataset[transformed_features]"
   ]
  },
  {
   "cell_type": "markdown",
   "id": "d2b0d0f6",
   "metadata": {},
   "source": [
    "### Train Test Split Dataset"
   ]
  },
  {
   "cell_type": "code",
   "execution_count": 130,
   "id": "30b552ef",
   "metadata": {},
   "outputs": [],
   "source": [
    "from sklearn.model_selection import train_test_split\n",
    "\n",
    "X_train, X_test, y_train, y_test = train_test_split(transformed_features_modelling_dataset.drop('Transformed_mpg', axis=1),\n",
    "                                                    transformed_features_modelling_dataset['Transformed_mpg'], test_size=0.2, random_state=42)"
   ]
  },
  {
   "cell_type": "code",
   "execution_count": 131,
   "id": "cd9f37c4",
   "metadata": {},
   "outputs": [],
   "source": [
    "from sklearn.linear_model import LinearRegression\n",
    "\n",
    "reg = LinearRegression().fit(X_train, y_train)"
   ]
  },
  {
   "cell_type": "markdown",
   "id": "0bde3526",
   "metadata": {},
   "source": [
    "### Model Evaluation"
   ]
  },
  {
   "cell_type": "code",
   "execution_count": 132,
   "id": "785c937c",
   "metadata": {},
   "outputs": [
    {
     "name": "stdout",
     "output_type": "stream",
     "text": [
      "Mean Square Error ==> 5.777109538500602\n"
     ]
    }
   ],
   "source": [
    "from sklearn.metrics import mean_squared_error\n",
    "\n",
    "preds = reg.predict(X_test)\n",
    "\n",
    "actual_preds = inv_boxcox(preds, mpg_boxcox_value)\n",
    "\n",
    "actual_values = inv_boxcox(y_test, mpg_boxcox_value)\n",
    "\n",
    "mse = mean_squared_error(actual_preds, actual_values)\n",
    "\n",
    "print(f'Mean Square Error ==> {mse}')"
   ]
  },
  {
   "cell_type": "markdown",
   "id": "f9716061",
   "metadata": {},
   "source": [
    "### Conclusion\n",
    "\n",
    "### Used linear regression to predict mpg of cars.\n",
    "### Many features in the dataset were highly skewed and to reduce their behaviour as outliers I scaled them.\n",
    "### Finally used correlation matrix to identify the relationsips among the features."
   ]
  },
  {
   "cell_type": "markdown",
   "id": "e05d047d",
   "metadata": {},
   "source": [
    "### References\n",
    "\n",
    "1. [Car Mpg Dataset](https://www.kaggle.com/uciml/autompg-dataset)\n",
    "2. [Skewed Data Impact](https://towardsdatascience.com/skewed-data-a-problem-to-your-statistical-model-9a6b5bb74e37#:~:text=Effects%20of%20skewness&text=If%20there%20are%20too%20much,don't%20work%20but%20why.&text=So%20in%20skewed%20data%2C%20the,performance%20especially%20regression%2Dbased%20models.)\n",
    "3. [Sklearn Python Package](https://scikit-learn.org/stable/index.html)"
   ]
  }
 ],
 "metadata": {
  "kernelspec": {
   "display_name": "Python 3 (ipykernel)",
   "language": "python",
   "name": "python3"
  },
  "language_info": {
   "codemirror_mode": {
    "name": "ipython",
    "version": 3
   },
   "file_extension": ".py",
   "mimetype": "text/x-python",
   "name": "python",
   "nbconvert_exporter": "python",
   "pygments_lexer": "ipython3",
   "version": "3.9.7"
  }
 },
 "nbformat": 4,
 "nbformat_minor": 5
}
